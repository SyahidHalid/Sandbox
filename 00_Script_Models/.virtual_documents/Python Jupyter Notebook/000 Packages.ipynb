import openpyxl
import pandasql
import pyxlsb
import pandas as pd
import numpy as np
import sqlite3
import openpyxl
import matplotlib
import textblob
import vaderSentiment
import lxml
import sklearn
import statsmodels
import seaborn

#import scikit
#import NLTK
#import selenium
#import beautifulsoup4


import openpyxl








LoanBase = pd.read_excel(r'C:\Users\syahidhalid\OneDrive - Export-Import Bank of Malaysia (EXIM Bank)\Desktop\Work\00 SYAHIRAH\CSP 2024\Working\LOAN BASE\Loan Database 2019 until June 2023.xlsx', header=2)


LoanBase.head(1)


LoanBase.describe()


A = LoanBase.iloc[np.where(~(LoanBase['No.'].isna()))]


A.head(1)



