{
 "cells": [
  {
   "cell_type": "markdown",
   "id": "04b074ce",
   "metadata": {},
   "source": [
    "# Credit Card Customer Churn Prediction"
   ]
  },
  {
   "cell_type": "markdown",
   "id": "f102c665",
   "metadata": {},
   "source": [
    "https://www.kaggle.com/code/kaushikmajumder/credit-card-customer-churn-prediction#notebook-container"
   ]
  },
  {
   "cell_type": "code",
   "execution_count": 1,
   "id": "0157f103",
   "metadata": {},
   "outputs": [
    {
     "name": "stdout",
     "output_type": "stream",
     "text": [
      "Collecting lightgbm\n",
      "  Downloading lightgbm-4.1.0-py3-none-win_amd64.whl (1.3 MB)\n",
      "                                              0.0/1.3 MB ? eta -:--:--\n",
      "     --                                       0.1/1.3 MB 2.3 MB/s eta 0:00:01\n",
      "     --                                       0.1/1.3 MB 1.7 MB/s eta 0:00:01\n",
      "     ------                                   0.2/1.3 MB 1.7 MB/s eta 0:00:01\n",
      "     ---------                                0.3/1.3 MB 1.8 MB/s eta 0:00:01\n",
      "     -------------                            0.5/1.3 MB 2.2 MB/s eta 0:00:01\n",
      "     ------------------                       0.6/1.3 MB 2.2 MB/s eta 0:00:01\n",
      "     ------------------                       0.6/1.3 MB 2.2 MB/s eta 0:00:01\n",
      "     ----------------------                   0.7/1.3 MB 2.2 MB/s eta 0:00:01\n",
      "     -----------------------                  0.8/1.3 MB 2.0 MB/s eta 0:00:01\n",
      "     -----------------------                  0.8/1.3 MB 2.0 MB/s eta 0:00:01\n",
      "     ---------------------------              0.9/1.3 MB 2.0 MB/s eta 0:00:01\n",
      "     ---------------------------              0.9/1.3 MB 2.0 MB/s eta 0:00:01\n",
      "     -------------------------------          1.0/1.3 MB 1.8 MB/s eta 0:00:01\n",
      "     -----------------------------------      1.2/1.3 MB 1.9 MB/s eta 0:00:01\n",
      "     ---------------------------------------  1.3/1.3 MB 2.0 MB/s eta 0:00:01\n",
      "     ---------------------------------------- 1.3/1.3 MB 1.9 MB/s eta 0:00:00\n",
      "Requirement already satisfied: numpy in c:\\users\\syahidhalid\\appdata\\local\\anaconda3\\lib\\site-packages (from lightgbm) (1.24.3)\n",
      "Requirement already satisfied: scipy in c:\\users\\syahidhalid\\appdata\\local\\anaconda3\\lib\\site-packages (from lightgbm) (1.10.1)\n",
      "Installing collected packages: lightgbm\n",
      "Successfully installed lightgbm-4.1.0\n"
     ]
    },
    {
     "ename": "ImportError",
     "evalue": "cannot import name 'plot_confusion_matrix' from 'sklearn.metrics' (C:\\Users\\syahidhalid\\AppData\\Local\\anaconda3\\Lib\\site-packages\\sklearn\\metrics\\__init__.py)",
     "output_type": "error",
     "traceback": [
      "\u001b[1;31m---------------------------------------------------------------------------\u001b[0m",
      "\u001b[1;31mImportError\u001b[0m                               Traceback (most recent call last)",
      "Cell \u001b[1;32mIn[1], line 32\u001b[0m\n\u001b[0;32m     30\u001b[0m \u001b[38;5;28;01mfrom\u001b[39;00m \u001b[38;5;21;01msklearn\u001b[39;00m \u001b[38;5;28;01mimport\u001b[39;00m metrics\n\u001b[0;32m     31\u001b[0m \u001b[38;5;28;01mfrom\u001b[39;00m \u001b[38;5;21;01msklearn\u001b[39;00m\u001b[38;5;21;01m.\u001b[39;00m\u001b[38;5;21;01mmodel_selection\u001b[39;00m \u001b[38;5;28;01mimport\u001b[39;00m train_test_split, StratifiedKFold, cross_val_score\n\u001b[1;32m---> 32\u001b[0m \u001b[38;5;28;01mfrom\u001b[39;00m \u001b[38;5;21;01msklearn\u001b[39;00m\u001b[38;5;21;01m.\u001b[39;00m\u001b[38;5;21;01mmetrics\u001b[39;00m \u001b[38;5;28;01mimport\u001b[39;00m (\n\u001b[0;32m     33\u001b[0m     f1_score,\n\u001b[0;32m     34\u001b[0m     accuracy_score,\n\u001b[0;32m     35\u001b[0m     recall_score,\n\u001b[0;32m     36\u001b[0m     precision_score,\n\u001b[0;32m     37\u001b[0m     confusion_matrix,\n\u001b[0;32m     38\u001b[0m     roc_auc_score,\n\u001b[0;32m     39\u001b[0m     plot_confusion_matrix,\n\u001b[0;32m     40\u001b[0m     plot_roc_curve,\n\u001b[0;32m     41\u001b[0m )\n\u001b[0;32m     43\u001b[0m \u001b[38;5;66;03m# To be used for data scaling and encoding\u001b[39;00m\n\u001b[0;32m     44\u001b[0m \u001b[38;5;28;01mfrom\u001b[39;00m \u001b[38;5;21;01msklearn\u001b[39;00m\u001b[38;5;21;01m.\u001b[39;00m\u001b[38;5;21;01mpreprocessing\u001b[39;00m \u001b[38;5;28;01mimport\u001b[39;00m (\n\u001b[0;32m     45\u001b[0m     StandardScaler,\n\u001b[0;32m     46\u001b[0m     MinMaxScaler,\n\u001b[0;32m     47\u001b[0m     OneHotEncoder,\n\u001b[0;32m     48\u001b[0m     RobustScaler,\n\u001b[0;32m     49\u001b[0m )\n",
      "\u001b[1;31mImportError\u001b[0m: cannot import name 'plot_confusion_matrix' from 'sklearn.metrics' (C:\\Users\\syahidhalid\\AppData\\Local\\anaconda3\\Lib\\site-packages\\sklearn\\metrics\\__init__.py)"
     ]
    }
   ],
   "source": [
    "# To help with reading and manipulating data\n",
    "import pandas as pd\n",
    "import numpy as np\n",
    "\n",
    "# To help with data visualization\n",
    "%matplotlib inline\n",
    "import matplotlib.pyplot as plt\n",
    "import seaborn as sns\n",
    "\n",
    "# To be used for missing value imputation\n",
    "from sklearn.impute import SimpleImputer\n",
    "\n",
    "# To help with model building\n",
    "from sklearn.linear_model import LogisticRegression\n",
    "from sklearn.tree import DecisionTreeClassifier\n",
    "from sklearn.ensemble import (\n",
    "    AdaBoostClassifier,\n",
    "    GradientBoostingClassifier,\n",
    "    RandomForestClassifier,\n",
    "    BaggingClassifier,\n",
    ")\n",
    "from xgboost import XGBClassifier\n",
    "\n",
    "!pip install lightgbm\n",
    "import lightgbm as lgb\n",
    "\n",
    "from sklearn.dummy import DummyClassifier\n",
    "\n",
    "# To get different metric scores, and split data\n",
    "from sklearn import metrics\n",
    "from sklearn.model_selection import train_test_split, StratifiedKFold, cross_val_score\n",
    "from sklearn.metrics import (\n",
    "    f1_score,\n",
    "    accuracy_score,\n",
    "    recall_score,\n",
    "    precision_score,\n",
    "    confusion_matrix,\n",
    "    roc_auc_score,\n",
    "    plot_confusion_matrix,\n",
    "    plot_roc_curve,\n",
    ")\n",
    "\n",
    "# To be used for data scaling and encoding\n",
    "from sklearn.preprocessing import (\n",
    "    StandardScaler,\n",
    "    MinMaxScaler,\n",
    "    OneHotEncoder,\n",
    "    RobustScaler,\n",
    ")\n",
    "from sklearn.impute import SimpleImputer\n",
    "\n",
    "# To be used for tuning the model\n",
    "from sklearn.model_selection import GridSearchCV, RandomizedSearchCV\n",
    "\n",
    "# To be used for creating pipelines and personalizing them\n",
    "from sklearn.pipeline import Pipeline\n",
    "from sklearn.compose import ColumnTransformer\n",
    "from sklearn.base import TransformerMixin\n",
    "\n",
    "\n",
    "# To oversample and undersample data\n",
    "from imblearn.over_sampling import SMOTE\n",
    "from imblearn.under_sampling import RandomUnderSampler\n",
    "\n",
    "# To define maximum number of columns to be displayed in a dataframe\n",
    "pd.set_option(\"display.max_columns\", None)\n",
    "\n",
    "# To supress scientific notations for a dataframe\n",
    "pd.set_option(\"display.float_format\", lambda x: \"%.3f\" % x)\n",
    "\n",
    "# set the background for the graphs\n",
    "plt.style.use(\"ggplot\")\n",
    "\n",
    "# For pandas profiling\n",
    "from pandas_profiling import ProfileReport\n",
    "\n",
    "# Printing style\n",
    "!pip install tabulate\n",
    "from tabulate import tabulate\n",
    "\n",
    "# To supress warnings\n",
    "import warnings\n",
    "\n",
    "# date time\n",
    "from datetime import datetime\n",
    "\n",
    "warnings.filterwarnings(\"ignore\")"
   ]
  },
  {
   "cell_type": "code",
   "execution_count": null,
   "id": "f0a10d39",
   "metadata": {},
   "outputs": [],
   "source": []
  }
 ],
 "metadata": {
  "kernelspec": {
   "display_name": "Python 3 (ipykernel)",
   "language": "python",
   "name": "python3"
  },
  "language_info": {
   "codemirror_mode": {
    "name": "ipython",
    "version": 3
   },
   "file_extension": ".py",
   "mimetype": "text/x-python",
   "name": "python",
   "nbconvert_exporter": "python",
   "pygments_lexer": "ipython3",
   "version": "3.11.3"
  }
 },
 "nbformat": 4,
 "nbformat_minor": 5
}
