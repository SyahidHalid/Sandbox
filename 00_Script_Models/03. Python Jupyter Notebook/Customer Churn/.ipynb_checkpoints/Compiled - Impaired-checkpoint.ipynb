{
 "cells": [
  {
   "cell_type": "code",
   "execution_count": 1,
   "id": "b7da08f9",
   "metadata": {},
   "outputs": [
    {
     "name": "stdout",
     "output_type": "stream",
     "text": [
      "(52, 165)\n",
      "(60, 165)\n",
      "(60, 165)\n",
      "(60, 165)\n",
      "(60, 165)\n",
      "(62, 165)\n",
      "(72, 165)\n",
      "(70, 165)\n"
     ]
    }
   ],
   "source": [
    "import pandas as pd\n",
    "import numpy as np\n",
    "pd.set_option(\"display.max_columns\", None)\n",
    "\n",
    "df = pd.read_excel(r'C:\\Users\\syahidhalid\\OneDrive - Export-Import Bank of Malaysia (EXIM Bank)\\Desktop\\Work\\Customer Churn Prediction\\Compiled.xlsx', sheet_name='Sheet1')\n",
    "\n",
    "#df['Position as At'].value_counts()\n",
    "#df['Asset Quality Status'].value_counts()\n",
    "#a = df.groupby(['Asset Quality Status'])[['Total Loans Outstanding (MYR)']].sum().reset_index()\n",
    "#a\n",
    "\n",
    "Sep23 = df.iloc[np.where((df['Position as At']=='2023-09-30')&(df['Asset Quality Status'].isin(['Impaired'])))]\n",
    "Aug23 = df.iloc[np.where((df['Position as At']=='2023-08-31')&(df['Asset Quality Status'].isin(['Impaired'])))]\n",
    "Jul23 = df.iloc[np.where((df['Position as At']=='2023-07-31')&(df['Asset Quality Status'].isin(['Impaired'])))]\n",
    "Jun23 = df.iloc[np.where((df['Position as At']=='2023-06-30')&(df['Asset Quality Status'].isin(['Impaired'])))]\n",
    "May23 = df.iloc[np.where((df['Position as At']=='2023-05-31')&(df['Asset Quality Status'].isin(['Impaired'])))]\n",
    "Dec22 = df.iloc[np.where((df['Position as At']=='2022-12-30')&(df['Asset Quality Status'].isin(['Impaired'])))]\n",
    "Dec21 = df.iloc[np.where((df['Position as At']=='2021-12-31')&(df['Asset Quality Status'].isin(['Impaired'])))]\n",
    "Dec20 = df.iloc[np.where((df['Position as At']=='2020-12-31')&(df['Asset Quality Status'].isin(['Impaired'])))]\n",
    "\n",
    "print(Sep23.shape)\n",
    "print(Aug23.shape)\n",
    "print(Jul23.shape)\n",
    "print(Jun23.shape)\n",
    "print(May23.shape)\n",
    "print(Dec22.shape)\n",
    "print(Dec21.shape)\n",
    "print(Dec20.shape)\n"
   ]
  },
  {
   "cell_type": "code",
   "execution_count": null,
   "id": "e414a214",
   "metadata": {},
   "outputs": [],
   "source": [
    "#Jul23.head(1)\n",
    "\n",
    "#print(Jun23['Status'].unique())\n",
    "#print(Jun23['Position as At'].unique())\n",
    "\n",
    "#sum(Jul['Total Loans Outstanding (MYR)'])\n",
    "#sum(Jun['Total Loans Outstanding (MYR)'])\n"
   ]
  },
  {
   "cell_type": "markdown",
   "id": "89f4110d",
   "metadata": {},
   "source": [
    "# Track"
   ]
  },
  {
   "cell_type": "markdown",
   "id": "089a6def",
   "metadata": {},
   "source": [
    "# Check Acc yg Dec20 keluar Dec21"
   ]
  },
  {
   "cell_type": "code",
   "execution_count": 2,
   "id": "4ab0544e",
   "metadata": {},
   "outputs": [
    {
     "data": {
      "text/plain": [
       "both          61\n",
       "left_only     11\n",
       "right_only     0\n",
       "Name: _merge, dtype: int64"
      ]
     },
     "execution_count": 2,
     "metadata": {},
     "output_type": "execute_result"
    }
   ],
   "source": [
    "#yg masuk\n",
    "combine_ = Dec21.merge(Dec20[['EXIM Account No.']], on='EXIM Account No.', how='left', indicator=True)\n",
    "\n",
    "combine_._merge.value_counts()"
   ]
  },
  {
   "cell_type": "code",
   "execution_count": 3,
   "id": "9072e479",
   "metadata": {},
   "outputs": [
    {
     "name": "stdout",
     "output_type": "stream",
     "text": [
      "1887613367.0499995 5947910.31\n"
     ]
    }
   ],
   "source": [
    "#maintain accounts\n",
    "print(\n",
    "sum(combine_.iloc[np.where(combine_._merge=='both')]['Total Loans Outstanding (MYR)']),\n",
    "sum(combine_.iloc[np.where(combine_._merge=='both')]['Cumulative \\nProfit Payment/\\nInterest Repayment \\n(MYR)'])\n",
    ")"
   ]
  },
  {
   "cell_type": "code",
   "execution_count": 4,
   "id": "5a9fb28e",
   "metadata": {},
   "outputs": [
    {
     "name": "stdout",
     "output_type": "stream",
     "text": [
      "208960955.04026753 2040189.56\n"
     ]
    }
   ],
   "source": [
    "#new account\n",
    "print(\n",
    "sum(combine_.iloc[np.where(combine_._merge=='left_only')].fillna(0)['Total Loans Outstanding (MYR)']),\n",
    "sum(combine_.iloc[np.where(combine_._merge=='left_only')].fillna(0)['Cumulative \\nProfit Payment/\\nInterest Repayment \\n(MYR)'])\n",
    ")"
   ]
  },
  {
   "cell_type": "code",
   "execution_count": null,
   "id": "aa4d8dae",
   "metadata": {},
   "outputs": [],
   "source": []
  },
  {
   "cell_type": "code",
   "execution_count": 5,
   "id": "561526c9",
   "metadata": {},
   "outputs": [
    {
     "data": {
      "text/plain": [
       "both          61\n",
       "left_only      9\n",
       "right_only     0\n",
       "Name: _merge, dtype: int64"
      ]
     },
     "execution_count": 5,
     "metadata": {},
     "output_type": "execute_result"
    }
   ],
   "source": [
    "#Dec20 yg keluar\n",
    "combine = Dec20.merge(Dec21[['EXIM Account No.']], on='EXIM Account No.', how='left', indicator=True)\n",
    "\n",
    "combine._merge.value_counts()"
   ]
  },
  {
   "cell_type": "code",
   "execution_count": 6,
   "id": "6fdaf236",
   "metadata": {},
   "outputs": [
    {
     "name": "stdout",
     "output_type": "stream",
     "text": [
      "(9, 166) 120911158.25000001 402795.51\n"
     ]
    }
   ],
   "source": [
    "#listing yg keluar\n",
    "a = combine.iloc[np.where(combine._merge=='left_only')].fillna(0)\n",
    "\n",
    "print(a.shape,\n",
    "sum(a['Total Loans Outstanding (MYR)']),\n",
    "sum(a['Cumulative \\nProfit Payment/\\nInterest Repayment \\n(MYR)'])\n",
    ")"
   ]
  },
  {
   "cell_type": "code",
   "execution_count": null,
   "id": "d62827ba",
   "metadata": {},
   "outputs": [],
   "source": []
  },
  {
   "cell_type": "code",
   "execution_count": null,
   "id": "61905ad3",
   "metadata": {},
   "outputs": [],
   "source": []
  },
  {
   "cell_type": "code",
   "execution_count": null,
   "id": "2dcfb95a",
   "metadata": {
    "scrolled": true
   },
   "outputs": [],
   "source": [
    "#33 account yg hilg\n",
    "#combine.iloc[np.where(combine._merge=='left_only')]"
   ]
  },
  {
   "cell_type": "code",
   "execution_count": null,
   "id": "90608a31",
   "metadata": {
    "scrolled": false
   },
   "outputs": [],
   "source": [
    "#9 account yg masuk\n",
    "#combine_.iloc[np.where(combine_._merge=='left_only')]"
   ]
  },
  {
   "cell_type": "code",
   "execution_count": 7,
   "id": "969f15f9",
   "metadata": {},
   "outputs": [],
   "source": [
    "NegateDec21 = df.iloc[np.where((df['Position as At']=='2021-12-31')&~(df['Asset Quality Status'].isin(['Impaired'])))]\n"
   ]
  },
  {
   "cell_type": "code",
   "execution_count": 8,
   "id": "c90d4816",
   "metadata": {},
   "outputs": [
    {
     "data": {
      "text/plain": [
       "left_only     243\n",
       "both            8\n",
       "right_only      0\n",
       "Name: _merge, dtype: int64"
      ]
     },
     "execution_count": 8,
     "metadata": {},
     "output_type": "execute_result"
    }
   ],
   "source": [
    "#cek yg hilg tu ad keluar active x\n",
    "info21 = NegateDec21.merge(combine.iloc[np.where(combine._merge=='left_only')][['EXIM Account No.']], on='EXIM Account No.', how='left', indicator=True)\n",
    "\n",
    "info21._merge.value_counts()"
   ]
  },
  {
   "cell_type": "code",
   "execution_count": 9,
   "id": "dcf9207f",
   "metadata": {
    "scrolled": true
   },
   "outputs": [
    {
     "data": {
      "text/plain": [
       "Fully Write-Off    3\n",
       "Fully Settled      3\n",
       "Conversion         2\n",
       "Name: Status, dtype: int64"
      ]
     },
     "execution_count": 9,
     "metadata": {},
     "output_type": "execute_result"
    }
   ],
   "source": [
    "info21.iloc[np.where(info21._merge=='both')].Status.value_counts()"
   ]
  },
  {
   "cell_type": "code",
   "execution_count": 10,
   "id": "55446e40",
   "metadata": {
    "scrolled": true
   },
   "outputs": [
    {
     "data": {
      "text/plain": [
       "both          8\n",
       "left_only     1\n",
       "right_only    0\n",
       "Name: Tag, dtype: int64"
      ]
     },
     "execution_count": 10,
     "metadata": {},
     "output_type": "execute_result"
    }
   ],
   "source": [
    "#cek dr 33 tu wujud x infuture as luar active kita\n",
    "info20 = combine.iloc[np.where(combine._merge=='left_only')].merge(NegateDec21[['EXIM Account No.']], on='EXIM Account No.', how='left', indicator='Tag')\n",
    "\n",
    "info20.Tag.value_counts()"
   ]
  },
  {
   "cell_type": "code",
   "execution_count": 11,
   "id": "04fd21b2",
   "metadata": {},
   "outputs": [
    {
     "data": {
      "text/plain": [
       "Impaired    1\n",
       "Name: Status, dtype: int64"
      ]
     },
     "execution_count": 11,
     "metadata": {},
     "output_type": "execute_result"
    }
   ],
   "source": [
    "info20.iloc[np.where(info20.Tag=='left_only')].Status.value_counts()"
   ]
  },
  {
   "cell_type": "code",
   "execution_count": 12,
   "id": "8a1ea68f",
   "metadata": {},
   "outputs": [
    {
     "data": {
      "text/html": [
       "<div>\n",
       "<style scoped>\n",
       "    .dataframe tbody tr th:only-of-type {\n",
       "        vertical-align: middle;\n",
       "    }\n",
       "\n",
       "    .dataframe tbody tr th {\n",
       "        vertical-align: top;\n",
       "    }\n",
       "\n",
       "    .dataframe thead th {\n",
       "        text-align: right;\n",
       "    }\n",
       "</style>\n",
       "<table border=\"1\" class=\"dataframe\">\n",
       "  <thead>\n",
       "    <tr style=\"text-align: right;\">\n",
       "      <th></th>\n",
       "      <th>No.</th>\n",
       "      <th>CIF Number</th>\n",
       "      <th>EXIM Account No.</th>\n",
       "      <th>Application System Code</th>\n",
       "      <th>CCRIS Master Account Number</th>\n",
       "      <th>CCRIS Sub Account Number</th>\n",
       "      <th>Finance(SAP) Number</th>\n",
       "      <th>Company Group</th>\n",
       "      <th>Customer Name</th>\n",
       "      <th>Relationship Manager (RM)</th>\n",
       "      <th>Banking Team</th>\n",
       "      <th>Ownership</th>\n",
       "      <th>Officer in Charge</th>\n",
       "      <th>Syndicated / Club Deal</th>\n",
       "      <th>Nature of Account</th>\n",
       "      <th>Facility</th>\n",
       "      <th>Facility Currency</th>\n",
       "      <th>Type of Financing</th>\n",
       "      <th>Shariah Contract / Concept</th>\n",
       "      <th>Status</th>\n",
       "      <th>Post Approval Stage</th>\n",
       "      <th>Date of Ready for Utilization (RU)</th>\n",
       "      <th>Restructured / Rescheduled\\n(Y/N)</th>\n",
       "      <th>Amount Approved / Facility Limit (Facility Currency)</th>\n",
       "      <th>Amount Approved / Facility Limit (MYR)</th>\n",
       "      <th>Cost/Principal Outstanding (Facility Currency)</th>\n",
       "      <th>Cost/Principal Outstanding (MYR)</th>\n",
       "      <th>Contingent Liability Letter of Credit (Facility Currency)</th>\n",
       "      <th>Contingent Liability Letter of Credit (MYR)</th>\n",
       "      <th>Contingent Liability (Facility Currency)</th>\n",
       "      <th>Contingent Liability (MYR)</th>\n",
       "      <th>Account Receivables/Past Due Claims (Facility Currency)</th>\n",
       "      <th>Account Receivable/Past Due Claims (MYR)</th>\n",
       "      <th>Total Banking Exposure \\n(Facility Currency)</th>\n",
       "      <th>Total Banking Exposure (MYR)</th>\n",
       "      <th>Accrued Profit/\\nInterest of the month\\n (Facility Currency)</th>\n",
       "      <th>Accrued Profit/Interest of the month\\n (MYR)</th>\n",
       "      <th>Modification of Loss (Facility Currency)</th>\n",
       "      <th>Modification of Loss (MYR)</th>\n",
       "      <th>Cumulative Accrued Profit/Interest (Facility Currency)</th>\n",
       "      <th>Cumulative Accrued Profit/Interest (MYR)</th>\n",
       "      <th>Penalty/Ta`widh (Facility Currency)</th>\n",
       "      <th>Penalty/Ta`widh (MYR)</th>\n",
       "      <th>Income/Interest in Suspense (Facility Currency)</th>\n",
       "      <th>Income/Interest in Suspense (MYR)</th>\n",
       "      <th>Other Charges (Facility Currency)</th>\n",
       "      <th>Other Charges (MYR)</th>\n",
       "      <th>Total Loans Outstanding (Facility Currency)</th>\n",
       "      <th>Total Loans Outstanding (MYR)</th>\n",
       "      <th>Expected Credit Loss (ECL) LAF (Facility Currency)</th>\n",
       "      <th>Expected Credit Loss LAF (ECL) (MYR)</th>\n",
       "      <th>Expected Credit Loss C&amp;C (ECL) (Facility Currency)</th>\n",
       "      <th>Expected Credit Loss C&amp;C (ECL) (MYR)</th>\n",
       "      <th>Disbursement/\\nDrawdown Status</th>\n",
       "      <th>Unutilised/\\nUndrawn Amount (Facility Currency)</th>\n",
       "      <th>Unutilised/\\nUndrawn Amount (MYR)</th>\n",
       "      <th>Disbursement/\\nDrawdown \\n(Facility Currency)</th>\n",
       "      <th>Disbursement/Drawdown (MYR)</th>\n",
       "      <th>Cumulative Disbursement/\\nDrawdown \\n(Facility Currency)</th>\n",
       "      <th>Cumulative Disbursement/\\nDrawdown \\n(MYR)</th>\n",
       "      <th>Cost Payment/\\nPrincipal Repayment \\n(Facility Currency)</th>\n",
       "      <th>Cost Payment/\\nPrincipal Repayment \\n(MYR)</th>\n",
       "      <th>Cumulative \\nCost Payment/\\nPrincipal Repayment (Facility Currency)</th>\n",
       "      <th>Cumulative \\nCost Payment/\\nPrincipal Repayment \\n(MYR)</th>\n",
       "      <th>Profit Payment/\\nInterest Repayment (Facility Currency)</th>\n",
       "      <th>Profit Payment/\\nInterest Repayment \\n(MYR)</th>\n",
       "      <th>Cumulative \\nProfit Payment/\\nInterest Repayment (Facility Currency)</th>\n",
       "      <th>Cumulative \\nProfit Payment/\\nInterest Repayment \\n(MYR)</th>\n",
       "      <th>Ta`widh Payment/\\nPenalty Repayment (Facility Currency)</th>\n",
       "      <th>Ta`widh Payment/\\nPenalty Repayment  \\n(MYR)</th>\n",
       "      <th>Cumulative \\nTa`widh Payment/\\nPenalty Repayment (Facility Currency)</th>\n",
       "      <th>Cumulative \\nTa`widh Payment/\\nPenalty Repayment  \\n(MYR)</th>\n",
       "      <th>Other Charges Payment (Facility Currency)</th>\n",
       "      <th>Other Charges Payment (MYR)</th>\n",
       "      <th>Cumulative Other Charges Payment (Facility Currency)</th>\n",
       "      <th>Cumulative Other Charges Payment (MYR)</th>\n",
       "      <th>Rating at Origination</th>\n",
       "      <th>PD</th>\n",
       "      <th>PF</th>\n",
       "      <th>CRMS Obligor Risk Rating</th>\n",
       "      <th>PD (%)</th>\n",
       "      <th>LGD (%)</th>\n",
       "      <th>Risk Analyst</th>\n",
       "      <th>MFRS9 Staging</th>\n",
       "      <th>BNM Main Sector</th>\n",
       "      <th>BNM Sub Sector</th>\n",
       "      <th>EXIM Main Sector</th>\n",
       "      <th>Industry (Risk)</th>\n",
       "      <th>Industry Classification</th>\n",
       "      <th>Purpose of Financing</th>\n",
       "      <th>Date Approved at Origination</th>\n",
       "      <th>Approval Authority</th>\n",
       "      <th>LO issuance Date</th>\n",
       "      <th>Date of LO Acceptance</th>\n",
       "      <th>1st Disbursement/Drawdown Date</th>\n",
       "      <th>1st Payment/\\nRepayment Date</th>\n",
       "      <th>Expiry of Availability Period</th>\n",
       "      <th>Facility Agreement Date</th>\n",
       "      <th>Annual Review Date</th>\n",
       "      <th>Watchlist Review Date</th>\n",
       "      <th>Maturity/Expired Date</th>\n",
       "      <th>Grace Period (Month)</th>\n",
       "      <th>Moratorium Period (Month)</th>\n",
       "      <th>Start Moratorium Date</th>\n",
       "      <th>Fund Type</th>\n",
       "      <th>Tenure (Month)</th>\n",
       "      <th>Payment/Repayment Frequency (Profit/Interest)</th>\n",
       "      <th>Payment/Repayment Frequency (Cost/Principal)</th>\n",
       "      <th>Effective cost of borrowings</th>\n",
       "      <th>Profit/Interest Margin</th>\n",
       "      <th>Average Profit/Interest Rate</th>\n",
       "      <th>Ta`widh Compensation/Penalty Rate</th>\n",
       "      <th>Operation Country</th>\n",
       "      <th>Country Exposure</th>\n",
       "      <th>Country Rating</th>\n",
       "      <th>Region</th>\n",
       "      <th>Market Type</th>\n",
       "      <th>Classification of Entity / Customer Type</th>\n",
       "      <th>Entity / Customer Type</th>\n",
       "      <th>Classification of Residency Status</th>\n",
       "      <th>Residency Status</th>\n",
       "      <th>Corporate Type</th>\n",
       "      <th>SME Commercial Corporate</th>\n",
       "      <th>Corporate Status</th>\n",
       "      <th>Justification on Corporate Status</th>\n",
       "      <th>Restructured / Rescheduled</th>\n",
       "      <th>Date of Approval Restructured / Rescheduled</th>\n",
       "      <th>Effective Date</th>\n",
       "      <th>Reason</th>\n",
       "      <th>Date Untagged from R&amp;R</th>\n",
       "      <th>Justification for Untagged</th>\n",
       "      <th>Frequency</th>\n",
       "      <th>Date of Overdue</th>\n",
       "      <th>Overdue (Days)</th>\n",
       "      <th>Month in Arrears</th>\n",
       "      <th>Overdue Amount (Facility Currency)</th>\n",
       "      <th>Overdue Amount (MYR)</th>\n",
       "      <th>Date Classified as Watchlist</th>\n",
       "      <th>Watchlist Reason</th>\n",
       "      <th>Date Declassified from Watchlist</th>\n",
       "      <th>Date Impaired</th>\n",
       "      <th>Reason for Impairment</th>\n",
       "      <th>Partial Write off Date</th>\n",
       "      <th>Write off Date</th>\n",
       "      <th>Cancellation Date/Fully Settled Date</th>\n",
       "      <th>Position as At</th>\n",
       "      <th>Oustanding Ratio</th>\n",
       "      <th>Since Impaired (Months)</th>\n",
       "      <th>Turned Impaired (Months)</th>\n",
       "      <th>Outstanding Category</th>\n",
       "      <th>Turned Impaired Category</th>\n",
       "      <th>Tenure Category</th>\n",
       "      <th>Trade Non Trade</th>\n",
       "      <th>Since Watchlist (Months)</th>\n",
       "      <th>Turned Watchlist (Months)</th>\n",
       "      <th>Turned Watchlist Category</th>\n",
       "      <th>Profit/Interest Margin (MYR)</th>\n",
       "      <th>Year Impaired</th>\n",
       "      <th>Year Watchlist</th>\n",
       "      <th>Asset Quality Status</th>\n",
       "      <th>Syndication (DAX)</th>\n",
       "      <th>Payment Frequency</th>\n",
       "      <th>Since Impaired Category</th>\n",
       "      <th>Collactable Profit</th>\n",
       "      <th>Collectable Profit Category</th>\n",
       "      <th>_merge</th>\n",
       "      <th>Tag</th>\n",
       "    </tr>\n",
       "  </thead>\n",
       "  <tbody>\n",
       "    <tr>\n",
       "      <th>8</th>\n",
       "      <td>243.0</td>\n",
       "      <td>EXIM000248</td>\n",
       "      <td>3308-01137-112-0179-00</td>\n",
       "      <td>NaN</td>\n",
       "      <td>NaN</td>\n",
       "      <td>NaN</td>\n",
       "      <td>500895</td>\n",
       "      <td>Fuciphagus Agritech Sdn Bhd</td>\n",
       "      <td>Fuciphagus Agritech Sdn Bhd</td>\n",
       "      <td>NaN</td>\n",
       "      <td>NaN</td>\n",
       "      <td>Asset Rehab &amp; Recovery</td>\n",
       "      <td>Cik Nur Syahira Atiqa binti Ahmad Faisal</td>\n",
       "      <td>Not Applicable</td>\n",
       "      <td>Trade</td>\n",
       "      <td>Term Financing - i</td>\n",
       "      <td>MYR</td>\n",
       "      <td>Islamic</td>\n",
       "      <td>NaN</td>\n",
       "      <td>Impaired</td>\n",
       "      <td>NaN</td>\n",
       "      <td>NaN</td>\n",
       "      <td>Yes</td>\n",
       "      <td>1942708.24</td>\n",
       "      <td>1942708.24</td>\n",
       "      <td>1717185.88</td>\n",
       "      <td>1770981.03</td>\n",
       "      <td>NaN</td>\n",
       "      <td>NaN</td>\n",
       "      <td>NaN</td>\n",
       "      <td>NaN</td>\n",
       "      <td>NaN</td>\n",
       "      <td>NaN</td>\n",
       "      <td>NaN</td>\n",
       "      <td>NaN</td>\n",
       "      <td>NaN</td>\n",
       "      <td>NaN</td>\n",
       "      <td>0.0</td>\n",
       "      <td>0.0</td>\n",
       "      <td>0.0</td>\n",
       "      <td>0.0</td>\n",
       "      <td>0.0</td>\n",
       "      <td>0.0</td>\n",
       "      <td>37516.74</td>\n",
       "      <td>37516.74</td>\n",
       "      <td>10500.23</td>\n",
       "      <td>10500.23</td>\n",
       "      <td>NaN</td>\n",
       "      <td>1781481.26</td>\n",
       "      <td>1781481.0</td>\n",
       "      <td>1781481.0</td>\n",
       "      <td>0.0</td>\n",
       "      <td>0.0</td>\n",
       "      <td>NaN</td>\n",
       "      <td>0.0</td>\n",
       "      <td>0.0</td>\n",
       "      <td>NaN</td>\n",
       "      <td>NaN</td>\n",
       "      <td>0.0</td>\n",
       "      <td>0.0</td>\n",
       "      <td>NaN</td>\n",
       "      <td>NaN</td>\n",
       "      <td>53649.58</td>\n",
       "      <td>67598.62</td>\n",
       "      <td>NaN</td>\n",
       "      <td>NaN</td>\n",
       "      <td>0.0</td>\n",
       "      <td>0.0</td>\n",
       "      <td>NaN</td>\n",
       "      <td>NaN</td>\n",
       "      <td>NaN</td>\n",
       "      <td>NaN</td>\n",
       "      <td>NaN</td>\n",
       "      <td>NaN</td>\n",
       "      <td>NaN</td>\n",
       "      <td>NaN</td>\n",
       "      <td>3</td>\n",
       "      <td>10</td>\n",
       "      <td>NaN</td>\n",
       "      <td>NaN</td>\n",
       "      <td>1.0</td>\n",
       "      <td>1.0</td>\n",
       "      <td>Nor Zalina Yaacob</td>\n",
       "      <td>3.0</td>\n",
       "      <td>Agriculture, Forestry and Fishing</td>\n",
       "      <td>Support activities to agriculture and post-har...</td>\n",
       "      <td>Primary Agriculture</td>\n",
       "      <td>Others</td>\n",
       "      <td>NaN</td>\n",
       "      <td>To restructure the outstanding balance of the ...</td>\n",
       "      <td>2018-11-14</td>\n",
       "      <td>FIIC</td>\n",
       "      <td>NaN</td>\n",
       "      <td>2016-09-26 00:00:00</td>\n",
       "      <td>2017-01-11</td>\n",
       "      <td>NaT</td>\n",
       "      <td>00:00:00</td>\n",
       "      <td>NaT</td>\n",
       "      <td>NaT</td>\n",
       "      <td>NaT</td>\n",
       "      <td>2018-05-09</td>\n",
       "      <td>NaN</td>\n",
       "      <td>NaN</td>\n",
       "      <td>NaN</td>\n",
       "      <td>NaN</td>\n",
       "      <td>12.0</td>\n",
       "      <td>Bullet</td>\n",
       "      <td>Bullet</td>\n",
       "      <td>Fixed</td>\n",
       "      <td>1900-01-06 00:00:00</td>\n",
       "      <td>05:45:36</td>\n",
       "      <td>NaN</td>\n",
       "      <td>Malaysia</td>\n",
       "      <td>Malaysia</td>\n",
       "      <td>a-</td>\n",
       "      <td>Malaysia</td>\n",
       "      <td>Traditional</td>\n",
       "      <td>Business Entities</td>\n",
       "      <td>Company</td>\n",
       "      <td>Resident</td>\n",
       "      <td>Non-Bumiputera Controlled</td>\n",
       "      <td>Non-Bumi</td>\n",
       "      <td>SME-Small</td>\n",
       "      <td>NaN</td>\n",
       "      <td>NaN</td>\n",
       "      <td>Restructured</td>\n",
       "      <td>43418</td>\n",
       "      <td>NaN</td>\n",
       "      <td>Cashflow Tight</td>\n",
       "      <td>NaN</td>\n",
       "      <td>NaN</td>\n",
       "      <td>2 Times</td>\n",
       "      <td>NaN</td>\n",
       "      <td>NaN</td>\n",
       "      <td>33.0</td>\n",
       "      <td>0.0</td>\n",
       "      <td>0</td>\n",
       "      <td>2018-02-26 00:00:00</td>\n",
       "      <td>Financing Activity - Payment Delay</td>\n",
       "      <td>NaT</td>\n",
       "      <td>2018-05-11</td>\n",
       "      <td>NaN</td>\n",
       "      <td>NaT</td>\n",
       "      <td>NaT</td>\n",
       "      <td>NaT</td>\n",
       "      <td>2020-12-31</td>\n",
       "      <td>0.917009</td>\n",
       "      <td>31.639344</td>\n",
       "      <td>15.901639</td>\n",
       "      <td>2. Below 100%</td>\n",
       "      <td>1. Below 24 Month</td>\n",
       "      <td>1. Below 60 Month</td>\n",
       "      <td>Trade</td>\n",
       "      <td>0.0</td>\n",
       "      <td>0.0</td>\n",
       "      <td>1. Below 24 Month</td>\n",
       "      <td>106888.8756</td>\n",
       "      <td>2018.0</td>\n",
       "      <td>2018.0</td>\n",
       "      <td>Impaired</td>\n",
       "      <td>Non-Syndication</td>\n",
       "      <td>Bullet</td>\n",
       "      <td>2. Below 48 Month</td>\n",
       "      <td>0.0</td>\n",
       "      <td>1. Collectable below 100%</td>\n",
       "      <td>left_only</td>\n",
       "      <td>left_only</td>\n",
       "    </tr>\n",
       "  </tbody>\n",
       "</table>\n",
       "</div>"
      ],
      "text/plain": [
       "     No.  CIF Number        EXIM Account No. Application System Code  \\\n",
       "8  243.0  EXIM000248  3308-01137-112-0179-00                     NaN   \n",
       "\n",
       "  CCRIS Master Account Number CCRIS Sub Account Number Finance(SAP) Number  \\\n",
       "8                         NaN                      NaN              500895   \n",
       "\n",
       "                 Company Group                Customer Name  \\\n",
       "8  Fuciphagus Agritech Sdn Bhd  Fuciphagus Agritech Sdn Bhd   \n",
       "\n",
       "  Relationship Manager (RM) Banking Team               Ownership  \\\n",
       "8                       NaN          NaN  Asset Rehab & Recovery   \n",
       "\n",
       "                          Officer in Charge Syndicated / Club Deal  \\\n",
       "8  Cik Nur Syahira Atiqa binti Ahmad Faisal         Not Applicable   \n",
       "\n",
       "  Nature of Account            Facility Facility Currency Type of Financing  \\\n",
       "8             Trade  Term Financing - i               MYR           Islamic   \n",
       "\n",
       "  Shariah Contract / Concept    Status Post Approval Stage  \\\n",
       "8                        NaN  Impaired                 NaN   \n",
       "\n",
       "   Date of Ready for Utilization (RU) Restructured / Rescheduled\\n(Y/N)  \\\n",
       "8                                 NaN                               Yes   \n",
       "\n",
       "   Amount Approved / Facility Limit (Facility Currency)  \\\n",
       "8                                         1942708.24      \n",
       "\n",
       "   Amount Approved / Facility Limit (MYR)  \\\n",
       "8                              1942708.24   \n",
       "\n",
       "   Cost/Principal Outstanding (Facility Currency)  \\\n",
       "8                                      1717185.88   \n",
       "\n",
       "   Cost/Principal Outstanding (MYR)  \\\n",
       "8                        1770981.03   \n",
       "\n",
       "   Contingent Liability Letter of Credit (Facility Currency)  \\\n",
       "8                                                NaN           \n",
       "\n",
       "   Contingent Liability Letter of Credit (MYR)  \\\n",
       "8                                          NaN   \n",
       "\n",
       "   Contingent Liability (Facility Currency)  Contingent Liability (MYR)  \\\n",
       "8                                       NaN                         NaN   \n",
       "\n",
       "   Account Receivables/Past Due Claims (Facility Currency)  \\\n",
       "8                                                NaN         \n",
       "\n",
       "   Account Receivable/Past Due Claims (MYR)  \\\n",
       "8                                       NaN   \n",
       "\n",
       "   Total Banking Exposure \\n(Facility Currency)  Total Banking Exposure (MYR)  \\\n",
       "8                                           NaN                           NaN   \n",
       "\n",
       "   Accrued Profit/\\nInterest of the month\\n (Facility Currency)  \\\n",
       "8                                                NaN              \n",
       "\n",
       "   Accrued Profit/Interest of the month\\n (MYR)  \\\n",
       "8                                           NaN   \n",
       "\n",
       "   Modification of Loss (Facility Currency)  Modification of Loss (MYR)  \\\n",
       "8                                       0.0                         0.0   \n",
       "\n",
       "   Cumulative Accrued Profit/Interest (Facility Currency)  \\\n",
       "8                                                0.0        \n",
       "\n",
       "   Cumulative Accrued Profit/Interest (MYR)  \\\n",
       "8                                       0.0   \n",
       "\n",
       "   Penalty/Ta`widh (Facility Currency)  Penalty/Ta`widh (MYR)  \\\n",
       "8                                  0.0                    0.0   \n",
       "\n",
       "   Income/Interest in Suspense (Facility Currency)  \\\n",
       "8                                         37516.74   \n",
       "\n",
       "   Income/Interest in Suspense (MYR)  Other Charges (Facility Currency)  \\\n",
       "8                           37516.74                           10500.23   \n",
       "\n",
       "   Other Charges (MYR)  Total Loans Outstanding (Facility Currency)  \\\n",
       "8             10500.23                                          NaN   \n",
       "\n",
       "   Total Loans Outstanding (MYR)  \\\n",
       "8                     1781481.26   \n",
       "\n",
       "   Expected Credit Loss (ECL) LAF (Facility Currency)  \\\n",
       "8                                          1781481.0    \n",
       "\n",
       "   Expected Credit Loss LAF (ECL) (MYR)  \\\n",
       "8                             1781481.0   \n",
       "\n",
       "   Expected Credit Loss C&C (ECL) (Facility Currency)  \\\n",
       "8                                                0.0    \n",
       "\n",
       "   Expected Credit Loss C&C (ECL) (MYR) Disbursement/\\nDrawdown Status  \\\n",
       "8                                   0.0                            NaN   \n",
       "\n",
       "   Unutilised/\\nUndrawn Amount (Facility Currency)  \\\n",
       "8                                              0.0   \n",
       "\n",
       "   Unutilised/\\nUndrawn Amount (MYR)  \\\n",
       "8                                0.0   \n",
       "\n",
       "   Disbursement/\\nDrawdown \\n(Facility Currency)  Disbursement/Drawdown (MYR)  \\\n",
       "8                                            NaN                          NaN   \n",
       "\n",
       "   Cumulative Disbursement/\\nDrawdown \\n(Facility Currency)  \\\n",
       "8                                                0.0          \n",
       "\n",
       "   Cumulative Disbursement/\\nDrawdown \\n(MYR)  \\\n",
       "8                                         0.0   \n",
       "\n",
       "   Cost Payment/\\nPrincipal Repayment \\n(Facility Currency)  \\\n",
       "8                                                NaN          \n",
       "\n",
       "   Cost Payment/\\nPrincipal Repayment \\n(MYR)  \\\n",
       "8                                         NaN   \n",
       "\n",
       "   Cumulative \\nCost Payment/\\nPrincipal Repayment (Facility Currency)  \\\n",
       "8                                           53649.58                     \n",
       "\n",
       "   Cumulative \\nCost Payment/\\nPrincipal Repayment \\n(MYR)  \\\n",
       "8                                           67598.62         \n",
       "\n",
       "   Profit Payment/\\nInterest Repayment (Facility Currency)  \\\n",
       "8                                                NaN         \n",
       "\n",
       "   Profit Payment/\\nInterest Repayment \\n(MYR)  \\\n",
       "8                                          NaN   \n",
       "\n",
       "   Cumulative \\nProfit Payment/\\nInterest Repayment (Facility Currency)  \\\n",
       "8                                                0.0                      \n",
       "\n",
       "   Cumulative \\nProfit Payment/\\nInterest Repayment \\n(MYR)  \\\n",
       "8                                                0.0          \n",
       "\n",
       "   Ta`widh Payment/\\nPenalty Repayment (Facility Currency)  \\\n",
       "8                                                NaN         \n",
       "\n",
       "   Ta`widh Payment/\\nPenalty Repayment  \\n(MYR)  \\\n",
       "8                                           NaN   \n",
       "\n",
       "   Cumulative \\nTa`widh Payment/\\nPenalty Repayment (Facility Currency)  \\\n",
       "8                                                NaN                      \n",
       "\n",
       "   Cumulative \\nTa`widh Payment/\\nPenalty Repayment  \\n(MYR)  \\\n",
       "8                                                NaN           \n",
       "\n",
       "   Other Charges Payment (Facility Currency)  Other Charges Payment (MYR)  \\\n",
       "8                                        NaN                          NaN   \n",
       "\n",
       "   Cumulative Other Charges Payment (Facility Currency)  \\\n",
       "8                                                NaN      \n",
       "\n",
       "   Cumulative Other Charges Payment (MYR) Rating at Origination  PD  PF  \\\n",
       "8                                     NaN                     3  10 NaN   \n",
       "\n",
       "   CRMS Obligor Risk Rating  PD (%)  LGD (%)       Risk Analyst  \\\n",
       "8                       NaN     1.0      1.0  Nor Zalina Yaacob   \n",
       "\n",
       "   MFRS9 Staging                    BNM Main Sector  \\\n",
       "8            3.0  Agriculture, Forestry and Fishing   \n",
       "\n",
       "                                      BNM Sub Sector     EXIM Main Sector  \\\n",
       "8  Support activities to agriculture and post-har...  Primary Agriculture   \n",
       "\n",
       "  Industry (Risk) Industry Classification  \\\n",
       "8          Others                     NaN   \n",
       "\n",
       "                                Purpose of Financing  \\\n",
       "8  To restructure the outstanding balance of the ...   \n",
       "\n",
       "  Date Approved at Origination Approval Authority LO issuance Date  \\\n",
       "8                   2018-11-14               FIIC              NaN   \n",
       "\n",
       "  Date of LO Acceptance 1st Disbursement/Drawdown Date  \\\n",
       "8   2016-09-26 00:00:00                     2017-01-11   \n",
       "\n",
       "  1st Payment/\\nRepayment Date Expiry of Availability Period  \\\n",
       "8                          NaT                      00:00:00   \n",
       "\n",
       "  Facility Agreement Date Annual Review Date Watchlist Review Date  \\\n",
       "8                     NaT                NaT                   NaT   \n",
       "\n",
       "  Maturity/Expired Date  Grace Period (Month)  Moratorium Period (Month)   \\\n",
       "8            2018-05-09                   NaN                         NaN   \n",
       "\n",
       "  Start Moratorium Date Fund Type  Tenure (Month)  \\\n",
       "8                   NaN       NaN            12.0   \n",
       "\n",
       "  Payment/Repayment Frequency (Profit/Interest)  \\\n",
       "8                                        Bullet   \n",
       "\n",
       "  Payment/Repayment Frequency (Cost/Principal) Effective cost of borrowings  \\\n",
       "8                                       Bullet                        Fixed   \n",
       "\n",
       "  Profit/Interest Margin Average Profit/Interest Rate  \\\n",
       "8    1900-01-06 00:00:00                     05:45:36   \n",
       "\n",
       "  Ta`widh Compensation/Penalty Rate Operation Country Country Exposure  \\\n",
       "8                               NaN          Malaysia         Malaysia   \n",
       "\n",
       "  Country Rating    Region  Market Type  \\\n",
       "8             a-  Malaysia  Traditional   \n",
       "\n",
       "  Classification of Entity / Customer Type Entity / Customer Type  \\\n",
       "8                        Business Entities                Company   \n",
       "\n",
       "  Classification of Residency Status           Residency Status  \\\n",
       "8                           Resident  Non-Bumiputera Controlled   \n",
       "\n",
       "  Corporate Type SME Commercial Corporate Corporate Status  \\\n",
       "8       Non-Bumi                SME-Small              NaN   \n",
       "\n",
       "  Justification on Corporate Status  Restructured / Rescheduled  \\\n",
       "8                                NaN               Restructured   \n",
       "\n",
       "  Date of Approval Restructured / Rescheduled Effective Date          Reason  \\\n",
       "8                                       43418            NaN  Cashflow Tight   \n",
       "\n",
       "  Date Untagged from R&R Justification for Untagged Frequency  \\\n",
       "8                    NaN                        NaN   2 Times   \n",
       "\n",
       "   Date of Overdue  Overdue (Days)  Month in Arrears  \\\n",
       "8              NaN             NaN              33.0   \n",
       "\n",
       "   Overdue Amount (Facility Currency) Overdue Amount (MYR)  \\\n",
       "8                                 0.0                    0   \n",
       "\n",
       "  Date Classified as Watchlist                    Watchlist Reason  \\\n",
       "8          2018-02-26 00:00:00  Financing Activity - Payment Delay   \n",
       "\n",
       "  Date Declassified from Watchlist Date Impaired Reason for Impairment  \\\n",
       "8                              NaT    2018-05-11                   NaN   \n",
       "\n",
       "  Partial Write off Date Write off Date Cancellation Date/Fully Settled Date  \\\n",
       "8                    NaT            NaT                                  NaT   \n",
       "\n",
       "  Position as At  Oustanding Ratio  Since Impaired (Months)  \\\n",
       "8     2020-12-31          0.917009                31.639344   \n",
       "\n",
       "   Turned Impaired (Months) Outstanding Category Turned Impaired Category  \\\n",
       "8                 15.901639        2. Below 100%        1. Below 24 Month   \n",
       "\n",
       "     Tenure Category Trade Non Trade  Since Watchlist (Months)  \\\n",
       "8  1. Below 60 Month           Trade                       0.0   \n",
       "\n",
       "   Turned Watchlist (Months) Turned Watchlist Category  \\\n",
       "8                        0.0         1. Below 24 Month   \n",
       "\n",
       "   Profit/Interest Margin (MYR)  Year Impaired  Year Watchlist  \\\n",
       "8                   106888.8756         2018.0          2018.0   \n",
       "\n",
       "  Asset Quality Status Syndication (DAX) Payment Frequency  \\\n",
       "8             Impaired   Non-Syndication            Bullet   \n",
       "\n",
       "  Since Impaired Category  Collactable Profit Collectable Profit Category  \\\n",
       "8       2. Below 48 Month                 0.0   1. Collectable below 100%   \n",
       "\n",
       "      _merge        Tag  \n",
       "8  left_only  left_only  "
      ]
     },
     "execution_count": 12,
     "metadata": {},
     "output_type": "execute_result"
    }
   ],
   "source": [
    "info20.iloc[np.where(info20.Tag=='left_only')]"
   ]
  },
  {
   "cell_type": "code",
   "execution_count": null,
   "id": "8acaa75d",
   "metadata": {},
   "outputs": [],
   "source": []
  },
  {
   "cell_type": "markdown",
   "id": "2c7ad397",
   "metadata": {},
   "source": [
    "# Check Acc yg Dec21 keluar Dec22"
   ]
  },
  {
   "cell_type": "code",
   "execution_count": 13,
   "id": "053ad067",
   "metadata": {},
   "outputs": [
    {
     "data": {
      "text/plain": [
       "both          55\n",
       "left_only      7\n",
       "right_only     0\n",
       "Name: _merge, dtype: int64"
      ]
     },
     "execution_count": 13,
     "metadata": {},
     "output_type": "execute_result"
    }
   ],
   "source": [
    "#yg masuk\n",
    "combine1_ = Dec22.merge(Dec21[['EXIM Account No.']], on='EXIM Account No.', how='left', indicator=True)\n",
    "combine1_._merge.value_counts()"
   ]
  },
  {
   "cell_type": "code",
   "execution_count": 15,
   "id": "e31f2b70",
   "metadata": {},
   "outputs": [
    {
     "name": "stdout",
     "output_type": "stream",
     "text": [
      "(55, 166) 1792791475.5107253 18455301.787625004\n"
     ]
    }
   ],
   "source": [
    "#listing yg maintain\n",
    "aa = combine1_.iloc[np.where(combine1_._merge=='both')].fillna(0)\n",
    "\n",
    "print(aa.shape,\n",
    "sum(aa['Total Loans Outstanding (MYR)']),\n",
    "sum(aa['Cumulative \\nProfit Payment/\\nInterest Repayment \\n(MYR)'])\n",
    ")"
   ]
  },
  {
   "cell_type": "code",
   "execution_count": 14,
   "id": "509fa439",
   "metadata": {},
   "outputs": [
    {
     "name": "stdout",
     "output_type": "stream",
     "text": [
      "(7, 166) 231701710.07 5465502.2700000005\n"
     ]
    }
   ],
   "source": [
    "#listing yg masuk\n",
    "aa = combine1_.iloc[np.where(combine1_._merge=='left_only')].fillna(0)\n",
    "\n",
    "print(aa.shape,\n",
    "sum(aa['Total Loans Outstanding (MYR)']),\n",
    "sum(aa['Cumulative \\nProfit Payment/\\nInterest Repayment \\n(MYR)'])\n",
    ")"
   ]
  },
  {
   "cell_type": "code",
   "execution_count": null,
   "id": "90c8adbb",
   "metadata": {},
   "outputs": [],
   "source": []
  },
  {
   "cell_type": "code",
   "execution_count": 16,
   "id": "5625b6d3",
   "metadata": {},
   "outputs": [
    {
     "data": {
      "text/plain": [
       "both          55\n",
       "left_only     17\n",
       "right_only     0\n",
       "Name: _merge, dtype: int64"
      ]
     },
     "execution_count": 16,
     "metadata": {},
     "output_type": "execute_result"
    }
   ],
   "source": [
    "#yg keluar\n",
    "combine1 = Dec21.merge(Dec22[['EXIM Account No.']], on='EXIM Account No.', how='left', indicator=True)\n",
    "combine1._merge.value_counts()"
   ]
  },
  {
   "cell_type": "code",
   "execution_count": 17,
   "id": "9bb34fb5",
   "metadata": {},
   "outputs": [
    {
     "name": "stdout",
     "output_type": "stream",
     "text": [
      "(17, 166) 386334010.50000006 223514.08000000002\n"
     ]
    }
   ],
   "source": [
    "#listing yg kelaur\n",
    "aa = combine1.iloc[np.where(combine1._merge=='left_only')].fillna(0)\n",
    "\n",
    "print(aa.shape,\n",
    "sum(aa['Total Loans Outstanding (MYR)']),\n",
    "sum(aa['Cumulative \\nProfit Payment/\\nInterest Repayment \\n(MYR)'])\n",
    ")"
   ]
  },
  {
   "cell_type": "code",
   "execution_count": null,
   "id": "314d2f7c",
   "metadata": {},
   "outputs": [],
   "source": []
  },
  {
   "cell_type": "code",
   "execution_count": null,
   "id": "6b0cbe3a",
   "metadata": {},
   "outputs": [],
   "source": [
    "#28 account yg hilg\n",
    "#combine1.iloc[np.where(combine1._merge=='left_only')]"
   ]
  },
  {
   "cell_type": "code",
   "execution_count": null,
   "id": "d308a20d",
   "metadata": {
    "scrolled": true
   },
   "outputs": [],
   "source": [
    "#9 account yg masuk\n",
    "#combine1_.iloc[np.where(combine1_._merge=='left_only')]"
   ]
  },
  {
   "cell_type": "code",
   "execution_count": null,
   "id": "c9fb4922",
   "metadata": {},
   "outputs": [],
   "source": []
  },
  {
   "cell_type": "code",
   "execution_count": null,
   "id": "b26d3bdf",
   "metadata": {},
   "outputs": [],
   "source": []
  },
  {
   "cell_type": "code",
   "execution_count": 18,
   "id": "ef59f6e5",
   "metadata": {},
   "outputs": [],
   "source": [
    "NegateDec22 = df.iloc[np.where((df['Position as At']=='2022-12-30')&~(df['Asset Quality Status'].isin(['Impaired'])))]\n"
   ]
  },
  {
   "cell_type": "code",
   "execution_count": 19,
   "id": "fbdda50e",
   "metadata": {},
   "outputs": [
    {
     "data": {
      "text/plain": [
       "left_only     287\n",
       "both           17\n",
       "right_only      0\n",
       "Name: _merge, dtype: int64"
      ]
     },
     "execution_count": 19,
     "metadata": {},
     "output_type": "execute_result"
    }
   ],
   "source": [
    "info = NegateDec22.merge(combine1.iloc[np.where(combine1._merge=='left_only')][['EXIM Account No.']], on='EXIM Account No.', how='left', indicator=True)\n",
    "#info = combine.iloc[np.where(combine._merge=='left_only')].merge(NegateDec21[['EXIM Account No.']], on='EXIM Account No.', how='left', indicator='Tag')\n",
    "\n",
    "info._merge.value_counts()\n",
    "#info.Tag.value_counts()"
   ]
  },
  {
   "cell_type": "code",
   "execution_count": 20,
   "id": "eb1bd35a",
   "metadata": {},
   "outputs": [
    {
     "data": {
      "text/plain": [
       "Fully Write-Off     9\n",
       "Fully Settled       6\n",
       "Active-Watchlist    2\n",
       "Name: Status, dtype: int64"
      ]
     },
     "execution_count": 20,
     "metadata": {},
     "output_type": "execute_result"
    }
   ],
   "source": [
    "info.iloc[np.where(info._merge=='both')].Status.value_counts()"
   ]
  },
  {
   "cell_type": "code",
   "execution_count": 21,
   "id": "e9fcf3ea",
   "metadata": {},
   "outputs": [],
   "source": [
    "#cek dr 33 tu wujud x infuture as luar active kita\n",
    "info__ = combine1.iloc[np.where(combine1._merge=='left_only')].merge(NegateDec22[['EXIM Account No.']], on='EXIM Account No.', how='left', indicator='Tag')"
   ]
  },
  {
   "cell_type": "code",
   "execution_count": 22,
   "id": "6c9190e6",
   "metadata": {},
   "outputs": [
    {
     "data": {
      "text/plain": [
       "both          17\n",
       "left_only      0\n",
       "right_only     0\n",
       "Name: Tag, dtype: int64"
      ]
     },
     "execution_count": 22,
     "metadata": {},
     "output_type": "execute_result"
    }
   ],
   "source": [
    "info__.Tag.value_counts()"
   ]
  },
  {
   "cell_type": "code",
   "execution_count": 23,
   "id": "aec8c303",
   "metadata": {},
   "outputs": [
    {
     "data": {
      "text/plain": [
       "Impaired    17\n",
       "Name: Status, dtype: int64"
      ]
     },
     "execution_count": 23,
     "metadata": {},
     "output_type": "execute_result"
    }
   ],
   "source": [
    "info__.iloc[np.where(info__.Tag=='both')].Status.value_counts()"
   ]
  },
  {
   "cell_type": "code",
   "execution_count": null,
   "id": "f86be4c9",
   "metadata": {},
   "outputs": [],
   "source": []
  },
  {
   "cell_type": "code",
   "execution_count": null,
   "id": "ad2f0198",
   "metadata": {},
   "outputs": [],
   "source": []
  },
  {
   "cell_type": "markdown",
   "id": "5659ccff",
   "metadata": {},
   "source": [
    "# Check Acc yg Dec22 keluar Sep23"
   ]
  },
  {
   "cell_type": "code",
   "execution_count": 25,
   "id": "0b7535ef",
   "metadata": {},
   "outputs": [
    {
     "data": {
      "text/plain": [
       "both          50\n",
       "left_only      2\n",
       "right_only     0\n",
       "Name: _merge, dtype: int64"
      ]
     },
     "execution_count": 25,
     "metadata": {},
     "output_type": "execute_result"
    }
   ],
   "source": [
    "#yg masuk\n",
    "combine2_ = Sep23.merge(Dec22[['EXIM Account No.']], on='EXIM Account No.', how='left', indicator=True)\n",
    "combine2_._merge.value_counts()"
   ]
  },
  {
   "cell_type": "code",
   "execution_count": 28,
   "id": "9a2a46e6",
   "metadata": {},
   "outputs": [
    {
     "name": "stdout",
     "output_type": "stream",
     "text": [
      "(50, 166) 2091916550.8671718 3286994.312025\n"
     ]
    }
   ],
   "source": [
    "#listing yg kelaur\n",
    "aa = combine2_.iloc[np.where(combine2_._merge=='both')].fillna(0)\n",
    "\n",
    "print(aa.shape,\n",
    "sum(aa['Total Loans Outstanding (MYR)']),\n",
    "sum(aa['Cumulative \\nProfit Payment/\\nInterest Repayment \\n(MYR)'])\n",
    ")"
   ]
  },
  {
   "cell_type": "code",
   "execution_count": 27,
   "id": "3beb9607",
   "metadata": {},
   "outputs": [
    {
     "name": "stdout",
     "output_type": "stream",
     "text": [
      "(2, 166) 6183990.9660749985 41184.84\n"
     ]
    }
   ],
   "source": [
    "#listing yg kelaur\n",
    "aa = combine2_.iloc[np.where(combine2_._merge=='left_only')].fillna(0)\n",
    "\n",
    "print(aa.shape,\n",
    "sum(aa['Total Loans Outstanding (MYR)']),\n",
    "sum(aa['Cumulative \\nProfit Payment/\\nInterest Repayment \\n(MYR)'])\n",
    ")"
   ]
  },
  {
   "cell_type": "code",
   "execution_count": null,
   "id": "d437f490",
   "metadata": {},
   "outputs": [],
   "source": []
  },
  {
   "cell_type": "code",
   "execution_count": null,
   "id": "d2ca2031",
   "metadata": {},
   "outputs": [],
   "source": []
  },
  {
   "cell_type": "code",
   "execution_count": 29,
   "id": "b40d6840",
   "metadata": {},
   "outputs": [
    {
     "data": {
      "text/plain": [
       "both          50\n",
       "left_only     12\n",
       "right_only     0\n",
       "Name: _merge, dtype: int64"
      ]
     },
     "execution_count": 29,
     "metadata": {},
     "output_type": "execute_result"
    }
   ],
   "source": [
    "#yg keluar\n",
    "combine2 = Dec22.merge(Sep23[['EXIM Account No.']], on='EXIM Account No.', how='left', indicator=True)\n",
    "combine2._merge.value_counts()"
   ]
  },
  {
   "cell_type": "code",
   "execution_count": 30,
   "id": "b5698549",
   "metadata": {},
   "outputs": [
    {
     "name": "stdout",
     "output_type": "stream",
     "text": [
      "(12, 166) 60779370.51999998 844110.77\n"
     ]
    }
   ],
   "source": [
    "#listing yg kelaur\n",
    "aa = combine2.iloc[np.where(combine2._merge=='left_only')].fillna(0)\n",
    "\n",
    "print(aa.shape,\n",
    "sum(aa['Total Loans Outstanding (MYR)']),\n",
    "sum(aa['Cumulative \\nProfit Payment/\\nInterest Repayment \\n(MYR)'])\n",
    ")"
   ]
  },
  {
   "cell_type": "code",
   "execution_count": null,
   "id": "b05c3c4a",
   "metadata": {},
   "outputs": [],
   "source": []
  },
  {
   "cell_type": "code",
   "execution_count": null,
   "id": "bcfb15e1",
   "metadata": {},
   "outputs": [],
   "source": []
  },
  {
   "cell_type": "code",
   "execution_count": null,
   "id": "129a0dd4",
   "metadata": {
    "scrolled": true
   },
   "outputs": [],
   "source": [
    "#cek = combine2.iloc[np.where(combine2._merge=='both')].merge(combine2_.iloc[np.where(combine2_._merge=='both')][['EXIM Account No.']], on='EXIM Account No.', how='left', indicator='lala')\n",
    "\n",
    "#cek.lala.value_counts()\n",
    "\n",
    "#cek.iloc[np.where(cek.lala=='left_only')]"
   ]
  },
  {
   "cell_type": "code",
   "execution_count": null,
   "id": "1d8ee212",
   "metadata": {
    "scrolled": true
   },
   "outputs": [],
   "source": [
    "#8 account yg hilg\n",
    "#combine2.iloc[np.where(combine2._merge=='left_only')]#.shape"
   ]
  },
  {
   "cell_type": "code",
   "execution_count": null,
   "id": "4022faf4",
   "metadata": {
    "scrolled": true
   },
   "outputs": [],
   "source": [
    "#12 account yg masuk\n",
    "#combine2_.iloc[np.where(combine2_._merge=='left_only')]"
   ]
  },
  {
   "cell_type": "code",
   "execution_count": null,
   "id": "17dded8e",
   "metadata": {},
   "outputs": [],
   "source": []
  },
  {
   "cell_type": "code",
   "execution_count": null,
   "id": "c7b56556",
   "metadata": {},
   "outputs": [],
   "source": []
  },
  {
   "cell_type": "code",
   "execution_count": 33,
   "id": "53fb9207",
   "metadata": {},
   "outputs": [],
   "source": [
    "NegateJun23 = df.iloc[np.where((df['Position as At']=='2023-09-30')&~(df['Asset Quality Status'].isin(['Impaired'])))]\n"
   ]
  },
  {
   "cell_type": "code",
   "execution_count": 34,
   "id": "6e65b541",
   "metadata": {},
   "outputs": [
    {
     "data": {
      "text/plain": [
       "left_only     356\n",
       "both           12\n",
       "right_only      0\n",
       "Name: _merge, dtype: int64"
      ]
     },
     "execution_count": 34,
     "metadata": {},
     "output_type": "execute_result"
    }
   ],
   "source": [
    "info = NegateJun23.merge(combine2.iloc[np.where(combine2._merge=='left_only')][['EXIM Account No.']], on='EXIM Account No.', how='left', indicator=True)\n",
    "info._merge.value_counts()"
   ]
  },
  {
   "cell_type": "code",
   "execution_count": 35,
   "id": "debca4ae",
   "metadata": {},
   "outputs": [
    {
     "data": {
      "text/plain": [
       "Fully Write-Off     8\n",
       "Active-Watchlist    3\n",
       "Cancelled           1\n",
       "Name: Status, dtype: int64"
      ]
     },
     "execution_count": 35,
     "metadata": {},
     "output_type": "execute_result"
    }
   ],
   "source": [
    "info.iloc[np.where(info._merge=='both')].Status.value_counts()"
   ]
  },
  {
   "cell_type": "code",
   "execution_count": 36,
   "id": "8a00b2aa",
   "metadata": {},
   "outputs": [
    {
     "data": {
      "text/plain": [
       "both          8\n",
       "left_only     1\n",
       "right_only    0\n",
       "Name: Tag, dtype: int64"
      ]
     },
     "execution_count": 36,
     "metadata": {},
     "output_type": "execute_result"
    }
   ],
   "source": [
    "info = combine.iloc[np.where(combine._merge=='left_only')].merge(NegateDec21[['EXIM Account No.']], on='EXIM Account No.', how='left', indicator='Tag')\n",
    "\n",
    "info.Tag.value_counts()"
   ]
  },
  {
   "cell_type": "code",
   "execution_count": 37,
   "id": "14484837",
   "metadata": {},
   "outputs": [
    {
     "data": {
      "text/plain": [
       "Impaired    1\n",
       "Name: Status, dtype: int64"
      ]
     },
     "execution_count": 37,
     "metadata": {},
     "output_type": "execute_result"
    }
   ],
   "source": [
    "info.iloc[np.where(info.Tag=='left_only')].Status.value_counts()"
   ]
  },
  {
   "cell_type": "code",
   "execution_count": 38,
   "id": "cbba11ee",
   "metadata": {},
   "outputs": [
    {
     "data": {
      "text/html": [
       "<div>\n",
       "<style scoped>\n",
       "    .dataframe tbody tr th:only-of-type {\n",
       "        vertical-align: middle;\n",
       "    }\n",
       "\n",
       "    .dataframe tbody tr th {\n",
       "        vertical-align: top;\n",
       "    }\n",
       "\n",
       "    .dataframe thead th {\n",
       "        text-align: right;\n",
       "    }\n",
       "</style>\n",
       "<table border=\"1\" class=\"dataframe\">\n",
       "  <thead>\n",
       "    <tr style=\"text-align: right;\">\n",
       "      <th></th>\n",
       "      <th>No.</th>\n",
       "      <th>CIF Number</th>\n",
       "      <th>EXIM Account No.</th>\n",
       "      <th>Application System Code</th>\n",
       "      <th>CCRIS Master Account Number</th>\n",
       "      <th>CCRIS Sub Account Number</th>\n",
       "      <th>Finance(SAP) Number</th>\n",
       "      <th>Company Group</th>\n",
       "      <th>Customer Name</th>\n",
       "      <th>Relationship Manager (RM)</th>\n",
       "      <th>Banking Team</th>\n",
       "      <th>Ownership</th>\n",
       "      <th>Officer in Charge</th>\n",
       "      <th>Syndicated / Club Deal</th>\n",
       "      <th>Nature of Account</th>\n",
       "      <th>Facility</th>\n",
       "      <th>Facility Currency</th>\n",
       "      <th>Type of Financing</th>\n",
       "      <th>Shariah Contract / Concept</th>\n",
       "      <th>Status</th>\n",
       "      <th>Post Approval Stage</th>\n",
       "      <th>Date of Ready for Utilization (RU)</th>\n",
       "      <th>Restructured / Rescheduled\\n(Y/N)</th>\n",
       "      <th>Amount Approved / Facility Limit (Facility Currency)</th>\n",
       "      <th>Amount Approved / Facility Limit (MYR)</th>\n",
       "      <th>Cost/Principal Outstanding (Facility Currency)</th>\n",
       "      <th>Cost/Principal Outstanding (MYR)</th>\n",
       "      <th>Contingent Liability Letter of Credit (Facility Currency)</th>\n",
       "      <th>Contingent Liability Letter of Credit (MYR)</th>\n",
       "      <th>Contingent Liability (Facility Currency)</th>\n",
       "      <th>Contingent Liability (MYR)</th>\n",
       "      <th>Account Receivables/Past Due Claims (Facility Currency)</th>\n",
       "      <th>Account Receivable/Past Due Claims (MYR)</th>\n",
       "      <th>Total Banking Exposure \\n(Facility Currency)</th>\n",
       "      <th>Total Banking Exposure (MYR)</th>\n",
       "      <th>Accrued Profit/\\nInterest of the month\\n (Facility Currency)</th>\n",
       "      <th>Accrued Profit/Interest of the month\\n (MYR)</th>\n",
       "      <th>Modification of Loss (Facility Currency)</th>\n",
       "      <th>Modification of Loss (MYR)</th>\n",
       "      <th>Cumulative Accrued Profit/Interest (Facility Currency)</th>\n",
       "      <th>Cumulative Accrued Profit/Interest (MYR)</th>\n",
       "      <th>Penalty/Ta`widh (Facility Currency)</th>\n",
       "      <th>Penalty/Ta`widh (MYR)</th>\n",
       "      <th>Income/Interest in Suspense (Facility Currency)</th>\n",
       "      <th>Income/Interest in Suspense (MYR)</th>\n",
       "      <th>Other Charges (Facility Currency)</th>\n",
       "      <th>Other Charges (MYR)</th>\n",
       "      <th>Total Loans Outstanding (Facility Currency)</th>\n",
       "      <th>Total Loans Outstanding (MYR)</th>\n",
       "      <th>Expected Credit Loss (ECL) LAF (Facility Currency)</th>\n",
       "      <th>Expected Credit Loss LAF (ECL) (MYR)</th>\n",
       "      <th>Expected Credit Loss C&amp;C (ECL) (Facility Currency)</th>\n",
       "      <th>Expected Credit Loss C&amp;C (ECL) (MYR)</th>\n",
       "      <th>Disbursement/\\nDrawdown Status</th>\n",
       "      <th>Unutilised/\\nUndrawn Amount (Facility Currency)</th>\n",
       "      <th>Unutilised/\\nUndrawn Amount (MYR)</th>\n",
       "      <th>Disbursement/\\nDrawdown \\n(Facility Currency)</th>\n",
       "      <th>Disbursement/Drawdown (MYR)</th>\n",
       "      <th>Cumulative Disbursement/\\nDrawdown \\n(Facility Currency)</th>\n",
       "      <th>Cumulative Disbursement/\\nDrawdown \\n(MYR)</th>\n",
       "      <th>Cost Payment/\\nPrincipal Repayment \\n(Facility Currency)</th>\n",
       "      <th>Cost Payment/\\nPrincipal Repayment \\n(MYR)</th>\n",
       "      <th>Cumulative \\nCost Payment/\\nPrincipal Repayment (Facility Currency)</th>\n",
       "      <th>Cumulative \\nCost Payment/\\nPrincipal Repayment \\n(MYR)</th>\n",
       "      <th>Profit Payment/\\nInterest Repayment (Facility Currency)</th>\n",
       "      <th>Profit Payment/\\nInterest Repayment \\n(MYR)</th>\n",
       "      <th>Cumulative \\nProfit Payment/\\nInterest Repayment (Facility Currency)</th>\n",
       "      <th>Cumulative \\nProfit Payment/\\nInterest Repayment \\n(MYR)</th>\n",
       "      <th>Ta`widh Payment/\\nPenalty Repayment (Facility Currency)</th>\n",
       "      <th>Ta`widh Payment/\\nPenalty Repayment  \\n(MYR)</th>\n",
       "      <th>Cumulative \\nTa`widh Payment/\\nPenalty Repayment (Facility Currency)</th>\n",
       "      <th>Cumulative \\nTa`widh Payment/\\nPenalty Repayment  \\n(MYR)</th>\n",
       "      <th>Other Charges Payment (Facility Currency)</th>\n",
       "      <th>Other Charges Payment (MYR)</th>\n",
       "      <th>Cumulative Other Charges Payment (Facility Currency)</th>\n",
       "      <th>Cumulative Other Charges Payment (MYR)</th>\n",
       "      <th>Rating at Origination</th>\n",
       "      <th>PD</th>\n",
       "      <th>PF</th>\n",
       "      <th>CRMS Obligor Risk Rating</th>\n",
       "      <th>PD (%)</th>\n",
       "      <th>LGD (%)</th>\n",
       "      <th>Risk Analyst</th>\n",
       "      <th>MFRS9 Staging</th>\n",
       "      <th>BNM Main Sector</th>\n",
       "      <th>BNM Sub Sector</th>\n",
       "      <th>EXIM Main Sector</th>\n",
       "      <th>Industry (Risk)</th>\n",
       "      <th>Industry Classification</th>\n",
       "      <th>Purpose of Financing</th>\n",
       "      <th>Date Approved at Origination</th>\n",
       "      <th>Approval Authority</th>\n",
       "      <th>LO issuance Date</th>\n",
       "      <th>Date of LO Acceptance</th>\n",
       "      <th>1st Disbursement/Drawdown Date</th>\n",
       "      <th>1st Payment/\\nRepayment Date</th>\n",
       "      <th>Expiry of Availability Period</th>\n",
       "      <th>Facility Agreement Date</th>\n",
       "      <th>Annual Review Date</th>\n",
       "      <th>Watchlist Review Date</th>\n",
       "      <th>Maturity/Expired Date</th>\n",
       "      <th>Grace Period (Month)</th>\n",
       "      <th>Moratorium Period (Month)</th>\n",
       "      <th>Start Moratorium Date</th>\n",
       "      <th>Fund Type</th>\n",
       "      <th>Tenure (Month)</th>\n",
       "      <th>Payment/Repayment Frequency (Profit/Interest)</th>\n",
       "      <th>Payment/Repayment Frequency (Cost/Principal)</th>\n",
       "      <th>Effective cost of borrowings</th>\n",
       "      <th>Profit/Interest Margin</th>\n",
       "      <th>Average Profit/Interest Rate</th>\n",
       "      <th>Ta`widh Compensation/Penalty Rate</th>\n",
       "      <th>Operation Country</th>\n",
       "      <th>Country Exposure</th>\n",
       "      <th>Country Rating</th>\n",
       "      <th>Region</th>\n",
       "      <th>Market Type</th>\n",
       "      <th>Classification of Entity / Customer Type</th>\n",
       "      <th>Entity / Customer Type</th>\n",
       "      <th>Classification of Residency Status</th>\n",
       "      <th>Residency Status</th>\n",
       "      <th>Corporate Type</th>\n",
       "      <th>SME Commercial Corporate</th>\n",
       "      <th>Corporate Status</th>\n",
       "      <th>Justification on Corporate Status</th>\n",
       "      <th>Restructured / Rescheduled</th>\n",
       "      <th>Date of Approval Restructured / Rescheduled</th>\n",
       "      <th>Effective Date</th>\n",
       "      <th>Reason</th>\n",
       "      <th>Date Untagged from R&amp;R</th>\n",
       "      <th>Justification for Untagged</th>\n",
       "      <th>Frequency</th>\n",
       "      <th>Date of Overdue</th>\n",
       "      <th>Overdue (Days)</th>\n",
       "      <th>Month in Arrears</th>\n",
       "      <th>Overdue Amount (Facility Currency)</th>\n",
       "      <th>Overdue Amount (MYR)</th>\n",
       "      <th>Date Classified as Watchlist</th>\n",
       "      <th>Watchlist Reason</th>\n",
       "      <th>Date Declassified from Watchlist</th>\n",
       "      <th>Date Impaired</th>\n",
       "      <th>Reason for Impairment</th>\n",
       "      <th>Partial Write off Date</th>\n",
       "      <th>Write off Date</th>\n",
       "      <th>Cancellation Date/Fully Settled Date</th>\n",
       "      <th>Position as At</th>\n",
       "      <th>Oustanding Ratio</th>\n",
       "      <th>Since Impaired (Months)</th>\n",
       "      <th>Turned Impaired (Months)</th>\n",
       "      <th>Outstanding Category</th>\n",
       "      <th>Turned Impaired Category</th>\n",
       "      <th>Tenure Category</th>\n",
       "      <th>Trade Non Trade</th>\n",
       "      <th>Since Watchlist (Months)</th>\n",
       "      <th>Turned Watchlist (Months)</th>\n",
       "      <th>Turned Watchlist Category</th>\n",
       "      <th>Profit/Interest Margin (MYR)</th>\n",
       "      <th>Year Impaired</th>\n",
       "      <th>Year Watchlist</th>\n",
       "      <th>Asset Quality Status</th>\n",
       "      <th>Syndication (DAX)</th>\n",
       "      <th>Payment Frequency</th>\n",
       "      <th>Since Impaired Category</th>\n",
       "      <th>Collactable Profit</th>\n",
       "      <th>Collectable Profit Category</th>\n",
       "      <th>_merge</th>\n",
       "      <th>Tag</th>\n",
       "    </tr>\n",
       "  </thead>\n",
       "  <tbody>\n",
       "    <tr>\n",
       "      <th>8</th>\n",
       "      <td>243.0</td>\n",
       "      <td>EXIM000248</td>\n",
       "      <td>3308-01137-112-0179-00</td>\n",
       "      <td>NaN</td>\n",
       "      <td>NaN</td>\n",
       "      <td>NaN</td>\n",
       "      <td>500895</td>\n",
       "      <td>Fuciphagus Agritech Sdn Bhd</td>\n",
       "      <td>Fuciphagus Agritech Sdn Bhd</td>\n",
       "      <td>NaN</td>\n",
       "      <td>NaN</td>\n",
       "      <td>Asset Rehab &amp; Recovery</td>\n",
       "      <td>Cik Nur Syahira Atiqa binti Ahmad Faisal</td>\n",
       "      <td>Not Applicable</td>\n",
       "      <td>Trade</td>\n",
       "      <td>Term Financing - i</td>\n",
       "      <td>MYR</td>\n",
       "      <td>Islamic</td>\n",
       "      <td>NaN</td>\n",
       "      <td>Impaired</td>\n",
       "      <td>NaN</td>\n",
       "      <td>NaN</td>\n",
       "      <td>Yes</td>\n",
       "      <td>1942708.24</td>\n",
       "      <td>1942708.24</td>\n",
       "      <td>1717185.88</td>\n",
       "      <td>1770981.03</td>\n",
       "      <td>NaN</td>\n",
       "      <td>NaN</td>\n",
       "      <td>NaN</td>\n",
       "      <td>NaN</td>\n",
       "      <td>NaN</td>\n",
       "      <td>NaN</td>\n",
       "      <td>NaN</td>\n",
       "      <td>NaN</td>\n",
       "      <td>NaN</td>\n",
       "      <td>NaN</td>\n",
       "      <td>0.0</td>\n",
       "      <td>0.0</td>\n",
       "      <td>0.0</td>\n",
       "      <td>0.0</td>\n",
       "      <td>0.0</td>\n",
       "      <td>0.0</td>\n",
       "      <td>37516.74</td>\n",
       "      <td>37516.74</td>\n",
       "      <td>10500.23</td>\n",
       "      <td>10500.23</td>\n",
       "      <td>NaN</td>\n",
       "      <td>1781481.26</td>\n",
       "      <td>1781481.0</td>\n",
       "      <td>1781481.0</td>\n",
       "      <td>0.0</td>\n",
       "      <td>0.0</td>\n",
       "      <td>NaN</td>\n",
       "      <td>0.0</td>\n",
       "      <td>0.0</td>\n",
       "      <td>NaN</td>\n",
       "      <td>NaN</td>\n",
       "      <td>0.0</td>\n",
       "      <td>0.0</td>\n",
       "      <td>NaN</td>\n",
       "      <td>NaN</td>\n",
       "      <td>53649.58</td>\n",
       "      <td>67598.62</td>\n",
       "      <td>NaN</td>\n",
       "      <td>NaN</td>\n",
       "      <td>0.0</td>\n",
       "      <td>0.0</td>\n",
       "      <td>NaN</td>\n",
       "      <td>NaN</td>\n",
       "      <td>NaN</td>\n",
       "      <td>NaN</td>\n",
       "      <td>NaN</td>\n",
       "      <td>NaN</td>\n",
       "      <td>NaN</td>\n",
       "      <td>NaN</td>\n",
       "      <td>3</td>\n",
       "      <td>10</td>\n",
       "      <td>NaN</td>\n",
       "      <td>NaN</td>\n",
       "      <td>1.0</td>\n",
       "      <td>1.0</td>\n",
       "      <td>Nor Zalina Yaacob</td>\n",
       "      <td>3.0</td>\n",
       "      <td>Agriculture, Forestry and Fishing</td>\n",
       "      <td>Support activities to agriculture and post-har...</td>\n",
       "      <td>Primary Agriculture</td>\n",
       "      <td>Others</td>\n",
       "      <td>NaN</td>\n",
       "      <td>To restructure the outstanding balance of the ...</td>\n",
       "      <td>2018-11-14</td>\n",
       "      <td>FIIC</td>\n",
       "      <td>NaN</td>\n",
       "      <td>2016-09-26 00:00:00</td>\n",
       "      <td>2017-01-11</td>\n",
       "      <td>NaT</td>\n",
       "      <td>00:00:00</td>\n",
       "      <td>NaT</td>\n",
       "      <td>NaT</td>\n",
       "      <td>NaT</td>\n",
       "      <td>2018-05-09</td>\n",
       "      <td>NaN</td>\n",
       "      <td>NaN</td>\n",
       "      <td>NaN</td>\n",
       "      <td>NaN</td>\n",
       "      <td>12.0</td>\n",
       "      <td>Bullet</td>\n",
       "      <td>Bullet</td>\n",
       "      <td>Fixed</td>\n",
       "      <td>1900-01-06 00:00:00</td>\n",
       "      <td>05:45:36</td>\n",
       "      <td>NaN</td>\n",
       "      <td>Malaysia</td>\n",
       "      <td>Malaysia</td>\n",
       "      <td>a-</td>\n",
       "      <td>Malaysia</td>\n",
       "      <td>Traditional</td>\n",
       "      <td>Business Entities</td>\n",
       "      <td>Company</td>\n",
       "      <td>Resident</td>\n",
       "      <td>Non-Bumiputera Controlled</td>\n",
       "      <td>Non-Bumi</td>\n",
       "      <td>SME-Small</td>\n",
       "      <td>NaN</td>\n",
       "      <td>NaN</td>\n",
       "      <td>Restructured</td>\n",
       "      <td>43418</td>\n",
       "      <td>NaN</td>\n",
       "      <td>Cashflow Tight</td>\n",
       "      <td>NaN</td>\n",
       "      <td>NaN</td>\n",
       "      <td>2 Times</td>\n",
       "      <td>NaN</td>\n",
       "      <td>NaN</td>\n",
       "      <td>33.0</td>\n",
       "      <td>0.0</td>\n",
       "      <td>0</td>\n",
       "      <td>2018-02-26 00:00:00</td>\n",
       "      <td>Financing Activity - Payment Delay</td>\n",
       "      <td>NaT</td>\n",
       "      <td>2018-05-11</td>\n",
       "      <td>NaN</td>\n",
       "      <td>NaT</td>\n",
       "      <td>NaT</td>\n",
       "      <td>NaT</td>\n",
       "      <td>2020-12-31</td>\n",
       "      <td>0.917009</td>\n",
       "      <td>31.639344</td>\n",
       "      <td>15.901639</td>\n",
       "      <td>2. Below 100%</td>\n",
       "      <td>1. Below 24 Month</td>\n",
       "      <td>1. Below 60 Month</td>\n",
       "      <td>Trade</td>\n",
       "      <td>0.0</td>\n",
       "      <td>0.0</td>\n",
       "      <td>1. Below 24 Month</td>\n",
       "      <td>106888.8756</td>\n",
       "      <td>2018.0</td>\n",
       "      <td>2018.0</td>\n",
       "      <td>Impaired</td>\n",
       "      <td>Non-Syndication</td>\n",
       "      <td>Bullet</td>\n",
       "      <td>2. Below 48 Month</td>\n",
       "      <td>0.0</td>\n",
       "      <td>1. Collectable below 100%</td>\n",
       "      <td>left_only</td>\n",
       "      <td>left_only</td>\n",
       "    </tr>\n",
       "  </tbody>\n",
       "</table>\n",
       "</div>"
      ],
      "text/plain": [
       "     No.  CIF Number        EXIM Account No. Application System Code  \\\n",
       "8  243.0  EXIM000248  3308-01137-112-0179-00                     NaN   \n",
       "\n",
       "  CCRIS Master Account Number CCRIS Sub Account Number Finance(SAP) Number  \\\n",
       "8                         NaN                      NaN              500895   \n",
       "\n",
       "                 Company Group                Customer Name  \\\n",
       "8  Fuciphagus Agritech Sdn Bhd  Fuciphagus Agritech Sdn Bhd   \n",
       "\n",
       "  Relationship Manager (RM) Banking Team               Ownership  \\\n",
       "8                       NaN          NaN  Asset Rehab & Recovery   \n",
       "\n",
       "                          Officer in Charge Syndicated / Club Deal  \\\n",
       "8  Cik Nur Syahira Atiqa binti Ahmad Faisal         Not Applicable   \n",
       "\n",
       "  Nature of Account            Facility Facility Currency Type of Financing  \\\n",
       "8             Trade  Term Financing - i               MYR           Islamic   \n",
       "\n",
       "  Shariah Contract / Concept    Status Post Approval Stage  \\\n",
       "8                        NaN  Impaired                 NaN   \n",
       "\n",
       "   Date of Ready for Utilization (RU) Restructured / Rescheduled\\n(Y/N)  \\\n",
       "8                                 NaN                               Yes   \n",
       "\n",
       "   Amount Approved / Facility Limit (Facility Currency)  \\\n",
       "8                                         1942708.24      \n",
       "\n",
       "   Amount Approved / Facility Limit (MYR)  \\\n",
       "8                              1942708.24   \n",
       "\n",
       "   Cost/Principal Outstanding (Facility Currency)  \\\n",
       "8                                      1717185.88   \n",
       "\n",
       "   Cost/Principal Outstanding (MYR)  \\\n",
       "8                        1770981.03   \n",
       "\n",
       "   Contingent Liability Letter of Credit (Facility Currency)  \\\n",
       "8                                                NaN           \n",
       "\n",
       "   Contingent Liability Letter of Credit (MYR)  \\\n",
       "8                                          NaN   \n",
       "\n",
       "   Contingent Liability (Facility Currency)  Contingent Liability (MYR)  \\\n",
       "8                                       NaN                         NaN   \n",
       "\n",
       "   Account Receivables/Past Due Claims (Facility Currency)  \\\n",
       "8                                                NaN         \n",
       "\n",
       "   Account Receivable/Past Due Claims (MYR)  \\\n",
       "8                                       NaN   \n",
       "\n",
       "   Total Banking Exposure \\n(Facility Currency)  Total Banking Exposure (MYR)  \\\n",
       "8                                           NaN                           NaN   \n",
       "\n",
       "   Accrued Profit/\\nInterest of the month\\n (Facility Currency)  \\\n",
       "8                                                NaN              \n",
       "\n",
       "   Accrued Profit/Interest of the month\\n (MYR)  \\\n",
       "8                                           NaN   \n",
       "\n",
       "   Modification of Loss (Facility Currency)  Modification of Loss (MYR)  \\\n",
       "8                                       0.0                         0.0   \n",
       "\n",
       "   Cumulative Accrued Profit/Interest (Facility Currency)  \\\n",
       "8                                                0.0        \n",
       "\n",
       "   Cumulative Accrued Profit/Interest (MYR)  \\\n",
       "8                                       0.0   \n",
       "\n",
       "   Penalty/Ta`widh (Facility Currency)  Penalty/Ta`widh (MYR)  \\\n",
       "8                                  0.0                    0.0   \n",
       "\n",
       "   Income/Interest in Suspense (Facility Currency)  \\\n",
       "8                                         37516.74   \n",
       "\n",
       "   Income/Interest in Suspense (MYR)  Other Charges (Facility Currency)  \\\n",
       "8                           37516.74                           10500.23   \n",
       "\n",
       "   Other Charges (MYR)  Total Loans Outstanding (Facility Currency)  \\\n",
       "8             10500.23                                          NaN   \n",
       "\n",
       "   Total Loans Outstanding (MYR)  \\\n",
       "8                     1781481.26   \n",
       "\n",
       "   Expected Credit Loss (ECL) LAF (Facility Currency)  \\\n",
       "8                                          1781481.0    \n",
       "\n",
       "   Expected Credit Loss LAF (ECL) (MYR)  \\\n",
       "8                             1781481.0   \n",
       "\n",
       "   Expected Credit Loss C&C (ECL) (Facility Currency)  \\\n",
       "8                                                0.0    \n",
       "\n",
       "   Expected Credit Loss C&C (ECL) (MYR) Disbursement/\\nDrawdown Status  \\\n",
       "8                                   0.0                            NaN   \n",
       "\n",
       "   Unutilised/\\nUndrawn Amount (Facility Currency)  \\\n",
       "8                                              0.0   \n",
       "\n",
       "   Unutilised/\\nUndrawn Amount (MYR)  \\\n",
       "8                                0.0   \n",
       "\n",
       "   Disbursement/\\nDrawdown \\n(Facility Currency)  Disbursement/Drawdown (MYR)  \\\n",
       "8                                            NaN                          NaN   \n",
       "\n",
       "   Cumulative Disbursement/\\nDrawdown \\n(Facility Currency)  \\\n",
       "8                                                0.0          \n",
       "\n",
       "   Cumulative Disbursement/\\nDrawdown \\n(MYR)  \\\n",
       "8                                         0.0   \n",
       "\n",
       "   Cost Payment/\\nPrincipal Repayment \\n(Facility Currency)  \\\n",
       "8                                                NaN          \n",
       "\n",
       "   Cost Payment/\\nPrincipal Repayment \\n(MYR)  \\\n",
       "8                                         NaN   \n",
       "\n",
       "   Cumulative \\nCost Payment/\\nPrincipal Repayment (Facility Currency)  \\\n",
       "8                                           53649.58                     \n",
       "\n",
       "   Cumulative \\nCost Payment/\\nPrincipal Repayment \\n(MYR)  \\\n",
       "8                                           67598.62         \n",
       "\n",
       "   Profit Payment/\\nInterest Repayment (Facility Currency)  \\\n",
       "8                                                NaN         \n",
       "\n",
       "   Profit Payment/\\nInterest Repayment \\n(MYR)  \\\n",
       "8                                          NaN   \n",
       "\n",
       "   Cumulative \\nProfit Payment/\\nInterest Repayment (Facility Currency)  \\\n",
       "8                                                0.0                      \n",
       "\n",
       "   Cumulative \\nProfit Payment/\\nInterest Repayment \\n(MYR)  \\\n",
       "8                                                0.0          \n",
       "\n",
       "   Ta`widh Payment/\\nPenalty Repayment (Facility Currency)  \\\n",
       "8                                                NaN         \n",
       "\n",
       "   Ta`widh Payment/\\nPenalty Repayment  \\n(MYR)  \\\n",
       "8                                           NaN   \n",
       "\n",
       "   Cumulative \\nTa`widh Payment/\\nPenalty Repayment (Facility Currency)  \\\n",
       "8                                                NaN                      \n",
       "\n",
       "   Cumulative \\nTa`widh Payment/\\nPenalty Repayment  \\n(MYR)  \\\n",
       "8                                                NaN           \n",
       "\n",
       "   Other Charges Payment (Facility Currency)  Other Charges Payment (MYR)  \\\n",
       "8                                        NaN                          NaN   \n",
       "\n",
       "   Cumulative Other Charges Payment (Facility Currency)  \\\n",
       "8                                                NaN      \n",
       "\n",
       "   Cumulative Other Charges Payment (MYR) Rating at Origination  PD  PF  \\\n",
       "8                                     NaN                     3  10 NaN   \n",
       "\n",
       "   CRMS Obligor Risk Rating  PD (%)  LGD (%)       Risk Analyst  \\\n",
       "8                       NaN     1.0      1.0  Nor Zalina Yaacob   \n",
       "\n",
       "   MFRS9 Staging                    BNM Main Sector  \\\n",
       "8            3.0  Agriculture, Forestry and Fishing   \n",
       "\n",
       "                                      BNM Sub Sector     EXIM Main Sector  \\\n",
       "8  Support activities to agriculture and post-har...  Primary Agriculture   \n",
       "\n",
       "  Industry (Risk) Industry Classification  \\\n",
       "8          Others                     NaN   \n",
       "\n",
       "                                Purpose of Financing  \\\n",
       "8  To restructure the outstanding balance of the ...   \n",
       "\n",
       "  Date Approved at Origination Approval Authority LO issuance Date  \\\n",
       "8                   2018-11-14               FIIC              NaN   \n",
       "\n",
       "  Date of LO Acceptance 1st Disbursement/Drawdown Date  \\\n",
       "8   2016-09-26 00:00:00                     2017-01-11   \n",
       "\n",
       "  1st Payment/\\nRepayment Date Expiry of Availability Period  \\\n",
       "8                          NaT                      00:00:00   \n",
       "\n",
       "  Facility Agreement Date Annual Review Date Watchlist Review Date  \\\n",
       "8                     NaT                NaT                   NaT   \n",
       "\n",
       "  Maturity/Expired Date  Grace Period (Month)  Moratorium Period (Month)   \\\n",
       "8            2018-05-09                   NaN                         NaN   \n",
       "\n",
       "  Start Moratorium Date Fund Type  Tenure (Month)  \\\n",
       "8                   NaN       NaN            12.0   \n",
       "\n",
       "  Payment/Repayment Frequency (Profit/Interest)  \\\n",
       "8                                        Bullet   \n",
       "\n",
       "  Payment/Repayment Frequency (Cost/Principal) Effective cost of borrowings  \\\n",
       "8                                       Bullet                        Fixed   \n",
       "\n",
       "  Profit/Interest Margin Average Profit/Interest Rate  \\\n",
       "8    1900-01-06 00:00:00                     05:45:36   \n",
       "\n",
       "  Ta`widh Compensation/Penalty Rate Operation Country Country Exposure  \\\n",
       "8                               NaN          Malaysia         Malaysia   \n",
       "\n",
       "  Country Rating    Region  Market Type  \\\n",
       "8             a-  Malaysia  Traditional   \n",
       "\n",
       "  Classification of Entity / Customer Type Entity / Customer Type  \\\n",
       "8                        Business Entities                Company   \n",
       "\n",
       "  Classification of Residency Status           Residency Status  \\\n",
       "8                           Resident  Non-Bumiputera Controlled   \n",
       "\n",
       "  Corporate Type SME Commercial Corporate Corporate Status  \\\n",
       "8       Non-Bumi                SME-Small              NaN   \n",
       "\n",
       "  Justification on Corporate Status  Restructured / Rescheduled  \\\n",
       "8                                NaN               Restructured   \n",
       "\n",
       "  Date of Approval Restructured / Rescheduled Effective Date          Reason  \\\n",
       "8                                       43418            NaN  Cashflow Tight   \n",
       "\n",
       "  Date Untagged from R&R Justification for Untagged Frequency  \\\n",
       "8                    NaN                        NaN   2 Times   \n",
       "\n",
       "   Date of Overdue  Overdue (Days)  Month in Arrears  \\\n",
       "8              NaN             NaN              33.0   \n",
       "\n",
       "   Overdue Amount (Facility Currency) Overdue Amount (MYR)  \\\n",
       "8                                 0.0                    0   \n",
       "\n",
       "  Date Classified as Watchlist                    Watchlist Reason  \\\n",
       "8          2018-02-26 00:00:00  Financing Activity - Payment Delay   \n",
       "\n",
       "  Date Declassified from Watchlist Date Impaired Reason for Impairment  \\\n",
       "8                              NaT    2018-05-11                   NaN   \n",
       "\n",
       "  Partial Write off Date Write off Date Cancellation Date/Fully Settled Date  \\\n",
       "8                    NaT            NaT                                  NaT   \n",
       "\n",
       "  Position as At  Oustanding Ratio  Since Impaired (Months)  \\\n",
       "8     2020-12-31          0.917009                31.639344   \n",
       "\n",
       "   Turned Impaired (Months) Outstanding Category Turned Impaired Category  \\\n",
       "8                 15.901639        2. Below 100%        1. Below 24 Month   \n",
       "\n",
       "     Tenure Category Trade Non Trade  Since Watchlist (Months)  \\\n",
       "8  1. Below 60 Month           Trade                       0.0   \n",
       "\n",
       "   Turned Watchlist (Months) Turned Watchlist Category  \\\n",
       "8                        0.0         1. Below 24 Month   \n",
       "\n",
       "   Profit/Interest Margin (MYR)  Year Impaired  Year Watchlist  \\\n",
       "8                   106888.8756         2018.0          2018.0   \n",
       "\n",
       "  Asset Quality Status Syndication (DAX) Payment Frequency  \\\n",
       "8             Impaired   Non-Syndication            Bullet   \n",
       "\n",
       "  Since Impaired Category  Collactable Profit Collectable Profit Category  \\\n",
       "8       2. Below 48 Month                 0.0   1. Collectable below 100%   \n",
       "\n",
       "      _merge        Tag  \n",
       "8  left_only  left_only  "
      ]
     },
     "execution_count": 38,
     "metadata": {},
     "output_type": "execute_result"
    }
   ],
   "source": [
    "info.iloc[np.where(info.Tag=='left_only')]"
   ]
  },
  {
   "cell_type": "code",
   "execution_count": null,
   "id": "bc0975df",
   "metadata": {},
   "outputs": [],
   "source": []
  }
 ],
 "metadata": {
  "kernelspec": {
   "display_name": "Python 3 (ipykernel)",
   "language": "python",
   "name": "python3"
  },
  "language_info": {
   "codemirror_mode": {
    "name": "ipython",
    "version": 3
   },
   "file_extension": ".py",
   "mimetype": "text/x-python",
   "name": "python",
   "nbconvert_exporter": "python",
   "pygments_lexer": "ipython3",
   "version": "3.11.3"
  }
 },
 "nbformat": 4,
 "nbformat_minor": 5
}
