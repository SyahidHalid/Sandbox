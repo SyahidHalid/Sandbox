{
 "cells": [
  {
   "cell_type": "code",
   "execution_count": 1,
   "id": "ce81097d",
   "metadata": {},
   "outputs": [
    {
     "name": "stdout",
     "output_type": "stream",
     "text": [
      "(22, 160)\n",
      "(23, 160)\n",
      "(25, 160)\n",
      "(31, 160)\n",
      "(49, 160)\n",
      "(55, 160)\n"
     ]
    }
   ],
   "source": [
    "import pandas as pd\n",
    "import numpy as np\n",
    "pd.set_option(\"display.max_columns\", None)\n",
    "\n",
    "df = pd.read_excel(r'C:\\Users\\syahidhalid\\OneDrive - Export-Import Bank of Malaysia (EXIM Bank)\\Desktop\\Work\\Life Cycle Analysis\\Compiled.xlsx', sheet_name='Sheet1')\n",
    "\n",
    "#df['Position as At'].value_counts()\n",
    "\n",
    "#df['Asset Quality Status'].value_counts()\n",
    "\n",
    "#a = df.groupby(['Asset Quality Status'])[['Total Loans Outstanding (MYR)']].sum().reset_index()\n",
    "#a\n",
    "\n",
    "Jul23 = df.iloc[np.where((df['Position as At']=='2023-07-31')&(df['Asset Quality Status'].isin(['Active-Watchlist'])))]\n",
    "Jun23 = df.iloc[np.where((df['Position as At']=='2023-06-30')&(df['Asset Quality Status'].isin(['Active-Watchlist'])))]\n",
    "May23 = df.iloc[np.where((df['Position as At']=='2023-05-31')&(df['Asset Quality Status'].isin(['Active-Watchlist'])))]\n",
    "Dec22 = df.iloc[np.where((df['Position as At']=='2022-12-30')&(df['Asset Quality Status'].isin(['Active-Watchlist'])))]\n",
    "Dec21 = df.iloc[np.where((df['Position as At']=='2021-12-31')&(df['Asset Quality Status'].isin(['Active-Watchlist'])))]\n",
    "Dec20 = df.iloc[np.where((df['Position as At']=='2020-12-31')&(df['Asset Quality Status'].isin(['Active-Watchlist'])))]\n",
    "\n",
    "print(Jul23.shape)\n",
    "print(Jun23.shape)\n",
    "print(May23.shape)\n",
    "print(Dec22.shape)\n",
    "print(Dec21.shape)\n",
    "print(Dec20.shape)\n"
   ]
  },
  {
   "cell_type": "code",
   "execution_count": null,
   "id": "e414a214",
   "metadata": {},
   "outputs": [],
   "source": [
    "#Jul23.head(1)\n",
    "\n",
    "#print(Jun23['Status'].unique())\n",
    "#print(Jun23['Position as At'].unique())\n",
    "\n",
    "#sum(Jul['Total Loans Outstanding (MYR)'])\n",
    "#sum(Jun['Total Loans Outstanding (MYR)'])\n"
   ]
  },
  {
   "cell_type": "markdown",
   "id": "89f4110d",
   "metadata": {},
   "source": [
    "# Track"
   ]
  },
  {
   "cell_type": "markdown",
   "id": "089a6def",
   "metadata": {},
   "source": [
    "# Check Acc yg Dec20 keluar Dec21"
   ]
  },
  {
   "cell_type": "code",
   "execution_count": 2,
   "id": "4ab0544e",
   "metadata": {},
   "outputs": [
    {
     "data": {
      "text/plain": [
       "both          33\n",
       "left_only     16\n",
       "right_only     0\n",
       "Name: _merge, dtype: int64"
      ]
     },
     "execution_count": 2,
     "metadata": {},
     "output_type": "execute_result"
    }
   ],
   "source": [
    "#yg masuk\n",
    "combine_ = Dec21.merge(Dec20[['EXIM Account No.']], on='EXIM Account No.', how='left', indicator=True)\n",
    "\n",
    "combine_._merge.value_counts()"
   ]
  },
  {
   "cell_type": "code",
   "execution_count": 3,
   "id": "561526c9",
   "metadata": {},
   "outputs": [
    {
     "data": {
      "text/plain": [
       "both          33\n",
       "left_only     22\n",
       "right_only     0\n",
       "Name: _merge, dtype: int64"
      ]
     },
     "execution_count": 3,
     "metadata": {},
     "output_type": "execute_result"
    }
   ],
   "source": [
    "#Dec20 yg keluar\n",
    "combine = Dec20.merge(Dec21[['EXIM Account No.']], on='EXIM Account No.', how='left', indicator=True)\n",
    "\n",
    "combine._merge.value_counts()"
   ]
  },
  {
   "cell_type": "code",
   "execution_count": null,
   "id": "90608a31",
   "metadata": {
    "scrolled": true
   },
   "outputs": [],
   "source": [
    "#16 account yg masuk\n",
    "combine_.iloc[np.where(combine_._merge=='left_only')]"
   ]
  },
  {
   "cell_type": "code",
   "execution_count": null,
   "id": "2dcfb95a",
   "metadata": {
    "scrolled": true
   },
   "outputs": [],
   "source": [
    "#22 account yg hilg\n",
    "combine.iloc[np.where(combine._merge=='left_only')]"
   ]
  },
  {
   "cell_type": "code",
   "execution_count": 16,
   "id": "969f15f9",
   "metadata": {},
   "outputs": [],
   "source": [
    "NegateDec21 = df.iloc[np.where((df['Position as At']=='2021-12-31')&~(df['Asset Quality Status'].isin(['Active-Watchlist'])))]\n"
   ]
  },
  {
   "cell_type": "code",
   "execution_count": 17,
   "id": "c90d4816",
   "metadata": {},
   "outputs": [],
   "source": [
    "#cek yg hilg tu ad keluar active x\n",
    "info21 = NegateDec21.merge(combine.iloc[np.where(combine._merge=='left_only')][['EXIM Account No.']], on='EXIM Account No.', how='left', indicator=True)"
   ]
  },
  {
   "cell_type": "code",
   "execution_count": 18,
   "id": "be682966",
   "metadata": {},
   "outputs": [
    {
     "data": {
      "text/plain": [
       "left_only     252\n",
       "both           22\n",
       "right_only      0\n",
       "Name: _merge, dtype: int64"
      ]
     },
     "execution_count": 18,
     "metadata": {},
     "output_type": "execute_result"
    }
   ],
   "source": [
    "info21._merge.value_counts()"
   ]
  },
  {
   "cell_type": "code",
   "execution_count": 19,
   "id": "ec433883",
   "metadata": {},
   "outputs": [
    {
     "data": {
      "text/plain": [
       "Impaired         9\n",
       "Fully Settled    8\n",
       "Conversion       2\n",
       "Cancelled        2\n",
       "Expired          1\n",
       "Name: Status, dtype: int64"
      ]
     },
     "execution_count": 19,
     "metadata": {},
     "output_type": "execute_result"
    }
   ],
   "source": [
    "info21.iloc[np.where(info21._merge=='both')].Status.value_counts()"
   ]
  },
  {
   "cell_type": "code",
   "execution_count": 20,
   "id": "55446e40",
   "metadata": {
    "scrolled": true
   },
   "outputs": [],
   "source": [
    "#cek dr 22 tu wujud x infuture as luar active kita\n",
    "info20 = combine.iloc[np.where(combine._merge=='left_only')].merge(NegateDec21[['EXIM Account No.']], on='EXIM Account No.', how='left', indicator='Tag')"
   ]
  },
  {
   "cell_type": "code",
   "execution_count": 21,
   "id": "23ccc1e1",
   "metadata": {},
   "outputs": [
    {
     "data": {
      "text/plain": [
       "both          22\n",
       "left_only      0\n",
       "right_only     0\n",
       "Name: Tag, dtype: int64"
      ]
     },
     "execution_count": 21,
     "metadata": {},
     "output_type": "execute_result"
    }
   ],
   "source": [
    "info20.Tag.value_counts()"
   ]
  },
  {
   "cell_type": "code",
   "execution_count": 22,
   "id": "04fd21b2",
   "metadata": {},
   "outputs": [
    {
     "data": {
      "text/plain": [
       "Active-Watchlist    22\n",
       "Name: Asset Quality Status, dtype: int64"
      ]
     },
     "execution_count": 22,
     "metadata": {},
     "output_type": "execute_result"
    }
   ],
   "source": [
    "info20.iloc[np.where(info20.Tag=='both')]['Asset Quality Status'].value_counts()"
   ]
  },
  {
   "cell_type": "code",
   "execution_count": null,
   "id": "8a1ea68f",
   "metadata": {},
   "outputs": [],
   "source": []
  },
  {
   "cell_type": "code",
   "execution_count": null,
   "id": "8acaa75d",
   "metadata": {},
   "outputs": [],
   "source": []
  },
  {
   "cell_type": "markdown",
   "id": "2c7ad397",
   "metadata": {},
   "source": [
    "# Check Acc yg Dec21 keluar Dec22"
   ]
  },
  {
   "cell_type": "code",
   "execution_count": 23,
   "id": "053ad067",
   "metadata": {},
   "outputs": [
    {
     "data": {
      "text/plain": [
       "both          24\n",
       "left_only      7\n",
       "right_only     0\n",
       "Name: _merge, dtype: int64"
      ]
     },
     "execution_count": 23,
     "metadata": {},
     "output_type": "execute_result"
    }
   ],
   "source": [
    "#yg masuk\n",
    "combine1_ = Dec22.merge(Dec21[['EXIM Account No.']], on='EXIM Account No.', how='left', indicator=True)\n",
    "combine1_._merge.value_counts()"
   ]
  },
  {
   "cell_type": "code",
   "execution_count": 24,
   "id": "5625b6d3",
   "metadata": {},
   "outputs": [
    {
     "data": {
      "text/plain": [
       "left_only     25\n",
       "both          24\n",
       "right_only     0\n",
       "Name: _merge, dtype: int64"
      ]
     },
     "execution_count": 24,
     "metadata": {},
     "output_type": "execute_result"
    }
   ],
   "source": [
    "#yg keluar\n",
    "combine1 = Dec21.merge(Dec22[['EXIM Account No.']], on='EXIM Account No.', how='left', indicator=True)\n",
    "combine1._merge.value_counts()"
   ]
  },
  {
   "cell_type": "code",
   "execution_count": null,
   "id": "6b0cbe3a",
   "metadata": {},
   "outputs": [],
   "source": [
    "#account yg hilg\n",
    "combine1.iloc[np.where(combine1._merge=='left_only')]"
   ]
  },
  {
   "cell_type": "code",
   "execution_count": null,
   "id": "d308a20d",
   "metadata": {
    "scrolled": true
   },
   "outputs": [],
   "source": [
    "#account yg masuk\n",
    "combine1_.iloc[np.where(combine1_._merge=='left_only')]"
   ]
  },
  {
   "cell_type": "code",
   "execution_count": 32,
   "id": "ef59f6e5",
   "metadata": {},
   "outputs": [],
   "source": [
    "NegateDec22 = df.iloc[np.where((df['Position as At']=='2022-12-30')&~(df['Asset Quality Status'].isin(['Active-Watchlist'])))]\n"
   ]
  },
  {
   "cell_type": "code",
   "execution_count": 33,
   "id": "fbdda50e",
   "metadata": {},
   "outputs": [],
   "source": [
    "info = NegateDec22.merge(combine1.iloc[np.where(combine1._merge=='left_only')][['EXIM Account No.']], on='EXIM Account No.', how='left', indicator=True)\n",
    "#info = combine.iloc[np.where(combine._merge=='left_only')].merge(NegateDec21[['EXIM Account No.']], on='EXIM Account No.', how='left', indicator='Tag')"
   ]
  },
  {
   "cell_type": "code",
   "execution_count": 34,
   "id": "257a8580",
   "metadata": {},
   "outputs": [
    {
     "data": {
      "text/plain": [
       "left_only     310\n",
       "both           25\n",
       "right_only      0\n",
       "Name: _merge, dtype: int64"
      ]
     },
     "execution_count": 34,
     "metadata": {},
     "output_type": "execute_result"
    }
   ],
   "source": [
    "info._merge.value_counts()\n",
    "#info.Tag.value_counts()"
   ]
  },
  {
   "cell_type": "code",
   "execution_count": 35,
   "id": "eb1bd35a",
   "metadata": {},
   "outputs": [
    {
     "data": {
      "text/plain": [
       "Active           16\n",
       "Impaired          4\n",
       "Fully Settled     3\n",
       "Cancelled         2\n",
       "Name: Status, dtype: int64"
      ]
     },
     "execution_count": 35,
     "metadata": {},
     "output_type": "execute_result"
    }
   ],
   "source": [
    "info.iloc[np.where(info._merge=='both')].Status.value_counts()"
   ]
  },
  {
   "cell_type": "code",
   "execution_count": 36,
   "id": "e9fcf3ea",
   "metadata": {},
   "outputs": [],
   "source": [
    "#cek dr 33 tu wujud x infuture as luar active kita\n",
    "info__ = combine1.iloc[np.where(combine1._merge=='left_only')].merge(NegateDec22[['EXIM Account No.']], on='EXIM Account No.', how='left', indicator='Tag')"
   ]
  },
  {
   "cell_type": "code",
   "execution_count": 37,
   "id": "6c9190e6",
   "metadata": {},
   "outputs": [
    {
     "data": {
      "text/plain": [
       "both          25\n",
       "left_only      0\n",
       "right_only     0\n",
       "Name: Tag, dtype: int64"
      ]
     },
     "execution_count": 37,
     "metadata": {},
     "output_type": "execute_result"
    }
   ],
   "source": [
    "info__.Tag.value_counts()"
   ]
  },
  {
   "cell_type": "code",
   "execution_count": 38,
   "id": "aec8c303",
   "metadata": {},
   "outputs": [
    {
     "data": {
      "text/plain": [
       "Active-Watchlist            23\n",
       "Active-Watchlist/Overdue     2\n",
       "Name: Status, dtype: int64"
      ]
     },
     "execution_count": 38,
     "metadata": {},
     "output_type": "execute_result"
    }
   ],
   "source": [
    "info__.iloc[np.where(info__.Tag=='both')].Status.value_counts()"
   ]
  },
  {
   "cell_type": "code",
   "execution_count": null,
   "id": "f86be4c9",
   "metadata": {},
   "outputs": [],
   "source": []
  },
  {
   "cell_type": "code",
   "execution_count": null,
   "id": "ad2f0198",
   "metadata": {},
   "outputs": [],
   "source": []
  },
  {
   "cell_type": "markdown",
   "id": "5659ccff",
   "metadata": {},
   "source": [
    "# Check Acc yg Dec22 keluar Jul23"
   ]
  },
  {
   "cell_type": "code",
   "execution_count": 39,
   "id": "0b7535ef",
   "metadata": {},
   "outputs": [
    {
     "data": {
      "text/plain": [
       "both          18\n",
       "left_only      4\n",
       "right_only     0\n",
       "Name: _merge, dtype: int64"
      ]
     },
     "execution_count": 39,
     "metadata": {},
     "output_type": "execute_result"
    }
   ],
   "source": [
    "#yg masuk\n",
    "combine2_ = Jul23.merge(Dec22[['EXIM Account No.']], on='EXIM Account No.', how='left', indicator=True)\n",
    "combine2_._merge.value_counts()"
   ]
  },
  {
   "cell_type": "code",
   "execution_count": 40,
   "id": "b40d6840",
   "metadata": {},
   "outputs": [
    {
     "data": {
      "text/plain": [
       "both          18\n",
       "left_only     13\n",
       "right_only     0\n",
       "Name: _merge, dtype: int64"
      ]
     },
     "execution_count": 40,
     "metadata": {},
     "output_type": "execute_result"
    }
   ],
   "source": [
    "#yg keluar\n",
    "combine2 = Dec22.merge(Jul23[['EXIM Account No.']], on='EXIM Account No.', how='left', indicator=True)\n",
    "combine2._merge.value_counts()"
   ]
  },
  {
   "cell_type": "code",
   "execution_count": 45,
   "id": "129a0dd4",
   "metadata": {
    "scrolled": true
   },
   "outputs": [],
   "source": [
    "#cek = combine2.iloc[np.where(combine2._merge=='both')].merge(combine2_.iloc[np.where(combine2_._merge=='both')][['EXIM Account No.']], on='EXIM Account No.', how='left', indicator='lala')\n",
    "\n",
    "#cek.lala.value_counts()\n",
    "\n",
    "#cek.iloc[np.where(cek.lala=='left_only')]"
   ]
  },
  {
   "cell_type": "code",
   "execution_count": null,
   "id": "1d8ee212",
   "metadata": {
    "scrolled": true
   },
   "outputs": [],
   "source": [
    "#8 account yg hilg\n",
    "combine2.iloc[np.where(combine2._merge=='left_only')]#.shape"
   ]
  },
  {
   "cell_type": "code",
   "execution_count": null,
   "id": "4022faf4",
   "metadata": {
    "scrolled": true
   },
   "outputs": [],
   "source": [
    "#12 account yg masuk\n",
    "combine2_.iloc[np.where(combine2_._merge=='left_only')]"
   ]
  },
  {
   "cell_type": "code",
   "execution_count": 41,
   "id": "53fb9207",
   "metadata": {},
   "outputs": [],
   "source": [
    "NegateJun23 = df.iloc[np.where((df['Position as At']=='2023-07-31')&~(df['Asset Quality Status'].isin(['Active-Watchlist'])))]\n"
   ]
  },
  {
   "cell_type": "code",
   "execution_count": 42,
   "id": "6e65b541",
   "metadata": {},
   "outputs": [
    {
     "data": {
      "text/plain": [
       "left_only     372\n",
       "both           13\n",
       "right_only      0\n",
       "Name: _merge, dtype: int64"
      ]
     },
     "execution_count": 42,
     "metadata": {},
     "output_type": "execute_result"
    }
   ],
   "source": [
    "info = NegateJun23.merge(combine2.iloc[np.where(combine2._merge=='left_only')][['EXIM Account No.']], on='EXIM Account No.', how='left', indicator=True)\n",
    "info._merge.value_counts()"
   ]
  },
  {
   "cell_type": "code",
   "execution_count": 43,
   "id": "debca4ae",
   "metadata": {},
   "outputs": [
    {
     "data": {
      "text/plain": [
       "Active           7\n",
       "Fully Settled    4\n",
       "Impaired         2\n",
       "Name: Status, dtype: int64"
      ]
     },
     "execution_count": 43,
     "metadata": {},
     "output_type": "execute_result"
    }
   ],
   "source": [
    "info.iloc[np.where(info._merge=='both')].Status.value_counts()"
   ]
  },
  {
   "cell_type": "code",
   "execution_count": 44,
   "id": "8a00b2aa",
   "metadata": {},
   "outputs": [
    {
     "data": {
      "text/plain": [
       "both          22\n",
       "left_only      0\n",
       "right_only     0\n",
       "Name: Tag, dtype: int64"
      ]
     },
     "execution_count": 44,
     "metadata": {},
     "output_type": "execute_result"
    }
   ],
   "source": [
    "info = combine.iloc[np.where(combine._merge=='left_only')].merge(NegateDec21[['EXIM Account No.']], on='EXIM Account No.', how='left', indicator='Tag')\n",
    "\n",
    "info.Tag.value_counts()"
   ]
  },
  {
   "cell_type": "code",
   "execution_count": 45,
   "id": "14484837",
   "metadata": {},
   "outputs": [
    {
     "data": {
      "text/plain": [
       "Series([], Name: Status, dtype: int64)"
      ]
     },
     "execution_count": 45,
     "metadata": {},
     "output_type": "execute_result"
    }
   ],
   "source": [
    "info.iloc[np.where(info.Tag=='left_only')].Status.value_counts()"
   ]
  },
  {
   "cell_type": "code",
   "execution_count": 46,
   "id": "cbba11ee",
   "metadata": {},
   "outputs": [
    {
     "data": {
      "text/html": [
       "<div>\n",
       "<style scoped>\n",
       "    .dataframe tbody tr th:only-of-type {\n",
       "        vertical-align: middle;\n",
       "    }\n",
       "\n",
       "    .dataframe tbody tr th {\n",
       "        vertical-align: top;\n",
       "    }\n",
       "\n",
       "    .dataframe thead th {\n",
       "        text-align: right;\n",
       "    }\n",
       "</style>\n",
       "<table border=\"1\" class=\"dataframe\">\n",
       "  <thead>\n",
       "    <tr style=\"text-align: right;\">\n",
       "      <th></th>\n",
       "      <th>No.</th>\n",
       "      <th>CIF Number</th>\n",
       "      <th>EXIM Account No.</th>\n",
       "      <th>Application System Code</th>\n",
       "      <th>CCRIS Master Account Number</th>\n",
       "      <th>CCRIS Sub Account Number</th>\n",
       "      <th>Finance(SAP) Number</th>\n",
       "      <th>Company Group</th>\n",
       "      <th>Customer Name</th>\n",
       "      <th>Relationship Manager (RM)</th>\n",
       "      <th>Banking Team</th>\n",
       "      <th>Ownership</th>\n",
       "      <th>Officer in Charge</th>\n",
       "      <th>Syndicated / Club Deal</th>\n",
       "      <th>Nature of Account</th>\n",
       "      <th>Facility</th>\n",
       "      <th>Facility Currency</th>\n",
       "      <th>Type of Financing</th>\n",
       "      <th>Shariah Contract / Concept</th>\n",
       "      <th>Status</th>\n",
       "      <th>Post Approval Stage</th>\n",
       "      <th>Date of Ready for Utilization (RU)</th>\n",
       "      <th>Restructured / Rescheduled\\n(Y/N)</th>\n",
       "      <th>Amount Approved / Facility Limit (Facility Currency)</th>\n",
       "      <th>Amount Approved / Facility Limit (MYR)</th>\n",
       "      <th>Cost/Principal Outstanding (Facility Currency)</th>\n",
       "      <th>Cost/Principal Outstanding (MYR)</th>\n",
       "      <th>Contingent Liability Letter of Credit (Facility Currency)</th>\n",
       "      <th>Contingent Liability Letter of Credit (MYR)</th>\n",
       "      <th>Contingent Liability (Facility Currency)</th>\n",
       "      <th>Contingent Liability (MYR)</th>\n",
       "      <th>Account Receivables/Past Due Claims (Facility Currency)</th>\n",
       "      <th>Account Receivable/Past Due Claims (MYR)</th>\n",
       "      <th>Total Banking Exposure \\n(Facility Currency)</th>\n",
       "      <th>Total Banking Exposure (MYR)</th>\n",
       "      <th>Accrued Profit/\\nInterest of the month\\n (Facility Currency)</th>\n",
       "      <th>Accrued Profit/Interest of the month\\n (MYR)</th>\n",
       "      <th>Modification of Loss (Facility Currency)</th>\n",
       "      <th>Modification of Loss (MYR)</th>\n",
       "      <th>Cumulative Accrued Profit/Interest (Facility Currency)</th>\n",
       "      <th>Cumulative Accrued Profit/Interest (MYR)</th>\n",
       "      <th>Penalty/Ta`widh (Facility Currency)</th>\n",
       "      <th>Penalty/Ta`widh (MYR)</th>\n",
       "      <th>Income/Interest in Suspense (Facility Currency)</th>\n",
       "      <th>Income/Interest in Suspense (MYR)</th>\n",
       "      <th>Other Charges (Facility Currency)</th>\n",
       "      <th>Other Charges (MYR)</th>\n",
       "      <th>Total Loans Outstanding (Facility Currency)</th>\n",
       "      <th>Total Loans Outstanding (MYR)</th>\n",
       "      <th>Expected Credit Loss (ECL) LAF (Facility Currency)</th>\n",
       "      <th>Expected Credit Loss LAF (ECL) (MYR)</th>\n",
       "      <th>Expected Credit Loss C&amp;C (ECL) (Facility Currency)</th>\n",
       "      <th>Expected Credit Loss C&amp;C (ECL) (MYR)</th>\n",
       "      <th>Disbursement/\\nDrawdown Status</th>\n",
       "      <th>Unutilised/\\nUndrawn Amount (Facility Currency)</th>\n",
       "      <th>Unutilised/\\nUndrawn Amount (MYR)</th>\n",
       "      <th>Disbursement/\\nDrawdown \\n(Facility Currency)</th>\n",
       "      <th>Disbursement/Drawdown (MYR)</th>\n",
       "      <th>Cumulative Disbursement/\\nDrawdown \\n(Facility Currency)</th>\n",
       "      <th>Cumulative Disbursement/\\nDrawdown \\n(MYR)</th>\n",
       "      <th>Cost Payment/\\nPrincipal Repayment \\n(Facility Currency)</th>\n",
       "      <th>Cost Payment/\\nPrincipal Repayment \\n(MYR)</th>\n",
       "      <th>Cumulative \\nCost Payment/\\nPrincipal Repayment (Facility Currency)</th>\n",
       "      <th>Cumulative \\nCost Payment/\\nPrincipal Repayment \\n(MYR)</th>\n",
       "      <th>Profit Payment/\\nInterest Repayment (Facility Currency)</th>\n",
       "      <th>Profit Payment/\\nInterest Repayment \\n(MYR)</th>\n",
       "      <th>Cumulative \\nProfit Payment/\\nInterest Repayment (Facility Currency)</th>\n",
       "      <th>Cumulative \\nProfit Payment/\\nInterest Repayment \\n(MYR)</th>\n",
       "      <th>Ta`widh Payment/\\nPenalty Repayment (Facility Currency)</th>\n",
       "      <th>Ta`widh Payment/\\nPenalty Repayment  \\n(MYR)</th>\n",
       "      <th>Cumulative \\nTa`widh Payment/\\nPenalty Repayment (Facility Currency)</th>\n",
       "      <th>Cumulative \\nTa`widh Payment/\\nPenalty Repayment  \\n(MYR)</th>\n",
       "      <th>Other Charges Payment (Facility Currency)</th>\n",
       "      <th>Other Charges Payment (MYR)</th>\n",
       "      <th>Cumulative Other Charges Payment (Facility Currency)</th>\n",
       "      <th>Cumulative Other Charges Payment (MYR)</th>\n",
       "      <th>Rating at Origination</th>\n",
       "      <th>PD</th>\n",
       "      <th>PF</th>\n",
       "      <th>CRMS Obligor Risk Rating</th>\n",
       "      <th>PD (%)</th>\n",
       "      <th>LGD (%)</th>\n",
       "      <th>Risk Analyst</th>\n",
       "      <th>MFRS9 Staging</th>\n",
       "      <th>BNM Main Sector</th>\n",
       "      <th>BNM Sub Sector</th>\n",
       "      <th>EXIM Main Sector</th>\n",
       "      <th>Industry (Risk)</th>\n",
       "      <th>Industry Classification</th>\n",
       "      <th>Purpose of Financing</th>\n",
       "      <th>Date Approved at Origination</th>\n",
       "      <th>Approval Authority</th>\n",
       "      <th>LO issuance Date</th>\n",
       "      <th>Date of LO Acceptance</th>\n",
       "      <th>1st Disbursement/Drawdown Date</th>\n",
       "      <th>1st Payment/\\nRepayment Date</th>\n",
       "      <th>Expiry of Availability Period</th>\n",
       "      <th>Facility Agreement Date</th>\n",
       "      <th>Annual Review Date</th>\n",
       "      <th>Watchlist Review Date</th>\n",
       "      <th>Maturity/Expired Date</th>\n",
       "      <th>Grace Period (Month)</th>\n",
       "      <th>Moratorium Period (Month)</th>\n",
       "      <th>Start Moratorium Date</th>\n",
       "      <th>Fund Type</th>\n",
       "      <th>Tenure (Month)</th>\n",
       "      <th>Payment/Repayment Frequency (Profit/Interest)</th>\n",
       "      <th>Payment/Repayment Frequency (Cost/Principal)</th>\n",
       "      <th>Effective cost of borrowings</th>\n",
       "      <th>Profit/Interest Margin</th>\n",
       "      <th>Average Profit/Interest Rate</th>\n",
       "      <th>Ta`widh Compensation/Penalty Rate</th>\n",
       "      <th>Operation Country</th>\n",
       "      <th>Country Exposure</th>\n",
       "      <th>Country Rating</th>\n",
       "      <th>Region</th>\n",
       "      <th>Market Type</th>\n",
       "      <th>Classification of Entity / Customer Type</th>\n",
       "      <th>Entity / Customer Type</th>\n",
       "      <th>Classification of Residency Status</th>\n",
       "      <th>Residency Status</th>\n",
       "      <th>Corporate Type</th>\n",
       "      <th>SME Commercial Corporate</th>\n",
       "      <th>Corporate Status</th>\n",
       "      <th>Justification on Corporate Status</th>\n",
       "      <th>Restructured / Rescheduled</th>\n",
       "      <th>Date of Approval Restructured / Rescheduled</th>\n",
       "      <th>Effective Date</th>\n",
       "      <th>Reason</th>\n",
       "      <th>Date Untagged from R&amp;R</th>\n",
       "      <th>Justification for Untagged</th>\n",
       "      <th>Frequency</th>\n",
       "      <th>Date of Overdue</th>\n",
       "      <th>Overdue (Days)</th>\n",
       "      <th>Month in Arrears</th>\n",
       "      <th>Overdue Amount (Facility Currency)</th>\n",
       "      <th>Overdue Amount (MYR)</th>\n",
       "      <th>Date Classified as Watchlist</th>\n",
       "      <th>Watchlist Reason</th>\n",
       "      <th>Date Declassified from Watchlist</th>\n",
       "      <th>Date Impaired</th>\n",
       "      <th>Reason for Impairment</th>\n",
       "      <th>Partial Write off Date</th>\n",
       "      <th>Write off Date</th>\n",
       "      <th>Cancellation Date/Fully Settled Date</th>\n",
       "      <th>Position as At</th>\n",
       "      <th>Oustanding Ratio</th>\n",
       "      <th>Since Impaired (Months)</th>\n",
       "      <th>Turned Impaired (Months)</th>\n",
       "      <th>Outstanding Category</th>\n",
       "      <th>Turned Impaired Category</th>\n",
       "      <th>Tenure Category</th>\n",
       "      <th>Trade Non Trade</th>\n",
       "      <th>Since Watchlist (Months)</th>\n",
       "      <th>Turned Watchlist (Months)</th>\n",
       "      <th>Turned Watchlist Category</th>\n",
       "      <th>Profit/Interest Margin (MYR)</th>\n",
       "      <th>Year Impaired</th>\n",
       "      <th>Year Watchlist</th>\n",
       "      <th>Asset Quality Status</th>\n",
       "      <th>_merge</th>\n",
       "      <th>Tag</th>\n",
       "    </tr>\n",
       "  </thead>\n",
       "  <tbody>\n",
       "  </tbody>\n",
       "</table>\n",
       "</div>"
      ],
      "text/plain": [
       "Empty DataFrame\n",
       "Columns: [No., CIF Number, EXIM Account No., Application System Code, CCRIS Master Account Number, CCRIS Sub Account Number, Finance(SAP) Number, Company Group, Customer Name, Relationship Manager (RM), Banking Team, Ownership, Officer in Charge, Syndicated / Club Deal, Nature of Account, Facility, Facility Currency, Type of Financing, Shariah Contract / Concept, Status, Post Approval Stage, Date of Ready for Utilization (RU), Restructured / Rescheduled\n",
       "(Y/N), Amount Approved / Facility Limit (Facility Currency), Amount Approved / Facility Limit (MYR), Cost/Principal Outstanding (Facility Currency), Cost/Principal Outstanding (MYR), Contingent Liability Letter of Credit (Facility Currency), Contingent Liability Letter of Credit (MYR), Contingent Liability (Facility Currency), Contingent Liability (MYR), Account Receivables/Past Due Claims (Facility Currency), Account Receivable/Past Due Claims (MYR), Total Banking Exposure \n",
       "(Facility Currency), Total Banking Exposure (MYR), Accrued Profit/\n",
       "Interest of the month\n",
       " (Facility Currency), Accrued Profit/Interest of the month\n",
       " (MYR), Modification of Loss (Facility Currency), Modification of Loss (MYR), Cumulative Accrued Profit/Interest (Facility Currency), Cumulative Accrued Profit/Interest (MYR), Penalty/Ta`widh (Facility Currency), Penalty/Ta`widh (MYR), Income/Interest in Suspense (Facility Currency), Income/Interest in Suspense (MYR), Other Charges (Facility Currency), Other Charges (MYR), Total Loans Outstanding (Facility Currency), Total Loans Outstanding (MYR), Expected Credit Loss (ECL) LAF (Facility Currency), Expected Credit Loss LAF (ECL) (MYR), Expected Credit Loss C&C (ECL) (Facility Currency), Expected Credit Loss C&C (ECL) (MYR), Disbursement/\n",
       "Drawdown Status, Unutilised/\n",
       "Undrawn Amount (Facility Currency), Unutilised/\n",
       "Undrawn Amount (MYR), Disbursement/\n",
       "Drawdown \n",
       "(Facility Currency), Disbursement/Drawdown (MYR), Cumulative Disbursement/\n",
       "Drawdown \n",
       "(Facility Currency), Cumulative Disbursement/\n",
       "Drawdown \n",
       "(MYR), Cost Payment/\n",
       "Principal Repayment \n",
       "(Facility Currency), Cost Payment/\n",
       "Principal Repayment \n",
       "(MYR), Cumulative \n",
       "Cost Payment/\n",
       "Principal Repayment (Facility Currency), Cumulative \n",
       "Cost Payment/\n",
       "Principal Repayment \n",
       "(MYR), Profit Payment/\n",
       "Interest Repayment (Facility Currency), Profit Payment/\n",
       "Interest Repayment \n",
       "(MYR), Cumulative \n",
       "Profit Payment/\n",
       "Interest Repayment (Facility Currency), Cumulative \n",
       "Profit Payment/\n",
       "Interest Repayment \n",
       "(MYR), Ta`widh Payment/\n",
       "Penalty Repayment (Facility Currency), Ta`widh Payment/\n",
       "Penalty Repayment  \n",
       "(MYR), Cumulative \n",
       "Ta`widh Payment/\n",
       "Penalty Repayment (Facility Currency), Cumulative \n",
       "Ta`widh Payment/\n",
       "Penalty Repayment  \n",
       "(MYR), Other Charges Payment (Facility Currency), Other Charges Payment (MYR), Cumulative Other Charges Payment (Facility Currency), Cumulative Other Charges Payment (MYR), Rating at Origination, PD, PF, CRMS Obligor Risk Rating, PD (%), LGD (%), Risk Analyst, MFRS9 Staging, BNM Main Sector, BNM Sub Sector, EXIM Main Sector, Industry (Risk), Industry Classification, Purpose of Financing, Date Approved at Origination, Approval Authority, LO issuance Date, Date of LO Acceptance, 1st Disbursement/Drawdown Date, 1st Payment/\n",
       "Repayment Date, Expiry of Availability Period, Facility Agreement Date, Annual Review Date, Watchlist Review Date, ...]\n",
       "Index: []"
      ]
     },
     "execution_count": 46,
     "metadata": {},
     "output_type": "execute_result"
    }
   ],
   "source": [
    "info.iloc[np.where(info.Tag=='left_only')]"
   ]
  },
  {
   "cell_type": "code",
   "execution_count": null,
   "id": "bc0975df",
   "metadata": {},
   "outputs": [],
   "source": []
  }
 ],
 "metadata": {
  "kernelspec": {
   "display_name": "Python 3 (ipykernel)",
   "language": "python",
   "name": "python3"
  },
  "language_info": {
   "codemirror_mode": {
    "name": "ipython",
    "version": 3
   },
   "file_extension": ".py",
   "mimetype": "text/x-python",
   "name": "python",
   "nbconvert_exporter": "python",
   "pygments_lexer": "ipython3",
   "version": "3.11.3"
  }
 },
 "nbformat": 4,
 "nbformat_minor": 5
}
