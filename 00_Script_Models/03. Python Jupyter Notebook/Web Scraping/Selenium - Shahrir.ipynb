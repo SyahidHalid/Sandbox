{
 "cells": [
  {
   "cell_type": "code",
   "execution_count": 1,
   "id": "0982073b",
   "metadata": {},
   "outputs": [
    {
     "ename": "ModuleNotFoundError",
     "evalue": "No module named 'Selenium'",
     "output_type": "error",
     "traceback": [
      "\u001b[1;31m---------------------------------------------------------------------------\u001b[0m",
      "\u001b[1;31mModuleNotFoundError\u001b[0m                       Traceback (most recent call last)",
      "Cell \u001b[1;32mIn[1], line 2\u001b[0m\n\u001b[0;32m      1\u001b[0m \u001b[38;5;28;01mfrom\u001b[39;00m \u001b[38;5;21;01mselenium\u001b[39;00m \u001b[38;5;28;01mimport\u001b[39;00m webdriver\n\u001b[1;32m----> 2\u001b[0m \u001b[38;5;28;01mfrom\u001b[39;00m \u001b[38;5;21;01mSelenium\u001b[39;00m\u001b[38;5;21;01m.\u001b[39;00m\u001b[38;5;21;01mwebdriver\u001b[39;00m\u001b[38;5;21;01m.\u001b[39;00m\u001b[38;5;21;01mcommon\u001b[39;00m\u001b[38;5;21;01m.\u001b[39;00m\u001b[38;5;21;01mkeys\u001b[39;00m \u001b[38;5;28;01mimport\u001b[39;00m Keys\n\u001b[0;32m      3\u001b[0m \u001b[38;5;28;01mfrom\u001b[39;00m \u001b[38;5;21;01mSelenium\u001b[39;00m\u001b[38;5;21;01m.\u001b[39;00m\u001b[38;5;21;01mwebdriver\u001b[39;00m\u001b[38;5;21;01m.\u001b[39;00m\u001b[38;5;21;01mcommon\u001b[39;00m\u001b[38;5;21;01m.\u001b[39;00m\u001b[38;5;21;01mby\u001b[39;00m \u001b[38;5;28;01mimport\u001b[39;00m By\n",
      "\u001b[1;31mModuleNotFoundError\u001b[0m: No module named 'Selenium'"
     ]
    }
   ],
   "source": [
    "from selenium import webdriver\n",
    "from Selenium.webdriver.common.keys import Keys\n",
    "from Selenium.webdriver.common.by import By"
   ]
  },
  {
   "cell_type": "code",
   "execution_count": 18,
   "id": "3070cb68",
   "metadata": {},
   "outputs": [],
   "source": [
    "# All necessary library\n",
    "import time\n",
    "import datetime\n",
    "import pandas as pd\n",
    "from selenium import webdriver\n",
    "from selenium.webdriver.common.by import By\n",
    "from selenium.webdriver.chrome.service import Service\n",
    "\n",
    "# Preparing chrome driver \n",
    "s = Service(\"./msedgedriver.exe\")\n",
    "url = \"https://www.matrade.gov.my/apps/mpd/product_items.php?OpenForm&query=product&code=AE01&sid=ef65170c4b094c1c0ac07d6e267b27a3&page=1&totalcount=32&orcode=AE&orsid=&title=QWVyb3NwYWNlIC0gQUVSTy1NQU5VRkFDVFVSSU5H\"\n",
    "driver = webdriver.Edge(service=s)\n",
    "driver.get(url)\n",
    "\n",
    "# # To let the page load the data first\n",
    "# time.sleep(10)\n",
    "\n",
    "# # Locating the drop down option. \n",
    "# dropdownoption = driver.find_element(By.CLASS_NAME,\n",
    "#     'selector').find_element(By.CLASS_NAME,\n",
    "#     'countries')\n",
    "\n",
    "# # Open the drop down option\n",
    "# opendropdown = dropdownoption.click()\n",
    "\n",
    "# # To let the page load the data first\n",
    "# time.sleep(5)\n",
    "\n",
    "# # Find & select Singapore\n",
    "# findsingapore = dropdownoption.find_element(By.XPATH,\n",
    "#     '//*[@data-value=\"Singapore\"]')\n",
    "# selectsingapore = findsingapore.click() \n",
    "\n",
    "# # Locate where data is\n",
    "# job_table = driver.find_element(By.CLASS_NAME,\n",
    "#     'vacancies').find_elements(By.TAG_NAME,\n",
    "#     'div')\n",
    "\n",
    "# try:\n",
    "\n",
    "#     job_added_list = []\n",
    "\n",
    "#     # Looping for job\n",
    "#     for i in job_table:\n",
    "\n",
    "#         # To give some space between jobs.\n",
    "#         print(\" \")\n",
    "\n",
    "#         # Job Position\n",
    "#         try:\n",
    "#             jobposition = i.find_element(By.TAG_NAME,\n",
    "#                 'a').text\n",
    "#             print(\"Title:\", jobposition)\n",
    "#         except:\n",
    "#             break\n",
    "\n",
    "#         # Company\n",
    "#         company = \"Acronis\"\n",
    "#         print(\"Company: \", company)\n",
    "        \n",
    "#         # Country\n",
    "#         country_name = i.find_element(By.TAG_NAME,\n",
    "#             'strong').text\n",
    "#         print('Country:', country_name)\n",
    "\n",
    "#         # Scrap_date\n",
    "#         s_date = datetime.datetime.now()\n",
    "#         print(\"Scrap date:\", s_date)\n",
    "\n",
    "#         # Job Link\n",
    "#         joblink = i.find_element(By.TAG_NAME,\n",
    "#             'a').get_attribute('href')\n",
    "#         print(\"Joblink:\", joblink)\n",
    "\n",
    "#         # Putting the job info into dictionary\n",
    "#         Job_details = {\n",
    "#             \"title\": jobposition,\n",
    "#             \"categories\": None,\n",
    "#             \"location\": country_name,\n",
    "#             \"company\": company,\n",
    "#             \"scrap_datetime\": s_date,\n",
    "#             \"link\": joblink\n",
    "#         }\n",
    "\n",
    "#         # Put the dictionary into the list\n",
    "#         job_added_list.append(Job_details)\n",
    "#         print(\"Job Added No.:\", len(job_added_list))\n",
    "    \n",
    "#     # Save data into CSV\n",
    "#     df = pd.DataFrame(job_added_list)\n",
    "#     df.to_csv('Acronis.csv',\n",
    "#               index=False, encoding='utf-8')\n",
    "\n",
    "# finally:\n",
    "#     driver.quit()"
   ]
  },
  {
   "cell_type": "code",
   "execution_count": 8,
   "id": "c17c6de5",
   "metadata": {},
   "outputs": [
    {
     "name": "stdout",
     "output_type": "stream",
     "text": [
      "D:\\Python (Syahid)\test\n"
     ]
    }
   ],
   "source": [
    "import os\n",
    "\n",
    "def get_current_path():\n",
    "  return os.getcwd()\n",
    "\n",
    "print(get_current_path())\n"
   ]
  },
  {
   "cell_type": "code",
   "execution_count": 7,
   "id": "617ab630",
   "metadata": {},
   "outputs": [
    {
     "ename": "FileNotFoundError",
     "evalue": "[WinError 2] The system cannot find the file specified: '/tmp'",
     "output_type": "error",
     "traceback": [
      "\u001b[1;31m---------------------------------------------------------------------------\u001b[0m",
      "\u001b[1;31mFileNotFoundError\u001b[0m                         Traceback (most recent call last)",
      "\u001b[1;32m~\\AppData\\Local\\Temp/ipykernel_11280/740438062.py\u001b[0m in \u001b[0;36m<module>\u001b[1;34m\u001b[0m\n\u001b[0;32m      1\u001b[0m \u001b[1;32mimport\u001b[0m \u001b[0mos\u001b[0m\u001b[1;33m\u001b[0m\u001b[1;33m\u001b[0m\u001b[0m\n\u001b[0;32m      2\u001b[0m \u001b[1;33m\u001b[0m\u001b[0m\n\u001b[1;32m----> 3\u001b[1;33m \u001b[0mos\u001b[0m\u001b[1;33m.\u001b[0m\u001b[0mchdir\u001b[0m\u001b[1;33m(\u001b[0m\u001b[1;34m'/tmp'\u001b[0m\u001b[1;33m)\u001b[0m\u001b[1;33m\u001b[0m\u001b[1;33m\u001b[0m\u001b[0m\n\u001b[0m",
      "\u001b[1;31mFileNotFoundError\u001b[0m: [WinError 2] The system cannot find the file specified: '/tmp'"
     ]
    }
   ],
   "source": [
    "import os\n",
    "\n",
    "os.chdir('/tmp')\n"
   ]
  },
  {
   "cell_type": "code",
   "execution_count": null,
   "id": "27a337f8",
   "metadata": {},
   "outputs": [],
   "source": []
  }
 ],
 "metadata": {
  "kernelspec": {
   "display_name": "Python 3 (ipykernel)",
   "language": "python",
   "name": "python3"
  },
  "language_info": {
   "codemirror_mode": {
    "name": "ipython",
    "version": 3
   },
   "file_extension": ".py",
   "mimetype": "text/x-python",
   "name": "python",
   "nbconvert_exporter": "python",
   "pygments_lexer": "ipython3",
   "version": "3.11.3"
  }
 },
 "nbformat": 4,
 "nbformat_minor": 5
}
