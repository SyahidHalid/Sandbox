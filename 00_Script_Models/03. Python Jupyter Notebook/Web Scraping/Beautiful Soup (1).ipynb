{
 "cells": [
  {
   "cell_type": "code",
   "execution_count": 26,
   "id": "9124777a",
   "metadata": {},
   "outputs": [
    {
     "name": "stdout",
     "output_type": "stream",
     "text": [
      "From electronics to processed food, made in Malaysia products are found in more than 200 countries worldwide. Product Directory lists Malaysian exporters registered with MATRADE comprising of manufacturers, contract manufacturers and traders.-Click Here   \n",
      "With interactive elements such as company profiles and business description, exporters’ microsites, products and services listings and feature highlight, exporters and buyers from around the world can access and share trade information as well as establishing hassle-free communication between each other.-Click Here   \n",
      "Promoting Malaysia's premier brand to the world. Highlighting brands that feature strong positive values, superior innovations and global appeal.-Click Here   \n"
     ]
    }
   ],
   "source": [
    "#IMPORT LIBRARIES\n",
    "from bs4 import BeautifulSoup\n",
    "import requests\n",
    "\n",
    "#REQUEST WEBPAGE AND STORE IT AS A VARIABLE\n",
    "page_to_scrape = requests.get(\"https://www.matrade.gov.my/en/directory-hub\")\n",
    "\n",
    "#USE BEAUTIFULSOUP TO PARSE THE HTML AND STORE IT AS A VARIABLE\n",
    "soup = BeautifulSoup(page_to_scrape.text, 'html.parser')\n",
    "\n",
    "#FIND ALL THE ITEMS IN THE PAGE WITH A CLASS ATTRIBUTE OF 'TEXT'\n",
    "#AND STORE THE LIST AS A VARIABLE\n",
    "quotes = soup.findAll('p', attrs={'style':'text-align: justify;'})\n",
    "\n",
    "#FIND ALL THE ITEMS IN THE PAGE WITH A CLASS ATTRIBUTE OF 'AUTHOR'\n",
    "#AND STORE THE LIST AS A VARIABLE\n",
    "authors = soup.findAll('a', attrs={\"class\":\"btn btn-primary\"})\n",
    "\n",
    "#LOOP THROUGH BOTH LISTS USING THE 'ZIP' FUNCTION\n",
    "#AND PRINT AND FORMAT THE RESULTS\n",
    "for quote, author in zip(quotes, authors):\n",
    "    print(quote.text + \"-\" + author.text+\"   \")"
   ]
  },
  {
   "cell_type": "code",
   "execution_count": 16,
   "id": "90721cbf",
   "metadata": {},
   "outputs": [],
   "source": [
    "from bs4 import BeautifulSoup\n",
    "import requests\n",
    "import csv\n",
    "\n",
    "#REQUEST WEBPAGE AND STORE IT AS A VARIABLE\n",
    "page_to_scrape = requests.get(\"https://www.matrade.gov.my/en/directory-hub\")\n",
    "\n",
    "#USE BEAUTIFULSOUP TO PARSE THE HTML AND STORE IT AS A VARIABLE\n",
    "soup = BeautifulSoup(page_to_scrape.text, 'html.parser')\n"
   ]
  },
  {
   "cell_type": "code",
   "execution_count": 19,
   "id": "2ad837fa",
   "metadata": {},
   "outputs": [],
   "source": [
    "#FIND ALL THE ITEMS IN THE PAGE WITH A CLASS ATTRIBUTE OF 'TEXT'\n",
    "#AND STORE THE LIST AS A VARIABLE\n",
    "button = soup.findAll('a', attrs={'class':'btn btn=primary'})\n",
    "\n",
    "#FIND ALL THE ITEMS IN THE PAGE WITH A CLASS ATTRIBUTE OF 'AUTHOR'\n",
    "#AND STORE THE LIST AS A VARIABLE\n",
    "title = soup.findAll('div', attrs={\"class\":\"ex-dev-text\"})\n"
   ]
  },
  {
   "cell_type": "code",
   "execution_count": 23,
   "id": "2e4b4846",
   "metadata": {
    "scrolled": true
   },
   "outputs": [],
   "source": [
    "for button in button:\n",
    "    print(button.text)"
   ]
  },
  {
   "cell_type": "code",
   "execution_count": 24,
   "id": "723264d4",
   "metadata": {},
   "outputs": [
    {
     "data": {
      "text/plain": [
       "[]"
      ]
     },
     "execution_count": 24,
     "metadata": {},
     "output_type": "execute_result"
    }
   ],
   "source": [
    "button"
   ]
  },
  {
   "cell_type": "code",
   "execution_count": 20,
   "id": "fd2a221a",
   "metadata": {},
   "outputs": [
    {
     "data": {
      "text/plain": [
       "17"
      ]
     },
     "execution_count": 20,
     "metadata": {},
     "output_type": "execute_result"
    }
   ],
   "source": [
    "#OPEN A NEW CSV FILE. IT CAN BE CALLED ANYTHING\n",
    "file = open('scraped_quotes.csv', 'w')\n",
    "#CREATE A VARIABLE FOR WRITING TO THE CSV\n",
    "writer = csv.writer(file)\n",
    "#CREATE THE HEADER ROW OF THE CSV\n",
    "writer.writerow(['Company', 'Address'])"
   ]
  },
  {
   "cell_type": "code",
   "execution_count": 21,
   "id": "e9729c49",
   "metadata": {},
   "outputs": [],
   "source": [
    "#LOOP THROUGH BOTH LISTS USING THE 'ZIP' FUNCTION\n",
    "#AND PRINT AND FORMAT THE RESULTS\n",
    "for quote, author in zip(quotes, authors):\n",
    "    print(quote.text + \"-\" + author.text)\n",
    "    #WRITE EACH ITEM AS A NEW ROW IN THE CSV\n",
    "    writer.writerow([quote.text, author.text])\n",
    "#CLOSE THE CSV FILE\n",
    "file.close()"
   ]
  },
  {
   "cell_type": "markdown",
   "id": "d8be5cf7",
   "metadata": {},
   "source": [
    "# lxml"
   ]
  },
  {
   "cell_type": "code",
   "execution_count": null,
   "id": "0ae35f22",
   "metadata": {},
   "outputs": [],
   "source": []
  },
  {
   "cell_type": "code",
   "execution_count": null,
   "id": "07d987b3",
   "metadata": {},
   "outputs": [],
   "source": []
  }
 ],
 "metadata": {
  "kernelspec": {
   "display_name": "Python 3 (ipykernel)",
   "language": "python",
   "name": "python3"
  },
  "language_info": {
   "codemirror_mode": {
    "name": "ipython",
    "version": 3
   },
   "file_extension": ".py",
   "mimetype": "text/x-python",
   "name": "python",
   "nbconvert_exporter": "python",
   "pygments_lexer": "ipython3",
   "version": "3.11.3"
  }
 },
 "nbformat": 4,
 "nbformat_minor": 5
}
