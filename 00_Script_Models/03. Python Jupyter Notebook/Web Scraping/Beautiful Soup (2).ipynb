{
 "cells": [
  {
   "cell_type": "code",
   "execution_count": null,
   "id": "1a4f9e08",
   "metadata": {},
   "outputs": [],
   "source": [
    "from requests_html import HTMLSession\n",
    "from bs4 import BeautifulSoup\n",
    "\n",
    "\n",
    "s = HTMLSession()\n",
    "\n",
    "url = 'https://www.matrade.gov.my/en/directory-hub/malaysia-products-directory'\n",
    "\n",
    "def getdata(url):\n",
    "    r = s.get(url)\n",
    "    r.html.render(sleep=1)\n",
    "    soup = BeautifulSoup(r.html.html, 'html.parser')\n",
    "    return soup\n",
    "\n",
    "def getnextpage(soup):\n",
    "    # this will return the next page URL\n",
    "    pages = soup.find('ul', {'class': 'a-pagination'})\n",
    "    if not pages.find('li', {'class': 'a-disabled a-last'}):\n",
    "        url = 'https://www.amazon.co.uk' + str(pages.find('li', {'class': 'a-last'}).find('a')['href'])\n",
    "        return url\n",
    "    else:\n",
    "        return\n",
    "\n",
    "\n",
    "while True:\n",
    "    data = getdata(url)\n",
    "    url = getnextpage(data)\n",
    "    if not url:\n",
    "        break\n",
    "    print(url)"
   ]
  }
 ],
 "metadata": {
  "kernelspec": {
   "display_name": "Python 3 (ipykernel)",
   "language": "python",
   "name": "python3"
  },
  "language_info": {
   "codemirror_mode": {
    "name": "ipython",
    "version": 3
   },
   "file_extension": ".py",
   "mimetype": "text/x-python",
   "name": "python",
   "nbconvert_exporter": "python",
   "pygments_lexer": "ipython3",
   "version": "3.11.3"
  }
 },
 "nbformat": 4,
 "nbformat_minor": 5
}
