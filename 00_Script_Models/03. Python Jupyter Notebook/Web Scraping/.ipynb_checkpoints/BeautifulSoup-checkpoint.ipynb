{
 "cells": [
  {
   "cell_type": "code",
   "execution_count": 1,
   "id": "5572babf",
   "metadata": {},
   "outputs": [],
   "source": [
    "import requests\n",
    "from bs4 import BeautifulSoup"
   ]
  },
  {
   "cell_type": "code",
   "execution_count": 2,
   "id": "983dabb5",
   "metadata": {},
   "outputs": [],
   "source": [
    "url = \"https://www.matrade.gov.my/en/directory-hub/malaysia-products-directory\"\n",
    "\n",
    "# Send a GET request to the URL\n",
    "response = requests.get(url)"
   ]
  },
  {
   "cell_type": "code",
   "execution_count": 3,
   "id": "22bd3c9a",
   "metadata": {},
   "outputs": [],
   "source": [
    "# Create a BeautifulSoup object to parse the HTML content\n",
    "soup = BeautifulSoup(response.content, \"html.parser\")\n",
    "\n",
    "# Find all the company names in the directory\n",
    "company_names = soup.select(\".inner-item-list h4\")\n",
    "\n",
    "for name in company_names:\n",
    "    print(name.get_text())"
   ]
  },
  {
   "cell_type": "markdown",
   "id": "07a43c6b",
   "metadata": {},
   "source": [
    "# next example\n"
   ]
  },
  {
   "cell_type": "code",
   "execution_count": 1,
   "id": "093b713d",
   "metadata": {},
   "outputs": [],
   "source": [
    "import requests\n",
    "from bs4 import BeautifulSoup\n",
    "\n",
    "# Make a GET request to the website\n",
    "response = requests.get('https://www.matrade.gov.my/en/directory-hub')\n",
    "\n",
    "# Parse the HTML response\n",
    "soup = BeautifulSoup(response.content, 'html.parser')\n",
    "\n",
    "# Find all the company listings\n",
    "company_listings = soup.find_all('div', class_='company-listing')\n",
    "\n",
    "# Extract the company name and address from each listing\n",
    "for listing in company_listings:\n",
    "    company_name = listing.find('h3').text\n",
    "    company_address = listing.find('p', class_='company-address').text\n",
    "\n",
    "    # Print the company name and address to the console\n",
    "    print(f'{company_name} - {company_address}')"
   ]
  },
  {
   "cell_type": "markdown",
   "id": "806876af",
   "metadata": {},
   "source": [
    "# next example"
   ]
  },
  {
   "cell_type": "code",
   "execution_count": 1,
   "id": "5d84ceda",
   "metadata": {},
   "outputs": [
    {
     "ename": "AttributeError",
     "evalue": "module 'scrapy' has no attribute 'crawler'",
     "output_type": "error",
     "traceback": [
      "\u001b[1;31m---------------------------------------------------------------------------\u001b[0m",
      "\u001b[1;31mAttributeError\u001b[0m                            Traceback (most recent call last)",
      "Cell \u001b[1;32mIn[1], line 21\u001b[0m\n\u001b[0;32m     15\u001b[0m             \u001b[38;5;28;01myield\u001b[39;00m {\n\u001b[0;32m     16\u001b[0m                 \u001b[38;5;124m'\u001b[39m\u001b[38;5;124mcompany_name\u001b[39m\u001b[38;5;124m'\u001b[39m: company_name,\n\u001b[0;32m     17\u001b[0m                 \u001b[38;5;124m'\u001b[39m\u001b[38;5;124mcompany_address\u001b[39m\u001b[38;5;124m'\u001b[39m: company_address,\n\u001b[0;32m     18\u001b[0m             }\n\u001b[0;32m     20\u001b[0m \u001b[38;5;66;03m# Run the Scrapy spider\u001b[39;00m\n\u001b[1;32m---> 21\u001b[0m scrapy\u001b[38;5;241m.\u001b[39mcrawler\u001b[38;5;241m.\u001b[39mCrawlerProcess({\n\u001b[0;32m     22\u001b[0m     \u001b[38;5;124m'\u001b[39m\u001b[38;5;124mspiders\u001b[39m\u001b[38;5;124m'\u001b[39m: [MatradeDirectorySpider],\n\u001b[0;32m     23\u001b[0m })\u001b[38;5;241m.\u001b[39mstart()\n",
      "\u001b[1;31mAttributeError\u001b[0m: module 'scrapy' has no attribute 'crawler'"
     ]
    }
   ],
   "source": [
    "import scrapy\n",
    "\n",
    "class MatradeDirectorySpider(scrapy.Spider):\n",
    "    name = 'matrade_directory_spider'\n",
    "    start_urls = ['https://www.matrade.gov.my/en/directory-hub']\n",
    "\n",
    "    def parse(self, response):\n",
    "        # Extract the company name and address from each listing\n",
    "        company_listings = response.css('.company-listing')\n",
    "        for listing in company_listings:\n",
    "            company_name = listing.css('h3::text').extract_first()\n",
    "            company_address = listing.css('p.company-address::text').extract_first()\n",
    "\n",
    "            # Yield a Scrapy item\n",
    "            yield {\n",
    "                'company_name': company_name,\n",
    "                'company_address': company_address,\n",
    "            }\n",
    "\n",
    "# Run the Scrapy spider\n",
    "scrapy.crawler.CrawlerProcess({\n",
    "    'spiders': [MatradeDirectorySpider],\n",
    "}).start()\n"
   ]
  },
  {
   "cell_type": "code",
   "execution_count": null,
   "id": "44948869",
   "metadata": {},
   "outputs": [],
   "source": []
  }
 ],
 "metadata": {
  "kernelspec": {
   "display_name": "Python 3 (ipykernel)",
   "language": "python",
   "name": "python3"
  },
  "language_info": {
   "codemirror_mode": {
    "name": "ipython",
    "version": 3
   },
   "file_extension": ".py",
   "mimetype": "text/x-python",
   "name": "python",
   "nbconvert_exporter": "python",
   "pygments_lexer": "ipython3",
   "version": "3.11.3"
  }
 },
 "nbformat": 4,
 "nbformat_minor": 5
}
