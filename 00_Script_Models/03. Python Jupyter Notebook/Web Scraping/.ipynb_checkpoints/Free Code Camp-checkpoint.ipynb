{
 "cells": [
  {
   "cell_type": "markdown",
   "id": "cb685774",
   "metadata": {},
   "source": [
    "# 1 page"
   ]
  },
  {
   "cell_type": "code",
   "execution_count": 1,
   "id": "57a8d883",
   "metadata": {},
   "outputs": [],
   "source": [
    "import requests\n",
    "from bs4 import BeautifulSoup"
   ]
  },
  {
   "cell_type": "code",
   "execution_count": 2,
   "id": "31a6732a",
   "metadata": {},
   "outputs": [],
   "source": [
    "#page\n",
    "\n",
    "website ='https://www.matrade.gov.my/en/directory-hub'\n",
    "#website = 'https://subslikescript.com/movie/Titanic-120338'\n",
    "\n",
    "result = requests.get(website)\n",
    "content = result.text\n",
    "soup = BeautifulSoup(content, 'html')\n",
    "\n",
    "#print(soup.prettify())"
   ]
  },
  {
   "cell_type": "code",
   "execution_count": 6,
   "id": "0adf985e",
   "metadata": {},
   "outputs": [],
   "source": [
    "#whole content\n",
    "\n",
    "#box = soup.find('article', class_='main-article')\n",
    "box = soup.find('a', class_='btn btn-primary')"
   ]
  },
  {
   "cell_type": "code",
   "execution_count": 7,
   "id": "d6c31796",
   "metadata": {},
   "outputs": [
    {
     "data": {
      "text/plain": [
       "<a class=\"btn btn-primary\" href=\"/directory-hub/malaysia-products-directory\">Click Here</a>"
      ]
     },
     "execution_count": 7,
     "metadata": {},
     "output_type": "execute_result"
    }
   ],
   "source": [
    "box"
   ]
  },
  {
   "cell_type": "code",
   "execution_count": null,
   "id": "d0d56ddd",
   "metadata": {},
   "outputs": [],
   "source": []
  },
  {
   "cell_type": "code",
   "execution_count": 48,
   "id": "9105b673",
   "metadata": {},
   "outputs": [],
   "source": [
    "#title\n",
    "\n",
    "title = box.find('h1').get_text()\n",
    "#title = box.find('b').get_text()"
   ]
  },
  {
   "cell_type": "code",
   "execution_count": 49,
   "id": "cffd7f6d",
   "metadata": {},
   "outputs": [],
   "source": [
    "transcript = box.find('div', class_='full-script')\n",
    "\n",
    "#clean kn\n",
    "transcript1 = transcript.get_text(strip=True, separator=' ')"
   ]
  },
  {
   "cell_type": "code",
   "execution_count": 50,
   "id": "3d113613",
   "metadata": {},
   "outputs": [],
   "source": [
    "import pandas as pd\n",
    " \n",
    "# list of name, degree, score\n",
    "Titlee = [title]\n",
    "Trans = [transcript1]\n",
    " \n",
    "# dictionary of lists\n",
    "dict = {'name': Titlee, 'degree': Trans}\n",
    "     \n",
    "df = pd.DataFrame(dict)\n",
    " "
   ]
  },
  {
   "cell_type": "code",
   "execution_count": 51,
   "id": "10c735dc",
   "metadata": {},
   "outputs": [
    {
     "data": {
      "text/html": [
       "<div>\n",
       "<style scoped>\n",
       "    .dataframe tbody tr th:only-of-type {\n",
       "        vertical-align: middle;\n",
       "    }\n",
       "\n",
       "    .dataframe tbody tr th {\n",
       "        vertical-align: top;\n",
       "    }\n",
       "\n",
       "    .dataframe thead th {\n",
       "        text-align: right;\n",
       "    }\n",
       "</style>\n",
       "<table border=\"1\" class=\"dataframe\">\n",
       "  <thead>\n",
       "    <tr style=\"text-align: right;\">\n",
       "      <th></th>\n",
       "      <th>name</th>\n",
       "      <th>degree</th>\n",
       "    </tr>\n",
       "  </thead>\n",
       "  <tbody>\n",
       "    <tr>\n",
       "      <th>0</th>\n",
       "      <td>Titanic (1997) - full transcript</td>\n",
       "      <td>13 meters. You should see it. Okay, take her u...</td>\n",
       "    </tr>\n",
       "  </tbody>\n",
       "</table>\n",
       "</div>"
      ],
      "text/plain": [
       "                               name  \\\n",
       "0  Titanic (1997) - full transcript   \n",
       "\n",
       "                                              degree  \n",
       "0  13 meters. You should see it. Okay, take her u...  "
      ]
     },
     "execution_count": 51,
     "metadata": {},
     "output_type": "execute_result"
    }
   ],
   "source": [
    "df"
   ]
  },
  {
   "cell_type": "markdown",
   "id": "57a32441",
   "metadata": {},
   "source": [
    "# 2 page"
   ]
  },
  {
   "cell_type": "code",
   "execution_count": 17,
   "id": "b0ce5c90",
   "metadata": {},
   "outputs": [],
   "source": [
    "root = 'https://subslikescript.com'\n",
    "website = f'{root}/movies?page=3'\n",
    "\n",
    "#website ='https://www.matrade.gov.my/en/directory-hub/malaysia-products-directory'\n",
    "#http://subslikescript.com/movies?page=3"
   ]
  },
  {
   "cell_type": "code",
   "execution_count": 18,
   "id": "946c740d",
   "metadata": {},
   "outputs": [],
   "source": [
    "import requests\n",
    "from bs4 import BeautifulSoup\n",
    "\n",
    "result = requests.get(website)\n",
    "content = result.text\n",
    "soup = BeautifulSoup(content, 'lxml')\n"
   ]
  },
  {
   "cell_type": "code",
   "execution_count": 19,
   "id": "7c618a3f",
   "metadata": {
    "scrolled": true
   },
   "outputs": [
    {
     "data": {
      "text/plain": [
       "[<a href=\"movie/Fa_cai_lian_meng-24973372\" title=\"Read transcript of Movie 'Fa cai lian meng'\"><li>Fa cai lian meng (2023)</li></a>,\n",
       " <a href=\"movie/Agnes_Browne-160509\" title=\"Read transcript of Movie 'Agnes Browne'\"><li>Agnes Browne (1999)</li></a>,\n",
       " <a href=\"movie/Eldorado_Everything_the_Nazis_Hate-27906298\" title=\"Read transcript of Movie 'Eldorado: Everything the Nazis Hate'\"><li>Eldorado: Everything the Nazis Hate (2023)</li></a>,\n",
       " <a href=\"movie/Run_Rabbit_Run-12547822\" title=\"Read transcript of Movie 'Run Rabbit Run'\"><li>Run Rabbit Run (2023)</li></a>,\n",
       " <a href=\"movie/Hijack-1132589\" title=\"Read transcript of Movie 'Hijack'\"><li>Hijack (2008)</li></a>,\n",
       " <a href=\"movie/Seven_Mummies-415345\" title=\"Read transcript of Movie 'Seven Mummies'\"><li>Seven Mummies (2006)</li></a>,\n",
       " <a href=\"movie/A_Better_Tomorrow_III_Love_and_Death_in_Saigon-98691\" title=\"Read transcript of Movie 'A Better Tomorrow III: Love and Death in Saigon'\"><li>A Better Tomorrow III: Love and Death in Saigon (1989)</li></a>,\n",
       " <a href=\"movie/Lady_Bloodfight-4327752\" title=\"Read transcript of Movie 'Lady Bloodfight'\"><li>Lady Bloodfight (2016)</li></a>,\n",
       " <a href=\"movie/Annhi_Dea_Mazaak_Ae-27302088\" title=\"Read transcript of Movie 'Annhi Dea Mazaak Ae'\"><li>Annhi Dea Mazaak Ae (2023)</li></a>,\n",
       " <a href=\"movie/Ice_Bridge_The_Impossible_Journey-8309494\" title=\"Read transcript of Movie 'Ice Bridge: The Impossible Journey'\"><li>Ice Bridge: The Impossible Journey (2018)</li></a>,\n",
       " <a href=\"movie/Venus_fra_Vest-122780\" title=\"Read transcript of Movie 'Venus fra Vestø'\"><li>Venus fra Vestø (1962)</li></a>,\n",
       " <a href=\"movie/The_Butter_Battle_Book-213536\" title=\"Read transcript of Movie 'The Butter Battle Book'\"><li>The Butter Battle Book (1989)</li></a>,\n",
       " <a href=\"movie/Opal-13362084\" title=\"Read transcript of Movie 'Opal'\"><li>Opal (2020)</li></a>,\n",
       " <a href=\"movie/Sunday_Morning-172877\" title=\"Read transcript of Movie 'Sunday Morning'\"><li>Sunday Morning (1955)</li></a>,\n",
       " <a href=\"movie/Vento_del_Sud-215328\" title=\"Read transcript of Movie 'Vento del Sud'\"><li>Vento del Sud (1960)</li></a>,\n",
       " <a href=\"movie/Back_in_the_Day-3565538\" title=\"Read transcript of Movie 'Back in the Day'\"><li>Back in the Day (2004)</li></a>,\n",
       " <a href=\"movie/Liquid_Sky-85852\" title=\"Read transcript of Movie 'Liquid Sky'\"><li>Liquid Sky (1982)</li></a>,\n",
       " <a href=\"movie/Pascek_z_doliny-176008\" title=\"Read transcript of Movie 'Pasácek z doliny'\"><li>Pasácek z doliny (1985)</li></a>,\n",
       " <a href=\"movie/Satisfaction-96037\" title=\"Read transcript of Movie 'Satisfaction'\"><li>Satisfaction (1988)</li></a>,\n",
       " <a href=\"movie/Scream_of_the_Banshee-1548628\" title=\"Read transcript of Movie 'Scream of the Banshee'\"><li>Scream of the Banshee (2011)</li></a>,\n",
       " <a href=\"movie/Gabriels_Redemption_Part_One-23059678\" title=\"Read transcript of Movie 'Gabriel's Redemption: Part One'\"><li>Gabriel's Redemption: Part One (2023)</li></a>,\n",
       " <a href=\"movie/Mirror_for_a_Hero-94371\" title=\"Read transcript of Movie 'Mirror for a Hero'\"><li>Mirror for a Hero (1987)</li></a>,\n",
       " <a href=\"movie/Convict_762-118886\" title=\"Read transcript of Movie 'Convict 762'\"><li>Convict 762 (1997)</li></a>,\n",
       " <a href=\"movie/Daisy-Head_Mayzie-111933\" title=\"Read transcript of Movie 'Daisy-Head Mayzie'\"><li>Daisy-Head Mayzie (1995)</li></a>,\n",
       " <a href=\"movie/A_Blade_in_the_Dark-85303\" title=\"Read transcript of Movie 'A Blade in the Dark'\"><li>A Blade in the Dark (1983)</li></a>,\n",
       " <a href=\"movie/Karungaapiyam-18934038\" title=\"Read transcript of Movie 'Karungaapiyam'\"><li>Karungaapiyam (2023)</li></a>,\n",
       " <a href=\"movie/Theera_Kadhal-27236842\" title=\"Read transcript of Movie 'Theera Kadhal'\"><li>Theera Kadhal (2023)</li></a>,\n",
       " <a href=\"movie/Kasethan_Kadavulada-15163896\" title=\"Read transcript of Movie 'Kasethan Kadavulada'\"><li>Kasethan Kadavulada (2023)</li></a>,\n",
       " <a href=\"movie/Key_to_Love-14873756\" title=\"Read transcript of Movie 'Key to Love'\"><li>Key to Love (2023)</li></a>,\n",
       " <a href=\"movie/Joheun_saram_isseumyeon_sogae_shikeojwo-326992\" title=\"Read transcript of Movie 'Joheun saram isseumyeon sogae shikeojwo'\"><li>Joheun saram isseumyeon sogae shikeojwo (2002)</li></a>]"
      ]
     },
     "execution_count": 19,
     "metadata": {},
     "output_type": "execute_result"
    }
   ],
   "source": [
    "box = soup.find('article', class_='main-article')\n",
    "\n",
    "box.find_all('a', href=True)"
   ]
  },
  {
   "cell_type": "code",
   "execution_count": 20,
   "id": "3d0586a6",
   "metadata": {},
   "outputs": [],
   "source": [
    "for link in box.find_all('a.little', href=True):\n",
    "    link['href']"
   ]
  },
  {
   "cell_type": "code",
   "execution_count": 21,
   "id": "610a8a81",
   "metadata": {},
   "outputs": [],
   "source": [
    "links = [link['href'] for link in box.find_all('a', href=True)]\n"
   ]
  },
  {
   "cell_type": "code",
   "execution_count": 22,
   "id": "6346f466",
   "metadata": {
    "scrolled": true
   },
   "outputs": [
    {
     "data": {
      "text/plain": [
       "['movie/Fa_cai_lian_meng-24973372',\n",
       " 'movie/Agnes_Browne-160509',\n",
       " 'movie/Eldorado_Everything_the_Nazis_Hate-27906298',\n",
       " 'movie/Run_Rabbit_Run-12547822',\n",
       " 'movie/Hijack-1132589',\n",
       " 'movie/Seven_Mummies-415345',\n",
       " 'movie/A_Better_Tomorrow_III_Love_and_Death_in_Saigon-98691',\n",
       " 'movie/Lady_Bloodfight-4327752',\n",
       " 'movie/Annhi_Dea_Mazaak_Ae-27302088',\n",
       " 'movie/Ice_Bridge_The_Impossible_Journey-8309494',\n",
       " 'movie/Venus_fra_Vest-122780',\n",
       " 'movie/The_Butter_Battle_Book-213536',\n",
       " 'movie/Opal-13362084',\n",
       " 'movie/Sunday_Morning-172877',\n",
       " 'movie/Vento_del_Sud-215328',\n",
       " 'movie/Back_in_the_Day-3565538',\n",
       " 'movie/Liquid_Sky-85852',\n",
       " 'movie/Pascek_z_doliny-176008',\n",
       " 'movie/Satisfaction-96037',\n",
       " 'movie/Scream_of_the_Banshee-1548628',\n",
       " 'movie/Gabriels_Redemption_Part_One-23059678',\n",
       " 'movie/Mirror_for_a_Hero-94371',\n",
       " 'movie/Convict_762-118886',\n",
       " 'movie/Daisy-Head_Mayzie-111933',\n",
       " 'movie/A_Blade_in_the_Dark-85303',\n",
       " 'movie/Karungaapiyam-18934038',\n",
       " 'movie/Theera_Kadhal-27236842',\n",
       " 'movie/Kasethan_Kadavulada-15163896',\n",
       " 'movie/Key_to_Love-14873756',\n",
       " 'movie/Joheun_saram_isseumyeon_sogae_shikeojwo-326992']"
      ]
     },
     "execution_count": 22,
     "metadata": {},
     "output_type": "execute_result"
    }
   ],
   "source": [
    "links"
   ]
  },
  {
   "cell_type": "code",
   "execution_count": 10,
   "id": "060525a5",
   "metadata": {},
   "outputs": [],
   "source": [
    "for link in links:\n",
    "    result = requests.get(f'{root}/{link}')\n",
    "    content = result.text\n",
    "    soup = BeautifulSoup(content, 'lxml')"
   ]
  },
  {
   "cell_type": "code",
   "execution_count": 16,
   "id": "ace2b940",
   "metadata": {},
   "outputs": [
    {
     "data": {
      "text/plain": [
       "'movie/Horton_Hears_a_Who-451079'"
      ]
     },
     "execution_count": 16,
     "metadata": {},
     "output_type": "execute_result"
    }
   ],
   "source": [
    "link"
   ]
  },
  {
   "cell_type": "code",
   "execution_count": null,
   "id": "af03df0e",
   "metadata": {},
   "outputs": [],
   "source": [
    "header = [title.text for title in world titles]\n",
    "\n",
    "data = pd.DataFrame(columns = header)\n",
    "\n",
    "for row in column_data:\n",
    "    row_data = row.find_all('td')\n",
    "    individual = [data.text.strip() for data in row_data]\n",
    "    #print(individual)\n",
    "    \n",
    "    length = len(df)\n",
    "    df.loc[length] = individual\n",
    "\n",
    "df"
   ]
  },
  {
   "cell_type": "code",
   "execution_count": 8,
   "id": "235ea3a6",
   "metadata": {},
   "outputs": [
    {
     "name": "stdout",
     "output_type": "stream",
     "text": [
      "['/en/directory-hub', '/ms/directory-hub', '/export-to-the-world/online-services/register-as-matrade-member', 'https://km.matrade.gov.my/', '/enquiry', '/export-to-the-world/online-services/online-applications', '/index.php', '/en/faq', '/en/contact-us', '/en/enquiry', '/en/site-map', '/en/', '/en/export-to-the-world', '/en/choose-malaysia', '/en/about-matrade', '/en/directory-hub', '/en/search', '/en/', '/directory-hub/malaysia-products-directory', 'https://malaysiaservices.matrade.gov.my/', '/directory-hub/malaysia-brands', 'https://www.miti.gov.my/', '/export-to-the-world/online-services/online-applications', 'https://myexport.matrade.gov.my/', 'https://km.matrade.gov.my/', '/matrade-procurement', '/about-matrade/corporate-info/e-integrity', 'Mailto:info@matrade.gov.my', 'https://www.malaysia.gov.my', 'https://gamma.malaysia.gov.my/appdetails/677', '/enquiry', '/links', '/privacy-policy', '/terms-conditions', '/contact-us', '/site-map', '/faq', '/archive', '/export-to-the-world/trade-market-information-page/business-information-centre', '/export-to-the-world/advisory-services-page/integrated-centre-for-export', '/choose-malaysia/malaysia-export-exhibition-centre-meec', '/about-matrade/corporate-info/trade-galleria', 'https://www.facebook.com/matradeHQ/', 'https://twitter.com/matrade', 'https://www.instagram.com/matrade_hq/', 'https://www.linkedin.com/company/matrade/', 'http://2glux.com/projects/jumi']\n"
     ]
    }
   ],
   "source": [
    "import urllib.request\n",
    "from bs4 import BeautifulSoup\n",
    "\n",
    "theurl = \"https://www.matrade.gov.my/en/directory-hub\"\n",
    "thepage = urllib.request.urlopen(theurl)\n",
    "\n",
    "soup = BeautifulSoup(thepage)\n",
    "\n",
    "project_href = [i['href'] for i in soup.find_all('a', href=True)]\n",
    "print(project_href)"
   ]
  },
  {
   "cell_type": "code",
   "execution_count": null,
   "id": "0cdf6cc6",
   "metadata": {},
   "outputs": [],
   "source": []
  },
  {
   "cell_type": "code",
   "execution_count": null,
   "id": "6eb9b1eb",
   "metadata": {},
   "outputs": [],
   "source": []
  }
 ],
 "metadata": {
  "kernelspec": {
   "display_name": "Python 3 (ipykernel)",
   "language": "python",
   "name": "python3"
  },
  "language_info": {
   "codemirror_mode": {
    "name": "ipython",
    "version": 3
   },
   "file_extension": ".py",
   "mimetype": "text/x-python",
   "name": "python",
   "nbconvert_exporter": "python",
   "pygments_lexer": "ipython3",
   "version": "3.11.3"
  }
 },
 "nbformat": 4,
 "nbformat_minor": 5
}
