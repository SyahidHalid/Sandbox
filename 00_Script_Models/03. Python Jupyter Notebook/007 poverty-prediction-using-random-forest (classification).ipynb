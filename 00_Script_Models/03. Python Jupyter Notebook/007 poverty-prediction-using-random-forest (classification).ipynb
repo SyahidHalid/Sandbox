{
 "cells": [
  {
   "cell_type": "markdown",
   "metadata": {
    "_uuid": "1c0e885b5445e00f40ab956a19cd1265baf567ee"
   },
   "source": [
    "This is my first Kaggle competiton and coincided with my thought of doing a charity project first. Let us start with cleaning the data.\n",
    "# Import & Clean Data\n",
    "Let us import the data into pandas dataframe."
   ]
  },
  {
   "cell_type": "code",
   "execution_count": null,
   "metadata": {
    "_uuid": "7d9447abaec83ac18e350d1627286c08321e9872"
   },
   "outputs": [],
   "source": [
    "import pandas as pd\n",
    "df = pd.read_csv('../input/train.csv')\n",
    "df.info()"
   ]
  },
  {
   "cell_type": "code",
   "execution_count": 1,
   "metadata": {},
   "outputs": [
    {
     "name": "stdout",
     "output_type": "stream",
     "text": [
      "<class 'pandas.core.frame.DataFrame'>\n",
      "RangeIndex: 18 entries, 0 to 17\n",
      "Data columns (total 13 columns):\n",
      " #   Column                                 Non-Null Count  Dtype  \n",
      "---  ------                                 --------------  -----  \n",
      " 0   Year                                   18 non-null     int64  \n",
      " 1   Gross LAF                              18 non-null     float64\n",
      " 2   Projection                             18 non-null     float64\n",
      " 3   Error rate (Actual - Estimated)        18 non-null     float64\n",
      " 4   Actual Growth                          18 non-null     float64\n",
      " 5   Projection Growth                      18 non-null     float64\n",
      " 6   USD Fed (Actual)                       18 non-null     float64\n",
      " 7   FX (1 USD)                             18 non-null     float64\n",
      " 8   OPR (BANK NEGARA)                      18 non-null     float64\n",
      " 9   GDP (constant LCU)                     18 non-null     float64\n",
      " 10  KLSE Index @ FTSE Bursa MY KLCI Index  18 non-null     float64\n",
      " 11  LAF                                    18 non-null     float64\n",
      " 12  MKFF                                   18 non-null     float64\n",
      "dtypes: float64(12), int64(1)\n",
      "memory usage: 2.0 KB\n"
     ]
    }
   ],
   "source": [
    "import pandas as pd\n",
    "df = pd.read_excel(r'C:\\Users\\syahidhalid\\OneDrive - Export-Import Bank of Malaysia (EXIM Bank)\\Desktop\\Work\\01 FAZLEE\\Loan Growth Model\\Loan Growth Model_Final.xlsx',sheet_name='Python')\n",
    "df.info()"
   ]
  },
  {
   "cell_type": "markdown",
   "metadata": {
    "_uuid": "5f0944b316b83ef7a57c1776fe61a2ee849b7ef2"
   },
   "source": [
    "## Empirical Cumulative Distribution Function (ECDF)\n",
    "I am datacamp student and my Exploratory analysis always starts with ECDF. Plotting the ECDF is the best way to analyze the distribution of data."
   ]
  },
  {
   "cell_type": "code",
   "execution_count": 2,
   "metadata": {
    "_uuid": "5172ae915171b64abb4150af1acb833b82c1de61"
   },
   "outputs": [],
   "source": [
    "import numpy as np\n",
    "\n",
    "# Calculate ECDF for a series\n",
    "def ecdf(data):\n",
    "    n = len(data)\n",
    "    x = np.sort(data)\n",
    "    y = np.arange(1, n+1/n) / n\n",
    "    return x, y"
   ]
  },
  {
   "cell_type": "code",
   "execution_count": 3,
   "metadata": {
    "_uuid": "65bb29ab7132f198daa9a22cc4b9fd74d2c933df"
   },
   "outputs": [],
   "source": [
    "%matplotlib inline\n",
    "import matplotlib.pyplot as plt\n",
    "import seaborn as sns\n",
    "sns.set()"
   ]
  },
  {
   "cell_type": "markdown",
   "metadata": {
    "_uuid": "774781971e2f7ab12b1474f111873c6f05c3e0ee"
   },
   "source": [
    "Before plotting ECDF for rent, i would like to check the missing values."
   ]
  },
  {
   "cell_type": "code",
   "execution_count": 8,
   "metadata": {
    "_uuid": "ce06c5addc7adcf120000b929ad5d587b090e257"
   },
   "outputs": [
    {
     "data": {
      "text/plain": [
       "0"
      ]
     },
     "execution_count": 8,
     "metadata": {},
     "output_type": "execute_result"
    }
   ],
   "source": [
    "df['v2a1']=df['Gross LAF']\n",
    "\n",
    "df['Gross LAF'].isnull().sum()"
   ]
  },
  {
   "cell_type": "markdown",
   "metadata": {
    "_uuid": "24a869fb82a8967ed0be1cec9e75c65d3bef7d62"
   },
   "source": [
    "Let us check how many missing rows are rented houses"
   ]
  },
  {
   "cell_type": "code",
   "execution_count": 9,
   "metadata": {
    "_uuid": "367f5419c09878b61a2d54c37b3a71720e15060c",
    "scrolled": true
   },
   "outputs": [],
   "source": [
    "#df[(df['Gross LAF'].isnull()) & (df['tipovivi3'] == 1)]['v2a1'].sum()"
   ]
  },
  {
   "cell_type": "markdown",
   "metadata": {
    "_uuid": "699abb2c8aa3dfa970cd1520559a567894f9c6a7"
   },
   "source": [
    "There is no rental houses where rental value is null, so let us replace with zero."
   ]
  },
  {
   "cell_type": "code",
   "execution_count": 10,
   "metadata": {
    "_uuid": "7d25232c2370969a05f9c4b85b93de3671688be4"
   },
   "outputs": [],
   "source": [
    "df.v2a1.fillna(0, inplace=True)"
   ]
  },
  {
   "cell_type": "markdown",
   "metadata": {
    "_uuid": "873852c466fd5ab66e704090a185907f983f5441"
   },
   "source": [
    "Plotting the rent by Household category provides us the clear distribution. The below graph shows that one value is too extreme for the given dataset."
   ]
  },
  {
   "cell_type": "code",
   "execution_count": null,
   "metadata": {
    "_uuid": "71465c7e8822fbb430c26a473d806b121479b9a4"
   },
   "outputs": [],
   "source": [
    "x_ep, y_ep = ecdf(df[df['Target']==1].v2a1)\n",
    "x_mp, y_mp = ecdf(df[df['Target']==2].v2a1)\n",
    "x_vh, y_vh = ecdf(df[df['Target']==3].v2a1)\n",
    "x_nh, y_nh = ecdf(df[df['Target']==4].v2a1)\n",
    "\n",
    "plt.figure(figsize=(15,8))\n",
    "plt.plot(x_ep, y_ep, marker = '.', linestyle='none')\n",
    "plt.plot(x_mp, y_mp, marker = '.', linestyle='none')\n",
    "plt.plot(x_vh, y_vh, marker = '.', linestyle='none')\n",
    "plt.plot(x_nh, y_nh, marker = '.', linestyle='none', color='y')\n",
    "\n",
    "plt.legend(('Extreme Poverty', 'Moderate Poverty', 'Vulnerable Household', 'Non-vulnerable Household'))\n",
    "\n",
    "\n",
    "plt.margins(0.02)\n",
    "plt.xlabel('Rent')\n",
    "plt.ylabel('ECDF')\n",
    "plt.show()"
   ]
  },
  {
   "cell_type": "markdown",
   "metadata": {
    "_uuid": "c806a7ad2d08c22985d772474f6ca7ce6929fa69"
   },
   "source": [
    "Let us check how many outliers on the rent."
   ]
  },
  {
   "cell_type": "code",
   "execution_count": null,
   "metadata": {
    "_uuid": "b6fda2904c889fc0fef2cfd43964dbb556c8f0ef"
   },
   "outputs": [],
   "source": [
    "df[df['v2a1'] > 1000000].head()"
   ]
  },
  {
   "cell_type": "markdown",
   "metadata": {
    "_uuid": "2269f35e5d2a0af187489071769b7e882dfeb865"
   },
   "source": [
    "Looks like there are only 2 rows and let us remove the same."
   ]
  },
  {
   "cell_type": "code",
   "execution_count": null,
   "metadata": {
    "_uuid": "085cc4829182c0ab16069c17479ec4aab083bce5"
   },
   "outputs": [],
   "source": [
    "df = df[df['v2a1'] < 1000000]"
   ]
  },
  {
   "cell_type": "markdown",
   "metadata": {
    "_uuid": "c411adef681b75f550c15c9e42df2ca9d9482a65"
   },
   "source": [
    "Let us clean the data for the remaining feature variables"
   ]
  },
  {
   "cell_type": "code",
   "execution_count": null,
   "metadata": {
    "_uuid": "e105308acf11285b215b7fb31af21a7d7f6a63f0"
   },
   "outputs": [],
   "source": [
    "df.v18q1.fillna(0, inplace=True)\n",
    "df.meaneduc.fillna(df.SQBmeaned, inplace=True)"
   ]
  },
  {
   "cell_type": "code",
   "execution_count": null,
   "metadata": {
    "_uuid": "e6e83e0241baa1661da768e77af3ededdeaa581c"
   },
   "outputs": [],
   "source": [
    "df.meaneduc.fillna(0, inplace=True)"
   ]
  },
  {
   "cell_type": "code",
   "execution_count": null,
   "metadata": {
    "_uuid": "c40672607bdae51c67ecd666455a9b0168a23402"
   },
   "outputs": [],
   "source": [
    "df['meaneduc'] =  pd.to_numeric(df['meaneduc'])\n",
    "df.rez_esc.fillna(0, inplace=True)"
   ]
  },
  {
   "cell_type": "code",
   "execution_count": null,
   "metadata": {
    "_uuid": "2d41af31d1e89ef95a73c982241d18385f47aa95"
   },
   "outputs": [],
   "source": [
    "df.dependency.fillna(df.SQBdependency, inplace=True)"
   ]
  },
  {
   "cell_type": "markdown",
   "metadata": {
    "_uuid": "45a14d3ec6c990a1b0fbff0a4c9de50b2cf3aef5"
   },
   "source": [
    "Setting the Target variable as per head of household for incorrect records"
   ]
  },
  {
   "cell_type": "code",
   "execution_count": null,
   "metadata": {
    "_uuid": "fec15d62ca2caf5cb222dd53f5160c2aeb17049c"
   },
   "outputs": [],
   "source": [
    "for item in df['idhogar'].unique():\n",
    "    df_household = df[df['idhogar'] == item]\n",
    "    head_target = df_household[df_household['parentesco1'] == 1]['Target'].values\n",
    "    \n",
    "    for index, row in df_household.iterrows():\n",
    "        if (row['Target'] != head_target):\n",
    "            df.loc[df['Id']==row['Id'], 'Target'] = head_target"
   ]
  },
  {
   "cell_type": "markdown",
   "metadata": {
    "_uuid": "aaca7ae0689a96c0be80d457f229077c372035d4"
   },
   "source": [
    "Let us select the features based on Pearson correlation"
   ]
  },
  {
   "cell_type": "code",
   "execution_count": null,
   "metadata": {
    "_uuid": "0ad034d501aca07af9232f9ddfa83bdc95fb4e1a"
   },
   "outputs": [],
   "source": [
    "def pearson_r(x, y):\n",
    "    corr_mat = np.corrcoef(x, y)\n",
    "    return corr_mat[0,1]"
   ]
  },
  {
   "cell_type": "code",
   "execution_count": null,
   "metadata": {
    "_uuid": "9ee305aff94b7749454cb1b610eb5600c9fea452"
   },
   "outputs": [],
   "source": [
    "for col in df.columns:\n",
    "    if ((df[col].dtype != 'str') & (df[col].dtype != 'object')) :\n",
    "        print('Column : {0}, Corr : {1}'.format(col, pearson_r(df[col], df.Target)))"
   ]
  },
  {
   "cell_type": "markdown",
   "metadata": {
    "_uuid": "7a73af94eb16c276d41d29179ede3495f16b9f95"
   },
   "source": [
    "Let us select the features which are highly correlated."
   ]
  },
  {
   "cell_type": "code",
   "execution_count": null,
   "metadata": {
    "_uuid": "bdf5cab79bad21f4861d00736a85750c6f5322db"
   },
   "outputs": [],
   "source": [
    "from sklearn.model_selection import train_test_split\n",
    "\n",
    "X = df[['v2a1','rooms','refrig','v18q','v18q1','r4h2', 'escolari', 'paredblolad','pisomoscer','cielorazo','energcocinar2',\n",
    "         'elimbasu1', 'epared3', 'etecho3','eviv3','estadocivil3','hogar_adul','meaneduc','instlevel8','bedrooms','tipovivi2',\n",
    "              'computer','television','qmobilephone','lugar1','age']]\n",
    "y= df['Target']\n",
    "X_train, X_test, y_train, y_test = train_test_split(X, y, test_size=0.3, random_state=42)"
   ]
  },
  {
   "cell_type": "code",
   "execution_count": null,
   "metadata": {
    "_uuid": "c613880f19bbb9f7dbdf81f112d6f7a1e3dc303f"
   },
   "outputs": [],
   "source": [
    "from sklearn.ensemble import RandomForestClassifier\n",
    "model = RandomForestClassifier(n_estimators=100, random_state=0, oob_score=True, n_jobs=-1)\n",
    "model.fit(X_train,y_train)\n",
    "y_pred = model.predict(X_test)"
   ]
  },
  {
   "cell_type": "code",
   "execution_count": null,
   "metadata": {
    "_uuid": "56bad79ad4ff66be80c84529d816667741dd4e4b"
   },
   "outputs": [],
   "source": [
    "from sklearn import metrics\n",
    "print(\"Accuracy:\",metrics.accuracy_score(y_test, y_pred))"
   ]
  },
  {
   "cell_type": "code",
   "execution_count": null,
   "metadata": {
    "_uuid": "455d0b87cd342979a21335b67ca80999c2ebe3d8"
   },
   "outputs": [],
   "source": [
    "from sklearn.metrics import classification_report\n",
    "print(classification_report(y_test, y_pred))"
   ]
  },
  {
   "cell_type": "markdown",
   "metadata": {
    "_uuid": "ae4fca902fb27c474ff5a59500c54fb5f4c6d1d5"
   },
   "source": [
    "Let us do Hyper Parameter tuning to find out the best parameters for this model."
   ]
  },
  {
   "cell_type": "code",
   "execution_count": null,
   "metadata": {
    "_uuid": "d9789fb5af52e13fd552c3026c76366e4fa229f9"
   },
   "outputs": [],
   "source": [
    "from sklearn.model_selection import RandomizedSearchCV\n",
    "n_estimators = [int(x) for x in np.linspace(start=100, stop = 2000, num = 10)]\n",
    "max_features = ['auto', 'sqrt']\n",
    "max_depth = [int(x) for x in np.linspace(10, 110, num = 11)]\n",
    "max_depth.append(None)\n",
    "min_samples_split = [2, 5, 10]\n",
    "min_sample_leaf = [1, 2, 4]\n",
    "bootstrap = [True, False]\n",
    "\n",
    "random_grid = {'n_estimators' : n_estimators,\n",
    "               'max_features' : max_features,\n",
    "               'max_depth' : max_depth,\n",
    "               'min_samples_split' : min_samples_split,\n",
    "               'min_samples_leaf': min_sample_leaf,\n",
    "               'bootstrap' : bootstrap\n",
    "              }\n",
    "\n",
    "rf = RandomForestClassifier()\n",
    "rf_random = RandomizedSearchCV(estimator = rf, param_distributions = random_grid, n_iter = 100, cv=3, \n",
    "                               verbose=2, random_state=42, n_jobs = -1)\n",
    "rf_random.fit(X_train, y_train)"
   ]
  },
  {
   "cell_type": "code",
   "execution_count": null,
   "metadata": {
    "_uuid": "7f30181dd87342a27a5979bdb28e9c68b268c77e"
   },
   "outputs": [],
   "source": [
    "rf_random.best_params_"
   ]
  },
  {
   "cell_type": "code",
   "execution_count": null,
   "metadata": {
    "_uuid": "063449c806b95e0baa21666ef41e37f137aa3caf"
   },
   "outputs": [],
   "source": [
    "from sklearn.ensemble import RandomForestClassifier\n",
    "model_random = rf_random.best_estimator_\n",
    "model_random.fit(X_train, y_train)\n",
    "predictions_random = model_random.predict(X_test)"
   ]
  },
  {
   "cell_type": "code",
   "execution_count": null,
   "metadata": {
    "_uuid": "6064afc94984df07199a0abfc35ae05b1ec07701"
   },
   "outputs": [],
   "source": [
    "print(classification_report(y_test, predictions_random))"
   ]
  },
  {
   "cell_type": "code",
   "execution_count": null,
   "metadata": {
    "_uuid": "3b437c2e7eb6b4465620d8b0d9961388b4c82897"
   },
   "outputs": [],
   "source": [
    "from sklearn.model_selection import GridSearchCV\n",
    "\n",
    "param_grid = {\n",
    "    'bootstrap' : [False],\n",
    "    'max_depth' : [30, 40, 50, 55],\n",
    "    'max_features' : ['auto'],\n",
    "    'min_samples_leaf' : [1, 2, 3],\n",
    "    'min_samples_split' : [2, 3, 4],\n",
    "    'n_estimators' : [1200, 1300, 1350, 1375]\n",
    "    \n",
    "}\n",
    "\n",
    "rf = RandomForestClassifier()\n",
    "grid_search = GridSearchCV(estimator = rf, param_grid = param_grid, cv=3, n_jobs = -1, verbose = 2)\n",
    "\n",
    "grid_search.fit(X_train, y_train)"
   ]
  },
  {
   "cell_type": "code",
   "execution_count": null,
   "metadata": {
    "_uuid": "9a467704bd6b7a47ed86b94a876a9262c94637e9"
   },
   "outputs": [],
   "source": [
    "grid_search.best_params_"
   ]
  },
  {
   "cell_type": "code",
   "execution_count": null,
   "metadata": {
    "_uuid": "12ae3ac787b0867170247f3d986eeee915396a76"
   },
   "outputs": [],
   "source": [
    "model_grid = grid_search.best_estimator_\n",
    "model_grid.fit(X_train, y_train)\n",
    "predictions_grid = model_grid.predict(X_test)"
   ]
  },
  {
   "cell_type": "code",
   "execution_count": null,
   "metadata": {
    "_uuid": "4f7c5b2aacdd8c39ab1e1ab40647144b4111d676"
   },
   "outputs": [],
   "source": [
    "print(classification_report(y_test, predictions_grid))"
   ]
  },
  {
   "cell_type": "markdown",
   "metadata": {
    "_uuid": "6d8891011827ac3132f26b624b63d33273f026bf"
   },
   "source": [
    "Let us import & clean test data"
   ]
  },
  {
   "cell_type": "code",
   "execution_count": null,
   "metadata": {
    "_uuid": "4f00e3e5368442121ad625cb37eff5cff90046be"
   },
   "outputs": [],
   "source": [
    "df_test = pd.read_csv('../input/test.csv')"
   ]
  },
  {
   "cell_type": "code",
   "execution_count": null,
   "metadata": {
    "_uuid": "4e997938be530056fecb5b2dc17dfd94f9c2b1e1"
   },
   "outputs": [],
   "source": [
    "df_test.v2a1.fillna(0, inplace=True)"
   ]
  },
  {
   "cell_type": "code",
   "execution_count": null,
   "metadata": {
    "_uuid": "bc3690a4b61b4f820f20cd394057fe1876298bbf"
   },
   "outputs": [],
   "source": [
    "df_test.v18q1.fillna(0, inplace=True)\n",
    "df_test.meaneduc.fillna(df.SQBmeaned, inplace=True)"
   ]
  },
  {
   "cell_type": "code",
   "execution_count": null,
   "metadata": {
    "_uuid": "20d116cf5e69855154023aa85c3d11ec0a809da9"
   },
   "outputs": [],
   "source": [
    "df_test.meaneduc.fillna(0, inplace=True)"
   ]
  },
  {
   "cell_type": "code",
   "execution_count": null,
   "metadata": {
    "_uuid": "524d6b58527920eb97049c5e695fb74ab9615e3c"
   },
   "outputs": [],
   "source": [
    "df_test['meaneduc'] =  pd.to_numeric(df_test['meaneduc'])\n",
    "df_test.rez_esc.fillna(0, inplace=True)"
   ]
  },
  {
   "cell_type": "code",
   "execution_count": null,
   "metadata": {
    "_uuid": "e4e55cc3f17cbc23c72399c7120744aa9fbd5360"
   },
   "outputs": [],
   "source": [
    "df_test.dependency.fillna(df.SQBdependency, inplace=True)"
   ]
  },
  {
   "cell_type": "code",
   "execution_count": null,
   "metadata": {
    "_uuid": "c2a0e790b4d21cff2526965559611e4017f59b57"
   },
   "outputs": [],
   "source": [
    "ids = df_test['Id']\n",
    "test_features = df_test[['v2a1','rooms','refrig','v18q','v18q1','r4h2', 'escolari', 'paredblolad','pisomoscer','cielorazo','energcocinar2',\n",
    "         'elimbasu1', 'epared3', 'etecho3','eviv3','estadocivil3','hogar_adul','meaneduc','instlevel8','bedrooms','tipovivi2',\n",
    "              'computer','television','qmobilephone','lugar1','age']]"
   ]
  },
  {
   "cell_type": "code",
   "execution_count": null,
   "metadata": {
    "_uuid": "9261afd4e5b02f320d52143b7c43ac4537546895"
   },
   "outputs": [],
   "source": [
    "test_pred = model_grid.predict(test_features)"
   ]
  },
  {
   "cell_type": "code",
   "execution_count": null,
   "metadata": {
    "_uuid": "2911bdbf277925c7f344bc1143dafc27f97dfbc4"
   },
   "outputs": [],
   "source": [
    "submit = pd.DataFrame({'Id' : ids, 'Target' : test_pred})"
   ]
  },
  {
   "cell_type": "code",
   "execution_count": null,
   "metadata": {
    "_uuid": "2a601be18f9ef4c6b64e7cd72fa719544bc45852"
   },
   "outputs": [],
   "source": [
    "submit.to_csv('submit.csv', index=False)"
   ]
  },
  {
   "cell_type": "code",
   "execution_count": null,
   "metadata": {
    "_uuid": "d84edd3ce3b7922fd4a02cb207589a6fdf819b82"
   },
   "outputs": [],
   "source": []
  }
 ],
 "metadata": {
  "kernelspec": {
   "display_name": "Python 3 (ipykernel)",
   "language": "python",
   "name": "python3"
  },
  "language_info": {
   "codemirror_mode": {
    "name": "ipython",
    "version": 3
   },
   "file_extension": ".py",
   "mimetype": "text/x-python",
   "name": "python",
   "nbconvert_exporter": "python",
   "pygments_lexer": "ipython3",
   "version": "3.11.3"
  }
 },
 "nbformat": 4,
 "nbformat_minor": 1
}
