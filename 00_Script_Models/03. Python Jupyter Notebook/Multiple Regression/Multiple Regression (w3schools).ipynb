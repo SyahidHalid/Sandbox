{
 "cells": [
  {
   "cell_type": "code",
   "execution_count": 2,
   "id": "85808d35",
   "metadata": {},
   "outputs": [],
   "source": [
    "import pandas as pd\n",
    "import numpy as np\n",
    "\n",
    "df = pd.read_excel(r'C:\\Users\\syahidhalid\\OneDrive - Export-Import Bank of Malaysia (EXIM Bank)\\Desktop\\Work\\1. Modelling\\1. Loan Growth Model\\Loan Growth Model_Final.xlsx', sheet_name='Sheet1')"
   ]
  },
  {
   "cell_type": "code",
   "execution_count": 4,
   "id": "5375f1c2",
   "metadata": {
    "scrolled": true
   },
   "outputs": [
    {
     "data": {
      "text/html": [
       "<div>\n",
       "<style scoped>\n",
       "    .dataframe tbody tr th:only-of-type {\n",
       "        vertical-align: middle;\n",
       "    }\n",
       "\n",
       "    .dataframe tbody tr th {\n",
       "        vertical-align: top;\n",
       "    }\n",
       "\n",
       "    .dataframe thead th {\n",
       "        text-align: right;\n",
       "    }\n",
       "</style>\n",
       "<table border=\"1\" class=\"dataframe\">\n",
       "  <thead>\n",
       "    <tr style=\"text-align: right;\">\n",
       "      <th></th>\n",
       "      <th>Year</th>\n",
       "      <th>LAF (Multiple Regression)</th>\n",
       "      <th>USD Fed (Actual)</th>\n",
       "      <th>FX (1 USD)</th>\n",
       "      <th>OPR (BANK NEGARA)</th>\n",
       "      <th>GDP (constant LCU)</th>\n",
       "      <th>KLSE Index @ FTSE Bursa MY KLCI Index</th>\n",
       "    </tr>\n",
       "  </thead>\n",
       "  <tbody>\n",
       "    <tr>\n",
       "      <th>0</th>\n",
       "      <td>2008</td>\n",
       "      <td>1925327</td>\n",
       "      <td>0.25</td>\n",
       "      <td>3.4640</td>\n",
       "      <td>3.25</td>\n",
       "      <td>8.588261e+11</td>\n",
       "      <td>876.75</td>\n",
       "    </tr>\n",
       "    <tr>\n",
       "      <th>1</th>\n",
       "      <td>2009</td>\n",
       "      <td>2378092</td>\n",
       "      <td>0.25</td>\n",
       "      <td>3.4245</td>\n",
       "      <td>2.00</td>\n",
       "      <td>8.458275e+11</td>\n",
       "      <td>1272.78</td>\n",
       "    </tr>\n",
       "    <tr>\n",
       "      <th>2</th>\n",
       "      <td>2010</td>\n",
       "      <td>2071483</td>\n",
       "      <td>0.25</td>\n",
       "      <td>3.0835</td>\n",
       "      <td>2.75</td>\n",
       "      <td>9.086289e+11</td>\n",
       "      <td>1518.91</td>\n",
       "    </tr>\n",
       "    <tr>\n",
       "      <th>3</th>\n",
       "      <td>2011</td>\n",
       "      <td>2461822</td>\n",
       "      <td>0.25</td>\n",
       "      <td>3.1770</td>\n",
       "      <td>3.00</td>\n",
       "      <td>9.567309e+11</td>\n",
       "      <td>1530.73</td>\n",
       "    </tr>\n",
       "    <tr>\n",
       "      <th>4</th>\n",
       "      <td>2012</td>\n",
       "      <td>3659242</td>\n",
       "      <td>0.25</td>\n",
       "      <td>3.0583</td>\n",
       "      <td>3.00</td>\n",
       "      <td>1.009097e+12</td>\n",
       "      <td>1688.95</td>\n",
       "    </tr>\n",
       "    <tr>\n",
       "      <th>5</th>\n",
       "      <td>2013</td>\n",
       "      <td>5834088</td>\n",
       "      <td>0.25</td>\n",
       "      <td>3.2815</td>\n",
       "      <td>3.00</td>\n",
       "      <td>1.056461e+12</td>\n",
       "      <td>1866.96</td>\n",
       "    </tr>\n",
       "    <tr>\n",
       "      <th>6</th>\n",
       "      <td>2014</td>\n",
       "      <td>8260356</td>\n",
       "      <td>0.25</td>\n",
       "      <td>3.4950</td>\n",
       "      <td>3.25</td>\n",
       "      <td>1.119920e+12</td>\n",
       "      <td>1761.25</td>\n",
       "    </tr>\n",
       "    <tr>\n",
       "      <th>7</th>\n",
       "      <td>2015</td>\n",
       "      <td>12215869</td>\n",
       "      <td>0.50</td>\n",
       "      <td>4.2920</td>\n",
       "      <td>3.25</td>\n",
       "      <td>1.176941e+12</td>\n",
       "      <td>1692.51</td>\n",
       "    </tr>\n",
       "    <tr>\n",
       "      <th>8</th>\n",
       "      <td>2016</td>\n",
       "      <td>13113131</td>\n",
       "      <td>0.75</td>\n",
       "      <td>4.4860</td>\n",
       "      <td>3.00</td>\n",
       "      <td>1.229312e+12</td>\n",
       "      <td>1641.73</td>\n",
       "    </tr>\n",
       "    <tr>\n",
       "      <th>9</th>\n",
       "      <td>2017</td>\n",
       "      <td>11709046</td>\n",
       "      <td>1.50</td>\n",
       "      <td>4.0620</td>\n",
       "      <td>3.00</td>\n",
       "      <td>1.300769e+12</td>\n",
       "      <td>1796.81</td>\n",
       "    </tr>\n",
       "    <tr>\n",
       "      <th>10</th>\n",
       "      <td>2018</td>\n",
       "      <td>10215190</td>\n",
       "      <td>2.50</td>\n",
       "      <td>4.1385</td>\n",
       "      <td>3.25</td>\n",
       "      <td>1.363766e+12</td>\n",
       "      <td>1690.58</td>\n",
       "    </tr>\n",
       "    <tr>\n",
       "      <th>11</th>\n",
       "      <td>2019</td>\n",
       "      <td>6778922</td>\n",
       "      <td>1.75</td>\n",
       "      <td>4.0925</td>\n",
       "      <td>3.00</td>\n",
       "      <td>1.423952e+12</td>\n",
       "      <td>1588.76</td>\n",
       "    </tr>\n",
       "    <tr>\n",
       "      <th>12</th>\n",
       "      <td>2020</td>\n",
       "      <td>5704225</td>\n",
       "      <td>0.25</td>\n",
       "      <td>4.0130</td>\n",
       "      <td>1.75</td>\n",
       "      <td>1.345144e+12</td>\n",
       "      <td>1627.21</td>\n",
       "    </tr>\n",
       "    <tr>\n",
       "      <th>13</th>\n",
       "      <td>2021</td>\n",
       "      <td>5268869</td>\n",
       "      <td>0.25</td>\n",
       "      <td>4.1760</td>\n",
       "      <td>1.75</td>\n",
       "      <td>1.386738e+12</td>\n",
       "      <td>1567.53</td>\n",
       "    </tr>\n",
       "    <tr>\n",
       "      <th>14</th>\n",
       "      <td>2022</td>\n",
       "      <td>4681504</td>\n",
       "      <td>4.50</td>\n",
       "      <td>4.4130</td>\n",
       "      <td>2.75</td>\n",
       "      <td>1.507306e+12</td>\n",
       "      <td>1495.40</td>\n",
       "    </tr>\n",
       "  </tbody>\n",
       "</table>\n",
       "</div>"
      ],
      "text/plain": [
       "    Year  LAF (Multiple Regression)  USD Fed (Actual)  FX (1 USD)  \\\n",
       "0   2008                    1925327              0.25      3.4640   \n",
       "1   2009                    2378092              0.25      3.4245   \n",
       "2   2010                    2071483              0.25      3.0835   \n",
       "3   2011                    2461822              0.25      3.1770   \n",
       "4   2012                    3659242              0.25      3.0583   \n",
       "5   2013                    5834088              0.25      3.2815   \n",
       "6   2014                    8260356              0.25      3.4950   \n",
       "7   2015                   12215869              0.50      4.2920   \n",
       "8   2016                   13113131              0.75      4.4860   \n",
       "9   2017                   11709046              1.50      4.0620   \n",
       "10  2018                   10215190              2.50      4.1385   \n",
       "11  2019                    6778922              1.75      4.0925   \n",
       "12  2020                    5704225              0.25      4.0130   \n",
       "13  2021                    5268869              0.25      4.1760   \n",
       "14  2022                    4681504              4.50      4.4130   \n",
       "\n",
       "    OPR (BANK NEGARA)  GDP (constant LCU)  \\\n",
       "0                3.25        8.588261e+11   \n",
       "1                2.00        8.458275e+11   \n",
       "2                2.75        9.086289e+11   \n",
       "3                3.00        9.567309e+11   \n",
       "4                3.00        1.009097e+12   \n",
       "5                3.00        1.056461e+12   \n",
       "6                3.25        1.119920e+12   \n",
       "7                3.25        1.176941e+12   \n",
       "8                3.00        1.229312e+12   \n",
       "9                3.00        1.300769e+12   \n",
       "10               3.25        1.363766e+12   \n",
       "11               3.00        1.423952e+12   \n",
       "12               1.75        1.345144e+12   \n",
       "13               1.75        1.386738e+12   \n",
       "14               2.75        1.507306e+12   \n",
       "\n",
       "    KLSE Index @ FTSE Bursa MY KLCI Index  \n",
       "0                                  876.75  \n",
       "1                                 1272.78  \n",
       "2                                 1518.91  \n",
       "3                                 1530.73  \n",
       "4                                 1688.95  \n",
       "5                                 1866.96  \n",
       "6                                 1761.25  \n",
       "7                                 1692.51  \n",
       "8                                 1641.73  \n",
       "9                                 1796.81  \n",
       "10                                1690.58  \n",
       "11                                1588.76  \n",
       "12                                1627.21  \n",
       "13                                1567.53  \n",
       "14                                1495.40  "
      ]
     },
     "execution_count": 4,
     "metadata": {},
     "output_type": "execute_result"
    }
   ],
   "source": [
    "df"
   ]
  },
  {
   "cell_type": "code",
   "execution_count": 5,
   "id": "e78e1cae",
   "metadata": {},
   "outputs": [
    {
     "name": "stdout",
     "output_type": "stream",
     "text": [
      "['Year', 'LAF (Multiple Regression)', 'USD Fed (Actual)', 'FX (1 USD)', 'OPR (BANK NEGARA)', 'GDP (constant LCU)', 'KLSE Index @ FTSE Bursa MY KLCI Index']\n"
     ]
    }
   ],
   "source": [
    "print(df.columns.tolist())"
   ]
  },
  {
   "cell_type": "code",
   "execution_count": 10,
   "id": "63f84366",
   "metadata": {},
   "outputs": [],
   "source": [
    "X = df[['Year', 'USD Fed (Actual)', 'FX (1 USD)', 'OPR (BANK NEGARA)', 'GDP (constant LCU)', 'KLSE Index @ FTSE Bursa MY KLCI Index']]\n",
    "y = df['LAF (Multiple Regression)']"
   ]
  },
  {
   "cell_type": "code",
   "execution_count": 11,
   "id": "27fe3d74",
   "metadata": {},
   "outputs": [],
   "source": [
    "from sklearn import linear_model"
   ]
  },
  {
   "cell_type": "code",
   "execution_count": 12,
   "id": "6342bb73",
   "metadata": {},
   "outputs": [
    {
     "data": {
      "text/html": [
       "<style>#sk-container-id-2 {color: black;background-color: white;}#sk-container-id-2 pre{padding: 0;}#sk-container-id-2 div.sk-toggleable {background-color: white;}#sk-container-id-2 label.sk-toggleable__label {cursor: pointer;display: block;width: 100%;margin-bottom: 0;padding: 0.3em;box-sizing: border-box;text-align: center;}#sk-container-id-2 label.sk-toggleable__label-arrow:before {content: \"▸\";float: left;margin-right: 0.25em;color: #696969;}#sk-container-id-2 label.sk-toggleable__label-arrow:hover:before {color: black;}#sk-container-id-2 div.sk-estimator:hover label.sk-toggleable__label-arrow:before {color: black;}#sk-container-id-2 div.sk-toggleable__content {max-height: 0;max-width: 0;overflow: hidden;text-align: left;background-color: #f0f8ff;}#sk-container-id-2 div.sk-toggleable__content pre {margin: 0.2em;color: black;border-radius: 0.25em;background-color: #f0f8ff;}#sk-container-id-2 input.sk-toggleable__control:checked~div.sk-toggleable__content {max-height: 200px;max-width: 100%;overflow: auto;}#sk-container-id-2 input.sk-toggleable__control:checked~label.sk-toggleable__label-arrow:before {content: \"▾\";}#sk-container-id-2 div.sk-estimator input.sk-toggleable__control:checked~label.sk-toggleable__label {background-color: #d4ebff;}#sk-container-id-2 div.sk-label input.sk-toggleable__control:checked~label.sk-toggleable__label {background-color: #d4ebff;}#sk-container-id-2 input.sk-hidden--visually {border: 0;clip: rect(1px 1px 1px 1px);clip: rect(1px, 1px, 1px, 1px);height: 1px;margin: -1px;overflow: hidden;padding: 0;position: absolute;width: 1px;}#sk-container-id-2 div.sk-estimator {font-family: monospace;background-color: #f0f8ff;border: 1px dotted black;border-radius: 0.25em;box-sizing: border-box;margin-bottom: 0.5em;}#sk-container-id-2 div.sk-estimator:hover {background-color: #d4ebff;}#sk-container-id-2 div.sk-parallel-item::after {content: \"\";width: 100%;border-bottom: 1px solid gray;flex-grow: 1;}#sk-container-id-2 div.sk-label:hover label.sk-toggleable__label {background-color: #d4ebff;}#sk-container-id-2 div.sk-serial::before {content: \"\";position: absolute;border-left: 1px solid gray;box-sizing: border-box;top: 0;bottom: 0;left: 50%;z-index: 0;}#sk-container-id-2 div.sk-serial {display: flex;flex-direction: column;align-items: center;background-color: white;padding-right: 0.2em;padding-left: 0.2em;position: relative;}#sk-container-id-2 div.sk-item {position: relative;z-index: 1;}#sk-container-id-2 div.sk-parallel {display: flex;align-items: stretch;justify-content: center;background-color: white;position: relative;}#sk-container-id-2 div.sk-item::before, #sk-container-id-2 div.sk-parallel-item::before {content: \"\";position: absolute;border-left: 1px solid gray;box-sizing: border-box;top: 0;bottom: 0;left: 50%;z-index: -1;}#sk-container-id-2 div.sk-parallel-item {display: flex;flex-direction: column;z-index: 1;position: relative;background-color: white;}#sk-container-id-2 div.sk-parallel-item:first-child::after {align-self: flex-end;width: 50%;}#sk-container-id-2 div.sk-parallel-item:last-child::after {align-self: flex-start;width: 50%;}#sk-container-id-2 div.sk-parallel-item:only-child::after {width: 0;}#sk-container-id-2 div.sk-dashed-wrapped {border: 1px dashed gray;margin: 0 0.4em 0.5em 0.4em;box-sizing: border-box;padding-bottom: 0.4em;background-color: white;}#sk-container-id-2 div.sk-label label {font-family: monospace;font-weight: bold;display: inline-block;line-height: 1.2em;}#sk-container-id-2 div.sk-label-container {text-align: center;}#sk-container-id-2 div.sk-container {/* jupyter's `normalize.less` sets `[hidden] { display: none; }` but bootstrap.min.css set `[hidden] { display: none !important; }` so we also need the `!important` here to be able to override the default hidden behavior on the sphinx rendered scikit-learn.org. See: https://github.com/scikit-learn/scikit-learn/issues/21755 */display: inline-block !important;position: relative;}#sk-container-id-2 div.sk-text-repr-fallback {display: none;}</style><div id=\"sk-container-id-2\" class=\"sk-top-container\"><div class=\"sk-text-repr-fallback\"><pre>LinearRegression()</pre><b>In a Jupyter environment, please rerun this cell to show the HTML representation or trust the notebook. <br />On GitHub, the HTML representation is unable to render, please try loading this page with nbviewer.org.</b></div><div class=\"sk-container\" hidden><div class=\"sk-item\"><div class=\"sk-estimator sk-toggleable\"><input class=\"sk-toggleable__control sk-hidden--visually\" id=\"sk-estimator-id-2\" type=\"checkbox\" checked><label for=\"sk-estimator-id-2\" class=\"sk-toggleable__label sk-toggleable__label-arrow\">LinearRegression</label><div class=\"sk-toggleable__content\"><pre>LinearRegression()</pre></div></div></div></div></div>"
      ],
      "text/plain": [
       "LinearRegression()"
      ]
     },
     "execution_count": 12,
     "metadata": {},
     "output_type": "execute_result"
    }
   ],
   "source": [
    "regr = linear_model.LinearRegression()\n",
    "regr.fit(X, y)"
   ]
  },
  {
   "cell_type": "code",
   "execution_count": 13,
   "id": "b76071f8",
   "metadata": {},
   "outputs": [
    {
     "data": {
      "text/plain": [
       "{'copy_X': True, 'fit_intercept': True, 'n_jobs': None, 'positive': False}"
      ]
     },
     "execution_count": 13,
     "metadata": {},
     "output_type": "execute_result"
    }
   ],
   "source": [
    "regr.get_params(deep=True)"
   ]
  },
  {
   "cell_type": "code",
   "execution_count": 37,
   "id": "b89e8dc2",
   "metadata": {},
   "outputs": [
    {
     "name": "stdout",
     "output_type": "stream",
     "text": [
      "[3521542.24666977]\n",
      "[2154709.24445009]\n",
      "[787876.24223042]\n",
      "[-578956.75998926]\n"
     ]
    },
    {
     "name": "stderr",
     "output_type": "stream",
     "text": [
      "C:\\Users\\syahidhalid\\AppData\\Local\\anaconda3\\Lib\\site-packages\\sklearn\\base.py:439: UserWarning: X does not have valid feature names, but LinearRegression was fitted with feature names\n",
      "  warnings.warn(\n",
      "C:\\Users\\syahidhalid\\AppData\\Local\\anaconda3\\Lib\\site-packages\\sklearn\\base.py:439: UserWarning: X does not have valid feature names, but LinearRegression was fitted with feature names\n",
      "  warnings.warn(\n",
      "C:\\Users\\syahidhalid\\AppData\\Local\\anaconda3\\Lib\\site-packages\\sklearn\\base.py:439: UserWarning: X does not have valid feature names, but LinearRegression was fitted with feature names\n",
      "  warnings.warn(\n",
      "C:\\Users\\syahidhalid\\AppData\\Local\\anaconda3\\Lib\\site-packages\\sklearn\\base.py:439: UserWarning: X does not have valid feature names, but LinearRegression was fitted with feature names\n",
      "  warnings.warn(\n"
     ]
    }
   ],
   "source": [
    "#predicted Y by fill in X\n",
    "\n",
    "#'Year', 'USD Fed (Actual)', 'FX (1 USD)', 'OPR (BANK NEGARA)', 'GDP (constant LCU)', 'KLSE Index @ FTSE Bursa MY KLCI Index']\n",
    "\n",
    "#FX, GDP Bursa index naik will lead to loan naik\n",
    "#USD Fed, OPR naik menyebab kan Loan turun\n",
    "\n",
    "predictedCO2 = regr.predict([[2023,4.50,4.41,2.75,1507306098000.00,1495.40]])\n",
    "predictedCO3 = regr.predict([[2024,4.50,4.41,2.75,1507306098000.00,1495.40]])\n",
    "predictedCO4 = regr.predict([[2025,4.50,4.41,2.75,1507306098000.00,1495.40]])\n",
    "predictedCO5 = regr.predict([[2026,4.50,4.41,2.75,1507306098000.00,1495.40]])\n",
    "\n",
    "print(predictedCO2)\n",
    "print(predictedCO3)\n",
    "print(predictedCO4)\n",
    "print(predictedCO5)\n"
   ]
  },
  {
   "cell_type": "code",
   "execution_count": 16,
   "id": "c482d285",
   "metadata": {},
   "outputs": [
    {
     "name": "stdout",
     "output_type": "stream",
     "text": [
      "[-1.36683300e+06 -8.31931615e+05  8.47547777e+06  8.64232553e+05\n",
      "  1.90163461e-05  1.00314506e+04]\n"
     ]
    }
   ],
   "source": [
    "print(regr.coef_)\n",
    "\n",
    "# Y = -1.3b1 - 8.3.b2 + 8.4b3 + 8.6b4 + 1.9b5 + 1.0b6\n",
    "\n",
    "#[2023,4.50,4.41,2.75,1507306098000.00,1495.40]\n",
    "# 5335153 = \n",
    "\n",
    "#[2024,4.50,4.41,2.75,1507306098000.00,1495.40]\n",
    "# 5979485 ="
   ]
  },
  {
   "cell_type": "code",
   "execution_count": 78,
   "id": "f55faf5f",
   "metadata": {},
   "outputs": [
    {
     "name": "stdout",
     "output_type": "stream",
     "text": [
      "GDP 2023  143004731942368.75\n",
      "Bursa 2023  269728.19398052373\n",
      "USD Fed 2023  -3229.8572159060227\n",
      "OPR 2023  3116.222193074867\n",
      "fx 2023  321.88638246894976\n"
     ]
    }
   ],
   "source": [
    "LAF2023 = 5335153\n",
    "b1 = (-1.36683300e+06*2023) #year\n",
    "b2 = (4.5*-8.31931615e+05) #usd fed\n",
    "b3 = (4.41*8.47547777e+06) #fx\n",
    "b4 = (2.75*8.64232553e+05) #opr\n",
    "b5 = (1.90163461e-05 *1507306098000) #gdp\n",
    "b6 = (1.00314506e+04*1495.40) #bursa index\n",
    "\n",
    "year2023_GDP = (5335153-(-1.36683300e+06*2023)-(4.5*-8.31931615e+05)-(4.41*8.47547777e+06)-(2.75*8.64232553e+05)-(1.00314506e+04*1495.40))/1.90163461e-05\n",
    "print(\"GDP 2023 \",year2023_GDP)\n",
    "\n",
    "year2023_Bursa = (5335153-(-1.36683300e+06*2023)-(4.5*-8.31931615e+05)-(4.41*8.47547777e+06)-(2.75*8.64232553e+05)-(1.90163461e-05 *1507306098000))/1.00314506e+04\n",
    "print(\"Bursa 2023 \",year2023_Bursa)\n",
    "\n",
    "year2023_USDFed = (5335153-(-1.36683300e+06*2023)-(1495.40*1.00314506e+04)-(4.41*8.47547777e+06)-(2.75*8.64232553e+05)-(1.90163461e-05 *1507306098000))/ -8.31931615e+05\n",
    "print(\"USD Fed 2023 \",year2023_USDFed)\n",
    "\n",
    "year2023_OPR = (LAF2023-b1-b2-b3-b5-b6)/8.64232553e+05\n",
    "print(\"OPR 2023 \",year2023_OPR)\n",
    "\n",
    "year2023_fx = (LAF2023-b1-b2-b4-b5-b6)/8.47547777e+06\n",
    "print(\"fx 2023 \",year2023_fx)"
   ]
  },
  {
   "cell_type": "code",
   "execution_count": 64,
   "id": "46a2ffca",
   "metadata": {},
   "outputs": [
    {
     "data": {
      "image/png": "[encoded data removed]",
      "text/plain": [
       "<Figure size 640x480 with 1 Axes>"
      ]
     },
     "metadata": {},
     "output_type": "display_data"
    }
   ],
   "source": [
    "import matplotlib.pyplot as plt\n",
    "import numpy as np\n",
    "\n",
    "#df.columns = pd.to_numeric(df.columns, downcast='integer')\n",
    "\n",
    "#plot 1:\n",
    "x = np.array([2023, 2024, 2025, 2025]) #df['Year'], \n",
    "y = np.array([predictedCO2, predictedCO3, predictedCO4, predictedCO5]) #df['LAF (Multiple Regression)'], \n",
    "\n",
    "#plt.subplot(1, 2, 1)\n",
    "\n",
    "plt.title(\"Predicted Gross LAF\")\n",
    "plt.xlabel(\"Year\")\n",
    "plt.ylabel(\"Gross LAF\")\n",
    "\n",
    "\n",
    "plt.grid()\n",
    "\n",
    "plt.plot(x, y)\n",
    "#plt.scatter(x,y)\n",
    "\n",
    "plt.plot(x,y, linewidth = '1.5')\n",
    "plt.plot(x,y, color = 'hotpink')\n",
    "plt.plot(x,y, linestyle = 'dashed')\n",
    "plt.plot(x,y, marker = 'o')\n",
    "\n",
    "plt.yticks(ticks=plt.yticks()[0], labels=plt.yticks()[0].astype(int))\n",
    "plt.xticks(ticks=plt.xticks()[0], labels=plt.xticks()[0].astype(int))\n",
    "\n",
    "plt.show()"
   ]
  },
  {
   "cell_type": "code",
   "execution_count": 69,
   "id": "fd7355ec",
   "metadata": {},
   "outputs": [
    {
     "data": {
      "image/png": "[encoded data removed]",
      "text/plain": [
       "<Figure size 640x480 with 1 Axes>"
      ]
     },
     "metadata": {},
     "output_type": "display_data"
    }
   ],
   "source": [
    "x=range(len(x))\n",
    "\n",
    "fig, ax = plt.subplots(1, 1)\n",
    "ax.set_xticks(x) # set tick positions\n",
    "\n",
    "# Labels are formated as integers:\n",
    "ax.set_xticklabels([\"{:d}\".format(int(v)) for v in x]) \n",
    "ax.plot(x, y)  \n",
    "\n",
    "fig.canvas.draw() # actually draw figure\n",
    "\n",
    "plt.title(\"Predicted Gross LAF\")\n",
    "plt.xlabel(\"Year\")\n",
    "plt.ylabel(\"Gross LAF\")\n",
    "\n",
    "\n",
    "plt.grid()\n",
    "\n",
    "plt.plot(x, y)\n",
    "#plt.scatter(x,y)\n",
    "\n",
    "plt.plot(x,y, linewidth = '1.5')\n",
    "plt.plot(x,y, color = 'hotpink')\n",
    "plt.plot(x,y, linestyle = 'dashed')\n",
    "plt.plot(x,y, marker = 'o')\n",
    "\n",
    "plt.yticks(ticks=plt.yticks()[0], labels=plt.yticks()[0].astype(int))\n",
    "plt.xticks(ticks=plt.xticks()[0], labels=plt.xticks()[0].astype(int))\n",
    "\n",
    "plt.show() # enter GUI loop (for non-interactive interpreters)"
   ]
  },
  {
   "cell_type": "code",
   "execution_count": null,
   "id": "131c9777",
   "metadata": {},
   "outputs": [],
   "source": []
  }
 ],
 "metadata": {
  "kernelspec": {
   "display_name": "Python 3 (ipykernel)",
   "language": "python",
   "name": "python3"
  },
  "language_info": {
   "codemirror_mode": {
    "name": "ipython",
    "version": 3
   },
   "file_extension": ".py",
   "mimetype": "text/x-python",
   "name": "python",
   "nbconvert_exporter": "python",
   "pygments_lexer": "ipython3",
   "version": "3.11.3"
  }
 },
 "nbformat": 4,
 "nbformat_minor": 5
}
