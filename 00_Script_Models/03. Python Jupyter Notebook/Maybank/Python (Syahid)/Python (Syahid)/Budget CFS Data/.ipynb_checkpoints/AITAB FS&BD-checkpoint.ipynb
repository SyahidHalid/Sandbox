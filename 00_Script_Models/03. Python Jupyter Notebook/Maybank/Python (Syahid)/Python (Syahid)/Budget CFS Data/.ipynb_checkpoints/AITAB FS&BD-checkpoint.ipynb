{
 "cells": [
  {
   "cell_type": "code",
   "execution_count": 8,
   "metadata": {},
   "outputs": [],
   "source": [
    "RATE_1 = 20211231\n",
    "\n",
    "import numpy as np\n",
    "import pandas as pd\n",
    "import pandasql\n",
    "import sqlite3\n",
    "\n",
    "pd.set_option(\"display.max_columns\", None) \n",
    "pd.set_option(\"display.max_colwidth\", 1000) #huruf dlm column\n",
    "pd.set_option(\"display.max_rows\", 100)\n",
    "pd.set_option(\"display.precision\", 2) #2 titik perpuluhan\n",
    "\n",
    "location_HPFS = r\"T:\\MIB Risk Management\\Credit Risk Analytics - Historical\\04_Infocube\\99_Data_Source\\01_Datawarehouse\\01_Credit_Risk_Reporting\\09_MIB_HP\\\\\"+str(RATE_1)+\"\\MIB_HPFS\"+str(RATE_1)+\".txt\"\n",
    "location_HPBD = r\"T:\\MIB Risk Management\\Credit Risk Analytics - Historical\\04_Infocube\\99_Data_Source\\01_Datawarehouse\\01_Credit_Risk_Reporting\\09_MIB_HP\\\\\"+str(RATE_1)+\"\\MIB_HPBD\"+str(RATE_1)+\".txt\"\n",
    "\n",
    "HPFS = pd.read_csv(location_HPFS, sep = \"\\t\", header = 0)\n",
    "HPBD = pd.read_csv(location_HPBD, sep = \"\\t\", header = 0)\n"
   ]
  },
  {
   "cell_type": "code",
   "execution_count": 7,
   "metadata": {},
   "outputs": [
    {
     "data": {
      "text/plain": [
       "28388594"
      ]
     },
     "execution_count": 7,
     "metadata": {},
     "output_type": "execute_result"
    }
   ],
   "source": [
    "sum(HPFS['Bnm Balance']) #20201231"
   ]
  },
  {
   "cell_type": "code",
   "execution_count": 9,
   "metadata": {},
   "outputs": [
    {
     "data": {
      "text/plain": [
       "31772939"
      ]
     },
     "execution_count": 9,
     "metadata": {},
     "output_type": "execute_result"
    }
   ],
   "source": [
    "sum(HPFS['Bnm Balance']) #20211231"
   ]
  },
  {
   "cell_type": "code",
   "execution_count": 11,
   "metadata": {},
   "outputs": [
    {
     "data": {
      "text/plain": [
       "0"
      ]
     },
     "execution_count": 11,
     "metadata": {},
     "output_type": "execute_result"
    }
   ],
   "source": [
    "sum(HPBD['Bnm Balance']) #20211231"
   ]
  },
  {
   "cell_type": "code",
   "execution_count": 10,
   "metadata": {},
   "outputs": [
    {
     "data": {
      "text/html": [
       "<div>\n",
       "<style scoped>\n",
       "    .dataframe tbody tr th:only-of-type {\n",
       "        vertical-align: middle;\n",
       "    }\n",
       "\n",
       "    .dataframe tbody tr th {\n",
       "        vertical-align: top;\n",
       "    }\n",
       "\n",
       "    .dataframe thead th {\n",
       "        text-align: right;\n",
       "    }\n",
       "</style>\n",
       "<table border=\"1\" class=\"dataframe\">\n",
       "  <thead>\n",
       "    <tr style=\"text-align: right;\">\n",
       "      <th></th>\n",
       "      <th>Account No</th>\n",
       "      <th>Cus No</th>\n",
       "      <th>Amrt Term</th>\n",
       "      <th>Amrt Term Mult</th>\n",
       "      <th>As Of Date</th>\n",
       "      <th>Avg Book Bal</th>\n",
       "      <th>Branch Code</th>\n",
       "      <th>Common Coa Id</th>\n",
       "      <th>Cur Gross Rate</th>\n",
       "      <th>Issue Date</th>\n",
       "      <th>Record Count</th>\n",
       "      <th>Aa Number</th>\n",
       "      <th>Date Aa Approved</th>\n",
       "      <th>Approved Limit</th>\n",
       "      <th>Interest Income</th>\n",
       "      <th>Non Interest Income</th>\n",
       "      <th>Penalty Charges</th>\n",
       "      <th>Misc Charges</th>\n",
       "      <th>New Npl Flg</th>\n",
       "      <th>Npl Date</th>\n",
       "      <th>Npl Flg</th>\n",
       "      <th>Int In Suspense</th>\n",
       "      <th>Specific Provision</th>\n",
       "      <th>Reschedule Flg</th>\n",
       "      <th>Rescheduled Date</th>\n",
       "      <th>Restructure Flg</th>\n",
       "      <th>Restructured Date</th>\n",
       "      <th>Full Writeoff Flg</th>\n",
       "      <th>Mths Installment In Arrears</th>\n",
       "      <th>Source Prod Type Cd</th>\n",
       "      <th>Economic Sector Cd</th>\n",
       "      <th>Bnm Balance</th>\n",
       "      <th>Fund Charge</th>\n",
       "      <th>Total Activity Cost</th>\n",
       "      <th>Net Int Income</th>\n",
       "      <th>M Entity Cd</th>\n",
       "      <th>Fund Charge Myr</th>\n",
       "      <th>Interest Income Myr</th>\n",
       "      <th>Net Int Income Myr</th>\n",
       "      <th>M Sub Market Segment Cd</th>\n",
       "      <th>Product Hierarchy Cd</th>\n",
       "      <th>Maintenance Cost</th>\n",
       "      <th>Dealer Acct Status Cd</th>\n",
       "      <th>Dealer Credit Limit</th>\n",
       "      <th>Dealer Allow Limit</th>\n",
       "      <th>Dealer Unutilised Amt</th>\n",
       "      <th>Dealer Utilised Amt</th>\n",
       "      <th>Org Payment Amt</th>\n",
       "      <th>Cur Payment</th>\n",
       "    </tr>\n",
       "  </thead>\n",
       "  <tbody>\n",
       "    <tr>\n",
       "      <th>0</th>\n",
       "      <td>589801100021</td>\n",
       "      <td>19405782</td>\n",
       "      <td>0</td>\n",
       "      <td>M</td>\n",
       "      <td>31-DEC-2021</td>\n",
       "      <td>0.0</td>\n",
       "      <td>9801</td>\n",
       "      <td>12000</td>\n",
       "      <td>0.0</td>\n",
       "      <td>01-JAN-1900</td>\n",
       "      <td>1</td>\n",
       "      <td>2013AU2113</td>\n",
       "      <td>26-JAN-2016</td>\n",
       "      <td>0.0</td>\n",
       "      <td>0.0</td>\n",
       "      <td>0.0</td>\n",
       "      <td>0.0</td>\n",
       "      <td>0.0</td>\n",
       "      <td>N</td>\n",
       "      <td>01-JAN-1900</td>\n",
       "      <td>N</td>\n",
       "      <td>0.0</td>\n",
       "      <td>0.0</td>\n",
       "      <td>NaN</td>\n",
       "      <td>01-JAN-1900</td>\n",
       "      <td>NaN</td>\n",
       "      <td>01-JAN-1900</td>\n",
       "      <td>N</td>\n",
       "      <td>5</td>\n",
       "      <td>BDI</td>\n",
       "      <td>6150</td>\n",
       "      <td>0</td>\n",
       "      <td>0.0</td>\n",
       "      <td>0.0</td>\n",
       "      <td>0.0</td>\n",
       "      <td>MIB</td>\n",
       "      <td>NaN</td>\n",
       "      <td>0.0</td>\n",
       "      <td>0.0</td>\n",
       "      <td>2</td>\n",
       "      <td>BDI</td>\n",
       "      <td>21.0</td>\n",
       "      <td>1</td>\n",
       "      <td>0.0</td>\n",
       "      <td>0.0</td>\n",
       "      <td>0.0</td>\n",
       "      <td>0.0</td>\n",
       "      <td>0.0</td>\n",
       "      <td>0.0</td>\n",
       "    </tr>\n",
       "  </tbody>\n",
       "</table>\n",
       "</div>"
      ],
      "text/plain": [
       "     Account No    Cus No  Amrt Term Amrt Term Mult   As Of Date  \\\n",
       "0  589801100021  19405782          0              M  31-DEC-2021   \n",
       "\n",
       "   Avg Book Bal  Branch Code  Common Coa Id  Cur Gross Rate   Issue Date  \\\n",
       "0           0.0         9801          12000             0.0  01-JAN-1900   \n",
       "\n",
       "   Record Count   Aa Number Date Aa Approved  Approved Limit  Interest Income  \\\n",
       "0             1  2013AU2113      26-JAN-2016             0.0              0.0   \n",
       "\n",
       "   Non Interest Income  Penalty Charges  Misc Charges New Npl Flg  \\\n",
       "0                  0.0              0.0           0.0           N   \n",
       "\n",
       "      Npl Date Npl Flg  Int In Suspense  Specific Provision  Reschedule Flg  \\\n",
       "0  01-JAN-1900       N              0.0                 0.0             NaN   \n",
       "\n",
       "  Rescheduled Date  Restructure Flg Restructured Date Full Writeoff Flg  \\\n",
       "0      01-JAN-1900              NaN       01-JAN-1900                 N   \n",
       "\n",
       "   Mths Installment In Arrears Source Prod Type Cd  Economic Sector Cd  \\\n",
       "0                            5                 BDI                6150   \n",
       "\n",
       "   Bnm Balance  Fund Charge  Total Activity Cost  Net Int Income M Entity Cd  \\\n",
       "0            0          0.0                  0.0             0.0         MIB   \n",
       "\n",
       "   Fund Charge Myr  Interest Income Myr  Net Int Income Myr  \\\n",
       "0              NaN                  0.0                 0.0   \n",
       "\n",
       "   M Sub Market Segment Cd Product Hierarchy Cd  Maintenance Cost  \\\n",
       "0                        2                  BDI              21.0   \n",
       "\n",
       "   Dealer Acct Status Cd  Dealer Credit Limit  Dealer Allow Limit  \\\n",
       "0                      1                  0.0                 0.0   \n",
       "\n",
       "   Dealer Unutilised Amt  Dealer Utilised Amt  Org Payment Amt  Cur Payment  \n",
       "0                    0.0                  0.0              0.0          0.0  "
      ]
     },
     "execution_count": 10,
     "metadata": {},
     "output_type": "execute_result"
    }
   ],
   "source": [
    "HPBD"
   ]
  },
  {
   "cell_type": "code",
   "execution_count": null,
   "metadata": {},
   "outputs": [],
   "source": []
  }
 ],
 "metadata": {
  "kernelspec": {
   "display_name": "Python 3",
   "language": "python",
   "name": "python3"
  },
  "language_info": {
   "codemirror_mode": {
    "name": "ipython",
    "version": 3
   },
   "file_extension": ".py",
   "mimetype": "text/x-python",
   "name": "python",
   "nbconvert_exporter": "python",
   "pygments_lexer": "ipython3",
   "version": "3.7.6"
  }
 },
 "nbformat": 4,
 "nbformat_minor": 4
}
