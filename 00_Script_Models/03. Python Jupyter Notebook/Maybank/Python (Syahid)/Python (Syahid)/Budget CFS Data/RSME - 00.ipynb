{
 "cells": [
  {
   "cell_type": "code",
   "execution_count": null,
   "metadata": {},
   "outputs": [],
   "source": [
    "#MIA 2 = wl, MIA 3 = SMA in RISK_MIA_USE"
   ]
  },
  {
   "cell_type": "code",
   "execution_count": 1,
   "metadata": {},
   "outputs": [],
   "source": [
    "import numpy as np\n",
    "import pandas as pd\n",
    "import pandasql\n",
    "import sqlite3\n",
    "\n",
    "pd.set_option(\"display.max_columns\", None) \n",
    "pd.set_option(\"display.max_colwidth\", 1000) #huruf dlm column\n",
    "pd.set_option(\"display.max_rows\", 100)\n",
    "pd.set_option(\"display.precision\", 2) #2 titik perpuluhan"
   ]
  },
  {
   "cell_type": "code",
   "execution_count": 2,
   "metadata": {},
   "outputs": [],
   "source": [
    "date = '20211231'\n",
    "\n",
    "SME = pd.read_excel(r\"T:\\MIB Risk Management\\Credit Risk Analytics - Historical\\02_Data_Source\\03_Retail_SME_Financing\\01_Portfolio\\\\\"+date+\"\\\\\"+date+\"_SME Loan_v1_working (RD) - to Islamic.xlsx\")\n"
   ]
  },
  {
   "cell_type": "code",
   "execution_count": 19,
   "metadata": {},
   "outputs": [],
   "source": [
    "pdate = '20211130'\n",
    "\n",
    "SME_P = pd.read_excel(r\"T:\\MIB Risk Management\\Credit Risk Analytics - Historical\\02_Data_Source\\03_Retail_SME_Financing\\01_Portfolio\\\\\"+pdate+\"\\\\\"+pdate+\"_SME Loan_v1_working (RD) - to Islamic.xlsx\")\n"
   ]
  },
  {
   "cell_type": "code",
   "execution_count": 18,
   "metadata": {},
   "outputs": [],
   "source": [
    "SME.columns = SME.columns.str.upper()\n",
    "SME.columns = SME.columns.str.replace(\" \",\"_\")\n",
    "\n",
    "RSME = SME.iloc[np.where(SME.M_ENTITY_CD=='MIB')]"
   ]
  },
  {
   "cell_type": "code",
   "execution_count": 21,
   "metadata": {
    "scrolled": true
   },
   "outputs": [],
   "source": [
    "SME_P.columns = SME_P.columns.str.upper()\n",
    "SME_P.columns = SME_P.columns.str.replace(\" \",\"_\")\n",
    "\n",
    "RSME_P = SME_P.iloc[np.where(SME_P.M_ENTITY_CD=='MIB')]"
   ]
  },
  {
   "cell_type": "code",
   "execution_count": 14,
   "metadata": {},
   "outputs": [],
   "source": [
    "WATCHLIST = SME.iloc[np.where(SME.RISK_MIA_USE=='c.MIA 2')]\n",
    "SMA = SME.iloc[np.where(SME.RISK_MIA_USE=='d.MIA 3')]\n"
   ]
  },
  {
   "cell_type": "code",
   "execution_count": 8,
   "metadata": {},
   "outputs": [],
   "source": [
    "date = '20211231'\n",
    "#jgn lupa tukar nme file sbb every month xconsistent\n",
    "\n",
    "RDMS = pd.read_excel(r'T:\\MIB Risk Management\\Credit Risk Analytics - Historical\\02_Data_Source\\12_RDMS\\\\'+date+'\\CRWA Dec 2021 Final (Domestic - All except Retail).xlsx', sheet_name='Context Id=162')\n"
   ]
  },
  {
   "cell_type": "code",
   "execution_count": 17,
   "metadata": {},
   "outputs": [],
   "source": [
    "CRRS = pd.read_excel(r\"T:\\MIB Risk Management\\Credit Risk Analytics - Historical\\02_Data_Source\\11_CRRS\\\\\"+str(date)[:4]+\"\\\\\"+str(date)+\"\\Report_Corp_CRDM_\"+str(date)+\".xlsx\")\n"
   ]
  },
  {
   "cell_type": "code",
   "execution_count": null,
   "metadata": {},
   "outputs": [],
   "source": [
    "#start buat processed script"
   ]
  }
 ],
 "metadata": {
  "kernelspec": {
   "display_name": "Python 3",
   "language": "python",
   "name": "python3"
  },
  "language_info": {
   "codemirror_mode": {
    "name": "ipython",
    "version": 3
   },
   "file_extension": ".py",
   "mimetype": "text/x-python",
   "name": "python",
   "nbconvert_exporter": "python",
   "pygments_lexer": "ipython3",
   "version": "3.7.6"
  }
 },
 "nbformat": 4,
 "nbformat_minor": 4
}
