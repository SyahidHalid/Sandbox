{
 "cells": [
  {
   "cell_type": "code",
   "execution_count": 1,
   "metadata": {},
   "outputs": [],
   "source": [
    "import numpy as np\n",
    "import pandas as pd\n",
    "import pandasql\n",
    "import sqlite3\n",
    "\n",
    "pd.set_option(\"display.max_columns\", None) \n",
    "pd.set_option(\"display.max_colwidth\", 1000) #huruf dlm column\n",
    "pd.set_option(\"display.max_rows\", 100)\n",
    "pd.set_option(\"display.precision\", 2) #2 titik perpuluhan"
   ]
  },
  {
   "cell_type": "code",
   "execution_count": 2,
   "metadata": {},
   "outputs": [],
   "source": [
    "date = '20211231'\n",
    "\n",
    "SME = pd.read_excel(r\"T:\\MIB Risk Management\\Credit Risk Analytics - Historical\\02_Data_Source\\03_Retail_SME_Financing\\01_Portfolio\\\\\"+date+\"\\\\\"+date+\"_SME Loan_v1_working (RD) - to Islamic.xlsx\")\n"
   ]
  },
  {
   "cell_type": "code",
   "execution_count": 22,
   "metadata": {},
   "outputs": [],
   "source": [
    "SME.columns = SME.columns.str.upper()\n",
    "SME.columns = SME.columns.str.replace(\" \",\"_\")\n",
    "\n",
    "RSME = SME.iloc[np.where((SME.M_ENTITY_CD=='MIB')&(SME.BOROWING_BE=='Y'))]"
   ]
  },
  {
   "cell_type": "code",
   "execution_count": 27,
   "metadata": {
    "scrolled": true
   },
   "outputs": [
    {
     "name": "stderr",
     "output_type": "stream",
     "text": [
      "D:\\anaconda3\\lib\\site-packages\\ipykernel_launcher.py:1: SettingWithCopyWarning: \n",
      "A value is trying to be set on a copy of a slice from a DataFrame.\n",
      "Try using .loc[row_indexer,col_indexer] = value instead\n",
      "\n",
      "See the caveats in the documentation: https://pandas.pydata.org/pandas-docs/stable/user_guide/indexing.html#returning-a-view-versus-a-copy\n",
      "  \"\"\"Entry point for launching an IPython kernel.\n",
      "D:\\anaconda3\\lib\\site-packages\\ipykernel_launcher.py:2: SettingWithCopyWarning: \n",
      "A value is trying to be set on a copy of a slice from a DataFrame.\n",
      "Try using .loc[row_indexer,col_indexer] = value instead\n",
      "\n",
      "See the caveats in the documentation: https://pandas.pydata.org/pandas-docs/stable/user_guide/indexing.html#returning-a-view-versus-a-copy\n",
      "  \n",
      "D:\\anaconda3\\lib\\site-packages\\ipykernel_launcher.py:3: SettingWithCopyWarning: \n",
      "A value is trying to be set on a copy of a slice from a DataFrame.\n",
      "Try using .loc[row_indexer,col_indexer] = value instead\n",
      "\n",
      "See the caveats in the documentation: https://pandas.pydata.org/pandas-docs/stable/user_guide/indexing.html#returning-a-view-versus-a-copy\n",
      "  This is separate from the ipykernel package so we can avoid doing imports until\n",
      "D:\\anaconda3\\lib\\site-packages\\ipykernel_launcher.py:4: SettingWithCopyWarning: \n",
      "A value is trying to be set on a copy of a slice from a DataFrame.\n",
      "Try using .loc[row_indexer,col_indexer] = value instead\n",
      "\n",
      "See the caveats in the documentation: https://pandas.pydata.org/pandas-docs/stable/user_guide/indexing.html#returning-a-view-versus-a-copy\n",
      "  after removing the cwd from sys.path.\n"
     ]
    }
   ],
   "source": [
    "RSME['BNM_BALANCE_MIL'] = RSME.M_BNM_BALANCE/1000000\n",
    "RSME['EXPECTED_LOSS_MYR_MIL'] = RSME['SUM_OF_EXPECTED_LOSS_MYR_SUM_(REMOVED_DUP)']/1000000\n",
    "RSME['EAD_PROPORTIONAL_MYR_MIL'] = RSME['SUM_OF_EAD_PROPORTIONAL_MYR_SUM_(REMOVED_DUP)']/1000000\n",
    "RSME['RWA_AFTER_RISK_MIT_MYR_MIL'] = RSME['SUM_OF_RWA_AFTER_RISK_MIT_MYR_SUM_(REMOVED_DUP)']/1000000\n",
    "\n",
    "RISK = RSME.fillna(0).groupby(['RISK_GRADE_OVERALL_(FINAL)'])[['BNM_BALANCE_MIL',\\\n",
    "                                                              'EXPECTED_LOSS_MYR_MIL',\\\n",
    "                                                              'EAD_PROPORTIONAL_MYR_MIL',\\\n",
    "                                                              'RWA_AFTER_RISK_MIT_MYR_MIL']].sum().reset_index()"
   ]
  },
  {
   "cell_type": "code",
   "execution_count": 28,
   "metadata": {},
   "outputs": [
    {
     "data": {
      "text/html": [
       "<div>\n",
       "<style scoped>\n",
       "    .dataframe tbody tr th:only-of-type {\n",
       "        vertical-align: middle;\n",
       "    }\n",
       "\n",
       "    .dataframe tbody tr th {\n",
       "        vertical-align: top;\n",
       "    }\n",
       "\n",
       "    .dataframe thead th {\n",
       "        text-align: right;\n",
       "    }\n",
       "</style>\n",
       "<table border=\"1\" class=\"dataframe\">\n",
       "  <thead>\n",
       "    <tr style=\"text-align: right;\">\n",
       "      <th></th>\n",
       "      <th>RISK_GRADE_OVERALL_(FINAL)</th>\n",
       "      <th>BNM_BALANCE_MIL</th>\n",
       "      <th>EXPECTED_LOSS_MYR_MIL</th>\n",
       "      <th>EAD_PROPORTIONAL_MYR_MIL</th>\n",
       "      <th>RWA_AFTER_RISK_MIT_MYR_MIL</th>\n",
       "    </tr>\n",
       "  </thead>\n",
       "  <tbody>\n",
       "    <tr>\n",
       "      <th>0</th>\n",
       "      <td>0</td>\n",
       "      <td>119.00</td>\n",
       "      <td>0.00</td>\n",
       "      <td>0.00</td>\n",
       "      <td>0.00</td>\n",
       "    </tr>\n",
       "    <tr>\n",
       "      <th>1</th>\n",
       "      <td>R1</td>\n",
       "      <td>1887.74</td>\n",
       "      <td>1.76</td>\n",
       "      <td>1939.28</td>\n",
       "      <td>317.26</td>\n",
       "    </tr>\n",
       "    <tr>\n",
       "      <th>2</th>\n",
       "      <td>R11</td>\n",
       "      <td>256.52</td>\n",
       "      <td>46.03</td>\n",
       "      <td>256.33</td>\n",
       "      <td>161.89</td>\n",
       "    </tr>\n",
       "    <tr>\n",
       "      <th>3</th>\n",
       "      <td>R2</td>\n",
       "      <td>4374.30</td>\n",
       "      <td>6.61</td>\n",
       "      <td>4524.69</td>\n",
       "      <td>1016.90</td>\n",
       "    </tr>\n",
       "    <tr>\n",
       "      <th>4</th>\n",
       "      <td>R3</td>\n",
       "      <td>7124.11</td>\n",
       "      <td>17.01</td>\n",
       "      <td>7322.82</td>\n",
       "      <td>2094.53</td>\n",
       "    </tr>\n",
       "    <tr>\n",
       "      <th>5</th>\n",
       "      <td>R4</td>\n",
       "      <td>1880.82</td>\n",
       "      <td>9.59</td>\n",
       "      <td>1944.31</td>\n",
       "      <td>802.29</td>\n",
       "    </tr>\n",
       "    <tr>\n",
       "      <th>6</th>\n",
       "      <td>R5</td>\n",
       "      <td>1089.70</td>\n",
       "      <td>9.97</td>\n",
       "      <td>1125.02</td>\n",
       "      <td>569.34</td>\n",
       "    </tr>\n",
       "    <tr>\n",
       "      <th>7</th>\n",
       "      <td>R6</td>\n",
       "      <td>571.45</td>\n",
       "      <td>9.32</td>\n",
       "      <td>608.31</td>\n",
       "      <td>335.03</td>\n",
       "    </tr>\n",
       "    <tr>\n",
       "      <th>8</th>\n",
       "      <td>R7</td>\n",
       "      <td>181.65</td>\n",
       "      <td>4.38</td>\n",
       "      <td>184.69</td>\n",
       "      <td>96.73</td>\n",
       "    </tr>\n",
       "    <tr>\n",
       "      <th>9</th>\n",
       "      <td>R8</td>\n",
       "      <td>36.92</td>\n",
       "      <td>1.70</td>\n",
       "      <td>37.77</td>\n",
       "      <td>26.13</td>\n",
       "    </tr>\n",
       "    <tr>\n",
       "      <th>10</th>\n",
       "      <td>R9</td>\n",
       "      <td>49.15</td>\n",
       "      <td>3.05</td>\n",
       "      <td>50.61</td>\n",
       "      <td>36.22</td>\n",
       "    </tr>\n",
       "  </tbody>\n",
       "</table>\n",
       "</div>"
      ],
      "text/plain": [
       "   RISK_GRADE_OVERALL_(FINAL)  BNM_BALANCE_MIL  EXPECTED_LOSS_MYR_MIL  \\\n",
       "0                           0           119.00                   0.00   \n",
       "1                         R1           1887.74                   1.76   \n",
       "2                         R11           256.52                  46.03   \n",
       "3                         R2           4374.30                   6.61   \n",
       "4                          R3          7124.11                  17.01   \n",
       "5                          R4          1880.82                   9.59   \n",
       "6                          R5          1089.70                   9.97   \n",
       "7                          R6           571.45                   9.32   \n",
       "8                          R7           181.65                   4.38   \n",
       "9                          R8            36.92                   1.70   \n",
       "10                         R9            49.15                   3.05   \n",
       "\n",
       "    EAD_PROPORTIONAL_MYR_MIL  RWA_AFTER_RISK_MIT_MYR_MIL  \n",
       "0                       0.00                        0.00  \n",
       "1                    1939.28                      317.26  \n",
       "2                     256.33                      161.89  \n",
       "3                    4524.69                     1016.90  \n",
       "4                    7322.82                     2094.53  \n",
       "5                    1944.31                      802.29  \n",
       "6                    1125.02                      569.34  \n",
       "7                     608.31                      335.03  \n",
       "8                     184.69                       96.73  \n",
       "9                      37.77                       26.13  \n",
       "10                     50.61                       36.22  "
      ]
     },
     "execution_count": 28,
     "metadata": {},
     "output_type": "execute_result"
    }
   ],
   "source": [
    "RISK"
   ]
  },
  {
   "cell_type": "code",
   "execution_count": 30,
   "metadata": {},
   "outputs": [
    {
     "data": {
      "text/plain": [
       "17571.380854960018"
      ]
     },
     "execution_count": 30,
     "metadata": {},
     "output_type": "execute_result"
    }
   ],
   "source": [
    "sum(RISK.BNM_BALANCE_MIL)"
   ]
  },
  {
   "cell_type": "code",
   "execution_count": 31,
   "metadata": {},
   "outputs": [],
   "source": [
    "#-------------------------------------------SORTBY(EXCEL)\n",
    "\n",
    "writer2 = pd.ExcelWriter(r'T:\\MIB Risk Management\\Credit Risk Analytics - Historical\\01_Reporting\\07_Yearly_Reporting\\Budget\\BudgetFY21\\working - SH\\3. RSME_CFS'+str(date)+'(python).xlsx',engine='xlsxwriter')\n",
    "    \n",
    "\n",
    "RSME.to_excel(writer2, sheet_name='Base', index = False)\n",
    "RISK.to_excel(writer2, sheet_name='RISK GRADE', index = False)\n",
    "\n",
    "\n",
    "writer2.save()"
   ]
  },
  {
   "cell_type": "code",
   "execution_count": null,
   "metadata": {},
   "outputs": [],
   "source": []
  }
 ],
 "metadata": {
  "kernelspec": {
   "display_name": "Python 3",
   "language": "python",
   "name": "python3"
  },
  "language_info": {
   "codemirror_mode": {
    "name": "ipython",
    "version": 3
   },
   "file_extension": ".py",
   "mimetype": "text/x-python",
   "name": "python",
   "nbconvert_exporter": "python",
   "pygments_lexer": "ipython3",
   "version": "3.7.6"
  }
 },
 "nbformat": 4,
 "nbformat_minor": 4
}
