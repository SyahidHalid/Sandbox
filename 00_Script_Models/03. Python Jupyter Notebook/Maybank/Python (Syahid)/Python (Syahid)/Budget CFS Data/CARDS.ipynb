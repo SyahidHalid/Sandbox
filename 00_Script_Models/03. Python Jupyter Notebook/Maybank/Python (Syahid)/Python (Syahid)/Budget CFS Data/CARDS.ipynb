{
 "cells": [
  {
   "cell_type": "code",
   "execution_count": 1,
   "metadata": {},
   "outputs": [
    {
     "name": "stderr",
     "output_type": "stream",
     "text": [
      "D:\\anaconda3\\lib\\site-packages\\IPython\\core\\interactiveshell.py:3063: DtypeWarning: Columns (28) have mixed types.Specify dtype option on import or set low_memory=False.\n",
      "  interactivity=interactivity, compiler=compiler, result=result)\n"
     ]
    }
   ],
   "source": [
    "import numpy as np\n",
    "import pandas as pd\n",
    "import pandasql\n",
    "import sqlite3\n",
    "\n",
    "pd.set_option(\"display.max_columns\", None) \n",
    "pd.set_option(\"display.max_colwidth\", 1000) #huruf dlm column\n",
    "pd.set_option(\"display.max_rows\", 100)\n",
    "pd.set_option(\"display.precision\", 2) #2 titik perpuluhan\n",
    "\n",
    "CC = pd.read_csv(r'T:\\MIB Risk Management\\Credit Risk Analytics - Historical\\02_Data_Source\\07_Credit_Card\\04_Dataset\\cc_202112.txt', sep = \"\\t\", header = 0)\n",
    "\n",
    "CC_personal = pd.read_csv(r'T:\\MIB Risk Management\\Credit Risk Analytics - Historical\\02_Data_Source\\07_Credit_Card\\04_Dataset\\cc_personal_202112.txt', sep = \"\\t\", header = 0)"
   ]
  },
  {
   "cell_type": "code",
   "execution_count": 2,
   "metadata": {
    "scrolled": true
   },
   "outputs": [
    {
     "data": {
      "text/plain": [
       "((1290923, 97), (8628, 76))"
      ]
     },
     "execution_count": 2,
     "metadata": {},
     "output_type": "execute_result"
    }
   ],
   "source": [
    "CC.shape, CC_personal.shape"
   ]
  },
  {
   "cell_type": "code",
   "execution_count": 15,
   "metadata": {},
   "outputs": [
    {
     "name": "stderr",
     "output_type": "stream",
     "text": [
      "D:\\anaconda3\\lib\\site-packages\\pandas\\core\\ops\\array_ops.py:253: FutureWarning: elementwise comparison failed; returning scalar instead, but in the future will perform elementwise comparison\n",
      "  res_values = method(rvalues)\n"
     ]
    }
   ],
   "source": [
    "#AT003_1.OSM = AT003_1.OSM.str.strip()\n",
    "CC_personal.loc[CC_personal.Outstanding_Amt=='?','Outstanding_Amt'] = 0\n",
    "CC_personal.Outstanding_Amt = CC_personal.Outstanding_Amt.astype(float)\n",
    "\n",
    "#AT003_1.EXPECTED_LOSS = AT003_1.EXPECTED_LOSS.str.strip()\n",
    "CC_personal.loc[CC_personal.EL=='?','EL'] = 0\n",
    "CC_personal.EL = CC_personal.EL.astype(float)\n",
    "\n",
    "#AT003_1.EAD = AT003_1.EAD.str.strip()\n",
    "CC_personal.loc[CC_personal.EAD=='?','EAD'] = 0\n",
    "CC_personal.EAD = CC_personal.EAD.astype(float)\n",
    "\n",
    "#AT003_1.RWA = AT003_1.RWA.str.strip()\n",
    "CC_personal.loc[CC_personal.RWA=='?','RWA'] = 0\n",
    "CC_personal.RWA = CC_personal.RWA.astype(float)\n",
    "\n",
    "\n",
    "RISK_pf = CC_personal.fillna(0).groupby(['RISK_GRADE_VAL','STAGE_CLASSIFICATION'])[['Outstanding_Amt','EL','EAD','RWA']].sum().reset_index()\n"
   ]
  },
  {
   "cell_type": "code",
   "execution_count": 19,
   "metadata": {},
   "outputs": [
    {
     "name": "stderr",
     "output_type": "stream",
     "text": [
      "D:\\anaconda3\\lib\\site-packages\\pandas\\core\\ops\\array_ops.py:253: FutureWarning: elementwise comparison failed; returning scalar instead, but in the future will perform elementwise comparison\n",
      "  res_values = method(rvalues)\n"
     ]
    }
   ],
   "source": [
    "#AT003_1.OSM = AT003_1.OSM.str.strip()\n",
    "CC.loc[CC.Outstanding_Amt=='?','Outstanding_Amt'] = 0\n",
    "CC.Outstanding_Amt = CC.Outstanding_Amt.astype(float)\n",
    "\n",
    "#AT003_1.EXPECTED_LOSS = AT003_1.EXPECTED_LOSS.str.strip()\n",
    "CC.loc[CC.EL=='?','EL'] = 0\n",
    "CC.EL = CC.EL.astype(float)\n",
    "\n",
    "#AT003_1.EAD = AT003_1.EAD.str.strip()\n",
    "CC.loc[CC.EAD=='?','EAD'] = 0\n",
    "CC.EAD = CC.EAD.astype(float)\n",
    "\n",
    "#AT003_1.RWA = AT003_1.RWA.str.strip()\n",
    "CC.loc[CC.RWA=='?','RWA'] = 0\n",
    "CC.RWA = CC.RWA.astype(float)\n",
    "\n",
    "\n",
    "RISK = CC.fillna(0).groupby(['RISK_GRADE_VAL'])[['Outstanding_Amt','EL','EAD','RWA']].sum().reset_index()\n"
   ]
  },
  {
   "cell_type": "code",
   "execution_count": 17,
   "metadata": {
    "scrolled": true
   },
   "outputs": [
    {
     "data": {
      "text/html": [
       "<div>\n",
       "<style scoped>\n",
       "    .dataframe tbody tr th:only-of-type {\n",
       "        vertical-align: middle;\n",
       "    }\n",
       "\n",
       "    .dataframe tbody tr th {\n",
       "        vertical-align: top;\n",
       "    }\n",
       "\n",
       "    .dataframe thead th {\n",
       "        text-align: right;\n",
       "    }\n",
       "</style>\n",
       "<table border=\"1\" class=\"dataframe\">\n",
       "  <thead>\n",
       "    <tr style=\"text-align: right;\">\n",
       "      <th></th>\n",
       "      <th>RISK_GRADE_VAL</th>\n",
       "      <th>STAGE_CLASSIFICATION</th>\n",
       "      <th>Outstanding_Amt</th>\n",
       "      <th>EL</th>\n",
       "      <th>EAD</th>\n",
       "      <th>RWA</th>\n",
       "    </tr>\n",
       "  </thead>\n",
       "  <tbody>\n",
       "    <tr>\n",
       "      <th>0</th>\n",
       "      <td>?</td>\n",
       "      <td>STAGE1</td>\n",
       "      <td>8.23e+07</td>\n",
       "      <td>0.0</td>\n",
       "      <td>8.23e+07</td>\n",
       "      <td>7.55e+07</td>\n",
       "    </tr>\n",
       "    <tr>\n",
       "      <th>1</th>\n",
       "      <td>?</td>\n",
       "      <td>STAGE2</td>\n",
       "      <td>6.82e+06</td>\n",
       "      <td>0.0</td>\n",
       "      <td>6.82e+06</td>\n",
       "      <td>6.56e+06</td>\n",
       "    </tr>\n",
       "    <tr>\n",
       "      <th>2</th>\n",
       "      <td>?</td>\n",
       "      <td>STAGE3</td>\n",
       "      <td>8.61e+05</td>\n",
       "      <td>0.0</td>\n",
       "      <td>5.18e+05</td>\n",
       "      <td>5.18e+05</td>\n",
       "    </tr>\n",
       "  </tbody>\n",
       "</table>\n",
       "</div>"
      ],
      "text/plain": [
       "  RISK_GRADE_VAL STAGE_CLASSIFICATION  Outstanding_Amt   EL       EAD  \\\n",
       "0              ?               STAGE1         8.23e+07  0.0  8.23e+07   \n",
       "1              ?               STAGE2         6.82e+06  0.0  6.82e+06   \n",
       "2              ?               STAGE3         8.61e+05  0.0  5.18e+05   \n",
       "\n",
       "        RWA  \n",
       "0  7.55e+07  \n",
       "1  6.56e+06  \n",
       "2  5.18e+05  "
      ]
     },
     "execution_count": 17,
     "metadata": {},
     "output_type": "execute_result"
    }
   ],
   "source": [
    "RISK_pf"
   ]
  },
  {
   "cell_type": "code",
   "execution_count": 6,
   "metadata": {},
   "outputs": [
    {
     "data": {
      "text/html": [
       "<div>\n",
       "<style scoped>\n",
       "    .dataframe tbody tr th:only-of-type {\n",
       "        vertical-align: middle;\n",
       "    }\n",
       "\n",
       "    .dataframe tbody tr th {\n",
       "        vertical-align: top;\n",
       "    }\n",
       "\n",
       "    .dataframe thead th {\n",
       "        text-align: right;\n",
       "    }\n",
       "</style>\n",
       "<table border=\"1\" class=\"dataframe\">\n",
       "  <thead>\n",
       "    <tr style=\"text-align: right;\">\n",
       "      <th></th>\n",
       "      <th>RISK_GRADE_VAL</th>\n",
       "      <th>Outstanding_Amt</th>\n",
       "      <th>EL</th>\n",
       "      <th>EAD</th>\n",
       "      <th>RWA</th>\n",
       "    </tr>\n",
       "  </thead>\n",
       "  <tbody>\n",
       "    <tr>\n",
       "      <th>0</th>\n",
       "      <td>?</td>\n",
       "      <td>1.18e+08</td>\n",
       "      <td>1.32e+07</td>\n",
       "      <td>1.18e+08</td>\n",
       "      <td>1.08e+08</td>\n",
       "    </tr>\n",
       "    <tr>\n",
       "      <th>1</th>\n",
       "      <td>R1</td>\n",
       "      <td>1.07e+09</td>\n",
       "      <td>4.52e+06</td>\n",
       "      <td>3.35e+09</td>\n",
       "      <td>2.49e+08</td>\n",
       "    </tr>\n",
       "    <tr>\n",
       "      <th>2</th>\n",
       "      <td>R10</td>\n",
       "      <td>1.57e+07</td>\n",
       "      <td>4.51e+06</td>\n",
       "      <td>1.83e+07</td>\n",
       "      <td>3.44e+07</td>\n",
       "    </tr>\n",
       "    <tr>\n",
       "      <th>3</th>\n",
       "      <td>R2</td>\n",
       "      <td>9.82e+08</td>\n",
       "      <td>4.88e+06</td>\n",
       "      <td>1.88e+09</td>\n",
       "      <td>2.39e+08</td>\n",
       "    </tr>\n",
       "    <tr>\n",
       "      <th>4</th>\n",
       "      <td>R3</td>\n",
       "      <td>8.90e+08</td>\n",
       "      <td>7.14e+06</td>\n",
       "      <td>1.55e+09</td>\n",
       "      <td>3.08e+08</td>\n",
       "    </tr>\n",
       "    <tr>\n",
       "      <th>5</th>\n",
       "      <td>R4</td>\n",
       "      <td>9.88e+08</td>\n",
       "      <td>1.18e+07</td>\n",
       "      <td>1.41e+09</td>\n",
       "      <td>4.41e+08</td>\n",
       "    </tr>\n",
       "    <tr>\n",
       "      <th>6</th>\n",
       "      <td>R5</td>\n",
       "      <td>9.10e+08</td>\n",
       "      <td>1.69e+07</td>\n",
       "      <td>1.15e+09</td>\n",
       "      <td>5.40e+08</td>\n",
       "    </tr>\n",
       "    <tr>\n",
       "      <th>7</th>\n",
       "      <td>R6</td>\n",
       "      <td>5.58e+08</td>\n",
       "      <td>1.69e+07</td>\n",
       "      <td>6.72e+08</td>\n",
       "      <td>4.57e+08</td>\n",
       "    </tr>\n",
       "    <tr>\n",
       "      <th>8</th>\n",
       "      <td>R7</td>\n",
       "      <td>2.81e+08</td>\n",
       "      <td>1.47e+07</td>\n",
       "      <td>3.09e+08</td>\n",
       "      <td>3.14e+08</td>\n",
       "    </tr>\n",
       "    <tr>\n",
       "      <th>9</th>\n",
       "      <td>R8</td>\n",
       "      <td>2.86e+08</td>\n",
       "      <td>2.32e+07</td>\n",
       "      <td>2.94e+08</td>\n",
       "      <td>3.96e+08</td>\n",
       "    </tr>\n",
       "    <tr>\n",
       "      <th>10</th>\n",
       "      <td>R9</td>\n",
       "      <td>4.58e+07</td>\n",
       "      <td>8.02e+06</td>\n",
       "      <td>6.31e+07</td>\n",
       "      <td>1.05e+08</td>\n",
       "    </tr>\n",
       "  </tbody>\n",
       "</table>\n",
       "</div>"
      ],
      "text/plain": [
       "   RISK_GRADE_VAL  Outstanding_Amt        EL       EAD       RWA\n",
       "0               ?         1.18e+08  1.32e+07  1.18e+08  1.08e+08\n",
       "1              R1         1.07e+09  4.52e+06  3.35e+09  2.49e+08\n",
       "2             R10         1.57e+07  4.51e+06  1.83e+07  3.44e+07\n",
       "3              R2         9.82e+08  4.88e+06  1.88e+09  2.39e+08\n",
       "4              R3         8.90e+08  7.14e+06  1.55e+09  3.08e+08\n",
       "5              R4         9.88e+08  1.18e+07  1.41e+09  4.41e+08\n",
       "6              R5         9.10e+08  1.69e+07  1.15e+09  5.40e+08\n",
       "7              R6         5.58e+08  1.69e+07  6.72e+08  4.57e+08\n",
       "8              R7         2.81e+08  1.47e+07  3.09e+08  3.14e+08\n",
       "9              R8         2.86e+08  2.32e+07  2.94e+08  3.96e+08\n",
       "10             R9         4.58e+07  8.02e+06  6.31e+07  1.05e+08"
      ]
     },
     "execution_count": 6,
     "metadata": {},
     "output_type": "execute_result"
    }
   ],
   "source": [
    "RISK"
   ]
  },
  {
   "cell_type": "code",
   "execution_count": 20,
   "metadata": {},
   "outputs": [],
   "source": [
    "#-------------------------------------------SORTBY(EXCEL)\n",
    "\n",
    "writer2 = pd.ExcelWriter(r'T:\\MIB Risk Management\\Credit Risk Analytics - Historical\\01_Reporting\\07_Yearly_Reporting\\Budget\\BudgetFY21\\working - SH\\CC_CFS202112(python).xlsx',engine='xlsxwriter')\n",
    "    \n",
    "\n",
    "#CC.to_excel(writer2, sheet_name='Base', index = False)\n",
    "RISK.to_excel(writer2, sheet_name='CC', index = False)\n",
    "RISK_pf.to_excel(writer2, sheet_name='CC personal', index = False)\n",
    "\n",
    "writer2.save()"
   ]
  },
  {
   "cell_type": "code",
   "execution_count": null,
   "metadata": {},
   "outputs": [],
   "source": []
  },
  {
   "cell_type": "code",
   "execution_count": 7,
   "metadata": {
    "scrolled": true
   },
   "outputs": [
    {
     "ename": "ValueError",
     "evalue": "This sheet is too large! Your sheet size is: 1290923, 97 Max sheet size is: 1048576, 16384",
     "output_type": "error",
     "traceback": [
      "\u001b[1;31m---------------------------------------------------------------------------\u001b[0m",
      "\u001b[1;31mValueError\u001b[0m                                Traceback (most recent call last)",
      "\u001b[1;32m<ipython-input-7-0c7f6e072c87>\u001b[0m in \u001b[0;36m<module>\u001b[1;34m\u001b[0m\n\u001b[0;32m      4\u001b[0m \u001b[1;33m\u001b[0m\u001b[0m\n\u001b[0;32m      5\u001b[0m \u001b[1;33m\u001b[0m\u001b[0m\n\u001b[1;32m----> 6\u001b[1;33m \u001b[0mCC\u001b[0m\u001b[1;33m.\u001b[0m\u001b[0mto_excel\u001b[0m\u001b[1;33m(\u001b[0m\u001b[0mwriter2\u001b[0m\u001b[1;33m,\u001b[0m \u001b[0msheet_name\u001b[0m\u001b[1;33m=\u001b[0m\u001b[1;34m'Base'\u001b[0m\u001b[1;33m,\u001b[0m \u001b[0mindex\u001b[0m \u001b[1;33m=\u001b[0m \u001b[1;32mFalse\u001b[0m\u001b[1;33m)\u001b[0m\u001b[1;33m\u001b[0m\u001b[1;33m\u001b[0m\u001b[0m\n\u001b[0m\u001b[0;32m      7\u001b[0m \u001b[0mRISK\u001b[0m\u001b[1;33m.\u001b[0m\u001b[0mto_excel\u001b[0m\u001b[1;33m(\u001b[0m\u001b[0mwriter2\u001b[0m\u001b[1;33m,\u001b[0m \u001b[0msheet_name\u001b[0m\u001b[1;33m=\u001b[0m\u001b[1;34m'CC'\u001b[0m\u001b[1;33m,\u001b[0m \u001b[0mindex\u001b[0m \u001b[1;33m=\u001b[0m \u001b[1;32mFalse\u001b[0m\u001b[1;33m)\u001b[0m\u001b[1;33m\u001b[0m\u001b[1;33m\u001b[0m\u001b[0m\n\u001b[0;32m      8\u001b[0m \u001b[1;33m\u001b[0m\u001b[0m\n",
      "\u001b[1;32mD:\\anaconda3\\lib\\site-packages\\pandas\\core\\generic.py\u001b[0m in \u001b[0;36mto_excel\u001b[1;34m(self, excel_writer, sheet_name, na_rep, float_format, columns, header, index, index_label, startrow, startcol, engine, merge_cells, encoding, inf_rep, verbose, freeze_panes)\u001b[0m\n\u001b[0;32m   2179\u001b[0m             \u001b[0mstartcol\u001b[0m\u001b[1;33m=\u001b[0m\u001b[0mstartcol\u001b[0m\u001b[1;33m,\u001b[0m\u001b[1;33m\u001b[0m\u001b[1;33m\u001b[0m\u001b[0m\n\u001b[0;32m   2180\u001b[0m             \u001b[0mfreeze_panes\u001b[0m\u001b[1;33m=\u001b[0m\u001b[0mfreeze_panes\u001b[0m\u001b[1;33m,\u001b[0m\u001b[1;33m\u001b[0m\u001b[1;33m\u001b[0m\u001b[0m\n\u001b[1;32m-> 2181\u001b[1;33m             \u001b[0mengine\u001b[0m\u001b[1;33m=\u001b[0m\u001b[0mengine\u001b[0m\u001b[1;33m,\u001b[0m\u001b[1;33m\u001b[0m\u001b[1;33m\u001b[0m\u001b[0m\n\u001b[0m\u001b[0;32m   2182\u001b[0m         )\n\u001b[0;32m   2183\u001b[0m \u001b[1;33m\u001b[0m\u001b[0m\n",
      "\u001b[1;32mD:\\anaconda3\\lib\\site-packages\\pandas\\io\\formats\\excel.py\u001b[0m in \u001b[0;36mwrite\u001b[1;34m(self, writer, sheet_name, startrow, startcol, freeze_panes, engine)\u001b[0m\n\u001b[0;32m    717\u001b[0m         \u001b[1;32mif\u001b[0m \u001b[0mnum_rows\u001b[0m \u001b[1;33m>\u001b[0m \u001b[0mself\u001b[0m\u001b[1;33m.\u001b[0m\u001b[0mmax_rows\u001b[0m \u001b[1;32mor\u001b[0m \u001b[0mnum_cols\u001b[0m \u001b[1;33m>\u001b[0m \u001b[0mself\u001b[0m\u001b[1;33m.\u001b[0m\u001b[0mmax_cols\u001b[0m\u001b[1;33m:\u001b[0m\u001b[1;33m\u001b[0m\u001b[1;33m\u001b[0m\u001b[0m\n\u001b[0;32m    718\u001b[0m             raise ValueError(\n\u001b[1;32m--> 719\u001b[1;33m                 \u001b[1;34mf\"This sheet is too large! Your sheet size is: {num_rows}, {num_cols} \"\u001b[0m\u001b[1;33m\u001b[0m\u001b[1;33m\u001b[0m\u001b[0m\n\u001b[0m\u001b[0;32m    720\u001b[0m                 \u001b[1;34mf\"Max sheet size is: {self.max_rows}, {self.max_cols}\"\u001b[0m\u001b[1;33m\u001b[0m\u001b[1;33m\u001b[0m\u001b[0m\n\u001b[0;32m    721\u001b[0m             )\n",
      "\u001b[1;31mValueError\u001b[0m: This sheet is too large! Your sheet size is: 1290923, 97 Max sheet size is: 1048576, 16384"
     ]
    }
   ],
   "source": [
    "#bukti limit excel"
   ]
  }
 ],
 "metadata": {
  "kernelspec": {
   "display_name": "Python 3",
   "language": "python",
   "name": "python3"
  },
  "language_info": {
   "codemirror_mode": {
    "name": "ipython",
    "version": 3
   },
   "file_extension": ".py",
   "mimetype": "text/x-python",
   "name": "python",
   "nbconvert_exporter": "python",
   "pygments_lexer": "ipython3",
   "version": "3.7.6"
  }
 },
 "nbformat": 4,
 "nbformat_minor": 4
}
