{
 "cells": [
  {
   "cell_type": "code",
   "execution_count": 1,
   "metadata": {},
   "outputs": [],
   "source": [
    "import numpy as np\n",
    "import pandas as pd\n",
    "import pandasql\n",
    "import sqlite3\n",
    "\n",
    "pd.set_option(\"display.max_columns\", None) \n",
    "pd.set_option(\"display.max_colwidth\", 1000) #huruf dlm column\n",
    "pd.set_option(\"display.max_rows\", 100)\n",
    "pd.set_option(\"display.precision\", 2) #2 titik perpuluhan"
   ]
  },
  {
   "cell_type": "code",
   "execution_count": 5,
   "metadata": {},
   "outputs": [],
   "source": [
    "CB_jun = pd.read_excel(r\"T:\\MIB Risk Management\\Credit Risk Analytics - Historical\\01_Reporting\\03_Adhoc_Reporting\\2022\\202208_RAM\\Corp & SME Q15 & Q16\\RAM_CB - jun 22.xlsx\", sheet_name='Nawar Jun Listing')\n",
    "\n",
    "CB_dec = pd.read_excel(r\"T:\\MIB Risk Management\\Credit Risk Analytics - Historical\\01_Reporting\\03_Adhoc_Reporting\\2022\\202208_RAM\\Corp & SME Q15 & Q16\\RAM_CB - jun 22.xlsx\", sheet_name='Nawar Dec Listing')\n"
   ]
  },
  {
   "cell_type": "code",
   "execution_count": 10,
   "metadata": {},
   "outputs": [],
   "source": [
    "CB_jun.columns = CB_jun.columns.str.upper()\n",
    "CB_jun.columns = CB_jun.columns.str.replace(\" \", \"_\")\n",
    "\n",
    "CB_dec.columns = CB_dec.columns.str.upper()\n",
    "CB_dec.columns = CB_dec.columns.str.replace(\" \", \"_\")\n"
   ]
  },
  {
   "cell_type": "code",
   "execution_count": 7,
   "metadata": {},
   "outputs": [],
   "source": [
    "CB_rating_jun = pd.read_excel(r\"T:\\MIB Risk Management\\Credit Risk Analytics - Historical\\01_Reporting\\03_Adhoc_Reporting\\2022\\202208_RAM\\Corp & SME Q15 & Q16\\RAM_CB - jun 22.xlsx\", sheet_name='CB - base')\n",
    "\n",
    "CB_rating_dec = pd.read_excel(r\"T:\\MIB Risk Management\\Credit Risk Analytics - Historical\\01_Reporting\\03_Adhoc_Reporting\\2022\\202208_RAM\\Corp & SME Q15 & Q16\\RAM_CB - dec 21.xlsx\", sheet_name='CB - base')\n"
   ]
  },
  {
   "cell_type": "code",
   "execution_count": 17,
   "metadata": {},
   "outputs": [],
   "source": [
    "CB_jun.M_CUS_NO = CB_jun.M_CUS_NO.astype(str)\n",
    "CB_jun.M_CUS_NO = CB_jun.M_CUS_NO.str.strip()\n",
    "CB_jun.M_CUS_NO = CB_jun.M_CUS_NO.str.upper()\n",
    "\n",
    "CB_rating_jun.M_CUS_NO = CB_rating_jun.M_CUS_NO.astype(str)\n",
    "CB_rating_jun.M_CUS_NO = CB_rating_jun.M_CUS_NO.str.strip()\n",
    "CB_rating_jun.M_CUS_NO = CB_rating_jun.M_CUS_NO.str.upper()\n",
    "\n",
    "jun = CB_jun.merge(CB_rating_jun[['M_CUS_NO','SECTOR_DESC','FINAL_RATING','RAM']],on='M_CUS_NO',how='left')"
   ]
  },
  {
   "cell_type": "code",
   "execution_count": 19,
   "metadata": {},
   "outputs": [],
   "source": [
    "jun.RAM.fillna('Unrated',inplace=True)"
   ]
  },
  {
   "cell_type": "code",
   "execution_count": 20,
   "metadata": {},
   "outputs": [
    {
     "data": {
      "text/plain": [
       "Unrated    4970\n",
       "A           141\n",
       "BBB          99\n",
       "AA           44\n",
       "BB           38\n",
       "D            10\n",
       "C             7\n",
       "AAA           3\n",
       "B             2\n",
       "Name: RAM, dtype: int64"
      ]
     },
     "execution_count": 20,
     "metadata": {},
     "output_type": "execute_result"
    }
   ],
   "source": [
    "jun.RAM.value_counts()"
   ]
  },
  {
   "cell_type": "code",
   "execution_count": 13,
   "metadata": {},
   "outputs": [
    {
     "data": {
      "text/html": [
       "<div>\n",
       "<style scoped>\n",
       "    .dataframe tbody tr th:only-of-type {\n",
       "        vertical-align: middle;\n",
       "    }\n",
       "\n",
       "    .dataframe tbody tr th {\n",
       "        vertical-align: top;\n",
       "    }\n",
       "\n",
       "    .dataframe thead th {\n",
       "        text-align: right;\n",
       "    }\n",
       "</style>\n",
       "<table border=\"1\" class=\"dataframe\">\n",
       "  <thead>\n",
       "    <tr style=\"text-align: right;\">\n",
       "      <th></th>\n",
       "      <th>M_CUS_NO</th>\n",
       "      <th>NAME</th>\n",
       "      <th>M_MSIC_CODE</th>\n",
       "      <th>TOTAL</th>\n",
       "      <th>RPSIA</th>\n",
       "      <th>OS_AFTER_RPSIA</th>\n",
       "    </tr>\n",
       "  </thead>\n",
       "  <tbody>\n",
       "    <tr>\n",
       "      <th>0</th>\n",
       "      <td>23549043</td>\n",
       "      <td>LEMBAGA PEMBIAYAAN PERUMAHAN SEKTOR AWAM</td>\n",
       "      <td>64999</td>\n",
       "      <td>1.02e+10</td>\n",
       "      <td>8.40e+09</td>\n",
       "      <td>1.80e+09</td>\n",
       "    </tr>\n",
       "  </tbody>\n",
       "</table>\n",
       "</div>"
      ],
      "text/plain": [
       "   M_CUS_NO                                      NAME M_MSIC_CODE     TOTAL  \\\n",
       "0  23549043  LEMBAGA PEMBIAYAAN PERUMAHAN SEKTOR AWAM       64999  1.02e+10   \n",
       "\n",
       "      RPSIA  OS_AFTER_RPSIA  \n",
       "0  8.40e+09        1.80e+09  "
      ]
     },
     "execution_count": 13,
     "metadata": {},
     "output_type": "execute_result"
    }
   ],
   "source": [
    "CB_jun.head(1)"
   ]
  },
  {
   "cell_type": "code",
   "execution_count": 16,
   "metadata": {},
   "outputs": [
    {
     "data": {
      "text/html": [
       "<div>\n",
       "<style scoped>\n",
       "    .dataframe tbody tr th:only-of-type {\n",
       "        vertical-align: middle;\n",
       "    }\n",
       "\n",
       "    .dataframe tbody tr th {\n",
       "        vertical-align: top;\n",
       "    }\n",
       "\n",
       "    .dataframe thead th {\n",
       "        text-align: right;\n",
       "    }\n",
       "</style>\n",
       "<table border=\"1\" class=\"dataframe\">\n",
       "  <thead>\n",
       "    <tr style=\"text-align: right;\">\n",
       "      <th></th>\n",
       "      <th>M_CUS_NO</th>\n",
       "      <th>NAME</th>\n",
       "      <th>BNM_SECTOR_CD</th>\n",
       "      <th>SECTOR_DESC</th>\n",
       "      <th>SECTOR_PARENT</th>\n",
       "      <th>SEGMENT</th>\n",
       "      <th>RDMS</th>\n",
       "      <th>CUSTOMER_FIELD19</th>\n",
       "      <th>PSE/SOV</th>\n",
       "      <th>CRRS</th>\n",
       "      <th>3RD_PARTY_PARENT</th>\n",
       "      <th>3RD_PARTY</th>\n",
       "      <th>FINAL_RATING</th>\n",
       "      <th>M_FINANCING_TYPE_CD</th>\n",
       "      <th>M_BNM_BALANCE_SUM</th>\n",
       "      <th>_merge</th>\n",
       "      <th>RAM</th>\n",
       "    </tr>\n",
       "  </thead>\n",
       "  <tbody>\n",
       "    <tr>\n",
       "      <th>0</th>\n",
       "      <td>23549043</td>\n",
       "      <td>LEMBAGA PEMBIAYAAN PERUMAHAN SEKTOR AWAM</td>\n",
       "      <td>64999</td>\n",
       "      <td>OTHER FINANCIAL SERVICE ACTIVITIES, EXCEPT INSURANCE/TAKAFUL AND PENSION FUNDING N.E.C.</td>\n",
       "      <td>11. FINANCIAL AND INSURANCE/ TAKAFUL ACTIVITIES</td>\n",
       "      <td>01. CB</td>\n",
       "      <td>2</td>\n",
       "      <td>PSE(FIRB)</td>\n",
       "      <td>NaN</td>\n",
       "      <td>2</td>\n",
       "      <td>N</td>\n",
       "      <td>NaN</td>\n",
       "      <td>2</td>\n",
       "      <td>I</td>\n",
       "      <td>1.02e+10</td>\n",
       "      <td>both</td>\n",
       "      <td>AAA</td>\n",
       "    </tr>\n",
       "  </tbody>\n",
       "</table>\n",
       "</div>"
      ],
      "text/plain": [
       "   M_CUS_NO                                      NAME BNM_SECTOR_CD  \\\n",
       "0  23549043  LEMBAGA PEMBIAYAAN PERUMAHAN SEKTOR AWAM         64999   \n",
       "\n",
       "                                                                               SECTOR_DESC  \\\n",
       "0  OTHER FINANCIAL SERVICE ACTIVITIES, EXCEPT INSURANCE/TAKAFUL AND PENSION FUNDING N.E.C.   \n",
       "\n",
       "                                     SECTOR_PARENT SEGMENT RDMS  \\\n",
       "0  11. FINANCIAL AND INSURANCE/ TAKAFUL ACTIVITIES  01. CB    2   \n",
       "\n",
       "  CUSTOMER_FIELD19 PSE/SOV CRRS 3RD_PARTY_PARENT  3RD_PARTY FINAL_RATING  \\\n",
       "0        PSE(FIRB)     NaN    2                N        NaN            2   \n",
       "\n",
       "  M_FINANCING_TYPE_CD  M_BNM_BALANCE_SUM _merge  RAM  \n",
       "0                   I           1.02e+10   both  AAA  "
      ]
     },
     "execution_count": 16,
     "metadata": {},
     "output_type": "execute_result"
    }
   ],
   "source": [
    "CB_rating_jun.head(1)"
   ]
  },
  {
   "cell_type": "code",
   "execution_count": null,
   "metadata": {},
   "outputs": [],
   "source": [
    "writer2 = pd.ExcelWriter(r'T:\\MIB Risk Management\\Credit Risk Analytics - Historical\\01_Reporting\\03_Adhoc_Reporting\\2022\\202208_RAM\\Corp & SME Q15 & Q16\\RAM_CB - jun 22 (exclude RPSIA).xlsx',engine='xlsxwriter')\n",
    "CB_RPSIA.to_excel(writer2,sheet_name='CB - RPSIA' ,index = False)\n",
    "CB_1.to_excel(writer2,sheet_name='CB - base' ,index = False)\n",
    "CB_2.to_excel(writer2,sheet_name='CB' ,index = False)\n",
    "TOTAL_IMPAIRED_FINAL4.to_excel(writer2,sheet_name='CB IF' ,index = False)\n",
    "TOTAL_IMPAIRED_FINAL3.to_excel(writer2,sheet_name='CB IF - base' ,index = False)\n",
    "IF_RPSIA.to_excel(writer2,sheet_name='CB IF - RPSIA' ,index = False)\n",
    "writer2.save()"
   ]
  }
 ],
 "metadata": {
  "kernelspec": {
   "display_name": "Python 3",
   "language": "python",
   "name": "python3"
  },
  "language_info": {
   "codemirror_mode": {
    "name": "ipython",
    "version": 3
   },
   "file_extension": ".py",
   "mimetype": "text/x-python",
   "name": "python",
   "nbconvert_exporter": "python",
   "pygments_lexer": "ipython3",
   "version": "3.7.6"
  }
 },
 "nbformat": 4,
 "nbformat_minor": 4
}
