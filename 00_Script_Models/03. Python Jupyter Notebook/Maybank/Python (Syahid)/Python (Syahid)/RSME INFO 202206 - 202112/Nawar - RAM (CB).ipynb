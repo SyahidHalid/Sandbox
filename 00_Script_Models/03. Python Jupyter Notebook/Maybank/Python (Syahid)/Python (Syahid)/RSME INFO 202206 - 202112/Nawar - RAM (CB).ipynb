{
 "cells": [
  {
   "cell_type": "code",
   "execution_count": 1,
   "metadata": {},
   "outputs": [],
   "source": [
    "import numpy as np\n",
    "import pandas as pd\n",
    "import pandasql\n",
    "import sqlite3\n",
    "\n",
    "pd.set_option(\"display.max_columns\", None) \n",
    "pd.set_option(\"display.max_colwidth\", 1000) #huruf dlm column\n",
    "pd.set_option(\"display.max_rows\", 100)\n",
    "pd.set_option(\"display.precision\", 2) #2 titik perpuluhan"
   ]
  },
  {
   "cell_type": "code",
   "execution_count": 2,
   "metadata": {},
   "outputs": [],
   "source": [
    "CB = pd.read_excel(r\"T:\\MIB Risk Management\\Credit Risk Analytics - Historical\\01_Reporting\\01_Monthly_Reporting\\18_Rating_CBBBRSME\\BRR_CBBBRSME_202206(python).xlsx\")\n"
   ]
  },
  {
   "cell_type": "code",
   "execution_count": 3,
   "metadata": {},
   "outputs": [],
   "source": [
    "CB_source = pd.read_excel(r\"T:\\MIB Risk Management\\Credit Risk Analytics - Historical\\02_Data_Source\\01_Corporate_Financing\\01_Portfolio\\20220630\\GB Monthly Loan Outstanding 30-Jun-2022 FINAL.xlsx\")\n"
   ]
  },
  {
   "cell_type": "code",
   "execution_count": 5,
   "metadata": {},
   "outputs": [],
   "source": [
    "CB_source.columns = CB_source.columns.str.upper()\n",
    "CB_source.columns = CB_source.columns.str.replace(\" \", \"_\")"
   ]
  },
  {
   "cell_type": "code",
   "execution_count": 10,
   "metadata": {},
   "outputs": [],
   "source": [
    "CB_source1 = CB_source.iloc[np.where((CB_source.M_FINANCING_TYPE_CD=='I')&(CB_source.FACILITY!='RTO')&(CB_source.COMMON_COA_ID==12000)&(CB_source.FACILITY_2!='BOND'))].fillna(0).groupby(['M_CUS_NO','M_FINANCING_TYPE_CD'])[['M_BNM_BALANCE_SUM']].sum().reset_index()\n"
   ]
  },
  {
   "cell_type": "code",
   "execution_count": null,
   "metadata": {},
   "outputs": [],
   "source": [
    "#patutny rules apply kat CB, bukan CB source"
   ]
  },
  {
   "cell_type": "code",
   "execution_count": 11,
   "metadata": {
    "scrolled": true
   },
   "outputs": [],
   "source": [
    "CB_1 = CB.merge(CB_source1, on='M_CUS_NO', how='left', indicator=True)"
   ]
  },
  {
   "cell_type": "code",
   "execution_count": 12,
   "metadata": {},
   "outputs": [],
   "source": [
    "CB_1.FINAL_RATING = CB_1.FINAL_RATING.str.strip()\n",
    "\n",
    "CB_1.loc[CB_1.FINAL_RATING == '1', 'RAM'] = 'AAA'\n",
    "CB_1.loc[CB_1.FINAL_RATING == '2', 'RAM'] = 'AAA'\n",
    "CB_1.loc[CB_1.FINAL_RATING == '3', 'RAM'] = 'AAA'\n",
    "CB_1.loc[CB_1.FINAL_RATING == '4', 'RAM'] = 'AA'\n",
    "CB_1.loc[CB_1.FINAL_RATING == '5', 'RAM'] = 'AA'\n",
    "CB_1.loc[CB_1.FINAL_RATING == '6', 'RAM'] = 'AA'\n",
    "CB_1.loc[CB_1.FINAL_RATING == '7', 'RAM'] = 'AA'\n",
    "CB_1.loc[CB_1.FINAL_RATING == '8', 'RAM'] = 'A'\n",
    "CB_1.loc[CB_1.FINAL_RATING == '9', 'RAM'] = 'A'\n",
    "CB_1.loc[CB_1.FINAL_RATING == '10', 'RAM'] = 'A'\n",
    "CB_1.loc[CB_1.FINAL_RATING == '11', 'RAM'] = 'A'\n",
    "CB_1.loc[CB_1.FINAL_RATING == '12', 'RAM'] = 'BBB'\n",
    "CB_1.loc[CB_1.FINAL_RATING == '13', 'RAM'] = 'BBB'\n",
    "CB_1.loc[CB_1.FINAL_RATING == '14', 'RAM'] = 'BBB'\n",
    "CB_1.loc[CB_1.FINAL_RATING == '15', 'RAM'] = 'BB'\n",
    "CB_1.loc[CB_1.FINAL_RATING == '16', 'RAM'] = 'BB'\n",
    "CB_1.loc[CB_1.FINAL_RATING == '17', 'RAM'] = 'BB'\n",
    "CB_1.loc[CB_1.FINAL_RATING == '18', 'RAM'] = 'BB'\n",
    "CB_1.loc[CB_1.FINAL_RATING == '19', 'RAM'] = 'B'\n",
    "CB_1.loc[CB_1.FINAL_RATING == '20', 'RAM'] = 'B'\n",
    "CB_1.loc[CB_1.FINAL_RATING == '21', 'RAM'] = 'C'\n",
    "CB_1.loc[CB_1.FINAL_RATING == '22', 'RAM'] = 'D'\n",
    "CB_1.loc[CB_1.FINAL_RATING == '23', 'RAM'] = 'D'\n",
    "CB_1.loc[CB_1.RAM.isna(), 'RAM'] = 'Unrated'\n"
   ]
  },
  {
   "cell_type": "code",
   "execution_count": 21,
   "metadata": {},
   "outputs": [
    {
     "data": {
      "text/html": [
       "<div>\n",
       "<style scoped>\n",
       "    .dataframe tbody tr th:only-of-type {\n",
       "        vertical-align: middle;\n",
       "    }\n",
       "\n",
       "    .dataframe tbody tr th {\n",
       "        vertical-align: top;\n",
       "    }\n",
       "\n",
       "    .dataframe thead th {\n",
       "        text-align: right;\n",
       "    }\n",
       "</style>\n",
       "<table border=\"1\" class=\"dataframe\">\n",
       "  <thead>\n",
       "    <tr style=\"text-align: right;\">\n",
       "      <th></th>\n",
       "      <th>RAM</th>\n",
       "      <th>M_BNM_BALANCE_SUM</th>\n",
       "    </tr>\n",
       "  </thead>\n",
       "  <tbody>\n",
       "    <tr>\n",
       "      <th>0</th>\n",
       "      <td>A</td>\n",
       "      <td>2.14e+10</td>\n",
       "    </tr>\n",
       "    <tr>\n",
       "      <th>1</th>\n",
       "      <td>AA</td>\n",
       "      <td>1.11e+10</td>\n",
       "    </tr>\n",
       "    <tr>\n",
       "      <th>2</th>\n",
       "      <td>AAA</td>\n",
       "      <td>1.07e+10</td>\n",
       "    </tr>\n",
       "    <tr>\n",
       "      <th>3</th>\n",
       "      <td>B</td>\n",
       "      <td>1.24e+08</td>\n",
       "    </tr>\n",
       "    <tr>\n",
       "      <th>4</th>\n",
       "      <td>BB</td>\n",
       "      <td>1.33e+09</td>\n",
       "    </tr>\n",
       "    <tr>\n",
       "      <th>5</th>\n",
       "      <td>BBB</td>\n",
       "      <td>9.85e+09</td>\n",
       "    </tr>\n",
       "    <tr>\n",
       "      <th>6</th>\n",
       "      <td>C</td>\n",
       "      <td>9.90e+07</td>\n",
       "    </tr>\n",
       "    <tr>\n",
       "      <th>7</th>\n",
       "      <td>D</td>\n",
       "      <td>6.30e+09</td>\n",
       "    </tr>\n",
       "    <tr>\n",
       "      <th>8</th>\n",
       "      <td>Unrated</td>\n",
       "      <td>6.33e+08</td>\n",
       "    </tr>\n",
       "  </tbody>\n",
       "</table>\n",
       "</div>"
      ],
      "text/plain": [
       "       RAM  M_BNM_BALANCE_SUM\n",
       "0        A           2.14e+10\n",
       "1       AA           1.11e+10\n",
       "2      AAA           1.07e+10\n",
       "3        B           1.24e+08\n",
       "4       BB           1.33e+09\n",
       "5      BBB           9.85e+09\n",
       "6        C           9.90e+07\n",
       "7        D           6.30e+09\n",
       "8  Unrated           6.33e+08"
      ]
     },
     "execution_count": 21,
     "metadata": {},
     "output_type": "execute_result"
    }
   ],
   "source": [
    "CB_wRP = CB_1.groupby(['RAM'])[['M_BNM_BALANCE_SUM']].sum().reset_index()\n",
    "CB_wRP"
   ]
  },
  {
   "cell_type": "code",
   "execution_count": 22,
   "metadata": {},
   "outputs": [
    {
     "data": {
      "text/plain": [
       "61539.003220400016"
      ]
     },
     "execution_count": 22,
     "metadata": {},
     "output_type": "execute_result"
    }
   ],
   "source": [
    "a = sum(CB_wRP.M_BNM_BALANCE_SUM)/10**6\n",
    "a"
   ]
  },
  {
   "cell_type": "code",
   "execution_count": null,
   "metadata": {},
   "outputs": [],
   "source": []
  },
  {
   "cell_type": "code",
   "execution_count": 13,
   "metadata": {},
   "outputs": [],
   "source": [
    "RPSIA = pd.read_excel(r\"T:\\MIB Risk Management\\Credit Risk Analytics - Historical\\01_Reporting\\01_Monthly_Reporting\\17_Sustainability_ESG high risk sectors\\20220331\\RPSIA Fikri\\RPSIA_Mar22.xlsx\", sheet_name='Sheet1')\n",
    "\n",
    "\n",
    "RPSIA1 = RPSIA.fillna(0)#.groupby(['GCIF'])[['Outstanding']].sum().reset_index()\n",
    "\n",
    "RPSIA1.GCIF = RPSIA1.GCIF.astype(str)\n",
    "RPSIA1.GCIF = RPSIA1.GCIF.str.strip()\n",
    "RPSIA1.GCIF = RPSIA1.GCIF.str.upper()\n",
    "\n",
    "CB_1.M_CUS_NO = CB_1.M_CUS_NO.astype(str)\n",
    "CB_1.M_CUS_NO = CB_1.M_CUS_NO.str.strip()\n",
    "CB_1.M_CUS_NO = CB_1.M_CUS_NO.str.upper()\n",
    "\n",
    "ex_RPSIA = CB_1.merge(RPSIA1[['GCIF']].drop_duplicates('GCIF').rename(columns={'GCIF':'M_CUS_NO'}), on='M_CUS_NO', how='left', indicator='True')\n",
    "\n",
    "ex_RPSIA_FINAL = ex_RPSIA.iloc[np.where(ex_RPSIA['True']!='both')]\n",
    "\n",
    "CB_RPSIA = ex_RPSIA.iloc[np.where(ex_RPSIA['True']=='both')]\n",
    "\n",
    "\n",
    "CB_2 = ex_RPSIA_FINAL.groupby(['RAM'])[['M_BNM_BALANCE_SUM']].sum().reset_index()"
   ]
  },
  {
   "cell_type": "code",
   "execution_count": 16,
   "metadata": {},
   "outputs": [
    {
     "data": {
      "text/html": [
       "<div>\n",
       "<style scoped>\n",
       "    .dataframe tbody tr th:only-of-type {\n",
       "        vertical-align: middle;\n",
       "    }\n",
       "\n",
       "    .dataframe tbody tr th {\n",
       "        vertical-align: top;\n",
       "    }\n",
       "\n",
       "    .dataframe thead th {\n",
       "        text-align: right;\n",
       "    }\n",
       "</style>\n",
       "<table border=\"1\" class=\"dataframe\">\n",
       "  <thead>\n",
       "    <tr style=\"text-align: right;\">\n",
       "      <th></th>\n",
       "      <th>RAM</th>\n",
       "      <th>M_BNM_BALANCE_SUM</th>\n",
       "    </tr>\n",
       "  </thead>\n",
       "  <tbody>\n",
       "    <tr>\n",
       "      <th>0</th>\n",
       "      <td>A</td>\n",
       "      <td>1.13e+10</td>\n",
       "    </tr>\n",
       "    <tr>\n",
       "      <th>1</th>\n",
       "      <td>AA</td>\n",
       "      <td>3.82e+09</td>\n",
       "    </tr>\n",
       "    <tr>\n",
       "      <th>2</th>\n",
       "      <td>AAA</td>\n",
       "      <td>4.32e+07</td>\n",
       "    </tr>\n",
       "    <tr>\n",
       "      <th>3</th>\n",
       "      <td>B</td>\n",
       "      <td>1.24e+08</td>\n",
       "    </tr>\n",
       "    <tr>\n",
       "      <th>4</th>\n",
       "      <td>BB</td>\n",
       "      <td>1.33e+09</td>\n",
       "    </tr>\n",
       "    <tr>\n",
       "      <th>5</th>\n",
       "      <td>BBB</td>\n",
       "      <td>5.62e+09</td>\n",
       "    </tr>\n",
       "    <tr>\n",
       "      <th>6</th>\n",
       "      <td>C</td>\n",
       "      <td>9.90e+07</td>\n",
       "    </tr>\n",
       "    <tr>\n",
       "      <th>7</th>\n",
       "      <td>D</td>\n",
       "      <td>4.75e+08</td>\n",
       "    </tr>\n",
       "    <tr>\n",
       "      <th>8</th>\n",
       "      <td>Unrated</td>\n",
       "      <td>6.33e+08</td>\n",
       "    </tr>\n",
       "  </tbody>\n",
       "</table>\n",
       "</div>"
      ],
      "text/plain": [
       "       RAM  M_BNM_BALANCE_SUM\n",
       "0        A           1.13e+10\n",
       "1       AA           3.82e+09\n",
       "2      AAA           4.32e+07\n",
       "3        B           1.24e+08\n",
       "4       BB           1.33e+09\n",
       "5      BBB           5.62e+09\n",
       "6        C           9.90e+07\n",
       "7        D           4.75e+08\n",
       "8  Unrated           6.33e+08"
      ]
     },
     "execution_count": 16,
     "metadata": {},
     "output_type": "execute_result"
    }
   ],
   "source": [
    "CB_2"
   ]
  },
  {
   "cell_type": "code",
   "execution_count": 25,
   "metadata": {},
   "outputs": [],
   "source": [
    "RDATE = 20220630"
   ]
  },
  {
   "cell_type": "code",
   "execution_count": 26,
   "metadata": {},
   "outputs": [],
   "source": [
    "TOTAL_IMPAIRED_FINAL  = pd.read_csv(r'T:\\MIB Risk Management\\Credit Risk Analytics - Historical\\02_Data_Source\\20_CRP\\6.0 Impaired Loan\\\\'+str(RDATE)[:4]+'\\\\'+str(RDATE)[:6]+'\\working\\Total_Impaired_Final_'+str(RDATE)+'.txt',sep = \",\", header = 0, low_memory = False)\n",
    "TOTAL_IMPAIRED_FINAL.columns = TOTAL_IMPAIRED_FINAL.columns.str.upper()\n",
    "TOTAL_IMPAIRED_FINAL.V_ORIGINAL_ACCOUNT_NUMBER = TOTAL_IMPAIRED_FINAL.V_ORIGINAL_ACCOUNT_NUMBER.astype(str)"
   ]
  },
  {
   "cell_type": "code",
   "execution_count": 27,
   "metadata": {
    "scrolled": true
   },
   "outputs": [],
   "source": [
    "TOTAL_IMPAIRED_FINAL1 = TOTAL_IMPAIRED_FINAL.iloc[np.where(TOTAL_IMPAIRED_FINAL.PRODUCT_GROUP=='01.CB')]"
   ]
  },
  {
   "cell_type": "code",
   "execution_count": 28,
   "metadata": {},
   "outputs": [],
   "source": [
    "TOTAL_IMPAIRED_FINAL2 = TOTAL_IMPAIRED_FINAL1.fillna(0).groupby(['CUSTOMER_ID'])[['OUTSTANDING_AFTER_EIR_UWI']].sum().reset_index()"
   ]
  },
  {
   "cell_type": "code",
   "execution_count": 29,
   "metadata": {
    "scrolled": false
   },
   "outputs": [],
   "source": [
    "TOTAL_IMPAIRED_FINAL3 = TOTAL_IMPAIRED_FINAL2.merge(CB[['M_CUS_NO','NAME','FINAL_RATING']].rename(columns={'M_CUS_NO':'CUSTOMER_ID'}), on='CUSTOMER_ID',how='left',indicator=True)"
   ]
  },
  {
   "cell_type": "code",
   "execution_count": 30,
   "metadata": {},
   "outputs": [],
   "source": [
    "TOTAL_IMPAIRED_FINAL3.FINAL_RATING = TOTAL_IMPAIRED_FINAL3.FINAL_RATING.str.strip()\n",
    "\n",
    "TOTAL_IMPAIRED_FINAL3.loc[TOTAL_IMPAIRED_FINAL3.FINAL_RATING == '1', 'RAM'] = 'AAA'\n",
    "TOTAL_IMPAIRED_FINAL3.loc[TOTAL_IMPAIRED_FINAL3.FINAL_RATING == '2', 'RAM'] = 'AAA'\n",
    "TOTAL_IMPAIRED_FINAL3.loc[TOTAL_IMPAIRED_FINAL3.FINAL_RATING == '3', 'RAM'] = 'AAA'\n",
    "TOTAL_IMPAIRED_FINAL3.loc[TOTAL_IMPAIRED_FINAL3.FINAL_RATING == '4', 'RAM'] = 'AA'\n",
    "TOTAL_IMPAIRED_FINAL3.loc[TOTAL_IMPAIRED_FINAL3.FINAL_RATING == '5', 'RAM'] = 'AA'\n",
    "TOTAL_IMPAIRED_FINAL3.loc[TOTAL_IMPAIRED_FINAL3.FINAL_RATING == '6', 'RAM'] = 'AA'\n",
    "TOTAL_IMPAIRED_FINAL3.loc[TOTAL_IMPAIRED_FINAL3.FINAL_RATING == '7', 'RAM'] = 'AA'\n",
    "TOTAL_IMPAIRED_FINAL3.loc[TOTAL_IMPAIRED_FINAL3.FINAL_RATING == '8', 'RAM'] = 'A'\n",
    "TOTAL_IMPAIRED_FINAL3.loc[TOTAL_IMPAIRED_FINAL3.FINAL_RATING == '9', 'RAM'] = 'A'\n",
    "TOTAL_IMPAIRED_FINAL3.loc[TOTAL_IMPAIRED_FINAL3.FINAL_RATING == '10', 'RAM'] = 'A'\n",
    "TOTAL_IMPAIRED_FINAL3.loc[TOTAL_IMPAIRED_FINAL3.FINAL_RATING == '11', 'RAM'] = 'A'\n",
    "TOTAL_IMPAIRED_FINAL3.loc[TOTAL_IMPAIRED_FINAL3.FINAL_RATING == '12', 'RAM'] = 'BBB'\n",
    "TOTAL_IMPAIRED_FINAL3.loc[TOTAL_IMPAIRED_FINAL3.FINAL_RATING == '13', 'RAM'] = 'BBB'\n",
    "TOTAL_IMPAIRED_FINAL3.loc[TOTAL_IMPAIRED_FINAL3.FINAL_RATING == '14', 'RAM'] = 'BBB'\n",
    "TOTAL_IMPAIRED_FINAL3.loc[TOTAL_IMPAIRED_FINAL3.FINAL_RATING == '15', 'RAM'] = 'BB'\n",
    "TOTAL_IMPAIRED_FINAL3.loc[TOTAL_IMPAIRED_FINAL3.FINAL_RATING == '16', 'RAM'] = 'BB'\n",
    "TOTAL_IMPAIRED_FINAL3.loc[TOTAL_IMPAIRED_FINAL3.FINAL_RATING == '17', 'RAM'] = 'BB'\n",
    "TOTAL_IMPAIRED_FINAL3.loc[TOTAL_IMPAIRED_FINAL3.FINAL_RATING == '18', 'RAM'] = 'BB'\n",
    "TOTAL_IMPAIRED_FINAL3.loc[TOTAL_IMPAIRED_FINAL3.FINAL_RATING == '19', 'RAM'] = 'B'\n",
    "TOTAL_IMPAIRED_FINAL3.loc[TOTAL_IMPAIRED_FINAL3.FINAL_RATING == '20', 'RAM'] = 'B'\n",
    "TOTAL_IMPAIRED_FINAL3.loc[TOTAL_IMPAIRED_FINAL3.FINAL_RATING == '21', 'RAM'] = 'C'\n",
    "TOTAL_IMPAIRED_FINAL3.loc[TOTAL_IMPAIRED_FINAL3.FINAL_RATING == '22', 'RAM'] = 'D'\n",
    "TOTAL_IMPAIRED_FINAL3.loc[TOTAL_IMPAIRED_FINAL3.FINAL_RATING == '23', 'RAM'] = 'D'\n",
    "TOTAL_IMPAIRED_FINAL3.loc[TOTAL_IMPAIRED_FINAL3.RAM.isna(), 'RAM'] = 'Unrated'\n"
   ]
  },
  {
   "cell_type": "code",
   "execution_count": 33,
   "metadata": {},
   "outputs": [],
   "source": [
    "TOTAL_IMPAIRED_FINAL3.CUSTOMER_ID = TOTAL_IMPAIRED_FINAL3.CUSTOMER_ID.astype(str)\n",
    "TOTAL_IMPAIRED_FINAL3.CUSTOMER_ID = TOTAL_IMPAIRED_FINAL3.CUSTOMER_ID.str.strip()\n",
    "TOTAL_IMPAIRED_FINAL3.CUSTOMER_ID = TOTAL_IMPAIRED_FINAL3.CUSTOMER_ID.str.upper()\n",
    "\n",
    "ex_TOTAL_IMPAIRED_FINAL3 = TOTAL_IMPAIRED_FINAL3.merge(RPSIA1[['GCIF']].drop_duplicates('GCIF').rename(columns={'GCIF':'CUSTOMER_ID'}), on='CUSTOMER_ID', how='left', indicator='True')\n",
    "\n",
    "\n",
    "\n",
    "ex_TOTAL_IMPAIRED_FINAL3_FINAL = ex_TOTAL_IMPAIRED_FINAL3.iloc[np.where(ex_TOTAL_IMPAIRED_FINAL3['True']!='both')]"
   ]
  },
  {
   "cell_type": "code",
   "execution_count": 41,
   "metadata": {},
   "outputs": [
    {
     "data": {
      "text/html": [
       "<div>\n",
       "<style scoped>\n",
       "    .dataframe tbody tr th:only-of-type {\n",
       "        vertical-align: middle;\n",
       "    }\n",
       "\n",
       "    .dataframe tbody tr th {\n",
       "        vertical-align: top;\n",
       "    }\n",
       "\n",
       "    .dataframe thead th {\n",
       "        text-align: right;\n",
       "    }\n",
       "</style>\n",
       "<table border=\"1\" class=\"dataframe\">\n",
       "  <thead>\n",
       "    <tr style=\"text-align: right;\">\n",
       "      <th></th>\n",
       "      <th>CUSTOMER_ID</th>\n",
       "      <th>OUTSTANDING_AFTER_EIR_UWI</th>\n",
       "      <th>NAME</th>\n",
       "      <th>FINAL_RATING</th>\n",
       "      <th>_merge</th>\n",
       "      <th>RAM</th>\n",
       "      <th>True</th>\n",
       "    </tr>\n",
       "  </thead>\n",
       "  <tbody>\n",
       "    <tr>\n",
       "      <th>16</th>\n",
       "      <td>19492758</td>\n",
       "      <td>3.69e+08</td>\n",
       "      <td>TRURICH RESOURCES SDN BHD</td>\n",
       "      <td>23</td>\n",
       "      <td>both</td>\n",
       "      <td>D</td>\n",
       "      <td>both</td>\n",
       "    </tr>\n",
       "  </tbody>\n",
       "</table>\n",
       "</div>"
      ],
      "text/plain": [
       "   CUSTOMER_ID  OUTSTANDING_AFTER_EIR_UWI                       NAME  \\\n",
       "16    19492758                   3.69e+08  TRURICH RESOURCES SDN BHD   \n",
       "\n",
       "   FINAL_RATING _merge RAM  True  \n",
       "16           23   both   D  both  "
      ]
     },
     "execution_count": 41,
     "metadata": {},
     "output_type": "execute_result"
    }
   ],
   "source": [
    "IF_RPSIA = ex_TOTAL_IMPAIRED_FINAL3.iloc[np.where(ex_TOTAL_IMPAIRED_FINAL3['True']=='both')]\n",
    "IF_RPSIA"
   ]
  },
  {
   "cell_type": "code",
   "execution_count": 39,
   "metadata": {},
   "outputs": [],
   "source": [
    "TOTAL_IMPAIRED_FINAL4 = ex_TOTAL_IMPAIRED_FINAL3_FINAL.groupby(['RAM'])[['OUTSTANDING_AFTER_EIR_UWI']].sum().reset_index()"
   ]
  },
  {
   "cell_type": "code",
   "execution_count": 43,
   "metadata": {},
   "outputs": [],
   "source": [
    "writer2 = pd.ExcelWriter(r'T:\\MIB Risk Management\\Credit Risk Analytics - Historical\\01_Reporting\\03_Adhoc_Reporting\\2022\\202208_RAM\\Corp & SME Q15 & Q16\\RAM_CB - jun 22 (exclude RPSIA).xlsx',engine='xlsxwriter')\n",
    "CB_RPSIA.to_excel(writer2,sheet_name='CB - RPSIA' ,index = False)\n",
    "CB_1.to_excel(writer2,sheet_name='CB - base' ,index = False)\n",
    "CB_2.to_excel(writer2,sheet_name='CB' ,index = False)\n",
    "TOTAL_IMPAIRED_FINAL4.to_excel(writer2,sheet_name='CB IF' ,index = False)\n",
    "TOTAL_IMPAIRED_FINAL3.to_excel(writer2,sheet_name='CB IF - base' ,index = False)\n",
    "IF_RPSIA.to_excel(writer2,sheet_name='CB IF - RPSIA' ,index = False)\n",
    "writer2.save()"
   ]
  },
  {
   "cell_type": "code",
   "execution_count": null,
   "metadata": {},
   "outputs": [],
   "source": []
  }
 ],
 "metadata": {
  "kernelspec": {
   "display_name": "Python 3",
   "language": "python",
   "name": "python3"
  },
  "language_info": {
   "codemirror_mode": {
    "name": "ipython",
    "version": 3
   },
   "file_extension": ".py",
   "mimetype": "text/x-python",
   "name": "python",
   "nbconvert_exporter": "python",
   "pygments_lexer": "ipython3",
   "version": "3.7.6"
  }
 },
 "nbformat": 4,
 "nbformat_minor": 4
}
