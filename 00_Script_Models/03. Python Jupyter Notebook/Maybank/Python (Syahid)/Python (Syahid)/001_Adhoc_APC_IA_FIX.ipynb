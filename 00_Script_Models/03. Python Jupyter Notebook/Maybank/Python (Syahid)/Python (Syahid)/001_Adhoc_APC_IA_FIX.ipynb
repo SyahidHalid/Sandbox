{
 "cells": [
  {
   "cell_type": "code",
   "execution_count": 2,
   "metadata": {},
   "outputs": [],
   "source": [
    "import numpy as np\n",
    "import pandas as pd\n",
    "import pandasql\n",
    "import sqlite3\n",
    "\n",
    "pd.set_option(\"display.max_columns\", None) \n",
    "pd.set_option(\"display.max_colwidth\", 1000) #huruf dlm column\n",
    "pd.set_option(\"display.max_rows\", 100)\n",
    "pd.set_option(\"display.precision\", 2) #2 titik perpuluhan"
   ]
  },
  {
   "cell_type": "markdown",
   "metadata": {},
   "source": [
    "# IA_20220731"
   ]
  },
  {
   "cell_type": "code",
   "execution_count": 42,
   "metadata": {},
   "outputs": [],
   "source": [
    "IA_SAS = pd.read_excel(r\"T:\\MIB Risk Management\\Credit Risk Analytics - Historical\\01_Reporting\\01_Monthly_Reporting\\12_Investment_Account\\20220731\\sas\\IA_20220731.xlsx\")\n",
    "\n",
    "IA_PY = pd.read_excel(r\"T:\\MIB Risk Management\\Credit Risk Analytics - Historical\\01_Reporting\\01_Monthly_Reporting\\12_Investment_Account\\20220731\\IA_20220731(python).xlsx\")"
   ]
  },
  {
   "cell_type": "code",
   "execution_count": 43,
   "metadata": {},
   "outputs": [
    {
     "data": {
      "text/plain": [
       "01. LOAN     1588\n",
       "02. OD       1033\n",
       "07. HP        285\n",
       "08. CC        234\n",
       "04. INV        87\n",
       "05. TRADE      72\n",
       "03. STRC       46\n",
       "06. FCL        19\n",
       "Name: DATA_SOURCE, dtype: int64"
      ]
     },
     "execution_count": 43,
     "metadata": {},
     "output_type": "execute_result"
    }
   ],
   "source": [
    "IA_PY.DATA_SOURCE.value_counts()"
   ]
  },
  {
   "cell_type": "code",
   "execution_count": 44,
   "metadata": {},
   "outputs": [
    {
     "data": {
      "text/plain": [
       "01. LOAN     1588\n",
       "02. OD       1033\n",
       "07. HP        285\n",
       "08. CC        235\n",
       "04. INV        87\n",
       "05. TRADE      72\n",
       "03. STRC       48\n",
       "06. FCL        19\n",
       "Name: DATA_SOURCE, dtype: int64"
      ]
     },
     "execution_count": 44,
     "metadata": {},
     "output_type": "execute_result"
    }
   ],
   "source": [
    "IA_SAS.DATA_SOURCE.value_counts()"
   ]
  },
  {
   "cell_type": "code",
   "execution_count": 45,
   "metadata": {},
   "outputs": [],
   "source": [
    "IA_PY1=IA_PY.iloc[np.where(IA_PY.DATA_SOURCE.isin(['03. STRC','08. CC']) )]"
   ]
  },
  {
   "cell_type": "code",
   "execution_count": 46,
   "metadata": {},
   "outputs": [],
   "source": [
    "IA_SAS1=IA_SAS.iloc[np.where(IA_SAS.DATA_SOURCE.isin(['03. STRC','08. CC']) )]"
   ]
  },
  {
   "cell_type": "code",
   "execution_count": 47,
   "metadata": {},
   "outputs": [
    {
     "data": {
      "text/plain": [
       "(15693.702737490008, 15693.70273749001)"
      ]
     },
     "execution_count": 47,
     "metadata": {},
     "output_type": "execute_result"
    }
   ],
   "source": [
    "sum(IA_PY1.M_BNM_BALANCE_MIL),sum(IA_SAS1.M_BNM_BALANCE_MIL)"
   ]
  },
  {
   "cell_type": "code",
   "execution_count": 48,
   "metadata": {
    "scrolled": false
   },
   "outputs": [
    {
     "data": {
      "text/plain": [
       "((3367, 18), (3364, 18))"
      ]
     },
     "execution_count": 48,
     "metadata": {},
     "output_type": "execute_result"
    }
   ],
   "source": [
    "IA_SAS.shape, IA_PY.shape"
   ]
  },
  {
   "cell_type": "code",
   "execution_count": 50,
   "metadata": {},
   "outputs": [
    {
     "data": {
      "text/plain": [
       "(23993.186417369998,\n",
       " 230819.74701930035,\n",
       " 213976.2607358594,\n",
       " 1620.5418293299977,\n",
       " 64487.17560289999,\n",
       " 22287.0833711501)"
      ]
     },
     "execution_count": 50,
     "metadata": {},
     "output_type": "execute_result"
    }
   ],
   "source": [
    "IA_SAS1=IA_SAS.fillna(0)\n",
    "sum(IA_SAS1.GROSS_LOAN_RPSIA_MIL),\\\n",
    "sum(IA_SAS1.M_BNM_BALANCE_MIL),\\\n",
    "sum(IA_SAS1.EAD_PROPORTIONAL_MYR_MIL),\\\n",
    "sum(IA_SAS1.EXPECTED_LOSS_MYR_MIL),\\\n",
    "sum(IA_SAS1.RWA_AFTER_RISK_MIT_MYR_MIL),\\\n",
    "sum(IA_SAS1.P2_RWA_MIL)"
   ]
  },
  {
   "cell_type": "code",
   "execution_count": 51,
   "metadata": {},
   "outputs": [
    {
     "data": {
      "text/plain": [
       "(23993.186417369998,\n",
       " 230819.6975789006,\n",
       " 213976.0626154597,\n",
       " 1620.5416855999977,\n",
       " 64487.15233108998,\n",
       " 22287.08337115)"
      ]
     },
     "execution_count": 51,
     "metadata": {},
     "output_type": "execute_result"
    }
   ],
   "source": [
    "sum(IA_PY.GROSS_LOAN_RPSIA_MIL),\\\n",
    "sum(IA_PY.M_BNM_BALANCE_MIL),\\\n",
    "sum(IA_PY.EAD_PROPORTIONAL_MYR_MIL),\\\n",
    "sum(IA_PY.EXPECTED_LOSS_MYR_MIL),\\\n",
    "sum(IA_PY.RWA_AFTER_RISK_MIT_MYR_MIL),\\\n",
    "sum(IA_PY.P2_RWA_MIL)"
   ]
  },
  {
   "cell_type": "markdown",
   "metadata": {},
   "source": [
    "# APC"
   ]
  },
  {
   "cell_type": "code",
   "execution_count": 3,
   "metadata": {},
   "outputs": [],
   "source": [
    "APC_SAS = pd.read_excel(r\"T:\\MIB Risk Management\\Credit Risk Analytics - Historical\\01_Reporting\\01_Monthly_Reporting\\13_Adverse Portfolio\\2022\\20220731\\working\\FINAL_APC20220731.xlsx\", sheet_name='OVERALL')\n",
    "\n",
    "APC_PY = pd.read_excel(r\"T:\\MIB Risk Management\\Credit Risk Analytics - Historical\\01_Reporting\\01_Monthly_Reporting\\13_Adverse Portfolio\\2022\\20220731\\working\\FINAL_APC_20220731(python).xlsx\", sheet_name='OVERALL')"
   ]
  },
  {
   "cell_type": "code",
   "execution_count": 4,
   "metadata": {},
   "outputs": [
    {
     "data": {
      "text/plain": [
       "01. LOAN     1914\n",
       "02. OD       1176\n",
       "07. HP        243\n",
       "08. CC        167\n",
       "06. FCL        17\n",
       "05. TRADE      12\n",
       "03. STRC       12\n",
       "04. INV        10\n",
       "Name: DATA_SOURCE, dtype: int64"
      ]
     },
     "execution_count": 4,
     "metadata": {},
     "output_type": "execute_result"
    }
   ],
   "source": [
    "APC_SAS.DATA_SOURCE.value_counts()"
   ]
  },
  {
   "cell_type": "code",
   "execution_count": 5,
   "metadata": {
    "scrolled": true
   },
   "outputs": [
    {
     "data": {
      "text/plain": [
       "01. LOAN     1914\n",
       "02. OD       1164\n",
       "07. HP        243\n",
       "08. CC        167\n",
       "06. FCL        17\n",
       "05. TRADE      12\n",
       "04. INV        10\n",
       "03. STRC       10\n",
       "Name: DATA_SOURCE, dtype: int64"
      ]
     },
     "execution_count": 5,
     "metadata": {},
     "output_type": "execute_result"
    }
   ],
   "source": [
    "APC_PY.DATA_SOURCE.value_counts()"
   ]
  },
  {
   "cell_type": "code",
   "execution_count": 6,
   "metadata": {
    "scrolled": true
   },
   "outputs": [
    {
     "data": {
      "text/plain": [
       "((3551, 22), (3537, 22))"
      ]
     },
     "execution_count": 6,
     "metadata": {},
     "output_type": "execute_result"
    }
   ],
   "source": [
    "APC_SAS.shape, APC_PY.shape"
   ]
  },
  {
   "cell_type": "code",
   "execution_count": 21,
   "metadata": {
    "scrolled": true
   },
   "outputs": [],
   "source": [
    "a = APC_SAS.iloc[np.where((APC_SAS.DATA_SOURCE=='02. OD')&(APC_SAS.Level_6=='Others')&(APC_SAS.M_Product_Hierarchy_Cd=='OTHLNS_211'))]\n",
    "b = APC_PY.iloc[np.where((APC_PY.DATA_SOURCE=='02. OD')&(APC_PY.LEVEL_6=='Others')&(APC_PY.M_PRODUCT_HIERARCHY_CD=='OTHLNS_211'))]\n"
   ]
  },
  {
   "cell_type": "code",
   "execution_count": 34,
   "metadata": {},
   "outputs": [
    {
     "data": {
      "text/plain": [
       "03     138\n",
       "00     102\n",
       "NUL     17\n",
       "01       6\n",
       "Name: M_Financing_Concept, dtype: int64"
      ]
     },
     "execution_count": 34,
     "metadata": {},
     "output_type": "execute_result"
    }
   ],
   "source": [
    "a.M_Financing_Concept.value_counts()"
   ]
  },
  {
   "cell_type": "code",
   "execution_count": 35,
   "metadata": {},
   "outputs": [
    {
     "data": {
      "text/plain": [
       "3    138\n",
       "0    107\n",
       "1      6\n",
       "Name: M_FINANCING_CONCEPT, dtype: int64"
      ]
     },
     "execution_count": 35,
     "metadata": {},
     "output_type": "execute_result"
    }
   ],
   "source": [
    "b.M_FINANCING_CONCEPT.value_counts()"
   ]
  },
  {
   "cell_type": "code",
   "execution_count": 36,
   "metadata": {
    "scrolled": true
   },
   "outputs": [
    {
     "data": {
      "text/plain": [
       "2642955107.6299973"
      ]
     },
     "execution_count": 36,
     "metadata": {},
     "output_type": "execute_result"
    }
   ],
   "source": [
    "sum(a.M_BNM_BALANCE)"
   ]
  },
  {
   "cell_type": "code",
   "execution_count": 37,
   "metadata": {},
   "outputs": [
    {
     "data": {
      "text/plain": [
       "2642955107.6299973"
      ]
     },
     "execution_count": 37,
     "metadata": {},
     "output_type": "execute_result"
    }
   ],
   "source": [
    "sum(b.M_BNM_BALANCE2)"
   ]
  },
  {
   "cell_type": "code",
   "execution_count": 38,
   "metadata": {},
   "outputs": [
    {
     "data": {
      "text/plain": [
       "03     920\n",
       "B06    725\n",
       "A04    473\n",
       "A01    445\n",
       "00     183\n",
       "0      165\n",
       "B01    123\n",
       "NUL     88\n",
       "A02     83\n",
       "1       49\n",
       "A03     43\n",
       "B03     18\n",
       "01      14\n",
       "3        8\n",
       "B02      6\n",
       "22       5\n",
       "2        3\n",
       "28       1\n",
       "A06      1\n",
       "B04      1\n",
       "Name: M_Financing_Concept, dtype: int64"
      ]
     },
     "execution_count": 38,
     "metadata": {},
     "output_type": "execute_result"
    }
   ],
   "source": [
    "APC_SAS.M_Financing_Concept.value_counts()"
   ]
  },
  {
   "cell_type": "code",
   "execution_count": 41,
   "metadata": {},
   "outputs": [
    {
     "data": {
      "text/plain": [
       "3        928\n",
       "B06      725\n",
       "A04      473\n",
       "A01      445\n",
       "0        419\n",
       "-9999    187\n",
       "B01      123\n",
       "A02       83\n",
       "1         63\n",
       "A03       43\n",
       "B03       18\n",
       "0         13\n",
       "B02        6\n",
       "22         5\n",
       "2          3\n",
       "B04        1\n",
       "A06        1\n",
       "28         1\n",
       "Name: M_FINANCING_CONCEPT, dtype: int64"
      ]
     },
     "execution_count": 41,
     "metadata": {},
     "output_type": "execute_result"
    }
   ],
   "source": [
    "APC_PY.M_FINANCING_CONCEPT.value_counts()"
   ]
  },
  {
   "cell_type": "code",
   "execution_count": 85,
   "metadata": {},
   "outputs": [],
   "source": [
    "APC_SAS.M_Financing_Concept = APC_SAS.M_Financing_Concept.astype(str)\n",
    "APC_SAS1 = APC_SAS.iloc[np.where(~(APC_SAS.M_Financing_Concept.isin(['B01','B02','B03','B04','B05','B06','A01','A02','A03','A04','A05','A06','22'])))]"
   ]
  },
  {
   "cell_type": "code",
   "execution_count": 86,
   "metadata": {},
   "outputs": [],
   "source": [
    "APC_PY.M_Financing_Concept = APC_PY.M_Financing_Concept.astype(str)\n",
    "APC_PY1 = APC_PY.iloc[np.where(~(APC_PY.M_Financing_Concept.isin(['B01','B02','B03','B04','B05','B06','A01','A02','A03','A04','A05','A06','22'])))]"
   ]
  },
  {
   "cell_type": "code",
   "execution_count": null,
   "metadata": {},
   "outputs": [],
   "source": [
    "APC_PY1 = APC_PY.fillna(0)\n",
    "sum(APC_PY1.M_BNM_BALANCE2),\\\n",
    "sum(APC_PY1.OUTSTANDING_AFTER_EIR_UWI),\\\n",
    "sum(APC_PY1.OUTSTANDING_AFTER_EIR_UWI_NCIF),\\\n",
    "sum(APC_PY1.OS_AFTER_EIR_UWI_NCIF_ACCT),\\\n",
    "sum(APC_PY1.M_BNM_BALANCE_MIA23),\\\n",
    "sum(APC_PY1.M_BNM_BALANCE_MIA2),\\\n",
    "sum(APC_PY1.M_BNM_BALANCE_MIA3)"
   ]
  },
  {
   "cell_type": "code",
   "execution_count": 90,
   "metadata": {
    "scrolled": true
   },
   "outputs": [
    {
     "data": {
      "text/plain": [
       "(77170662282.10002,\n",
       " 351216902.42199993,\n",
       " 64668569.57,\n",
       " 113922658.38400002,\n",
       " 1194720586.6799994,\n",
       " 974348083.8599998,\n",
       " 211723148.8)"
      ]
     },
     "execution_count": 90,
     "metadata": {},
     "output_type": "execute_result"
    }
   ],
   "source": [
    "APC_SAS1 = APC_SAS1.fillna(0)\n",
    "sum(APC_SAS1.M_BNM_BALANCE),\\\n",
    "sum(APC_SAS1.OUTSTANDING_AFTER_EIR_UWI),\\\n",
    "sum(APC_SAS1.OUTSTANDING_AFTER_EIR_UWI_NCIF),\\\n",
    "sum(APC_SAS1.OS_AFTER_EIR_UWI_NCIF_ACCT),\\\n",
    "sum(APC_SAS1.M_BNM_BALANCE_MIA23),\\\n",
    "sum(APC_SAS1.M_BNM_BALANCE_MIA2),\\\n",
    "sum(APC_SAS1.M_BNM_BALANCE_MIA3)"
   ]
  },
  {
   "cell_type": "markdown",
   "metadata": {},
   "source": [
    "OVERALL SUM"
   ]
  },
  {
   "cell_type": "code",
   "execution_count": 85,
   "metadata": {},
   "outputs": [
    {
     "data": {
      "text/plain": [
       "(229643101856.0399,\n",
       " 2071145323.281997,\n",
       " 290057083.1150002,\n",
       " 670039194.3040001,\n",
       " 2168183473.73,\n",
       " 1828280388.9999993,\n",
       " 331253730.7099999)"
      ]
     },
     "execution_count": 85,
     "metadata": {},
     "output_type": "execute_result"
    }
   ],
   "source": [
    "APC_SAS1 = APC_SAS.fillna(0)\n",
    "sum(APC_SAS1.M_BNM_BALANCE),\\\n",
    "sum(APC_SAS1.OUTSTANDING_AFTER_EIR_UWI),\\\n",
    "sum(APC_SAS1.OUTSTANDING_AFTER_EIR_UWI_NCIF),\\\n",
    "sum(APC_SAS1.OS_AFTER_EIR_UWI_NCIF_ACCT),\\\n",
    "sum(APC_SAS1.M_BNM_BALANCE_MIA23),\\\n",
    "sum(APC_SAS1.M_BNM_BALANCE_MIA2),\\\n",
    "sum(APC_SAS1.M_BNM_BALANCE_MIA3)"
   ]
  },
  {
   "cell_type": "code",
   "execution_count": 86,
   "metadata": {},
   "outputs": [
    {
     "data": {
      "text/plain": [
       "(229643101856.03983,\n",
       " 2071145323.2819972,\n",
       " 290057083.1150002,\n",
       " 670039194.3040001,\n",
       " 2168183473.730001,\n",
       " 1828280389.0,\n",
       " 331253730.7099999)"
      ]
     },
     "execution_count": 86,
     "metadata": {},
     "output_type": "execute_result"
    }
   ],
   "source": [
    "sum(APC_PY.M_BNM_BALANCE),\\\n",
    "sum(APC_PY.OUTSTANDING_AFTER_EIR_UWI),\\\n",
    "sum(APC_PY.OUTSTANDING_AFTER_EIR_UWI_NCIF),\\\n",
    "sum(APC_PY.OS_AFTER_EIR_UWI_NCIF_ACCT),\\\n",
    "sum(APC_PY.M_BNM_BALANCE_MIA23),\\\n",
    "sum(APC_PY.M_BNM_BALANCE_MIA2),\\\n",
    "sum(APC_PY.M_BNM_BALANCE_MIA3)"
   ]
  },
  {
   "cell_type": "markdown",
   "metadata": {},
   "source": [
    "# IA_NOCLASS"
   ]
  },
  {
   "cell_type": "code",
   "execution_count": 91,
   "metadata": {},
   "outputs": [],
   "source": [
    "IANO_SAS = pd.read_excel(r\"D:\\Users\\80005701\\Documents\\IA_NOCLASS20220630.xlsx\")\n",
    "\n",
    "IANO_PY = pd.read_excel(r\"D:\\Users\\80005701\\Documents\\IA_NOCLASS20220630(python) v1.xlsx\")"
   ]
  },
  {
   "cell_type": "code",
   "execution_count": 75,
   "metadata": {},
   "outputs": [
    {
     "data": {
      "text/plain": [
       "08. CC       3253\n",
       "04. INV       300\n",
       "03. STRC       48\n",
       "01. LOAN       27\n",
       "07. HP          6\n",
       "02. OD          6\n",
       "05. TRADE       4\n",
       "06. FCL         3\n",
       "Name: DATA_SOURCE, dtype: int64"
      ]
     },
     "execution_count": 75,
     "metadata": {},
     "output_type": "execute_result"
    }
   ],
   "source": [
    "IANO_SAS.DATA_SOURCE.value_counts()"
   ]
  },
  {
   "cell_type": "code",
   "execution_count": 76,
   "metadata": {},
   "outputs": [
    {
     "data": {
      "text/plain": [
       "08. CC       3249\n",
       "04. INV       296\n",
       "03. STRC       48\n",
       "01. LOAN       26\n",
       "07. HP          6\n",
       "02. OD          6\n",
       "05. TRADE       4\n",
       "06. FCL         3\n",
       "Name: DATA_SOURCE, dtype: int64"
      ]
     },
     "execution_count": 76,
     "metadata": {},
     "output_type": "execute_result"
    }
   ],
   "source": [
    "IANO_PY.DATA_SOURCE.value_counts()"
   ]
  },
  {
   "cell_type": "code",
   "execution_count": 77,
   "metadata": {},
   "outputs": [
    {
     "data": {
      "text/plain": [
       "((3647, 39), (3638, 45))"
      ]
     },
     "execution_count": 77,
     "metadata": {},
     "output_type": "execute_result"
    }
   ],
   "source": [
    "IANO_SAS.shape, IANO_PY.shape"
   ]
  },
  {
   "cell_type": "code",
   "execution_count": 108,
   "metadata": {},
   "outputs": [],
   "source": [
    "IANO_SAS1 = IANO_SAS.iloc[np.where(IANO_SAS.DATA_SOURCE=='01. LOAN')]"
   ]
  },
  {
   "cell_type": "code",
   "execution_count": 109,
   "metadata": {},
   "outputs": [],
   "source": [
    "IANO_PY1 = IANO_PY.iloc[np.where(IANO_PY.DATA_SOURCE=='01. LOAN')]"
   ]
  },
  {
   "cell_type": "code",
   "execution_count": 110,
   "metadata": {
    "scrolled": true
   },
   "outputs": [
    {
     "data": {
      "text/plain": [
       "both          26\n",
       "left_only      1\n",
       "right_only     0\n",
       "Name: _merge, dtype: int64"
      ]
     },
     "execution_count": 110,
     "metadata": {},
     "output_type": "execute_result"
    }
   ],
   "source": [
    "a = IANO_SAS1.merge(IANO_PY1,on='M_Account_No',how='left',indicator=True)\n",
    "a._merge.value_counts()"
   ]
  },
  {
   "cell_type": "code",
   "execution_count": 111,
   "metadata": {},
   "outputs": [
    {
     "data": {
      "text/html": [
       "<div>\n",
       "<style scoped>\n",
       "    .dataframe tbody tr th:only-of-type {\n",
       "        vertical-align: middle;\n",
       "    }\n",
       "\n",
       "    .dataframe tbody tr th {\n",
       "        vertical-align: top;\n",
       "    }\n",
       "\n",
       "    .dataframe thead th {\n",
       "        text-align: right;\n",
       "    }\n",
       "</style>\n",
       "<table border=\"1\" class=\"dataframe\">\n",
       "  <thead>\n",
       "    <tr style=\"text-align: right;\">\n",
       "      <th></th>\n",
       "      <th>DATA_SOURCE_x</th>\n",
       "      <th>M_Account_No</th>\n",
       "      <th>M_Cus_No_x</th>\n",
       "      <th>LEVEL_6_ORI_x</th>\n",
       "      <th>LEVEL_6_x</th>\n",
       "      <th>M_Sub_Market_Segment_Cd_x</th>\n",
       "      <th>M_Product_Hierarchy_Cd_x</th>\n",
       "      <th>M_Source_Prod_Type_Cd_x</th>\n",
       "      <th>Source_Prod_Type_Dsc_x</th>\n",
       "      <th>M_Mths_Installment_In_Arrears_x</th>\n",
       "      <th>Approach_x</th>\n",
       "      <th>Sector_Category_x</th>\n",
       "      <th>PD_SEGMENT_x</th>\n",
       "      <th>Rsme_Inclusion_Indicator_x</th>\n",
       "      <th>Rs_Inclusion_Indicator_x</th>\n",
       "      <th>Report_Indicator_x</th>\n",
       "      <th>F_RPSIA_x</th>\n",
       "      <th>RPSIA_THIRD_PARTY_x</th>\n",
       "      <th>IMPAIRED_FLAG_x</th>\n",
       "      <th>F_NCIF_CUST_x</th>\n",
       "      <th>F_NCIF_ACCT_x</th>\n",
       "      <th>Security_Type_Cd_x</th>\n",
       "      <th>M_Financing_Concept_x</th>\n",
       "      <th>OUTSTANDING_AFTER_EIR_UWI_x</th>\n",
       "      <th>GROSS_LOAN_RPSIA_x</th>\n",
       "      <th>M_BNM_BALANCE_x</th>\n",
       "      <th>EAD_PROPORTIONAL_MYR_x</th>\n",
       "      <th>EXPECTED_LOSS_MYR_x</th>\n",
       "      <th>RWA_AFTER_RISK_MIT_MYR_x</th>\n",
       "      <th>PRODUCT_GROUP</th>\n",
       "      <th>ASSET_CLASS_x</th>\n",
       "      <th>P2_RWA_MIL_x</th>\n",
       "      <th>M_BNM_BALANCE_MIL_x</th>\n",
       "      <th>EAD_PROPORTIONAL_MYR_MIL_x</th>\n",
       "      <th>EXPECTED_LOSS_MYR_MIL_x</th>\n",
       "      <th>RWA_AFTER_RISK_MIT_MYR_MIL_x</th>\n",
       "      <th>OUTSTANDING_AFTER_EIR_UWI_MIL_x</th>\n",
       "      <th>GROSS_LOAN_RPSIA_MIL_x</th>\n",
       "      <th>NAME_x</th>\n",
       "      <th>DATA_SOURCE_y</th>\n",
       "      <th>M_Cus_No_y</th>\n",
       "      <th>LEVEL_6_ORI_y</th>\n",
       "      <th>LEVEL_6_y</th>\n",
       "      <th>M_Sub_Market_Segment_Cd_y</th>\n",
       "      <th>M_Product_Hierarchy_Cd_y</th>\n",
       "      <th>M_Source_Prod_Type_Cd_y</th>\n",
       "      <th>Source_Prod_Type_Dsc_y</th>\n",
       "      <th>M_Mths_Installment_In_Arrears_y</th>\n",
       "      <th>Approach_y</th>\n",
       "      <th>Sector_Category_y</th>\n",
       "      <th>PD_SEGMENT_y</th>\n",
       "      <th>Rsme_Inclusion_Indicator_y</th>\n",
       "      <th>Rs_Inclusion_Indicator_y</th>\n",
       "      <th>Report_Indicator_y</th>\n",
       "      <th>F_RPSIA_y</th>\n",
       "      <th>RPSIA_THIRD_PARTY_y</th>\n",
       "      <th>IMPAIRED_FLAG_y</th>\n",
       "      <th>F_NCIF_CUST_y</th>\n",
       "      <th>F_NCIF_ACCT_y</th>\n",
       "      <th>Security_Type_Cd_y</th>\n",
       "      <th>M_Financing_Concept_y</th>\n",
       "      <th>OUTSTANDING_AFTER_EIR_UWI_y</th>\n",
       "      <th>GROSS_LOAN_RPSIA_y</th>\n",
       "      <th>M_BNM_BALANCE_y</th>\n",
       "      <th>EAD_PROPORTIONAL_MYR_y</th>\n",
       "      <th>EXPECTED_LOSS_MYR_y</th>\n",
       "      <th>RWA_AFTER_RISK_MIT_MYR_y</th>\n",
       "      <th>PRODUCT_GROUP_APC</th>\n",
       "      <th>ASSET_CLASS_y</th>\n",
       "      <th>P2_RWA_MIL_y</th>\n",
       "      <th>M_BNM_BALANCE_MIL_y</th>\n",
       "      <th>EAD_PROPORTIONAL_MYR_MIL_y</th>\n",
       "      <th>EXPECTED_LOSS_MYR_MIL_y</th>\n",
       "      <th>RWA_AFTER_RISK_MIT_MYR_MIL_y</th>\n",
       "      <th>OUTSTANDING_AFTER_EIR_UWI_MIL_y</th>\n",
       "      <th>GROSS_LOAN_RPSIA_MIL_y</th>\n",
       "      <th>NAME_y</th>\n",
       "      <th>CUSTOMER_SEGMENT</th>\n",
       "      <th>M_MARKET_SEGMENT_CD</th>\n",
       "      <th>M_SUB_MARKET_SEGMENT</th>\n",
       "      <th>M_SUB_SUB_MARKET_SEGMENT</th>\n",
       "      <th>M_CUSTOMER_TYPE</th>\n",
       "      <th>INDUSTRIAL_SECTOR</th>\n",
       "      <th>_merge</th>\n",
       "    </tr>\n",
       "  </thead>\n",
       "  <tbody>\n",
       "    <tr>\n",
       "      <th>26</th>\n",
       "      <td>01. LOAN</td>\n",
       "      <td>5887360130130532</td>\n",
       "      <td>9226062</td>\n",
       "      <td>Other Personal Loan</td>\n",
       "      <td>Others</td>\n",
       "      <td>NaN</td>\n",
       "      <td>711</td>\n",
       "      <td>711</td>\n",
       "      <td>PERSONAL FINANCING-I</td>\n",
       "      <td>0</td>\n",
       "      <td>2.0</td>\n",
       "      <td>NaN</td>\n",
       "      <td>NUL</td>\n",
       "      <td>NaN</td>\n",
       "      <td>NaN</td>\n",
       "      <td>NaN</td>\n",
       "      <td>N</td>\n",
       "      <td>N</td>\n",
       "      <td>NaN</td>\n",
       "      <td>NaN</td>\n",
       "      <td>NaN</td>\n",
       "      <td>0</td>\n",
       "      <td>NUL</td>\n",
       "      <td>NaN</td>\n",
       "      <td>NaN</td>\n",
       "      <td>50583.04</td>\n",
       "      <td>50585.26</td>\n",
       "      <td>0.0</td>\n",
       "      <td>50585.26</td>\n",
       "      <td>08. Credit Cards</td>\n",
       "      <td>NaN</td>\n",
       "      <td>0</td>\n",
       "      <td>0.05</td>\n",
       "      <td>0.05</td>\n",
       "      <td>0.0</td>\n",
       "      <td>0.05</td>\n",
       "      <td>NaN</td>\n",
       "      <td>NaN</td>\n",
       "      <td>NaN</td>\n",
       "      <td>NaN</td>\n",
       "      <td>NaN</td>\n",
       "      <td>NaN</td>\n",
       "      <td>NaN</td>\n",
       "      <td>NaN</td>\n",
       "      <td>NaN</td>\n",
       "      <td>NaN</td>\n",
       "      <td>NaN</td>\n",
       "      <td>NaN</td>\n",
       "      <td>NaN</td>\n",
       "      <td>NaN</td>\n",
       "      <td>NaN</td>\n",
       "      <td>NaN</td>\n",
       "      <td>NaN</td>\n",
       "      <td>NaN</td>\n",
       "      <td>NaN</td>\n",
       "      <td>NaN</td>\n",
       "      <td>NaN</td>\n",
       "      <td>NaN</td>\n",
       "      <td>NaN</td>\n",
       "      <td>NaN</td>\n",
       "      <td>NaN</td>\n",
       "      <td>NaN</td>\n",
       "      <td>NaN</td>\n",
       "      <td>NaN</td>\n",
       "      <td>NaN</td>\n",
       "      <td>NaN</td>\n",
       "      <td>NaN</td>\n",
       "      <td>NaN</td>\n",
       "      <td>NaN</td>\n",
       "      <td>NaN</td>\n",
       "      <td>NaN</td>\n",
       "      <td>NaN</td>\n",
       "      <td>NaN</td>\n",
       "      <td>NaN</td>\n",
       "      <td>NaN</td>\n",
       "      <td>NaN</td>\n",
       "      <td>NaN</td>\n",
       "      <td>NaN</td>\n",
       "      <td>NaN</td>\n",
       "      <td>NaN</td>\n",
       "      <td>NaN</td>\n",
       "      <td>NaN</td>\n",
       "      <td>NaN</td>\n",
       "      <td>left_only</td>\n",
       "    </tr>\n",
       "  </tbody>\n",
       "</table>\n",
       "</div>"
      ],
      "text/plain": [
       "   DATA_SOURCE_x      M_Account_No  M_Cus_No_x        LEVEL_6_ORI_x LEVEL_6_x  \\\n",
       "26      01. LOAN  5887360130130532     9226062  Other Personal Loan    Others   \n",
       "\n",
       "    M_Sub_Market_Segment_Cd_x M_Product_Hierarchy_Cd_x  \\\n",
       "26                        NaN                      711   \n",
       "\n",
       "   M_Source_Prod_Type_Cd_x Source_Prod_Type_Dsc_x  \\\n",
       "26                     711   PERSONAL FINANCING-I   \n",
       "\n",
       "    M_Mths_Installment_In_Arrears_x  Approach_x  Sector_Category_x  \\\n",
       "26                                0         2.0                NaN   \n",
       "\n",
       "   PD_SEGMENT_x  Rsme_Inclusion_Indicator_x  Rs_Inclusion_Indicator_x  \\\n",
       "26          NUL                         NaN                       NaN   \n",
       "\n",
       "    Report_Indicator_x F_RPSIA_x RPSIA_THIRD_PARTY_x IMPAIRED_FLAG_x  \\\n",
       "26                 NaN         N                   N             NaN   \n",
       "\n",
       "   F_NCIF_CUST_x F_NCIF_ACCT_x  Security_Type_Cd_x M_Financing_Concept_x  \\\n",
       "26           NaN           NaN                   0                   NUL   \n",
       "\n",
       "    OUTSTANDING_AFTER_EIR_UWI_x  GROSS_LOAN_RPSIA_x  M_BNM_BALANCE_x  \\\n",
       "26                          NaN                 NaN         50583.04   \n",
       "\n",
       "    EAD_PROPORTIONAL_MYR_x  EXPECTED_LOSS_MYR_x  RWA_AFTER_RISK_MIT_MYR_x  \\\n",
       "26                50585.26                  0.0                  50585.26   \n",
       "\n",
       "       PRODUCT_GROUP  ASSET_CLASS_x  P2_RWA_MIL_x  M_BNM_BALANCE_MIL_x  \\\n",
       "26  08. Credit Cards            NaN             0                 0.05   \n",
       "\n",
       "    EAD_PROPORTIONAL_MYR_MIL_x  EXPECTED_LOSS_MYR_MIL_x  \\\n",
       "26                        0.05                      0.0   \n",
       "\n",
       "    RWA_AFTER_RISK_MIT_MYR_MIL_x  OUTSTANDING_AFTER_EIR_UWI_MIL_x  \\\n",
       "26                          0.05                              NaN   \n",
       "\n",
       "    GROSS_LOAN_RPSIA_MIL_x NAME_x DATA_SOURCE_y  M_Cus_No_y LEVEL_6_ORI_y  \\\n",
       "26                     NaN    NaN           NaN         NaN           NaN   \n",
       "\n",
       "   LEVEL_6_y  M_Sub_Market_Segment_Cd_y M_Product_Hierarchy_Cd_y  \\\n",
       "26       NaN                        NaN                      NaN   \n",
       "\n",
       "   M_Source_Prod_Type_Cd_y Source_Prod_Type_Dsc_y  \\\n",
       "26                     NaN                    NaN   \n",
       "\n",
       "    M_Mths_Installment_In_Arrears_y  Approach_y  Sector_Category_y  \\\n",
       "26                              NaN         NaN                NaN   \n",
       "\n",
       "    PD_SEGMENT_y  Rsme_Inclusion_Indicator_y  Rs_Inclusion_Indicator_y  \\\n",
       "26           NaN                         NaN                       NaN   \n",
       "\n",
       "    Report_Indicator_y F_RPSIA_y RPSIA_THIRD_PARTY_y IMPAIRED_FLAG_y  \\\n",
       "26                 NaN       NaN                 NaN             NaN   \n",
       "\n",
       "   F_NCIF_CUST_y F_NCIF_ACCT_y  Security_Type_Cd_y M_Financing_Concept_y  \\\n",
       "26           NaN           NaN                 NaN                   NaN   \n",
       "\n",
       "    OUTSTANDING_AFTER_EIR_UWI_y  GROSS_LOAN_RPSIA_y  M_BNM_BALANCE_y  \\\n",
       "26                          NaN                 NaN              NaN   \n",
       "\n",
       "    EAD_PROPORTIONAL_MYR_y  EXPECTED_LOSS_MYR_y  RWA_AFTER_RISK_MIT_MYR_y  \\\n",
       "26                     NaN                  NaN                       NaN   \n",
       "\n",
       "   PRODUCT_GROUP_APC  ASSET_CLASS_y  P2_RWA_MIL_y  M_BNM_BALANCE_MIL_y  \\\n",
       "26               NaN            NaN           NaN                  NaN   \n",
       "\n",
       "    EAD_PROPORTIONAL_MYR_MIL_y  EXPECTED_LOSS_MYR_MIL_y  \\\n",
       "26                         NaN                      NaN   \n",
       "\n",
       "    RWA_AFTER_RISK_MIT_MYR_MIL_y  OUTSTANDING_AFTER_EIR_UWI_MIL_y  \\\n",
       "26                           NaN                              NaN   \n",
       "\n",
       "    GROSS_LOAN_RPSIA_MIL_y NAME_y CUSTOMER_SEGMENT  M_MARKET_SEGMENT_CD  \\\n",
       "26                     NaN    NaN              NaN                  NaN   \n",
       "\n",
       "    M_SUB_MARKET_SEGMENT  M_SUB_SUB_MARKET_SEGMENT  M_CUSTOMER_TYPE  \\\n",
       "26                   NaN                       NaN              NaN   \n",
       "\n",
       "   INDUSTRIAL_SECTOR     _merge  \n",
       "26               NaN  left_only  "
      ]
     },
     "execution_count": 111,
     "metadata": {},
     "output_type": "execute_result"
    }
   ],
   "source": [
    "a.iloc[np.where(a._merge=='left_only')]"
   ]
  },
  {
   "cell_type": "code",
   "execution_count": 102,
   "metadata": {},
   "outputs": [
    {
     "data": {
      "text/plain": [
       "Owned BA Discounted      294\n",
       "Foreign Currency Loan      6\n",
       "Name: LEVEL_6, dtype: int64"
      ]
     },
     "execution_count": 102,
     "metadata": {},
     "output_type": "execute_result"
    }
   ],
   "source": [
    "IANO_SAS1.LEVEL_6.value_counts()"
   ]
  },
  {
   "cell_type": "code",
   "execution_count": 103,
   "metadata": {},
   "outputs": [
    {
     "data": {
      "text/plain": [
       "Owned BA Discounted      290\n",
       "Foreign Currency Loan      6\n",
       "Name: LEVEL_6, dtype: int64"
      ]
     },
     "execution_count": 103,
     "metadata": {},
     "output_type": "execute_result"
    }
   ],
   "source": [
    "IANO_PY1.LEVEL_6.value_counts()"
   ]
  },
  {
   "cell_type": "code",
   "execution_count": null,
   "metadata": {},
   "outputs": [],
   "source": []
  },
  {
   "cell_type": "code",
   "execution_count": null,
   "metadata": {},
   "outputs": [],
   "source": []
  },
  {
   "cell_type": "code",
   "execution_count": 90,
   "metadata": {
    "scrolled": true
   },
   "outputs": [
    {
     "data": {
      "text/plain": [
       "DATA_SOURCE                       object\n",
       "M_Account_No                      object\n",
       "M_Cus_No                           int64\n",
       "LEVEL_6_ORI                       object\n",
       "LEVEL_6                           object\n",
       "M_Sub_Market_Segment_Cd          float64\n",
       "M_Product_Hierarchy_Cd            object\n",
       "M_Source_Prod_Type_Cd             object\n",
       "Source_Prod_Type_Dsc              object\n",
       "M_Mths_Installment_In_Arrears      int64\n",
       "Approach                         float64\n",
       "Sector_Category                  float64\n",
       "PD_SEGMENT                        object\n",
       "Rsme_Inclusion_Indicator         float64\n",
       "Rs_Inclusion_Indicator           float64\n",
       "Report_Indicator                 float64\n",
       "F_RPSIA                           object\n",
       "RPSIA_THIRD_PARTY                 object\n",
       "IMPAIRED_FLAG                     object\n",
       "F_NCIF_CUST                       object\n",
       "F_NCIF_ACCT                       object\n",
       "Security_Type_Cd                   int64\n",
       "M_Financing_Concept               object\n",
       "OUTSTANDING_AFTER_EIR_UWI        float64\n",
       "GROSS_LOAN_RPSIA                 float64\n",
       "M_BNM_BALANCE                    float64\n",
       "EAD_PROPORTIONAL_MYR             float64\n",
       "EXPECTED_LOSS_MYR                float64\n",
       "RWA_AFTER_RISK_MIT_MYR           float64\n",
       "PRODUCT_GROUP                     object\n",
       "ASSET_CLASS                      float64\n",
       "P2_RWA_MIL                         int64\n",
       "M_BNM_BALANCE_MIL                float64\n",
       "EAD_PROPORTIONAL_MYR_MIL         float64\n",
       "EXPECTED_LOSS_MYR_MIL            float64\n",
       "RWA_AFTER_RISK_MIT_MYR_MIL       float64\n",
       "OUTSTANDING_AFTER_EIR_UWI_MIL    float64\n",
       "GROSS_LOAN_RPSIA_MIL             float64\n",
       "NAME                              object\n",
       "dtype: object"
      ]
     },
     "execution_count": 90,
     "metadata": {},
     "output_type": "execute_result"
    }
   ],
   "source": [
    "IANO_SAS.dtypes"
   ]
  },
  {
   "cell_type": "code",
   "execution_count": 91,
   "metadata": {},
   "outputs": [
    {
     "data": {
      "text/plain": [
       "(55068089.807000004,\n",
       " 23660886798.406998,\n",
       " 26800130923.45006,\n",
       " 1172042.25,\n",
       " 0.0,\n",
       " 1172042.25)"
      ]
     },
     "execution_count": 91,
     "metadata": {},
     "output_type": "execute_result"
    }
   ],
   "source": [
    "IANO_SAS1=IANO_SAS.fillna(0)\n",
    "sum(IANO_SAS1.OUTSTANDING_AFTER_EIR_UWI),\\\n",
    "sum(IANO_SAS1.GROSS_LOAN_RPSIA),\\\n",
    "sum(IANO_SAS1.M_BNM_BALANCE),\\\n",
    "sum(IANO_SAS1.EAD_PROPORTIONAL_MYR),\\\n",
    "sum(IANO_SAS1.EXPECTED_LOSS_MYR),\\\n",
    "sum(IANO_SAS1.RWA_AFTER_RISK_MIT_MYR)"
   ]
  },
  {
   "cell_type": "code",
   "execution_count": 88,
   "metadata": {},
   "outputs": [
    {
     "data": {
      "text/plain": [
       "(55068089.807, 23660886798.406998, 26798958883.420017, 0, 0, 0)"
      ]
     },
     "execution_count": 88,
     "metadata": {},
     "output_type": "execute_result"
    }
   ],
   "source": [
    "sum(IANO_PY.OUTSTANDING_AFTER_EIR_UWI),\\\n",
    "sum(IANO_PY.GROSS_LOAN_RPSIA),\\\n",
    "sum(IANO_PY.M_BNM_BALANCE),\\\n",
    "sum(IANO_PY.EAD_PROPORTIONAL_MYR),\\\n",
    "sum(IANO_PY.EXPECTED_LOSS_MYR),\\\n",
    "sum(IANO_PY.RWA_AFTER_RISK_MIT_MYR)"
   ]
  }
 ],
 "metadata": {
  "kernelspec": {
   "display_name": "Python 3",
   "language": "python",
   "name": "python3"
  },
  "language_info": {
   "codemirror_mode": {
    "name": "ipython",
    "version": 3
   },
   "file_extension": ".py",
   "mimetype": "text/x-python",
   "name": "python",
   "nbconvert_exporter": "python",
   "pygments_lexer": "ipython3",
   "version": "3.7.6"
  }
 },
 "nbformat": 4,
 "nbformat_minor": 4
}
