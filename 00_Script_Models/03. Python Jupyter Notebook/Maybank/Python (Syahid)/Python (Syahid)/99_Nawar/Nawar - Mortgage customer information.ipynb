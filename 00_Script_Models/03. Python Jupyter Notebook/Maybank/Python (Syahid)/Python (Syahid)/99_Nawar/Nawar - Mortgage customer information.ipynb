{
 "cells": [
  {
   "cell_type": "code",
   "execution_count": 7,
   "metadata": {},
   "outputs": [],
   "source": [
    "RDATEC = 202209 #/*current month*/\n",
    "\n",
    "date = 20220930\n",
    "\n",
    "import numpy as np\n",
    "import pandas as pd\n",
    "import pandasql\n",
    "import sqlite3\n",
    "\n",
    "pd.set_option(\"display.max_columns\", None) \n",
    "pd.set_option(\"display.max_colwidth\", 1000) #huruf dlm column\n",
    "pd.set_option(\"display.max_rows\", 100)\n",
    "pd.set_option(\"display.precision\", 2) #2 titik perpuluhan\n",
    "\n",
    "#/******************************* Home Financing (HOME_RDATE) *******************************/\n",
    "\n",
    "HF_HOME = pd.read_csv(r\"T:\\MIB Risk Management\\Credit Risk Analytics - Historical\\02_Data_Source\\05_Home_Financing\\04_Dataset\\\\\"+str(RDATEC)+\"\\mortgage_\"+str(RDATEC)+\".txt\", sep = \"\\t\", header = 0,encoding='cp1252',low_memory=False)\n",
    "\n",
    "TOTAL_IMPAIRED_FINAL  = pd.read_csv(r'T:\\MIB Risk Management\\Credit Risk Analytics - Historical\\02_Data_Source\\20_CRP\\6.0 Impaired Loan\\\\'+str(date)[:4]+'\\\\'+str(date)[:6]+'\\working\\Total_Impaired_Final_'+str(date)+'.txt',sep = \",\", header = 0, low_memory = False)\n",
    "TOTAL_IMPAIRED_FINAL.columns = TOTAL_IMPAIRED_FINAL.columns.str.replace(\" \", \"_\")\n",
    "TOTAL_IMPAIRED_FINAL.V_ORIGINAL_ACCOUNT_NUMBER = TOTAL_IMPAIRED_FINAL.V_ORIGINAL_ACCOUNT_NUMBER.astype(str)\n",
    "TOTAL_IMPAIRED_FINAL.columns = TOTAL_IMPAIRED_FINAL.columns.str.replace(\"(\", \"_\").str.replace(\")\", \"_\").str.replace(\".\", \"_\").str.replace(\"-\", \"_\").str.replace(\"\\n\", \"_\").str.replace(\" \", \"_\")\n"
   ]
  },
  {
   "cell_type": "code",
   "execution_count": 24,
   "metadata": {},
   "outputs": [],
   "source": [
    "HF_HOME.M_ACCOUNT_NO = HF_HOME.M_ACCOUNT_NO.astype(str)\n",
    "HF_HOME.M_ACCOUNT_NO = HF_HOME.M_ACCOUNT_NO.str.upper()\n",
    "HF_HOME.M_ACCOUNT_NO = HF_HOME.M_ACCOUNT_NO.str.strip()\n",
    "\n",
    "TOTAL_IMPAIRED_FINAL.V_ORIGINAL_ACCOUNT_NUMBER = TOTAL_IMPAIRED_FINAL.V_ORIGINAL_ACCOUNT_NUMBER.astype(str)\n",
    "TOTAL_IMPAIRED_FINAL.V_ORIGINAL_ACCOUNT_NUMBER = TOTAL_IMPAIRED_FINAL.V_ORIGINAL_ACCOUNT_NUMBER.str.upper()\n",
    "TOTAL_IMPAIRED_FINAL.V_ORIGINAL_ACCOUNT_NUMBER = TOTAL_IMPAIRED_FINAL.V_ORIGINAL_ACCOUNT_NUMBER.str.strip()\n",
    "\n",
    "TOTAL_IMPAIRED_FINAL['IMPAIRED_FLAG'] = 'Y'\n",
    "\n",
    "Merge_a = HF_HOME.merge(TOTAL_IMPAIRED_FINAL[['GROSS_LOAN','IMPAIRED_FLAG','V_ORIGINAL_ACCOUNT_NUMBER']].rename(columns={'V_ORIGINAL_ACCOUNT_NUMBER':'M_ACCOUNT_NO'}), on='M_ACCOUNT_NO', how='left')\n"
   ]
  },
  {
   "cell_type": "code",
   "execution_count": 31,
   "metadata": {},
   "outputs": [],
   "source": [
    "Merge_a['NOC'] = 1\n",
    "\n",
    "HF_HOME1 = Merge_a.iloc[np.where(HF_HOME.FIN_TYPE=='I')][['M_ACCOUNT_NO','FIN_TYPE',\\\n",
    "                                                         'LEVEL_6',\\\n",
    "                                                         'GCIF_INCOME',\\\n",
    "                                                         'STATE',\\\n",
    "                                                         'M_NPL_FLG',\\\n",
    "                                                         'M_MTHS_INSTALLMENT_IN_ARREARS',\\\n",
    "                                                         'RISK_GRADE_VAL',\\\n",
    "                                                         'M_SOURCE_PROD_TYPE_CD',\\\n",
    "                                                         'SOURCE_PROD_TYPE_DSC',\\\n",
    "                                                         'PRODUCT_CODE',\\\n",
    "                                                         'M_PRODUCT_HIERARCHY_CD',\\\n",
    "                                                         'M_BNM_BALANCE',\\\n",
    "                                                         'NOC','GROSS_LOAN','IMPAIRED_FLAG']]\n",
    "\n",
    "HF_HOME1['IMPAIRED_FLAG'].fillna('N', inplace=True)\n",
    "HF_HOME1['GROSS_LOAN'].fillna(0, inplace=True)"
   ]
  },
  {
   "cell_type": "code",
   "execution_count": 33,
   "metadata": {},
   "outputs": [],
   "source": [
    "writer = pd.ExcelWriter(r\"T:\\MIB Risk Management\\Credit Risk Analytics - Historical\\01_Reporting\\03_Adhoc_Reporting\\2022\\202211_Mortgage customer information\\Mortgage_Cust_Info_\"+str(date)[:6]+\"(python).xlsx\", engine='xlsxwriter')\n",
    "\n",
    "HF_HOME1.to_excel(writer, sheet_name='Base', index = False)\n",
    "\n",
    "writer.save()"
   ]
  },
  {
   "cell_type": "code",
   "execution_count": null,
   "metadata": {},
   "outputs": [],
   "source": []
  },
  {
   "cell_type": "code",
   "execution_count": null,
   "metadata": {},
   "outputs": [],
   "source": []
  },
  {
   "cell_type": "code",
   "execution_count": null,
   "metadata": {},
   "outputs": [],
   "source": []
  },
  {
   "cell_type": "code",
   "execution_count": null,
   "metadata": {},
   "outputs": [],
   "source": []
  },
  {
   "cell_type": "code",
   "execution_count": null,
   "metadata": {},
   "outputs": [],
   "source": []
  },
  {
   "cell_type": "code",
   "execution_count": null,
   "metadata": {},
   "outputs": [],
   "source": [
    "#Salam Syahid,\n",
    "#Seek your assistance for the extraction below data as at Sep’22. Use the mortgage dataset and join with stage 3 info to get gross loan for impaired financing and impaired flag.\n",
    "\n",
    "#•\tFIN_TYPE = 'I'\n",
    "#•\tLEVEL_6 \n",
    "#•\tGCIF_INCOME\n",
    "#•\tSTATE\n",
    "#•\tM_NPL_FLG\n",
    "#•\tM_MTHS_INSTALLMENT_IN_ARREARS\n",
    "#•\tRISK_GRADE_VAL\n",
    "#•\tM_SOURCE_PROD_TYPE_CD\n",
    "#•\tSOURCE_PROD_TYPE_DSC\n",
    "#•\tPRODUCT_CODE            \n",
    "#•\tM_PRODUCT_HIERARCHY_CD\n",
    "#•\tM_BNM_BALANCE\n",
    "#•\tNOC\n"
   ]
  },
  {
   "cell_type": "code",
   "execution_count": null,
   "metadata": {},
   "outputs": [],
   "source": []
  }
 ],
 "metadata": {
  "kernelspec": {
   "display_name": "Python 3",
   "language": "python",
   "name": "python3"
  },
  "language_info": {
   "codemirror_mode": {
    "name": "ipython",
    "version": 3
   },
   "file_extension": ".py",
   "mimetype": "text/x-python",
   "name": "python",
   "nbconvert_exporter": "python",
   "pygments_lexer": "ipython3",
   "version": "3.7.6"
  }
 },
 "nbformat": 4,
 "nbformat_minor": 4
}
