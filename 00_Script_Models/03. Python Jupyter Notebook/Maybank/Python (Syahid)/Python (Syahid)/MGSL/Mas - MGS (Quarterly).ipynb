{
 "cells": [
  {
   "cell_type": "code",
   "execution_count": 1,
   "metadata": {},
   "outputs": [],
   "source": [
    "import numpy as np\n",
    "import pandas as pd\n",
    "import pandasql\n",
    "import sqlite3\n",
    "\n",
    "pd.set_option(\"display.max_columns\", None) \n",
    "pd.set_option(\"display.max_colwidth\", 1000) #huruf dlm column\n",
    "pd.set_option(\"display.max_rows\", 100)\n",
    "pd.set_option(\"display.precision\", 2) #2 titik perpuluhan\n",
    "\n",
    "\n",
    "D = 'Jun 2021'\n",
    "D3 = 'Sep 2021'\n",
    "D6 = 'Dec 2021'\n",
    "D9 = 'Mar 2022'\n",
    "D12 = 'Jun 2022'\n",
    "\n",
    "D_1 = pd.read_excel(r\"T:\\MIB Risk Management\\Credit Risk Analytics - Historical\\01_Reporting\\01_Monthly_Reporting\\19_Sectoral MGS\\\\\"+D+\"\\MGSL_\"+D+\"(python).xlsx\",sheet_name='MGS')\n",
    "D3_1 = pd.read_excel(r\"T:\\MIB Risk Management\\Credit Risk Analytics - Historical\\01_Reporting\\01_Monthly_Reporting\\19_Sectoral MGS\\\\\"+D3+\"\\MGSL_\"+D3+\"(python).xlsx\",sheet_name='MGS')\n",
    "D6_1 = pd.read_excel(r\"T:\\MIB Risk Management\\Credit Risk Analytics - Historical\\01_Reporting\\01_Monthly_Reporting\\19_Sectoral MGS\\\\\"+D6+\"\\MGSL_\"+D6+\"(python).xlsx\",sheet_name='MGS')\n",
    "D9_1 = pd.read_excel(r\"T:\\MIB Risk Management\\Credit Risk Analytics - Historical\\01_Reporting\\01_Monthly_Reporting\\19_Sectoral MGS\\\\\"+D9+\"\\MGSL_\"+D9+\"(python).xlsx\",sheet_name='MGS')\n",
    "D12_1 = pd.read_excel(r\"T:\\MIB Risk Management\\Credit Risk Analytics - Historical\\01_Reporting\\01_Monthly_Reporting\\19_Sectoral MGS\\\\\"+D12+\"\\MGSL_\"+D12+\"(python).xlsx\",sheet_name='MGS')\n",
    "\n",
    "\n",
    "D12_1['Quarter'] = 4\n",
    "D9_1['Quarter'] = 3\n",
    "D6_1['Quarter'] = 2\n",
    "D3_1['Quarter'] = 1\n",
    "D_1['Quarter'] = 0\n",
    "\n",
    "MGSL = pd.concat([D12_1,D9_1,D6_1,D3_1,D_1], axis=0, ignore_index=True)\n",
    "\n",
    "\n",
    "writer2 = pd.ExcelWriter(r\"T:\\MIB Risk Management\\CRM\\10.0_MGS Sectoral\\Syahid\\MGSL \"+D12+\"_\"+D+\"(python).xlsx\", engine='xlsxwriter')\n",
    "\n",
    "MGSL.to_excel(writer2, sheet_name='MGSL'+D12+\"_\"+D, index = False)\n",
    "\n",
    "writer2.save()"
   ]
  },
  {
   "cell_type": "code",
   "execution_count": null,
   "metadata": {},
   "outputs": [],
   "source": []
  },
  {
   "cell_type": "code",
   "execution_count": 117,
   "metadata": {},
   "outputs": [
    {
     "data": {
      "image/png": "[encoded data removed]",
      "text/plain": [
       "<Figure size 432x288 with 1 Axes>"
      ]
     },
     "metadata": {
      "needs_background": "light"
     },
     "output_type": "display_data"
    }
   ],
   "source": [
    "# bar_chart_legend.py\n",
    "\n",
    "import matplotlib.pyplot as plt\n",
    "\n",
    "def bar_chart(numbers, labels, pos):\n",
    "    plt.bar(pos, [4, 5, 6, 3], color='green')\n",
    "    plt.bar(pos, numbers, color='blue')\n",
    "    plt.xticks(ticks=pos, labels=labels)\n",
    "    plt.xlabel('Vehicle Types')\n",
    "    plt.ylabel('Number of Vehicles')\n",
    "    plt.legend(['First Label', 'Second Label'], loc='upper left')\n",
    "    plt.show()\n",
    "\n",
    "if __name__ == '__main__':\n",
    "    numbers = [2, 1, 4, 6]\n",
    "    labels = ['Electric', 'Solar', 'Diesel', 'Unleaded']\n",
    "    pos = list(range(4))\n",
    "    bar_chart(numbers, labels, pos)"
   ]
  },
  {
   "cell_type": "code",
   "execution_count": 8,
   "metadata": {},
   "outputs": [],
   "source": [
    "DATE1 = '202209'\n",
    "D1 = 'Sep 2022' #tukar kat sini\n",
    "\n",
    "DATE2 = '202208'\n",
    "D2 = 'Aug 2022' #tukar kat sini\n",
    "\n",
    "import numpy as np\n",
    "import pandas as pd\n",
    "import pandasql\n",
    "import sqlite3\n",
    "\n",
    "pd.set_option(\"display.max_columns\", None) \n",
    "pd.set_option(\"display.max_colwidth\", 1000) #huruf dlm column\n",
    "pd.set_option(\"display.max_rows\", 100)\n",
    "pd.set_option(\"display.precision\", 2) #2 titik perpuluhan\n",
    "\n",
    "\n",
    "MSGL_latest = pd.read_excel (r\"T:\\MIB Risk Management\\Credit Risk Analytics - Historical\\01_Reporting\\01_Monthly_Reporting\\19_Sectoral MGS\\\\\"+DATE1[:4]+\"\\\\\"+DATE1+\"\\working\\MGSL_Combine_\"+D1+\"(python).xlsx\", index = False)\n",
    "MGSL_previous = pd.read_excel (r\"T:\\MIB Risk Management\\Credit Risk Analytics - Historical\\01_Reporting\\01_Monthly_Reporting\\19_Sectoral MGS\\\\\"+DATE2[:4]+\"\\\\\"+DATE2+\"\\working\\MGSL_Combine_\"+D2+\"(python).xlsx\", index = False)\n",
    "\n",
    "MSGL_latest['Date'] = DATE1\n",
    "MGSL_previous['Date'] = DATE2\n",
    "\n",
    "appendR = pd.concat([ MSGL_latest, MGSL_previous])\n",
    "\n",
    "appendR.to_excel(r\"S:\\Power BI\\MGSL\\MGSL_Combine_\"+str(DATE2)+\"-\"+str(DATE1)+\".xlsx\", index = False)\n"
   ]
  },
  {
   "cell_type": "code",
   "execution_count": null,
   "metadata": {},
   "outputs": [],
   "source": []
  }
 ],
 "metadata": {
  "kernelspec": {
   "display_name": "Python 3",
   "language": "python",
   "name": "python3"
  },
  "language_info": {
   "codemirror_mode": {
    "name": "ipython",
    "version": 3
   },
   "file_extension": ".py",
   "mimetype": "text/x-python",
   "name": "python",
   "nbconvert_exporter": "python",
   "pygments_lexer": "ipython3",
   "version": "3.7.6"
  }
 },
 "nbformat": 4,
 "nbformat_minor": 4
}
