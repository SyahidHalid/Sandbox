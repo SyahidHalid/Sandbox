{
 "cells": [
  {
   "cell_type": "code",
   "execution_count": 1,
   "metadata": {},
   "outputs": [],
   "source": [
    "import numpy as np\n",
    "import pandas as pd\n",
    "import pandasql\n",
    "import sqlite3\n",
    "\n",
    "pd.set_option(\"display.max_columns\", None) \n",
    "pd.set_option(\"display.max_colwidth\", 1000) #huruf dlm column\n",
    "pd.set_option(\"display.max_rows\", 100)\n",
    "pd.set_option(\"display.precision\", 2) #2 titik perpuluhan\n"
   ]
  },
  {
   "cell_type": "code",
   "execution_count": 2,
   "metadata": {
    "scrolled": true
   },
   "outputs": [],
   "source": [
    "loan = pd.read_csv(r'T:\\MIB Risk Management\\Credit Risk Analytics - Historical\\04_Infocube\\01_Loans\\20220630\\infocube_01_loan20220630.txt', sep = \",\", header = 0, low_memory = False)\n"
   ]
  },
  {
   "cell_type": "code",
   "execution_count": 5,
   "metadata": {},
   "outputs": [],
   "source": [
    "IF  = pd.read_csv(r'T:\\MIB Risk Management\\Credit Risk Analytics - Historical\\02_Data_Source\\20_CRP\\6.0 Impaired Loan\\2022\\202206\\working\\Total_Impaired_Final_20220630.txt',sep = \",\", header = 0, low_memory = False)\n"
   ]
  },
  {
   "cell_type": "code",
   "execution_count": 5,
   "metadata": {},
   "outputs": [],
   "source": [
    "date = 20220630\n",
    "\n",
    "location_cust = r\"T:\\MIB Risk Management\\Credit Risk Analytics - Historical\\04_Infocube\\99_Data_Source\\02_Teradata\\01_Credit_Risk_Reporting\\01_Cust\\\\\"+str(date)+\"\\\\S001_004_ACRM_CUST\"+str(date)+\".txt\"\n",
    "cust = pd.read_csv(location_cust, sep = \"|\", header = 0, error_bad_lines = False)\n",
    "cust.columns = cust.columns.str.replace(\" \", \"_\")\n",
    "cust.M_SUB_SUB_MARKET_SEGMENT.replace({'    ': -9999}, inplace=True)"
   ]
  },
  {
   "cell_type": "code",
   "execution_count": 6,
   "metadata": {},
   "outputs": [],
   "source": [
    "loan.columns = loan.columns.str.upper()\n",
    "loan.columns = loan.columns.str.strip()\n",
    "\n",
    "IF.columns = IF.columns.str.upper()\n",
    "IF.columns = IF.columns.str.strip()\n"
   ]
  },
  {
   "cell_type": "code",
   "execution_count": 7,
   "metadata": {},
   "outputs": [],
   "source": [
    "loan.M_PRODUCT_HIERARCHY_CD = loan.M_PRODUCT_HIERARCHY_CD.str.strip()\n",
    "loan.M_PRODUCT_HIERARCHY_CD = loan.M_PRODUCT_HIERARCHY_CD.str.upper()\n",
    "\n",
    "loan1 = loan.iloc[np.where((loan.M_PRODUCT_HIERARCHY_CD.isin(['S57','S58','W54']))&(loan.M_FULL_WRITEOFF_FLG=='N')&(loan.M_ACCT_STATUS_CD==1)&(loan.M_SUB_MARKET_SEGMENT_CD == 2))]"
   ]
  },
  {
   "cell_type": "code",
   "execution_count": 9,
   "metadata": {
    "scrolled": true
   },
   "outputs": [
    {
     "data": {
      "text/plain": [
       "1436636.0"
      ]
     },
     "execution_count": 9,
     "metadata": {},
     "output_type": "execute_result"
    }
   ],
   "source": [
    "a = loan1.iloc[np.where(loan1.M_PRODUCT_HIERARCHY_CD=='S57')]\n",
    "sum(a.M_BNM_BALANCE_SUM)"
   ]
  },
  {
   "cell_type": "code",
   "execution_count": 8,
   "metadata": {},
   "outputs": [],
   "source": [
    "loan1 = loan1[['AS_OF_DATE','M_ACCOUNT_NO','M_CUS_NO','LEVEL_6','M_SUB_MARKET_SEGMENT_CD','M_PRODUCT_HIERARCHY_CD','M_SOURCE_PROD_TYPE_CD','SOURCE_PROD_TYPE_DSC','M_MTHS_INSTALLMENT_IN_ARREARS','M_FINANCING_CONCEPT','M_BNM_BALANCE_SUM']]\n",
    "\n",
    "IF = IF[['V_ORIGINAL_ACCOUNT_NUMBER','MKT_SUB_SEGMENT','OUTSTANDING_AFTER_EIR_UWI','V_D_CUST_FIRST_NAME']]"
   ]
  },
  {
   "cell_type": "code",
   "execution_count": 9,
   "metadata": {},
   "outputs": [],
   "source": [
    "loan1.M_ACCOUNT_NO = loan1.M_ACCOUNT_NO.map(str)\n",
    "loan1.M_ACCOUNT_NO = loan1.M_ACCOUNT_NO.str.strip()\n",
    "loan1.M_ACCOUNT_NO = loan1.M_ACCOUNT_NO.str.upper()\n",
    "\n",
    "IF.V_ORIGINAL_ACCOUNT_NUMBER = IF.V_ORIGINAL_ACCOUNT_NUMBER.str.strip()\n",
    "IF.V_ORIGINAL_ACCOUNT_NUMBER = IF.V_ORIGINAL_ACCOUNT_NUMBER.str.upper()\n",
    "\n",
    "join_a = loan1.merge(IF.rename(columns= {'V_ORIGINAL_ACCOUNT_NUMBER':'M_ACCOUNT_NO'}), on='M_ACCOUNT_NO', how='left')"
   ]
  },
  {
   "cell_type": "code",
   "execution_count": 10,
   "metadata": {},
   "outputs": [],
   "source": [
    "join_a.M_CUS_NO = join_a.M_CUS_NO.map(str)\n",
    "join_a.M_CUS_NO = join_a.M_CUS_NO.str.strip()\n",
    "join_a.M_CUS_NO = join_a.M_CUS_NO.str.upper()\n",
    "\n",
    "cust.CUS_NO = cust.CUS_NO.map(str)\n",
    "cust.CUS_NO = cust.CUS_NO.str.strip()\n",
    "cust.CUS_NO = cust.CUS_NO.str.upper()\n",
    "\n",
    "join_b = join_a.merge(cust[['CUS_NO','NAME']].rename(columns={'CUS_NO':'M_CUS_NO'}), on='M_CUS_NO', how='left')"
   ]
  },
  {
   "cell_type": "code",
   "execution_count": 13,
   "metadata": {},
   "outputs": [],
   "source": [
    "join_b.to_excel(r'T:\\MIB Risk Management\\Credit Risk Analytics - Historical\\01_Reporting\\03_Adhoc_Reporting\\2022\\0722_HYPR\\BB_s57s58_w54_Jun22(BBRSME).xlsx', sheet_name='BB_s57s58_w54_Jun22', index = False)"
   ]
  },
  {
   "cell_type": "code",
   "execution_count": null,
   "metadata": {},
   "outputs": [],
   "source": []
  }
 ],
 "metadata": {
  "kernelspec": {
   "display_name": "Python 3",
   "language": "python",
   "name": "python3"
  },
  "language_info": {
   "codemirror_mode": {
    "name": "ipython",
    "version": 3
   },
   "file_extension": ".py",
   "mimetype": "text/x-python",
   "name": "python",
   "nbconvert_exporter": "python",
   "pygments_lexer": "ipython3",
   "version": "3.7.6"
  }
 },
 "nbformat": 4,
 "nbformat_minor": 4
}
