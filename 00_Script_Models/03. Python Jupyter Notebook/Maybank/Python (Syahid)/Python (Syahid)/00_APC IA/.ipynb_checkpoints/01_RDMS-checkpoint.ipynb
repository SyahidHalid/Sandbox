{
 "cells": [
  {
   "cell_type": "code",
   "execution_count": null,
   "metadata": {},
   "outputs": [],
   "source": [
    "date = 20220930   #curent date\n",
    "\n",
    "import numpy as np\n",
    "import pandas as pd\n",
    "import pandasql\n",
    "import sqlite3\n",
    "\n",
    "pd.set_option(\"display.max_columns\", None) \n",
    "pd.set_option(\"display.max_colwidth\", 1000) #huruf dlm column\n",
    "pd.set_option(\"display.max_rows\", 100)\n",
    "pd.set_option(\"display.precision\", 2) #2 titik perpuluhan\n",
    "\n",
    "location_RDMS = r\"T:\\MIB Risk Management\\Credit Risk Analytics - Historical\\04_Infocube\\99_Data_Source\\01_Datawarehouse\\01_Credit_Risk_Reporting\\04_MIB_Rdms\\\\\"+str(date)+\"\\\\MIB_Rdms\"+str(date)+\".txt\"\n",
    "\n",
    "RDMS = pd.read_csv(location_RDMS, sep = \"\\t\", header = 0, low_memory = False)\n",
    "\n",
    "#RDMS\n",
    "RDMS.columns = RDMS.columns.str.replace(\" \", \"_\")\n",
    "\n",
    "RDMS.Sector_Category = RDMS.Sector_Category.fillna(-9999)\n",
    "RDMS.Approach = RDMS.Approach.fillna(-9999)\n",
    "RDMS.fillna(0, inplace =True)\n",
    "\n",
    "RDMS['Account_No'] = RDMS.Account_No.astype(str)\n",
    "RDMS['Account_No'] = RDMS.Account_No.str[:20]\n",
    "\n",
    "RDMS['Cus_No'] = RDMS.Cus_No.astype(str)\n",
    "RDMS['Cus_No'] = RDMS.Cus_No.str[:10]\n",
    "\n",
    "RDMS['Org_Unit'] = RDMS.Org_Unit.astype(str)\n",
    "RDMS['Org_Unit'] = RDMS.Org_Unit.str[:3]\n",
    "\n",
    "RDMS['Pd_Segment_Id'] = RDMS.Pd_Segment_Id.astype(str)\n",
    "RDMS['Pd_Segment_Id'] = RDMS.Pd_Segment_Id.str[:3]\n",
    "\n",
    "RDMS['Ead_Proportional'] = RDMS.Ead_Proportional.astype(float)\n",
    "RDMS['Ead_Proportional_Myr'] = RDMS.Ead_Proportional_Myr.astype(float)\n",
    "RDMS['Expected_Loss'] = RDMS.Expected_Loss.astype(float)\n",
    "RDMS['Expected_Loss_Myr'] = RDMS.Expected_Loss_Myr.astype(float)\n",
    "RDMS['Rwa_After_Risk_Mit'] = RDMS.Rwa_After_Risk_Mit.astype(float)\n",
    "RDMS['Rwa_After_Risk_Mit_Myr'] = RDMS.Rwa_After_Risk_Mit_Myr.astype(float)\n",
    "RDMS['Approach'] = RDMS.Approach.astype(float)\n",
    "RDMS['Drawn_Amt_Myr'] = RDMS.Drawn_Amt_Myr.astype(float)\n",
    "\n",
    "RDMS['Facility_Type'] = RDMS.Facility_Type.astype(str)\n",
    "RDMS['Facility_Type'] = RDMS.Facility_Type.str[:10]\n",
    "\n",
    "RDMS['Free_Line_Myr'] = RDMS.Free_Line_Myr.astype(float)\n",
    "RDMS['Lgd'] = RDMS.Lgd.astype(float)\n",
    "RDMS['Probability_Of_Default'] = RDMS.Probability_Of_Default.astype(float)\n",
    "\n",
    "RDMS['Product_Type'] = RDMS.Product_Type.astype(str)\n",
    "RDMS['Product_Type'] = RDMS.Product_Type.str[:20]\n",
    "\n",
    "RDMS['Rating'] = RDMS.Rating.astype(str)\n",
    "RDMS['Rating'] = RDMS.Rating.str[:10]\n",
    "\n",
    "RDMS['Risk_Weight'] = RDMS.Risk_Weight.astype(float)\n",
    "RDMS['Sector_Category'] = RDMS.Sector_Category.astype(float)\n",
    "RDMS['M_Sub_Market_Segment_Cd'] = RDMS.M_Sub_Market_Segment_Cd.astype(float)\n",
    "\n",
    "RDMS['Rsme_Rating_Grade'] = RDMS.Rsme_Rating_Grade.astype(str)\n",
    "RDMS['Rsme_Rating_Grade'] = RDMS.Rsme_Rating_Grade.str[:10]\n",
    "\n",
    "RDMS['Rsme_Inclusion_Indicator'] = RDMS.Rsme_Inclusion_Indicator.astype(str)\n",
    "RDMS['Rsme_Inclusion_Indicator'] = RDMS.Rsme_Inclusion_Indicator.str[:5]\n",
    "\n",
    "RDMS['Rs_Inclusion_Indicator'] = RDMS.Rs_Inclusion_Indicator.astype(str)\n",
    "RDMS['Rs_Inclusion_Indicator'] = RDMS.Rs_Inclusion_Indicator.str[:5]\n",
    "\n",
    "RDMS['Report_Indicator'] = RDMS.Report_Indicator.astype(str)\n",
    "RDMS['Report_Indicator'] = RDMS.Report_Indicator.str[:5]\n",
    "\n",
    "RDMS['Retail_Scorecard'] = RDMS.Retail_Scorecard.astype(str)\n",
    "RDMS['Retail_Scorecard'] = RDMS.Retail_Scorecard.str[:20]\n",
    "\n",
    "RDMS['Corporate_Scorecard'] = RDMS.Corporate_Scorecard.astype(str)\n",
    "RDMS['Corporate_Scorecard'] = RDMS.Corporate_Scorecard.str[:20]\n",
    "\n",
    "\n",
    "groupbycolumn = ['Account_No','Cus_No']\n",
    "\n",
    "SUM = ['Ead_Proportional','Ead_Proportional_Myr','Expected_Loss','Expected_Loss_Myr','Rwa_After_Risk_Mit','Rwa_After_Risk_Mit_Myr','Drawn_Amt_Myr','Free_Line_Myr']\n",
    "\n",
    "row1 = ['As_Of_Date','Account_No','Org_Unit','Pd_Segment_Id','Approach','Facility_Type','Lgd','Probability_Of_Default','Product_Type','Rating','Risk_Weight','Sector_Category','M_Sub_Market_Segment_Cd','Rsme_Rating_Grade','Rsme_Inclusion_Indicator','Rs_Inclusion_Indicator','Report_Indicator','Retail_Scorecard','Corporate_Scorecard']\n",
    "\n",
    "RDMS001 = RDMS.groupby(groupbycolumn)[SUM].sum().reset_index()\n",
    "\n",
    "RDMS001_1 = RDMS001.merge(RDMS[row1], on='Account_No', how='left')\n",
    "\n",
    "RDMS001_2 = RDMS001_1[['As_Of_Date','Account_No','Cus_No','Org_Unit','Pd_Segment_Id','Ead_Proportional','Ead_Proportional_Myr','Expected_Loss','Expected_Loss_Myr','Rwa_After_Risk_Mit','Rwa_After_Risk_Mit_Myr','Approach','Drawn_Amt_Myr','Facility_Type','Free_Line_Myr','Lgd','Probability_Of_Default','Product_Type','Rating','Risk_Weight','Sector_Category','M_Sub_Market_Segment_Cd','Rsme_Rating_Grade','Rsme_Inclusion_Indicator','Rs_Inclusion_Indicator','Report_Indicator','Retail_Scorecard','Corporate_Scorecard']]\n",
    "\n",
    "RDMS002 = RDMS001_2.sort_values(['Account_No','Report_Indicator'], ascending=[False,True])\n",
    "\n",
    "a = RDMS002.drop_duplicates('Account_No', keep='last')\n",
    "\n",
    "RDMS_1 = a.sort_values(by=['Account_No'], ascending=True)\n",
    "\n",
    "RDMS_1.to_csv(r'T:\\MIB Risk Management\\Credit Risk Analytics - Historical\\04_Infocube\\99_Data_Source\\01_Datawarehouse\\01_Credit_Risk_Reporting\\04_MIB_Rdms\\\\'+str(date)+'\\\\RDMS_'+str(date)+'.txt', index = False)"
   ]
  },
  {
   "cell_type": "code",
   "execution_count": 2,
   "metadata": {},
   "outputs": [
    {
     "data": {
      "text/plain": [
       "(2184039, 28)"
      ]
     },
     "execution_count": 2,
     "metadata": {},
     "output_type": "execute_result"
    }
   ],
   "source": [
    "RDMS_1.shape"
   ]
  },
  {
   "cell_type": "code",
   "execution_count": null,
   "metadata": {},
   "outputs": [],
   "source": []
  }
 ],
 "metadata": {
  "kernelspec": {
   "display_name": "Python 3",
   "language": "python",
   "name": "python3"
  },
  "language_info": {
   "codemirror_mode": {
    "name": "ipython",
    "version": 3
   },
   "file_extension": ".py",
   "mimetype": "text/x-python",
   "name": "python",
   "nbconvert_exporter": "python",
   "pygments_lexer": "ipython3",
   "version": "3.7.6"
  }
 },
 "nbformat": 4,
 "nbformat_minor": 4
}
