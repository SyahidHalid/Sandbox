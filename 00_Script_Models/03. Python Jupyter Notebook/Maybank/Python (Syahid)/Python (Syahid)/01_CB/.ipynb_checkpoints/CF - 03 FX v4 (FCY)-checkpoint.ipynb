{
 "cells": [
  {
   "cell_type": "code",
   "execution_count": 1,
   "metadata": {},
   "outputs": [],
   "source": [
    "import numpy as np\n",
    "import pandas as pd\n",
    "import pandasql\n",
    "import sqlite3\n",
    "\n",
    "pd.set_option(\"display.max_columns\", None) \n",
    "pd.set_option(\"display.max_colwidth\", 1000) #huruf dlm column\n",
    "pd.set_option(\"display.max_rows\", 100)\n",
    "pd.set_option(\"display.precision\", 2) #2 titik perpuluhan\n",
    "\n",
    "\n",
    "#sheet_name='SourceCM'\n",
    "#sheet_name = 'cb os by mkt seg 2'\n",
    "\n",
    "#import\n",
    "date = \"Sep'22\"\n",
    "date2='20220930'\n",
    "sheet_name = 'SourceCM'\n",
    "\n",
    "#export\n",
    "date1='2022-09'\n",
    "\n",
    "\n",
    "FXCurrency = pd.read_excel(r'T:\\MIB Risk Management\\Credit Risk Analytics - Historical\\02_Data_Source\\01_Corporate_Financing\\01_Portfolio\\\\'+date2+'\\GB Monthly Loan Outstanding '+date+'.xlsx', sheet_name = 'SourceCM')\n",
    "\n",
    "\n",
    "description = pd.read_excel(r\"T:\\MIB Risk Management\\Credit Risk Analytics - Historical\\01_Reporting\\01_Monthly_Reporting\\Python\\User defined\\description.xlsx\", sheet_name='description')\n"
   ]
  },
  {
   "cell_type": "code",
   "execution_count": 4,
   "metadata": {},
   "outputs": [],
   "source": [
    "FXCurrency.columns = FXCurrency.columns.str.upper()\n",
    "FXCurrency.columns = FXCurrency.columns.str.strip()\n",
    "FXCurrency.columns = FXCurrency.columns.str.replace(\" \", \"_\")\n",
    "\n",
    "#FXCurrency.M_FINANCING_TYPE_CD = FXCurrency.M_FINANCING_TYPE_CD.str.upper()\n",
    "#FXCurrency.M_FINANCING_TYPE_CD = FXCurrency.M_FINANCING_TYPE_CD.str.strip()\n",
    "\n",
    "#FXCurrency.ISO_CURRENCY_CD = FXCurrency.ISO_CURRENCY_CD.str.upper()\n",
    "#FXCurrency.ISO_CURRENCY_CD = FXCurrency.ISO_CURRENCY_CD.str.strip()\n",
    "\n",
    "#FXCurrency.COMMON_COA_ID = FXCurrency.COMMON_COA_ID.astype(int)\n",
    "\n",
    "FXCurrencya = FXCurrency.iloc[np.where((FXCurrency.COMMON_COA_ID==12000)&(FXCurrency.M_FINANCING_TYPE_CD=='I')&(FXCurrency.ISO_CURRENCY_CD !='MYR'))]\n",
    "\n",
    "FXCurrency1 = FXCurrencya[['M_CUS_NO','NAME','CB_GROUP_NAME','ISO_CURRENCY_CD','FACILITY_2','CUR_BOOK_BAL_SUM','M_BNM_BALANCE_SUM']]\n",
    "\n",
    "FXCurrency2 = FXCurrency1.groupby(['M_CUS_NO','NAME','CB_GROUP_NAME','ISO_CURRENCY_CD','FACILITY_2'])[['CUR_BOOK_BAL_SUM','M_BNM_BALANCE_SUM']].sum().reset_index()\n",
    "\n",
    "FXCurrency2.sort_values(by=['M_BNM_BALANCE_SUM'],ascending=[False],inplace=True)\n",
    "\n",
    "FXCurrency2['FX'] = FXCurrency2['M_BNM_BALANCE_SUM']/FXCurrency2['CUR_BOOK_BAL_SUM']\n",
    "\n",
    "FCY = FXCurrency2.merge(FXCurrencya[['M_CUS_NO','M_NEW_ID_NUMBER','M_MSIC_CODE']].drop_duplicates('M_CUS_NO'), on='M_CUS_NO', how='left')\n",
    "\n",
    "FCY['ACOUNT_CLASSIFICATION'] = 'NA'\n",
    "FCY['BRR'] = 'NA'\n",
    "\n",
    "\n",
    "FCY.M_MSIC_CODE = FCY.M_MSIC_CODE.map(str)\n",
    "FCY.M_MSIC_CODE = FCY.M_MSIC_CODE.str.strip()\n",
    "FCY.M_MSIC_CODE = FCY.M_MSIC_CODE.str.upper()\n",
    "\n",
    "\n",
    "description.columns = description.columns.str.strip()\n",
    "description.columns = description.columns.str.replace(\" \", \"_\")\n",
    "description.columns = description.columns.str.upper()\n",
    "\n",
    "\n",
    "description.ISC_NOB = description.ISC_NOB.map(str)\n",
    "description.ISC_NOB = description.ISC_NOB.str.strip()\n",
    "description.ISC_NOB = description.ISC_NOB.str.upper()\n",
    "\n",
    "\n",
    "FCYb = FCY.merge(description[['ISC_NOB','ISC_PARENT2','INDUSTRIAL_SECTOR_CODE_(ISC_DESC)2']].drop_duplicates().rename(columns = {'ISC_NOB':'M_MSIC_CODE'}), on='M_MSIC_CODE', how='left')\n",
    "\n",
    "\n",
    "FCYa = FCYb.rename(columns={'M_CUS_NO':'GCIF_NO',\\\n",
    "                          'M_NEW_ID_NUMBER':'BRIC',\\\n",
    "                          'NAME':'CUSTOMER_NAME',\\\n",
    "                          'CB_GROUP_NAME':'CUSTOMER_GROUP',\\\n",
    "                          'ISO_CURRENCY_CD':'FINANCING_CURRENCY',\\\n",
    "                          'CUR_BOOK_BAL_SUM':'FCY',\\\n",
    "                          'M_BNM_BALANCE_SUM':'RM',\\\n",
    "                          'FACILITY_2':'FINANCING_TYPE',\\\n",
    "                          'M_MSIC_CODE':'INDUSTRIAL_SECTOR_CODE',\\\n",
    "                          'ISC_PARENT2':'INDUSTRIAL_SECTOR',\\\n",
    "                          'INDUSTRIAL_SECTOR_CODE_(ISC_DESC)2':'INDUSTRIAL_SECTOR_DESCRIPTION'})\n",
    "\n",
    "\n",
    "FCY1 = FCYa[['GCIF_NO','BRIC','CUSTOMER_NAME','CUSTOMER_GROUP','FINANCING_CURRENCY','FCY','RM','FX','ACOUNT_CLASSIFICATION','FINANCING_TYPE','INDUSTRIAL_SECTOR_CODE','INDUSTRIAL_SECTOR','INDUSTRIAL_SECTOR_DESCRIPTION','BRR']].sort_values(by=['RM','INDUSTRIAL_SECTOR'],ascending=[False,True])\n",
    "\n",
    "\n",
    "FCY2 = FCY1.sort_values(by=['CUSTOMER_GROUP'],ascending=[False])"
   ]
  },
  {
   "cell_type": "code",
   "execution_count": 47,
   "metadata": {},
   "outputs": [],
   "source": [
    "FCY2.to_excel(r'T:\\MIB Risk Management\\Credit Risk Analytics - Historical\\01_Reporting\\06_BNM Request\\\\'+date1+'\\FCY '+date1+'(python).xlsx', sheet_name='FX', index=False)\n"
   ]
  },
  {
   "cell_type": "code",
   "execution_count": 15,
   "metadata": {},
   "outputs": [],
   "source": [
    "#FXCurrencya.iloc[np.where(FXCurrencya.NAME.str.contains('SHARJAH'))]"
   ]
  },
  {
   "cell_type": "code",
   "execution_count": 16,
   "metadata": {},
   "outputs": [],
   "source": [
    "#FCY1.iloc[np.where(FCY1.CUSTOMER_NAME.str.contains('SHARJAH'))]"
   ]
  },
  {
   "cell_type": "code",
   "execution_count": 2,
   "metadata": {},
   "outputs": [],
   "source": []
  },
  {
   "cell_type": "code",
   "execution_count": null,
   "metadata": {},
   "outputs": [],
   "source": []
  },
  {
   "cell_type": "code",
   "execution_count": 17,
   "metadata": {
    "scrolled": true
   },
   "outputs": [],
   "source": [
    "working = pd.read_excel(r'T:\\MIB Risk Management\\Credit Risk Analytics - Historical\\01_Reporting\\06_BNM Request\\2022-08\\FCY 2022-08(python).xlsx')\n",
    "working.columns = working.columns.str.upper()\n",
    "working.columns = working.columns.str.replace(\" \",\"_\")"
   ]
  },
  {
   "cell_type": "code",
   "execution_count": null,
   "metadata": {},
   "outputs": [],
   "source": []
  },
  {
   "cell_type": "code",
   "execution_count": 21,
   "metadata": {},
   "outputs": [
    {
     "data": {
      "text/plain": [
       "both          70\n",
       "left_only      1\n",
       "right_only     0\n",
       "Name: _merge, dtype: int64"
      ]
     },
     "execution_count": 21,
     "metadata": {},
     "output_type": "execute_result"
    }
   ],
   "source": [
    "test = working.merge(FCY2.rename(columns={'GCIF_NO':'GCIF_NO'}), on='GCIF_NO', how='left', indicator=True)\n",
    "test._merge.value_counts()"
   ]
  },
  {
   "cell_type": "code",
   "execution_count": 22,
   "metadata": {},
   "outputs": [
    {
     "data": {
      "text/html": [
       "<div>\n",
       "<style scoped>\n",
       "    .dataframe tbody tr th:only-of-type {\n",
       "        vertical-align: middle;\n",
       "    }\n",
       "\n",
       "    .dataframe tbody tr th {\n",
       "        vertical-align: top;\n",
       "    }\n",
       "\n",
       "    .dataframe thead th {\n",
       "        text-align: right;\n",
       "    }\n",
       "</style>\n",
       "<table border=\"1\" class=\"dataframe\">\n",
       "  <thead>\n",
       "    <tr style=\"text-align: right;\">\n",
       "      <th></th>\n",
       "      <th>GCIF_NO</th>\n",
       "      <th>BRIC_x</th>\n",
       "      <th>CUSTOMER_NAME_x</th>\n",
       "      <th>CUSTOMER_GROUP_x</th>\n",
       "      <th>FINANCING_CURRENCY_x</th>\n",
       "      <th>FCY_x</th>\n",
       "      <th>RM_x</th>\n",
       "      <th>FX_x</th>\n",
       "      <th>ACOUNT_CLASSIFICATION_x</th>\n",
       "      <th>FINANCING_TYPE_x</th>\n",
       "      <th>INDUSTRIAL_SECTOR_CODE_x</th>\n",
       "      <th>INDUSTRIAL_SECTOR_x</th>\n",
       "      <th>INDUSTRIAL_SECTOR_DESCRIPTION_x</th>\n",
       "      <th>BRR_x</th>\n",
       "      <th>BRIC_y</th>\n",
       "      <th>CUSTOMER_NAME_y</th>\n",
       "      <th>CUSTOMER_GROUP_y</th>\n",
       "      <th>FINANCING_CURRENCY_y</th>\n",
       "      <th>FCY_y</th>\n",
       "      <th>RM_y</th>\n",
       "      <th>FX_y</th>\n",
       "      <th>ACOUNT_CLASSIFICATION_y</th>\n",
       "      <th>FINANCING_TYPE_y</th>\n",
       "      <th>INDUSTRIAL_SECTOR_CODE_y</th>\n",
       "      <th>INDUSTRIAL_SECTOR_y</th>\n",
       "      <th>INDUSTRIAL_SECTOR_DESCRIPTION_y</th>\n",
       "      <th>BRR_y</th>\n",
       "      <th>_merge</th>\n",
       "    </tr>\n",
       "  </thead>\n",
       "  <tbody>\n",
       "    <tr>\n",
       "      <th>0</th>\n",
       "      <td>6089413</td>\n",
       "      <td>236761P</td>\n",
       "      <td>ZETRO SERVICES SDN. BHD.</td>\n",
       "      <td>ZETRO</td>\n",
       "      <td>USD</td>\n",
       "      <td>0.0</td>\n",
       "      <td>0.0</td>\n",
       "      <td>NaN</td>\n",
       "      <td>NaN</td>\n",
       "      <td>TB</td>\n",
       "      <td>7110X</td>\n",
       "      <td>PROFESSIONAL, SCIENTIFIC AND TECHNICAL ACTIVITIES</td>\n",
       "      <td>ARCHITECTURAL AND ENGINEERING ACTIVITIES AND RELATED TECHNICAL CONSULTANCY</td>\n",
       "      <td>NaN</td>\n",
       "      <td>NaN</td>\n",
       "      <td>NaN</td>\n",
       "      <td>NaN</td>\n",
       "      <td>NaN</td>\n",
       "      <td>NaN</td>\n",
       "      <td>NaN</td>\n",
       "      <td>NaN</td>\n",
       "      <td>NaN</td>\n",
       "      <td>NaN</td>\n",
       "      <td>NaN</td>\n",
       "      <td>NaN</td>\n",
       "      <td>NaN</td>\n",
       "      <td>NaN</td>\n",
       "      <td>left_only</td>\n",
       "    </tr>\n",
       "  </tbody>\n",
       "</table>\n",
       "</div>"
      ],
      "text/plain": [
       "   GCIF_NO   BRIC_x           CUSTOMER_NAME_x CUSTOMER_GROUP_x  \\\n",
       "0  6089413  236761P  ZETRO SERVICES SDN. BHD.            ZETRO   \n",
       "\n",
       "  FINANCING_CURRENCY_x  FCY_x  RM_x  FX_x  ACOUNT_CLASSIFICATION_x  \\\n",
       "0                  USD    0.0   0.0   NaN                      NaN   \n",
       "\n",
       "  FINANCING_TYPE_x INDUSTRIAL_SECTOR_CODE_x  \\\n",
       "0               TB                    7110X   \n",
       "\n",
       "                                 INDUSTRIAL_SECTOR_x  \\\n",
       "0  PROFESSIONAL, SCIENTIFIC AND TECHNICAL ACTIVITIES   \n",
       "\n",
       "                                              INDUSTRIAL_SECTOR_DESCRIPTION_x  \\\n",
       "0  ARCHITECTURAL AND ENGINEERING ACTIVITIES AND RELATED TECHNICAL CONSULTANCY   \n",
       "\n",
       "   BRR_x BRIC_y CUSTOMER_NAME_y CUSTOMER_GROUP_y FINANCING_CURRENCY_y  FCY_y  \\\n",
       "0    NaN    NaN             NaN              NaN                  NaN    NaN   \n",
       "\n",
       "   RM_y  FX_y ACOUNT_CLASSIFICATION_y FINANCING_TYPE_y  \\\n",
       "0   NaN   NaN                     NaN              NaN   \n",
       "\n",
       "  INDUSTRIAL_SECTOR_CODE_y INDUSTRIAL_SECTOR_y  \\\n",
       "0                      NaN                 NaN   \n",
       "\n",
       "  INDUSTRIAL_SECTOR_DESCRIPTION_y BRR_y     _merge  \n",
       "0                             NaN   NaN  left_only  "
      ]
     },
     "execution_count": 22,
     "metadata": {},
     "output_type": "execute_result"
    }
   ],
   "source": [
    "test.iloc[np.where(test._merge=='left_only')]"
   ]
  },
  {
   "cell_type": "code",
   "execution_count": 32,
   "metadata": {},
   "outputs": [],
   "source": [
    "a = FXCurrency.iloc[np.where(FXCurrency.M_CUS_NO==6089413)]"
   ]
  },
  {
   "cell_type": "code",
   "execution_count": 42,
   "metadata": {
    "scrolled": true
   },
   "outputs": [],
   "source": [
    "b = a.iloc[np.where((a.ISO_CURRENCY_CD !='MYR')&(a.M_FINANCING_TYPE_CD=='I'))]#&(a.COMMON_COA_ID==12000)\n"
   ]
  },
  {
   "cell_type": "code",
   "execution_count": 45,
   "metadata": {},
   "outputs": [
    {
     "data": {
      "text/plain": [
       "22000    12\n",
       "Name: COMMON_COA_ID, dtype: int64"
      ]
     },
     "execution_count": 45,
     "metadata": {},
     "output_type": "execute_result"
    }
   ],
   "source": [
    "b.COMMON_COA_ID.value_counts()"
   ]
  },
  {
   "cell_type": "code",
   "execution_count": null,
   "metadata": {},
   "outputs": [],
   "source": []
  }
 ],
 "metadata": {
  "kernelspec": {
   "display_name": "Python 3",
   "language": "python",
   "name": "python3"
  },
  "language_info": {
   "codemirror_mode": {
    "name": "ipython",
    "version": 3
   },
   "file_extension": ".py",
   "mimetype": "text/x-python",
   "name": "python",
   "nbconvert_exporter": "python",
   "pygments_lexer": "ipython3",
   "version": "3.7.6"
  }
 },
 "nbformat": 4,
 "nbformat_minor": 4
}
