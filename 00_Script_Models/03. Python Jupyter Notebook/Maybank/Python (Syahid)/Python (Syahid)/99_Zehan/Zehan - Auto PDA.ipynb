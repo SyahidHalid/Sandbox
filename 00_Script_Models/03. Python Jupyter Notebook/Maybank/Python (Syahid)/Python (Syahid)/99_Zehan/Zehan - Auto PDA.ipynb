{
 "cells": [
  {
   "cell_type": "markdown",
   "metadata": {},
   "source": [
    "# BY INFOCUBE"
   ]
  },
  {
   "cell_type": "code",
   "execution_count": 1,
   "metadata": {},
   "outputs": [],
   "source": [
    "date = 20220630\n",
    "\n",
    "import numpy as np\n",
    "import pandas as pd\n",
    "import pandasql\n",
    "import sqlite3\n",
    "\n",
    "pd.set_option(\"display.max_columns\", None) \n",
    "pd.set_option(\"display.max_colwidth\", 1000) #huruf dlm column\n",
    "pd.set_option(\"display.max_rows\", 100)\n",
    "pd.set_option(\"display.precision\", 2) #2 titik perpuluhan"
   ]
  },
  {
   "cell_type": "code",
   "execution_count": 2,
   "metadata": {},
   "outputs": [],
   "source": [
    "HP  = pd.read_csv(r\"T:\\MIB Risk Management\\Credit Risk Analytics - Historical\\04_Infocube\\06_AITAB\\\\\"+str(date)+\"\\infocube_06_aitab\"+str(date)+\".txt\", sep = \",\", header = 0, low_memory = False)\n",
    "HP.columns = HP.columns.str.replace(\" \", \"_\")\n",
    "HP.ACCOUNT_NO = HP.ACCOUNT_NO.astype(str)"
   ]
  },
  {
   "cell_type": "code",
   "execution_count": 9,
   "metadata": {
    "scrolled": true
   },
   "outputs": [],
   "source": [
    "HP_Auto = HP.iloc[np.where(HP.PRODUCT_HIERARCHY_CD.isin(['N2','N4']))][['ACCOUNT_NO','CUS_NO','AA_NUMBER','BNM_BALANCE',\\\n",
    "                                                                       'SOURCE_PROD_TYPE_CD','PRODUCT_HIERARCHY_CD','SOURCE_PROD_TYPE_DSC']]"
   ]
  },
  {
   "cell_type": "code",
   "execution_count": 15,
   "metadata": {},
   "outputs": [],
   "source": [
    "HP_Auto1 = HP_Auto.fillna(0).groupby(['PRODUCT_HIERARCHY_CD','SOURCE_PROD_TYPE_DSC'])[['BNM_BALANCE']].sum().reset_index()"
   ]
  },
  {
   "cell_type": "code",
   "execution_count": 16,
   "metadata": {},
   "outputs": [
    {
     "data": {
      "text/html": [
       "<div>\n",
       "<style scoped>\n",
       "    .dataframe tbody tr th:only-of-type {\n",
       "        vertical-align: middle;\n",
       "    }\n",
       "\n",
       "    .dataframe tbody tr th {\n",
       "        vertical-align: top;\n",
       "    }\n",
       "\n",
       "    .dataframe thead th {\n",
       "        text-align: right;\n",
       "    }\n",
       "</style>\n",
       "<table border=\"1\" class=\"dataframe\">\n",
       "  <thead>\n",
       "    <tr style=\"text-align: right;\">\n",
       "      <th></th>\n",
       "      <th>PRODUCT_HIERARCHY_CD</th>\n",
       "      <th>SOURCE_PROD_TYPE_DSC</th>\n",
       "      <th>BNM_BALANCE</th>\n",
       "    </tr>\n",
       "  </thead>\n",
       "  <tbody>\n",
       "    <tr>\n",
       "      <th>0</th>\n",
       "      <td>N2</td>\n",
       "      <td>ISLAMIC DIRECT HP</td>\n",
       "      <td>34479795322</td>\n",
       "    </tr>\n",
       "    <tr>\n",
       "      <th>1</th>\n",
       "      <td>N4</td>\n",
       "      <td>ISLAMIC BLANKET HP</td>\n",
       "      <td>238341211</td>\n",
       "    </tr>\n",
       "  </tbody>\n",
       "</table>\n",
       "</div>"
      ],
      "text/plain": [
       "  PRODUCT_HIERARCHY_CD SOURCE_PROD_TYPE_DSC  BNM_BALANCE\n",
       "0                   N2    ISLAMIC DIRECT HP  34479795322\n",
       "1                   N4   ISLAMIC BLANKET HP    238341211"
      ]
     },
     "execution_count": 16,
     "metadata": {},
     "output_type": "execute_result"
    }
   ],
   "source": [
    "HP_Auto1"
   ]
  },
  {
   "cell_type": "markdown",
   "metadata": {},
   "source": [
    "# BY OFSA"
   ]
  },
  {
   "cell_type": "code",
   "execution_count": 18,
   "metadata": {},
   "outputs": [],
   "source": [
    "RATE_1 = 20220630\n",
    "\n",
    "#HP\n",
    "location_HP = r\"T:\\MIB Risk Management\\Credit Risk Analytics - Historical\\04_Infocube\\99_Data_Source\\01_Datawarehouse\\01_Credit_Risk_Reporting\\09_MIB_HP\\\\\"+str(RATE_1)+\"\\MIB_HP\"+str(RATE_1)+\".txt\"\n",
    "HP = pd.read_csv(location_HP, sep = \"\\t\", header = 0)\n",
    "HP.columns = HP.columns.str.replace(\" \", \"_\")\n",
    "HP.Account_No = HP.Account_No.astype(str)\n",
    "HP['Account_No'] = HP.Account_No.str[:20]\n",
    "\n",
    "#HPFS\n",
    "location_HPFS = r\"T:\\MIB Risk Management\\Credit Risk Analytics - Historical\\04_Infocube\\99_Data_Source\\01_Datawarehouse\\01_Credit_Risk_Reporting\\09_MIB_HP\\\\\"+str(RATE_1)+\"\\MIB_HPFS\"+str(RATE_1)+\".txt\"\n",
    "HPFS = pd.read_csv(location_HPFS, sep = \"\\t\", header = 0)\n",
    "HPFS.columns = HPFS.columns.str.replace(\" \", \"_\")\n",
    "HPFS.Account_No = HPFS.Account_No.astype(str)\n",
    "HPFS['Account_No'] = HPFS.Account_No.str[:20]\n",
    "\n",
    "#HPBD\n",
    "location_HPBD = r\"T:\\MIB Risk Management\\Credit Risk Analytics - Historical\\04_Infocube\\99_Data_Source\\01_Datawarehouse\\01_Credit_Risk_Reporting\\09_MIB_HP\\\\\"+str(RATE_1)+\"\\MIB_HPBD\"+str(RATE_1)+\".txt\"\n",
    "HPBD = pd.read_csv(location_HPBD, sep = \"\\t\", header = 0)\n",
    "HPBD.columns = HPBD.columns.str.replace(\" \", \"_\")\n",
    "HPBD.Account_No = HPBD.Account_No.astype(str)\n",
    "HPBD['Account_No'] = HPBD.Account_No.str[:20]\n",
    "\n",
    "#HPS Applicant\n",
    "location_applicant = r\"T:\\MIB Risk Management\\Credit Risk Analytics - Historical\\04_Infocube\\99_Data_Source\\01_Datawarehouse\\01_Credit_Risk_Reporting\\09_MIB_HP\\\\\"+str(RATE_1)+\"\\LOS_HPS_APPLICANT_DETAILS\"+str(RATE_1)+\".txt\"\n",
    "applicant = pd.read_csv(location_applicant,sep = \"\\t\", header = 0)\n",
    "applicant.columns = applicant.columns.str.replace(\" \", \"_\")\n",
    "\n",
    "#HPS Application\n",
    "location_application = r\"T:\\MIB Risk Management\\Credit Risk Analytics - Historical\\04_Infocube\\99_Data_Source\\01_Datawarehouse\\01_Credit_Risk_Reporting\\09_MIB_HP\\\\\"+str(RATE_1)+\"\\LOS_HPS_APPLICATION_DETAILS\"+str(RATE_1)+\".txt\"\n",
    "application = pd.read_csv(location_application,sep = \"\\t\", header = 0)\n",
    "application.columns = application.columns.str.replace(\" \", \"_\")\n"
   ]
  },
  {
   "cell_type": "code",
   "execution_count": 30,
   "metadata": {},
   "outputs": [],
   "source": [
    "HP1 = HP.iloc[np.where(HP.Product_Hierarchy_Cd.isin(['N2','N4']))][['Account_No','Cus_No','Product_Hierarchy_Cd','Bnm_Balance']]\n",
    "HPBD1 = HPBD.iloc[np.where(HPBD.Product_Hierarchy_Cd.isin(['N2','N4']))][['Account_No','Cus_No','Product_Hierarchy_Cd','Bnm_Balance']]\n",
    "HPFS1 = HPFS.iloc[np.where(HPFS.Product_Hierarchy_Cd.isin(['N2','N4']))][['Account_No','Cus_No','Product_Hierarchy_Cd','Bnm_Balance']]"
   ]
  },
  {
   "cell_type": "code",
   "execution_count": 33,
   "metadata": {},
   "outputs": [],
   "source": [
    "HP_1 = pd.concat([HP1, HPBD1, HPFS1])"
   ]
  },
  {
   "cell_type": "code",
   "execution_count": 35,
   "metadata": {},
   "outputs": [],
   "source": [
    "HP_2 = HP_1.fillna(0).groupby(['Product_Hierarchy_Cd'])[['Bnm_Balance']].sum().reset_index()"
   ]
  },
  {
   "cell_type": "code",
   "execution_count": 36,
   "metadata": {},
   "outputs": [
    {
     "data": {
      "text/html": [
       "<div>\n",
       "<style scoped>\n",
       "    .dataframe tbody tr th:only-of-type {\n",
       "        vertical-align: middle;\n",
       "    }\n",
       "\n",
       "    .dataframe tbody tr th {\n",
       "        vertical-align: top;\n",
       "    }\n",
       "\n",
       "    .dataframe thead th {\n",
       "        text-align: right;\n",
       "    }\n",
       "</style>\n",
       "<table border=\"1\" class=\"dataframe\">\n",
       "  <thead>\n",
       "    <tr style=\"text-align: right;\">\n",
       "      <th></th>\n",
       "      <th>Product_Hierarchy_Cd</th>\n",
       "      <th>Bnm_Balance</th>\n",
       "    </tr>\n",
       "  </thead>\n",
       "  <tbody>\n",
       "    <tr>\n",
       "      <th>0</th>\n",
       "      <td>N2</td>\n",
       "      <td>34479795322</td>\n",
       "    </tr>\n",
       "    <tr>\n",
       "      <th>1</th>\n",
       "      <td>N4</td>\n",
       "      <td>238341211</td>\n",
       "    </tr>\n",
       "  </tbody>\n",
       "</table>\n",
       "</div>"
      ],
      "text/plain": [
       "  Product_Hierarchy_Cd  Bnm_Balance\n",
       "0                   N2  34479795322\n",
       "1                   N4    238341211"
      ]
     },
     "execution_count": 36,
     "metadata": {},
     "output_type": "execute_result"
    }
   ],
   "source": [
    "HP_2"
   ]
  },
  {
   "cell_type": "markdown",
   "metadata": {},
   "source": [
    "# BY FRAN"
   ]
  },
  {
   "cell_type": "code",
   "execution_count": 2,
   "metadata": {},
   "outputs": [],
   "source": [
    "FRAN  = pd.read_csv(r\"T:\\MIB Risk Management\\Credit Risk Analytics - Historical\\99_Adhoc\\Syahid\\Auto FRAN 20220630.txt\", sep = \"\\t\", header = 0, low_memory = False)\n",
    "FRAN.columns = FRAN.columns.str.replace(\" \", \"_\")\n",
    "FRAN.columns = FRAN.columns.str.upper()\n"
   ]
  },
  {
   "cell_type": "code",
   "execution_count": 17,
   "metadata": {},
   "outputs": [
    {
     "data": {
      "text/html": [
       "<div>\n",
       "<style scoped>\n",
       "    .dataframe tbody tr th:only-of-type {\n",
       "        vertical-align: middle;\n",
       "    }\n",
       "\n",
       "    .dataframe tbody tr th {\n",
       "        vertical-align: top;\n",
       "    }\n",
       "\n",
       "    .dataframe thead th {\n",
       "        text-align: right;\n",
       "    }\n",
       "</style>\n",
       "<table border=\"1\" class=\"dataframe\">\n",
       "  <thead>\n",
       "    <tr style=\"text-align: right;\">\n",
       "      <th></th>\n",
       "      <th>AS_OF_DATE</th>\n",
       "      <th>AVG_BOOK_BAL_SUM</th>\n",
       "      <th>BRANCH_CODE</th>\n",
       "      <th>COMMON_COA_ID</th>\n",
       "      <th>CREDIT_RATING_CD</th>\n",
       "      <th>CREDIT_STATUS_CD</th>\n",
       "      <th>GL_ACCOUNT_ID</th>\n",
       "      <th>ORG_UNIT_ID</th>\n",
       "      <th>RECORD_COUNT</th>\n",
       "      <th>AA_NUMBER</th>\n",
       "      <th>ACCOUNT_NO</th>\n",
       "      <th>ACCT_STATUS_CD</th>\n",
       "      <th>BNM_BALANCE_SUM</th>\n",
       "      <th>CUS_NO</th>\n",
       "      <th>DATE_SHORTFALL</th>\n",
       "      <th>DATE_REPOSSESSED</th>\n",
       "      <th>FINANCING_TYPE_CD</th>\n",
       "      <th>FULL_WRITEOFF_FLG</th>\n",
       "      <th>GOODS_TYPE</th>\n",
       "      <th>MTHS_INSTALLMENT_IN_ARREARS</th>\n",
       "      <th>NEW_SHORTFALL_FLG</th>\n",
       "      <th>NEW_REPOSSESSED_FLG</th>\n",
       "      <th>NEW_NPL_FLG</th>\n",
       "      <th>NPL_FLG</th>\n",
       "      <th>NPL_DATE</th>\n",
       "      <th>ODI_OUTSTANDING_SUM</th>\n",
       "      <th>RISK_WEIGHTAGE_SUM</th>\n",
       "      <th>RISK_WEIGHTED_AMT_SUM</th>\n",
       "      <th>SHORTFALL_FLG</th>\n",
       "      <th>SOURCE_PROD_TYPE_CD</th>\n",
       "      <th>GOODS_STATUS</th>\n",
       "      <th>LEDGER_BAL_SUM</th>\n",
       "      <th>FINANCING_CONCEPT</th>\n",
       "      <th>M_SUB_MARKET_SEGMENT_CD</th>\n",
       "      <th>PRODUCT_HIERARCHY_CD</th>\n",
       "    </tr>\n",
       "  </thead>\n",
       "  <tbody>\n",
       "    <tr>\n",
       "      <th>163</th>\n",
       "      <td>30-JUN-2022</td>\n",
       "      <td>1168.35</td>\n",
       "      <td>8707</td>\n",
       "      <td>12000</td>\n",
       "      <td>0</td>\n",
       "      <td>0</td>\n",
       "      <td>120100113111</td>\n",
       "      <td>31317</td>\n",
       "      <td>1</td>\n",
       "      <td>887072009P326</td>\n",
       "      <td>788707131148</td>\n",
       "      <td>1</td>\n",
       "      <td>1168</td>\n",
       "      <td>10219566</td>\n",
       "      <td>01-JAN-1900</td>\n",
       "      <td>01-JAN-1900</td>\n",
       "      <td>C</td>\n",
       "      <td>N</td>\n",
       "      <td>2.0</td>\n",
       "      <td>0</td>\n",
       "      <td>N</td>\n",
       "      <td>N</td>\n",
       "      <td>N</td>\n",
       "      <td>N</td>\n",
       "      <td>01-JAN-1900</td>\n",
       "      <td>269.67</td>\n",
       "      <td>0.0</td>\n",
       "      <td>0.0</td>\n",
       "      <td>N</td>\n",
       "      <td>N1</td>\n",
       "      <td>N</td>\n",
       "      <td>1168.35</td>\n",
       "      <td>0.0</td>\n",
       "      <td>3.0</td>\n",
       "      <td>N1</td>\n",
       "    </tr>\n",
       "  </tbody>\n",
       "</table>\n",
       "</div>"
      ],
      "text/plain": [
       "      AS_OF_DATE  AVG_BOOK_BAL_SUM  BRANCH_CODE  COMMON_COA_ID  \\\n",
       "163  30-JUN-2022           1168.35         8707          12000   \n",
       "\n",
       "     CREDIT_RATING_CD  CREDIT_STATUS_CD  GL_ACCOUNT_ID  ORG_UNIT_ID  \\\n",
       "163                 0                 0   120100113111        31317   \n",
       "\n",
       "     RECORD_COUNT      AA_NUMBER    ACCOUNT_NO  ACCT_STATUS_CD  \\\n",
       "163             1  887072009P326  788707131148               1   \n",
       "\n",
       "     BNM_BALANCE_SUM    CUS_NO DATE_SHORTFALL DATE_REPOSSESSED  \\\n",
       "163             1168  10219566    01-JAN-1900      01-JAN-1900   \n",
       "\n",
       "    FINANCING_TYPE_CD FULL_WRITEOFF_FLG  GOODS_TYPE  \\\n",
       "163                 C                 N         2.0   \n",
       "\n",
       "     MTHS_INSTALLMENT_IN_ARREARS NEW_SHORTFALL_FLG NEW_REPOSSESSED_FLG  \\\n",
       "163                            0                 N                   N   \n",
       "\n",
       "    NEW_NPL_FLG NPL_FLG     NPL_DATE  ODI_OUTSTANDING_SUM  RISK_WEIGHTAGE_SUM  \\\n",
       "163           N       N  01-JAN-1900               269.67                 0.0   \n",
       "\n",
       "     RISK_WEIGHTED_AMT_SUM SHORTFALL_FLG SOURCE_PROD_TYPE_CD GOODS_STATUS  \\\n",
       "163                    0.0             N                  N1            N   \n",
       "\n",
       "     LEDGER_BAL_SUM  FINANCING_CONCEPT  M_SUB_MARKET_SEGMENT_CD  \\\n",
       "163         1168.35                0.0                      3.0   \n",
       "\n",
       "    PRODUCT_HIERARCHY_CD  \n",
       "163                   N1  "
      ]
     },
     "execution_count": 17,
     "metadata": {},
     "output_type": "execute_result"
    }
   ],
   "source": [
    "FRAN1.head(1)"
   ]
  },
  {
   "cell_type": "code",
   "execution_count": 43,
   "metadata": {},
   "outputs": [],
   "source": [
    "FRAN1 = FRAN.iloc[np.where((FRAN.LEDGER_BAL_SUM>=0)&\\\n",
    "                           ~(FRAN.ACCT_STATUS_CD.isin([3,41]))&\\\n",
    "                           (FRAN.FULL_WRITEOFF_FLG=='N')&\\\n",
    "                           ~(FRAN.BRANCH_CODE.isin([8703,8734,8735,9703,9734,9735,8760,9760]))&\\\n",
    "                           (FRAN.RECORD_COUNT==1))]"
   ]
  },
  {
   "cell_type": "code",
   "execution_count": 54,
   "metadata": {},
   "outputs": [
    {
     "name": "stderr",
     "output_type": "stream",
     "text": [
      "D:\\anaconda3\\lib\\site-packages\\pandas\\core\\indexing.py:965: SettingWithCopyWarning: \n",
      "A value is trying to be set on a copy of a slice from a DataFrame.\n",
      "Try using .loc[row_indexer,col_indexer] = value instead\n",
      "\n",
      "See the caveats in the documentation: https://pandas.pydata.org/pandas-docs/stable/user_guide/indexing.html#returning-a-view-versus-a-copy\n",
      "  self.obj[item] = s\n"
     ]
    }
   ],
   "source": [
    "FRAN1.loc[FRAN1.SHORTFALL_FLG=='Y','ageing_range'] ='h:Shortfall'\n",
    "FRAN1.loc[~(FRAN1.DATE_REPOSSESSED.isnull())|~(FRAN1.DATE_REPOSSESSED=='01-JAN-1900'),'ageing_range'] ='g:Repossessed'\n",
    "FRAN1.loc[FRAN1.MTHS_INSTALLMENT_IN_ARREARS==0,'ageing_range'] ='Prompt'\n",
    "FRAN1.loc[FRAN1.MTHS_INSTALLMENT_IN_ARREARS==1,'ageing_range'] ='1 mia'\n",
    "FRAN1.loc[FRAN1.MTHS_INSTALLMENT_IN_ARREARS==2,'ageing_range'] ='2 mia'\n",
    "FRAN1.loc[FRAN1.MTHS_INSTALLMENT_IN_ARREARS==3,'ageing_range'] ='3 mia'\n",
    "FRAN1.loc[(FRAN1.MTHS_INSTALLMENT_IN_ARREARS>=4)&(FRAN1.MTHS_INSTALLMENT_IN_ARREARS<=6),'ageing_range'] = '4-6 mths'\n",
    "FRAN1.loc[(FRAN1.MTHS_INSTALLMENT_IN_ARREARS>6),'ageing_range'] ='7 & Abv Mths'\n"
   ]
  },
  {
   "cell_type": "code",
   "execution_count": 55,
   "metadata": {},
   "outputs": [
    {
     "name": "stderr",
     "output_type": "stream",
     "text": [
      "D:\\anaconda3\\lib\\site-packages\\ipykernel_launcher.py:3: SettingWithCopyWarning: \n",
      "A value is trying to be set on a copy of a slice from a DataFrame.\n",
      "Try using .loc[row_indexer,col_indexer] = value instead\n",
      "\n",
      "See the caveats in the documentation: https://pandas.pydata.org/pandas-docs/stable/user_guide/indexing.html#returning-a-view-versus-a-copy\n",
      "  This is separate from the ipykernel package so we can avoid doing imports until\n",
      "D:\\anaconda3\\lib\\site-packages\\ipykernel_launcher.py:4: SettingWithCopyWarning: \n",
      "A value is trying to be set on a copy of a slice from a DataFrame.\n",
      "Try using .loc[row_indexer,col_indexer] = value instead\n",
      "\n",
      "See the caveats in the documentation: https://pandas.pydata.org/pandas-docs/stable/user_guide/indexing.html#returning-a-view-versus-a-copy\n",
      "  after removing the cwd from sys.path.\n"
     ]
    }
   ],
   "source": [
    "N2 = FRAN1.iloc[np.where(FRAN1.PRODUCT_HIERARCHY_CD.isin(['N2']))]\n",
    "N4 = FRAN1.iloc[np.where(FRAN1.PRODUCT_HIERARCHY_CD.isin(['N4']))]\n",
    "N2['NOA'] = 1\n",
    "N4['NOA'] = 1"
   ]
  },
  {
   "cell_type": "code",
   "execution_count": 56,
   "metadata": {},
   "outputs": [],
   "source": [
    "N2_1 = N2.groupby(['ageing_range'])[['NOA','ODI_OUTSTANDING_SUM','BNM_BALANCE_SUM']].sum().reset_index()\n",
    "N4_1 = N4.groupby(['ageing_range'])[['NOA','ODI_OUTSTANDING_SUM','BNM_BALANCE_SUM']].sum().reset_index()\n"
   ]
  },
  {
   "cell_type": "code",
   "execution_count": 57,
   "metadata": {},
   "outputs": [
    {
     "data": {
      "text/html": [
       "<div>\n",
       "<style scoped>\n",
       "    .dataframe tbody tr th:only-of-type {\n",
       "        vertical-align: middle;\n",
       "    }\n",
       "\n",
       "    .dataframe tbody tr th {\n",
       "        vertical-align: top;\n",
       "    }\n",
       "\n",
       "    .dataframe thead th {\n",
       "        text-align: right;\n",
       "    }\n",
       "</style>\n",
       "<table border=\"1\" class=\"dataframe\">\n",
       "  <thead>\n",
       "    <tr style=\"text-align: right;\">\n",
       "      <th></th>\n",
       "      <th>ageing_range</th>\n",
       "      <th>NOA</th>\n",
       "      <th>ODI_OUTSTANDING_SUM</th>\n",
       "      <th>BNM_BALANCE_SUM</th>\n",
       "    </tr>\n",
       "  </thead>\n",
       "  <tbody>\n",
       "    <tr>\n",
       "      <th>0</th>\n",
       "      <td>1 mia</td>\n",
       "      <td>117</td>\n",
       "      <td>1416.43</td>\n",
       "      <td>17972158</td>\n",
       "    </tr>\n",
       "    <tr>\n",
       "      <th>1</th>\n",
       "      <td>2 mia</td>\n",
       "      <td>94</td>\n",
       "      <td>7957.66</td>\n",
       "      <td>6673086</td>\n",
       "    </tr>\n",
       "    <tr>\n",
       "      <th>2</th>\n",
       "      <td>Prompt</td>\n",
       "      <td>2204</td>\n",
       "      <td>5266.54</td>\n",
       "      <td>213695967</td>\n",
       "    </tr>\n",
       "  </tbody>\n",
       "</table>\n",
       "</div>"
      ],
      "text/plain": [
       "  ageing_range   NOA  ODI_OUTSTANDING_SUM  BNM_BALANCE_SUM\n",
       "0        1 mia   117              1416.43         17972158\n",
       "1        2 mia    94              7957.66          6673086\n",
       "2       Prompt  2204              5266.54        213695967"
      ]
     },
     "execution_count": 57,
     "metadata": {},
     "output_type": "execute_result"
    }
   ],
   "source": [
    "N4_1"
   ]
  },
  {
   "cell_type": "code",
   "execution_count": 58,
   "metadata": {
    "scrolled": true
   },
   "outputs": [
    {
     "data": {
      "text/html": [
       "<div>\n",
       "<style scoped>\n",
       "    .dataframe tbody tr th:only-of-type {\n",
       "        vertical-align: middle;\n",
       "    }\n",
       "\n",
       "    .dataframe tbody tr th {\n",
       "        vertical-align: top;\n",
       "    }\n",
       "\n",
       "    .dataframe thead th {\n",
       "        text-align: right;\n",
       "    }\n",
       "</style>\n",
       "<table border=\"1\" class=\"dataframe\">\n",
       "  <thead>\n",
       "    <tr style=\"text-align: right;\">\n",
       "      <th></th>\n",
       "      <th>ageing_range</th>\n",
       "      <th>NOA</th>\n",
       "      <th>ODI_OUTSTANDING_SUM</th>\n",
       "      <th>BNM_BALANCE_SUM</th>\n",
       "    </tr>\n",
       "  </thead>\n",
       "  <tbody>\n",
       "    <tr>\n",
       "      <th>0</th>\n",
       "      <td>1 mia</td>\n",
       "      <td>77135</td>\n",
       "      <td>435091.77</td>\n",
       "      <td>3239562152</td>\n",
       "    </tr>\n",
       "    <tr>\n",
       "      <th>1</th>\n",
       "      <td>2 mia</td>\n",
       "      <td>21511</td>\n",
       "      <td>329795.76</td>\n",
       "      <td>763464642</td>\n",
       "    </tr>\n",
       "    <tr>\n",
       "      <th>2</th>\n",
       "      <td>3 mia</td>\n",
       "      <td>5409</td>\n",
       "      <td>155725.59</td>\n",
       "      <td>170480405</td>\n",
       "    </tr>\n",
       "    <tr>\n",
       "      <th>3</th>\n",
       "      <td>4-6 mths</td>\n",
       "      <td>1044</td>\n",
       "      <td>40956.89</td>\n",
       "      <td>24377523</td>\n",
       "    </tr>\n",
       "    <tr>\n",
       "      <th>4</th>\n",
       "      <td>7 &amp; Abv Mths</td>\n",
       "      <td>2332</td>\n",
       "      <td>292899.02</td>\n",
       "      <td>63343000</td>\n",
       "    </tr>\n",
       "    <tr>\n",
       "      <th>5</th>\n",
       "      <td>Prompt</td>\n",
       "      <td>644766</td>\n",
       "      <td>762832.65</td>\n",
       "      <td>30218567600</td>\n",
       "    </tr>\n",
       "  </tbody>\n",
       "</table>\n",
       "</div>"
      ],
      "text/plain": [
       "   ageing_range     NOA  ODI_OUTSTANDING_SUM  BNM_BALANCE_SUM\n",
       "0         1 mia   77135            435091.77       3239562152\n",
       "1         2 mia   21511            329795.76        763464642\n",
       "2         3 mia    5409            155725.59        170480405\n",
       "3      4-6 mths    1044             40956.89         24377523\n",
       "4  7 & Abv Mths    2332            292899.02         63343000\n",
       "5        Prompt  644766            762832.65      30218567600"
      ]
     },
     "execution_count": 58,
     "metadata": {},
     "output_type": "execute_result"
    }
   ],
   "source": [
    "N2_1"
   ]
  },
  {
   "cell_type": "code",
   "execution_count": 39,
   "metadata": {
    "scrolled": true
   },
   "outputs": [
    {
     "name": "stderr",
     "output_type": "stream",
     "text": [
      "D:\\anaconda3\\lib\\site-packages\\pandas\\core\\indexing.py:844: SettingWithCopyWarning: \n",
      "A value is trying to be set on a copy of a slice from a DataFrame.\n",
      "Try using .loc[row_indexer,col_indexer] = value instead\n",
      "\n",
      "See the caveats in the documentation: https://pandas.pydata.org/pandas-docs/stable/user_guide/indexing.html#returning-a-view-versus-a-copy\n",
      "  self.obj[key] = _infer_fill_value(value)\n",
      "D:\\anaconda3\\lib\\site-packages\\pandas\\core\\indexing.py:965: SettingWithCopyWarning: \n",
      "A value is trying to be set on a copy of a slice from a DataFrame.\n",
      "Try using .loc[row_indexer,col_indexer] = value instead\n",
      "\n",
      "See the caveats in the documentation: https://pandas.pydata.org/pandas-docs/stable/user_guide/indexing.html#returning-a-view-versus-a-copy\n",
      "  self.obj[item] = s\n"
     ]
    }
   ],
   "source": []
  },
  {
   "cell_type": "code",
   "execution_count": 43,
   "metadata": {},
   "outputs": [
    {
     "data": {
      "text/html": [
       "<div>\n",
       "<style scoped>\n",
       "    .dataframe tbody tr th:only-of-type {\n",
       "        vertical-align: middle;\n",
       "    }\n",
       "\n",
       "    .dataframe tbody tr th {\n",
       "        vertical-align: top;\n",
       "    }\n",
       "\n",
       "    .dataframe thead th {\n",
       "        text-align: right;\n",
       "    }\n",
       "</style>\n",
       "<table border=\"1\" class=\"dataframe\">\n",
       "  <thead>\n",
       "    <tr style=\"text-align: right;\">\n",
       "      <th></th>\n",
       "      <th>AS_OF_DATE</th>\n",
       "      <th>BRANCH_CODE</th>\n",
       "      <th>CREDIT_RATING_CD</th>\n",
       "      <th>GL_ACCOUNT_ID</th>\n",
       "      <th>INTEREST_RATE_CD</th>\n",
       "      <th>ID_NUMBER</th>\n",
       "      <th>AA_NUMBER</th>\n",
       "      <th>ACCOUNT_NO</th>\n",
       "      <th>ACCT_STATUS_CD</th>\n",
       "      <th>BNM_BALANCE_SUM</th>\n",
       "      <th>FULL_WRITEOFF_FLG</th>\n",
       "      <th>FINANCING_TYPE_CD</th>\n",
       "      <th>RISK_WEIGHTAGE_SUM</th>\n",
       "      <th>RISK_WEIGHTED_AMT_SUM</th>\n",
       "      <th>SHORTFALL_FLG</th>\n",
       "      <th>SOURCE_PROD_TYPE_CD</th>\n",
       "      <th>CREDIT_STATUS_CD</th>\n",
       "      <th>FINANCING_CONCEPT</th>\n",
       "      <th>PRODUCT_HIERARCHY_CD</th>\n",
       "      <th>M_CUSTOMER_SEGMENT_CD</th>\n",
       "      <th>M_SUB_MARKET_SEGMENT_CD</th>\n",
       "      <th>GOODS_STATUS</th>\n",
       "      <th>M_ENTITY_CD</th>\n",
       "      <th>INSTALLMENT_IN_ARREARS_SUM</th>\n",
       "      <th>CUS_NO</th>\n",
       "      <th>COMMON_COA_ID</th>\n",
       "      <th>AVG_BOOK_BAL_SUM</th>\n",
       "      <th>GOODS_TYPE</th>\n",
       "      <th>MTHS_INSTALLMENT_IN_ARREARS</th>\n",
       "      <th>ageing_range</th>\n",
       "    </tr>\n",
       "  </thead>\n",
       "  <tbody>\n",
       "    <tr>\n",
       "      <th>14298</th>\n",
       "      <td>31-JUL-2022</td>\n",
       "      <td>9834</td>\n",
       "      <td>0</td>\n",
       "      <td>120103113111</td>\n",
       "      <td>0</td>\n",
       "      <td>7898345585681</td>\n",
       "      <td>898342019P1251</td>\n",
       "      <td>789834558568</td>\n",
       "      <td>38</td>\n",
       "      <td>55061</td>\n",
       "      <td>N</td>\n",
       "      <td>I</td>\n",
       "      <td>100.0</td>\n",
       "      <td>0.0</td>\n",
       "      <td>Y</td>\n",
       "      <td>N2</td>\n",
       "      <td>0</td>\n",
       "      <td>0.0</td>\n",
       "      <td>N2</td>\n",
       "      <td>4.0</td>\n",
       "      <td>3</td>\n",
       "      <td>U</td>\n",
       "      <td>MIB</td>\n",
       "      <td>0.0</td>\n",
       "      <td>16125611</td>\n",
       "      <td>12000</td>\n",
       "      <td>55061.08</td>\n",
       "      <td>2.0</td>\n",
       "      <td>0</td>\n",
       "      <td>h:Shortfall</td>\n",
       "    </tr>\n",
       "    <tr>\n",
       "      <th>15051</th>\n",
       "      <td>31-JUL-2022</td>\n",
       "      <td>9841</td>\n",
       "      <td>0</td>\n",
       "      <td>120103113111</td>\n",
       "      <td>0</td>\n",
       "      <td>7898412757221</td>\n",
       "      <td>898412017P5420</td>\n",
       "      <td>789841275722</td>\n",
       "      <td>38</td>\n",
       "      <td>65347</td>\n",
       "      <td>N</td>\n",
       "      <td>I</td>\n",
       "      <td>100.0</td>\n",
       "      <td>0.0</td>\n",
       "      <td>Y</td>\n",
       "      <td>N2</td>\n",
       "      <td>0</td>\n",
       "      <td>0.0</td>\n",
       "      <td>N2</td>\n",
       "      <td>4.0</td>\n",
       "      <td>3</td>\n",
       "      <td>R</td>\n",
       "      <td>MIB</td>\n",
       "      <td>0.0</td>\n",
       "      <td>2726097</td>\n",
       "      <td>12000</td>\n",
       "      <td>65347.48</td>\n",
       "      <td>2.0</td>\n",
       "      <td>0</td>\n",
       "      <td>h:Shortfall</td>\n",
       "    </tr>\n",
       "    <tr>\n",
       "      <th>15391</th>\n",
       "      <td>31-JUL-2022</td>\n",
       "      <td>9843</td>\n",
       "      <td>0</td>\n",
       "      <td>120103113111</td>\n",
       "      <td>0</td>\n",
       "      <td>7898431987931</td>\n",
       "      <td>898432013P2585</td>\n",
       "      <td>789843198793</td>\n",
       "      <td>38</td>\n",
       "      <td>50531</td>\n",
       "      <td>N</td>\n",
       "      <td>I</td>\n",
       "      <td>100.0</td>\n",
       "      <td>0.0</td>\n",
       "      <td>Y</td>\n",
       "      <td>N2</td>\n",
       "      <td>0</td>\n",
       "      <td>0.0</td>\n",
       "      <td>N2</td>\n",
       "      <td>4.0</td>\n",
       "      <td>3</td>\n",
       "      <td>R</td>\n",
       "      <td>MIB</td>\n",
       "      <td>49615.0</td>\n",
       "      <td>10774413</td>\n",
       "      <td>12000</td>\n",
       "      <td>50531.28</td>\n",
       "      <td>2.0</td>\n",
       "      <td>0</td>\n",
       "      <td>h:Shortfall</td>\n",
       "    </tr>\n",
       "  </tbody>\n",
       "</table>\n",
       "</div>"
      ],
      "text/plain": [
       "        AS_OF_DATE  BRANCH_CODE  CREDIT_RATING_CD  GL_ACCOUNT_ID  \\\n",
       "14298  31-JUL-2022         9834                 0   120103113111   \n",
       "15051  31-JUL-2022         9841                 0   120103113111   \n",
       "15391  31-JUL-2022         9843                 0   120103113111   \n",
       "\n",
       "       INTEREST_RATE_CD      ID_NUMBER       AA_NUMBER    ACCOUNT_NO  \\\n",
       "14298                 0  7898345585681  898342019P1251  789834558568   \n",
       "15051                 0  7898412757221  898412017P5420  789841275722   \n",
       "15391                 0  7898431987931  898432013P2585  789843198793   \n",
       "\n",
       "       ACCT_STATUS_CD  BNM_BALANCE_SUM FULL_WRITEOFF_FLG FINANCING_TYPE_CD  \\\n",
       "14298              38            55061                 N                 I   \n",
       "15051              38            65347                 N                 I   \n",
       "15391              38            50531                 N                 I   \n",
       "\n",
       "       RISK_WEIGHTAGE_SUM  RISK_WEIGHTED_AMT_SUM SHORTFALL_FLG  \\\n",
       "14298               100.0                    0.0             Y   \n",
       "15051               100.0                    0.0             Y   \n",
       "15391               100.0                    0.0             Y   \n",
       "\n",
       "      SOURCE_PROD_TYPE_CD  CREDIT_STATUS_CD  FINANCING_CONCEPT  \\\n",
       "14298                  N2                 0                0.0   \n",
       "15051                  N2                 0                0.0   \n",
       "15391                  N2                 0                0.0   \n",
       "\n",
       "      PRODUCT_HIERARCHY_CD  M_CUSTOMER_SEGMENT_CD  M_SUB_MARKET_SEGMENT_CD  \\\n",
       "14298                   N2                    4.0                        3   \n",
       "15051                   N2                    4.0                        3   \n",
       "15391                   N2                    4.0                        3   \n",
       "\n",
       "      GOODS_STATUS M_ENTITY_CD  INSTALLMENT_IN_ARREARS_SUM    CUS_NO  \\\n",
       "14298            U         MIB                         0.0  16125611   \n",
       "15051            R         MIB                         0.0   2726097   \n",
       "15391            R         MIB                     49615.0  10774413   \n",
       "\n",
       "       COMMON_COA_ID  AVG_BOOK_BAL_SUM  GOODS_TYPE  \\\n",
       "14298          12000          55061.08         2.0   \n",
       "15051          12000          65347.48         2.0   \n",
       "15391          12000          50531.28         2.0   \n",
       "\n",
       "       MTHS_INSTALLMENT_IN_ARREARS ageing_range  \n",
       "14298                            0  h:Shortfall  \n",
       "15051                            0  h:Shortfall  \n",
       "15391                            0  h:Shortfall  "
      ]
     },
     "execution_count": 43,
     "metadata": {},
     "output_type": "execute_result"
    }
   ],
   "source": [
    "FRAN1.iloc[np.where(FRAN1.ageing_range=='h:Shortfall')]"
   ]
  },
  {
   "cell_type": "code",
   "execution_count": 40,
   "metadata": {},
   "outputs": [],
   "source": [
    "a = FRAN1.groupby(['ageing_range','PRODUCT_HIERARCHY_CD'])[['BNM_BALANCE_SUM']].sum().reset_index()"
   ]
  },
  {
   "cell_type": "code",
   "execution_count": 41,
   "metadata": {},
   "outputs": [
    {
     "data": {
      "text/html": [
       "<div>\n",
       "<style scoped>\n",
       "    .dataframe tbody tr th:only-of-type {\n",
       "        vertical-align: middle;\n",
       "    }\n",
       "\n",
       "    .dataframe tbody tr th {\n",
       "        vertical-align: top;\n",
       "    }\n",
       "\n",
       "    .dataframe thead th {\n",
       "        text-align: right;\n",
       "    }\n",
       "</style>\n",
       "<table border=\"1\" class=\"dataframe\">\n",
       "  <thead>\n",
       "    <tr style=\"text-align: right;\">\n",
       "      <th></th>\n",
       "      <th>ageing_range</th>\n",
       "      <th>PRODUCT_HIERARCHY_CD</th>\n",
       "      <th>BNM_BALANCE_SUM</th>\n",
       "    </tr>\n",
       "  </thead>\n",
       "  <tbody>\n",
       "    <tr>\n",
       "      <th>0</th>\n",
       "      <td>h:Shortfall</td>\n",
       "      <td>N2</td>\n",
       "      <td>170939</td>\n",
       "    </tr>\n",
       "  </tbody>\n",
       "</table>\n",
       "</div>"
      ],
      "text/plain": [
       "  ageing_range PRODUCT_HIERARCHY_CD  BNM_BALANCE_SUM\n",
       "0  h:Shortfall                   N2           170939"
      ]
     },
     "execution_count": 41,
     "metadata": {},
     "output_type": "execute_result"
    }
   ],
   "source": [
    "a"
   ]
  },
  {
   "cell_type": "code",
   "execution_count": 41,
   "metadata": {},
   "outputs": [
    {
     "data": {
      "text/plain": [
       "I    2415\n",
       "Name: FINANCING_TYPE_CD, dtype: int64"
      ]
     },
     "execution_count": 41,
     "metadata": {},
     "output_type": "execute_result"
    }
   ],
   "source": [
    "N4.FINANCING_TYPE_CD.value_counts()"
   ]
  },
  {
   "cell_type": "code",
   "execution_count": 30,
   "metadata": {},
   "outputs": [
    {
     "data": {
      "text/plain": [
       "dtype('float64')"
      ]
     },
     "execution_count": 30,
     "metadata": {},
     "output_type": "execute_result"
    }
   ],
   "source": [
    "FRAN1.FINANCING_CONCEPT.dtypes"
   ]
  },
  {
   "cell_type": "code",
   "execution_count": null,
   "metadata": {},
   "outputs": [],
   "source": []
  }
 ],
 "metadata": {
  "kernelspec": {
   "display_name": "Python 3",
   "language": "python",
   "name": "python3"
  },
  "language_info": {
   "codemirror_mode": {
    "name": "ipython",
    "version": 3
   },
   "file_extension": ".py",
   "mimetype": "text/x-python",
   "name": "python",
   "nbconvert_exporter": "python",
   "pygments_lexer": "ipython3",
   "version": "3.7.6"
  }
 },
 "nbformat": 4,
 "nbformat_minor": 4
}
