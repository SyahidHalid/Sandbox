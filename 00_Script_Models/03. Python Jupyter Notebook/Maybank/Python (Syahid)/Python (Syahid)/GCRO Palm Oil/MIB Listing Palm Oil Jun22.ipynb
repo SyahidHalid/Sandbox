{
 "cells": [
  {
   "cell_type": "code",
   "execution_count": 1,
   "metadata": {},
   "outputs": [],
   "source": [
    "import numpy as np\n",
    "import pandas as pd\n",
    "import pandasql\n",
    "import sqlite3\n",
    "\n",
    "pd.set_option(\"display.max_columns\", None) \n",
    "pd.set_option(\"display.max_colwidth\", 1000) #huruf dlm column\n",
    "pd.set_option(\"display.max_rows\", 100)\n",
    "pd.set_option(\"display.precision\", 2) #2 titik perpuluhan\n"
   ]
  },
  {
   "cell_type": "code",
   "execution_count": 21,
   "metadata": {},
   "outputs": [],
   "source": [
    "PO_MIB = pd.read_excel(r'T:\\MIB Risk Management\\Credit Risk Analytics - Historical\\01_Reporting\\01_Monthly_Reporting\\15_Credit_GCRO_Letter\\202208\\Palm oil Jun22\\workings\\MIB Listings Palm Oil as at Jun22 - SH Final.xlsx', header = 2, sheet_name='MIB Jun22')\n",
    "\n",
    "PO_MY = pd.read_excel(r'T:\\MIB Risk Management\\Credit Risk Analytics - Historical\\01_Reporting\\01_Monthly_Reporting\\15_Credit_GCRO_Letter\\202208\\Palm oil Jun22\\workings\\MIB Listings Palm Oil as at Jun22 - SH Final.xlsx', header = 5, sheet_name='Master Jun22')\n"
   ]
  },
  {
   "cell_type": "code",
   "execution_count": 26,
   "metadata": {},
   "outputs": [],
   "source": [
    "Peat_RSME = pd.read_excel(r'S:\\Power BI\\Palm Oil (GCRO)\\New Microsoft Excel Worksheet.xlsx', sheet_name='Peat RSME')\n",
    "\n",
    "Peat_CBBB = pd.read_excel(r'S:\\Power BI\\Palm Oil (GCRO)\\New Microsoft Excel Worksheet.xlsx', sheet_name='Peat CBBB')\n"
   ]
  },
  {
   "cell_type": "code",
   "execution_count": 23,
   "metadata": {},
   "outputs": [],
   "source": [
    "PO_MIB = PO_MIB.fillna(0)\n",
    "PO_MIB.columns = PO_MIB.columns.str.replace(\" \", \"\").str.replace(\"\\n\", \"_\")\n",
    "\n",
    "PO_MY = PO_MY.fillna(0)\n",
    "PO_MY.columns = PO_MY.columns.str.replace(\" \", \"\").str.replace(\"\\n\", \"_\")"
   ]
  },
  {
   "cell_type": "code",
   "execution_count": null,
   "metadata": {},
   "outputs": [],
   "source": []
  },
  {
   "cell_type": "code",
   "execution_count": null,
   "metadata": {},
   "outputs": [],
   "source": []
  },
  {
   "cell_type": "code",
   "execution_count": null,
   "metadata": {},
   "outputs": [],
   "source": []
  },
  {
   "cell_type": "code",
   "execution_count": null,
   "metadata": {},
   "outputs": [],
   "source": []
  }
 ],
 "metadata": {
  "kernelspec": {
   "display_name": "Python 3 (ipykernel)",
   "language": "python",
   "name": "python3"
  },
  "language_info": {
   "codemirror_mode": {
    "name": "ipython",
    "version": 3
   },
   "file_extension": ".py",
   "mimetype": "text/x-python",
   "name": "python",
   "nbconvert_exporter": "python",
   "pygments_lexer": "ipython3",
   "version": "3.11.7"
  }
 },
 "nbformat": 4,
 "nbformat_minor": 4
}
