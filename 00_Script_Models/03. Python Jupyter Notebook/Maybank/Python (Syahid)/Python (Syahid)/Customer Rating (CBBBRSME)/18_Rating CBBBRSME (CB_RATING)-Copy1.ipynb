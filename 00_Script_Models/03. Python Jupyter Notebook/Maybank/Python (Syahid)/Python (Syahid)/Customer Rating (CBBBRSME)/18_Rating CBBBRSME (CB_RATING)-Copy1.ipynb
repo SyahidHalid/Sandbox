{
 "cells": [
  {
   "cell_type": "code",
   "execution_count": 11,
   "metadata": {},
   "outputs": [],
   "source": [
    "import numpy as np\n",
    "import pandas as pd\n",
    "import pandasql\n",
    "import sqlite3\n",
    "\n",
    "pd.set_option(\"display.max_columns\", None) \n",
    "pd.set_option(\"display.max_colwidth\", 1000) #huruf dlm column\n",
    "pd.set_option(\"display.max_rows\", 100)\n",
    "pd.set_option(\"display.precision\", 0) #2 titik perpuluhan\n",
    "\n",
    "\n",
    "date = '20211231'\n",
    "#jgn lupa rename nme file\n",
    "\n",
    "\n",
    "date1 = \"Dec'21\"\n",
    "GB = pd.read_excel(r'T:\\MIB Risk Management\\Credit Risk Analytics - Historical\\02_Data_Source\\01_Corporate_Financing\\01_Portfolio\\\\'+date+'\\working - SH\\GB Monthly Loan Outstanding '+date1+'.xlsx', sheet_name = 'SourceCM') \n",
    "#sheet_name='cb os by mkt seg 2'\n",
    "#sheet_name='SourceCM'\n",
    "\n",
    "\n",
    "description = pd.read_excel(r\"T:\\MIB Risk Management\\Credit Risk Analytics - Historical\\01_Reporting\\01_Monthly_Reporting\\Python\\User defined\\description.xlsx\", sheet_name='description')\n",
    "\n",
    "\n",
    "Report_Corp_CRDM = pd.read_excel(r'T:\\MIB Risk Management\\Credit Risk Analytics - Historical\\02_Data_Source\\11_CRRS\\\\'+date[:4]+'\\\\'+date+'\\Report_Corp_CRDM_'+date+'.xlsx')\n",
    "\n",
    "\n",
    "#x install pyxlsb so xleh import 2007 punya excel, engine='pyxlsb'\n",
    "date2 = 'Dec 2021'\n",
    "CRWA = pd.read_excel(r'T:\\MIB Risk Management\\Credit Risk Analytics - Historical\\02_Data_Source\\12_RDMS\\\\'+date+'\\working - SH\\CRWA '+date2+' Final (Domestic - All except Retail).xlsx', sheet_name='Context Id=162')\n",
    "#sheet_name='Context Id=139'\n",
    "#sheet_name='Context Id=162'\n",
    "\n",
    "\n",
    "List = pd.read_excel(r'T:\\MIB Risk Management\\Credit Risk Analytics - Historical\\02_Data_Source\\12_RDMS\\\\'+date+'\\working - SH\\List Master Listing '+date+'.xlsx')\n",
    "#, sheet_name='Sheet2'"
   ]
  },
  {
   "cell_type": "code",
   "execution_count": 12,
   "metadata": {},
   "outputs": [
    {
     "name": "stderr",
     "output_type": "stream",
     "text": [
      "D:\\anaconda3\\lib\\site-packages\\pandas\\core\\generic.py:5303: SettingWithCopyWarning: \n",
      "A value is trying to be set on a copy of a slice from a DataFrame.\n",
      "Try using .loc[row_indexer,col_indexer] = value instead\n",
      "\n",
      "See the caveats in the documentation: https://pandas.pydata.org/pandas-docs/stable/user_guide/indexing.html#returning-a-view-versus-a-copy\n",
      "  self[name] = value\n"
     ]
    }
   ],
   "source": [
    "GB.columns = GB.columns.str.strip()\n",
    "GB.columns = GB.columns.str.upper()\n",
    "GB.columns = GB.columns.str.replace(\" \",\"_\")\n",
    "\n",
    "GB.M_CUS_NO = GB.M_CUS_NO.astype(str)\n",
    "\n",
    "#case 20220831\n",
    "#GB['M_CUS_NO'] = GB['M_CUS_NO'].astype('Int64').astype('str')\n",
    "\n",
    "GB.M_FINANCING_TYPE_CD = GB.M_FINANCING_TYPE_CD.str.strip()\n",
    "GB.M_FINANCING_TYPE_CD = GB.M_FINANCING_TYPE_CD.str.upper()\n",
    "\n",
    "GB.FACILITY = GB.FACILITY.str.strip()\n",
    "GB.FACILITY = GB.FACILITY.str.upper()\n",
    "\n",
    "#case 20211231,20220331,20210930 nme M_BNM_BALANCE_SUM_1\n",
    "#GB['M_BNM_BALANCE_SUM']=GB['M_BNM_BALANCE_SUM_1']\n",
    "\n",
    "#M_BNM_BALANCE_SUM 20220731\n",
    "GB.M_BNM_BALANCE_SUM.fillna(0, inplace=True)\n",
    "\n",
    "GB1 = GB.iloc[np.where((GB.M_FINANCING_TYPE_CD=='I')&(GB.FACILITY!='RTO'))]\n",
    "\n",
    "\n",
    "#case 20211231\n",
    "#check M_MSIC_CODE kat excel n let type as general sbb klau x dia jd time value\n",
    "\n",
    "GB1=GB1[['M_CUS_NO','NAME','M_MSIC_CODE','M_BNM_BALANCE_SUM']]\n",
    "\n",
    "GB1 = GB1.fillna(0).groupby(['M_CUS_NO','NAME','M_MSIC_CODE'])[['M_BNM_BALANCE_SUM']].sum().reset_index().sort_values(by='M_BNM_BALANCE_SUM', ascending=False)\n",
    "\n",
    "\n",
    "description.columns = description.columns.str.strip()\n",
    "description.columns = description.columns.str.replace(\" \", \"_\")\n",
    "description.columns = description.columns.str.upper()\n",
    "\n",
    "description.ISC_NOB = description.ISC_NOB.map(str)\n",
    "description.ISC_NOB = description.ISC_NOB.str.strip()\n",
    "description.ISC_NOB = description.ISC_NOB.str.upper()\n",
    "\n",
    "GB1.M_MSIC_CODE = GB1.M_MSIC_CODE.map(str)\n",
    "GB1.M_MSIC_CODE = GB1.M_MSIC_CODE.str.strip()\n",
    "GB1.M_MSIC_CODE = GB1.M_MSIC_CODE.str.upper()\n",
    "\n",
    "join_A = GB1.merge(description[['ISC_NOB','INDUSTRIAL_SECTOR_CODE_(ISC_DESC)2','ISC_PARENT']].drop_duplicates().rename(columns = {'ISC_NOB':'M_MSIC_CODE'}), on='M_MSIC_CODE', how='left').drop('M_BNM_BALANCE_SUM', axis=1)\n",
    "\n",
    "\n",
    "Report_Corp_CRDM.columns = Report_Corp_CRDM.columns.str.strip()\n",
    "Report_Corp_CRDM.columns = Report_Corp_CRDM.columns.str.upper()\n",
    "Report_Corp_CRDM.columns = Report_Corp_CRDM.columns.str.replace(\" \",\"_\")\n",
    "\n",
    "Report_Corp_CRDM1 = Report_Corp_CRDM[['GCIF_NUM','RDMS_ADJ_BRR']]\n",
    "\n",
    "Report_Corp_CRDM1.GCIF_NUM = Report_Corp_CRDM1.GCIF_NUM.map(str)\n",
    "Report_Corp_CRDM1.GCIF_NUM = Report_Corp_CRDM1.GCIF_NUM.str.strip()\n",
    "Report_Corp_CRDM1.GCIF_NUM = Report_Corp_CRDM1.GCIF_NUM.str.upper()\n",
    "\n",
    "join_A.M_CUS_NO = join_A.M_CUS_NO.map(str)\n",
    "join_A.M_CUS_NO = join_A.M_CUS_NO.str.strip()\n",
    "join_A.M_CUS_NO = join_A.M_CUS_NO.str.upper()\n",
    "\n",
    "#case 20210630\n",
    "#join_A['M_CUS_NO'] = join_A['M_CUS_NO'].str[:-2]\n",
    "\n",
    "join_B = join_A.merge(Report_Corp_CRDM1.rename(columns = {'GCIF_NUM':'M_CUS_NO'}).drop_duplicates(), on='M_CUS_NO', how='left')\n",
    "\n",
    "\n",
    "\n",
    "\n",
    "CRWA.columns = CRWA.columns.str.strip()\n",
    "CRWA.columns = CRWA.columns.str.upper()\n",
    "CRWA.columns = CRWA.columns.str.replace(\" \",\"_\")\n",
    "\n",
    "CRWA1 = CRWA[['COUNTERPARTY_ORIGINAL','CUSTOMER_FIELD19','INTERNAL_RATING_ORIGINAL']]\n",
    "\n",
    "CRWA1.COUNTERPARTY_ORIGINAL = CRWA1.COUNTERPARTY_ORIGINAL.map(str)\n",
    "CRWA1.COUNTERPARTY_ORIGINAL = CRWA1.COUNTERPARTY_ORIGINAL.str.strip()\n",
    "CRWA1.COUNTERPARTY_ORIGINAL = CRWA1.COUNTERPARTY_ORIGINAL.str.upper()\n",
    "\n",
    "join_C = join_B.merge(CRWA1.rename(columns = {'COUNTERPARTY_ORIGINAL':'M_CUS_NO'}).drop_duplicates('M_CUS_NO'), on='M_CUS_NO', how='left').drop_duplicates()\n",
    "\n",
    "\n",
    "def PSE_SOV(CUSTOMER_FIELD19):\n",
    "    if CUSTOMER_FIELD19 == 'PSE(SA)':\n",
    "        return \"PSE\"\n",
    "    elif CUSTOMER_FIELD19 == 'SOV(SA)':\n",
    "        return \"SOV\"\n",
    "#    else:\n",
    "#        return \"Unrated\"\n",
    "join_C['PSE/SOV'] = join_C.CUSTOMER_FIELD19.apply(PSE_SOV)\n",
    "\n",
    "List.columns = List.columns.str.strip()\n",
    "List.columns = List.columns.str.upper()\n",
    "List.columns = List.columns.str.replace(\" \",\"_\")\n",
    "\n",
    "List.GCIF_CHILD = List.GCIF_CHILD.map(str)\n",
    "List.GCIF_CHILD = List.GCIF_CHILD.str.strip()\n",
    "List.GCIF_CHILD = List.GCIF_CHILD.str.upper()\n",
    "\n",
    "join_D = join_C.merge(List.rename(columns={\"GCIF_CHILD\":\"M_CUS_NO\"}).drop_duplicates(), on='M_CUS_NO', how='left').drop_duplicates()\n",
    "\n",
    "\n",
    "#join_D.GCIF_PARENTS = join_D.GCIF_PARENTS.apply(lambda x: f'{x:.0f}')\n",
    "join_D.GCIF_PARENTS = join_D.GCIF_PARENTS.astype(str)\n",
    "join_D.GCIF_PARENTS = join_D.GCIF_PARENTS.str.strip()\n",
    "join_D.GCIF_PARENTS = join_D.GCIF_PARENTS.str.upper()\n",
    "\n",
    "join_D['GCIF_PARENTS1'] = join_D.GCIF_PARENTS.str[:-2]\n",
    "\n",
    "\n",
    "join_E = join_D.merge(join_D[['M_CUS_NO','INTERNAL_RATING_ORIGINAL']].rename(columns={'M_CUS_NO':'GCIF_PARENTS1','INTERNAL_RATING_ORIGINAL':'3RD_PARTY'}), on='GCIF_PARENTS1', how='left')\n",
    "\n",
    "\n",
    "join_E1 = join_E.merge(CRWA1.rename(columns = {'COUNTERPARTY_ORIGINAL':'GCIF_PARENTS1'}).drop_duplicates('GCIF_PARENTS1'), on='GCIF_PARENTS1', how='left',suffixes=('', '_y')).drop_duplicates()\n",
    "\n",
    "join_E1['CUSTOMER_FIELD19'] = join_E1.CUSTOMER_FIELD19\n",
    "join_E1.loc[join_E1['CUSTOMER_FIELD19'].isnull(),'CUSTOMER_FIELD19'] = join_E1.CUSTOMER_FIELD19_y\n",
    "\n",
    "\n",
    "join_E1['3RD_PARTY'] = join_E1['3RD_PARTY']\n",
    "join_E1.loc[join_E1['3RD_PARTY'].isnull(),'3RD_PARTY'] = join_E1.INTERNAL_RATING_ORIGINAL_y\n",
    "\n",
    "\n",
    "join_E2 = join_E1.merge(Report_Corp_CRDM1.rename(columns = {'GCIF_NUM':'GCIF_PARENTS1'}).drop_duplicates('GCIF_PARENTS1'), on='GCIF_PARENTS1', how='left',suffixes=('', '_y')).drop_duplicates()\n",
    "\n",
    "join_E2['3RD_PARTY'] = join_E2['3RD_PARTY']\n",
    "join_E2.loc[join_E2['3RD_PARTY'].isnull(),'3RD_PARTY'] = join_E2.RDMS_ADJ_BRR_y\n",
    "\n",
    "\n",
    "join_E2['FINAL_RATING'] = join_E2['INTERNAL_RATING_ORIGINAL']\n",
    "join_E2.loc[join_E2['FINAL_RATING'].isnull(),'FINAL_RATING'] = join_E2['3RD_PARTY']\n",
    "join_E2.loc[join_E2['FINAL_RATING'].isnull(),'FINAL_RATING'] = join_E2.RDMS_ADJ_BRR\n",
    "join_E2.loc[join_E2['FINAL_RATING'].isnull(),'FINAL_RATING'] = join_E2['PSE/SOV']\n",
    "join_E2.loc[join_E2['FINAL_RATING'].isnull(),'FINAL_RATING'] = \"Unrated\"\n",
    "\n",
    "\n",
    "join_E2.rename(columns={'M_MSIC_CODE':'BNM_SECTOR_CD',\\\n",
    "                       'INDUSTRIAL_SECTOR_CODE_(ISC_DESC)2':'SECTOR_DESC',\\\n",
    "                      'ISC_PARENT':'SECTOR_PARENT',\\\n",
    "                      'RDMS_ADJ_BRR':'CRRS',\\\n",
    "                      'INTERNAL_RATING_ORIGINAL':'RDMS',\\\n",
    "                      'GCIF_PARENTS1':'3RD_PARTY_PARENT'},inplace=True)\n",
    "\n",
    "join_E2['SEGMENT'] = '01. CB'\n",
    "\n",
    "join_E2 = join_E2[['M_CUS_NO',\\\n",
    "                'NAME',\\\n",
    "                'BNM_SECTOR_CD',\\\n",
    "                'SECTOR_DESC',\\\n",
    "                'SECTOR_PARENT',\\\n",
    "                'SEGMENT',\\\n",
    "                'RDMS',\\\n",
    "                'CUSTOMER_FIELD19',\\\n",
    "                'PSE/SOV',\\\n",
    "                'CRRS',\\\n",
    "                '3RD_PARTY_PARENT',\\\n",
    "                '3RD_PARTY',\\\n",
    "                'FINAL_RATING']]"
   ]
  },
  {
   "cell_type": "code",
   "execution_count": 15,
   "metadata": {
    "scrolled": true
   },
   "outputs": [],
   "source": [
    "writer2 = pd.ExcelWriter(r'T:\\MIB Risk Management\\Credit Risk Analytics - Historical\\01_Reporting\\01_Monthly_Reporting\\18_Rating_CBBBRSME\\BRR_CBBBRSME_'+date[:6]+'(python-new rules).xlsx',engine='xlsxwriter')\n",
    "\n",
    "join_E2.to_excel(writer2, index = False)\n",
    "\n",
    "writer2.save()"
   ]
  },
  {
   "cell_type": "code",
   "execution_count": null,
   "metadata": {},
   "outputs": [],
   "source": [
    "=='Unrated' !='N'"
   ]
  },
  {
   "cell_type": "code",
   "execution_count": 16,
   "metadata": {
    "scrolled": true
   },
   "outputs": [
    {
     "data": {
      "text/plain": [
       "(49, 13)"
      ]
     },
     "execution_count": 16,
     "metadata": {},
     "output_type": "execute_result"
    }
   ],
   "source": [
    "a = join_E2.iloc[np.where(join_E2['FINAL_RATING']=='Unrated')]\n",
    "a.shape"
   ]
  },
  {
   "cell_type": "code",
   "execution_count": null,
   "metadata": {},
   "outputs": [],
   "source": []
  },
  {
   "cell_type": "markdown",
   "metadata": {},
   "source": [
    "# FIX SECTION"
   ]
  },
  {
   "cell_type": "code",
   "execution_count": 13,
   "metadata": {},
   "outputs": [],
   "source": [
    "Nisa = pd.read_excel(r'T:\\MIB Risk Management\\Credit Risk Analytics - Historical\\01_Reporting\\01_Monthly_Reporting\\18_Rating_CBBBRSME\\BRR_CBBBRSME_202208.xlsx', sheet_name='Sheet1', header=0)\n",
    "\n",
    "Nisa.columns = Nisa.columns.str.replace(\" \",\"_\").str.upper()\n",
    "Nisa1 = Nisa.iloc[np.where(Nisa.SEGMENT=='01. CB')][['M_CUS_NO','FINAL_RATING']]"
   ]
  },
  {
   "cell_type": "code",
   "execution_count": 20,
   "metadata": {},
   "outputs": [],
   "source": [
    "Nisa['M_CUS_NO'] = Nisa['M_CUS_NO'].astype('Int64').astype('str')\n"
   ]
  },
  {
   "cell_type": "code",
   "execution_count": 55,
   "metadata": {
    "scrolled": true
   },
   "outputs": [],
   "source": [
    "CEK = join_E2.merge(Nisa[['M_CUS_NO','FINAL_RATING']],on='M_CUS_NO',how='left',indicator=True, suffixes=('','_y'))"
   ]
  },
  {
   "cell_type": "code",
   "execution_count": 56,
   "metadata": {
    "scrolled": true
   },
   "outputs": [
    {
     "data": {
      "text/plain": [
       "((551, 2), (518, 12), (518, 15))"
      ]
     },
     "execution_count": 56,
     "metadata": {},
     "output_type": "execute_result"
    }
   ],
   "source": [
    "Nisa1.shape, join_E.shape, CEK.shape"
   ]
  },
  {
   "cell_type": "code",
   "execution_count": 65,
   "metadata": {},
   "outputs": [],
   "source": [
    "#CEK._merge.value_counts()"
   ]
  },
  {
   "cell_type": "code",
   "execution_count": 64,
   "metadata": {
    "scrolled": true
   },
   "outputs": [],
   "source": [
    "y = CEK.iloc[np.where(CEK.FINAL_RATING_y!='Unrated')]\n",
    "#y.iloc[np.where(y.FINAL_RATING=='Unrated')]"
   ]
  },
  {
   "cell_type": "code",
   "execution_count": 63,
   "metadata": {
    "scrolled": true
   },
   "outputs": [],
   "source": [
    "#CEK.iloc[np.where(CEK.M_CUS_NO.isin(['7051644','2182543','27777772','27777242']))]"
   ]
  },
  {
   "cell_type": "code",
   "execution_count": null,
   "metadata": {},
   "outputs": [],
   "source": []
  }
 ],
 "metadata": {
  "kernelspec": {
   "display_name": "Python 3",
   "language": "python",
   "name": "python3"
  },
  "language_info": {
   "codemirror_mode": {
    "name": "ipython",
    "version": 3
   },
   "file_extension": ".py",
   "mimetype": "text/x-python",
   "name": "python",
   "nbconvert_exporter": "python",
   "pygments_lexer": "ipython3",
   "version": "3.7.6"
  }
 },
 "nbformat": 4,
 "nbformat_minor": 4
}
