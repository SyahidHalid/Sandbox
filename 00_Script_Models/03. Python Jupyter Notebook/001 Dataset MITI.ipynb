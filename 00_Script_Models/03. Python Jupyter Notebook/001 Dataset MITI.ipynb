{
 "cells": [
  {
   "cell_type": "code",
   "execution_count": 1,
   "id": "ffe678a5",
   "metadata": {},
   "outputs": [],
   "source": [
    "import pandas as pd\n",
    "import numpy as np"
   ]
  },
  {
   "cell_type": "code",
   "execution_count": 3,
   "id": "29766d3c",
   "metadata": {},
   "outputs": [],
   "source": [
    "MITI = pd.read_excel(r'C:\\Users\\syahidhalid\\OneDrive - Export-Import Bank of Malaysia (EXIM Bank)\\Desktop\\Work\\01 FAZLEE\\MITI\\DataSet-MITI as at 08072023.xlsx')"
   ]
  },
  {
   "cell_type": "code",
   "execution_count": 4,
   "id": "f40a6f34",
   "metadata": {},
   "outputs": [
    {
     "data": {
      "text/html": [
       "<div>\n",
       "<style scoped>\n",
       "    .dataframe tbody tr th:only-of-type {\n",
       "        vertical-align: middle;\n",
       "    }\n",
       "\n",
       "    .dataframe tbody tr th {\n",
       "        vertical-align: top;\n",
       "    }\n",
       "\n",
       "    .dataframe thead th {\n",
       "        text-align: right;\n",
       "    }\n",
       "</style>\n",
       "<table border=\"1\" class=\"dataframe\">\n",
       "  <thead>\n",
       "    <tr style=\"text-align: right;\">\n",
       "      <th></th>\n",
       "      <th>Bil.</th>\n",
       "      <th>Tajuk</th>\n",
       "      <th>Pembekal</th>\n",
       "      <th>Kluster</th>\n",
       "      <th>Keterangan</th>\n",
       "      <th>Status</th>\n",
       "      <th>Tarikh Cipta</th>\n",
       "      <th>Tarikh Kemaskini</th>\n",
       "      <th>Tindakan</th>\n",
       "      <th>Justifikasi</th>\n",
       "    </tr>\n",
       "  </thead>\n",
       "  <tbody>\n",
       "    <tr>\n",
       "      <th>0</th>\n",
       "      <td>1</td>\n",
       "      <td>Industri Getah</td>\n",
       "      <td>Kementerian Perdagangan Antarabangsa dan Indus...</td>\n",
       "      <td>Perdagangan Antarabangsa</td>\n",
       "      <td>Eksport dan Import Getah untuk Tahun 2019 sehi...</td>\n",
       "      <td>Set Data Pindaan</td>\n",
       "      <td>27/06/2022 9:43 pm</td>\n",
       "      <td>13/07/2022 10:14 am</td>\n",
       "      <td>\\n        \\n            \\n                \\n  ...</td>\n",
       "      <td>NaN</td>\n",
       "    </tr>\n",
       "  </tbody>\n",
       "</table>\n",
       "</div>"
      ],
      "text/plain": [
       "   Bil.           Tajuk                                           Pembekal  \\\n",
       "0     1  Industri Getah  Kementerian Perdagangan Antarabangsa dan Indus...   \n",
       "\n",
       "                    Kluster  \\\n",
       "0  Perdagangan Antarabangsa   \n",
       "\n",
       "                                          Keterangan            Status  \\\n",
       "0  Eksport dan Import Getah untuk Tahun 2019 sehi...  Set Data Pindaan   \n",
       "\n",
       "         Tarikh Cipta     Tarikh Kemaskini  \\\n",
       "0  27/06/2022 9:43 pm  13/07/2022 10:14 am   \n",
       "\n",
       "                                            Tindakan  Justifikasi  \n",
       "0  \\n        \\n            \\n                \\n  ...          NaN  "
      ]
     },
     "execution_count": 4,
     "metadata": {},
     "output_type": "execute_result"
    }
   ],
   "source": [
    "MITI.head(1)"
   ]
  },
  {
   "cell_type": "code",
   "execution_count": 5,
   "id": "d2907a54",
   "metadata": {},
   "outputs": [
    {
     "data": {
      "text/plain": [
       "(405, 10)"
      ]
     },
     "execution_count": 5,
     "metadata": {},
     "output_type": "execute_result"
    }
   ],
   "source": [
    "MITI.shape"
   ]
  },
  {
   "cell_type": "code",
   "execution_count": 10,
   "id": "bac44484",
   "metadata": {},
   "outputs": [
    {
     "data": {
      "text/plain": [
       "Set Data Terbit     345\n",
       "Set Data Dihapus     46\n",
       "Set Data Pindaan     10\n",
       "Set Data Ditolak      3\n",
       "Set Data Draf         1\n",
       "Name: Status, dtype: int64"
      ]
     },
     "execution_count": 10,
     "metadata": {},
     "output_type": "execute_result"
    }
   ],
   "source": [
    "MITI['Status'].value_counts()"
   ]
  },
  {
   "cell_type": "code",
   "execution_count": 7,
   "id": "3ed96460",
   "metadata": {},
   "outputs": [
    {
     "data": {
      "text/plain": [
       "Kementerian Perdagangan Antarabangsa dan Industri (MITI)     132\n",
       "Malaysia External Trade Development Corporation (MATRADE)     66\n",
       "Malaysia Productivity Corporation (MPC)                       51\n",
       "Institut Automotif, Robotik dan IoT Malaysia (MARii)          41\n",
       "Export-Import Bank of Malaysia Berhad (EXIM Bank)             32\n",
       "Malaysian Investment Development Authority (MIDA)             26\n",
       "Malaysian Industrial Development Finance (MIDF)               17\n",
       "MIMOS Berhad                                                  13\n",
       "Department of Standards Malaysia (JSM)                         9\n",
       "SIRIM Berhad                                                   8\n",
       "InvestKL                                                       6\n",
       "Malaysia Steel Institute (MSI)                                 4\n",
       "Name: Pembekal, dtype: int64"
      ]
     },
     "execution_count": 7,
     "metadata": {},
     "output_type": "execute_result"
    }
   ],
   "source": [
    "MITI['Pembekal'].value_counts()"
   ]
  },
  {
   "cell_type": "code",
   "execution_count": 8,
   "id": "0444e8a7",
   "metadata": {},
   "outputs": [
    {
     "data": {
      "text/plain": [
       "Lain-lain                   105\n",
       "Tiada Kluster                93\n",
       "Perdagangan Antarabangsa     87\n",
       "Pendaftaran Syarikat         44\n",
       "Statistik Kebangsaan         29\n",
       "Pendidikan                   13\n",
       "Pengangkutan                 11\n",
       "Pemetaan                      5\n",
       "Perundangan                   5\n",
       "Bajet                         4\n",
       "Bancian                       3\n",
       "Kontrak Awam                  2\n",
       "Alam Sekitar                  2\n",
       "Perbelanjaan Kerajaan         1\n",
       "Kesihatan                     1\n",
       "Name: Kluster, dtype: int64"
      ]
     },
     "execution_count": 8,
     "metadata": {},
     "output_type": "execute_result"
    }
   ],
   "source": [
    "MITI['Kluster'].value_counts()"
   ]
  },
  {
   "cell_type": "markdown",
   "id": "c9360bc4",
   "metadata": {},
   "source": [
    "# EXIM"
   ]
  },
  {
   "cell_type": "code",
   "execution_count": 13,
   "id": "aac64d9f",
   "metadata": {
    "scrolled": true
   },
   "outputs": [
    {
     "data": {
      "text/html": [
       "<div>\n",
       "<style scoped>\n",
       "    .dataframe tbody tr th:only-of-type {\n",
       "        vertical-align: middle;\n",
       "    }\n",
       "\n",
       "    .dataframe tbody tr th {\n",
       "        vertical-align: top;\n",
       "    }\n",
       "\n",
       "    .dataframe thead th {\n",
       "        text-align: right;\n",
       "    }\n",
       "</style>\n",
       "<table border=\"1\" class=\"dataframe\">\n",
       "  <thead>\n",
       "    <tr style=\"text-align: right;\">\n",
       "      <th></th>\n",
       "      <th>Bil.</th>\n",
       "      <th>Tajuk</th>\n",
       "      <th>Pembekal</th>\n",
       "      <th>Kluster</th>\n",
       "      <th>Keterangan</th>\n",
       "      <th>Status</th>\n",
       "      <th>Tarikh Cipta</th>\n",
       "      <th>Tarikh Kemaskini</th>\n",
       "      <th>Tindakan</th>\n",
       "      <th>Justifikasi</th>\n",
       "    </tr>\n",
       "  </thead>\n",
       "  <tbody>\n",
       "    <tr>\n",
       "      <th>24</th>\n",
       "      <td>25</td>\n",
       "      <td>EXIM Bank Trade Loans Approved By Corporate St...</td>\n",
       "      <td>Export-Import Bank of Malaysia Berhad (EXIM Bank)</td>\n",
       "      <td>Perdagangan Antarabangsa</td>\n",
       "      <td>This data set shows number of EXIM Bank trade ...</td>\n",
       "      <td>Set Data Terbit</td>\n",
       "      <td>12/12/2019 3:38 am</td>\n",
       "      <td>13/12/2019 3:41 am</td>\n",
       "      <td>\\n        \\n            \\n                \\n  ...</td>\n",
       "      <td>NaN</td>\n",
       "    </tr>\n",
       "    <tr>\n",
       "      <th>27</th>\n",
       "      <td>28</td>\n",
       "      <td>EXIM Bank Non Trade Loans Approved By Corporat...</td>\n",
       "      <td>Export-Import Bank of Malaysia Berhad (EXIM Bank)</td>\n",
       "      <td>Bajet</td>\n",
       "      <td>This dataset shows number of EXIM Bank non tra...</td>\n",
       "      <td>Set Data Terbit</td>\n",
       "      <td>03/12/2019 5:58 am</td>\n",
       "      <td>03/12/2019 8:39 am</td>\n",
       "      <td>\\n        \\n            \\n                \\n  ...</td>\n",
       "      <td>NaN</td>\n",
       "    </tr>\n",
       "  </tbody>\n",
       "</table>\n",
       "</div>"
      ],
      "text/plain": [
       "    Bil.                                              Tajuk  \\\n",
       "24    25  EXIM Bank Trade Loans Approved By Corporate St...   \n",
       "27    28  EXIM Bank Non Trade Loans Approved By Corporat...   \n",
       "\n",
       "                                             Pembekal  \\\n",
       "24  Export-Import Bank of Malaysia Berhad (EXIM Bank)   \n",
       "27  Export-Import Bank of Malaysia Berhad (EXIM Bank)   \n",
       "\n",
       "                     Kluster  \\\n",
       "24  Perdagangan Antarabangsa   \n",
       "27                     Bajet   \n",
       "\n",
       "                                           Keterangan           Status  \\\n",
       "24  This data set shows number of EXIM Bank trade ...  Set Data Terbit   \n",
       "27  This dataset shows number of EXIM Bank non tra...  Set Data Terbit   \n",
       "\n",
       "          Tarikh Cipta    Tarikh Kemaskini  \\\n",
       "24  12/12/2019 3:38 am  13/12/2019 3:41 am   \n",
       "27  03/12/2019 5:58 am  03/12/2019 8:39 am   \n",
       "\n",
       "                                             Tindakan  Justifikasi  \n",
       "24  \\n        \\n            \\n                \\n  ...          NaN  \n",
       "27  \\n        \\n            \\n                \\n  ...          NaN  "
      ]
     },
     "execution_count": 13,
     "metadata": {},
     "output_type": "execute_result"
    }
   ],
   "source": [
    "A = MITI.iloc[np.where(MITI['Pembekal']=='Export-Import Bank of Malaysia Berhad (EXIM Bank)')]\n",
    "A.head(2)"
   ]
  },
  {
   "cell_type": "code",
   "execution_count": 19,
   "id": "10848fc4",
   "metadata": {},
   "outputs": [
    {
     "data": {
      "text/html": [
       "<div>\n",
       "<style scoped>\n",
       "    .dataframe tbody tr th:only-of-type {\n",
       "        vertical-align: middle;\n",
       "    }\n",
       "\n",
       "    .dataframe tbody tr th {\n",
       "        vertical-align: top;\n",
       "    }\n",
       "\n",
       "    .dataframe thead th {\n",
       "        text-align: right;\n",
       "    }\n",
       "</style>\n",
       "<table border=\"1\" class=\"dataframe\">\n",
       "  <thead>\n",
       "    <tr style=\"text-align: right;\">\n",
       "      <th></th>\n",
       "      <th>Bil.</th>\n",
       "      <th>Tajuk</th>\n",
       "      <th>Pembekal</th>\n",
       "      <th>Kluster</th>\n",
       "      <th>Keterangan</th>\n",
       "      <th>Status</th>\n",
       "      <th>Tarikh Cipta</th>\n",
       "      <th>Tarikh Kemaskini</th>\n",
       "      <th>Tindakan</th>\n",
       "      <th>Justifikasi</th>\n",
       "    </tr>\n",
       "  </thead>\n",
       "  <tbody>\n",
       "    <tr>\n",
       "      <th>77</th>\n",
       "      <td>78</td>\n",
       "      <td>EXIM Bank's Credit Insurance By Sector</td>\n",
       "      <td>Export-Import Bank of Malaysia Berhad (EXIM Bank)</td>\n",
       "      <td>Tiada Kluster</td>\n",
       "      <td>This dataset shows the percentage of credit in...</td>\n",
       "      <td>Set Data Terbit</td>\n",
       "      <td>13/12/2018 2:30 pm</td>\n",
       "      <td>05/12/2019 8:11 am</td>\n",
       "      <td>\\n        \\n            \\n                \\n  ...</td>\n",
       "      <td>NaN</td>\n",
       "    </tr>\n",
       "    <tr>\n",
       "      <th>81</th>\n",
       "      <td>82</td>\n",
       "      <td>EXIM Bank's Credit Insurance By Region</td>\n",
       "      <td>Export-Import Bank of Malaysia Berhad (EXIM Bank)</td>\n",
       "      <td>Tiada Kluster</td>\n",
       "      <td>This dataset shows the percentage of credit in...</td>\n",
       "      <td>Set Data Terbit</td>\n",
       "      <td>10/12/2018 9:47 am</td>\n",
       "      <td>05/12/2019 8:09 am</td>\n",
       "      <td>\\n        \\n            \\n                \\n  ...</td>\n",
       "      <td>NaN</td>\n",
       "    </tr>\n",
       "  </tbody>\n",
       "</table>\n",
       "</div>"
      ],
      "text/plain": [
       "    Bil.                                   Tajuk  \\\n",
       "77    78  EXIM Bank's Credit Insurance By Sector   \n",
       "81    82  EXIM Bank's Credit Insurance By Region   \n",
       "\n",
       "                                             Pembekal        Kluster  \\\n",
       "77  Export-Import Bank of Malaysia Berhad (EXIM Bank)  Tiada Kluster   \n",
       "81  Export-Import Bank of Malaysia Berhad (EXIM Bank)  Tiada Kluster   \n",
       "\n",
       "                                           Keterangan           Status  \\\n",
       "77  This dataset shows the percentage of credit in...  Set Data Terbit   \n",
       "81  This dataset shows the percentage of credit in...  Set Data Terbit   \n",
       "\n",
       "          Tarikh Cipta    Tarikh Kemaskini  \\\n",
       "77  13/12/2018 2:30 pm  05/12/2019 8:11 am   \n",
       "81  10/12/2018 9:47 am  05/12/2019 8:09 am   \n",
       "\n",
       "                                             Tindakan  Justifikasi  \n",
       "77  \\n        \\n            \\n                \\n  ...          NaN  \n",
       "81  \\n        \\n            \\n                \\n  ...          NaN  "
      ]
     },
     "execution_count": 19,
     "metadata": {},
     "output_type": "execute_result"
    }
   ],
   "source": [
    "A.iloc[np.where(A.Tajuk.isin([\"EXIM Bank's Credit Insurance By Region\",\"EXIM Bank's Credit Insurance By Sector\"]))]"
   ]
  },
  {
   "cell_type": "code",
   "execution_count": 20,
   "id": "84da8bf7",
   "metadata": {},
   "outputs": [
    {
     "data": {
      "text/plain": [
       "Set Data Terbit     30\n",
       "Set Data Dihapus     2\n",
       "Name: Status, dtype: int64"
      ]
     },
     "execution_count": 20,
     "metadata": {},
     "output_type": "execute_result"
    }
   ],
   "source": [
    "A.Status.value_counts()"
   ]
  },
  {
   "cell_type": "code",
   "execution_count": 17,
   "id": "66ba3645",
   "metadata": {},
   "outputs": [
    {
     "data": {
      "text/plain": [
       "EXIM Bank Trade Loans Approved By Corporate Status                      1\n",
       "EXIM Bank Non Trade Loans Approved By Corporate Status                  1\n",
       "EXIM Bank's Credit Insurance By Region                                  1\n",
       "Classification of EXIM Bank's Loans by Contractual Maturity             1\n",
       "EXIM Bank's Credit Insurance By Sector                                  1\n",
       "EXIM Bank's Loan Performance                                            1\n",
       "Classification of EXIM Bank's  Loans by Country                         1\n",
       "Classification of EXIM Bank's Loans by Facility Currency                1\n",
       "Classification of EXIM Bank's Loans by Facility Type                    1\n",
       "Classification of EXIM Bank's Loans by Residency Status                 1\n",
       "Classification of EXIM Bank's Loans by Sector                           1\n",
       "EXIM Bank's Profitability Trending                                      1\n",
       "EXIM Bank’s Non-Trade Conventional Loan by Region                       1\n",
       "EXIM Bank’s Non-Trade Islamic Loan by Region                            1\n",
       "EXIM Bank’s Trade Conventional Loan by Region                           1\n",
       "EXIM Bank’s Trade Islamic Loan by Region                                1\n",
       "EXIM Bank's Employees by Level                                          1\n",
       "EXIM Bank's Employees by Gender                                         1\n",
       "Number of  EXIM Bank's Non-Trade Loans Approved by Sector               1\n",
       "Number of EXIM Bank's Non-Trade Loans Approved  by Country              1\n",
       "Number of  EXIM Bank's Non-Trade Loans Approved by Residency Status     1\n",
       "Number of  EXIM Bank's Non-Trade Loans Approved by Facility Currency    1\n",
       "Number of EXIM Bank's Non-Trade Loans Approved by Facility Type         1\n",
       "Number of  EXIM Bank's Trade Loans Approved by Country                  1\n",
       "Number of  EXIM Bank's Trade Loans Approved by Facility Currency        1\n",
       "Number of EXIM Bank's Trade Loans Approved by Facility Type             1\n",
       "Number of EXIM Bank's Trade Loans Approved by Residency Status          1\n",
       "Number of EXIM Bank's Trade Loans Approved by Sector (2013-2017)        1\n",
       "EXIM Bank's  number of employees in HQ office  by race                  1\n",
       "EXIM Bank's  number of employees in regional offices  by race           1\n",
       "Classification of EXIM Bank’s Loan by Corporate Status                  1\n",
       "EXIM Bank's  Asset Performance                                          1\n",
       "Name: Tajuk, dtype: int64"
      ]
     },
     "execution_count": 17,
     "metadata": {},
     "output_type": "execute_result"
    }
   ],
   "source": [
    "A.Tajuk.value_counts()"
   ]
  },
  {
   "cell_type": "code",
   "execution_count": 15,
   "id": "dcf3b653",
   "metadata": {},
   "outputs": [
    {
     "data": {
      "text/plain": [
       "Tiada Kluster               19\n",
       "Perdagangan Antarabangsa     6\n",
       "Lain-lain                    6\n",
       "Bajet                        1\n",
       "Name: Kluster, dtype: int64"
      ]
     },
     "execution_count": 15,
     "metadata": {},
     "output_type": "execute_result"
    }
   ],
   "source": [
    "A.Kluster.value_counts()"
   ]
  },
  {
   "cell_type": "code",
   "execution_count": 14,
   "id": "74238fe8",
   "metadata": {},
   "outputs": [
    {
     "data": {
      "text/plain": [
       "EXIM Bank Trade Loans Approved By Corporate Status                      1\n",
       "EXIM Bank Non Trade Loans Approved By Corporate Status                  1\n",
       "EXIM Bank's Credit Insurance By Region                                  1\n",
       "Classification of EXIM Bank's Loans by Contractual Maturity             1\n",
       "EXIM Bank's Credit Insurance By Sector                                  1\n",
       "EXIM Bank's Loan Performance                                            1\n",
       "Classification of EXIM Bank's  Loans by Country                         1\n",
       "Classification of EXIM Bank's Loans by Facility Currency                1\n",
       "Classification of EXIM Bank's Loans by Facility Type                    1\n",
       "Classification of EXIM Bank's Loans by Residency Status                 1\n",
       "Classification of EXIM Bank's Loans by Sector                           1\n",
       "EXIM Bank's Profitability Trending                                      1\n",
       "EXIM Bank’s Non-Trade Conventional Loan by Region                       1\n",
       "EXIM Bank’s Non-Trade Islamic Loan by Region                            1\n",
       "EXIM Bank’s Trade Conventional Loan by Region                           1\n",
       "EXIM Bank’s Trade Islamic Loan by Region                                1\n",
       "EXIM Bank's Employees by Level                                          1\n",
       "EXIM Bank's Employees by Gender                                         1\n",
       "Number of  EXIM Bank's Non-Trade Loans Approved by Sector               1\n",
       "Number of EXIM Bank's Non-Trade Loans Approved  by Country              1\n",
       "Number of  EXIM Bank's Non-Trade Loans Approved by Residency Status     1\n",
       "Number of  EXIM Bank's Non-Trade Loans Approved by Facility Currency    1\n",
       "Number of EXIM Bank's Non-Trade Loans Approved by Facility Type         1\n",
       "Number of  EXIM Bank's Trade Loans Approved by Country                  1\n",
       "Number of  EXIM Bank's Trade Loans Approved by Facility Currency        1\n",
       "Number of EXIM Bank's Trade Loans Approved by Facility Type             1\n",
       "Number of EXIM Bank's Trade Loans Approved by Residency Status          1\n",
       "Number of EXIM Bank's Trade Loans Approved by Sector (2013-2017)        1\n",
       "EXIM Bank's  number of employees in HQ office  by race                  1\n",
       "EXIM Bank's  number of employees in regional offices  by race           1\n",
       "Classification of EXIM Bank’s Loan by Corporate Status                  1\n",
       "EXIM Bank's  Asset Performance                                          1\n",
       "Name: Tajuk, dtype: int64"
      ]
     },
     "execution_count": 14,
     "metadata": {},
     "output_type": "execute_result"
    }
   ],
   "source": [
    "A.Tajuk.value_counts()"
   ]
  },
  {
   "cell_type": "code",
   "execution_count": null,
   "id": "ef676da8",
   "metadata": {},
   "outputs": [],
   "source": []
  }
 ],
 "metadata": {
  "kernelspec": {
   "display_name": "Python 3 (ipykernel)",
   "language": "python",
   "name": "python3"
  },
  "language_info": {
   "codemirror_mode": {
    "name": "ipython",
    "version": 3
   },
   "file_extension": ".py",
   "mimetype": "text/x-python",
   "name": "python",
   "nbconvert_exporter": "python",
   "pygments_lexer": "ipython3",
   "version": "3.11.3"
  }
 },
 "nbformat": 4,
 "nbformat_minor": 5
}
