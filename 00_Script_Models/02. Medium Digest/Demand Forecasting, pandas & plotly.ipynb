{
 "cells": [
  {
   "cell_type": "code",
   "execution_count": null,
   "id": "456d1c2e",
   "metadata": {},
   "outputs": [],
   "source": [
    "import pandas as pd\n",
    "\n",
    "# Load the data into a Pandas DataFrame\n",
    "df = pd.read_csv(\"energy_demand_data.csv\", parse_dates=[\"Date\"])\n",
    "\n",
    "# Explore the first few rows of the data\n",
    "print(df.head())\n",
    "\n",
    "# Basic statistics of the data\n",
    "print(df.describe())\n",
    "\n",
    "# Check for missing values\n",
    "print(df.isnull().sum())"
   ]
  },
  {
   "cell_type": "code",
   "execution_count": null,
   "id": "db8159a3",
   "metadata": {},
   "outputs": [],
   "source": [
    "# Set 'Date' as the DataFrame index\n",
    "df.set_index('Date', inplace=True)\n",
    "\n",
    "# Handle missing values (if any)\n",
    "df.fillna(method='ffill', inplace=True)"
   ]
  },
  {
   "cell_type": "code",
   "execution_count": null,
   "id": "38cbcef7",
   "metadata": {},
   "outputs": [],
   "source": [
    "window = 7  # Define the window size for the moving average\n",
    "df['Forecast'] = df['Energy_Demand'].rolling(window=window, min_periods=1).mean()"
   ]
  },
  {
   "cell_type": "code",
   "execution_count": null,
   "id": "6cfda2cd",
   "metadata": {},
   "outputs": [],
   "source": [
    "import plotly.graph_objects as go\n",
    "\n",
    "# Create Plotly figure\n",
    "fig = go.Figure()\n",
    "\n",
    "# Original energy demand\n",
    "fig.add_trace(go.Scatter(x=df.index, y=df['Energy_Demand'], mode='lines', name='Actual Demand'))\n",
    "\n",
    "# Forecasted energy demand\n",
    "fig.add_trace(go.Scatter(x=df.index, y=df['Forecast'], mode='lines', name='Forecasted Demand'))\n",
    "\n",
    "# Customize the layout\n",
    "fig.update_layout(title='Energy Demand Forecasting',\n",
    "                  xaxis_title='Date',\n",
    "                  yaxis_title='Energy Demand',\n",
    "                  legend_title='Legend',\n",
    "                  showlegend=True)\n",
    "\n",
    "# Display the interactive Plotly chart\n",
    "fig.show()"
   ]
  },
  {
   "cell_type": "code",
   "execution_count": null,
   "id": "93bbd129",
   "metadata": {},
   "outputs": [],
   "source": [
    "#Conclusion\n",
    "#Congratulations! You’ve successfully explored a simple algorithm to forecast energy demand using Python, Pandas, and Plotly. Understanding energy consumption patterns is vital for optimizing resource planning and promoting sustainable energy usage.\n",
    "\n",
    "#Remember, this is just the beginning of your data-driven journey. Feel free to experiment with advanced forecasting algorithms, explore larger datasets, and leverage more Plotly features to enhance your visualizations.\n",
    "\n",
    "#By predicting energy demand accurately, we can pave the way for a greener and more energy-efficient future.\n",
    "\n",
    "#Happy forecasting! 📈⚡️"
   ]
  }
 ],
 "metadata": {
  "kernelspec": {
   "display_name": "Python 3 (ipykernel)",
   "language": "python",
   "name": "python3"
  },
  "language_info": {
   "codemirror_mode": {
    "name": "ipython",
    "version": 3
   },
   "file_extension": ".py",
   "mimetype": "text/x-python",
   "name": "python",
   "nbconvert_exporter": "python",
   "pygments_lexer": "ipython3",
   "version": "3.11.3"
  }
 },
 "nbformat": 4,
 "nbformat_minor": 5
}
