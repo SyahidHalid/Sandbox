{
 "cells": [
  {
   "cell_type": "markdown",
   "id": "d213e96b-326e-4b1d-859a-8f3f33b8387f",
   "metadata": {},
   "source": [
    "# Power BI"
   ]
  },
  {
   "cell_type": "code",
   "execution_count": 1,
   "id": "309322b3-c807-4dfb-9067-289c3ae91a55",
   "metadata": {},
   "outputs": [],
   "source": [
    "#----------------------------------------------BI-------------------------------------------------------------\n",
    "\n",
    "import pandas as pd\n",
    "import numpy as np\n",
    "\n",
    "#warnings.filterwarnings('ignore')\n",
    "pd.set_option(\"display.max_columns\", None) \n",
    "pd.set_option(\"display.max_colwidth\", 1000) #huruf dlm column\n",
    "pd.set_option(\"display.max_rows\", 100)\n",
    "pd.set_option(\"display.precision\", 2) #2 titik perpuluhan\n",
    "\n",
    "year_a = 202401\n",
    "year_b = 202402\n",
    "year_c = 202403\n",
    "year_d = 202404\n",
    "year_e = 202405\n",
    "year_f = 202406\n",
    "year_g = 202407\n",
    "\n",
    "a = \"01. Income Statement Jan 2024 (python)\"\n",
    "b = \"02. Income Statement Feb 2024 (python)\"\n",
    "c = \"03. Income Statement Mar 2024 (python)\"\n",
    "d = \"04. Income Statement Apr 2024 (python)\"\n",
    "e = \"05. Income Statement May 2024 (python)\"\n",
    "f = \"06. Income Statement Jun 2024 (python)\"\n",
    "g = \"07. Income Statement Jul 2024 (python)\"\n",
    "\n",
    "Location = r\"C:\\\\Users\\\\syahidhalid\\\\Syahid_PC\\\\Analytics - FAD\\\\06. Management Account\"\n",
    "\n",
    "bi1 = pd.read_csv(str(Location)+\"\\\\\"+str(year_a)+\"\\\\\"+str(a)+\".txt\", sep = \",\", header = 0)\n",
    "bi2 = pd.read_csv(str(Location)+\"\\\\\"+str(year_b)+\"\\\\\"+str(b)+\".txt\", sep = \",\", header = 0)\n",
    "bi3 = pd.read_csv(str(Location)+\"\\\\\"+str(year_c)+\"\\\\\"+str(c)+\".txt\", sep = \",\", header = 0)\n",
    "bi4 = pd.read_csv(str(Location)+\"\\\\\"+str(year_d)+\"\\\\\"+str(d)+\".txt\", sep = \",\", header = 0)\n",
    "bi5 = pd.read_csv(str(Location)+\"\\\\\"+str(year_e)+\"\\\\\"+str(e)+\".txt\", sep = \",\", header = 0)\n",
    "bi6 = pd.read_csv(str(Location)+\"\\\\\"+str(year_f)+\"\\\\\"+str(f)+\".txt\", sep = \",\", header = 0)\n",
    "bi6 = pd.read_csv(str(Location)+\"\\\\\"+str(year_f)+\"\\\\\"+str(f)+\".txt\", sep = \",\", header = 0)\n",
    "bi7 = pd.read_csv(str(Location)+\"\\\\\"+str(year_g)+\"\\\\\"+str(g)+\".txt\", sep = \",\", header = 0)\n"
   ]
  },
  {
   "cell_type": "code",
   "execution_count": 2,
   "id": "07c4a589-ac58-4ca6-958e-face8c02d34d",
   "metadata": {},
   "outputs": [
    {
     "data": {
      "text/plain": [
       "'Jul 2024'"
      ]
     },
     "execution_count": 2,
     "metadata": {},
     "output_type": "execute_result"
    }
   ],
   "source": [
    "g[21:-9]"
   ]
  },
  {
   "cell_type": "code",
   "execution_count": 3,
   "id": "74a80cc3-b334-47de-981e-92f38d582690",
   "metadata": {},
   "outputs": [
    {
     "name": "stderr",
     "output_type": "stream",
     "text": [
      "C:\\Users\\syahidhalid\\AppData\\Local\\Temp\\3\\ipykernel_14224\\4266144094.py:17: UserWarning: Pandas doesn't allow columns to be created via a new attribute name - see https://pandas.pydata.org/pandas-docs/stable/indexing.html#attribute-access\n",
      "  bi1.columns = bi2.columns = bi3.columns = bi4.colums = bi5.columns = bi6.columns = bi7.columns\n"
     ]
    }
   ],
   "source": [
    "bi1.rename(columns={'YTD '+str(a[21:-9]):'YTD'}, inplace=True)\n",
    "bi2.rename(columns={'YTD '+str(b[21:-9]):'YTD'}, inplace=True)\n",
    "bi3.rename(columns={'YTD '+str(c[21:-9]):'YTD'}, inplace=True)\n",
    "bi4.rename(columns={'YTD '+str(d[21:-9]):'YTD'}, inplace=True)\n",
    "bi5.rename(columns={'YTD '+str(e[21:-9]):'YTD'}, inplace=True)\n",
    "bi6.rename(columns={'YTD '+str(f[21:-9]):'YTD'}, inplace=True)\n",
    "bi7.rename(columns={'YTD '+str(g[21:-9]):'YTD'}, inplace=True)\n",
    "\n",
    "bi1['Position'] = str(a[-13:-9])+''+str(a[:2])\n",
    "bi2['Position'] = str(b[-13:-9])+''+str(b[:2])\n",
    "bi3['Position'] = str(c[-13:-9])+''+str(c[:2])\n",
    "bi4['Position'] = str(d[-13:-9])+''+str(d[:2])\n",
    "bi5['Position'] = str(e[-13:-9])+''+str(e[:2])\n",
    "bi6['Position'] = str(f[-13:-9])+''+str(f[:2])\n",
    "bi7['Position'] = str(g[-13:-9])+''+str(g[:2])\n",
    "\n",
    "bi1.columns = bi2.columns = bi3.columns = bi4.colums = bi5.columns = bi6.columns = bi7.columns\n",
    "\n",
    "bi = pd.concat([bi1,bi2,bi3,bi4,bi5,bi6,bi7])\n"
   ]
  },
  {
   "cell_type": "code",
   "execution_count": 4,
   "id": "7eea39a7-97d9-4503-b89d-e36585032379",
   "metadata": {},
   "outputs": [
    {
     "data": {
      "text/plain": [
       "Item\n",
       "EXIM    3136\n",
       "EXIB     666\n",
       "EXTF     658\n",
       "0        615\n",
       "Name: count, dtype: int64"
      ]
     },
     "execution_count": 4,
     "metadata": {},
     "output_type": "execute_result"
    }
   ],
   "source": [
    "bi.Item.value_counts()"
   ]
  },
  {
   "cell_type": "code",
   "execution_count": 5,
   "id": "e56bce49-bc9b-4749-8493-de6ee5003b84",
   "metadata": {},
   "outputs": [],
   "source": [
    "bi.loc[bi.Item.isin(['EXIB','EXTF']),'Type of Financing'] = \"Islamic\"\n",
    "bi.loc[bi.Item.isin(['EXIM']),'Type of Financing'] = \"Conventional\""
   ]
  },
  {
   "cell_type": "code",
   "execution_count": 7,
   "id": "8d439a09-9752-4831-a634-91266c3766c8",
   "metadata": {},
   "outputs": [
    {
     "data": {
      "text/plain": [
       "Position\n",
       "202401    725\n",
       "202402    725\n",
       "202403    725\n",
       "202404    725\n",
       "202405    725\n",
       "202406    725\n",
       "202407    725\n",
       "Name: count, dtype: int64"
      ]
     },
     "execution_count": 7,
     "metadata": {},
     "output_type": "execute_result"
    }
   ],
   "source": [
    "bi.Position.fillna(0,inplace=True)\n",
    "bi.Position.value_counts()"
   ]
  },
  {
   "cell_type": "code",
   "execution_count": 8,
   "id": "02bb97f5-23a4-4936-a88f-4166757aa07f",
   "metadata": {},
   "outputs": [
    {
     "data": {
      "text/html": [
       "<div>\n",
       "<style scoped>\n",
       "    .dataframe tbody tr th:only-of-type {\n",
       "        vertical-align: middle;\n",
       "    }\n",
       "\n",
       "    .dataframe tbody tr th {\n",
       "        vertical-align: top;\n",
       "    }\n",
       "\n",
       "    .dataframe thead th {\n",
       "        text-align: right;\n",
       "    }\n",
       "</style>\n",
       "<table border=\"1\" class=\"dataframe\">\n",
       "  <thead>\n",
       "    <tr style=\"text-align: right;\">\n",
       "      <th></th>\n",
       "      <th>GL_Description</th>\n",
       "      <th>GL_Code_</th>\n",
       "      <th>GL_Category</th>\n",
       "      <th>GL_Description_2</th>\n",
       "      <th>Class</th>\n",
       "      <th>Item</th>\n",
       "      <th>YTD</th>\n",
       "      <th>Business_Category</th>\n",
       "      <th>Position</th>\n",
       "      <th>Type of Financing</th>\n",
       "    </tr>\n",
       "  </thead>\n",
       "  <tbody>\n",
       "    <tr>\n",
       "      <th>0</th>\n",
       "      <td>Interest Income - Trade Debtors - ECR (</td>\n",
       "      <td>400102</td>\n",
       "      <td>ECR Pre</td>\n",
       "      <td>Banking</td>\n",
       "      <td>Operating Revenue</td>\n",
       "      <td>EXIM</td>\n",
       "      <td>123636.9</td>\n",
       "      <td>Conventional</td>\n",
       "      <td>202401</td>\n",
       "      <td>Conventional</td>\n",
       "    </tr>\n",
       "  </tbody>\n",
       "</table>\n",
       "</div>"
      ],
      "text/plain": [
       "                            GL_Description GL_Code_ GL_Category  \\\n",
       "0  Interest Income - Trade Debtors - ECR (   400102     ECR Pre   \n",
       "\n",
       "  GL_Description_2              Class  Item       YTD Business_Category  \\\n",
       "0          Banking  Operating Revenue  EXIM  123636.9      Conventional   \n",
       "\n",
       "  Position Type of Financing  \n",
       "0   202401      Conventional  "
      ]
     },
     "execution_count": 8,
     "metadata": {},
     "output_type": "execute_result"
    }
   ],
   "source": [
    "bi.head(1)"
   ]
  },
  {
   "cell_type": "code",
   "execution_count": 9,
   "id": "f13b275a-ee7c-4ff5-adcf-4ed2dbdaf1ad",
   "metadata": {},
   "outputs": [
    {
     "data": {
      "text/plain": [
       "dtype('float64')"
      ]
     },
     "execution_count": 9,
     "metadata": {},
     "output_type": "execute_result"
    }
   ],
   "source": [
    "bi.YTD.dtypes"
   ]
  },
  {
   "cell_type": "code",
   "execution_count": 10,
   "id": "3929fc88-9229-4470-9a3e-ff8a8ed74267",
   "metadata": {
    "scrolled": true
   },
   "outputs": [],
   "source": [
    "bi = bi.reset_index()\n",
    "\n",
    "bi.loc[bi.Position.isin([\"202401\"]),\"Aver\"] = (bi[\"YTD\"])/1\n",
    "bi.loc[bi.Position.isin([\"202402\"]),\"Aver\"] = (bi[\"YTD\"])/2\n",
    "bi.loc[bi.Position.isin([\"202403\"]),\"Aver\"] = (bi[\"YTD\"])/3\n",
    "bi.loc[bi.Position.isin([\"202404\"]),\"Aver\"] = (bi[\"YTD\"])/4\n",
    "bi.loc[bi.Position.isin([\"202405\"]),\"Aver\"] = (bi[\"YTD\"])/5\n",
    "bi.loc[bi.Position.isin([\"202406\"]),\"Aver\"] = (bi[\"YTD\"])/6\n",
    "bi.loc[bi.Position.isin([\"202407\"]),\"Aver\"] = (bi[\"YTD\"])/7\n"
   ]
  },
  {
   "cell_type": "code",
   "execution_count": null,
   "id": "c4ff1222-68c4-4ccb-9e12-f1178ea2158b",
   "metadata": {},
   "outputs": [],
   "source": []
  },
  {
   "cell_type": "code",
   "execution_count": null,
   "id": "1f8c9034-e031-4fe1-af4a-f19311d32a91",
   "metadata": {},
   "outputs": [],
   "source": []
  },
  {
   "cell_type": "code",
   "execution_count": null,
   "id": "424db25a-5136-453d-a982-42482aa3961d",
   "metadata": {},
   "outputs": [],
   "source": []
  },
  {
   "cell_type": "code",
   "execution_count": null,
   "id": "4316652d-fe8c-425d-a153-505291f2d717",
   "metadata": {
    "scrolled": true
   },
   "outputs": [],
   "source": []
  },
  {
   "cell_type": "code",
   "execution_count": null,
   "id": "0a874850-1ba6-44ff-a7b1-ae8ef4c4344b",
   "metadata": {},
   "outputs": [],
   "source": []
  },
  {
   "cell_type": "code",
   "execution_count": null,
   "id": "15d907ea-f840-451a-82b1-ad49285ca61f",
   "metadata": {},
   "outputs": [],
   "source": []
  },
  {
   "cell_type": "code",
   "execution_count": 12,
   "id": "701ff0c9-ba0d-41da-88bc-9a8bb59db6b5",
   "metadata": {
    "scrolled": true
   },
   "outputs": [],
   "source": [
    "bi.to_csv(str(Location)+'\\\\Income Statement (BI).txt', index = False)\n"
   ]
  },
  {
   "cell_type": "code",
   "execution_count": null,
   "id": "c1655641-4740-4918-9d70-d2eccf428696",
   "metadata": {},
   "outputs": [],
   "source": []
  },
  {
   "cell_type": "code",
   "execution_count": null,
   "id": "795ba9c7-bba3-4805-89cc-33b893e335a7",
   "metadata": {},
   "outputs": [],
   "source": []
  },
  {
   "cell_type": "code",
   "execution_count": null,
   "id": "0ede821d-e3ce-47e8-9a35-5cdddf4d4823",
   "metadata": {},
   "outputs": [],
   "source": []
  },
  {
   "cell_type": "code",
   "execution_count": null,
   "id": "82f1b5cd-ab36-4b33-a055-a0548812e377",
   "metadata": {},
   "outputs": [],
   "source": []
  },
  {
   "cell_type": "markdown",
   "id": "432e250c-e7ad-48f7-ac11-520161916b13",
   "metadata": {},
   "source": [
    "# For The Month"
   ]
  },
  {
   "cell_type": "code",
   "execution_count": null,
   "id": "05dbc86f-1432-4e10-b3b6-d6c2d3a872b3",
   "metadata": {},
   "outputs": [],
   "source": [
    "#----------------------------------------------FTM-------------------------------------------------------------\n",
    "\n",
    "import pandas as pd\n",
    "import numpy as np\n",
    "\n",
    "#warnings.filterwarnings('ignore')\n",
    "pd.set_option(\"display.max_columns\", None) \n",
    "pd.set_option(\"display.max_colwidth\", 1000) #huruf dlm column\n",
    "pd.set_option(\"display.max_rows\", 100)\n",
    "pd.set_option(\"display.precision\", 2) #2 titik perpuluhan\n",
    "\n",
    "Income_curr = \"02. Income Statement Feb 2024 (python)\"\n",
    "Income_prev = \"01. Income Statement Jan 2024 (python)\"\n",
    "\n",
    "Location = r\"C:\\\\Users\\\\syahidhalid\\\\Syahid_PC\\\\Analytics - FAD\\\\06. Management Account\\Result\"\n",
    "\n",
    "Income_curr_raw = pd.read_excel(str(Location)+\"\\\\\"+str(Income_curr)+\".xlsx\", sheet_name='Profit Loss', header=0)\n",
    "#Income_curr_raw.columns = Income_curr_raw.columns.str.replace(\"\\n\", \"_\").str.replace(\" \", \"_\")\n",
    "\n",
    "Income_prev_raw = pd.read_excel(str(Location)+\"\\\\\"+str(Income_prev)+\".xlsx\", sheet_name='Profit Loss', header=0)\n",
    "#Income_prev_raw.columns = Income_prev_raw.columns.str.replace(\"\\n\", \"_\").str.replace(\" \", \"_\")\n",
    "\n",
    "combine = Income_curr_raw.merge(Income_prev_raw,on=\"Income Statement\",how='left')\n",
    "\n",
    "combine['FTM '+str(Income_curr[21:-9])] = combine['YTD '+str(Income_curr[21:-9])] - combine['YTD '+str(Income_prev[21:-9])] \n",
    "\n",
    "writer2 = pd.ExcelWriter(r'C:\\Users\\syahidhalid\\Syahid_PC\\Analytics - FAD\\06. Management Account\\Result\\\\'+str(Income_curr[:4])+'Income Statement '+str(Income_curr[21:])+' FTM.xlsx',engine='xlsxwriter')\n",
    "\n",
    "combine.to_excel(writer2, sheet_name='Profit Loss', index = False)\n",
    "\n",
    "writer2._save()"
   ]
  }
 ],
 "metadata": {
  "kernelspec": {
   "display_name": "Python 3 (ipykernel)",
   "language": "python",
   "name": "python3"
  },
  "language_info": {
   "codemirror_mode": {
    "name": "ipython",
    "version": 3
   },
   "file_extension": ".py",
   "mimetype": "text/x-python",
   "name": "python",
   "nbconvert_exporter": "python",
   "pygments_lexer": "ipython3",
   "version": "3.11.7"
  }
 },
 "nbformat": 4,
 "nbformat_minor": 5
}
