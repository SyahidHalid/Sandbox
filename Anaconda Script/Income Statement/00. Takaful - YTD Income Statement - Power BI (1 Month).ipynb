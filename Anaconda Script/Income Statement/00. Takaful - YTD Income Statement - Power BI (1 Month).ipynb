{
 "cells": [
  {
   "cell_type": "markdown",
   "id": "b0750c84-aa77-441f-859e-e93edc7ddc58",
   "metadata": {},
   "source": [
    "# Raw File"
   ]
  },
  {
   "cell_type": "code",
   "execution_count": 1,
   "id": "fc88a27c-e72b-4c38-aac9-22e4ab62a5c1",
   "metadata": {},
   "outputs": [],
   "source": [
    "import pandas as pd\n",
    "import numpy as np\n",
    "\n",
    "#warnings.filterwarnings('ignore')\n",
    "pd.set_option(\"display.max_columns\", None) \n",
    "pd.set_option(\"display.max_colwidth\", 1000) #huruf dlm column\n",
    "pd.set_option(\"display.max_rows\", 100)\n",
    "pd.set_option(\"display.precision\", 2) #2 titik perpuluhan\n",
    "\n",
    "\n",
    "EXIB_name = \"EXIB Apr2024_v3\"\n",
    " \n",
    "EXIM_name = \"EXIM Apr2024_v2\"\n",
    "\n",
    "EXTF_name = \"EXTF Apr2024\"\n",
    "\n",
    "date_file = 202404\n",
    "\n",
    "Income_curr = \"04. Income statement Apr 2024\"\n",
    "\n",
    "\n",
    "Location = r\"C:\\Users\\syahidhalid\\Syahid_PC\\Analytics - FAD\\06. Management Account\\\\\"+str(date_file)\n",
    "\n",
    "EXIB = pd.read_excel(str(Location)+\"\\\\Source\\\\\"+str(EXIB_name)+\".xlsx\", sheet_name=EXIB_name, header=5)\n",
    "EXIB.columns = EXIB.columns.str.replace(\"\\n\", \"_\").str.replace(\" \", \"_\")\n",
    "\n",
    "EXIM = pd.read_excel(str(Location)+\"\\\\Source\\\\\"+str(EXIM_name)+\".xlsx\", sheet_name=EXIM_name, header=5)\n",
    "EXIM.columns = EXIM.columns.str.replace(\"\\n\", \"_\").str.replace(\" \", \"_\")\n",
    "\n",
    "EXTF = pd.read_excel(str(Location)+\"\\\\Source\\\\\"+str(EXTF_name)+\".xlsx\", sheet_name=EXTF_name, header=5)\n",
    "EXTF.columns = EXTF.columns.str.replace(\"\\n\", \"_\").str.replace(\" \", \"_\")\n",
    "\n",
    "\n",
    "EXIB1 = EXIB.rename(columns={\"C\":\"Unnamed:_1\",\n",
    "                            \"Comp\":\"Item\",\n",
    "                            \"Bus.\":\"Account\",\n",
    "                            \"Texts\":\"GL_no.\",\n",
    "                            \"Unnamed:_5\":\"Mapped_to\",\n",
    "                            \"Unnamed:_6\":\"Unnamed:_6\",\n",
    "                            \"Unnamed:_7\":\"Unnamed:_7\",\n",
    "                            \"Unnamed:_8\":\"GL_Category\",\n",
    "                            \"Reporting_period\":\"RM\",\n",
    "                            \"Unnamed:_10\":\"Unnamed:_10\"})\n",
    "\n",
    "EXIM1 = EXIM.rename(columns={\"C\":\"Unnamed:_1\",\n",
    "                            \"Comp\":\"Item\",\n",
    "                            \"Bus.\":\"Account\",\n",
    "                            \"Texts\":\"GL_no.\",\n",
    "                            \"Unnamed:_5\":\"Mapped_to\",\n",
    "                            \"Unnamed:_6\":\"Unnamed:_6\",\n",
    "                            \"Unnamed:_7\":\"Unnamed:_7\",\n",
    "                            \"Unnamed:_8\":\"GL_Category\",\n",
    "                            \"Reporting_period\":\"RM\",\n",
    "                            \"Unnamed:_10\":\"Unnamed:_10\"})\n",
    "\n",
    "EXTF1 = EXTF.rename(columns={\"C\":\"Unnamed:_1\",\n",
    "                            \"Comp\":\"Item\",\n",
    "                            \"Bus.\":\"Account\",\n",
    "                            \"Texts\":\"GL_no.\",\n",
    "                            \"Unnamed:_5\":\"Mapped_to\",\n",
    "                            \"Unnamed:_6\":\"Unnamed:_6\",\n",
    "                            \"Unnamed:_7\":\"Unnamed:_7\",\n",
    "                            \"Unnamed:_8\":\"GL_Category\",\n",
    "                            \"Reporting_period\":\"RM\",\n",
    "                            \"Unnamed:_10\":\"Unnamed:_10\"})\n",
    "\n",
    "Income_curr_raw = pd.concat([EXIB1, EXIM1, EXTF1])"
   ]
  },
  {
   "cell_type": "code",
   "execution_count": 2,
   "id": "d3a5e581-2f24-4737-a18a-dd0819a61320",
   "metadata": {},
   "outputs": [
    {
     "name": "stdout",
     "output_type": "stream",
     "text": [
      "(345, 18)\n",
      "(2263, 18)\n",
      "(325, 18)\n"
     ]
    }
   ],
   "source": [
    "print(EXIB1.shape)\n",
    "print(EXIM1.shape)\n",
    "print(EXTF1.shape)\n"
   ]
  },
  {
   "cell_type": "code",
   "execution_count": null,
   "id": "04ecf3fe-68a0-4037-9582-92c78aff4d4f",
   "metadata": {},
   "outputs": [],
   "source": []
  },
  {
   "cell_type": "code",
   "execution_count": null,
   "id": "0e5e7edd-add5-49c6-9600-2819fda8c0a4",
   "metadata": {},
   "outputs": [],
   "source": []
  },
  {
   "cell_type": "code",
   "execution_count": null,
   "id": "6be5c69f-4522-4b5b-a86a-0063170fe65d",
   "metadata": {},
   "outputs": [],
   "source": []
  },
  {
   "cell_type": "code",
   "execution_count": 3,
   "id": "e42577cf-f086-4ee9-8761-8193d77f7190",
   "metadata": {},
   "outputs": [],
   "source": [
    "\n",
    "#----------------------------------------------data-------------------------------------------------------------\n",
    "#Income_curr = \"01. Income statement Jan 2024\"\n",
    "\n",
    "#Location = r\"C:\\\\Users\\\\syahidhalid\\\\Syahid_PC\\\\Analytics - FAD\\\\06. Management Account\\\\Sample\"\n",
    "\n",
    "\n",
    "#Income_curr_raw = pd.read_excel(str(Location)+\"\\\\\"+str(Income_curr)+\".xlsx\", sheet_name='Raw 2024', header=0)\n",
    "#Income_curr_raw.columns = Income_curr_raw.columns.str.replace(\"\\n\", \"_\").str.replace(\" \", \"_\")\n",
    "\n",
    "#Income_prev_raw = pd.read_excel(str(Location)+\"\\\\\"+str(Income_prev)+\".xlsx\", sheet_name='Raw 2024', header=0)\n",
    "#Income_prev_raw.columns = Income_prev_raw.columns.str.replace(\"\\n\", \"_\").str.replace(\" \", \"_\")\n",
    "\n",
    "#Income_prev_keyin = pd.read_excel(str(Location)+\"\\\\\"+str(Income_curr)+\".xlsx\", sheet_name='Keyin2024', header=4)\n",
    "#Income_prev_keyin.columns = Income_prev_keyin.columns.str.replace(\"\\n\", \"_\").str.replace(\" \", \"_\")\n",
    "\n",
    "#Income_curr_keyin = pd.read_excel(str(Location)+\"\\\\\"+str(Income_curr)+\".xlsx\", sheet_name='Keyin2024', header=4)\n",
    "#Income_curr_keyin.columns = Income_curr_keyin.columns.str.replace(\"\\n\", \"_\").str.replace(\" \", \"_\")"
   ]
  },
  {
   "cell_type": "code",
   "execution_count": null,
   "id": "c8f7b7a6-8041-4241-8ad0-5a962c889baf",
   "metadata": {},
   "outputs": [],
   "source": []
  },
  {
   "cell_type": "markdown",
   "id": "2b3f30a0-2272-4a77-9513-11bf011c86f7",
   "metadata": {},
   "source": [
    "# Library"
   ]
  },
  {
   "cell_type": "code",
   "execution_count": 4,
   "id": "69d42fba-663b-4865-9048-a3bdcd6b5a74",
   "metadata": {},
   "outputs": [],
   "source": [
    "\n",
    "Location_dic = r\"C:\\\\Users\\\\syahidhalid\\\\Syahid_PC\\\\Analytics - FAD\\\\06. Management Account\\\\Working\"\n",
    "file_dic = \"Income Statement - Dictionary\"\n",
    "\n",
    "dic_keyin = pd.read_excel(str(Location_dic)+\"\\\\\"+str(file_dic)+\".xlsx\", sheet_name='Keyin', header=0)\n",
    "dic_keyin.columns = dic_keyin.columns.str.replace(\"\\n\", \"_\").str.replace(\" \", \"_\")\n",
    "\n",
    "dic_op_rev = pd.read_excel(str(Location_dic)+\"\\\\\"+str(file_dic)+\".xlsx\", sheet_name='Operating Revenue', header=0)\n",
    "dic_op_rev.columns = dic_op_rev.columns.str.replace(\"\\n\", \"_\").str.replace(\" \", \"_\")\n",
    "\n",
    "dic_int_inc = pd.read_excel(str(Location_dic)+\"\\\\\"+str(file_dic)+\".xlsx\", sheet_name='Interest Income', header=0)\n",
    "dic_int_inc.columns = dic_int_inc.columns.str.replace(\"\\n\", \"_\").str.replace(\" \", \"_\")\n",
    "\n",
    "dic_int_exp = pd.read_excel(str(Location_dic)+\"\\\\\"+str(file_dic)+\".xlsx\", sheet_name='Interest Expense', header=0)\n",
    "dic_int_exp.columns = dic_int_exp.columns.str.replace(\"\\n\", \"_\").str.replace(\" \", \"_\")\n",
    "\n",
    "dic_undwr_tkfl = pd.read_excel(str(Location_dic)+\"\\\\\"+str(file_dic)+\".xlsx\", sheet_name='Underwriting_Takaful results', header=0)\n",
    "dic_undwr_tkfl.columns = dic_undwr_tkfl.columns.str.replace(\"\\n\", \"_\").str.replace(\" \", \"_\")\n",
    "\n",
    "dic_inc_isl_biz = pd.read_excel(str(Location_dic)+\"\\\\\"+str(file_dic)+\".xlsx\", sheet_name='Income from Islamic business', header=0)\n",
    "dic_inc_isl_biz.columns = dic_inc_isl_biz.columns.str.replace(\"\\n\", \"_\").str.replace(\" \", \"_\")\n",
    "\n",
    "dic_oth_inc = pd.read_excel(str(Location_dic)+\"\\\\\"+str(file_dic)+\".xlsx\", sheet_name='Other income', header=0)\n",
    "dic_oth_inc.columns = dic_oth_inc.columns.str.replace(\"\\n\", \"_\").str.replace(\" \", \"_\")\n",
    "\n",
    "dic_ovh_exp = pd.read_excel(str(Location_dic)+\"\\\\\"+str(file_dic)+\".xlsx\", sheet_name='Overhead expenses', header=0)\n",
    "dic_ovh_exp.columns = dic_ovh_exp.columns.str.replace(\"\\n\", \"_\").str.replace(\" \", \"_\")\n",
    "\n",
    "dic_allw_laf = pd.read_excel(str(Location_dic)+\"\\\\\"+str(file_dic)+\".xlsx\", sheet_name='Allowances for losses on LAF', header=0)\n",
    "dic_allw_laf.columns = dic_allw_laf.columns.str.replace(\"\\n\", \"_\").str.replace(\" \", \"_\")\n",
    "\n",
    "dic_allw_dim = pd.read_excel(str(Location_dic)+\"\\\\\"+str(file_dic)+\".xlsx\", sheet_name='Allowance for diminution', header=0)\n",
    "dic_allw_dim.columns = dic_allw_dim.columns.str.replace(\"\\n\", \"_\").str.replace(\" \", \"_\")\n",
    "\n",
    "dic_allw_cnc = pd.read_excel(str(Location_dic)+\"\\\\\"+str(file_dic)+\".xlsx\", sheet_name='Allowance for com and con', header=0)\n",
    "dic_allw_cnc.columns = dic_allw_cnc.columns.str.replace(\"\\n\", \"_\").str.replace(\" \", \"_\")\n",
    "\n",
    "dic_allw_invsec = pd.read_excel(str(Location_dic)+\"\\\\\"+str(file_dic)+\".xlsx\", sheet_name='Allowance on investment sec', header=0)\n",
    "dic_allw_invsec.columns = dic_allw_invsec.columns.str.replace(\"\\n\", \"_\").str.replace(\" \", \"_\")\n",
    "\n",
    "dic_allw_sundry = pd.read_excel(str(Location_dic)+\"\\\\\"+str(file_dic)+\".xlsx\", sheet_name='General allowance -Sundry debt', header=0)\n",
    "dic_allw_sundry.columns = dic_allw_sundry.columns.str.replace(\"\\n\", \"_\").str.replace(\" \", \"_\")\n",
    "\n",
    "dic_sur_tkfl = pd.read_excel(str(Location_dic)+\"\\\\\"+str(file_dic)+\".xlsx\", sheet_name='Less_ Surplus attributable', header=0)\n",
    "dic_sur_tkfl.columns = dic_sur_tkfl.columns.str.replace(\"\\n\", \"_\").str.replace(\" \", \"_\")\n",
    "\n",
    "tax = pd.read_excel(str(Location_dic)+\"\\\\\"+str(file_dic)+\".xlsx\", sheet_name='Taxation', header=0)\n",
    "tax.columns = tax.columns.str.replace(\"\\n\", \"_\").str.replace(\" \", \"_\")\n",
    "\n",
    "conv = pd.read_excel(str(Location_dic)+\"\\\\\"+str(file_dic)+\".xlsx\", sheet_name='Conventional', header=0)\n",
    "conv.columns = conv.columns.str.replace(\"\\n\", \"_\").str.replace(\" \", \"_\")\n",
    "\n",
    "isl = pd.read_excel(str(Location_dic)+\"\\\\\"+str(file_dic)+\".xlsx\", sheet_name='Islamic', header=0)\n",
    "isl.columns = isl.columns.str.replace(\"\\n\", \"_\").str.replace(\" \", \"_\")"
   ]
  },
  {
   "cell_type": "code",
   "execution_count": null,
   "id": "27d829f7-41f8-4e5a-8800-0e7de6c9a507",
   "metadata": {},
   "outputs": [],
   "source": []
  },
  {
   "cell_type": "markdown",
   "id": "5eef8532-11cf-445e-8e2d-795d0edb5050",
   "metadata": {},
   "source": [
    "# Process"
   ]
  },
  {
   "cell_type": "code",
   "execution_count": null,
   "id": "a46aa6c6-e9bb-4a14-961b-503ddb904bc9",
   "metadata": {},
   "outputs": [],
   "source": []
  },
  {
   "cell_type": "code",
   "execution_count": 5,
   "id": "9f42e5d8-b237-4009-ab72-f7fa1f14c6c3",
   "metadata": {},
   "outputs": [],
   "source": [
    "\n",
    "Income_curr_raw1 = Income_curr_raw.iloc[np.where(~Income_curr_raw['GL_no.'].isna())]\n",
    "\n",
    "Income_curr_raw1 = Income_curr_raw1[['Item','GL_no.','Unnamed:_7','Unnamed:_10']].\\\n",
    "    rename(columns={'GL_no.': 'GL_Code_',\\\n",
    "                    'Unnamed:_10':'YTD '+str(Income_curr[21:]),\\\n",
    "                    'Unnamed:_7':'GL_Category'}).fillna(0)\n",
    "\n",
    "Income_curr_raw1.GL_Code_ = Income_curr_raw1.GL_Code_.astype(str)\n",
    "Income_curr_raw1.GL_Category = Income_curr_raw1.GL_Category.astype(str)\n",
    "Income_curr_raw1['YTD '+str(Income_curr[21:])] = Income_curr_raw1['YTD '+str(Income_curr[21:])].astype(float)\n",
    "\n",
    "#Income_curr_keyin1 = Income_curr_keyin.iloc[np.where(~Income_curr_keyin['GL_Code_'].isna())][['GL_Code_','GL_Category']]\n",
    "\n",
    "#----------------------------------------------Keyin-------------------------------------------------------------\n",
    "\n",
    "dic_keyin1 = dic_keyin.iloc[np.where(~dic_keyin['GL_Code_'].isna())].fillna(0)\n",
    "\n",
    "dic_keyin1.GL_Code_ = dic_keyin1.GL_Code_.astype(str)\n",
    "dic_keyin1.GL_Category = dic_keyin1.GL_Category.astype(str)\n",
    "\n",
    "dic_keyin1 = dic_keyin1.drop_duplicates('GL_Code_', keep='first')\n",
    "\n",
    "keyin = dic_keyin1.merge(Income_curr_raw1[['GL_Code_','YTD '+str(Income_curr[21:])]],on=['GL_Code_'],how='left').fillna(0)"
   ]
  },
  {
   "cell_type": "code",
   "execution_count": null,
   "id": "c5f4c36e-a79e-47ef-b243-819186184bc2",
   "metadata": {},
   "outputs": [],
   "source": []
  },
  {
   "cell_type": "code",
   "execution_count": 6,
   "id": "7d44b7b1-f11e-4f04-b6c6-bed2d44e5a05",
   "metadata": {
    "scrolled": true
   },
   "outputs": [],
   "source": [
    "#----------------------------------------------Op Rev-------------------------------------------------------------\n",
    "\n",
    "dic_op_rev1 = dic_op_rev.iloc[np.where(~dic_op_rev['GL_Code_'].isna())].fillna(0)\n",
    "\n",
    "dic_op_rev1.GL_Code_ = dic_op_rev1.GL_Code_.astype(int)\n",
    "dic_op_rev1.GL_Code_ = dic_op_rev1.GL_Code_.astype(str)\n",
    "\n",
    "dic_op_rev1 = dic_op_rev1.drop_duplicates('GL_Code_', keep='first')\n",
    "\n",
    "OpRev = dic_op_rev1.merge(Income_curr_raw1[['Item','GL_Code_','YTD '+str(Income_curr[21:])]],on=['GL_Code_'],how='left',suffixes=(\"_Excel\",\"_SAP\")).fillna(0)\n",
    "\n",
    "OpRev['YTD '+str(Income_curr[21:])] = OpRev['YTD '+str(Income_curr[21:])]*-1\n",
    "\n",
    "#Takaful\n",
    "#OpRev = OpRev.iloc[np.where(OpRev.GL_Category.isin([\"Gross premium contribution\",\"Wakalah fee\",\"Reinsurance outward\",\"Income from recoveries\"]))]\n",
    "                            \n",
    "OpRev = OpRev.iloc[np.where(OpRev.Business_Category.isin([\"Takaful\"]))]\n",
    "\n",
    "OpRev.loc[OpRev.GL_Category.isin(['Gross premium contribution']), 'Class'] = 'Gross premium contribution'\n",
    "OpRev.loc[OpRev.GL_Category.isin(['Wakalah fee']), 'Class'] = 'Wakalah fee'\n",
    "OpRev.loc[OpRev.GL_Category.isin(['Reinsurance outward']), 'Class'] = 'Reinsurance outward'\n",
    "OpRev.loc[OpRev.GL_Category.isin(['Income from recoveries']), 'Class'] = 'Income from recoveries'\n",
    "\n",
    "OpRev.loc[OpRev.GL_Category.isin(['Unearned contribution -ST']), 'Class'] = 'Unearned contribution -ST'\n",
    "OpRev.loc[OpRev.GL_Category.isin(['Unearned contribution -MLT']), 'Class'] = 'Unearned contribution -MLT'\n",
    "OpRev.loc[OpRev.GL_Category.isin(['Unearned contribution -Reinsurance MLT']), 'Class'] = 'Unearned contribution -Reinsurance MLT'\n",
    "OpRev.loc[OpRev.GL_Category.isin(['Unexpired risk reserve']), 'Class'] = 'Unexpired risk reserve'\n",
    "\n",
    "#OpRev.loc[OpRev.GL_Category.isin(['Claim- General']), 'Class'] = 'Claim- General'\n",
    "#OpRev.loc[OpRev.GL_Category.isin(['Claim- Specific']), 'Class'] = 'Claim- Specific'\n",
    "\n",
    "OpRev= OpRev.iloc[np.where(~OpRev.Class.isin([\"Operating Revenue\"]))]\n",
    "\n",
    "OpRev1 = OpRev.fillna(0).groupby(['Class','Business_Category'])[['YTD '+str(Income_curr[21:])]].sum().reset_index() #,'Business_Unit'\n",
    "\n",
    "OpRev2 = OpRev1.drop('Business_Category',axis=1)\n",
    "\n",
    "OpRev2.set_index('Class', inplace=True)\n",
    "\n",
    "b = OpRev2.T\n",
    "\n",
    "b['Total Op Rev'] = b['Gross premium contribution'] + b['Wakalah fee'] + b['Reinsurance outward'] + b['Income from recoveries']\n",
    "b['Movement in premium contribution liability'] = b['Unearned contribution -ST'] + b['Unearned contribution -MLT'] + b['Unearned contribution -Reinsurance MLT'] + b['Unexpired risk reserve']\n",
    "#b['Movement in claim liability'] = b['Claim- General'] + b['Claim- Specific'] \n",
    "\n",
    "b = b[['Gross premium contribution','Wakalah fee','Reinsurance outward','Income from recoveries','Total Op Rev',\n",
    "                   'Unearned contribution -ST','Unearned contribution -MLT','Unearned contribution -Reinsurance MLT','Unexpired risk reserve','Movement in premium contribution liability']]\n",
    "\n",
    "c = b.T\n",
    "newdf =c.reset_index()\n"
   ]
  },
  {
   "cell_type": "code",
   "execution_count": 7,
   "id": "37c740e7-18ec-4e92-88b7-3db3890c5bfc",
   "metadata": {},
   "outputs": [],
   "source": [
    "#OpRev1"
   ]
  },
  {
   "cell_type": "code",
   "execution_count": 8,
   "id": "b535798c-1cc5-496e-97a2-4b58a7ef7283",
   "metadata": {},
   "outputs": [
    {
     "data": {
      "text/plain": [
       "297506.5199999999"
      ]
     },
     "execution_count": 8,
     "metadata": {},
     "output_type": "execute_result"
    }
   ],
   "source": [
    "sum(newdf.iloc[np.where(newdf.Class==\"Total Op Rev\")]['YTD '+str(Income_curr[21:])])"
   ]
  },
  {
   "cell_type": "code",
   "execution_count": 9,
   "id": "148a0c0f-927d-4534-b267-632c29a379ec",
   "metadata": {},
   "outputs": [
    {
     "data": {
      "text/plain": [
       "201222.74"
      ]
     },
     "execution_count": 9,
     "metadata": {},
     "output_type": "execute_result"
    }
   ],
   "source": [
    "sum(newdf.iloc[np.where(newdf.Class==\"Movement in premium contribution liability\")]['YTD '+str(Income_curr[21:])])"
   ]
  },
  {
   "cell_type": "code",
   "execution_count": 10,
   "id": "3b50e292-b5c6-4668-91a9-7233b80c0673",
   "metadata": {},
   "outputs": [],
   "source": [
    "#----------------------------------------------Underwriting/Takaful results-------------------------------------------------------------\n",
    "\n",
    "dic_undwr_tkfl1 = dic_undwr_tkfl.iloc[np.where(~dic_undwr_tkfl['GL_Code_'].isna())].fillna(0)\n",
    "\n",
    "#dic_undwr_tkfl1.GL_Code_ = dic_undwr_tkfl1.GL_Code_.astype(int)\n",
    "dic_undwr_tkfl1.GL_Code_ = dic_undwr_tkfl1.GL_Code_.astype(str)\n",
    "\n",
    "dic_undwr_tkfl1 = dic_undwr_tkfl1.drop_duplicates('GL_Code_', keep='first')\n",
    "\n",
    "UndwrTkfl = dic_undwr_tkfl1.merge(Income_curr_raw1[['Item','GL_Code_','YTD '+str(Income_curr[21:])]],on=['GL_Code_'],how='left').fillna(0)\n",
    "\n",
    "UndwrTkfl['YTD '+str(Income_curr[21:])] = UndwrTkfl['YTD '+str(Income_curr[21:])]*-1\n",
    "\n",
    "#Takaful\n",
    "UndwrTkfl = UndwrTkfl.iloc[np.where(UndwrTkfl.GL_Code_.isin(['460004','460007']))]\n",
    "\n",
    "UndwrTkfl.loc[UndwrTkfl.GL_Code_.isin(['460004']), 'Class'] = 'Claim- General'\n",
    "UndwrTkfl.loc[UndwrTkfl.GL_Code_.isin(['460007']), 'Class'] = 'Claim- Specific'\n",
    "\n",
    "UndwrTkfl1 = UndwrTkfl.fillna(0).groupby(['Class'])[['YTD '+str(Income_curr[21:])]].sum().reset_index() #,'Business_Unit'"
   ]
  },
  {
   "cell_type": "code",
   "execution_count": 11,
   "id": "71ce5c8f-9719-4010-9626-2d9bb47791f4",
   "metadata": {},
   "outputs": [
    {
     "data": {
      "text/html": [
       "<div>\n",
       "<style scoped>\n",
       "    .dataframe tbody tr th:only-of-type {\n",
       "        vertical-align: middle;\n",
       "    }\n",
       "\n",
       "    .dataframe tbody tr th {\n",
       "        vertical-align: top;\n",
       "    }\n",
       "\n",
       "    .dataframe thead th {\n",
       "        text-align: right;\n",
       "    }\n",
       "</style>\n",
       "<table border=\"1\" class=\"dataframe\">\n",
       "  <thead>\n",
       "    <tr style=\"text-align: right;\">\n",
       "      <th></th>\n",
       "      <th>Class</th>\n",
       "      <th>YTD Apr 2024</th>\n",
       "    </tr>\n",
       "  </thead>\n",
       "  <tbody>\n",
       "    <tr>\n",
       "      <th>0</th>\n",
       "      <td>Claim- General</td>\n",
       "      <td>-88042.98</td>\n",
       "    </tr>\n",
       "    <tr>\n",
       "      <th>1</th>\n",
       "      <td>Claim- Specific</td>\n",
       "      <td>0.00</td>\n",
       "    </tr>\n",
       "  </tbody>\n",
       "</table>\n",
       "</div>"
      ],
      "text/plain": [
       "             Class  YTD Apr 2024\n",
       "0   Claim- General     -88042.98\n",
       "1  Claim- Specific          0.00"
      ]
     },
     "execution_count": 11,
     "metadata": {},
     "output_type": "execute_result"
    }
   ],
   "source": [
    "UndwrTkfl1"
   ]
  },
  {
   "cell_type": "code",
   "execution_count": 12,
   "id": "f30c2419-68d0-4bf7-a63f-40167afd3085",
   "metadata": {},
   "outputs": [],
   "source": [
    "appendnew = pd.concat([newdf, UndwrTkfl1] )\n",
    "\n",
    "appendnew.set_index('Class', inplace=True)\n",
    "\n",
    "la = appendnew.T\n",
    "\n",
    "la['Movement in claim liability'] = la['Claim- General'] + la['Claim- Specific'] \n",
    "\n",
    "la1 = la.T\n",
    "newdf1 =la1.reset_index()"
   ]
  },
  {
   "cell_type": "code",
   "execution_count": 13,
   "id": "9c4d8406-743e-4f92-8c7c-045e2ae9db86",
   "metadata": {},
   "outputs": [],
   "source": [
    "#----------------------------------------------Op Rev2-------------------------------------------------------------\n",
    "\n",
    "Comission = dic_op_rev1.merge(Income_curr_raw1[['Item','GL_Code_','YTD '+str(Income_curr[21:])]],on=['GL_Code_'],how='left',suffixes=(\"_Excel\",\"_SAP\")).fillna(0)\n",
    "\n",
    "Comission['YTD '+str(Income_curr[21:])] = Comission['YTD '+str(Income_curr[21:])]*-1\n",
    "\n",
    "#Takaful\n",
    "#OpRev = OpRev.iloc[np.where(OpRev.GL_Category.isin([\"Gross premium contribution\",\"Wakalah fee\",\"Reinsurance outward\",\"Income from recoveries\"]))]\n",
    "                            \n",
    "Comission = Comission.iloc[np.where(Comission.GL_Code_.isin([\"461001\",'461002','461003','460006']))]\n",
    "\n",
    "Comission.loc[Comission.GL_Code_.isin(['460006']), 'Class'] = 'Brokerage commission'\n",
    "Comission.loc[Comission.GL_Category.isin(['Reinsurance commission']), 'Class'] = 'Reinsurance commission'\n",
    "Comission.loc[Comission.GL_Code_.isin(['461002']), 'Class'] = 'Ceding commission'\n",
    "Comission.loc[Comission.GL_Category.isin(['Profit Others']), 'Class'] = 'Profit Others'\n",
    "\n",
    "\n",
    "#xleh ad brokerage & ceding comission sbb takaful is islamic\n",
    "Comission.loc[Comission.GL_Code_.isin(['460006','461002']), 'YTD '+str(Income_curr[21:])] = 0\n",
    "\n",
    "Comission1 = Comission.fillna(0).groupby(['Class'])[['YTD '+str(Income_curr[21:])]].sum().reset_index() #,'Business_Unit'\n",
    "\n"
   ]
  },
  {
   "cell_type": "code",
   "execution_count": 14,
   "id": "5c90d0c6-44af-414e-a9a9-bc0e56b968e6",
   "metadata": {},
   "outputs": [
    {
     "data": {
      "text/html": [
       "<div>\n",
       "<style scoped>\n",
       "    .dataframe tbody tr th:only-of-type {\n",
       "        vertical-align: middle;\n",
       "    }\n",
       "\n",
       "    .dataframe tbody tr th {\n",
       "        vertical-align: top;\n",
       "    }\n",
       "\n",
       "    .dataframe thead th {\n",
       "        text-align: right;\n",
       "    }\n",
       "</style>\n",
       "<table border=\"1\" class=\"dataframe\">\n",
       "  <thead>\n",
       "    <tr style=\"text-align: right;\">\n",
       "      <th></th>\n",
       "      <th>Class</th>\n",
       "      <th>YTD Apr 2024</th>\n",
       "    </tr>\n",
       "  </thead>\n",
       "  <tbody>\n",
       "    <tr>\n",
       "      <th>0</th>\n",
       "      <td>Brokerage commission</td>\n",
       "      <td>0.0</td>\n",
       "    </tr>\n",
       "    <tr>\n",
       "      <th>1</th>\n",
       "      <td>Ceding commission</td>\n",
       "      <td>0.0</td>\n",
       "    </tr>\n",
       "    <tr>\n",
       "      <th>2</th>\n",
       "      <td>Profit Others</td>\n",
       "      <td>0.0</td>\n",
       "    </tr>\n",
       "    <tr>\n",
       "      <th>3</th>\n",
       "      <td>Reinsurance commission</td>\n",
       "      <td>0.0</td>\n",
       "    </tr>\n",
       "  </tbody>\n",
       "</table>\n",
       "</div>"
      ],
      "text/plain": [
       "                    Class  YTD Apr 2024\n",
       "0    Brokerage commission           0.0\n",
       "1       Ceding commission           0.0\n",
       "2           Profit Others           0.0\n",
       "3  Reinsurance commission           0.0"
      ]
     },
     "execution_count": 14,
     "metadata": {},
     "output_type": "execute_result"
    }
   ],
   "source": [
    "Comission1"
   ]
  },
  {
   "cell_type": "code",
   "execution_count": 15,
   "id": "adfb02e9-7f42-444c-bc7c-9c905e77cfe3",
   "metadata": {},
   "outputs": [],
   "source": [
    "appendnew1 = pd.concat([newdf1, Comission1] )\n",
    "\n",
    "appendnew1.set_index('Class', inplace=True)\n",
    "\n",
    "laa = appendnew1.T\n",
    "\n",
    "laa['Takaful fees'] = laa['Brokerage commission'] + laa['Reinsurance commission'] + laa['Ceding commission'] + laa['Profit Others'] \n",
    "\n",
    "laa1 = laa.T\n",
    "newdf2 =laa1.reset_index()"
   ]
  },
  {
   "cell_type": "code",
   "execution_count": 16,
   "id": "ea5066a5-6cdc-430f-a641-a5d2810e5614",
   "metadata": {},
   "outputs": [],
   "source": [
    "#---------------------------------------------Less: Surplus attributable from Takaful Participants-------------------------------------------------------------\n",
    "\n",
    "dic_sur_tkfl1 = dic_sur_tkfl.iloc[np.where(~dic_sur_tkfl['GL_Code_'].isna())].fillna(0)\n",
    "\n",
    "#dic_sur_tkfl1.GL_Code_ = dic_sur_tkfl1.GL_Code_.astype(int)\n",
    "dic_sur_tkfl1.GL_Code_ = dic_sur_tkfl1.GL_Code_.astype(str)\n",
    "\n",
    "#dic_inc_isl_biz1 = dic_inc_isl_biz1.drop_duplicates('GL_Code_', keep='first')\n",
    "\n",
    "SurTfkl = dic_sur_tkfl1.merge(Income_curr_raw1[['Item','GL_Code_','YTD '+str(Income_curr[21:])]],on=['GL_Code_'],how='left').fillna(0)\n",
    "\n",
    "SurTfkl = SurTfkl.iloc[np.where(SurTfkl.GL_Code_.isin(['460011','462000']))]\n",
    "\n",
    "SurTfkl.loc[SurTfkl.GL_Code_.isin(['460011']), 'Class'] = 'Bad debt written-off'\n",
    "SurTfkl.loc[SurTfkl.GL_Code_.isin(['462000']), 'Class'] = 'Provision for doubtful debt'\n",
    "\n",
    "SurTfkl['YTD '+str(Income_curr[21:])] = SurTfkl['YTD '+str(Income_curr[21:])]*-1\n",
    "\n",
    "SurTfkl1 = SurTfkl.fillna(0).groupby(['Class'])[['YTD '+str(Income_curr[21:])]].sum().reset_index() #,'Business_Unit"
   ]
  },
  {
   "cell_type": "code",
   "execution_count": 17,
   "id": "c75da382-be7c-437c-93a9-347b4dd3be21",
   "metadata": {},
   "outputs": [
    {
     "data": {
      "text/html": [
       "<div>\n",
       "<style scoped>\n",
       "    .dataframe tbody tr th:only-of-type {\n",
       "        vertical-align: middle;\n",
       "    }\n",
       "\n",
       "    .dataframe tbody tr th {\n",
       "        vertical-align: top;\n",
       "    }\n",
       "\n",
       "    .dataframe thead th {\n",
       "        text-align: right;\n",
       "    }\n",
       "</style>\n",
       "<table border=\"1\" class=\"dataframe\">\n",
       "  <thead>\n",
       "    <tr style=\"text-align: right;\">\n",
       "      <th></th>\n",
       "      <th>Class</th>\n",
       "      <th>YTD Apr 2024</th>\n",
       "    </tr>\n",
       "  </thead>\n",
       "  <tbody>\n",
       "    <tr>\n",
       "      <th>0</th>\n",
       "      <td>Bad debt written-off</td>\n",
       "      <td>0.0</td>\n",
       "    </tr>\n",
       "    <tr>\n",
       "      <th>1</th>\n",
       "      <td>Provision for doubtful debt</td>\n",
       "      <td>-25189.1</td>\n",
       "    </tr>\n",
       "  </tbody>\n",
       "</table>\n",
       "</div>"
      ],
      "text/plain": [
       "                         Class  YTD Apr 2024\n",
       "0         Bad debt written-off           0.0\n",
       "1  Provision for doubtful debt      -25189.1"
      ]
     },
     "execution_count": 17,
     "metadata": {},
     "output_type": "execute_result"
    }
   ],
   "source": [
    "SurTfkl1"
   ]
  },
  {
   "cell_type": "code",
   "execution_count": 18,
   "id": "61783af2-cf37-416b-8886-96a93a6d0005",
   "metadata": {},
   "outputs": [],
   "source": [
    "appendnew2 = pd.concat([newdf2, SurTfkl1] )\n",
    "\n",
    "appendnew2.set_index('Class', inplace=True)\n",
    "\n",
    "laaa = appendnew2.T\n",
    "\n",
    "laaa['Allowance for doubtful debts'] = laaa['Bad debt written-off'] + laaa['Provision for doubtful debt']\n",
    "\n",
    "laaa['Income from takaful activities'] = laaa['Total Op Rev'] +laaa['Movement in premium contribution liability'] + laaa['Movement in claim liability'] +laaa['Takaful fees'] + laaa['Allowance for doubtful debts']\n",
    "\n",
    "laaa1 = laaa.T\n",
    "newdf3 =laaa1.reset_index()"
   ]
  },
  {
   "cell_type": "code",
   "execution_count": 19,
   "id": "d081631a-bcaa-4bde-9b0a-1c165be0e207",
   "metadata": {},
   "outputs": [
    {
     "data": {
      "text/plain": [
       "385497.17999999993"
      ]
     },
     "execution_count": 19,
     "metadata": {},
     "output_type": "execute_result"
    }
   ],
   "source": [
    "sum(newdf3.iloc[np.where(newdf3.Class==\"Income from takaful activities\")]['YTD '+str(Income_curr[21:])])"
   ]
  },
  {
   "cell_type": "code",
   "execution_count": 20,
   "id": "2e560f1c-cd8f-48ed-a92f-3178ae81c660",
   "metadata": {},
   "outputs": [],
   "source": [
    "#---------------------------------------------Less: Surplus attributable from Takaful Participants2-------------------------------------------------------------\n",
    "\n",
    "last = dic_sur_tkfl1.merge(Income_curr_raw1[['Item','GL_Code_','YTD '+str(Income_curr[21:])]],on=['GL_Code_'],how='left',suffixes=(\"_Excel\",\"_SAP\")).fillna(0)\n",
    "\n",
    "last['YTD '+str(Income_curr[21:])] = last['YTD '+str(Income_curr[21:])]*-1\n",
    "\n",
    "#Takaful\n",
    "#OpRev = OpRev.iloc[np.where(OpRev.GL_Category.isin([\"Gross premium contribution\",\"Wakalah fee\",\"Reinsurance outward\",\"Income from recoveries\"]))]\n",
    "                            \n",
    "last = last.iloc[np.where(last.GL_Code_.isin([\"461000\",'465000']))]\n",
    "\n",
    "last.loc[last.GL_Code_.isin(['461000']), 'Class'] = 'Short-term investment'\n",
    "last.loc[last.GL_Code_.isin(['465000']), 'Class'] = 'Bank Charges'\n",
    "\n",
    "#xleh ad brokerage & ceding comission sbb takaful is islamic\n",
    "#Comission.loc[Comission.GL_Code_.isin(['460006','461002']), 'YTD '+str(Income_curr[21:])] = 0\n",
    "\n",
    "last1 = last.fillna(0).groupby(['Class'])[['YTD '+str(Income_curr[21:])]].sum().reset_index() #,'Business_Unit'\n"
   ]
  },
  {
   "cell_type": "code",
   "execution_count": 21,
   "id": "fdd2a9fb-2a4b-461c-badb-9ee0084686d5",
   "metadata": {},
   "outputs": [],
   "source": [
    "appendnew3 = pd.concat([newdf3, last1] )\n",
    "\n",
    "appendnew3.set_index('Class', inplace=True)\n",
    "\n",
    "laaaa = appendnew3.T\n",
    "\n",
    "laaaa['Income from placement with banks & financial institutions'] = laaaa['Short-term investment']\n",
    "laaaa['Administrative expenses'] = laaaa['Bank Charges']\n",
    "laaaa['Takaful fund results'] = laaaa['Income from takaful activities'] + laaaa['Bank Charges'] + laaaa['Short-term investment']\n",
    "\n",
    "laaaa = laaaa[[\"Gross premium contribution\",\n",
    "\"Wakalah fee\",\n",
    "\"Reinsurance outward\",\n",
    "\"Income from recoveries\",\n",
    "\"Total Op Rev\",\n",
    "\"Unearned contribution -ST\",\n",
    "\"Unearned contribution -MLT\",\n",
    "\"Unearned contribution -Reinsurance MLT\",\n",
    "\"Unexpired risk reserve\",\n",
    "\"Movement in premium contribution liability\",\n",
    "\"Claim- General\",\n",
    "\"Claim- Specific\",\n",
    "\"Movement in claim liability\",\n",
    "\"Brokerage commission\",\n",
    "\"Ceding commission\",\n",
    "\"Profit Others\",\n",
    "\"Reinsurance commission\",\n",
    "\"Takaful fees\",\n",
    "\"Bad debt written-off\",\n",
    "\"Provision for doubtful debt\",\n",
    "\"Allowance for doubtful debts\",\n",
    "\"Income from takaful activities\",\n",
    "\"Short-term investment\",\n",
    "\"Income from placement with banks & financial institutions\",\n",
    "\"Bank Charges\",\n",
    "\"Administrative expenses\",\n",
    "\"Takaful fund results\"]]\n",
    "\n",
    "laaaa1 = laaaa.T\n",
    "newdf4 =laaaa1.reset_index()"
   ]
  },
  {
   "cell_type": "code",
   "execution_count": 22,
   "id": "a15d0045-6436-4614-8b26-3d16bce111ce",
   "metadata": {},
   "outputs": [
    {
     "data": {
      "text/plain": [
       "385441.37999999995"
      ]
     },
     "execution_count": 22,
     "metadata": {},
     "output_type": "execute_result"
    }
   ],
   "source": [
    "sum(newdf4.iloc[np.where(newdf4.Class==\"Takaful fund results\")]['YTD '+str(Income_curr[21:])])"
   ]
  },
  {
   "cell_type": "code",
   "execution_count": 23,
   "id": "11c65ec2-3881-47d3-bc68-d0a876f39b69",
   "metadata": {},
   "outputs": [],
   "source": [
    "#smpi sini, buat bank charges n short term investment"
   ]
  },
  {
   "cell_type": "code",
   "execution_count": null,
   "id": "89cae1ca-4b79-43b4-a971-4b8d6e7bc9f1",
   "metadata": {},
   "outputs": [],
   "source": []
  },
  {
   "cell_type": "code",
   "execution_count": null,
   "id": "5cb837ca-3237-4594-8a4d-a38f88a19ebf",
   "metadata": {},
   "outputs": [],
   "source": []
  },
  {
   "cell_type": "code",
   "execution_count": null,
   "id": "4149fd01-e24d-47c1-84b2-f3544e983633",
   "metadata": {},
   "outputs": [],
   "source": []
  },
  {
   "cell_type": "code",
   "execution_count": null,
   "id": "dbf20f63-2809-498b-9ce1-48aa67ffb135",
   "metadata": {},
   "outputs": [],
   "source": []
  },
  {
   "cell_type": "code",
   "execution_count": null,
   "id": "6fb263cb-147c-4003-847d-746286f4f46f",
   "metadata": {},
   "outputs": [],
   "source": []
  },
  {
   "cell_type": "code",
   "execution_count": null,
   "id": "4c68d3c5-9902-40c4-80fd-1a05b5333a20",
   "metadata": {
    "scrolled": true
   },
   "outputs": [],
   "source": []
  },
  {
   "cell_type": "code",
   "execution_count": null,
   "id": "c8521a70-3a59-4ef8-b59b-6817ead49ea3",
   "metadata": {},
   "outputs": [],
   "source": []
  },
  {
   "cell_type": "code",
   "execution_count": null,
   "id": "f2505a16-d744-4ef5-8d39-960187d92bac",
   "metadata": {
    "scrolled": true
   },
   "outputs": [],
   "source": []
  },
  {
   "cell_type": "code",
   "execution_count": null,
   "id": "4f5c74f8-c351-4997-abad-7d6f3882a919",
   "metadata": {
    "scrolled": true
   },
   "outputs": [],
   "source": []
  },
  {
   "cell_type": "markdown",
   "id": "d57f4c8b-3ae2-4f32-b157-b6f0d2efc2ad",
   "metadata": {},
   "source": [
    "# Export "
   ]
  },
  {
   "cell_type": "code",
   "execution_count": 24,
   "id": "e0f3fe4f-1fd8-4d07-8c5e-da07be1384a3",
   "metadata": {
    "scrolled": true
   },
   "outputs": [],
   "source": [
    "newdf4.to_excel(str(Location)+'\\\\'+str(Income_curr[:4])+'YTD - Income Statement '+str(Income_curr[21:])+' Takaful (python).xlsx', sheet_name=\"Profit Loss Takaful\", index = False)\n"
   ]
  },
  {
   "cell_type": "code",
   "execution_count": null,
   "id": "fd82d493-8b85-44be-b79a-b6d74b7b00ef",
   "metadata": {},
   "outputs": [],
   "source": []
  },
  {
   "cell_type": "code",
   "execution_count": null,
   "id": "29c8e41b-c9e2-4d56-a676-a6e7c7cb821e",
   "metadata": {},
   "outputs": [],
   "source": []
  },
  {
   "cell_type": "markdown",
   "id": "a38451e8-0af9-403c-9226-efbafb77e18c",
   "metadata": {},
   "source": [
    "# Monthly BI"
   ]
  },
  {
   "cell_type": "code",
   "execution_count": 25,
   "id": "8541daf8-8d55-4240-97f4-4b992d58e850",
   "metadata": {},
   "outputs": [
    {
     "name": "stdout",
     "output_type": "stream",
     "text": [
      "(24, 9)\n",
      "(2, 7)\n",
      "(4, 9)\n",
      "(2, 7)\n",
      "(2, 7)\n"
     ]
    }
   ],
   "source": [
    "print(OpRev.shape)\n",
    "print(UndwrTkfl.shape)\n",
    "print(Comission.shape)\n",
    "print(SurTfkl.shape)\n",
    "print(last.shape)\n"
   ]
  },
  {
   "cell_type": "code",
   "execution_count": 26,
   "id": "aa552e45-0d95-4316-9239-3aa13a0568bf",
   "metadata": {},
   "outputs": [],
   "source": [
    "#---------------------------------------------Power BI-------------------------------------------------------------\n",
    "\n",
    "OpRev1_BI = OpRev.rename(columns={'Business_Unit':'GL_Description_2'})[['GL_Description','GL_Code_','GL_Category','GL_Description_2','Class','Item','YTD '+str(Income_curr[21:]),'Business_Category']]\n",
    "\n",
    "UndwrTkfl['Business_Category'] = 'NA'\n",
    "SurTfkl['Business_Category'] = 'NA'\n",
    "last['Business_Category'] = 'NA'\n",
    "\n",
    "Comission_BI = Comission.rename(columns={'Business_Unit':'GL_Description_2'})[[\"GL_Description\",\"GL_Code_\",\"GL_Category\",\"GL_Description_2\",\"Class\",\"Item\",'YTD '+str(Income_curr[21:]),\"Business_Category\"]]\n",
    "\n",
    "PnL_BI = pd.concat([OpRev1_BI,UndwrTkfl,Comission_BI,SurTfkl,last])"
   ]
  },
  {
   "cell_type": "code",
   "execution_count": 27,
   "id": "1213d186-6faa-4d03-bd69-4d99f046aecb",
   "metadata": {},
   "outputs": [
    {
     "name": "stdout",
     "output_type": "stream",
     "text": [
      "(24, 8)\n",
      "(2, 8)\n",
      "(4, 8)\n",
      "(2, 8)\n",
      "(2, 8)\n"
     ]
    }
   ],
   "source": [
    "print(OpRev1_BI.shape)\n",
    "print(UndwrTkfl.shape)\n",
    "print(Comission_BI.shape)\n",
    "print(SurTfkl.shape)\n",
    "print(last.shape)\n"
   ]
  },
  {
   "cell_type": "code",
   "execution_count": null,
   "id": "1b550f43-0a54-441e-950e-de293d513449",
   "metadata": {},
   "outputs": [],
   "source": []
  },
  {
   "cell_type": "code",
   "execution_count": null,
   "id": "d7a16940-d8b8-493f-9587-db30849fa9f8",
   "metadata": {},
   "outputs": [],
   "source": [
    "\n"
   ]
  },
  {
   "cell_type": "code",
   "execution_count": null,
   "id": "737efcb4-7c0d-40c7-baca-7458883b40ec",
   "metadata": {},
   "outputs": [],
   "source": []
  },
  {
   "cell_type": "code",
   "execution_count": null,
   "id": "27e37a72-f99b-4dd2-83f6-2e35458d50e9",
   "metadata": {},
   "outputs": [],
   "source": []
  },
  {
   "cell_type": "code",
   "execution_count": null,
   "id": "40eeddcf-3107-4829-b46d-a74c65c39f28",
   "metadata": {},
   "outputs": [],
   "source": []
  },
  {
   "cell_type": "markdown",
   "id": "fffa247d-1c89-4909-9135-50ccf98ed081",
   "metadata": {},
   "source": [
    "# Export"
   ]
  },
  {
   "cell_type": "code",
   "execution_count": 28,
   "id": "cc20d874-4b71-47f1-94c4-f1a52f63683c",
   "metadata": {},
   "outputs": [],
   "source": [
    "PnL_BI.to_csv(str(Location)+'\\\\'+str(Income_curr[:4])+'Income Statement '+str(Income_curr[21:])+' Takaful (python).txt', index = False)\n"
   ]
  },
  {
   "cell_type": "code",
   "execution_count": null,
   "id": "da608560-7153-43f0-a89d-9261664e5003",
   "metadata": {},
   "outputs": [],
   "source": [
    "#str(Location[:-6])+'\\\\'+str(Income_curr[:4])+'Income Statement '+str(Income_curr[21:])+' (python).txt'"
   ]
  },
  {
   "cell_type": "code",
   "execution_count": null,
   "id": "24408fbb-990a-4fe5-b7b3-54325a99a82b",
   "metadata": {},
   "outputs": [],
   "source": []
  },
  {
   "cell_type": "markdown",
   "id": "3abdef77-92fc-41aa-b64a-4399d519502f",
   "metadata": {},
   "source": [
    "# Adhoc"
   ]
  },
  {
   "cell_type": "code",
   "execution_count": null,
   "id": "07003515-f2b0-46ad-bae3-0a875087d24e",
   "metadata": {},
   "outputs": [],
   "source": [
    "#writer2 = pd.ExcelWriter(r'C:\\Users\\syahidhalid\\Syahid_PC\\Analytics - FAD\\06. Management Account\\\\Income Statement '+str(Income_curr[21:])+' (python).xlsx',engine='xlsxwriter')\n",
    "\n",
    "#newdf4.to_excel(writer2, sheet_name='Profit Loss', index = False)\n",
    "\n",
    "#writer2._save()"
   ]
  },
  {
   "cell_type": "code",
   "execution_count": null,
   "id": "0375e21e-ec3b-4432-b1e2-acd5fe75d7fe",
   "metadata": {},
   "outputs": [],
   "source": []
  }
 ],
 "metadata": {
  "kernelspec": {
   "display_name": "Python 3 (ipykernel)",
   "language": "python",
   "name": "python3"
  },
  "language_info": {
   "codemirror_mode": {
    "name": "ipython",
    "version": 3
   },
   "file_extension": ".py",
   "mimetype": "text/x-python",
   "name": "python",
   "nbconvert_exporter": "python",
   "pygments_lexer": "ipython3",
   "version": "3.11.7"
  }
 },
 "nbformat": 4,
 "nbformat_minor": 5
}
