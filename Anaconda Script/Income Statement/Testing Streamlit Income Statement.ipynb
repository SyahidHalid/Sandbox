{
 "cells": [
  {
   "cell_type": "code",
   "execution_count": null,
   "id": "e9d558be-670a-4f6a-823f-eeade7f9bc53",
   "metadata": {},
   "outputs": [],
   "source": [
    "\n",
    "\n",
    "\n",
    "  \n",
    "  #st.write()\n",
    "\n",
    "#----------------------------Run--------------------------------------------------------------------\n",
    "\n",
    "#is_clicked = st.button(\"Run\")\n",
    "\n",
    "#----------------------------Testing Graph--------------------------------------------------------------\n",
    "\n",
    "#chart_data = pd.DataFrame(np.random.randn(20,3),columns=[\"a\",\"b\",\"c\"])\n",
    "\n",
    "#pie_chart = px.pie(chart_data,\n",
    "#                   title=\"Total\",\n",
    "#                   value=\"participant\",\n",
    "#                   names=\"Department\")\n",
    "#st.plotly_chart(pie_chart)\n",
    "\n",
    "#st.bar_chart(chart_data)\n",
    "#st.line_chart(chart_data)\n",
    "\n",
    "#st.write('Dataset')\n",
    "#st.dataframe(chart_data.head(5))\n",
    "#csv_Tasks_at_CPDF = convert_df(Tasks_at_CPDF)\n",
    "\n",
    "#----------------------------Export--------------------------------------------------------------------\n",
    "\n",
    "\n",
    "#st.link_button(\"Youtube\",url=\"https://www.youtube.com/watch?v=D0D4Pa22iG0\")\n",
    "\n",
    "#https://github.com/pixegami/streamlit-demo-app\n",
    "\n",
    " #data = pd.read_excel(\"Income Statement - Dictionary.xlsx\", sheet_name='Keyin', header=0)\n",
    " #st.write(data)\n"
   ]
  }
 ],
 "metadata": {
  "kernelspec": {
   "display_name": "Python 3 (ipykernel)",
   "language": "python",
   "name": "python3"
  },
  "language_info": {
   "codemirror_mode": {
    "name": "ipython",
    "version": 3
   },
   "file_extension": ".py",
   "mimetype": "text/x-python",
   "name": "python",
   "nbconvert_exporter": "python",
   "pygments_lexer": "ipython3",
   "version": "3.11.7"
  }
 },
 "nbformat": 4,
 "nbformat_minor": 5
}
