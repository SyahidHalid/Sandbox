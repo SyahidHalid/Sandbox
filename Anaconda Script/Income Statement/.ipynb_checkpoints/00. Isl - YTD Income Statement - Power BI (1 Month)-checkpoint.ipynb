{
 "cells": [
  {
   "cell_type": "markdown",
   "id": "b0750c84-aa77-441f-859e-e93edc7ddc58",
   "metadata": {},
   "source": [
    "# Raw File"
   ]
  },
  {
   "cell_type": "code",
   "execution_count": 1,
   "id": "03fe07bf-df2b-4ee3-a56a-69ee583dabed",
   "metadata": {},
   "outputs": [],
   "source": [
    "import pandas as pd\n",
    "import numpy as np\n",
    "\n",
    "#warnings.filterwarnings('ignore')\n",
    "pd.set_option(\"display.max_columns\", None) \n",
    "pd.set_option(\"display.max_colwidth\", 1000) #huruf dlm column\n",
    "pd.set_option(\"display.max_rows\", 100)\n",
    "pd.set_option(\"display.precision\", 2) #2 titik perpuluhan\n",
    "\n",
    "EXIB_name = \"EXIB Apr2024_v3\"\n",
    " \n",
    "EXIM_name = \"EXIM Apr2024_v2\"\n",
    "\n",
    "EXTF_name = \"EXTF Apr2024\"\n",
    "\n",
    "date_file = 202404\n",
    "\n",
    "Income_curr = \"04. Income statement Apr 2024\"\n",
    "\n",
    "Location = r\"C:\\Users\\syahidhalid\\Syahid_PC\\Analytics - FAD\\06. Management Account\\\\\"+str(date_file)\n",
    "\n",
    "EXIB = pd.read_excel(str(Location)+\"\\\\Source\\\\\"+str(EXIB_name)+\".xlsx\", sheet_name=EXIB_name, header=5)\n",
    "EXIB.columns = EXIB.columns.str.replace(\"\\n\", \"_\").str.replace(\" \", \"_\")\n",
    "\n",
    "EXIM = pd.read_excel(str(Location)+\"\\\\Source\\\\\"+str(EXIM_name)+\".xlsx\", sheet_name=EXIM_name, header=5)\n",
    "EXIM.columns = EXIM.columns.str.replace(\"\\n\", \"_\").str.replace(\" \", \"_\")\n",
    "\n",
    "EXTF = pd.read_excel(str(Location)+\"\\\\Source\\\\\"+str(EXTF_name)+\".xlsx\", sheet_name=EXTF_name, header=5)\n",
    "EXTF.columns = EXTF.columns.str.replace(\"\\n\", \"_\").str.replace(\" \", \"_\")\n",
    "\n",
    "\n",
    "EXIB1 = EXIB.rename(columns={\"C\":\"Unnamed:_1\",\n",
    "                            \"Comp\":\"Item\",\n",
    "                            \"Bus.\":\"Account\",\n",
    "                            \"Texts\":\"GL_no.\",\n",
    "                            \"Unnamed:_5\":\"Mapped_to\",\n",
    "                            \"Unnamed:_6\":\"Unnamed:_6\",\n",
    "                            \"Unnamed:_7\":\"Unnamed:_7\",\n",
    "                            \"Unnamed:_8\":\"GL_Category\",\n",
    "                            \"Reporting_period\":\"RM\",\n",
    "                            \"Unnamed:_10\":\"Unnamed:_10\"})\n",
    "\n",
    "EXIM1 = EXIM.rename(columns={\"C\":\"Unnamed:_1\",\n",
    "                            \"Comp\":\"Item\",\n",
    "                            \"Bus.\":\"Account\",\n",
    "                            \"Texts\":\"GL_no.\",\n",
    "                            \"Unnamed:_5\":\"Mapped_to\",\n",
    "                            \"Unnamed:_6\":\"Unnamed:_6\",\n",
    "                            \"Unnamed:_7\":\"Unnamed:_7\",\n",
    "                            \"Unnamed:_8\":\"GL_Category\",\n",
    "                            \"Reporting_period\":\"RM\",\n",
    "                            \"Unnamed:_10\":\"Unnamed:_10\"})\n",
    "\n",
    "EXTF1 = EXTF.rename(columns={\"C\":\"Unnamed:_1\",\n",
    "                            \"Comp\":\"Item\",\n",
    "                            \"Bus.\":\"Account\",\n",
    "                            \"Texts\":\"GL_no.\",\n",
    "                            \"Unnamed:_5\":\"Mapped_to\",\n",
    "                            \"Unnamed:_6\":\"Unnamed:_6\",\n",
    "                            \"Unnamed:_7\":\"Unnamed:_7\",\n",
    "                            \"Unnamed:_8\":\"GL_Category\",\n",
    "                            \"Reporting_period\":\"RM\",\n",
    "                            \"Unnamed:_10\":\"Unnamed:_10\"})\n",
    "\n",
    "Income_curr_raw = pd.concat([EXIB1, EXIM1, EXTF1])"
   ]
  },
  {
   "cell_type": "code",
   "execution_count": 2,
   "id": "d3a5e581-2f24-4737-a18a-dd0819a61320",
   "metadata": {},
   "outputs": [
    {
     "name": "stdout",
     "output_type": "stream",
     "text": [
      "(345, 18)\n",
      "(2263, 18)\n",
      "(325, 18)\n"
     ]
    }
   ],
   "source": [
    "print(EXIB1.shape)\n",
    "print(EXIM1.shape)\n",
    "print(EXTF1.shape)\n"
   ]
  },
  {
   "cell_type": "code",
   "execution_count": null,
   "id": "04ecf3fe-68a0-4037-9582-92c78aff4d4f",
   "metadata": {},
   "outputs": [],
   "source": []
  },
  {
   "cell_type": "code",
   "execution_count": null,
   "id": "0e5e7edd-add5-49c6-9600-2819fda8c0a4",
   "metadata": {},
   "outputs": [],
   "source": []
  },
  {
   "cell_type": "code",
   "execution_count": null,
   "id": "6be5c69f-4522-4b5b-a86a-0063170fe65d",
   "metadata": {},
   "outputs": [],
   "source": []
  },
  {
   "cell_type": "code",
   "execution_count": 3,
   "id": "e42577cf-f086-4ee9-8761-8193d77f7190",
   "metadata": {},
   "outputs": [],
   "source": [
    "#----------------------------------------------data-------------------------------------------------------------\n",
    "#Income_curr = \"01. Income statement Jan 2024\"\n",
    "\n",
    "#Location = r\"C:\\\\Users\\\\syahidhalid\\\\Syahid_PC\\\\Analytics - FAD\\\\06. Management Account\\\\Sample\"\n",
    "\n",
    "\n",
    "#Income_curr_raw = pd.read_excel(str(Location)+\"\\\\\"+str(Income_curr)+\".xlsx\", sheet_name='Raw 2024', header=0)\n",
    "#Income_curr_raw.columns = Income_curr_raw.columns.str.replace(\"\\n\", \"_\").str.replace(\" \", \"_\")\n",
    "\n",
    "#Income_prev_raw = pd.read_excel(str(Location)+\"\\\\\"+str(Income_prev)+\".xlsx\", sheet_name='Raw 2024', header=0)\n",
    "#Income_prev_raw.columns = Income_prev_raw.columns.str.replace(\"\\n\", \"_\").str.replace(\" \", \"_\")\n",
    "\n",
    "#Income_prev_keyin = pd.read_excel(str(Location)+\"\\\\\"+str(Income_curr)+\".xlsx\", sheet_name='Keyin2024', header=4)\n",
    "#Income_prev_keyin.columns = Income_prev_keyin.columns.str.replace(\"\\n\", \"_\").str.replace(\" \", \"_\")\n",
    "\n",
    "#Income_curr_keyin = pd.read_excel(str(Location)+\"\\\\\"+str(Income_curr)+\".xlsx\", sheet_name='Keyin2024', header=4)\n",
    "#Income_curr_keyin.columns = Income_curr_keyin.columns.str.replace(\"\\n\", \"_\").str.replace(\" \", \"_\")"
   ]
  },
  {
   "cell_type": "code",
   "execution_count": null,
   "id": "c8f7b7a6-8041-4241-8ad0-5a962c889baf",
   "metadata": {},
   "outputs": [],
   "source": []
  },
  {
   "cell_type": "markdown",
   "id": "2b3f30a0-2272-4a77-9513-11bf011c86f7",
   "metadata": {},
   "source": [
    "# Library"
   ]
  },
  {
   "cell_type": "code",
   "execution_count": 4,
   "id": "69d42fba-663b-4865-9048-a3bdcd6b5a74",
   "metadata": {},
   "outputs": [],
   "source": [
    "\n",
    "Location_dic = r\"C:\\\\Users\\\\syahidhalid\\\\Syahid_PC\\\\Analytics - FAD\\\\06. Management Account\\\\Working\"\n",
    "file_dic = \"Income Statement - Dictionary\"\n",
    "\n",
    "dic_keyin = pd.read_excel(str(Location_dic)+\"\\\\\"+str(file_dic)+\".xlsx\", sheet_name='Keyin', header=0)\n",
    "dic_keyin.columns = dic_keyin.columns.str.replace(\"\\n\", \"_\").str.replace(\" \", \"_\")\n",
    "\n",
    "dic_op_rev = pd.read_excel(str(Location_dic)+\"\\\\\"+str(file_dic)+\".xlsx\", sheet_name='Operating Revenue', header=0)\n",
    "dic_op_rev.columns = dic_op_rev.columns.str.replace(\"\\n\", \"_\").str.replace(\" \", \"_\")\n",
    "\n",
    "dic_int_inc = pd.read_excel(str(Location_dic)+\"\\\\\"+str(file_dic)+\".xlsx\", sheet_name='Interest Income', header=0)\n",
    "dic_int_inc.columns = dic_int_inc.columns.str.replace(\"\\n\", \"_\").str.replace(\" \", \"_\")\n",
    "\n",
    "dic_int_exp = pd.read_excel(str(Location_dic)+\"\\\\\"+str(file_dic)+\".xlsx\", sheet_name='Interest Expense', header=0)\n",
    "dic_int_exp.columns = dic_int_exp.columns.str.replace(\"\\n\", \"_\").str.replace(\" \", \"_\")\n",
    "\n",
    "dic_undwr_tkfl = pd.read_excel(str(Location_dic)+\"\\\\\"+str(file_dic)+\".xlsx\", sheet_name='Underwriting_Takaful results', header=0)\n",
    "dic_undwr_tkfl.columns = dic_undwr_tkfl.columns.str.replace(\"\\n\", \"_\").str.replace(\" \", \"_\")\n",
    "\n",
    "dic_inc_isl_biz = pd.read_excel(str(Location_dic)+\"\\\\\"+str(file_dic)+\".xlsx\", sheet_name='Income from Islamic business', header=0)\n",
    "dic_inc_isl_biz.columns = dic_inc_isl_biz.columns.str.replace(\"\\n\", \"_\").str.replace(\" \", \"_\")\n",
    "\n",
    "dic_oth_inc = pd.read_excel(str(Location_dic)+\"\\\\\"+str(file_dic)+\".xlsx\", sheet_name='Other income', header=0)\n",
    "dic_oth_inc.columns = dic_oth_inc.columns.str.replace(\"\\n\", \"_\").str.replace(\" \", \"_\")\n",
    "\n",
    "dic_ovh_exp = pd.read_excel(str(Location_dic)+\"\\\\\"+str(file_dic)+\".xlsx\", sheet_name='Overhead expenses', header=0)\n",
    "dic_ovh_exp.columns = dic_ovh_exp.columns.str.replace(\"\\n\", \"_\").str.replace(\" \", \"_\")\n",
    "\n",
    "dic_allw_laf = pd.read_excel(str(Location_dic)+\"\\\\\"+str(file_dic)+\".xlsx\", sheet_name='Allowances for losses on LAF', header=0)\n",
    "dic_allw_laf.columns = dic_allw_laf.columns.str.replace(\"\\n\", \"_\").str.replace(\" \", \"_\")\n",
    "\n",
    "dic_allw_dim = pd.read_excel(str(Location_dic)+\"\\\\\"+str(file_dic)+\".xlsx\", sheet_name='Allowance for diminution', header=0)\n",
    "dic_allw_dim.columns = dic_allw_dim.columns.str.replace(\"\\n\", \"_\").str.replace(\" \", \"_\")\n",
    "\n",
    "dic_allw_cnc = pd.read_excel(str(Location_dic)+\"\\\\\"+str(file_dic)+\".xlsx\", sheet_name='Allowance for com and con', header=0)\n",
    "dic_allw_cnc.columns = dic_allw_cnc.columns.str.replace(\"\\n\", \"_\").str.replace(\" \", \"_\")\n",
    "\n",
    "dic_allw_invsec = pd.read_excel(str(Location_dic)+\"\\\\\"+str(file_dic)+\".xlsx\", sheet_name='Allowance on investment sec', header=0)\n",
    "dic_allw_invsec.columns = dic_allw_invsec.columns.str.replace(\"\\n\", \"_\").str.replace(\" \", \"_\")\n",
    "\n",
    "dic_allw_sundry = pd.read_excel(str(Location_dic)+\"\\\\\"+str(file_dic)+\".xlsx\", sheet_name='General allowance -Sundry debt', header=0)\n",
    "dic_allw_sundry.columns = dic_allw_sundry.columns.str.replace(\"\\n\", \"_\").str.replace(\" \", \"_\")\n",
    "\n",
    "dic_sur_tkfl = pd.read_excel(str(Location_dic)+\"\\\\\"+str(file_dic)+\".xlsx\", sheet_name='Less_ Surplus attributable', header=0)\n",
    "dic_sur_tkfl.columns = dic_sur_tkfl.columns.str.replace(\"\\n\", \"_\").str.replace(\" \", \"_\")\n",
    "\n",
    "tax = pd.read_excel(str(Location_dic)+\"\\\\\"+str(file_dic)+\".xlsx\", sheet_name='Taxation', header=0)\n",
    "tax.columns = tax.columns.str.replace(\"\\n\", \"_\").str.replace(\" \", \"_\")\n",
    "\n",
    "conv = pd.read_excel(str(Location_dic)+\"\\\\\"+str(file_dic)+\".xlsx\", sheet_name='Conventional', header=0)\n",
    "conv.columns = conv.columns.str.replace(\"\\n\", \"_\").str.replace(\" \", \"_\")\n",
    "\n",
    "isl = pd.read_excel(str(Location_dic)+\"\\\\\"+str(file_dic)+\".xlsx\", sheet_name='Islamic', header=0)\n",
    "isl.columns = isl.columns.str.replace(\"\\n\", \"_\").str.replace(\" \", \"_\")"
   ]
  },
  {
   "cell_type": "code",
   "execution_count": null,
   "id": "27d829f7-41f8-4e5a-8800-0e7de6c9a507",
   "metadata": {},
   "outputs": [],
   "source": []
  },
  {
   "cell_type": "markdown",
   "id": "5eef8532-11cf-445e-8e2d-795d0edb5050",
   "metadata": {},
   "source": [
    "# Process"
   ]
  },
  {
   "cell_type": "code",
   "execution_count": null,
   "id": "a46aa6c6-e9bb-4a14-961b-503ddb904bc9",
   "metadata": {},
   "outputs": [],
   "source": []
  },
  {
   "cell_type": "code",
   "execution_count": 5,
   "id": "329e954b-f527-427f-9b84-0d72a8dfa2cd",
   "metadata": {},
   "outputs": [],
   "source": [
    "\n",
    "Income_curr_raw1 = Income_curr_raw.iloc[np.where(~Income_curr_raw['GL_no.'].isna())]\n",
    "\n",
    "Income_curr_raw1 = Income_curr_raw1[['Item','GL_no.','Unnamed:_7','Unnamed:_10']].\\\n",
    "    rename(columns={'GL_no.': 'GL_Code_',\\\n",
    "                    'Unnamed:_10':'YTD '+str(Income_curr[21:]),\\\n",
    "                    'Unnamed:_7':'GL_Category'}).fillna(0)\n",
    "\n",
    "Income_curr_raw1.GL_Code_ = Income_curr_raw1.GL_Code_.astype(str)\n",
    "Income_curr_raw1.GL_Category = Income_curr_raw1.GL_Category.astype(str)\n",
    "Income_curr_raw1['YTD '+str(Income_curr[21:])] = Income_curr_raw1['YTD '+str(Income_curr[21:])].astype(float)\n",
    "\n",
    "#Income_curr_keyin1 = Income_curr_keyin.iloc[np.where(~Income_curr_keyin['GL_Code_'].isna())][['GL_Code_','GL_Category']]\n",
    "\n",
    "#----------------------------------------------Keyin-------------------------------------------------------------\n",
    "\n",
    "dic_keyin1 = dic_keyin.iloc[np.where(~dic_keyin['GL_Code_'].isna())].fillna(0)\n",
    "\n",
    "dic_keyin1.GL_Code_ = dic_keyin1.GL_Code_.astype(str)\n",
    "dic_keyin1.GL_Category = dic_keyin1.GL_Category.astype(str)\n",
    "\n",
    "dic_keyin1 = dic_keyin1.drop_duplicates('GL_Code_', keep='first')\n",
    "\n",
    "keyin = dic_keyin1.merge(Income_curr_raw1[['GL_Code_','YTD '+str(Income_curr[21:])]],on=['GL_Code_'],how='left').fillna(0)"
   ]
  },
  {
   "cell_type": "code",
   "execution_count": null,
   "id": "c5f4c36e-a79e-47ef-b243-819186184bc2",
   "metadata": {},
   "outputs": [],
   "source": []
  },
  {
   "cell_type": "code",
   "execution_count": 6,
   "id": "7d44b7b1-f11e-4f04-b6c6-bed2d44e5a05",
   "metadata": {},
   "outputs": [],
   "source": [
    "#----------------------------------------------Op Rev-------------------------------------------------------------\n",
    "\n",
    "dic_op_rev1 = dic_op_rev.iloc[np.where(~dic_op_rev['GL_Code_'].isna())].fillna(0)\n",
    "\n",
    "dic_op_rev1.GL_Code_ = dic_op_rev1.GL_Code_.astype(int)\n",
    "dic_op_rev1.GL_Code_ = dic_op_rev1.GL_Code_.astype(str)\n",
    "\n",
    "dic_op_rev1 = dic_op_rev1.drop_duplicates('GL_Code_', keep='first')\n",
    "\n",
    "OpRev = dic_op_rev1.merge(Income_curr_raw1[['Item','GL_Code_','YTD '+str(Income_curr[21:])]],on=['GL_Code_'],how='left').fillna(0)\n",
    "\n",
    "OpRev['YTD '+str(Income_curr[21:])] = OpRev['YTD '+str(Income_curr[21:])]*-1\n",
    "\n",
    "#Islamic\n",
    "OpRev = OpRev.iloc[np.where(OpRev.Business_Category==\"Islamic\")]\n",
    "\n",
    "OpRev1 = OpRev.fillna(0).groupby(['Class','Business_Category'])[['YTD '+str(Income_curr[21:])]].sum().reset_index() #,'Business_Unit'\n",
    "\n",
    "OpRev2 = OpRev1.drop('Business_Category',axis=1)"
   ]
  },
  {
   "cell_type": "code",
   "execution_count": 7,
   "id": "3b50e292-b5c6-4668-91a9-7233b80c0673",
   "metadata": {},
   "outputs": [
    {
     "data": {
      "text/plain": [
       "Business_Category\n",
       "Conventional    86\n",
       "Islamic         42\n",
       "Takaful         28\n",
       "Name: count, dtype: int64"
      ]
     },
     "execution_count": 7,
     "metadata": {},
     "output_type": "execute_result"
    }
   ],
   "source": [
    "dic_op_rev.Business_Category.value_counts()"
   ]
  },
  {
   "cell_type": "code",
   "execution_count": 8,
   "id": "45578ae9-e554-41c5-91e0-32199e88f71e",
   "metadata": {},
   "outputs": [],
   "source": [
    "#----------------------------------------------Income from Islamic Businesses-------------------------------------------------------------\n",
    "\n",
    "dic_inc_isl_biz1 = dic_inc_isl_biz.iloc[np.where(~dic_inc_isl_biz['GL_Code_'].isna())].fillna(0)\n",
    "dic_inc_isl_biz1 = dic_inc_isl_biz1.iloc[np.where(~dic_inc_isl_biz1.GL_Description_2.isin(['Forex loss/gain realised','Forex loss/gain unrealised']))]\n",
    "\n",
    "dic_inc_isl_biz1.GL_Code_ = dic_inc_isl_biz1.GL_Code_.astype(int)\n",
    "dic_inc_isl_biz1.GL_Code_ = dic_inc_isl_biz1.GL_Code_.astype(str)\n",
    "\n",
    "#dic_inc_isl_biz1 = dic_inc_isl_biz1.drop_duplicates('GL_Code_', keep='first')\n",
    "\n",
    "IncIslBiz = dic_inc_isl_biz1.merge(Income_curr_raw1[['Item','GL_Code_','YTD '+str(Income_curr[21:])]],on=['GL_Code_'],how='left').fillna(0)\n",
    "\n",
    "IncIslBiz['YTD '+str(Income_curr[21:])] = IncIslBiz['YTD '+str(Income_curr[21:])]*-1\n",
    "\n",
    "#unwind\n",
    "IncIslBiz.loc[IncIslBiz.GL_Code_ == '5500306' , 'GL_Description_2'] = 'Other Income'\n",
    "\n",
    "IncIslBiz.loc[IncIslBiz.GL_Description_2.isin(['Banking','Other Income']) , 'Class'] = 'Income derived from Islamic banking fund'\n",
    "\n",
    "IncIslBiz_islbankfund = IncIslBiz.iloc[np.where(IncIslBiz['GL_Description_2'].isin(['Banking','Other Income']))].fillna(0).groupby(['Class'])[['YTD '+str(Income_curr[21:])]].sum().reset_index() #,'Business_Unit"
   ]
  },
  {
   "cell_type": "code",
   "execution_count": 9,
   "id": "0726061b-e5d9-4e44-8923-5eb23e206cb4",
   "metadata": {},
   "outputs": [
    {
     "data": {
      "text/html": [
       "<div>\n",
       "<style scoped>\n",
       "    .dataframe tbody tr th:only-of-type {\n",
       "        vertical-align: middle;\n",
       "    }\n",
       "\n",
       "    .dataframe tbody tr th {\n",
       "        vertical-align: top;\n",
       "    }\n",
       "\n",
       "    .dataframe thead th {\n",
       "        text-align: right;\n",
       "    }\n",
       "</style>\n",
       "<table border=\"1\" class=\"dataframe\">\n",
       "  <thead>\n",
       "    <tr style=\"text-align: right;\">\n",
       "      <th></th>\n",
       "      <th>Class</th>\n",
       "      <th>YTD Apr 2024</th>\n",
       "    </tr>\n",
       "  </thead>\n",
       "  <tbody>\n",
       "    <tr>\n",
       "      <th>0</th>\n",
       "      <td>Income derived from Islamic banking fund</td>\n",
       "      <td>5.85e+07</td>\n",
       "    </tr>\n",
       "  </tbody>\n",
       "</table>\n",
       "</div>"
      ],
      "text/plain": [
       "                                      Class  YTD Apr 2024\n",
       "0  Income derived from Islamic banking fund      5.85e+07"
      ]
     },
     "execution_count": 9,
     "metadata": {},
     "output_type": "execute_result"
    }
   ],
   "source": [
    "IncIslBiz_islbankfund"
   ]
  },
  {
   "cell_type": "code",
   "execution_count": 10,
   "id": "dbf20f63-2809-498b-9ce1-48aa67ffb135",
   "metadata": {},
   "outputs": [
    {
     "data": {
      "text/plain": [
       "58499732.06"
      ]
     },
     "execution_count": 10,
     "metadata": {},
     "output_type": "execute_result"
    }
   ],
   "source": [
    "sum(IncIslBiz_islbankfund['YTD '+str(Income_curr[21:])])"
   ]
  },
  {
   "cell_type": "code",
   "execution_count": 11,
   "id": "f1781435-1f78-43e3-b3f2-26ea9f4e2081",
   "metadata": {},
   "outputs": [],
   "source": [
    "#----------------------------------------------Income from Islamic Businesses-------------------------------------------------------------\n",
    "\n",
    "IncIslBiz.loc[IncIslBiz.GL_Description_2.isin(['Financing cost']) , 'Class'] = 'Financing cost'\n",
    "\n",
    "IncIslBiz_FunCos= IncIslBiz.iloc[np.where(IncIslBiz['GL_Description_2'].isin(['Financing cost']))].fillna(0).groupby(['Class'])[['YTD '+str(Income_curr[21:])]].sum().reset_index() #,'Business_Unit"
   ]
  },
  {
   "cell_type": "code",
   "execution_count": 12,
   "id": "841b8166-380d-425c-b058-a6022b3e0f60",
   "metadata": {},
   "outputs": [
    {
     "data": {
      "text/plain": [
       "-36033842.480000004"
      ]
     },
     "execution_count": 12,
     "metadata": {},
     "output_type": "execute_result"
    }
   ],
   "source": [
    "sum(IncIslBiz_FunCos['YTD '+str(Income_curr[21:])])"
   ]
  },
  {
   "cell_type": "code",
   "execution_count": null,
   "id": "f69ef758-41eb-4ec9-93e1-2a36e7ee846d",
   "metadata": {},
   "outputs": [],
   "source": []
  },
  {
   "cell_type": "code",
   "execution_count": 13,
   "id": "eda6da16-b1cf-4d4b-b637-4bbf1b9a0b65",
   "metadata": {},
   "outputs": [],
   "source": [
    "frames = [OpRev2, IncIslBiz_islbankfund, IncIslBiz_FunCos] \n",
    "appendR = pd.concat(frames)\n",
    "\n",
    "appendR.set_index('Class', inplace=True)\n",
    "\n",
    "b = appendR.T\n",
    "b['Net income from Islamic banking fund'] = b['Income derived from Islamic banking fund'] + b['Financing cost']\n",
    "\n",
    "c = b.T\n",
    "newdf =c.reset_index()"
   ]
  },
  {
   "cell_type": "code",
   "execution_count": 14,
   "id": "a3b30c2b-f6c1-49c7-bb04-a04af661f93b",
   "metadata": {},
   "outputs": [],
   "source": [
    "#----------------------------------------------Income from Islamic Businesses-------------------------------------------------------------\n",
    "\n",
    "IncIslBiz.loc[IncIslBiz.GL_Description_2.isin(['Financing cost']) , 'Class'] = 'Financing cost'\n",
    "\n",
    "IncIslBiz_FunCos= IncIslBiz.iloc[np.where(IncIslBiz['GL_Description_2'].isin(['Financing cost']))].fillna(0).groupby(['Class'])[['YTD '+str(Income_curr[21:])]].sum().reset_index() #,'Business_Unit"
   ]
  },
  {
   "cell_type": "code",
   "execution_count": 15,
   "id": "4788ca43-26d1-41b3-9b98-b1d54b9ff94b",
   "metadata": {},
   "outputs": [],
   "source": [
    "#----------------------------------------------Income from Islamic Businesses-------------------------------------------------------------\n",
    "\n",
    "IncIslBiz.loc[IncIslBiz.GL_Description_2.isin(['Wakalah fee']) , 'Class'] = 'Wakalah fee'\n",
    "\n",
    "IncIslBiz_wakalah= IncIslBiz.iloc[np.where(IncIslBiz['GL_Description_2'].isin(['Wakalah fee']))].fillna(0).groupby(['Class'])[['YTD '+str(Income_curr[21:])]].sum().reset_index() #,'Business_Unit"
   ]
  },
  {
   "cell_type": "code",
   "execution_count": 16,
   "id": "109ace5e-e015-4d7f-803e-f289837fd7bc",
   "metadata": {},
   "outputs": [
    {
     "data": {
      "text/plain": [
       "415691.38"
      ]
     },
     "execution_count": 16,
     "metadata": {},
     "output_type": "execute_result"
    }
   ],
   "source": [
    "sum(IncIslBiz_wakalah['YTD '+str(Income_curr[21:])])"
   ]
  },
  {
   "cell_type": "code",
   "execution_count": 17,
   "id": "a77c7eaa-9226-414c-a459-df55e193a279",
   "metadata": {},
   "outputs": [],
   "source": [
    "#----------------------------------------------Income from Islamic Businesses-------------------------------------------------------------\n",
    "\n",
    "IncIslBiz.loc[IncIslBiz.GL_Description_2.isin(['Movement in expense liabilities']) , 'Class'] = 'Movement in expense liabilities'\n",
    "\n",
    "IncIslBiz_movinliab= IncIslBiz.iloc[np.where(IncIslBiz['GL_Description_2'].isin(['Movement in expense liabilities']))].fillna(0).groupby(['Class'])[['YTD '+str(Income_curr[21:])]].sum().reset_index() #,'Business_Unit"
   ]
  },
  {
   "cell_type": "code",
   "execution_count": 18,
   "id": "5adf1412-3780-42c6-8e49-743ac804d9c1",
   "metadata": {},
   "outputs": [
    {
     "data": {
      "text/plain": [
       "0.0"
      ]
     },
     "execution_count": 18,
     "metadata": {},
     "output_type": "execute_result"
    }
   ],
   "source": [
    "sum(IncIslBiz_movinliab['YTD '+str(Income_curr[21:])])"
   ]
  },
  {
   "cell_type": "code",
   "execution_count": 19,
   "id": "383436a6-0cb3-4374-a4e5-8c0a7b004bf1",
   "metadata": {},
   "outputs": [],
   "source": [
    "#----------------------------------------------Income from Islamic Businesses-------------------------------------------------------------\n",
    "\n",
    "IncIslBiz.loc[IncIslBiz.GL_Description_2.isin(['Takaful fees']) , 'Class'] = 'Takaful fees'\n",
    "\n",
    "IncIslBiz_tkflfees= IncIslBiz.iloc[np.where(IncIslBiz['GL_Description_2'].isin(['Takaful fees']))].fillna(0).groupby(['Class'])[['YTD '+str(Income_curr[21:])]].sum().reset_index() #,'Business_Unit"
   ]
  },
  {
   "cell_type": "code",
   "execution_count": 20,
   "id": "250ec23a-0815-426d-bb40-ca79a186a0fd",
   "metadata": {},
   "outputs": [
    {
     "data": {
      "text/plain": [
       "4533.5"
      ]
     },
     "execution_count": 20,
     "metadata": {},
     "output_type": "execute_result"
    }
   ],
   "source": [
    "sum(IncIslBiz_tkflfees['YTD '+str(Income_curr[21:])])"
   ]
  },
  {
   "cell_type": "code",
   "execution_count": 21,
   "id": "e080c7d7-6ee2-45ff-af56-64cf2b903623",
   "metadata": {},
   "outputs": [],
   "source": [
    "appendnew = pd.concat([newdf, IncIslBiz_wakalah, IncIslBiz_movinliab, IncIslBiz_tkflfees])\n",
    "\n",
    "appendnew.set_index('Class', inplace=True)\n",
    "\n",
    "la = appendnew.T\n",
    "la['Income from takaful activities'] = la['Wakalah fee'] + la['Movement in expense liabilities'] + la['Takaful fees']\n",
    "\n",
    "la['Income from Islamic business'] = la['Net income from Islamic banking fund'] + la['Income from takaful activities']\n",
    "\n",
    "la1 = la.T\n",
    "newdf1 =la1.reset_index()"
   ]
  },
  {
   "cell_type": "code",
   "execution_count": 22,
   "id": "8356d5d7-5f52-4c96-8068-387b895d11a4",
   "metadata": {},
   "outputs": [],
   "source": [
    "#----------------------------------------------Other Income-------------------------------------------------------------\n",
    "\n",
    "dic_oth_inc1 = dic_oth_inc.iloc[np.where(~dic_oth_inc['GL_Code_'].isna())].fillna(0)\n",
    "\n",
    "dic_oth_inc1.GL_Code_ = dic_oth_inc1.GL_Code_.astype(int)\n",
    "dic_oth_inc1.GL_Code_ = dic_oth_inc1.GL_Code_.astype(str)\n",
    "\n",
    "#dic_inc_isl_biz1 = dic_inc_isl_biz1.drop_duplicates('GL_Code_', keep='first')\n",
    "\n",
    "OthInc = dic_oth_inc1.merge(Income_curr_raw1[['Item','GL_Code_','YTD '+str(Income_curr[21:])]],on=['GL_Code_'],how='left').fillna(0)\n",
    "\n",
    "OthInc['YTD '+str(Income_curr[21:])] = OthInc['YTD '+str(Income_curr[21:])]*-1\n",
    "\n",
    "#Islamic\n",
    "OthInc.loc[OthInc.GL_Code_.isin(['4410101','4410106','4410107','4410108','4410109','4410102',\n",
    "'4410103','4410111','4410112','4410702','4410104','4410105','4400201','4410703','4420706','4400112','4400114']),'Class']='Other Income - Fee Income'\n",
    "\n",
    "OthInc.loc[OthInc.GL_Code_.isin(['4420709','4420712']),'Class']='Other Income - Forex loss/gain unrealised'\n",
    "\n",
    "OthInc.loc[OthInc.GL_Code_.isin(['4420710','4420713','4420719','4420730','4420726',\n",
    "                                         '4420725']),'Class']='Other Income - Forex loss/gain realised'\n",
    "\n",
    "OthInc.loc[OthInc.GL_Code_.isin(['4420704','4420732','4420750','4420751']),'Class']='Other Income - Gain/Loss on financial instruments designated FVTPL'\n",
    "\n",
    "OthInc.loc[OthInc.GL_Code_.isin(['4420600','4420601']),'Class']='Other Income - Gain/Loss on Investment in shares'\n",
    "\n",
    "OthInc.loc[OthInc.GL_Code_.isin(['4420910','4420911','5540010','5540007']),'Class']='Other Income - Gain/Loss on Sukuk designated FVTPL'\n",
    "\n",
    "OthIncl = OthInc.iloc[np.where(OthInc.Class.isin(['Other Income - Fee Income',\n",
    "                                                  'Other Income - Forex loss/gain unrealised',\n",
    "                                                  'Other Income - Forex loss/gain realised',\n",
    "                                                 'Other Income - Gain/Loss on financial instruments designated FVTPL',\n",
    "                                                 'Other Income - Gain/Loss on Investment in shares',\n",
    "                                                 'Other Income - Gain/Loss on Sukuk designated FVTPL']))]\n",
    "\n",
    "OthInc1 = OthIncl.fillna(0).groupby(['Class'])[['YTD '+str(Income_curr[21:])]].sum().reset_index() #,'Business_Unit"
   ]
  },
  {
   "cell_type": "code",
   "execution_count": 23,
   "id": "0b636465-8be6-46f7-9b27-e3e50892c264",
   "metadata": {},
   "outputs": [
    {
     "data": {
      "text/plain": [
       "-11988020.93"
      ]
     },
     "execution_count": 23,
     "metadata": {},
     "output_type": "execute_result"
    }
   ],
   "source": [
    "sum(OthInc1['YTD '+str(Income_curr[21:])])"
   ]
  },
  {
   "cell_type": "code",
   "execution_count": 24,
   "id": "2353f078-b0cf-4d2e-9ac5-24b6539e77e7",
   "metadata": {},
   "outputs": [],
   "source": [
    "appendnew1 = pd.concat([newdf1, OthInc1])\n",
    "\n",
    "appendnew1.set_index('Class', inplace=True)\n",
    "\n",
    "laa = appendnew1.T\n",
    "laa['Total Other Income'] = laa['Other Income - Fee Income'] + laa['Other Income - Forex loss/gain unrealised']+ laa['Other Income - Forex loss/gain realised']+ laa['Other Income - Gain/Loss on financial instruments designated FVTPL']+ laa['Other Income - Gain/Loss on Investment in shares']+ laa['Other Income - Gain/Loss on Sukuk designated FVTPL']\n",
    "\n",
    "laa['Net income'] = laa['Income from Islamic business'] + laa['Total Other Income']\n",
    "\n",
    "laa1 = laa.T\n",
    "newdf2 =laa1.reset_index()"
   ]
  },
  {
   "cell_type": "code",
   "execution_count": 25,
   "id": "c44f6d9e-87d6-4291-b855-212c187ee573",
   "metadata": {},
   "outputs": [],
   "source": [
    "#----------------------------------------------Overhead expenses-------------------------------------------------------------\n",
    "\n",
    "dic_ovh_exp1 = dic_ovh_exp.iloc[np.where(~dic_ovh_exp['GL_Code_'].isna())].fillna(0)\n",
    "\n",
    "dic_ovh_exp1.GL_Code_ = dic_ovh_exp1.GL_Code_.astype(int)\n",
    "dic_ovh_exp1.GL_Code_ = dic_ovh_exp1.GL_Code_.astype(str)\n",
    "\n",
    "dic_ovh_exp1 = dic_ovh_exp1.drop_duplicates('GL_Code_', keep='last')\n",
    "\n",
    "OvhExp = dic_ovh_exp1.merge(Income_curr_raw1[['Item','GL_Code_','YTD '+str(Income_curr[21:])]],on=['GL_Code_'],how='left').fillna(0)\n",
    "\n",
    "OvhExp['YTD '+str(Income_curr[21:])] = OvhExp['YTD '+str(Income_curr[21:])]*-1\n",
    "\n",
    "#Conventional\n",
    "OvhExpl = OvhExp.iloc[np.where(OvhExp.GL_Code_.isin(['5510107',\n",
    "'5510510',\n",
    "'5510119',\n",
    "'5510148',\n",
    "'5510600',\n",
    "'5510604',\n",
    "'5510407',\n",
    "'5510871',\n",
    "'5510505',\n",
    "'5510507',\n",
    "'5511200',\n",
    "'5511207',\n",
    "'5510110',\n",
    "'5510607',\n",
    "'5510608',\n",
    "'5510204']))]\n",
    "\n",
    "OvhExp1 = OvhExpl.fillna(0).groupby(['Class'])[['YTD '+str(Income_curr[21:])]].sum().reset_index() #,'Business_Unit"
   ]
  },
  {
   "cell_type": "code",
   "execution_count": 26,
   "id": "de3cf67e-1dda-4f6f-b014-0c2622a299ed",
   "metadata": {},
   "outputs": [
    {
     "data": {
      "text/plain": [
       "-646065.51"
      ]
     },
     "execution_count": 26,
     "metadata": {},
     "output_type": "execute_result"
    }
   ],
   "source": [
    "sum(OvhExp1['YTD '+str(Income_curr[21:])])"
   ]
  },
  {
   "cell_type": "code",
   "execution_count": 27,
   "id": "864ce665-4257-442d-9111-2b5547103b7a",
   "metadata": {},
   "outputs": [
    {
     "data": {
      "text/html": [
       "<div>\n",
       "<style scoped>\n",
       "    .dataframe tbody tr th:only-of-type {\n",
       "        vertical-align: middle;\n",
       "    }\n",
       "\n",
       "    .dataframe tbody tr th {\n",
       "        vertical-align: top;\n",
       "    }\n",
       "\n",
       "    .dataframe thead th {\n",
       "        text-align: right;\n",
       "    }\n",
       "</style>\n",
       "<table border=\"1\" class=\"dataframe\">\n",
       "  <thead>\n",
       "    <tr style=\"text-align: right;\">\n",
       "      <th></th>\n",
       "      <th>Class</th>\n",
       "      <th>YTD Apr 2024</th>\n",
       "    </tr>\n",
       "  </thead>\n",
       "  <tbody>\n",
       "    <tr>\n",
       "      <th>0</th>\n",
       "      <td>Overhead expenses</td>\n",
       "      <td>-646065.51</td>\n",
       "    </tr>\n",
       "  </tbody>\n",
       "</table>\n",
       "</div>"
      ],
      "text/plain": [
       "               Class  YTD Apr 2024\n",
       "0  Overhead expenses    -646065.51"
      ]
     },
     "execution_count": 27,
     "metadata": {},
     "output_type": "execute_result"
    }
   ],
   "source": [
    "OvhExp1"
   ]
  },
  {
   "cell_type": "code",
   "execution_count": 28,
   "id": "b26e7a7a-4b22-43fc-9687-343c4dd924e1",
   "metadata": {},
   "outputs": [],
   "source": [
    "appendnew2 = pd.concat([newdf2, OvhExp1] )\n",
    "\n",
    "appendnew2.set_index('Class', inplace=True)\n",
    "\n",
    "laaa = appendnew2.T\n",
    "laaa['Operating profit'] = laaa['Net income'] + laaa['Overhead expenses']\n",
    "\n",
    "laaa1 = laaa.T\n",
    "newdf3 =laaa1.reset_index()"
   ]
  },
  {
   "cell_type": "code",
   "execution_count": 29,
   "id": "67058c5e-2185-4cbc-82e3-5cc208e66569",
   "metadata": {},
   "outputs": [],
   "source": [
    "#----------------------------------------------Allowances for losses on loans & financing -------------------------------------------------------------\n",
    "\n",
    "dic_allw_laf1 = dic_allw_laf.iloc[np.where(~dic_allw_laf['GL_Code_'].isna())].fillna(0)\n",
    "\n",
    "dic_allw_laf1.GL_Code_ = dic_allw_laf1.GL_Code_.astype(int)\n",
    "dic_allw_laf1.GL_Code_ = dic_allw_laf1.GL_Code_.astype(str)\n",
    "\n",
    "#dic_inc_isl_biz1 = dic_inc_isl_biz1.drop_duplicates('GL_Code_', keep='first')\n",
    "\n",
    "AllwLaf = dic_allw_laf1.merge(Income_curr_raw1[['Item','GL_Code_','YTD '+str(Income_curr[21:])]],on=['GL_Code_'],how='left').fillna(0)\n",
    "\n",
    "AllwLaf['YTD '+str(Income_curr[21:])] = AllwLaf['YTD '+str(Income_curr[21:])]*-1\n",
    "\n",
    "#Conventional\n",
    "AllwLafl = AllwLaf.iloc[np.where(AllwLaf.GL_Code_.isin(['5511422',\n",
    "'5511421',\n",
    "'5511411',\n",
    "'5511412',\n",
    "'5511417',\n",
    "'5511418',\n",
    "'5511424',\n",
    "'5511400',\n",
    "'4430103']))]\n",
    "\n",
    "AllwLaf1 = AllwLafl.fillna(0).groupby(['Class'])[['YTD '+str(Income_curr[21:])]].sum().reset_index() #,'Business_Unit"
   ]
  },
  {
   "cell_type": "code",
   "execution_count": 30,
   "id": "6f62848c-59e0-4ab8-9e85-171213ff9b14",
   "metadata": {},
   "outputs": [
    {
     "data": {
      "text/plain": [
       "120254.6499999999"
      ]
     },
     "execution_count": 30,
     "metadata": {},
     "output_type": "execute_result"
    }
   ],
   "source": [
    "sum(AllwLaf1['YTD '+str(Income_curr[21:])])"
   ]
  },
  {
   "cell_type": "code",
   "execution_count": 31,
   "id": "670c5f82-cf31-4ddd-b703-1bf3dafc36f6",
   "metadata": {},
   "outputs": [],
   "source": [
    "#----------------------------------------------Allowance for commitments and contingencies  -------------------------------------------------------------\n",
    "\n",
    "dic_allw_cnc1 = dic_allw_cnc.iloc[np.where(~dic_allw_cnc['GL_Code_'].isna())].fillna(0)\n",
    "\n",
    "dic_allw_cnc1.GL_Code_ = dic_allw_cnc1.GL_Code_.astype(int)\n",
    "dic_allw_cnc1.GL_Code_ = dic_allw_cnc1.GL_Code_.astype(str)\n",
    "\n",
    "#dic_inc_isl_biz1 = dic_inc_isl_biz1.drop_duplicates('GL_Code_', keep='first')\n",
    "\n",
    "AllwCnC = dic_allw_cnc1.merge(Income_curr_raw1[['Item','GL_Code_','YTD '+str(Income_curr[21:])]],on=['GL_Code_'],how='left').fillna(0)\n",
    "\n",
    "AllwCnC['YTD '+str(Income_curr[21:])] = AllwCnC['YTD '+str(Income_curr[21:])]*-1\n",
    "\n",
    "#Conventional\n",
    "AllwCnC = AllwCnC.iloc[np.where(AllwCnC.GL_Code_.isin(['5511425',\n",
    "'5511426',\n",
    "'5511427']))]\n",
    "\n",
    "AllwCnC1 = AllwCnC.fillna(0).groupby(['Class'])[['YTD '+str(Income_curr[21:])]].sum().reset_index() #,'Business_Unit"
   ]
  },
  {
   "cell_type": "code",
   "execution_count": 32,
   "id": "f0dc9df0-f790-4b9f-8447-acf5d8d4dba5",
   "metadata": {},
   "outputs": [
    {
     "data": {
      "text/plain": [
       "546162.2599999998"
      ]
     },
     "execution_count": 32,
     "metadata": {},
     "output_type": "execute_result"
    }
   ],
   "source": [
    "sum(AllwCnC1['YTD '+str(Income_curr[21:])])"
   ]
  },
  {
   "cell_type": "code",
   "execution_count": 33,
   "id": "912acb32-c429-49d1-a777-c5c940aab13f",
   "metadata": {},
   "outputs": [],
   "source": [
    "#----------------------------------------------Allowance on investment securities  -------------------------------------------------------------\n",
    "\n",
    "dic_allw_invsec1 = dic_allw_invsec.iloc[np.where(~dic_allw_invsec['GL_Code_'].isna())].fillna(0)\n",
    "\n",
    "dic_allw_invsec1.GL_Code_ = dic_allw_invsec1.GL_Code_.astype(int)\n",
    "dic_allw_invsec1.GL_Code_ = dic_allw_invsec1.GL_Code_.astype(str)\n",
    "\n",
    "#dic_inc_isl_biz1 = dic_inc_isl_biz1.drop_duplicates('GL_Code_', keep='first')\n",
    "\n",
    "AllwInvSec = dic_allw_invsec1.merge(Income_curr_raw1[['Item','GL_Code_','YTD '+str(Income_curr[21:])]],on=['GL_Code_'],how='left').fillna(0)\n",
    "\n",
    "AllwInvSec['YTD '+str(Income_curr[21:])] = AllwInvSec['YTD '+str(Income_curr[21:])]*-1\n",
    "\n",
    "#Islamic\n",
    "AllwInvSec = AllwInvSec.iloc[np.where(AllwInvSec.GL_Code_.isin(['5511423',\n",
    "'5511428',\n",
    "'5511429',\n",
    "'5511430']))]\n",
    "\n",
    "AllwInvSec1 = AllwInvSec.fillna(0).groupby(['Class'])[['YTD '+str(Income_curr[21:])]].sum().reset_index() #,'Business_Unit"
   ]
  },
  {
   "cell_type": "code",
   "execution_count": 34,
   "id": "e4eafd4d-90b5-4f7d-99bf-be35440b10fd",
   "metadata": {},
   "outputs": [
    {
     "data": {
      "text/plain": [
       "0.0"
      ]
     },
     "execution_count": 34,
     "metadata": {},
     "output_type": "execute_result"
    }
   ],
   "source": [
    "sum(AllwInvSec1['YTD '+str(Income_curr[21:])])"
   ]
  },
  {
   "cell_type": "code",
   "execution_count": null,
   "id": "599056ec-38ba-4de9-9423-463ac569b9f1",
   "metadata": {},
   "outputs": [],
   "source": []
  },
  {
   "cell_type": "code",
   "execution_count": 35,
   "id": "1fc50e45-ce79-41d6-944e-7488828faaed",
   "metadata": {},
   "outputs": [],
   "source": [
    "appendnew3 = pd.concat([newdf3, AllwLaf1, AllwCnC1, AllwInvSec1] )\n",
    "\n",
    "appendnew3.set_index('Class', inplace=True)\n",
    "\n",
    "laaaa = appendnew3.T\n",
    "laaaa['Profit before taxation'] = laaaa['Operating profit'] + laaaa['Allowances for losses on loans & financing'] + laaaa['Allowance for commitments and contingencies']+laaaa['Allowance on investment securities']\n",
    "\n",
    "laaaa1 = laaaa.T\n",
    "newdf4 =laaaa1.reset_index()\n"
   ]
  },
  {
   "cell_type": "code",
   "execution_count": 36,
   "id": "eba57046-e561-4162-9093-6137101f1119",
   "metadata": {},
   "outputs": [],
   "source": [
    "#---------------------------------------------Zakat-------------------------------------------------------------\n",
    "\n",
    "tax1 = tax.iloc[np.where(~tax['GL_Code_'].isna())].fillna(0)\n",
    "\n",
    "tax1.GL_Code_ = tax1.GL_Code_.astype(int)\n",
    "tax1.GL_Code_ = tax1.GL_Code_.astype(str)\n",
    "\n",
    "#dic_inc_isl_biz1 = dic_inc_isl_biz1.drop_duplicates('GL_Code_', keep='first')\n",
    "\n",
    "TAXX = tax1.merge(Income_curr_raw1[['Item','GL_Code_','YTD '+str(Income_curr[21:])]],on=['GL_Code_'],how='left').fillna(0)\n",
    "\n",
    "TAXX['YTD '+str(Income_curr[21:])] = TAXX['YTD '+str(Income_curr[21:])]*-1\n",
    "\n",
    "#dividen expense n zakat\n",
    "TAXX = TAXX.iloc[np.where((TAXX.GL_Description.isin([\"Zakat\"])))]\n",
    "\n",
    "TAXX1 = TAXX.fillna(0).groupby(['Class'])[['YTD '+str(Income_curr[21:])]].sum().reset_index() #,'Business_Unit"
   ]
  },
  {
   "cell_type": "code",
   "execution_count": null,
   "id": "54b2aaba-1208-4346-a62e-2625b2fa5eac",
   "metadata": {},
   "outputs": [],
   "source": []
  },
  {
   "cell_type": "code",
   "execution_count": 37,
   "id": "b593475d-0cb5-4e71-8e6c-49f9b365a118",
   "metadata": {},
   "outputs": [],
   "source": [
    "appendnew4 = pd.concat([newdf4, TAXX1] )\n",
    "\n",
    "appendnew4.set_index('Class', inplace=True)\n",
    "\n",
    "laaaa4 = appendnew4.T\n",
    "laaaa4['Net profit/Loss for the year'] = laaaa4['Profit before taxation'] + laaaa4['Zakat']\n",
    "\n",
    "laaaa14 = laaaa4.T\n",
    "newdf5 =laaaa14.reset_index()\n",
    "\n",
    "newdf5.rename(columns={'Class':'Income Statement'}, inplace=True)"
   ]
  },
  {
   "cell_type": "code",
   "execution_count": 38,
   "id": "08fcf16a-dddd-4e10-ba64-0a0e1d335ccb",
   "metadata": {},
   "outputs": [
    {
     "data": {
      "text/plain": [
       "10918444.929999998"
      ]
     },
     "execution_count": 38,
     "metadata": {},
     "output_type": "execute_result"
    }
   ],
   "source": [
    "sum(newdf5.iloc[np.where(newdf5['Income Statement']=='Net profit/Loss for the year')]['YTD '+str(Income_curr[21:])])"
   ]
  },
  {
   "cell_type": "markdown",
   "id": "d57f4c8b-3ae2-4f32-b157-b6f0d2efc2ad",
   "metadata": {},
   "source": [
    "# Export "
   ]
  },
  {
   "cell_type": "code",
   "execution_count": 39,
   "id": "e0f3fe4f-1fd8-4d07-8c5e-da07be1384a3",
   "metadata": {
    "scrolled": true
   },
   "outputs": [],
   "source": [
    "newdf5.to_excel(str(Location)+'\\\\'+str(Income_curr[:4])+'YTD - Income Statement '+str(Income_curr[21:])+' Islamic (python).xlsx', sheet_name=\"Profit Loss Islamic\", index = False)\n"
   ]
  },
  {
   "cell_type": "code",
   "execution_count": 40,
   "id": "fd82d493-8b85-44be-b79a-b6d74b7b00ef",
   "metadata": {},
   "outputs": [
    {
     "data": {
      "text/plain": [
       "'C:\\\\Users\\\\syahidhalid\\\\Syahid_PC\\\\Analytics - FAD\\\\06. Management Account\\\\\\\\202404'"
      ]
     },
     "execution_count": 40,
     "metadata": {},
     "output_type": "execute_result"
    }
   ],
   "source": [
    "Location"
   ]
  },
  {
   "cell_type": "code",
   "execution_count": null,
   "id": "29c8e41b-c9e2-4d56-a676-a6e7c7cb821e",
   "metadata": {},
   "outputs": [],
   "source": []
  },
  {
   "cell_type": "markdown",
   "id": "a38451e8-0af9-403c-9226-efbafb77e18c",
   "metadata": {},
   "source": [
    "# Monthly BI"
   ]
  },
  {
   "cell_type": "code",
   "execution_count": 41,
   "id": "1d42e96c-d6cf-42ae-8951-36756b97719f",
   "metadata": {},
   "outputs": [
    {
     "name": "stdout",
     "output_type": "stream",
     "text": [
      "(40, 9)\n",
      "(72, 7)\n",
      "(35, 7)\n",
      "(16, 8)\n",
      "(9, 7)\n",
      "(3, 7)\n",
      "(4, 7)\n",
      "(1, 7)\n"
     ]
    }
   ],
   "source": [
    "print(OpRev.shape)\n",
    "print(IncIslBiz.shape)\n",
    "print(OthIncl.shape)\n",
    "print(OvhExpl.shape)\n",
    "print(AllwLafl.shape)\n",
    "print(AllwCnC.shape)\n",
    "print(AllwInvSec.shape)\n",
    "print(TAXX.shape)"
   ]
  },
  {
   "cell_type": "code",
   "execution_count": 42,
   "id": "1213d186-6faa-4d03-bd69-4d99f046aecb",
   "metadata": {},
   "outputs": [],
   "source": [
    "#smpi sini"
   ]
  },
  {
   "cell_type": "code",
   "execution_count": null,
   "id": "1b550f43-0a54-441e-950e-de293d513449",
   "metadata": {},
   "outputs": [],
   "source": []
  },
  {
   "cell_type": "code",
   "execution_count": null,
   "id": "7cb7b50c-6009-447a-a92d-53d00977b933",
   "metadata": {},
   "outputs": [],
   "source": []
  },
  {
   "cell_type": "code",
   "execution_count": 43,
   "id": "76ecf53f-1415-41fd-a462-e40ae6fac8f5",
   "metadata": {},
   "outputs": [
    {
     "name": "stderr",
     "output_type": "stream",
     "text": [
      "C:\\Users\\syahidhalid\\AppData\\Local\\Temp\\1\\ipykernel_8464\\2616631614.py:6: SettingWithCopyWarning: \n",
      "A value is trying to be set on a copy of a slice from a DataFrame.\n",
      "Try using .loc[row_indexer,col_indexer] = value instead\n",
      "\n",
      "See the caveats in the documentation: https://pandas.pydata.org/pandas-docs/stable/user_guide/indexing.html#returning-a-view-versus-a-copy\n",
      "  OthIncl['Business_Category'] = 'NA'\n",
      "C:\\Users\\syahidhalid\\AppData\\Local\\Temp\\1\\ipykernel_8464\\2616631614.py:14: SettingWithCopyWarning: \n",
      "A value is trying to be set on a copy of a slice from a DataFrame.\n",
      "Try using .loc[row_indexer,col_indexer] = value instead\n",
      "\n",
      "See the caveats in the documentation: https://pandas.pydata.org/pandas-docs/stable/user_guide/indexing.html#returning-a-view-versus-a-copy\n",
      "  AllwLafl['Business_Category'] = 'NA'\n"
     ]
    }
   ],
   "source": [
    "#---------------------------------------------Power BI-------------------------------------------------------------\n",
    "\n",
    "OpRev1_BI = OpRev.rename(columns={'Business_Unit':'GL_Description_2'})[['GL_Description','GL_Code_','GL_Category','GL_Description_2','Class','Item','YTD '+str(Income_curr[21:]),'Business_Category']]\n",
    "\n",
    "IncIslBiz['Business_Category'] = 'NA'\n",
    "OthIncl['Business_Category'] = 'NA'\n",
    "\n",
    "#.drop('GL_Category',axis=1)\n",
    "OvhExpBI = OvhExpl.rename(columns={'Class_2':'Business_Category'})[['GL_Description',\n",
    "'GL_Code_','GL_Category','GL_Description_2','Class','Item','YTD '+str(Income_curr[21:]),'Business_Category']]\n",
    "\n",
    "#OvhExp1 = OvhExp.drop('GL_Category',axis=1).rename(columns={'Class_2':'GL_Description_2','GL_Description_2':'GL_Category'})[['GL_Description','GL_Code_','GL_Category','GL_Description_2','Class','Item','YTD '+str(Income_curr[21:]),'Business_Category']]\n",
    "\n",
    "AllwLafl['Business_Category'] = 'NA'\n",
    "AllwCnC['Business_Category'] = 'NA'\n",
    "AllwInvSec['Business_Category'] = 'NA'\n",
    "TAXX['Business_Category'] = 'NA'\n",
    "\n",
    "\n",
    "PnL_BI = pd.concat([OpRev1_BI,\n",
    "                    IncIslBiz,\n",
    "                    OthIncl,\n",
    "                    OvhExpBI,\n",
    "                    AllwLafl,\n",
    "                    AllwCnC,\n",
    "                    AllwInvSec,\n",
    "                    TAXX])"
   ]
  },
  {
   "cell_type": "code",
   "execution_count": null,
   "id": "d7a16940-d8b8-493f-9587-db30849fa9f8",
   "metadata": {},
   "outputs": [],
   "source": []
  },
  {
   "cell_type": "code",
   "execution_count": 44,
   "id": "737efcb4-7c0d-40c7-baca-7458883b40ec",
   "metadata": {},
   "outputs": [
    {
     "name": "stdout",
     "output_type": "stream",
     "text": [
      "(40, 8)\n",
      "(72, 8)\n",
      "(35, 8)\n",
      "(16, 8)\n",
      "(9, 8)\n",
      "(3, 8)\n",
      "(4, 8)\n",
      "(1, 8)\n"
     ]
    }
   ],
   "source": [
    "print(OpRev1_BI.shape)\n",
    "print(IncIslBiz.shape)\n",
    "print(OthIncl.shape)\n",
    "print(OvhExpBI.shape)\n",
    "print(AllwLafl.shape)\n",
    "print(AllwCnC.shape)\n",
    "print(AllwInvSec.shape)\n",
    "print(TAXX.shape)"
   ]
  },
  {
   "cell_type": "code",
   "execution_count": null,
   "id": "27e37a72-f99b-4dd2-83f6-2e35458d50e9",
   "metadata": {},
   "outputs": [],
   "source": []
  },
  {
   "cell_type": "code",
   "execution_count": null,
   "id": "40eeddcf-3107-4829-b46d-a74c65c39f28",
   "metadata": {},
   "outputs": [],
   "source": []
  },
  {
   "cell_type": "markdown",
   "id": "fffa247d-1c89-4909-9135-50ccf98ed081",
   "metadata": {},
   "source": [
    "# Export"
   ]
  },
  {
   "cell_type": "code",
   "execution_count": 45,
   "id": "cc20d874-4b71-47f1-94c4-f1a52f63683c",
   "metadata": {},
   "outputs": [],
   "source": [
    "PnL_BI.to_csv(str(Location)+'\\\\'+str(Income_curr[:4])+'Income Statement '+str(Income_curr[21:])+' Islamic (python).txt', index = False)\n"
   ]
  },
  {
   "cell_type": "code",
   "execution_count": 50,
   "id": "da608560-7153-43f0-a89d-9261664e5003",
   "metadata": {},
   "outputs": [
    {
     "data": {
      "text/plain": [
       "'C:\\\\Users\\\\syahidhalid\\\\Syahid_PC\\\\Analytics - FAD\\\\06. Management Account\\\\\\\\202407'"
      ]
     },
     "execution_count": 50,
     "metadata": {},
     "output_type": "execute_result"
    }
   ],
   "source": [
    "Location"
   ]
  },
  {
   "cell_type": "code",
   "execution_count": null,
   "id": "24408fbb-990a-4fe5-b7b3-54325a99a82b",
   "metadata": {},
   "outputs": [],
   "source": []
  },
  {
   "cell_type": "markdown",
   "id": "3abdef77-92fc-41aa-b64a-4399d519502f",
   "metadata": {},
   "source": [
    "# Adhoc"
   ]
  },
  {
   "cell_type": "code",
   "execution_count": null,
   "id": "07003515-f2b0-46ad-bae3-0a875087d24e",
   "metadata": {},
   "outputs": [],
   "source": [
    "#writer2 = pd.ExcelWriter(r'C:\\Users\\syahidhalid\\Syahid_PC\\Analytics - FAD\\06. Management Account\\\\Income Statement '+str(Income_curr[21:])+' (python).xlsx',engine='xlsxwriter')\n",
    "\n",
    "#newdf4.to_excel(writer2, sheet_name='Profit Loss', index = False)\n",
    "\n",
    "#writer2._save()"
   ]
  },
  {
   "cell_type": "code",
   "execution_count": null,
   "id": "0375e21e-ec3b-4432-b1e2-acd5fe75d7fe",
   "metadata": {},
   "outputs": [],
   "source": []
  }
 ],
 "metadata": {
  "kernelspec": {
   "display_name": "Python 3 (ipykernel)",
   "language": "python",
   "name": "python3"
  },
  "language_info": {
   "codemirror_mode": {
    "name": "ipython",
    "version": 3
   },
   "file_extension": ".py",
   "mimetype": "text/x-python",
   "name": "python",
   "nbconvert_exporter": "python",
   "pygments_lexer": "ipython3",
   "version": "3.11.7"
  }
 },
 "nbformat": 4,
 "nbformat_minor": 5
}
