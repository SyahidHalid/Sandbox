{
 "cells": [
  {
   "cell_type": "markdown",
   "id": "b0750c84-aa77-441f-859e-e93edc7ddc58",
   "metadata": {},
   "source": [
    "# Raw File"
   ]
  },
  {
   "cell_type": "code",
   "execution_count": 1,
   "id": "05aa27ba-e943-4e5c-b245-d3d32b3619d4",
   "metadata": {},
   "outputs": [],
   "source": [
    "import pandas as pd\n",
    "import numpy as np\n",
    "\n",
    "#warnings.filterwarnings('ignore')\n",
    "pd.set_option(\"display.max_columns\", None) \n",
    "pd.set_option(\"display.max_colwidth\", 1000) #huruf dlm column\n",
    "pd.set_option(\"display.max_rows\", 100)\n",
    "pd.set_option(\"display.precision\", 2) #2 titik perpuluhan\n"
   ]
  },
  {
   "cell_type": "code",
   "execution_count": 2,
   "id": "9bb32aba-18d4-4694-af09-9ff1c7a620c9",
   "metadata": {
    "scrolled": true
   },
   "outputs": [],
   "source": [
    "EXIB_name = \"EXIB_Mar2024\"\n",
    " \n",
    "EXIM_name = \"EXIM_Mar2024\"\n",
    "\n",
    "EXTF_name = \"EXTF_Mar2024\"\n",
    "\n",
    "date_file = 202403\n",
    "\n",
    "Income_curr = \"03. Income statement Mar 2024\"\n",
    "\n",
    "Location = r\"C:\\Users\\syahidhalid\\Syahid_PC\\Analytics - FAD\\06. Management Account\\\\\"+str(date_file)\n",
    "\n",
    "EXIB = pd.read_excel(str(Location)+\"\\\\Source\\\\\"+str(EXIB_name)+\".xlsx\", sheet_name=EXIB_name, header=5)\n",
    "EXIB.columns = EXIB.columns.str.replace(\"\\n\", \"_\").str.replace(\" \", \"_\")\n",
    "\n",
    "EXIM = pd.read_excel(str(Location)+\"\\\\Source\\\\\"+str(EXIM_name)+\".xlsx\", sheet_name=EXIM_name, header=5)\n",
    "EXIM.columns = EXIM.columns.str.replace(\"\\n\", \"_\").str.replace(\" \", \"_\")\n",
    "\n",
    "EXTF = pd.read_excel(str(Location)+\"\\\\Source\\\\\"+str(EXTF_name)+\".xlsx\", sheet_name=EXTF_name, header=5)\n",
    "EXTF.columns = EXTF.columns.str.replace(\"\\n\", \"_\").str.replace(\" \", \"_\")\n"
   ]
  },
  {
   "cell_type": "code",
   "execution_count": 3,
   "id": "87d34fd2-807e-4f4c-8679-f49f771657ca",
   "metadata": {},
   "outputs": [],
   "source": [
    "EXIB1 = EXIB.rename(columns={\"C\":\"Unnamed:_1\",\n",
    "                            \"Comp\":\"Item\",\n",
    "                            \"Bus.\":\"Account\",\n",
    "                            \"Texts\":\"GL_no.\",\n",
    "                            \"Unnamed:_5\":\"Mapped_to\",\n",
    "                            \"Unnamed:_6\":\"Unnamed:_6\",\n",
    "                            \"Unnamed:_7\":\"Unnamed:_7\",\n",
    "                            \"Unnamed:_8\":\"GL_Category\",\n",
    "                            \"Reporting_period\":\"RM\",\n",
    "                            \"Unnamed:_10\":\"Unnamed:_10\"})"
   ]
  },
  {
   "cell_type": "code",
   "execution_count": 4,
   "id": "3a14b890-97d5-449a-8612-b3b202c9a1d3",
   "metadata": {},
   "outputs": [],
   "source": [
    "EXIM1 = EXIM.rename(columns={\"C\":\"Unnamed:_1\",\n",
    "                            \"Comp\":\"Item\",\n",
    "                            \"Bus.\":\"Account\",\n",
    "                            \"Texts\":\"GL_no.\",\n",
    "                            \"Unnamed:_5\":\"Mapped_to\",\n",
    "                            \"Unnamed:_6\":\"Unnamed:_6\",\n",
    "                            \"Unnamed:_7\":\"Unnamed:_7\",\n",
    "                            \"Unnamed:_8\":\"GL_Category\",\n",
    "                            \"Reporting_period\":\"RM\",\n",
    "                            \"Unnamed:_10\":\"Unnamed:_10\"})"
   ]
  },
  {
   "cell_type": "code",
   "execution_count": 5,
   "id": "421d5600-a646-4d41-9838-e6c6615a41c5",
   "metadata": {},
   "outputs": [],
   "source": [
    "EXTF1 = EXTF.rename(columns={\"C\":\"Unnamed:_1\",\n",
    "                            \"Comp\":\"Item\",\n",
    "                            \"Bus.\":\"Account\",\n",
    "                            \"Texts\":\"GL_no.\",\n",
    "                            \"Unnamed:_5\":\"Mapped_to\",\n",
    "                            \"Unnamed:_6\":\"Unnamed:_6\",\n",
    "                            \"Unnamed:_7\":\"Unnamed:_7\",\n",
    "                            \"Unnamed:_8\":\"GL_Category\",\n",
    "                            \"Reporting_period\":\"RM\",\n",
    "                            \"Unnamed:_10\":\"Unnamed:_10\"})"
   ]
  },
  {
   "cell_type": "code",
   "execution_count": 6,
   "id": "d3a5e581-2f24-4737-a18a-dd0819a61320",
   "metadata": {},
   "outputs": [
    {
     "name": "stdout",
     "output_type": "stream",
     "text": [
      "(340, 18)\n",
      "(2263, 18)\n",
      "(325, 18)\n"
     ]
    }
   ],
   "source": [
    "print(EXIB1.shape)\n",
    "print(EXIM1.shape)\n",
    "print(EXTF1.shape)\n"
   ]
  },
  {
   "cell_type": "code",
   "execution_count": 7,
   "id": "0863cee3-9404-49b7-96d8-77ca51b4a4ee",
   "metadata": {},
   "outputs": [],
   "source": [
    "Income_curr_raw = pd.concat([EXIB1, EXIM1, EXTF1])"
   ]
  },
  {
   "cell_type": "code",
   "execution_count": null,
   "id": "04ecf3fe-68a0-4037-9582-92c78aff4d4f",
   "metadata": {},
   "outputs": [],
   "source": []
  },
  {
   "cell_type": "code",
   "execution_count": null,
   "id": "0e5e7edd-add5-49c6-9600-2819fda8c0a4",
   "metadata": {},
   "outputs": [],
   "source": []
  },
  {
   "cell_type": "code",
   "execution_count": null,
   "id": "6be5c69f-4522-4b5b-a86a-0063170fe65d",
   "metadata": {},
   "outputs": [],
   "source": []
  },
  {
   "cell_type": "code",
   "execution_count": 8,
   "id": "e42577cf-f086-4ee9-8761-8193d77f7190",
   "metadata": {},
   "outputs": [],
   "source": [
    "\n",
    "#----------------------------------------------data-------------------------------------------------------------\n",
    "#Income_curr = \"01. Income statement Jan 2024\"\n",
    "\n",
    "#Location = r\"C:\\\\Users\\\\syahidhalid\\\\Syahid_PC\\\\Analytics - FAD\\\\06. Management Account\\\\Sample\"\n",
    "\n",
    "\n",
    "#Income_curr_raw = pd.read_excel(str(Location)+\"\\\\\"+str(Income_curr)+\".xlsx\", sheet_name='Raw 2024', header=0)\n",
    "#Income_curr_raw.columns = Income_curr_raw.columns.str.replace(\"\\n\", \"_\").str.replace(\" \", \"_\")\n",
    "\n",
    "#Income_prev_raw = pd.read_excel(str(Location)+\"\\\\\"+str(Income_prev)+\".xlsx\", sheet_name='Raw 2024', header=0)\n",
    "#Income_prev_raw.columns = Income_prev_raw.columns.str.replace(\"\\n\", \"_\").str.replace(\" \", \"_\")\n",
    "\n",
    "#Income_prev_keyin = pd.read_excel(str(Location)+\"\\\\\"+str(Income_curr)+\".xlsx\", sheet_name='Keyin2024', header=4)\n",
    "#Income_prev_keyin.columns = Income_prev_keyin.columns.str.replace(\"\\n\", \"_\").str.replace(\" \", \"_\")\n",
    "\n",
    "#Income_curr_keyin = pd.read_excel(str(Location)+\"\\\\\"+str(Income_curr)+\".xlsx\", sheet_name='Keyin2024', header=4)\n",
    "#Income_curr_keyin.columns = Income_curr_keyin.columns.str.replace(\"\\n\", \"_\").str.replace(\" \", \"_\")"
   ]
  },
  {
   "cell_type": "code",
   "execution_count": null,
   "id": "c8f7b7a6-8041-4241-8ad0-5a962c889baf",
   "metadata": {},
   "outputs": [],
   "source": []
  },
  {
   "cell_type": "markdown",
   "id": "2b3f30a0-2272-4a77-9513-11bf011c86f7",
   "metadata": {},
   "source": [
    "# Library"
   ]
  },
  {
   "cell_type": "code",
   "execution_count": 9,
   "id": "69d42fba-663b-4865-9048-a3bdcd6b5a74",
   "metadata": {},
   "outputs": [],
   "source": [
    "\n",
    "Location_dic = r\"C:\\\\Users\\\\syahidhalid\\\\Syahid_PC\\\\Analytics - FAD\\\\06. Management Account\\\\Working\"\n",
    "file_dic = \"Income Statement - Dictionary\"\n",
    "\n",
    "dic_keyin = pd.read_excel(str(Location_dic)+\"\\\\\"+str(file_dic)+\".xlsx\", sheet_name='Keyin', header=0)\n",
    "dic_keyin.columns = dic_keyin.columns.str.replace(\"\\n\", \"_\").str.replace(\" \", \"_\")\n",
    "\n",
    "dic_op_rev = pd.read_excel(str(Location_dic)+\"\\\\\"+str(file_dic)+\".xlsx\", sheet_name='Operating Revenue', header=0)\n",
    "dic_op_rev.columns = dic_op_rev.columns.str.replace(\"\\n\", \"_\").str.replace(\" \", \"_\")\n",
    "\n",
    "dic_int_inc = pd.read_excel(str(Location_dic)+\"\\\\\"+str(file_dic)+\".xlsx\", sheet_name='Interest Income', header=0)\n",
    "dic_int_inc.columns = dic_int_inc.columns.str.replace(\"\\n\", \"_\").str.replace(\" \", \"_\")\n",
    "\n",
    "dic_int_exp = pd.read_excel(str(Location_dic)+\"\\\\\"+str(file_dic)+\".xlsx\", sheet_name='Interest Expense', header=0)\n",
    "dic_int_exp.columns = dic_int_exp.columns.str.replace(\"\\n\", \"_\").str.replace(\" \", \"_\")\n",
    "\n",
    "dic_undwr_tkfl = pd.read_excel(str(Location_dic)+\"\\\\\"+str(file_dic)+\".xlsx\", sheet_name='Underwriting_Takaful results', header=0)\n",
    "dic_undwr_tkfl.columns = dic_undwr_tkfl.columns.str.replace(\"\\n\", \"_\").str.replace(\" \", \"_\")\n",
    "\n",
    "dic_inc_isl_biz = pd.read_excel(str(Location_dic)+\"\\\\\"+str(file_dic)+\".xlsx\", sheet_name='Income from Islamic business', header=0)\n",
    "dic_inc_isl_biz.columns = dic_inc_isl_biz.columns.str.replace(\"\\n\", \"_\").str.replace(\" \", \"_\")\n",
    "\n",
    "dic_oth_inc = pd.read_excel(str(Location_dic)+\"\\\\\"+str(file_dic)+\".xlsx\", sheet_name='Other income', header=0)\n",
    "dic_oth_inc.columns = dic_oth_inc.columns.str.replace(\"\\n\", \"_\").str.replace(\" \", \"_\")\n",
    "\n",
    "dic_ovh_exp = pd.read_excel(str(Location_dic)+\"\\\\\"+str(file_dic)+\".xlsx\", sheet_name='Overhead expenses', header=0)\n",
    "dic_ovh_exp.columns = dic_ovh_exp.columns.str.replace(\"\\n\", \"_\").str.replace(\" \", \"_\")\n",
    "\n",
    "dic_allw_laf = pd.read_excel(str(Location_dic)+\"\\\\\"+str(file_dic)+\".xlsx\", sheet_name='Allowances for losses on LAF', header=0)\n",
    "dic_allw_laf.columns = dic_allw_laf.columns.str.replace(\"\\n\", \"_\").str.replace(\" \", \"_\")\n",
    "\n",
    "dic_allw_dim = pd.read_excel(str(Location_dic)+\"\\\\\"+str(file_dic)+\".xlsx\", sheet_name='Allowance for diminution', header=0)\n",
    "dic_allw_dim.columns = dic_allw_dim.columns.str.replace(\"\\n\", \"_\").str.replace(\" \", \"_\")\n",
    "\n",
    "dic_allw_cnc = pd.read_excel(str(Location_dic)+\"\\\\\"+str(file_dic)+\".xlsx\", sheet_name='Allowance for com and con', header=0)\n",
    "dic_allw_cnc.columns = dic_allw_cnc.columns.str.replace(\"\\n\", \"_\").str.replace(\" \", \"_\")\n",
    "\n",
    "dic_allw_invsec = pd.read_excel(str(Location_dic)+\"\\\\\"+str(file_dic)+\".xlsx\", sheet_name='Allowance on investment sec', header=0)\n",
    "dic_allw_invsec.columns = dic_allw_invsec.columns.str.replace(\"\\n\", \"_\").str.replace(\" \", \"_\")\n",
    "\n",
    "dic_allw_sundry = pd.read_excel(str(Location_dic)+\"\\\\\"+str(file_dic)+\".xlsx\", sheet_name='General allowance -Sundry debt', header=0)\n",
    "dic_allw_sundry.columns = dic_allw_sundry.columns.str.replace(\"\\n\", \"_\").str.replace(\" \", \"_\")\n",
    "\n",
    "dic_sur_tkfl = pd.read_excel(str(Location_dic)+\"\\\\\"+str(file_dic)+\".xlsx\", sheet_name='Less_ Surplus attributable', header=0)\n",
    "dic_sur_tkfl.columns = dic_sur_tkfl.columns.str.replace(\"\\n\", \"_\").str.replace(\" \", \"_\")\n",
    "\n",
    "tax = pd.read_excel(str(Location_dic)+\"\\\\\"+str(file_dic)+\".xlsx\", sheet_name='Taxation', header=0)\n",
    "tax.columns = tax.columns.str.replace(\"\\n\", \"_\").str.replace(\" \", \"_\")\n",
    "\n",
    "conv = pd.read_excel(str(Location_dic)+\"\\\\\"+str(file_dic)+\".xlsx\", sheet_name='Conventional', header=0)\n",
    "conv.columns = conv.columns.str.replace(\"\\n\", \"_\").str.replace(\" \", \"_\")\n",
    "\n",
    "isl = pd.read_excel(str(Location_dic)+\"\\\\\"+str(file_dic)+\".xlsx\", sheet_name='Islamic', header=0)\n",
    "isl.columns = isl.columns.str.replace(\"\\n\", \"_\").str.replace(\" \", \"_\")"
   ]
  },
  {
   "cell_type": "code",
   "execution_count": null,
   "id": "27d829f7-41f8-4e5a-8800-0e7de6c9a507",
   "metadata": {},
   "outputs": [],
   "source": []
  },
  {
   "cell_type": "markdown",
   "id": "5eef8532-11cf-445e-8e2d-795d0edb5050",
   "metadata": {},
   "source": [
    "# Process"
   ]
  },
  {
   "cell_type": "code",
   "execution_count": null,
   "id": "a46aa6c6-e9bb-4a14-961b-503ddb904bc9",
   "metadata": {},
   "outputs": [],
   "source": []
  },
  {
   "cell_type": "code",
   "execution_count": 10,
   "id": "4b7da82f-7588-4617-beb3-382d3dfea21f",
   "metadata": {},
   "outputs": [],
   "source": [
    "\n",
    "Income_curr_raw1 = Income_curr_raw.iloc[np.where(~Income_curr_raw['GL_no.'].isna())]\n",
    "\n",
    "Income_curr_raw1 = Income_curr_raw1[['Item','GL_no.','Unnamed:_7','Unnamed:_10']].\\\n",
    "    rename(columns={'GL_no.': 'GL_Code_',\\\n",
    "                    'Unnamed:_10':'YTD '+str(Income_curr[21:]),\\\n",
    "                    'Unnamed:_7':'GL_Category'}).fillna(0)\n",
    "\n",
    "Income_curr_raw1.GL_Code_ = Income_curr_raw1.GL_Code_.astype(str)\n",
    "Income_curr_raw1.GL_Category = Income_curr_raw1.GL_Category.astype(str)\n",
    "Income_curr_raw1['YTD '+str(Income_curr[21:])] = Income_curr_raw1['YTD '+str(Income_curr[21:])].astype(float)\n",
    "\n",
    "#Income_curr_keyin1 = Income_curr_keyin.iloc[np.where(~Income_curr_keyin['GL_Code_'].isna())][['GL_Code_','GL_Category']]"
   ]
  },
  {
   "cell_type": "code",
   "execution_count": 11,
   "id": "eafa2a33-6fe4-47d0-9955-747bcdba3d69",
   "metadata": {},
   "outputs": [],
   "source": [
    "#----------------------------------------------Keyin-------------------------------------------------------------\n",
    "\n",
    "dic_keyin1 = dic_keyin.iloc[np.where(~dic_keyin['GL_Code_'].isna())].fillna(0)\n",
    "\n",
    "dic_keyin1.GL_Code_ = dic_keyin1.GL_Code_.astype(str)\n",
    "dic_keyin1.GL_Category = dic_keyin1.GL_Category.astype(str)\n",
    "\n",
    "dic_keyin1 = dic_keyin1.drop_duplicates('GL_Code_', keep='first')\n",
    "\n",
    "keyin = dic_keyin1.merge(Income_curr_raw1[['GL_Code_','YTD '+str(Income_curr[21:])]],on=['GL_Code_'],how='left').fillna(0)"
   ]
  },
  {
   "cell_type": "code",
   "execution_count": null,
   "id": "c5f4c36e-a79e-47ef-b243-819186184bc2",
   "metadata": {},
   "outputs": [],
   "source": []
  },
  {
   "cell_type": "code",
   "execution_count": 12,
   "id": "7d44b7b1-f11e-4f04-b6c6-bed2d44e5a05",
   "metadata": {},
   "outputs": [],
   "source": [
    "#----------------------------------------------Op Rev-------------------------------------------------------------\n",
    "\n",
    "dic_op_rev1 = dic_op_rev.iloc[np.where(~dic_op_rev['GL_Code_'].isna())].fillna(0)\n",
    "\n",
    "dic_op_rev1.GL_Code_ = dic_op_rev1.GL_Code_.astype(int)\n",
    "dic_op_rev1.GL_Code_ = dic_op_rev1.GL_Code_.astype(str)\n",
    "\n",
    "dic_op_rev1 = dic_op_rev1.drop_duplicates('GL_Code_', keep='first')\n",
    "\n",
    "OpRev = dic_op_rev1.merge(Income_curr_raw1[['Item','GL_Code_','YTD '+str(Income_curr[21:])]],on=['GL_Code_'],how='left',suffixes=(\"_Excel\",\"_SAP\")).fillna(0)\n",
    "\n",
    "OpRev['YTD '+str(Income_curr[21:])] = OpRev['YTD '+str(Income_curr[21:])]*-1\n",
    "\n",
    "OpRev1 = OpRev.fillna(0).groupby(['Class'])[['YTD '+str(Income_curr[21:])]].sum().reset_index() #,'Business_Unit'"
   ]
  },
  {
   "cell_type": "code",
   "execution_count": null,
   "id": "3b50e292-b5c6-4668-91a9-7233b80c0673",
   "metadata": {},
   "outputs": [],
   "source": []
  },
  {
   "cell_type": "code",
   "execution_count": null,
   "id": "dbf20f63-2809-498b-9ce1-48aa67ffb135",
   "metadata": {},
   "outputs": [],
   "source": []
  },
  {
   "cell_type": "code",
   "execution_count": 13,
   "id": "4c68d3c5-9902-40c4-80fd-1a05b5333a20",
   "metadata": {
    "scrolled": true
   },
   "outputs": [],
   "source": [
    "#----------------------------------------------Int Inc-------------------------------------------------------------\n",
    "\n",
    "dic_int_inc1 = dic_int_inc.iloc[np.where(~dic_int_inc['GL_Code_'].isna())].fillna(0)\n",
    "\n",
    "dic_int_inc1.GL_Code_ = dic_int_inc1.GL_Code_.astype(int)\n",
    "dic_int_inc1.GL_Code_ = dic_int_inc1.GL_Code_.astype(str)\n",
    "\n",
    "dic_int_inc1 = dic_int_inc1.drop_duplicates('GL_Code_', keep='first')\n",
    "\n",
    "IntInc = dic_int_inc1.merge(Income_curr_raw1[['Item','GL_Code_','YTD '+str(Income_curr[21:])]],on=['GL_Code_'],how='left').fillna(0)\n",
    "\n",
    "IntInc['YTD '+str(Income_curr[21:])] = IntInc['YTD '+str(Income_curr[21:])]*-1\n",
    "\n",
    "IntInc1 = IntInc.fillna(0).groupby(['Class'])[['YTD '+str(Income_curr[21:])]].sum().reset_index() #,'Business_Unit'\n",
    "\n",
    "\n",
    "\n",
    "#----------------------------------------------Int Exp-------------------------------------------------------------\n",
    "\n",
    "dic_int_exp1 = dic_int_exp.iloc[np.where(~dic_int_exp['GL_Code_'].isna())].fillna(0)\n",
    "\n",
    "dic_int_exp1.GL_Code_ = dic_int_exp1.GL_Code_.astype(int)\n",
    "dic_int_exp1.GL_Code_ = dic_int_exp1.GL_Code_.astype(str)\n",
    "\n",
    "dic_int_exp1 = dic_int_exp1.drop_duplicates('GL_Code_', keep='first')\n",
    "\n",
    "IntExp = dic_int_exp1.merge(Income_curr_raw1[['Item','GL_Code_','YTD '+str(Income_curr[21:])]],on=['GL_Code_'],how='left').fillna(0)\n",
    "\n",
    "IntExp['YTD '+str(Income_curr[21:])] = IntExp['YTD '+str(Income_curr[21:])]*-1\n",
    "\n",
    "IntExp1 = IntExp.fillna(0).groupby(['Class'])[['YTD '+str(Income_curr[21:])]].sum().reset_index() #,'Business_Unit'\n",
    "\n",
    "\n",
    "\n",
    "frames = [OpRev1, IntInc1, IntExp1] \n",
    "appendR = pd.concat(frames)\n",
    "\n",
    "\n",
    "appendR.set_index('Class', inplace=True)\n",
    "\n",
    "b = appendR.T\n",
    "b['Net Interest Income'] = b['Interest Income'] + b['Interest Expense']\n",
    "\n",
    "c = b.T\n",
    "newdf =c.reset_index()"
   ]
  },
  {
   "cell_type": "code",
   "execution_count": null,
   "id": "c8521a70-3a59-4ef8-b59b-6817ead49ea3",
   "metadata": {},
   "outputs": [],
   "source": []
  },
  {
   "cell_type": "code",
   "execution_count": 14,
   "id": "f2505a16-d744-4ef5-8d39-960187d92bac",
   "metadata": {
    "scrolled": true
   },
   "outputs": [],
   "source": [
    "#----------------------------------------------Underwriting/Takaful results-------------------------------------------------------------\n",
    "\n",
    "dic_undwr_tkfl1 = dic_undwr_tkfl.iloc[np.where(~dic_undwr_tkfl['GL_Code_'].isna())].fillna(0)\n",
    "\n",
    "#dic_undwr_tkfl1.GL_Code_ = dic_undwr_tkfl1.GL_Code_.astype(int)\n",
    "dic_undwr_tkfl1.GL_Code_ = dic_undwr_tkfl1.GL_Code_.astype(str)\n",
    "\n",
    "dic_undwr_tkfl1 = dic_undwr_tkfl1.drop_duplicates('GL_Code_', keep='first')\n",
    "\n",
    "UndwrTkfl = dic_undwr_tkfl1.merge(Income_curr_raw1[['Item','GL_Code_','YTD '+str(Income_curr[21:])]],on=['GL_Code_'],how='left').fillna(0)\n",
    "\n",
    "UndwrTkfl['YTD '+str(Income_curr[21:])] = UndwrTkfl['YTD '+str(Income_curr[21:])]*-1\n",
    "\n",
    "UndwrTkfl1 = UndwrTkfl.fillna(0).groupby(['Class'])[['YTD '+str(Income_curr[21:])]].sum().reset_index() #,'Business_Unit'\n",
    "\n",
    "#----------------------------------------------Income from Islamic Businesses-------------------------------------------------------------\n",
    "\n",
    "dic_inc_isl_biz1 = dic_inc_isl_biz.iloc[np.where(~dic_inc_isl_biz['GL_Code_'].isna())].fillna(0)\n",
    "dic_inc_isl_biz1 = dic_inc_isl_biz1.iloc[np.where(~dic_inc_isl_biz1.GL_Description_2.isin(['Forex loss/gain realised','Forex loss/gain unrealised']))]\n",
    "\n",
    "dic_inc_isl_biz1.GL_Code_ = dic_inc_isl_biz1.GL_Code_.astype(int)\n",
    "dic_inc_isl_biz1.GL_Code_ = dic_inc_isl_biz1.GL_Code_.astype(str)\n",
    "\n",
    "#dic_inc_isl_biz1 = dic_inc_isl_biz1.drop_duplicates('GL_Code_', keep='first')\n",
    "\n",
    "IncIslBiz = dic_inc_isl_biz1.merge(Income_curr_raw1[['Item','GL_Code_','YTD '+str(Income_curr[21:])]],on=['GL_Code_'],how='left').fillna(0)\n",
    "\n",
    "IncIslBiz['YTD '+str(Income_curr[21:])] = IncIslBiz['YTD '+str(Income_curr[21:])]*-1\n",
    "\n",
    "#unwind\n",
    "IncIslBiz.loc[IncIslBiz.GL_Code_ == '5500306' , 'GL_Description_2'] = 'Other Income'\n",
    "\n",
    "IncIslBiz1 = IncIslBiz.fillna(0).groupby(['Class'])[['YTD '+str(Income_curr[21:])]].sum().reset_index() #,'Business_Unit\n",
    "\n",
    "#----------------------------------------------Other Income-------------------------------------------------------------\n",
    "\n",
    "dic_oth_inc1 = dic_oth_inc.iloc[np.where(~dic_oth_inc['GL_Code_'].isna())].fillna(0)\n",
    "\n",
    "dic_oth_inc1.GL_Code_ = dic_oth_inc1.GL_Code_.astype(int)\n",
    "dic_oth_inc1.GL_Code_ = dic_oth_inc1.GL_Code_.astype(str)\n",
    "\n",
    "#dic_inc_isl_biz1 = dic_inc_isl_biz1.drop_duplicates('GL_Code_', keep='first')\n",
    "\n",
    "OthInc = dic_oth_inc1.merge(Income_curr_raw1[['Item','GL_Code_','YTD '+str(Income_curr[21:])]],on=['GL_Code_'],how='left').fillna(0)\n",
    "\n",
    "OthInc['YTD '+str(Income_curr[21:])] = OthInc['YTD '+str(Income_curr[21:])]*-1\n",
    "\n",
    "OthInc1 = OthInc.fillna(0).groupby(['Class'])[['YTD '+str(Income_curr[21:])]].sum().reset_index() #,'Business_Unit\n",
    "\n",
    "appendnew = pd.concat([newdf, UndwrTkfl1, IncIslBiz1, OthInc1] )\n",
    "\n",
    "appendnew.set_index('Class', inplace=True)\n",
    "\n",
    "la = appendnew.T\n",
    "la['Net Income'] = la['Net Interest Income'] + la['Underwriting/Takaful results'] + la['Income from Islamic business'] + la['Other income']\n",
    "\n",
    "la1 = la.T\n",
    "newdf1 =la1.reset_index()\n",
    "\n",
    "#----------------------------------------------Overhead expenses-------------------------------------------------------------\n",
    "\n",
    "dic_ovh_exp1 = dic_ovh_exp.iloc[np.where(~dic_ovh_exp['GL_Code_'].isna())].fillna(0)\n",
    "\n",
    "dic_ovh_exp1.GL_Code_ = dic_ovh_exp1.GL_Code_.astype(int)\n",
    "dic_ovh_exp1.GL_Code_ = dic_ovh_exp1.GL_Code_.astype(str)\n",
    "\n",
    "dic_ovh_exp1 = dic_ovh_exp1.drop_duplicates('GL_Code_', keep='last')\n",
    "\n",
    "OvhExp = dic_ovh_exp1.merge(Income_curr_raw1[['Item','GL_Code_','YTD '+str(Income_curr[21:])]],on=['GL_Code_'],how='left').fillna(0)\n",
    "\n",
    "OvhExp['YTD '+str(Income_curr[21:])] = OvhExp['YTD '+str(Income_curr[21:])]*-1\n",
    "\n",
    "OvhExp1 = OvhExp.fillna(0).groupby(['Class'])[['YTD '+str(Income_curr[21:])]].sum().reset_index() #,'Business_Unit\n",
    "\n",
    "\n",
    "\n",
    "appendnew1 = pd.concat([newdf1, OvhExp1] )\n",
    "\n",
    "appendnew1.set_index('Class', inplace=True)\n",
    "\n",
    "laa = appendnew1.T\n",
    "laa['Operating profit/loss'] = laa['Net Income'] + laa['Overhead expenses']\n",
    "\n",
    "laa1 = laa.T\n",
    "newdf2 =laa1.reset_index()"
   ]
  },
  {
   "cell_type": "code",
   "execution_count": 15,
   "id": "4f5c74f8-c351-4997-abad-7d6f3882a919",
   "metadata": {
    "scrolled": true
   },
   "outputs": [],
   "source": [
    "#----------------------------------------------Allowances for losses on loans & financing -------------------------------------------------------------\n",
    "\n",
    "dic_allw_laf1 = dic_allw_laf.iloc[np.where(~dic_allw_laf['GL_Code_'].isna())].fillna(0)\n",
    "\n",
    "dic_allw_laf1.GL_Code_ = dic_allw_laf1.GL_Code_.astype(int)\n",
    "dic_allw_laf1.GL_Code_ = dic_allw_laf1.GL_Code_.astype(str)\n",
    "\n",
    "#dic_inc_isl_biz1 = dic_inc_isl_biz1.drop_duplicates('GL_Code_', keep='first')\n",
    "\n",
    "AllwLaf = dic_allw_laf1.merge(Income_curr_raw1[['Item','GL_Code_','YTD '+str(Income_curr[21:])]],on=['GL_Code_'],how='left').fillna(0)\n",
    "\n",
    "AllwLaf['YTD '+str(Income_curr[21:])] = AllwLaf['YTD '+str(Income_curr[21:])]*-1\n",
    "\n",
    "AllwLaf1 = AllwLaf.fillna(0).groupby(['Class'])[['YTD '+str(Income_curr[21:])]].sum().reset_index() #,'Business_Unit\n",
    "\n",
    "#----------------------------------------------Allowance for diminution in value of investment in subsidiaries  -------------------------------------------------------------\n",
    "\n",
    "dic_allw_dim1 = dic_allw_dim.iloc[np.where(~dic_allw_dim['GL_Code_'].isna())].fillna(0)\n",
    "\n",
    "dic_allw_dim1.GL_Code_ = dic_allw_dim1.GL_Code_.astype(int)\n",
    "dic_allw_dim1.GL_Code_ = dic_allw_dim1.GL_Code_.astype(str)\n",
    "\n",
    "#dic_inc_isl_biz1 = dic_inc_isl_biz1.drop_duplicates('GL_Code_', keep='first')\n",
    "\n",
    "AllwDim = dic_allw_dim1.merge(Income_curr_raw1[['Item','GL_Code_','YTD '+str(Income_curr[21:])]],on=['GL_Code_'],how='left').fillna(0)\n",
    "\n",
    "AllwDim['YTD '+str(Income_curr[21:])] = AllwDim['YTD '+str(Income_curr[21:])]*-1\n",
    "\n",
    "AllwDim1 = AllwDim.fillna(0).groupby(['Class'])[['YTD '+str(Income_curr[21:])]].sum().reset_index() #,'Business_Unit\n",
    "\n",
    "#----------------------------------------------Allowance for commitments and contingencies  -------------------------------------------------------------\n",
    "\n",
    "dic_allw_cnc1 = dic_allw_cnc.iloc[np.where(~dic_allw_cnc['GL_Code_'].isna())].fillna(0)\n",
    "\n",
    "dic_allw_cnc1.GL_Code_ = dic_allw_cnc1.GL_Code_.astype(int)\n",
    "dic_allw_cnc1.GL_Code_ = dic_allw_cnc1.GL_Code_.astype(str)\n",
    "\n",
    "#dic_inc_isl_biz1 = dic_inc_isl_biz1.drop_duplicates('GL_Code_', keep='first')\n",
    "\n",
    "AllwCnC = dic_allw_cnc1.merge(Income_curr_raw1[['Item','GL_Code_','YTD '+str(Income_curr[21:])]],on=['GL_Code_'],how='left').fillna(0)\n",
    "\n",
    "AllwCnC['YTD '+str(Income_curr[21:])] = AllwCnC['YTD '+str(Income_curr[21:])]*-1\n",
    "\n",
    "AllwCnC1 = AllwCnC.fillna(0).groupby(['Class'])[['YTD '+str(Income_curr[21:])]].sum().reset_index() #,'Business_Unit\n",
    "\n",
    "#----------------------------------------------Allowance on investment securities  -------------------------------------------------------------\n",
    "\n",
    "dic_allw_invsec1 = dic_allw_invsec.iloc[np.where(~dic_allw_invsec['GL_Code_'].isna())].fillna(0)\n",
    "\n",
    "dic_allw_invsec1.GL_Code_ = dic_allw_invsec1.GL_Code_.astype(int)\n",
    "dic_allw_invsec1.GL_Code_ = dic_allw_invsec1.GL_Code_.astype(str)\n",
    "\n",
    "#dic_inc_isl_biz1 = dic_inc_isl_biz1.drop_duplicates('GL_Code_', keep='first')\n",
    "\n",
    "AllwInvSec = dic_allw_invsec1.merge(Income_curr_raw1[['Item','GL_Code_','YTD '+str(Income_curr[21:])]],on=['GL_Code_'],how='left').fillna(0)\n",
    "\n",
    "AllwInvSec['YTD '+str(Income_curr[21:])] = AllwInvSec['YTD '+str(Income_curr[21:])]*-1\n",
    "\n",
    "AllwInvSec1 = AllwInvSec.fillna(0).groupby(['Class'])[['YTD '+str(Income_curr[21:])]].sum().reset_index() #,'Business_Unit\n",
    "\n",
    "#---------------------------------------------General allowance -Sundry debtors-------------------------------------------------------------\n",
    "\n",
    "dic_allw_sundry1 = dic_allw_sundry.iloc[np.where(~dic_allw_sundry['GL_Code_'].isna())].fillna(0)\n",
    "\n",
    "dic_allw_sundry1.GL_Code_ = dic_allw_sundry1.GL_Code_.astype(int)\n",
    "dic_allw_sundry1.GL_Code_ = dic_allw_sundry1.GL_Code_.astype(str)\n",
    "\n",
    "#dic_inc_isl_biz1 = dic_inc_isl_biz1.drop_duplicates('GL_Code_', keep='first')\n",
    "\n",
    "AllwInvSun = dic_allw_sundry1.merge(Income_curr_raw1[['Item','GL_Code_','YTD '+str(Income_curr[21:])]],on=['GL_Code_'],how='left').fillna(0)\n",
    "\n",
    "AllwInvSun['YTD '+str(Income_curr[21:])] = AllwInvSun['YTD '+str(Income_curr[21:])]*-1\n",
    "\n",
    "AllwInvSun1 = AllwInvSun.fillna(0).groupby(['Class'])[['YTD '+str(Income_curr[21:])]].sum().reset_index() #,'Business_Unit\n",
    "\n",
    "appendnew2 = pd.concat([newdf2, AllwLaf1, AllwDim1, AllwCnC1, AllwInvSec1, AllwInvSun1] )\n",
    "\n",
    "appendnew2.set_index('Class', inplace=True)\n",
    "\n",
    "laaa = appendnew2.T\n",
    "laaa['Profit/Loss before taxation'] = laaa['Operating profit/loss'] + laaa['Allowances for losses on loans & financing']+ laaa['Allowance for diminution in value of investment in subsidiaries ']+ laaa['Allowance for commitments and contingencies']+ laaa['Allowance on investment securities']+ laaa['General allowance -Sundry debtors']\n",
    "\n",
    "laaa1 = laaa.T\n",
    "newdf3 =laaa1.reset_index()\n",
    "\n",
    "#---------------------------------------------Less: Surplus attributable from Takaful Participants-------------------------------------------------------------\n",
    "\n",
    "dic_sur_tkfl1 = dic_sur_tkfl.iloc[np.where(~dic_sur_tkfl['GL_Code_'].isna())].fillna(0)\n",
    "\n",
    "#dic_sur_tkfl1.GL_Code_ = dic_sur_tkfl1.GL_Code_.astype(int)\n",
    "dic_sur_tkfl1.GL_Code_ = dic_sur_tkfl1.GL_Code_.astype(str)\n",
    "\n",
    "#dic_inc_isl_biz1 = dic_inc_isl_biz1.drop_duplicates('GL_Code_', keep='first')\n",
    "\n",
    "SurTfkl = dic_sur_tkfl1.merge(Income_curr_raw1[['Item','GL_Code_','YTD '+str(Income_curr[21:])]],on=['GL_Code_'],how='left').fillna(0)\n",
    "\n",
    "#SurTfkl['YTD '+str(Income_curr[21:])] = SurTfkl['YTD '+str(Income_curr[21:])]*-1\n",
    "\n",
    "SurTfkl1 = SurTfkl.fillna(0).groupby(['Class'])[['YTD '+str(Income_curr[21:])]].sum().reset_index() #,'Business_Unit\n",
    "\n",
    "#---------------------------------------------Taxation-------------------------------------------------------------\n",
    "\n",
    "tax1 = tax.iloc[np.where(~tax['GL_Code_'].isna())].fillna(0)\n",
    "\n",
    "tax1.GL_Code_ = tax1.GL_Code_.astype(int)\n",
    "tax1.GL_Code_ = tax1.GL_Code_.astype(str)\n",
    "\n",
    "#dic_inc_isl_biz1 = dic_inc_isl_biz1.drop_duplicates('GL_Code_', keep='first')\n",
    "\n",
    "TAXX = tax1.merge(Income_curr_raw1[['Item','GL_Code_','YTD '+str(Income_curr[21:])]],on=['GL_Code_'],how='left').fillna(0)\n",
    "\n",
    "TAXX['YTD '+str(Income_curr[21:])] = TAXX['YTD '+str(Income_curr[21:])]*-1\n",
    "\n",
    "#dividen expense\n",
    "TAXX = TAXX.iloc[np.where(TAXX.GL_Code_!=\"530001\")]\n",
    "\n",
    "TAXX1 = TAXX.fillna(0).groupby(['Class'])[['YTD '+str(Income_curr[21:])]].sum().reset_index() #,'Business_Unit\n",
    "\n",
    "appendnew3 = pd.concat([newdf3, SurTfkl1, TAXX1] )\n",
    "\n",
    "appendnew3.set_index('Class', inplace=True)\n",
    "\n",
    "laaaa = appendnew3.T\n",
    "laaaa['Net Profit/Loss fo the year'] = laaaa['Profit/Loss before taxation'] + laaaa['Less: Surplus attributable from Takaful Participants']+\\\n",
    "laaaa['Taxation']+ laaaa['Zakat']\n",
    "\n",
    "laaaa1 = laaaa.T\n",
    "newdf4 =laaaa1.reset_index()\n",
    "\n",
    "newdf4.rename(columns={'Class':'Income Statement'}, inplace=True)"
   ]
  },
  {
   "cell_type": "code",
   "execution_count": null,
   "id": "f2a7157d-14b3-4a71-b3f0-7a7f4647824b",
   "metadata": {},
   "outputs": [],
   "source": []
  },
  {
   "cell_type": "markdown",
   "id": "d57f4c8b-3ae2-4f32-b157-b6f0d2efc2ad",
   "metadata": {},
   "source": [
    "# Export "
   ]
  },
  {
   "cell_type": "code",
   "execution_count": 16,
   "id": "e0f3fe4f-1fd8-4d07-8c5e-da07be1384a3",
   "metadata": {
    "scrolled": true
   },
   "outputs": [],
   "source": [
    "newdf4.to_excel(str(Location)+'\\\\'+str(Income_curr[:4])+'YTD - Income Statement '+str(Income_curr[21:])+' (python).xlsx', sheet_name=\"Profit Loss\", index = False)\n"
   ]
  },
  {
   "cell_type": "code",
   "execution_count": 17,
   "id": "fd82d493-8b85-44be-b79a-b6d74b7b00ef",
   "metadata": {},
   "outputs": [
    {
     "data": {
      "text/plain": [
       "'C:\\\\Users\\\\syahidhalid\\\\Syahid_PC\\\\Analytics - FAD\\\\06. Management Account\\\\\\\\202403'"
      ]
     },
     "execution_count": 17,
     "metadata": {},
     "output_type": "execute_result"
    }
   ],
   "source": [
    "Location"
   ]
  },
  {
   "cell_type": "code",
   "execution_count": null,
   "id": "29c8e41b-c9e2-4d56-a676-a6e7c7cb821e",
   "metadata": {},
   "outputs": [],
   "source": []
  },
  {
   "cell_type": "markdown",
   "id": "a38451e8-0af9-403c-9226-efbafb77e18c",
   "metadata": {},
   "source": [
    "# Monthly BI"
   ]
  },
  {
   "cell_type": "code",
   "execution_count": 18,
   "id": "1213d186-6faa-4d03-bd69-4d99f046aecb",
   "metadata": {},
   "outputs": [
    {
     "name": "stdout",
     "output_type": "stream",
     "text": [
      "(154, 9)\n",
      "(60, 7)\n",
      "(29, 7)\n",
      "(70, 7)\n",
      "(72, 7)\n",
      "(101, 7)\n",
      "(165, 8)\n",
      "(19, 7)\n",
      "(1, 7)\n",
      "(6, 7)\n",
      "(8, 7)\n",
      "(1, 7)\n",
      "(34, 7)\n",
      "(5, 7)\n"
     ]
    }
   ],
   "source": [
    "print(OpRev.shape)\n",
    "print(IntInc.shape)\n",
    "print(IntExp.shape)\n",
    "print(UndwrTkfl.shape)\n",
    "print(IncIslBiz.shape)\n",
    "print(OthInc.shape)\n",
    "print(OvhExp.shape)\n",
    "print(AllwLaf.shape)\n",
    "print(AllwDim.shape)\n",
    "print(AllwCnC.shape)\n",
    "print(AllwInvSec.shape)\n",
    "print(AllwInvSun.shape)\n",
    "print(SurTfkl.shape)\n",
    "print(TAXX.shape)"
   ]
  },
  {
   "cell_type": "code",
   "execution_count": null,
   "id": "1b550f43-0a54-441e-950e-de293d513449",
   "metadata": {},
   "outputs": [],
   "source": []
  },
  {
   "cell_type": "code",
   "execution_count": 19,
   "id": "d7a16940-d8b8-493f-9587-db30849fa9f8",
   "metadata": {},
   "outputs": [],
   "source": [
    "#---------------------------------------------Power BI-------------------------------------------------------------\n",
    "\n",
    "OpRev1_BI = OpRev.rename(columns={'Business_Unit':'GL_Description_2'})[['GL_Description','GL_Code_','GL_Category','GL_Description_2','Class','Item','YTD '+str(Income_curr[21:]),'Business_Category']]\n",
    "\n",
    "IntInc['Business_Category'] = 'NA'\n",
    "IntExp['Business_Category'] = 'NA'\n",
    "UndwrTkfl['Business_Category'] = 'NA'\n",
    "\n",
    "IncIslBiz['Business_Category'] = 'NA'\n",
    "IncIslBiz.loc[IncIslBiz.GL_Description_2.isin(['Banking','Other Income','Financing cost','Wakalah fee']),\"Business_Category\"] = 'Islamic'\n",
    "\n",
    "OthInc['Business_Category'] = 'NA'\n",
    "\n",
    "#.drop('GL_Category',axis=1)\n",
    "OvhExpBI = OvhExp.rename(columns={'Class_2':'Business_Category'})[['GL_Description',\n",
    "'GL_Code_','GL_Category','GL_Description_2','Class','Item','YTD '+str(Income_curr[21:]),'Business_Category']]\n",
    "\n",
    "#OvhExp1 = OvhExp.drop('GL_Category',axis=1).rename(columns={'Class_2':'GL_Description_2','GL_Description_2':'GL_Category'})[['GL_Description','GL_Code_','GL_Category','GL_Description_2','Class','Item','YTD '+str(Income_curr[21:]),'Business_Category']]\n",
    "\n",
    "AllwLaf['Business_Category'] = 'NA'\n",
    "AllwDim['Business_Category'] = 'NA'\n",
    "AllwCnC['Business_Category'] = 'NA'\n",
    "AllwInvSec['Business_Category'] = 'NA'\n",
    "AllwInvSun['Business_Category'] = 'NA'\n",
    "SurTfkl['Business_Category'] = 'NA'\n",
    "TAXX['Business_Category'] = 'NA'\n",
    "\n",
    "PnL_BI = pd.concat([OpRev1_BI,IntInc,IntExp,UndwrTkfl,IncIslBiz,OthInc,OvhExpBI,AllwLaf,AllwDim,AllwCnC,AllwInvSec,AllwInvSun,SurTfkl,TAXX])"
   ]
  },
  {
   "cell_type": "code",
   "execution_count": 20,
   "id": "737efcb4-7c0d-40c7-baca-7458883b40ec",
   "metadata": {},
   "outputs": [
    {
     "name": "stdout",
     "output_type": "stream",
     "text": [
      "(154, 8)\n",
      "(60, 8)\n",
      "(29, 8)\n",
      "(70, 8)\n",
      "(72, 8)\n",
      "(101, 8)\n",
      "(165, 8)\n",
      "(19, 8)\n",
      "(1, 8)\n",
      "(6, 8)\n",
      "(8, 8)\n",
      "(1, 8)\n",
      "(34, 8)\n",
      "(5, 8)\n"
     ]
    }
   ],
   "source": [
    "print(OpRev1_BI.shape)\n",
    "print(IntInc.shape)\n",
    "print(IntExp.shape)\n",
    "print(UndwrTkfl.shape)\n",
    "print(IncIslBiz.shape)\n",
    "print(OthInc.shape)\n",
    "print(OvhExpBI.shape)\n",
    "print(AllwLaf.shape)\n",
    "print(AllwDim.shape)\n",
    "print(AllwCnC.shape)\n",
    "print(AllwInvSec.shape)\n",
    "print(AllwInvSun.shape)\n",
    "print(SurTfkl.shape)\n",
    "print(TAXX.shape)"
   ]
  },
  {
   "cell_type": "code",
   "execution_count": null,
   "id": "27e37a72-f99b-4dd2-83f6-2e35458d50e9",
   "metadata": {},
   "outputs": [],
   "source": []
  },
  {
   "cell_type": "code",
   "execution_count": null,
   "id": "40eeddcf-3107-4829-b46d-a74c65c39f28",
   "metadata": {},
   "outputs": [],
   "source": []
  },
  {
   "cell_type": "markdown",
   "id": "fffa247d-1c89-4909-9135-50ccf98ed081",
   "metadata": {},
   "source": [
    "# Export"
   ]
  },
  {
   "cell_type": "code",
   "execution_count": 21,
   "id": "cc20d874-4b71-47f1-94c4-f1a52f63683c",
   "metadata": {},
   "outputs": [],
   "source": [
    "PnL_BI.to_csv(str(Location)+'\\\\'+str(Income_curr[:4])+'Income Statement '+str(Income_curr[21:])+' (python).txt', index = False)\n"
   ]
  },
  {
   "cell_type": "code",
   "execution_count": null,
   "id": "da608560-7153-43f0-a89d-9261664e5003",
   "metadata": {},
   "outputs": [],
   "source": [
    "#str(Location[:-6])+'\\\\'+str(Income_curr[:4])+'Income Statement '+str(Income_curr[21:])+' (python).txt'"
   ]
  },
  {
   "cell_type": "code",
   "execution_count": 23,
   "id": "24408fbb-990a-4fe5-b7b3-54325a99a82b",
   "metadata": {},
   "outputs": [
    {
     "data": {
      "text/plain": [
       "'C:\\\\Users\\\\syahidhalid\\\\Syahid_PC\\\\Analytics - FAD\\\\06. Management Account\\\\\\\\202407'"
      ]
     },
     "execution_count": 23,
     "metadata": {},
     "output_type": "execute_result"
    }
   ],
   "source": [
    "Location"
   ]
  },
  {
   "cell_type": "markdown",
   "id": "3abdef77-92fc-41aa-b64a-4399d519502f",
   "metadata": {},
   "source": [
    "# Adhoc"
   ]
  },
  {
   "cell_type": "code",
   "execution_count": null,
   "id": "07003515-f2b0-46ad-bae3-0a875087d24e",
   "metadata": {},
   "outputs": [],
   "source": [
    "#writer2 = pd.ExcelWriter(r'C:\\Users\\syahidhalid\\Syahid_PC\\Analytics - FAD\\06. Management Account\\\\Income Statement '+str(Income_curr[21:])+' (python).xlsx',engine='xlsxwriter')\n",
    "\n",
    "#newdf4.to_excel(writer2, sheet_name='Profit Loss', index = False)\n",
    "\n",
    "#writer2._save()"
   ]
  },
  {
   "cell_type": "code",
   "execution_count": null,
   "id": "0375e21e-ec3b-4432-b1e2-acd5fe75d7fe",
   "metadata": {},
   "outputs": [],
   "source": []
  }
 ],
 "metadata": {
  "kernelspec": {
   "display_name": "Python 3 (ipykernel)",
   "language": "python",
   "name": "python3"
  },
  "language_info": {
   "codemirror_mode": {
    "name": "ipython",
    "version": 3
   },
   "file_extension": ".py",
   "mimetype": "text/x-python",
   "name": "python",
   "nbconvert_exporter": "python",
   "pygments_lexer": "ipython3",
   "version": "3.11.7"
  }
 },
 "nbformat": 4,
 "nbformat_minor": 5
}
