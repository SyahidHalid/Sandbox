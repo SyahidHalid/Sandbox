{
 "cells": [
  {
   "cell_type": "markdown",
   "id": "d213e96b-326e-4b1d-859a-8f3f33b8387f",
   "metadata": {},
   "source": [
    "# Power BI"
   ]
  },
  {
   "cell_type": "code",
   "execution_count": 1,
   "id": "309322b3-c807-4dfb-9067-289c3ae91a55",
   "metadata": {},
   "outputs": [],
   "source": [
    "#----------------------------------------------BI-------------------------------------------------------------\n",
    "\n",
    "import pandas as pd\n",
    "import numpy as np\n",
    "\n",
    "#warnings.filterwarnings('ignore')\n",
    "pd.set_option(\"display.max_columns\", None) \n",
    "pd.set_option(\"display.max_colwidth\", 1000) #huruf dlm column\n",
    "pd.set_option(\"display.max_rows\", 100)\n",
    "pd.set_option(\"display.precision\", 2) #2 titik perpuluhan\n",
    "\n",
    "year_a = 202401\n",
    "year_b = 202402\n",
    "year_c = 202403\n",
    "year_d = 202404\n",
    "year_e = 202405\n",
    "year_f = 202406\n",
    "year_g = 202407\n",
    "\n",
    "a = \"01. Income Statement Jan 2024 Islamic (python)\"\n",
    "b = \"02. Income Statement Feb 2024 Islamic (python)\"\n",
    "c = \"03. Income Statement Mar 2024 Islamic (python)\"\n",
    "d = \"04. Income Statement Apr 2024 Islamic (python)\"\n",
    "e = \"05. Income Statement May 2024 Islamic (python)\"\n",
    "f = \"06. Income Statement Jun 2024 Islamic (python)\"\n",
    "g = \"07. Income Statement Jul 2024 Islamic (python)\"\n",
    "\n",
    "Location = r\"C:\\\\Users\\\\syahidhalid\\\\Syahid_PC\\\\Analytics - FAD\\\\06. Management Account\"\n",
    "\n",
    "bi1 = pd.read_csv(str(Location)+\"\\\\\"+str(year_a)+\"\\\\\"+str(a)+\".txt\", sep = \",\", header = 0)\n",
    "bi2 = pd.read_csv(str(Location)+\"\\\\\"+str(year_b)+\"\\\\\"+str(b)+\".txt\", sep = \",\", header = 0)\n",
    "bi3 = pd.read_csv(str(Location)+\"\\\\\"+str(year_c)+\"\\\\\"+str(c)+\".txt\", sep = \",\", header = 0)\n",
    "bi4 = pd.read_csv(str(Location)+\"\\\\\"+str(year_d)+\"\\\\\"+str(d)+\".txt\", sep = \",\", header = 0)\n",
    "bi5 = pd.read_csv(str(Location)+\"\\\\\"+str(year_e)+\"\\\\\"+str(e)+\".txt\", sep = \",\", header = 0)\n",
    "bi6 = pd.read_csv(str(Location)+\"\\\\\"+str(year_f)+\"\\\\\"+str(f)+\".txt\", sep = \",\", header = 0)\n",
    "bi6 = pd.read_csv(str(Location)+\"\\\\\"+str(year_f)+\"\\\\\"+str(f)+\".txt\", sep = \",\", header = 0)\n",
    "bi7 = pd.read_csv(str(Location)+\"\\\\\"+str(year_g)+\"\\\\\"+str(g)+\".txt\", sep = \",\", header = 0)\n"
   ]
  },
  {
   "cell_type": "code",
   "execution_count": 6,
   "id": "07c4a589-ac58-4ca6-958e-face8c02d34d",
   "metadata": {},
   "outputs": [
    {
     "data": {
      "text/plain": [
       "'2024'"
      ]
     },
     "execution_count": 6,
     "metadata": {},
     "output_type": "execute_result"
    }
   ],
   "source": [
    "a[25:29]\n"
   ]
  },
  {
   "cell_type": "code",
   "execution_count": 7,
   "id": "74a80cc3-b334-47de-981e-92f38d582690",
   "metadata": {},
   "outputs": [
    {
     "name": "stderr",
     "output_type": "stream",
     "text": [
      "C:\\Users\\syahidhalid\\AppData\\Local\\Temp\\2\\ipykernel_20520\\3439215317.py:17: UserWarning: Pandas doesn't allow columns to be created via a new attribute name - see https://pandas.pydata.org/pandas-docs/stable/indexing.html#attribute-access\n",
      "  bi1.columns = bi2.columns = bi3.columns = bi4.colums = bi5.columns = bi6.columns = bi7.columns\n"
     ]
    }
   ],
   "source": [
    "bi1.rename(columns={'YTD '+str(a[21:29]):'YTD'}, inplace=True)\n",
    "bi2.rename(columns={'YTD '+str(b[21:29]):'YTD'}, inplace=True)\n",
    "bi3.rename(columns={'YTD '+str(c[21:29]):'YTD'}, inplace=True)\n",
    "bi4.rename(columns={'YTD '+str(d[21:29]):'YTD'}, inplace=True)\n",
    "bi5.rename(columns={'YTD '+str(e[21:29]):'YTD'}, inplace=True)\n",
    "bi6.rename(columns={'YTD '+str(f[21:29]):'YTD'}, inplace=True)\n",
    "bi7.rename(columns={'YTD '+str(g[21:29]):'YTD'}, inplace=True)\n",
    "\n",
    "bi1['Position'] = str(a[25:29])+''+str(a[:2])\n",
    "bi2['Position'] = str(b[25:29])+''+str(b[:2])\n",
    "bi3['Position'] = str(c[25:29])+''+str(c[:2])\n",
    "bi4['Position'] = str(d[25:29])+''+str(d[:2])\n",
    "bi5['Position'] = str(e[25:29])+''+str(e[:2])\n",
    "bi6['Position'] = str(f[25:29])+''+str(f[:2])\n",
    "bi7['Position'] = str(g[25:29])+''+str(g[:2])\n",
    "\n",
    "bi1.columns = bi2.columns = bi3.columns = bi4.colums = bi5.columns = bi6.columns = bi7.columns\n",
    "\n",
    "bi = pd.concat([bi1,bi2,bi3,bi4,bi5,bi6,bi7])\n"
   ]
  },
  {
   "cell_type": "code",
   "execution_count": 8,
   "id": "7eea39a7-97d9-4503-b89d-e36585032379",
   "metadata": {},
   "outputs": [
    {
     "data": {
      "text/plain": [
       "Item\n",
       "EXIB    666\n",
       "0       594\n",
       "Name: count, dtype: int64"
      ]
     },
     "execution_count": 8,
     "metadata": {},
     "output_type": "execute_result"
    }
   ],
   "source": [
    "bi.Item.value_counts()"
   ]
  },
  {
   "cell_type": "code",
   "execution_count": 9,
   "id": "e56bce49-bc9b-4749-8493-de6ee5003b84",
   "metadata": {},
   "outputs": [],
   "source": [
    "bi.loc[bi.Item.isin(['EXIB','EXTF']),'Type of Financing'] = \"Islamic\"\n",
    "bi.loc[bi.Item.isin(['EXIM']),'Type of Financing'] = \"Conventional\""
   ]
  },
  {
   "cell_type": "code",
   "execution_count": 10,
   "id": "701ff0c9-ba0d-41da-88bc-9a8bb59db6b5",
   "metadata": {
    "scrolled": true
   },
   "outputs": [],
   "source": [
    "bi.to_csv(str(Location)+'\\\\Income Statement Islamic (BI).txt', index = False)\n"
   ]
  },
  {
   "cell_type": "code",
   "execution_count": null,
   "id": "c1655641-4740-4918-9d70-d2eccf428696",
   "metadata": {},
   "outputs": [],
   "source": []
  },
  {
   "cell_type": "code",
   "execution_count": null,
   "id": "795ba9c7-bba3-4805-89cc-33b893e335a7",
   "metadata": {},
   "outputs": [],
   "source": []
  },
  {
   "cell_type": "code",
   "execution_count": null,
   "id": "0ede821d-e3ce-47e8-9a35-5cdddf4d4823",
   "metadata": {},
   "outputs": [],
   "source": []
  },
  {
   "cell_type": "code",
   "execution_count": null,
   "id": "82f1b5cd-ab36-4b33-a055-a0548812e377",
   "metadata": {},
   "outputs": [],
   "source": []
  },
  {
   "cell_type": "markdown",
   "id": "432e250c-e7ad-48f7-ac11-520161916b13",
   "metadata": {},
   "source": [
    "# For The Month"
   ]
  },
  {
   "cell_type": "code",
   "execution_count": null,
   "id": "05dbc86f-1432-4e10-b3b6-d6c2d3a872b3",
   "metadata": {},
   "outputs": [],
   "source": [
    "#----------------------------------------------FTM-------------------------------------------------------------\n",
    "\n",
    "import pandas as pd\n",
    "import numpy as np\n",
    "\n",
    "#warnings.filterwarnings('ignore')\n",
    "pd.set_option(\"display.max_columns\", None) \n",
    "pd.set_option(\"display.max_colwidth\", 1000) #huruf dlm column\n",
    "pd.set_option(\"display.max_rows\", 100)\n",
    "pd.set_option(\"display.precision\", 2) #2 titik perpuluhan\n",
    "\n",
    "Income_curr = \"02. Income Statement Feb 2024 (python)\"\n",
    "Income_prev = \"01. Income Statement Jan 2024 (python)\"\n",
    "\n",
    "Location = r\"C:\\\\Users\\\\syahidhalid\\\\Syahid_PC\\\\Analytics - FAD\\\\06. Management Account\\Result\"\n",
    "\n",
    "Income_curr_raw = pd.read_excel(str(Location)+\"\\\\\"+str(Income_curr)+\".xlsx\", sheet_name='Profit Loss', header=0)\n",
    "#Income_curr_raw.columns = Income_curr_raw.columns.str.replace(\"\\n\", \"_\").str.replace(\" \", \"_\")\n",
    "\n",
    "Income_prev_raw = pd.read_excel(str(Location)+\"\\\\\"+str(Income_prev)+\".xlsx\", sheet_name='Profit Loss', header=0)\n",
    "#Income_prev_raw.columns = Income_prev_raw.columns.str.replace(\"\\n\", \"_\").str.replace(\" \", \"_\")\n",
    "\n",
    "combine = Income_curr_raw.merge(Income_prev_raw,on=\"Income Statement\",how='left')\n",
    "\n",
    "combine['FTM '+str(Income_curr[21:-9])] = combine['YTD '+str(Income_curr[21:-9])] - combine['YTD '+str(Income_prev[21:-9])] \n",
    "\n",
    "writer2 = pd.ExcelWriter(r'C:\\Users\\syahidhalid\\Syahid_PC\\Analytics - FAD\\06. Management Account\\Result\\\\'+str(Income_curr[:4])+'Income Statement '+str(Income_curr[21:])+' FTM.xlsx',engine='xlsxwriter')\n",
    "\n",
    "combine.to_excel(writer2, sheet_name='Profit Loss', index = False)\n",
    "\n",
    "writer2._save()"
   ]
  }
 ],
 "metadata": {
  "kernelspec": {
   "display_name": "Python 3 (ipykernel)",
   "language": "python",
   "name": "python3"
  },
  "language_info": {
   "codemirror_mode": {
    "name": "ipython",
    "version": 3
   },
   "file_extension": ".py",
   "mimetype": "text/x-python",
   "name": "python",
   "nbconvert_exporter": "python",
   "pygments_lexer": "ipython3",
   "version": "3.11.7"
  }
 },
 "nbformat": 4,
 "nbformat_minor": 5
}
