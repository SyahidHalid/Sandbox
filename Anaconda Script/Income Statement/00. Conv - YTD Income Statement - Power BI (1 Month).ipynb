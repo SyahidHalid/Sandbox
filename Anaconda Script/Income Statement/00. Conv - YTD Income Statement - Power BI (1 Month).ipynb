{
 "cells": [
  {
   "cell_type": "markdown",
   "id": "b0750c84-aa77-441f-859e-e93edc7ddc58",
   "metadata": {},
   "source": [
    "# Raw File"
   ]
  },
  {
   "cell_type": "code",
   "execution_count": 239,
   "id": "e42577cf-f086-4ee9-8761-8193d77f7190",
   "metadata": {},
   "outputs": [],
   "source": [
    "import pandas as pd\n",
    "import numpy as np\n",
    "\n",
    "#warnings.filterwarnings('ignore')\n",
    "pd.set_option(\"display.max_columns\", None) \n",
    "pd.set_option(\"display.max_colwidth\", 1000) #huruf dlm column\n",
    "pd.set_option(\"display.max_rows\", 100)\n",
    "pd.set_option(\"display.precision\", 2) #2 titik perpuluhan\n",
    "\n",
    "#----------------------------------------------data-------------------------------------------------------------\n",
    "EXIB_name = \"EXIB_Jan2024\"\n",
    " \n",
    "EXIM_name = \"EXIM_Jan2024_v2\"\n",
    "\n",
    "EXTF_name = \"EXTF_Jan2024\"\n",
    "\n",
    "date_file = 202401\n",
    "\n",
    "Income_curr = \"01. Income statement Jan 2024\"\n",
    "\n",
    "Location = r\"C:\\Users\\syahidhalid\\Syahid_PC\\Analytics - FAD\\06. Management Account\\\\\"+str(date_file)\n",
    "\n",
    "EXIB = pd.read_excel(str(Location)+\"\\\\Source\\\\\"+str(EXIB_name)+\".xlsx\", sheet_name=EXIB_name, header=5)\n",
    "EXIB.columns = EXIB.columns.str.replace(\"\\n\", \"_\").str.replace(\" \", \"_\")\n",
    "\n",
    "EXIM = pd.read_excel(str(Location)+\"\\\\Source\\\\\"+str(EXIM_name)+\".xlsx\", sheet_name=EXIM_name, header=5)\n",
    "EXIM.columns = EXIM.columns.str.replace(\"\\n\", \"_\").str.replace(\" \", \"_\")\n",
    "\n",
    "EXTF = pd.read_excel(str(Location)+\"\\\\Source\\\\\"+str(EXTF_name)+\".xlsx\", sheet_name=EXTF_name, header=5)\n",
    "EXTF.columns = EXTF.columns.str.replace(\"\\n\", \"_\").str.replace(\" \", \"_\")\n",
    "\n",
    "\n",
    "EXIB1 = EXIB.rename(columns={\"C\":\"Unnamed:_1\",\n",
    "                            \"Comp\":\"Item\",\n",
    "                            \"Bus.\":\"Account\",\n",
    "                            \"Texts\":\"GL_no.\",\n",
    "                            \"Unnamed:_5\":\"Mapped_to\",\n",
    "                            \"Unnamed:_6\":\"Unnamed:_6\",\n",
    "                            \"Unnamed:_7\":\"Unnamed:_7\",\n",
    "                            \"Unnamed:_8\":\"GL_Category\",\n",
    "                            \"Reporting_period\":\"RM\",\n",
    "                            \"Unnamed:_10\":\"Unnamed:_10\"})\n",
    "\n",
    "EXIM1 = EXIM.rename(columns={\"C\":\"Unnamed:_1\",\n",
    "                            \"Comp\":\"Item\",\n",
    "                            \"Bus.\":\"Account\",\n",
    "                            \"Texts\":\"GL_no.\",\n",
    "                            \"Unnamed:_5\":\"Mapped_to\",\n",
    "                            \"Unnamed:_6\":\"Unnamed:_6\",\n",
    "                            \"Unnamed:_7\":\"Unnamed:_7\",\n",
    "                            \"Unnamed:_8\":\"GL_Category\",\n",
    "                            \"Reporting_period\":\"RM\",\n",
    "                            \"Unnamed:_10\":\"Unnamed:_10\"})\n",
    "\n",
    "EXTF1 = EXTF.rename(columns={\"C\":\"Unnamed:_1\",\n",
    "                            \"Comp\":\"Item\",\n",
    "                            \"Bus.\":\"Account\",\n",
    "                            \"Texts\":\"GL_no.\",\n",
    "                            \"Unnamed:_5\":\"Mapped_to\",\n",
    "                            \"Unnamed:_6\":\"Unnamed:_6\",\n",
    "                            \"Unnamed:_7\":\"Unnamed:_7\",\n",
    "                            \"Unnamed:_8\":\"GL_Category\",\n",
    "                            \"Reporting_period\":\"RM\",\n",
    "                            \"Unnamed:_10\":\"Unnamed:_10\"})\n",
    "\n",
    "Income_curr_raw = pd.concat([EXIB1, EXIM1, EXTF1])\n",
    "\n",
    "#Income_curr = \"01. Income statement Jan 2024\"\n",
    "\n",
    "#Location = r\"C:\\\\Users\\\\syahidhalid\\\\Syahid_PC\\\\Analytics - FAD\\\\06. Management Account\\\\Sample\"\n",
    "\n",
    "\n",
    "#Income_curr_raw = pd.read_excel(str(Location)+\"\\\\\"+str(Income_curr)+\".xlsx\", sheet_name='Raw 2024', header=0)\n",
    "#Income_curr_raw.columns = Income_curr_raw.columns.str.replace(\"\\n\", \"_\").str.replace(\" \", \"_\")\n",
    "\n",
    "#Income_prev_raw = pd.read_excel(str(Location)+\"\\\\\"+str(Income_prev)+\".xlsx\", sheet_name='Raw 2024', header=0)\n",
    "#Income_prev_raw.columns = Income_prev_raw.columns.str.replace(\"\\n\", \"_\").str.replace(\" \", \"_\")\n",
    "\n",
    "#Income_prev_keyin = pd.read_excel(str(Location)+\"\\\\\"+str(Income_curr)+\".xlsx\", sheet_name='Keyin2024', header=4)\n",
    "#Income_prev_keyin.columns = Income_prev_keyin.columns.str.replace(\"\\n\", \"_\").str.replace(\" \", \"_\")\n",
    "\n",
    "#Income_curr_keyin = pd.read_excel(str(Location)+\"\\\\\"+str(Income_curr)+\".xlsx\", sheet_name='Keyin2024', header=4)\n",
    "#Income_curr_keyin.columns = Income_curr_keyin.columns.str.replace(\"\\n\", \"_\").str.replace(\" \", \"_\")"
   ]
  },
  {
   "cell_type": "markdown",
   "id": "2b3f30a0-2272-4a77-9513-11bf011c86f7",
   "metadata": {},
   "source": [
    "# Library"
   ]
  },
  {
   "cell_type": "code",
   "execution_count": 240,
   "id": "69d42fba-663b-4865-9048-a3bdcd6b5a74",
   "metadata": {},
   "outputs": [],
   "source": [
    "\n",
    "Location_dic = r\"C:\\\\Users\\\\syahidhalid\\\\Syahid_PC\\\\Analytics - FAD\\\\06. Management Account\\\\Working\"\n",
    "file_dic = \"Income Statement - Dictionary\"\n",
    "\n",
    "dic_keyin = pd.read_excel(str(Location_dic)+\"\\\\\"+str(file_dic)+\".xlsx\", sheet_name='Keyin', header=0)\n",
    "dic_keyin.columns = dic_keyin.columns.str.replace(\"\\n\", \"_\").str.replace(\" \", \"_\")\n",
    "\n",
    "dic_op_rev = pd.read_excel(str(Location_dic)+\"\\\\\"+str(file_dic)+\".xlsx\", sheet_name='Operating Revenue', header=0)\n",
    "dic_op_rev.columns = dic_op_rev.columns.str.replace(\"\\n\", \"_\").str.replace(\" \", \"_\")\n",
    "\n",
    "dic_int_inc = pd.read_excel(str(Location_dic)+\"\\\\\"+str(file_dic)+\".xlsx\", sheet_name='Interest Income', header=0)\n",
    "dic_int_inc.columns = dic_int_inc.columns.str.replace(\"\\n\", \"_\").str.replace(\" \", \"_\")\n",
    "\n",
    "dic_int_exp = pd.read_excel(str(Location_dic)+\"\\\\\"+str(file_dic)+\".xlsx\", sheet_name='Interest Expense', header=0)\n",
    "dic_int_exp.columns = dic_int_exp.columns.str.replace(\"\\n\", \"_\").str.replace(\" \", \"_\")\n",
    "\n",
    "dic_undwr_tkfl = pd.read_excel(str(Location_dic)+\"\\\\\"+str(file_dic)+\".xlsx\", sheet_name='Underwriting_Takaful results', header=0)\n",
    "dic_undwr_tkfl.columns = dic_undwr_tkfl.columns.str.replace(\"\\n\", \"_\").str.replace(\" \", \"_\")\n",
    "\n",
    "dic_inc_isl_biz = pd.read_excel(str(Location_dic)+\"\\\\\"+str(file_dic)+\".xlsx\", sheet_name='Income from Islamic business', header=0)\n",
    "dic_inc_isl_biz.columns = dic_inc_isl_biz.columns.str.replace(\"\\n\", \"_\").str.replace(\" \", \"_\")\n",
    "\n",
    "dic_oth_inc = pd.read_excel(str(Location_dic)+\"\\\\\"+str(file_dic)+\".xlsx\", sheet_name='Other income', header=0)\n",
    "dic_oth_inc.columns = dic_oth_inc.columns.str.replace(\"\\n\", \"_\").str.replace(\" \", \"_\")\n",
    "\n",
    "dic_ovh_exp = pd.read_excel(str(Location_dic)+\"\\\\\"+str(file_dic)+\".xlsx\", sheet_name='Overhead expenses', header=0)\n",
    "dic_ovh_exp.columns = dic_ovh_exp.columns.str.replace(\"\\n\", \"_\").str.replace(\" \", \"_\")\n",
    "\n",
    "dic_allw_laf = pd.read_excel(str(Location_dic)+\"\\\\\"+str(file_dic)+\".xlsx\", sheet_name='Allowances for losses on LAF', header=0)\n",
    "dic_allw_laf.columns = dic_allw_laf.columns.str.replace(\"\\n\", \"_\").str.replace(\" \", \"_\")\n",
    "\n",
    "dic_allw_dim = pd.read_excel(str(Location_dic)+\"\\\\\"+str(file_dic)+\".xlsx\", sheet_name='Allowance for diminution', header=0)\n",
    "dic_allw_dim.columns = dic_allw_dim.columns.str.replace(\"\\n\", \"_\").str.replace(\" \", \"_\")\n",
    "\n",
    "dic_allw_cnc = pd.read_excel(str(Location_dic)+\"\\\\\"+str(file_dic)+\".xlsx\", sheet_name='Allowance for com and con', header=0)\n",
    "dic_allw_cnc.columns = dic_allw_cnc.columns.str.replace(\"\\n\", \"_\").str.replace(\" \", \"_\")\n",
    "\n",
    "dic_allw_invsec = pd.read_excel(str(Location_dic)+\"\\\\\"+str(file_dic)+\".xlsx\", sheet_name='Allowance on investment sec', header=0)\n",
    "dic_allw_invsec.columns = dic_allw_invsec.columns.str.replace(\"\\n\", \"_\").str.replace(\" \", \"_\")\n",
    "\n",
    "dic_allw_sundry = pd.read_excel(str(Location_dic)+\"\\\\\"+str(file_dic)+\".xlsx\", sheet_name='General allowance -Sundry debt', header=0)\n",
    "dic_allw_sundry.columns = dic_allw_sundry.columns.str.replace(\"\\n\", \"_\").str.replace(\" \", \"_\")\n",
    "\n",
    "dic_sur_tkfl = pd.read_excel(str(Location_dic)+\"\\\\\"+str(file_dic)+\".xlsx\", sheet_name='Less_ Surplus attributable', header=0)\n",
    "dic_sur_tkfl.columns = dic_sur_tkfl.columns.str.replace(\"\\n\", \"_\").str.replace(\" \", \"_\")\n",
    "\n",
    "tax = pd.read_excel(str(Location_dic)+\"\\\\\"+str(file_dic)+\".xlsx\", sheet_name='Taxation', header=0)\n",
    "tax.columns = tax.columns.str.replace(\"\\n\", \"_\").str.replace(\" \", \"_\")\n",
    "\n",
    "conv = pd.read_excel(str(Location_dic)+\"\\\\\"+str(file_dic)+\".xlsx\", sheet_name='Conventional', header=0)\n",
    "conv.columns = conv.columns.str.replace(\"\\n\", \"_\").str.replace(\" \", \"_\")\n",
    "\n",
    "isl = pd.read_excel(str(Location_dic)+\"\\\\\"+str(file_dic)+\".xlsx\", sheet_name='Islamic', header=0)\n",
    "isl.columns = isl.columns.str.replace(\"\\n\", \"_\").str.replace(\" \", \"_\")"
   ]
  },
  {
   "cell_type": "code",
   "execution_count": null,
   "id": "5cb80bd0-c84d-43d2-ae00-6af56e58ab5f",
   "metadata": {},
   "outputs": [],
   "source": []
  },
  {
   "cell_type": "code",
   "execution_count": 241,
   "id": "7d44b7b1-f11e-4f04-b6c6-bed2d44e5a05",
   "metadata": {},
   "outputs": [],
   "source": [
    "#----------------------------------------------Keyin-------------------------------------------------------------\n",
    "\n",
    "Income_curr_raw1 = Income_curr_raw.iloc[np.where(~Income_curr_raw['GL_no.'].isna())]\n",
    "\n",
    "Income_curr_raw1 = Income_curr_raw1[['Item','GL_no.','Unnamed:_7','Unnamed:_10']].\\\n",
    "    rename(columns={'GL_no.': 'GL_Code_',\\\n",
    "                    'Unnamed:_10':'YTD '+str(Income_curr[21:]),\\\n",
    "                    'Unnamed:_7':'GL_Category'}).fillna(0)\n",
    "\n",
    "Income_curr_raw1.GL_Code_ = Income_curr_raw1.GL_Code_.astype(str)\n",
    "Income_curr_raw1.GL_Category = Income_curr_raw1.GL_Category.astype(str)\n",
    "Income_curr_raw1['YTD '+str(Income_curr[21:])] = Income_curr_raw1['YTD '+str(Income_curr[21:])].astype(float)\n",
    "\n",
    "#Income_curr_keyin1 = Income_curr_keyin.iloc[np.where(~Income_curr_keyin['GL_Code_'].isna())][['GL_Code_','GL_Category']]\n",
    "\n",
    "dic_keyin1 = dic_keyin.iloc[np.where(~dic_keyin['GL_Code_'].isna())].fillna(0)\n",
    "\n",
    "dic_keyin1.GL_Code_ = dic_keyin1.GL_Code_.astype(str)\n",
    "dic_keyin1.GL_Category = dic_keyin1.GL_Category.astype(str)\n",
    "\n",
    "dic_keyin1 = dic_keyin1.drop_duplicates('GL_Code_', keep='first')\n",
    "\n",
    "keyin = dic_keyin1.merge(Income_curr_raw1[['GL_Code_','YTD '+str(Income_curr[21:])]],on=['GL_Code_'],how='left').fillna(0)\n",
    "\n",
    "\n",
    "#----------------------------------------------Op Rev-------------------------------------------------------------\n",
    "\n",
    "dic_op_rev1 = dic_op_rev.iloc[np.where(~dic_op_rev['GL_Code_'].isna())].fillna(0)\n",
    "\n",
    "dic_op_rev1.GL_Code_ = dic_op_rev1.GL_Code_.astype(int)\n",
    "dic_op_rev1.GL_Code_ = dic_op_rev1.GL_Code_.astype(str)\n",
    "\n",
    "dic_op_rev1 = dic_op_rev1.drop_duplicates('GL_Code_', keep='first')\n",
    "\n",
    "OpRev = dic_op_rev1.merge(Income_curr_raw1[['Item','GL_Code_','YTD '+str(Income_curr[21:])]],on=['GL_Code_'],how='left').fillna(0)\n",
    "\n",
    "OpRev['YTD '+str(Income_curr[21:])] = OpRev['YTD '+str(Income_curr[21:])]*-1\n",
    "\n",
    "#Conventional\n",
    "OpRev = OpRev.iloc[np.where(OpRev.Business_Category==\"Conventional\")]\n",
    "\n",
    "OpRev1 = OpRev.fillna(0).groupby(['Class','Business_Category'])[['YTD '+str(Income_curr[21:])]].sum().reset_index() #,'Business_Unit'\n",
    "\n",
    "OpRev2 = OpRev1.drop('Business_Category',axis=1)"
   ]
  },
  {
   "cell_type": "code",
   "execution_count": 242,
   "id": "cad091d4-6cbb-4fb7-89cd-de7aa0dc02a2",
   "metadata": {},
   "outputs": [
    {
     "data": {
      "text/html": [
       "<div>\n",
       "<style scoped>\n",
       "    .dataframe tbody tr th:only-of-type {\n",
       "        vertical-align: middle;\n",
       "    }\n",
       "\n",
       "    .dataframe tbody tr th {\n",
       "        vertical-align: top;\n",
       "    }\n",
       "\n",
       "    .dataframe thead th {\n",
       "        text-align: right;\n",
       "    }\n",
       "</style>\n",
       "<table border=\"1\" class=\"dataframe\">\n",
       "  <thead>\n",
       "    <tr style=\"text-align: right;\">\n",
       "      <th></th>\n",
       "      <th>Class</th>\n",
       "      <th>YTD Jan 2024</th>\n",
       "    </tr>\n",
       "  </thead>\n",
       "  <tbody>\n",
       "    <tr>\n",
       "      <th>0</th>\n",
       "      <td>Operating Revenue</td>\n",
       "      <td>1.29e+07</td>\n",
       "    </tr>\n",
       "  </tbody>\n",
       "</table>\n",
       "</div>"
      ],
      "text/plain": [
       "               Class  YTD Jan 2024\n",
       "0  Operating Revenue      1.29e+07"
      ]
     },
     "execution_count": 242,
     "metadata": {},
     "output_type": "execute_result"
    }
   ],
   "source": [
    "OpRev2"
   ]
  },
  {
   "cell_type": "code",
   "execution_count": 243,
   "id": "dbf20f63-2809-498b-9ce1-48aa67ffb135",
   "metadata": {},
   "outputs": [],
   "source": [
    "#----------------------------------------------Int Inc-------------------------------------------------------------\n",
    "\n",
    "dic_int_inc1 = dic_int_inc.iloc[np.where(~dic_int_inc['GL_Code_'].isna())].fillna(0)\n",
    "\n",
    "dic_int_inc1.GL_Code_ = dic_int_inc1.GL_Code_.astype(int)\n",
    "dic_int_inc1.GL_Code_ = dic_int_inc1.GL_Code_.astype(str)\n",
    "\n",
    "dic_int_inc1 = dic_int_inc1.drop_duplicates('GL_Code_', keep='first')\n",
    "\n",
    "IntInc = dic_int_inc1.merge(Income_curr_raw1[['Item','GL_Code_','YTD '+str(Income_curr[21:])]],on=['GL_Code_'],how='left').fillna(0)\n",
    "\n",
    "IntInc['YTD '+str(Income_curr[21:])] = IntInc['YTD '+str(Income_curr[21:])]*-1\n",
    "\n",
    "IntInc1 = IntInc.fillna(0).groupby(['Class'])[['YTD '+str(Income_curr[21:])]].sum().reset_index() #,'Business_Unit'\n"
   ]
  },
  {
   "cell_type": "code",
   "execution_count": 244,
   "id": "921b1302-6a0a-44af-8968-ebc569be0e3a",
   "metadata": {},
   "outputs": [
    {
     "data": {
      "text/html": [
       "<div>\n",
       "<style scoped>\n",
       "    .dataframe tbody tr th:only-of-type {\n",
       "        vertical-align: middle;\n",
       "    }\n",
       "\n",
       "    .dataframe tbody tr th {\n",
       "        vertical-align: top;\n",
       "    }\n",
       "\n",
       "    .dataframe thead th {\n",
       "        text-align: right;\n",
       "    }\n",
       "</style>\n",
       "<table border=\"1\" class=\"dataframe\">\n",
       "  <thead>\n",
       "    <tr style=\"text-align: right;\">\n",
       "      <th></th>\n",
       "      <th>Class</th>\n",
       "      <th>YTD Jan 2024</th>\n",
       "    </tr>\n",
       "  </thead>\n",
       "  <tbody>\n",
       "    <tr>\n",
       "      <th>0</th>\n",
       "      <td>Interest Income</td>\n",
       "      <td>8.74e+06</td>\n",
       "    </tr>\n",
       "  </tbody>\n",
       "</table>\n",
       "</div>"
      ],
      "text/plain": [
       "             Class  YTD Jan 2024\n",
       "0  Interest Income      8.74e+06"
      ]
     },
     "execution_count": 244,
     "metadata": {},
     "output_type": "execute_result"
    }
   ],
   "source": [
    "#sme cm all\n",
    "IntInc1"
   ]
  },
  {
   "cell_type": "code",
   "execution_count": 245,
   "id": "11530c30-704f-45f8-ba8f-8af5f30bfeba",
   "metadata": {},
   "outputs": [],
   "source": [
    "#----------------------------------------------Int Exp-------------------------------------------------------------\n",
    "\n",
    "dic_int_exp1 = dic_int_exp.iloc[np.where(~dic_int_exp['GL_Code_'].isna())].fillna(0)\n",
    "\n",
    "dic_int_exp1.GL_Code_ = dic_int_exp1.GL_Code_.astype(int)\n",
    "dic_int_exp1.GL_Code_ = dic_int_exp1.GL_Code_.astype(str)\n",
    "\n",
    "dic_int_exp1 = dic_int_exp1.drop_duplicates('GL_Code_', keep='first')\n",
    "\n",
    "IntExp = dic_int_exp1.merge(Income_curr_raw1[['Item','GL_Code_','YTD '+str(Income_curr[21:])]],on=['GL_Code_'],how='left').fillna(0)\n",
    "\n",
    "IntExp['YTD '+str(Income_curr[21:])] = IntExp['YTD '+str(Income_curr[21:])]*-1\n",
    "\n",
    "IntExp1 = IntExp.fillna(0).groupby(['Class'])[['YTD '+str(Income_curr[21:])]].sum().reset_index() #,'Business_Unit'\n"
   ]
  },
  {
   "cell_type": "code",
   "execution_count": 246,
   "id": "af841285-f24c-4e64-87af-359766471f1c",
   "metadata": {},
   "outputs": [
    {
     "data": {
      "text/plain": [
       "-5668139.74"
      ]
     },
     "execution_count": 246,
     "metadata": {},
     "output_type": "execute_result"
    }
   ],
   "source": [
    "#sme cm all\n",
    "sum(IntExp['YTD '+str(Income_curr[21:])])"
   ]
  },
  {
   "cell_type": "code",
   "execution_count": 247,
   "id": "79117bff-7e62-4760-8300-74beadd74034",
   "metadata": {},
   "outputs": [],
   "source": [
    "frames = [OpRev2, IntInc1, IntExp1] \n",
    "appendR = pd.concat(frames)\n",
    "\n",
    "\n",
    "appendR.set_index('Class', inplace=True)\n",
    "\n",
    "b = appendR.T\n",
    "b['Net Interest Income'] = b['Interest Income'] + b['Interest Expense']\n",
    "\n",
    "c = b.T\n",
    "newdf =c.reset_index()"
   ]
  },
  {
   "cell_type": "code",
   "execution_count": 248,
   "id": "153ac7ff-0639-440b-82d3-f3c3e83243e4",
   "metadata": {},
   "outputs": [],
   "source": [
    "#----------------------------------------------Underwriting/Takaful results-------------------------------------------------------------\n",
    "\n",
    "dic_undwr_tkfl1 = dic_undwr_tkfl.iloc[np.where(~dic_undwr_tkfl['GL_Code_'].isna())].fillna(0)\n",
    "\n",
    "#dic_undwr_tkfl1.GL_Code_ = dic_undwr_tkfl1.GL_Code_.astype(int)\n",
    "dic_undwr_tkfl1.GL_Code_ = dic_undwr_tkfl1.GL_Code_.astype(str)\n",
    "\n",
    "dic_undwr_tkfl1 = dic_undwr_tkfl1.drop_duplicates('GL_Code_', keep='first')\n",
    "\n",
    "UndwrTkfl= dic_undwr_tkfl1.merge(Income_curr_raw1[['Item','GL_Code_','YTD '+str(Income_curr[21:])]],on=['GL_Code_'],how='left').fillna(0)\n",
    "\n",
    "UndwrTkfl['YTD '+str(Income_curr[21:])] = UndwrTkfl['YTD '+str(Income_curr[21:])]*-1\n",
    "\n",
    "#Conventional\n",
    "UndwrTkfl = UndwrTkfl.iloc[np.where(UndwrTkfl.GL_Description_2.isin(['Gross premiums',\n",
    "                                                             'Reinsurance',\n",
    "                                                             'Movement in premium liabilities reserves',\n",
    "                                                             'Write-back in allowance for doubtful debts',\n",
    "                                                             'Other fee income',\n",
    "                                                             'Net claims incurred']))]\n",
    "\n",
    "UndwrTkfl1 = UndwrTkfl.fillna(0).groupby(['Class'])[['YTD '+str(Income_curr[21:])]].sum().reset_index() #,'Business_Unit'\n"
   ]
  },
  {
   "cell_type": "code",
   "execution_count": 249,
   "id": "60a23686-73cb-4fa7-9d58-67761a3236c8",
   "metadata": {},
   "outputs": [
    {
     "data": {
      "text/html": [
       "<div>\n",
       "<style scoped>\n",
       "    .dataframe tbody tr th:only-of-type {\n",
       "        vertical-align: middle;\n",
       "    }\n",
       "\n",
       "    .dataframe tbody tr th {\n",
       "        vertical-align: top;\n",
       "    }\n",
       "\n",
       "    .dataframe thead th {\n",
       "        text-align: right;\n",
       "    }\n",
       "</style>\n",
       "<table border=\"1\" class=\"dataframe\">\n",
       "  <thead>\n",
       "    <tr style=\"text-align: right;\">\n",
       "      <th></th>\n",
       "      <th>Class</th>\n",
       "      <th>YTD Jan 2024</th>\n",
       "    </tr>\n",
       "  </thead>\n",
       "  <tbody>\n",
       "    <tr>\n",
       "      <th>0</th>\n",
       "      <td>Underwriting/Takaful results</td>\n",
       "      <td>-14725.84</td>\n",
       "    </tr>\n",
       "  </tbody>\n",
       "</table>\n",
       "</div>"
      ],
      "text/plain": [
       "                          Class  YTD Jan 2024\n",
       "0  Underwriting/Takaful results     -14725.84"
      ]
     },
     "execution_count": 249,
     "metadata": {},
     "output_type": "execute_result"
    }
   ],
   "source": [
    "UndwrTkfl1"
   ]
  },
  {
   "cell_type": "code",
   "execution_count": 250,
   "id": "acdfbdd6-3a39-444a-a1fc-14f2037fab30",
   "metadata": {},
   "outputs": [],
   "source": [
    "#----------------------------------------------Other Income-------------------------------------------------------------\n",
    "\n",
    "dic_oth_inc1 = dic_oth_inc.iloc[np.where(~dic_oth_inc['GL_Code_'].isna())].fillna(0)\n",
    "\n",
    "dic_oth_inc1.GL_Code_ = dic_oth_inc1.GL_Code_.astype(int)\n",
    "dic_oth_inc1.GL_Code_ = dic_oth_inc1.GL_Code_.astype(str)\n",
    "\n",
    "#dic_inc_isl_biz1 = dic_inc_isl_biz1.drop_duplicates('GL_Code_', keep='first')\n",
    "\n",
    "OthInc = dic_oth_inc1.merge(Income_curr_raw1[['Item','GL_Code_','YTD '+str(Income_curr[21:])]],on=['GL_Code_'],how='left').fillna(0)\n",
    "\n",
    "OthInc['YTD '+str(Income_curr[21:])] = OthInc['YTD '+str(Income_curr[21:])]*-1\n",
    "\n",
    "#Conventional\n",
    "OthIncl = OthInc.iloc[np.where(OthInc.GL_Code_.isin(['410104',\n",
    "'410116',\n",
    "'410117',\n",
    "'410118',\n",
    "'410105',\n",
    "'410119',\n",
    "'410120',\n",
    "'410121',\n",
    "'410107',\n",
    "'410122',\n",
    "'410123',\n",
    "'410124',\n",
    "'410125',\n",
    "'410109',\n",
    "'410110',\n",
    "'410114',\n",
    "'410115',\n",
    "'410111',\n",
    "'410680',\n",
    "'410650',\n",
    "'410103',\n",
    "'410701',\n",
    "'410702',\n",
    "'410704',\n",
    "'410705',\n",
    "'400201',\n",
    "'410101',\n",
    "'410102',\n",
    "'410113',\n",
    "'410112',\n",
    "'410655',\n",
    "'410100',\n",
    "'420709',\n",
    "'420712',\n",
    "'420719',\n",
    "'420710',\n",
    "'420713',\n",
    "'420724',\n",
    "'420726',\n",
    "'420725',\n",
    "'420730',\n",
    "'420732',\n",
    "'420707',\n",
    "'420711',\n",
    "'420708',\n",
    "'421302',\n",
    "'421300',\n",
    "'420729',\n",
    "'420731',\n",
    "'420704',\n",
    "'420751',\n",
    "'420750',\n",
    "'420910',\n",
    "'420911',\n",
    "'420912',\n",
    "'540007',\n",
    "'540008',\n",
    "'540014',\n",
    "'420702',\n",
    "'420727',\n",
    "'420608',\n",
    "'511310',\n",
    "'420609',\n",
    "'420706',\n",
    "'420701',\n",
    "'420705',\n",
    "'420703']))]\n",
    "\n",
    "OthInc1 = OthIncl.fillna(0).groupby(['Class'])[['YTD '+str(Income_curr[21:])]].sum().reset_index() #,'Business_Unit"
   ]
  },
  {
   "cell_type": "code",
   "execution_count": null,
   "id": "601e43dc-9fed-4a3e-905d-2f6e478f495e",
   "metadata": {},
   "outputs": [],
   "source": []
  },
  {
   "cell_type": "code",
   "execution_count": 251,
   "id": "977f990b-6990-4c31-823f-acf38b6243a8",
   "metadata": {},
   "outputs": [
    {
     "data": {
      "text/plain": [
       "-14896263.969999999"
      ]
     },
     "execution_count": 251,
     "metadata": {},
     "output_type": "execute_result"
    }
   ],
   "source": [
    "sum(OthIncl['YTD '+str(Income_curr[21:])])"
   ]
  },
  {
   "cell_type": "code",
   "execution_count": null,
   "id": "7c9e7da6-8199-4dd9-bebd-477b73138031",
   "metadata": {},
   "outputs": [],
   "source": []
  },
  {
   "cell_type": "code",
   "execution_count": 252,
   "id": "c81f8f76-b8fb-4b0c-b39a-7833a9ac621e",
   "metadata": {},
   "outputs": [],
   "source": [
    "appendnew = pd.concat([newdf, UndwrTkfl1, OthInc1] )\n",
    "\n",
    "appendnew.set_index('Class', inplace=True)\n",
    "\n",
    "la = appendnew.T\n",
    "la['Net Income'] = la['Net Interest Income'] + la['Underwriting/Takaful results'] + la['Other income'] #+ la['Income from Islamic business']\n",
    "\n",
    "la1 = la.T\n",
    "newdf1 =la1.reset_index()"
   ]
  },
  {
   "cell_type": "code",
   "execution_count": 253,
   "id": "653dad2f-cbbc-45d7-82ea-575e5df4120f",
   "metadata": {
    "scrolled": true
   },
   "outputs": [],
   "source": [
    "#newdf1"
   ]
  },
  {
   "cell_type": "code",
   "execution_count": 254,
   "id": "fc0f5d53-01cf-4743-bdc2-698e4ed146eb",
   "metadata": {},
   "outputs": [],
   "source": [
    "#----------------------------------------------Overhead expenses-------------------------------------------------------------\n",
    "\n",
    "dic_ovh_exp1 = dic_ovh_exp.iloc[np.where(~dic_ovh_exp['GL_Code_'].isna())].fillna(0)\n",
    "\n",
    "dic_ovh_exp1.GL_Code_ = dic_ovh_exp1.GL_Code_.astype(int)\n",
    "dic_ovh_exp1.GL_Code_ = dic_ovh_exp1.GL_Code_.astype(str)\n",
    "\n",
    "dic_ovh_exp1 = dic_ovh_exp1.drop_duplicates('GL_Code_', keep='last')\n",
    "\n",
    "OvhExp = dic_ovh_exp1.merge(Income_curr_raw1[['Item','GL_Code_','YTD '+str(Income_curr[21:])]],on=['GL_Code_'],how='left').fillna(0)\n",
    "\n",
    "OvhExp['YTD '+str(Income_curr[21:])] = OvhExp['YTD '+str(Income_curr[21:])]*-1\n",
    "\n",
    "#Conventional\n",
    "OvhExpl = OvhExp.iloc[np.where(OvhExp.GL_Code_.isin(['510613','510402',\n",
    "'510508','510501',\n",
    "'510406','510405',\n",
    "'510302','510300',\n",
    "'510301','510608',\n",
    "'510404','510403',\n",
    "'510601','510219',\n",
    "'510210','510223',\n",
    "'510209','511401',\n",
    "'510110','511206',\n",
    "'511207','510304',\n",
    "'510305','510211',\n",
    "'511102','511104',\n",
    "'511100','511108',\n",
    "'511101','511105',\n",
    "'510202','510205',\n",
    "'510703','510704',\n",
    "'510700','510705',\n",
    "'510702','510206',\n",
    "'510901','511201',\n",
    "'510504','510900',\n",
    "'510203','510204',\n",
    "'510407','510303',\n",
    "'510902','510502',\n",
    "'510607','510509',\n",
    "'510500','510510',\n",
    "'510603','511313',\n",
    "'510609','510215',\n",
    "'510214','510605',\n",
    "'511209','510213',\n",
    "'510218','510207',\n",
    "'510200','500400',\n",
    "'500401','510872',\n",
    "'510106','510150',\n",
    "'510600','510604',\n",
    "'510612','510611',\n",
    "'510610','500103','500200','511200','511203','511204','511208','510870','510871','511404','511405','511300','511301',\n",
    "'511302','510401','510400','510803','510800','510802','510801','510505','510506','510511','510507','510109','510104','510115','510126','510117',\n",
    "'510105','510107','510108','510116','510118','510152','510128','510111','510155','510216','510103','510141','510125','510113','510147','510100',\n",
    "'510101','510102','510132','510221','510130','510114','510139','510133','510138','510137','510121','510140','510129','510135','510149','510122',\n",
    "'510512','510123','510145','510134','510136','510220','510146','510148','510154','510120','510208','510119','511205','510156','510151','510153']))]\n",
    "\n",
    "OvhExp1 = OvhExpl.fillna(0).groupby(['Class'])[['YTD '+str(Income_curr[21:])]].sum().reset_index() #,'Business_Unit"
   ]
  },
  {
   "cell_type": "code",
   "execution_count": 255,
   "id": "3ebc8632-6874-4769-abd6-3375523b01ef",
   "metadata": {},
   "outputs": [
    {
     "data": {
      "text/plain": [
       "-5959414.82"
      ]
     },
     "execution_count": 255,
     "metadata": {},
     "output_type": "execute_result"
    }
   ],
   "source": [
    "sum(OvhExp1['YTD '+str(Income_curr[21:])])"
   ]
  },
  {
   "cell_type": "code",
   "execution_count": 256,
   "id": "fe90d05a-cf6c-4fdd-83ed-7aab43c44a78",
   "metadata": {},
   "outputs": [],
   "source": [
    "appendnew1 = pd.concat([newdf1, OvhExp1] )\n",
    "\n",
    "appendnew1.set_index('Class', inplace=True)\n",
    "\n",
    "laa = appendnew1.T\n",
    "laa['Operating profit/loss'] = laa['Net Income'] + laa['Overhead expenses']\n",
    "\n",
    "laa1 = laa.T\n",
    "newdf2 =laa1.reset_index()"
   ]
  },
  {
   "cell_type": "code",
   "execution_count": 257,
   "id": "29f3e630-2b79-45f7-8bc0-034184ca747d",
   "metadata": {},
   "outputs": [],
   "source": [
    "#----------------------------------------------Allowances for losses on loans & financing -------------------------------------------------------------\n",
    "\n",
    "dic_allw_laf1 = dic_allw_laf.iloc[np.where(~dic_allw_laf['GL_Code_'].isna())].fillna(0)\n",
    "\n",
    "dic_allw_laf1.GL_Code_ = dic_allw_laf1.GL_Code_.astype(int)\n",
    "dic_allw_laf1.GL_Code_ = dic_allw_laf1.GL_Code_.astype(str)\n",
    "\n",
    "#dic_inc_isl_biz1 = dic_inc_isl_biz1.drop_duplicates('GL_Code_', keep='first')\n",
    "\n",
    "AllwLaf = dic_allw_laf1.merge(Income_curr_raw1[['Item','GL_Code_','YTD '+str(Income_curr[21:])]],on=['GL_Code_'],how='left').fillna(0)\n",
    "\n",
    "AllwLaf['YTD '+str(Income_curr[21:])] = AllwLaf['YTD '+str(Income_curr[21:])]*-1\n",
    "\n",
    "#Conventional\n",
    "AllwLafl = AllwLaf.iloc[np.where(AllwLaf.GL_Code_.isin(['511422',\n",
    "'400108',\n",
    "'511424',\n",
    "'511421',\n",
    "'511417',\n",
    "'511418',\n",
    "'511411',\n",
    "'511400',\n",
    "'430103',\n",
    "'511425',\n",
    "'511426',\n",
    "'511427',\n",
    "'511414']))]\n",
    "\n",
    "AllwLaf1 = AllwLafl.fillna(0).groupby(['Class'])[['YTD '+str(Income_curr[21:])]].sum().reset_index() #,'Business_Unit"
   ]
  },
  {
   "cell_type": "code",
   "execution_count": 258,
   "id": "fd992bf5-892d-490b-8214-059c70e4c142",
   "metadata": {},
   "outputs": [
    {
     "data": {
      "text/plain": [
       "-3346040.6300000004"
      ]
     },
     "execution_count": 258,
     "metadata": {},
     "output_type": "execute_result"
    }
   ],
   "source": [
    "sum(AllwLaf1['YTD '+str(Income_curr[21:])])"
   ]
  },
  {
   "cell_type": "code",
   "execution_count": 259,
   "id": "105f489d-a105-49b6-a9f6-9ce66126aec8",
   "metadata": {},
   "outputs": [],
   "source": [
    "#----------------------------------------------Allowance on investment securities  -------------------------------------------------------------\n",
    "\n",
    "dic_allw_invsec1 = dic_allw_invsec.iloc[np.where(~dic_allw_invsec['GL_Code_'].isna())].fillna(0)\n",
    "\n",
    "dic_allw_invsec1.GL_Code_ = dic_allw_invsec1.GL_Code_.astype(int)\n",
    "dic_allw_invsec1.GL_Code_ = dic_allw_invsec1.GL_Code_.astype(str)\n",
    "\n",
    "#dic_inc_isl_biz1 = dic_inc_isl_biz1.drop_duplicates('GL_Code_', keep='first')\n",
    "\n",
    "AllwInvSec = dic_allw_invsec1.merge(Income_curr_raw1[['Item','GL_Code_','YTD '+str(Income_curr[21:])]],on=['GL_Code_'],how='left').fillna(0)\n",
    "\n",
    "AllwInvSec['YTD '+str(Income_curr[21:])] = AllwInvSec['YTD '+str(Income_curr[21:])]*-1\n",
    "\n",
    "#Conventional\n",
    "AllwInvSec = AllwInvSec.iloc[np.where(AllwInvSec.GL_Code_.isin(['511423',\n",
    "'511428',\n",
    "'511429',\n",
    "'511430']))]\n",
    "\n",
    "AllwInvSec1 = AllwInvSec.fillna(0).groupby(['Class'])[['YTD '+str(Income_curr[21:])]].sum().reset_index() #,'Business_Unit"
   ]
  },
  {
   "cell_type": "code",
   "execution_count": 260,
   "id": "f3904bfe-7899-4f76-ae45-a508fcc84ea7",
   "metadata": {},
   "outputs": [
    {
     "data": {
      "text/plain": [
       "0.0"
      ]
     },
     "execution_count": 260,
     "metadata": {},
     "output_type": "execute_result"
    }
   ],
   "source": [
    "sum(AllwInvSec1['YTD '+str(Income_curr[21:])])"
   ]
  },
  {
   "cell_type": "code",
   "execution_count": 261,
   "id": "dd7ddae5-83ee-4615-a339-0a8356062b7d",
   "metadata": {},
   "outputs": [],
   "source": [
    "#---------------------------------------------General allowance -Sundry debtors-------------------------------------------------------------\n",
    "\n",
    "dic_allw_sundry1 = dic_allw_sundry.iloc[np.where(~dic_allw_sundry['GL_Code_'].isna())].fillna(0)\n",
    "\n",
    "dic_allw_sundry1.GL_Code_ = dic_allw_sundry1.GL_Code_.astype(int)\n",
    "dic_allw_sundry1.GL_Code_ = dic_allw_sundry1.GL_Code_.astype(str)\n",
    "\n",
    "#dic_inc_isl_biz1 = dic_inc_isl_biz1.drop_duplicates('GL_Code_', keep='first')\n",
    "\n",
    "AllwInvSun = dic_allw_sundry1.merge(Income_curr_raw1[['Item','GL_Code_','YTD '+str(Income_curr[21:])]],on=['GL_Code_'],how='left').fillna(0)\n",
    "\n",
    "AllwInvSun['YTD '+str(Income_curr[21:])] = AllwInvSun['YTD '+str(Income_curr[21:])]*-1\n",
    "\n",
    "#Conventional\n",
    "AllwInvSun = AllwInvSun.iloc[np.where(AllwInvSun.GL_Code_.isin(['511403']))]\n",
    "\n",
    "AllwInvSun1 = AllwInvSun.fillna(0).groupby(['Class'])[['YTD '+str(Income_curr[21:])]].sum().reset_index() #,'Business_Unit\n"
   ]
  },
  {
   "cell_type": "code",
   "execution_count": 262,
   "id": "7b821996-fc7b-494a-adba-fc136d5861a6",
   "metadata": {},
   "outputs": [
    {
     "data": {
      "text/plain": [
       "0.0"
      ]
     },
     "execution_count": 262,
     "metadata": {},
     "output_type": "execute_result"
    }
   ],
   "source": [
    "sum(AllwInvSun1['YTD '+str(Income_curr[21:])])"
   ]
  },
  {
   "cell_type": "code",
   "execution_count": 263,
   "id": "4fd8a7de-375c-4fe4-96cc-2d7de35eccb5",
   "metadata": {},
   "outputs": [],
   "source": [
    "#----------------------------------------------Allowance for commitments and contingencies  -------------------------------------------------------------\n",
    "\n",
    "dic_allw_cnc1 = dic_allw_cnc.iloc[np.where(~dic_allw_cnc['GL_Code_'].isna())].fillna(0)\n",
    "\n",
    "dic_allw_cnc1.GL_Code_ = dic_allw_cnc1.GL_Code_.astype(int)\n",
    "dic_allw_cnc1.GL_Code_ = dic_allw_cnc1.GL_Code_.astype(str)\n",
    "\n",
    "#dic_inc_isl_biz1 = dic_inc_isl_biz1.drop_duplicates('GL_Code_', keep='first')\n",
    "\n",
    "AllwCnC = dic_allw_cnc1.merge(Income_curr_raw1[['Item','GL_Code_','YTD '+str(Income_curr[21:])]],on=['GL_Code_'],how='left').fillna(0)\n",
    "\n",
    "AllwCnC['YTD '+str(Income_curr[21:])] = AllwCnC['YTD '+str(Income_curr[21:])]*-1\n",
    "\n",
    "#Conventional\n",
    "AllwCnC = AllwCnC.iloc[np.where(AllwCnC.GL_Code_.isin(['511425',\n",
    "'511426',\n",
    "'511427']))]\n",
    "\n",
    "AllwCnC1 = AllwCnC.fillna(0).groupby(['Class'])[['YTD '+str(Income_curr[21:])]].sum().reset_index() #,'Business_Unit"
   ]
  },
  {
   "cell_type": "code",
   "execution_count": 264,
   "id": "d7afb714-e8cc-46d1-b923-76c3b4e6750d",
   "metadata": {},
   "outputs": [
    {
     "data": {
      "text/plain": [
       "2462036.43"
      ]
     },
     "execution_count": 264,
     "metadata": {},
     "output_type": "execute_result"
    }
   ],
   "source": [
    "sum(AllwCnC1['YTD '+str(Income_curr[21:])])"
   ]
  },
  {
   "cell_type": "code",
   "execution_count": 265,
   "id": "780b7a1e-1f82-4e35-8d64-4da5bb3019a7",
   "metadata": {},
   "outputs": [],
   "source": [
    "#----------------------------------------------Allowance for diminution in value of investment in subsidiaries  -------------------------------------------------------------\n",
    "\n",
    "dic_allw_dim1 = dic_allw_dim.iloc[np.where(~dic_allw_dim['GL_Code_'].isna())].fillna(0)\n",
    "\n",
    "dic_allw_dim1.GL_Code_ = dic_allw_dim1.GL_Code_.astype(int)\n",
    "dic_allw_dim1.GL_Code_ = dic_allw_dim1.GL_Code_.astype(str)\n",
    "\n",
    "#dic_inc_isl_biz1 = dic_inc_isl_biz1.drop_duplicates('GL_Code_', keep='first')\n",
    "\n",
    "AllwDim = dic_allw_dim1.merge(Income_curr_raw1[['Item','GL_Code_','YTD '+str(Income_curr[21:])]],on=['GL_Code_'],how='left').fillna(0)\n",
    "\n",
    "AllwDim['YTD '+str(Income_curr[21:])] = AllwDim['YTD '+str(Income_curr[21:])]*-1\n",
    "\n",
    "AllwDim1 = AllwDim.fillna(0).groupby(['Class'])[['YTD '+str(Income_curr[21:])]].sum().reset_index() #,'Business_Unit"
   ]
  },
  {
   "cell_type": "code",
   "execution_count": 266,
   "id": "41d4b5f5-eca0-4e47-9a92-8d36d7ab15e0",
   "metadata": {},
   "outputs": [
    {
     "data": {
      "text/plain": [
       "0.0"
      ]
     },
     "execution_count": 266,
     "metadata": {},
     "output_type": "execute_result"
    }
   ],
   "source": [
    "sum(AllwDim1['YTD '+str(Income_curr[21:])])"
   ]
  },
  {
   "cell_type": "code",
   "execution_count": 267,
   "id": "01bbc512-05f8-4d38-b67d-a4ee89206817",
   "metadata": {},
   "outputs": [],
   "source": [
    "#---------------------------------------------PBT-------------------------------------------------------------\n",
    "\n",
    "appendnew2 = pd.concat([newdf2,\n",
    "AllwLaf1,\n",
    "AllwInvSec1,\n",
    "AllwInvSun1,\n",
    "AllwCnC1,\n",
    "AllwDim1] )\n",
    "\n",
    "appendnew2.set_index('Class', inplace=True)\n",
    "\n",
    "laaa = appendnew2.T\n",
    "\n",
    "laaa['Profit/Loss before taxation'] = laaa['Operating profit/loss'] + laaa['Allowances for losses on loans & financing']+ laaa['Allowance on investment securities']+ laaa['General allowance -Sundry debtors']+ laaa['Allowance for commitments and contingencies']+ laaa['Allowance for diminution in value of investment in subsidiaries ']\n",
    "\n",
    "laaa1 = laaa.T\n",
    "newdf3 =laaa1.reset_index()"
   ]
  },
  {
   "cell_type": "code",
   "execution_count": 268,
   "id": "07fcc94b-d45e-4664-99f0-feea69f1d3c8",
   "metadata": {},
   "outputs": [],
   "source": [
    "#---------------------------------------------Taxation-------------------------------------------------------------\n",
    "\n",
    "tax1 = tax.iloc[np.where(~tax['GL_Code_'].isna())].fillna(0)\n",
    "\n",
    "tax1.GL_Code_ = tax1.GL_Code_.astype(int)\n",
    "tax1.GL_Code_ = tax1.GL_Code_.astype(str)\n",
    "\n",
    "#dic_inc_isl_biz1 = dic_inc_isl_biz1.drop_duplicates('GL_Code_', keep='first')\n",
    "\n",
    "TAXX = tax1.merge(Income_curr_raw1[['Item','GL_Code_','YTD '+str(Income_curr[21:])]],on=['GL_Code_'],how='left').fillna(0)\n",
    "\n",
    "TAXX['YTD '+str(Income_curr[21:])] = TAXX['YTD '+str(Income_curr[21:])]*-1\n",
    "\n",
    "#dividen expense n zakat\n",
    "TAXX = TAXX.iloc[np.where(~(TAXX.GL_Code_.isin([\"530001\",\"5520003\"])))]\n",
    "\n",
    "TAXX1 = TAXX.fillna(0).groupby(['Class'])[['YTD '+str(Income_curr[21:])]].sum().reset_index() #,'Business_Unit"
   ]
  },
  {
   "cell_type": "code",
   "execution_count": null,
   "id": "f36cc562-b4da-44f6-aa12-8f6e25d7b4a1",
   "metadata": {},
   "outputs": [],
   "source": []
  },
  {
   "cell_type": "code",
   "execution_count": 269,
   "id": "cebf23aa-de63-4df5-84fa-062e435c742a",
   "metadata": {},
   "outputs": [],
   "source": [
    "appendnew3 = pd.concat([newdf3, TAXX1] )\n",
    "\n",
    "appendnew3.set_index('Class', inplace=True)\n",
    "\n",
    "laaaa = appendnew3.T\n",
    "laaaa['Net Profit/Loss fo the year'] = laaaa['Profit/Loss before taxation'] + laaaa['Taxation']\n",
    "\n",
    "laaaa1 = laaaa.T\n",
    "newdf4 =laaaa1.reset_index()\n",
    "\n",
    "newdf4.rename(columns={'Class':'Income Statement'}, inplace=True)"
   ]
  },
  {
   "cell_type": "code",
   "execution_count": null,
   "id": "4f5c74f8-c351-4997-abad-7d6f3882a919",
   "metadata": {
    "scrolled": true
   },
   "outputs": [],
   "source": []
  },
  {
   "cell_type": "markdown",
   "id": "d57f4c8b-3ae2-4f32-b157-b6f0d2efc2ad",
   "metadata": {},
   "source": [
    "# Export "
   ]
  },
  {
   "cell_type": "code",
   "execution_count": 32,
   "id": "e0f3fe4f-1fd8-4d07-8c5e-da07be1384a3",
   "metadata": {
    "scrolled": true
   },
   "outputs": [],
   "source": [
    "newdf4.to_excel(str(Location)+'\\\\'+str(Income_curr[:4])+'YTD Income Statement '+str(Income_curr[21:])+' Conventional (python).xlsx', sheet_name=\"Profit Loss Conventional\", index = False)\n"
   ]
  },
  {
   "cell_type": "code",
   "execution_count": 33,
   "id": "fd82d493-8b85-44be-b79a-b6d74b7b00ef",
   "metadata": {},
   "outputs": [
    {
     "data": {
      "text/plain": [
       "'C:\\\\Users\\\\syahidhalid\\\\Syahid_PC\\\\Analytics - FAD\\\\06. Management Account\\\\\\\\202404'"
      ]
     },
     "execution_count": 33,
     "metadata": {},
     "output_type": "execute_result"
    }
   ],
   "source": [
    "Location"
   ]
  },
  {
   "cell_type": "code",
   "execution_count": null,
   "id": "29c8e41b-c9e2-4d56-a676-a6e7c7cb821e",
   "metadata": {},
   "outputs": [],
   "source": []
  },
  {
   "cell_type": "markdown",
   "id": "a38451e8-0af9-403c-9226-efbafb77e18c",
   "metadata": {},
   "source": [
    "# Monthly BI"
   ]
  },
  {
   "cell_type": "code",
   "execution_count": null,
   "id": "ff520d71-1560-4337-af82-37eda2034d3d",
   "metadata": {},
   "outputs": [],
   "source": []
  },
  {
   "cell_type": "code",
   "execution_count": 270,
   "id": "5518d862-3699-4f65-8f20-5bdefd1c66bd",
   "metadata": {},
   "outputs": [
    {
     "name": "stdout",
     "output_type": "stream",
     "text": [
      "(86, 9)\n",
      "(60, 7)\n",
      "(29, 7)\n",
      "(36, 7)\n",
      "(66, 7)\n",
      "(149, 8)\n",
      "(10, 7)\n",
      "(4, 7)\n",
      "(1, 7)\n",
      "(3, 7)\n",
      "(1, 7)\n",
      "(4, 7)\n"
     ]
    }
   ],
   "source": [
    "print(OpRev.shape)\n",
    "print(IntInc.shape)\n",
    "print(IntExp.shape)\n",
    "print(UndwrTkfl.shape)\n",
    "print(OthIncl.shape)\n",
    "print(OvhExpl.shape)\n",
    "print(AllwLafl.shape)\n",
    "print(AllwInvSec.shape)\n",
    "print(AllwInvSun.shape)\n",
    "print(AllwCnC.shape)\n",
    "print(AllwDim.shape)\n",
    "print(TAXX.shape)"
   ]
  },
  {
   "cell_type": "code",
   "execution_count": 271,
   "id": "efd62314-4d37-4b15-8084-30481fe5317f",
   "metadata": {},
   "outputs": [],
   "source": [
    "#OpRev.Business_Unit.value_counts()"
   ]
  },
  {
   "cell_type": "code",
   "execution_count": 272,
   "id": "18cf2cb8-e51a-42c7-82b6-d9a95e097680",
   "metadata": {},
   "outputs": [
    {
     "data": {
      "text/plain": [
       "Class_2\n",
       "General administrative expenses       83\n",
       "Personnel costs                       52\n",
       "Establishment & marketing expenses    14\n",
       "Name: count, dtype: int64"
      ]
     },
     "execution_count": 272,
     "metadata": {},
     "output_type": "execute_result"
    }
   ],
   "source": [
    "OvhExpl.Class_2.value_counts()\n",
    "#GL_Description_2"
   ]
  },
  {
   "cell_type": "code",
   "execution_count": 273,
   "id": "d9336a9b-becd-46b2-b5cd-9cead1e2a7b6",
   "metadata": {},
   "outputs": [
    {
     "name": "stderr",
     "output_type": "stream",
     "text": [
      "C:\\Users\\syahidhalid\\AppData\\Local\\Temp\\2\\ipykernel_19756\\2179065753.py:9: SettingWithCopyWarning: \n",
      "A value is trying to be set on a copy of a slice from a DataFrame.\n",
      "Try using .loc[row_indexer,col_indexer] = value instead\n",
      "\n",
      "See the caveats in the documentation: https://pandas.pydata.org/pandas-docs/stable/user_guide/indexing.html#returning-a-view-versus-a-copy\n",
      "  OthIncl['Business_Category'] = 'NA'\n",
      "C:\\Users\\syahidhalid\\AppData\\Local\\Temp\\2\\ipykernel_19756\\2179065753.py:16: SettingWithCopyWarning: \n",
      "A value is trying to be set on a copy of a slice from a DataFrame.\n",
      "Try using .loc[row_indexer,col_indexer] = value instead\n",
      "\n",
      "See the caveats in the documentation: https://pandas.pydata.org/pandas-docs/stable/user_guide/indexing.html#returning-a-view-versus-a-copy\n",
      "  AllwLafl['Business_Category'] = 'NA'\n"
     ]
    }
   ],
   "source": [
    "#---------------------------------------------Power BI-------------------------------------------------------------\n",
    "\n",
    "OpRevBI = OpRev.rename(columns={'Business_Unit':'GL_Description_2'})[['GL_Description',\n",
    "                    'GL_Code_','GL_Category','GL_Description_2','Class','Item','YTD '+str(Income_curr[21:]),'Business_Category']]\n",
    "\n",
    "IntInc['Business_Category'] = 'NA'\n",
    "IntExp['Business_Category'] = 'NA'\n",
    "UndwrTkfl['Business_Category'] = 'NA'\n",
    "OthIncl['Business_Category'] = 'NA'\n",
    "#vhExp['Business_Category'] = 'NA'\n",
    "\n",
    "#.drop('GL_Category',axis=1)\n",
    "OvhExpBI = OvhExpl.rename(columns={'Class_2':'Business_Category'})[['GL_Description',\n",
    "'GL_Code_','GL_Category','GL_Description_2','Class','YTD '+str(Income_curr[21:]),'Business_Category']]\n",
    "\n",
    "AllwLafl['Business_Category'] = 'NA'\n",
    "AllwInvSec['Business_Category'] = 'NA'\n",
    "AllwInvSun['Business_Category'] = 'NA'\n",
    "AllwCnC['Business_Category'] = 'NA'\n",
    "AllwDim['Business_Category'] = 'NA'\n",
    "TAXX['Business_Category'] = 'NA'\n",
    "\n",
    "PnL_BI = pd.concat([OpRevBI,IntInc,IntExp,UndwrTkfl,OthIncl,OvhExpBI,AllwLafl,AllwInvSec,AllwInvSun,AllwCnC,AllwDim,TAXX])"
   ]
  },
  {
   "cell_type": "code",
   "execution_count": null,
   "id": "f1991937-9914-4916-9782-9e8b07a5da30",
   "metadata": {
    "scrolled": true
   },
   "outputs": [],
   "source": []
  },
  {
   "cell_type": "code",
   "execution_count": null,
   "id": "5bef4305-aac5-4917-86ca-5e894249fb74",
   "metadata": {},
   "outputs": [],
   "source": []
  },
  {
   "cell_type": "markdown",
   "id": "fffa247d-1c89-4909-9135-50ccf98ed081",
   "metadata": {},
   "source": [
    "# Export"
   ]
  },
  {
   "cell_type": "code",
   "execution_count": 274,
   "id": "cc20d874-4b71-47f1-94c4-f1a52f63683c",
   "metadata": {},
   "outputs": [],
   "source": [
    "PnL_BI.to_csv(str(Location)+'\\\\'+str(Income_curr[:4])+'Income Statement '+str(Income_curr[21:])+' Conventional (python).txt', index = False)\n"
   ]
  },
  {
   "cell_type": "code",
   "execution_count": 275,
   "id": "da608560-7153-43f0-a89d-9261664e5003",
   "metadata": {},
   "outputs": [
    {
     "data": {
      "text/plain": [
       "'C:\\\\Users\\\\syahidhalid\\\\Syahid_PC\\\\Analytics - FAD\\\\06. Management Account\\\\\\\\202401'"
      ]
     },
     "execution_count": 275,
     "metadata": {},
     "output_type": "execute_result"
    }
   ],
   "source": [
    "Location"
   ]
  },
  {
   "cell_type": "code",
   "execution_count": null,
   "id": "24408fbb-990a-4fe5-b7b3-54325a99a82b",
   "metadata": {},
   "outputs": [],
   "source": []
  },
  {
   "cell_type": "code",
   "execution_count": null,
   "id": "5007f3d2-4b9b-4148-8c8c-2df8ff6d8c44",
   "metadata": {},
   "outputs": [],
   "source": []
  },
  {
   "cell_type": "code",
   "execution_count": null,
   "id": "07003515-f2b0-46ad-bae3-0a875087d24e",
   "metadata": {},
   "outputs": [],
   "source": [
    "#writer2 = pd.ExcelWriter(r'C:\\Users\\syahidhalid\\Syahid_PC\\Analytics - FAD\\06. Management Account\\\\Income Statement '+str(Income_curr[21:])+' (python).xlsx',engine='xlsxwriter')\n",
    "\n",
    "#newdf4.to_excel(writer2, sheet_name='Profit Loss', index = False)\n",
    "\n",
    "#writer2._save()"
   ]
  }
 ],
 "metadata": {
  "kernelspec": {
   "display_name": "Python 3 (ipykernel)",
   "language": "python",
   "name": "python3"
  },
  "language_info": {
   "codemirror_mode": {
    "name": "ipython",
    "version": 3
   },
   "file_extension": ".py",
   "mimetype": "text/x-python",
   "name": "python",
   "nbconvert_exporter": "python",
   "pygments_lexer": "ipython3",
   "version": "3.11.7"
  }
 },
 "nbformat": 4,
 "nbformat_minor": 5
}
