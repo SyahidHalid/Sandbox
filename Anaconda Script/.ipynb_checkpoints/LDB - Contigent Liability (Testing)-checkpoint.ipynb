{
 "cells": [
  {
   "cell_type": "code",
   "execution_count": 1,
   "id": "d446a470-56ed-49d9-8345-fcebfb37cade",
   "metadata": {},
   "outputs": [
    {
     "name": "stderr",
     "output_type": "stream",
     "text": [
      "C:\\Users\\syahidhalid\\Syahid_PC\\Anaconda\\Lib\\site-packages\\openpyxl\\worksheet\\header_footer.py:48: UserWarning: Cannot parse header or footer so it will be ignored\n",
      "  warn(\"\"\"Cannot parse header or footer so it will be ignored\"\"\")\n"
     ]
    }
   ],
   "source": [
    "#control + F + dropdown new to search bar to find and replace \n",
    "import pandas as pd\n",
    "import numpy as np\n",
    "import xlsxwriter\n",
    "\n",
    "#warnings.filterwarnings('ignore')\n",
    "pd.set_option(\"display.max_columns\", None) \n",
    "pd.set_option(\"display.max_colwidth\", 1000) #huruf dlm column\n",
    "pd.set_option(\"display.max_rows\", 100)\n",
    "pd.set_option(\"display.precision\", 2) #2 titik perpuluhan\n",
    "\n",
    "Location = r\"C:\\Users\\syahidhalid\\Syahid_PC\\Analytics - FAD\\00. Automation LDB\\Data Source\\202405\\Final\\Trade\"\n",
    "\n",
    "BG = \"BG Cont. Liab. MAY2024\"\n",
    "LC = \"LC Cont  Liab MAY2024\"\n",
    "\n",
    "BG1 = pd.read_excel(str(Location)+\"\\\\\"+str(BG)+\".xlsx\", sheet_name='MAY Active- 2024', header=2)\n",
    "\n",
    "LC1 = pd.read_excel(str(Location)+\"\\\\\"+str(LC)+\".xlsx\", sheet_name='LC MAY 2024', header=1) # skiprows = 2, nrows=18,  usecols= 'A:D'"
   ]
  },
  {
   "cell_type": "code",
   "execution_count": 15,
   "id": "f5c75cf8-4603-4db4-bfc8-8f9d55286ae5",
   "metadata": {
    "scrolled": true
   },
   "outputs": [
    {
     "name": "stderr",
     "output_type": "stream",
     "text": [
      "C:\\Users\\syahidhalid\\AppData\\Local\\Temp\\2\\ipykernel_13068\\3153459395.py:5: SettingWithCopyWarning: \n",
      "A value is trying to be set on a copy of a slice from a DataFrame.\n",
      "Try using .loc[row_indexer,col_indexer] = value instead\n",
      "\n",
      "See the caveats in the documentation: https://pandas.pydata.org/pandas-docs/stable/user_guide/indexing.html#returning-a-view-versus-a-copy\n",
      "  BG2['Exposure (RM)'] = BG2['Exposure (RM)'].astype(float)\n",
      "C:\\Users\\syahidhalid\\AppData\\Local\\Temp\\2\\ipykernel_13068\\3153459395.py:7: SettingWithCopyWarning: \n",
      "A value is trying to be set on a copy of a slice from a DataFrame.\n",
      "Try using .loc[row_indexer,col_indexer] = value instead\n",
      "\n",
      "See the caveats in the documentation: https://pandas.pydata.org/pandas-docs/stable/user_guide/indexing.html#returning-a-view-versus-a-copy\n",
      "  BG2.Borrower = BG2.Borrower.str.upper()\n",
      "C:\\Users\\syahidhalid\\AppData\\Local\\Temp\\2\\ipykernel_13068\\3153459395.py:9: SettingWithCopyWarning: \n",
      "A value is trying to be set on a copy of a slice from a DataFrame.\n",
      "Try using .loc[row_indexer,col_indexer] = value instead\n",
      "\n",
      "See the caveats in the documentation: https://pandas.pydata.org/pandas-docs/stable/user_guide/indexing.html#returning-a-view-versus-a-copy\n",
      "  BG2.loc[(BG2.Borrower.str.contains('BOUSTEAD')),'CIF Number'] = 'EXIM000491'\n",
      "C:\\Users\\syahidhalid\\AppData\\Local\\Temp\\2\\ipykernel_13068\\3153459395.py:19: SettingWithCopyWarning: \n",
      "A value is trying to be set on a copy of a slice from a DataFrame.\n",
      "Try using .loc[row_indexer,col_indexer] = value instead\n",
      "\n",
      "See the caveats in the documentation: https://pandas.pydata.org/pandas-docs/stable/user_guide/indexing.html#returning-a-view-versus-a-copy\n",
      "  BG2.loc[(BG2.Borrower.str.contains('BOUSTEAD')),'EXIM Account No.'] = '3308-02137-119-0330-00'\n",
      "C:\\Users\\syahidhalid\\AppData\\Local\\Temp\\2\\ipykernel_13068\\3153459395.py:30: SettingWithCopyWarning: \n",
      "A value is trying to be set on a copy of a slice from a DataFrame.\n",
      "Try using .loc[row_indexer,col_indexer] = value instead\n",
      "\n",
      "See the caveats in the documentation: https://pandas.pydata.org/pandas-docs/stable/user_guide/indexing.html#returning-a-view-versus-a-copy\n",
      "  BG2.loc[(BG2['C/I'].isin(['I'])),'Finance(SAP) Number'] = 'BG-i'\n",
      "C:\\Users\\syahidhalid\\AppData\\Local\\Temp\\2\\ipykernel_13068\\3153459395.py:45: SettingWithCopyWarning: \n",
      "A value is trying to be set on a copy of a slice from a DataFrame.\n",
      "Try using .loc[row_indexer,col_indexer] = value instead\n",
      "\n",
      "See the caveats in the documentation: https://pandas.pydata.org/pandas-docs/stable/user_guide/indexing.html#returning-a-view-versus-a-copy\n",
      "  LC2.loc[LC2.APPLICANT.str.contains('WSA VENTURE AUSTRALIA'),'EXIM Account No.'] = '3308-02137-122-0291-00'\n",
      "C:\\Users\\syahidhalid\\AppData\\Local\\Temp\\2\\ipykernel_13068\\3153459395.py:46: SettingWithCopyWarning: \n",
      "A value is trying to be set on a copy of a slice from a DataFrame.\n",
      "Try using .loc[row_indexer,col_indexer] = value instead\n",
      "\n",
      "See the caveats in the documentation: https://pandas.pydata.org/pandas-docs/stable/user_guide/indexing.html#returning-a-view-versus-a-copy\n",
      "  LC2.loc[LC2.APPLICANT.isin(['WSA VENTURE AUSTRALIA (M) SDN BHD (FAC 3)']),'CIF Number'] = 'EXIM000283'\n",
      "C:\\Users\\syahidhalid\\AppData\\Local\\Temp\\2\\ipykernel_13068\\3153459395.py:47: SettingWithCopyWarning: \n",
      "A value is trying to be set on a copy of a slice from a DataFrame.\n",
      "Try using .loc[row_indexer,col_indexer] = value instead\n",
      "\n",
      "See the caveats in the documentation: https://pandas.pydata.org/pandas-docs/stable/user_guide/indexing.html#returning-a-view-versus-a-copy\n",
      "  LC2.loc[LC2.APPLICANT.isin(['WSA VENTURE AUSTRALIA (M) SDN BHD (FAC 3)']),'Finance(SAP) Number'] = '501085'\n",
      "C:\\Users\\syahidhalid\\AppData\\Local\\Temp\\2\\ipykernel_13068\\3153459395.py:49: SettingWithCopyWarning: \n",
      "A value is trying to be set on a copy of a slice from a DataFrame.\n",
      "Try using .loc[row_indexer,col_indexer] = value instead\n",
      "\n",
      "See the caveats in the documentation: https://pandas.pydata.org/pandas-docs/stable/user_guide/indexing.html#returning-a-view-versus-a-copy\n",
      "  LC2['Type of Financing'] = 'I'\n"
     ]
    }
   ],
   "source": [
    "#=========================================BG==============================================\n",
    "\n",
    "BG2 = BG1.iloc[np.where(BG1['C/I'].isin(['C','I']))]\n",
    "\n",
    "BG2['Exposure (RM)'] = BG2['Exposure (RM)'].astype(float)\n",
    "\n",
    "BG2.Borrower = BG2.Borrower.str.upper()\n",
    "\n",
    "BG2.loc[(BG2.Borrower.str.contains('BOUSTEAD')),'CIF Number'] = 'EXIM000491'\n",
    "BG2.loc[(BG2.Borrower.str.contains('PERTAMA')),'CIF Number'] = 'EXIM000140'\n",
    "BG2.loc[(BG2.Borrower.str.contains('OM MATERIAL')),'CIF Number'] = 'EXIM000145'\n",
    "BG2.loc[(BG2.Borrower.str.contains('SMH RAIL')),'CIF Number'] = 'EXIM000210'\n",
    "BG2.loc[(BG2.Borrower.str.contains('DESTINI')),'CIF Number'] = 'EXIM000169'\n",
    "BG2.loc[(BG2.Borrower.str.contains('ASIA CARGO')),'CIF Number'] = 'EXIM000277'\n",
    "BG2.loc[(BG2.Borrower.str.contains('PRINSIPTEK')),'CIF Number'] = 'EXIM000110'\n",
    "BG2.loc[(BG2.Borrower.str.contains('URBAN PINNACLE')),'CIF Number'] = 'EXIM000563'\n",
    "BG2.loc[(BG2.Borrower.str.contains('PETROLIAM NASIONAL')),'CIF Number'] = 'EXIM000432'\n",
    "\n",
    "BG2.loc[(BG2.Borrower.str.contains('BOUSTEAD')),'EXIM Account No.'] = '3308-02137-119-0330-00'\n",
    "BG2.loc[(BG2.Borrower.str.contains('PERTAMA')),'EXIM Account No.'] = '3308-01137-216-0133-00'\n",
    "BG2.loc[(BG2.Borrower.str.contains('OM MATERIAL'))&(BG2.Currency==\"MYR\"),'EXIM Account No.'] = '3308-01137-216-0058-00'\n",
    "BG2.loc[(BG2.Borrower.str.contains('OM MATERIAL'))&(BG2.Currency==\"USD\"),'EXIM Account No.'] = '3308-02137-211-0088-00'\n",
    "BG2.loc[(BG2.Borrower.str.contains('SMH RAIL')),'EXIM Account No.'] = '3308-02137-216-0046-00' #&(BG2.Currency==\"USD\")\n",
    "BG2.loc[(BG2.Borrower.str.contains('DESTINI')),'EXIM Account No.'] = '3308-02137-117-0071-00'\n",
    "BG2.loc[(BG2.Borrower.str.contains('ASIA CARGO')),'EXIM Account No.'] = '3308-01137-117-0313-00'\n",
    "BG2.loc[(BG2.Borrower.str.contains('PRINSIPTEK')),'EXIM Account No.'] = '3308-02224-216-0032-00'\n",
    "BG2.loc[(BG2.Borrower.str.contains('URBAN PINNACLE')),'EXIM Account No.'] = '3308-01137-117-0325-00'\n",
    "BG2.loc[(BG2.Borrower.str.contains('PETROLIAM NASIONAL')),'EXIM Account No.'] = '212137862'\n",
    "\n",
    "BG2.loc[(BG2['C/I'].isin(['I'])),'Finance(SAP) Number'] = 'BG-i'\n",
    "BG2.loc[(BG2['C/I'].isin(['C'])),'Finance(SAP) Number'] = 'BG'\n",
    "BG2.loc[(BG2.Borrower.str.contains('OM MATERIAL'))&(BG2.Currency==\"USD\"),'Finance(SAP) Number'] = '500724'\n",
    "\n",
    "BG3 = BG2.fillna(0).groupby(['CIF Number','EXIM Account No.','Finance(SAP) Number','Borrower','Country','C/I','Currency'])[['Exposure (RM)']].sum().reset_index()\n",
    "#\n",
    "BG3.rename(columns={'Borrower':'Customer Name',\n",
    "                    'Country':'Country Exposure',\n",
    "                    'C/I':'Type of Financing',\n",
    "                    'Currency':'Facility Currency','Exposure (RM)':'Contingent Liability (MYR)'},inplace=True)\n",
    "\n",
    "#=========================================LC==============================================\n",
    "\n",
    "LC2 = LC1.iloc[np.where(LC1.TYPE==\"LC\")]\n",
    "\n",
    "LC2.loc[LC2.APPLICANT.str.contains('WSA VENTURE AUSTRALIA'),'EXIM Account No.'] = '3308-02137-122-0291-00'\n",
    "LC2.loc[LC2.APPLICANT.isin(['WSA VENTURE AUSTRALIA (M) SDN BHD (FAC 3)']),'CIF Number'] = 'EXIM000283'\n",
    "LC2.loc[LC2.APPLICANT.isin(['WSA VENTURE AUSTRALIA (M) SDN BHD (FAC 3)']),'Finance(SAP) Number'] = '501085'\n",
    "\n",
    "LC2['Type of Financing'] = 'I'\n",
    "\n",
    "LC3 = LC2.fillna(0).groupby(['CIF Number','EXIM Account No.','Finance(SAP) Number','APPLICANT',\n",
    "                             'COUNTRY','Type of Financing','CURR'])[['AMOUNT (RM)']].sum().reset_index().rename(columns={'APPLICANT':'Customer Name',\n",
    "'AMOUNT (RM)':'Contingent Liability Letter of Credit (MYR)',\n",
    "'CURR':'Facility Currency',\n",
    "'COUNTRY':'Country Exposure'}) #\n",
    "\n",
    "#'FOREIGN AMOUNT', \n",
    "#'FOREIGN AMOUNT':'Contingent Liability Letter of Credit (Facility Currency)',\n",
    "\n",
    "append = pd.concat([BG3,LC3]).fillna(0)\n"
   ]
  },
  {
   "cell_type": "code",
   "execution_count": 16,
   "id": "ea61063e-92fe-4507-808e-1c6a334f37ed",
   "metadata": {},
   "outputs": [
    {
     "data": {
      "text/plain": [
       "EXIM Account No.\n",
       "3308-02137-216-0046-00    4\n",
       "3308-02224-216-0032-00    1\n",
       "3308-01137-216-0133-00    1\n",
       "3308-01137-216-0058-00    1\n",
       "3308-02137-211-0088-00    1\n",
       "3308-02137-117-0071-00    1\n",
       "3308-01137-117-0313-00    1\n",
       "3308-02137-119-0330-00    1\n",
       "3308-01137-117-0325-00    1\n",
       "3308-02137-122-0291-00    1\n",
       "Name: count, dtype: int64"
      ]
     },
     "execution_count": 16,
     "metadata": {},
     "output_type": "execute_result"
    }
   ],
   "source": [
    "append['EXIM Account No.'].value_counts()"
   ]
  },
  {
   "cell_type": "code",
   "execution_count": 18,
   "id": "5854797d-3ce1-427d-b38d-71f0ec2bec1a",
   "metadata": {
    "scrolled": true
   },
   "outputs": [
    {
     "data": {
      "text/plain": [
       "154611458.3351113"
      ]
     },
     "execution_count": 18,
     "metadata": {},
     "output_type": "execute_result"
    }
   ],
   "source": [
    "sum(append['Contingent Liability (MYR)'])"
   ]
  },
  {
   "cell_type": "code",
   "execution_count": 19,
   "id": "c2b1611d-a521-4e42-b1ec-ace1804eb1ab",
   "metadata": {},
   "outputs": [],
   "source": [
    "writer2 = pd.ExcelWriter(str(Location)+'\\\\Contigent Liability '+str(LC[-7:])+' (python).xlsx',engine='xlsxwriter')\n",
    "\n",
    "append.to_excel(writer2, sheet_name='BG & LC', index = False)\n",
    "\n",
    "writer2._save()"
   ]
  },
  {
   "cell_type": "code",
   "execution_count": 95,
   "id": "3fd915ec-17c4-4f36-a663-c29e6518025d",
   "metadata": {},
   "outputs": [],
   "source": [
    "#LC3.shape"
   ]
  },
  {
   "cell_type": "code",
   "execution_count": 96,
   "id": "d9965383-e975-4b5b-bb52-8ae86c0fc5d2",
   "metadata": {},
   "outputs": [],
   "source": [
    "#BG3.shape"
   ]
  },
  {
   "cell_type": "code",
   "execution_count": 97,
   "id": "04515831-0385-4f33-83eb-5a8a9e59dc58",
   "metadata": {},
   "outputs": [],
   "source": [
    "#sum(BG3.iloc[np.where(BG3.Borrower=='OM Materials (Sarawak) Sdn Bhd')]['Exposure (RM)'])"
   ]
  },
  {
   "cell_type": "code",
   "execution_count": 98,
   "id": "a9a1c892-b73c-46f1-85fb-5649b65d3be5",
   "metadata": {},
   "outputs": [],
   "source": [
    "#append"
   ]
  },
  {
   "cell_type": "code",
   "execution_count": null,
   "id": "f35c53a1-0443-4ec7-a422-21e308fbca0a",
   "metadata": {},
   "outputs": [],
   "source": []
  }
 ],
 "metadata": {
  "kernelspec": {
   "display_name": "Python 3 (ipykernel)",
   "language": "python",
   "name": "python3"
  },
  "language_info": {
   "codemirror_mode": {
    "name": "ipython",
    "version": 3
   },
   "file_extension": ".py",
   "mimetype": "text/x-python",
   "name": "python",
   "nbconvert_exporter": "python",
   "pygments_lexer": "ipython3",
   "version": "3.11.7"
  }
 },
 "nbformat": 4,
 "nbformat_minor": 5
}
