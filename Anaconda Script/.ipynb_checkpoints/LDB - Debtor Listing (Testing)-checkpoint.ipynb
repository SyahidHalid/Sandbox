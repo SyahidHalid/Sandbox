{
 "cells": [
  {
   "cell_type": "code",
   "execution_count": 2,
   "id": "6dce835a-0983-4fab-bb96-741a6e8910dc",
   "metadata": {},
   "outputs": [
    {
     "data": {
      "text/plain": [
       "'May 2024'"
      ]
     },
     "execution_count": 2,
     "metadata": {},
     "output_type": "execute_result"
    }
   ],
   "source": [
    "Location = r\"C:\\Users\\syahidhalid\\Syahid_PC\\Analytics - FAD\\00. Automation LDB\\Data Source\\202405\\Finance\"\n",
    "File = \"Debtors Listing and Customer Balance Report as at May 2024\"\n",
    "\n",
    "str(File[-8:])"
   ]
  },
  {
   "cell_type": "code",
   "execution_count": 4,
   "id": "c7d2436a-92d3-4f4b-b03b-e2c97fa2af80",
   "metadata": {},
   "outputs": [
    {
     "data": {
      "text/plain": [
       "'2024'"
      ]
     },
     "execution_count": 4,
     "metadata": {},
     "output_type": "execute_result"
    }
   ],
   "source": [
    "str(File[-4:])"
   ]
  },
  {
   "cell_type": "code",
   "execution_count": 5,
   "id": "28661411-d123-4d39-8ac4-0953c3a0614d",
   "metadata": {},
   "outputs": [
    {
     "data": {
      "text/plain": [
       "'Balance_31stMay2024'"
      ]
     },
     "execution_count": 5,
     "metadata": {},
     "output_type": "execute_result"
    }
   ],
   "source": [
    "BalanceOS = \"Balance_31stMay2024\"\n",
    "BalanceOS"
   ]
  },
  {
   "cell_type": "code",
   "execution_count": null,
   "id": "e4c562de-4891-4dd1-8a17-9e98379cd6fb",
   "metadata": {},
   "outputs": [],
   "source": []
  },
  {
   "cell_type": "code",
   "execution_count": 13,
   "id": "30cf0729-b8f6-4d80-9973-731e6bffb397",
   "metadata": {},
   "outputs": [],
   "source": [
    "Location = r\"C:\\Users\\syahidhalid\\Syahid_PC\\Analytics - FAD\\00. Automation LDB\\Data Source\\202405\\Final\\Finance\"\n",
    "File = \"Debtors Listing and Customer Balance Report as at May 2024\"\n",
    "\n",
    "#control + F + dropdown new to search bar to find and replace \n",
    "import pandas as pd\n",
    "import numpy as np\n",
    "import xlsxwriter\n",
    "\n",
    "#warnings.filterwarnings('ignore')\n",
    "pd.set_option(\"display.max_columns\", None) \n",
    "pd.set_option(\"display.max_colwidth\", 1000) #huruf dlm column\n",
    "pd.set_option(\"display.max_rows\", 100)\n",
    "pd.set_option(\"display.precision\", 2) #2 titik perpuluhan\n",
    "\n",
    "Isl_Cost = pd.read_excel(str(Location)+\"\\\\\"+str(File)+\".xlsx\", sheet_name='Debtors Listing Islamic (Cost)', header=5) # skiprows = 2, nrows=18,  usecols= 'A:D'\n",
    "Isl_Profit = pd.read_excel(str(Location)+\"\\\\\"+str(File)+\".xlsx\", sheet_name='Debtors Listing Islamic (Profit', header=3) # skiprows = 2, nrows=18,  usecols= 'A:D'\n",
    "Mora = pd.read_excel(str(Location)+\"\\\\\"+str(File)+\".xlsx\", sheet_name='Modification MORA & R&R '+str(File[-8:-5])+str(File[-4:]), header=5) # skiprows = 2, nrows=18,  usecols= 'A:D'\n",
    "Conv = pd.read_excel(str(Location)+\"\\\\\"+str(File)+\".xlsx\", sheet_name='Debtors Listing Conv '+str(File[-8:]), header=2) # skiprows = 2, nrows=18,  usecols= 'A:D'\n",
    "Accrued = pd.read_excel(str(Location)+\"\\\\\"+str(File)+\".xlsx\", sheet_name='Accrued Interest '+str(File[-8:]), header=4) # skiprows = 2, nrows=18,  usecols= 'A:D'\n",
    "Others_conv = pd.read_excel(str(Location)+\"\\\\\"+str(File)+\".xlsx\", sheet_name='Other Debtors '+str(File[-8:]), header=4) # skiprows = 2, nrows=18,  usecols= 'A:D'\n",
    "Others_Isl = pd.read_excel(str(Location)+\"\\\\\"+str(File)+\".xlsx\", sheet_name='Other Debtors Islamic '+str(File[-8:]), header=4) # skiprows = 2, nrows=18,  usecols= 'A:D'\n",
    "\n",
    "IIS = pd.read_excel(str(Location)+\"\\\\\"+str(File)+\".xlsx\", sheet_name='IIS '+str(File[-8:]), header=4) # skiprows = 2, nrows=18,  usecols= 'A:D'\n",
    "PIS = pd.read_excel(str(Location)+\"\\\\\"+str(File)+\".xlsx\", sheet_name='PIS '+str(File[-8:]), header=4) # skiprows = 2, nrows=18,  usecols= 'A:D'\n"
   ]
  },
  {
   "cell_type": "code",
   "execution_count": 14,
   "id": "80c5a010-80a0-4465-be4d-41fd1061de8a",
   "metadata": {},
   "outputs": [],
   "source": [
    "MRate = pd.read_excel(r\"C:\\Users\\syahidhalid\\Syahid_PC\\Analytics - FAD\\00. Automation LDB\\Data Source\\202405\\\\Month End Rate.xlsx\", header=2) # skiprows = 2, nrows=18,  usecols= 'A:D'\n"
   ]
  },
  {
   "cell_type": "code",
   "execution_count": 16,
   "id": "e9d9438c-42ca-4cb2-b17d-8798368e6250",
   "metadata": {},
   "outputs": [],
   "source": [
    "LDB_prev = pd.read_excel(r\"C:\\Users\\syahidhalid\\Syahid_PC\\Analytics - SPD\\Loan Database\\LBD 202412 - 202401 (CSP Sector).xlsx\", sheet_name=\"Apr24\", header=0) # skiprows = 2, nrows=18,  usecols= 'A:D'\n"
   ]
  },
  {
   "cell_type": "code",
   "execution_count": 45,
   "id": "0b6b83ac-cc39-4d53-b0f3-3dc16c3fe1dd",
   "metadata": {},
   "outputs": [],
   "source": [
    "Contigent = pd.read_excel(r\"C:\\Users\\syahidhalid\\Syahid_PC\\Analytics - FAD\\00. Automation LDB\\Data Source\\202405\\Contigent Liability MAY2024 (python).xlsx\", header=0) # skiprows = 2, nrows=18,  usecols= 'A:D'\n"
   ]
  },
  {
   "cell_type": "code",
   "execution_count": null,
   "id": "c971a8b5-ef11-44f3-80ec-65b54febfc81",
   "metadata": {},
   "outputs": [],
   "source": [
    "#Isl_Cost\n",
    "#Isl_Profit\n",
    "#Mora\n",
    "#Conv\n",
    "#Accrued\n",
    "#Others_conv\n",
    "#Others_Isl"
   ]
  },
  {
   "cell_type": "code",
   "execution_count": 17,
   "id": "fb6c9401-1b4e-4b38-8da7-5fbdf7301f5e",
   "metadata": {
    "scrolled": true
   },
   "outputs": [
    {
     "name": "stderr",
     "output_type": "stream",
     "text": [
      "C:\\Users\\syahidhalid\\AppData\\Local\\Temp\\2\\ipykernel_4008\\3890797868.py:9: SettingWithCopyWarning: \n",
      "A value is trying to be set on a copy of a slice from a DataFrame.\n",
      "Try using .loc[row_indexer,col_indexer] = value instead\n",
      "\n",
      "See the caveats in the documentation: https://pandas.pydata.org/pandas-docs/stable/user_guide/indexing.html#returning-a-view-versus-a-copy\n",
      "  Isl_Cost1.Customer_Account = Isl_Cost1.Customer_Account.astype(int)\n",
      "C:\\Users\\syahidhalid\\AppData\\Local\\Temp\\2\\ipykernel_4008\\3890797868.py:10: SettingWithCopyWarning: \n",
      "A value is trying to be set on a copy of a slice from a DataFrame.\n",
      "Try using .loc[row_indexer,col_indexer] = value instead\n",
      "\n",
      "See the caveats in the documentation: https://pandas.pydata.org/pandas-docs/stable/user_guide/indexing.html#returning-a-view-versus-a-copy\n",
      "  Isl_Cost1.Disbursement = Isl_Cost1.Disbursement.astype(float)\n",
      "C:\\Users\\syahidhalid\\AppData\\Local\\Temp\\2\\ipykernel_4008\\3890797868.py:11: SettingWithCopyWarning: \n",
      "A value is trying to be set on a copy of a slice from a DataFrame.\n",
      "Try using .loc[row_indexer,col_indexer] = value instead\n",
      "\n",
      "See the caveats in the documentation: https://pandas.pydata.org/pandas-docs/stable/user_guide/indexing.html#returning-a-view-versus-a-copy\n",
      "  Isl_Cost1.Cost_Payment = Isl_Cost1.Cost_Payment.astype(float)\n",
      "C:\\Users\\syahidhalid\\AppData\\Local\\Temp\\2\\ipykernel_4008\\3890797868.py:12: SettingWithCopyWarning: \n",
      "A value is trying to be set on a copy of a slice from a DataFrame.\n",
      "Try using .loc[row_indexer,col_indexer] = value instead\n",
      "\n",
      "See the caveats in the documentation: https://pandas.pydata.org/pandas-docs/stable/user_guide/indexing.html#returning-a-view-versus-a-copy\n",
      "  Isl_Cost1[BalanceOS] = Isl_Cost1[BalanceOS].astype(float)\n"
     ]
    }
   ],
   "source": [
    "#-------------------------------------------------------------islamic----------------------------------------------------------\n",
    "\n",
    "#Debtors Listing Islamic (Cost)\n",
    "Isl_Cost1 = Isl_Cost.iloc[np.where(~Isl_Cost['Customer\\nAccount'].isna())]\n",
    "\n",
    "Isl_Cost1.columns = Isl_Cost1.columns.str.replace(\"\\n\", \"_\")\n",
    "Isl_Cost1.columns = Isl_Cost1.columns.str.replace(\" \", \"\")\n",
    "\n",
    "Isl_Cost1.Customer_Account = Isl_Cost1.Customer_Account.astype(int)\n",
    "Isl_Cost1.Disbursement = Isl_Cost1.Disbursement.astype(float)\n",
    "Isl_Cost1.Cost_Payment = Isl_Cost1.Cost_Payment.astype(float)\n",
    "Isl_Cost1[BalanceOS] = Isl_Cost1[BalanceOS].astype(float)\n",
    "\n",
    "Isl_Cost2 = Isl_Cost1.fillna(0).groupby(['Company','Customer_Account'\\\n",
    ",'Currency'])[['Disbursement'\\\n",
    ",'Cost_Payment',BalanceOS]].sum().reset_index()\n",
    "\n",
    "Isl_Cost2 = Isl_Cost2.rename(columns={BalanceOS: 'Principal'}).fillna(0).sort_values(by=['Principal'],ascending=[True])\n",
    "#Isl_Cost2['Sheet'] = 'Debtors Listing Islamic (Cost)'\n",
    "Isl_Cost2['Financing_Type'] = 'Islamic'"
   ]
  },
  {
   "cell_type": "code",
   "execution_count": 18,
   "id": "41bb08a8-7240-4bfd-8e65-cbe6a61ca57a",
   "metadata": {
    "scrolled": true
   },
   "outputs": [
    {
     "name": "stderr",
     "output_type": "stream",
     "text": [
      "C:\\Users\\syahidhalid\\AppData\\Local\\Temp\\2\\ipykernel_4008\\962103231.py:7: SettingWithCopyWarning: \n",
      "A value is trying to be set on a copy of a slice from a DataFrame.\n",
      "Try using .loc[row_indexer,col_indexer] = value instead\n",
      "\n",
      "See the caveats in the documentation: https://pandas.pydata.org/pandas-docs/stable/user_guide/indexing.html#returning-a-view-versus-a-copy\n",
      "  Isl_Profit1.Customer_Account = Isl_Profit1.Customer_Account.astype(int)\n",
      "C:\\Users\\syahidhalid\\AppData\\Local\\Temp\\2\\ipykernel_4008\\962103231.py:8: SettingWithCopyWarning: \n",
      "A value is trying to be set on a copy of a slice from a DataFrame.\n",
      "Try using .loc[row_indexer,col_indexer] = value instead\n",
      "\n",
      "See the caveats in the documentation: https://pandas.pydata.org/pandas-docs/stable/user_guide/indexing.html#returning-a-view-versus-a-copy\n",
      "  Isl_Profit1.Unearned_Profit = Isl_Profit1.Unearned_Profit.astype(float)\n",
      "C:\\Users\\syahidhalid\\AppData\\Local\\Temp\\2\\ipykernel_4008\\962103231.py:9: SettingWithCopyWarning: \n",
      "A value is trying to be set on a copy of a slice from a DataFrame.\n",
      "Try using .loc[row_indexer,col_indexer] = value instead\n",
      "\n",
      "See the caveats in the documentation: https://pandas.pydata.org/pandas-docs/stable/user_guide/indexing.html#returning-a-view-versus-a-copy\n",
      "  Isl_Profit1.Profit_Payment = Isl_Profit1.Profit_Payment.astype(float)\n",
      "C:\\Users\\syahidhalid\\AppData\\Local\\Temp\\2\\ipykernel_4008\\962103231.py:10: SettingWithCopyWarning: \n",
      "A value is trying to be set on a copy of a slice from a DataFrame.\n",
      "Try using .loc[row_indexer,col_indexer] = value instead\n",
      "\n",
      "See the caveats in the documentation: https://pandas.pydata.org/pandas-docs/stable/user_guide/indexing.html#returning-a-view-versus-a-copy\n",
      "  Isl_Profit1[BalanceOS] = Isl_Profit1[BalanceOS].astype(float)\n"
     ]
    }
   ],
   "source": [
    "#Debtors Listing Islamic (Profit)\n",
    "Isl_Profit1 = Isl_Profit.iloc[np.where(~Isl_Profit['Customer\\nAccount'].isna())]\n",
    "\n",
    "Isl_Profit1.columns = Isl_Profit1.columns.str.replace(\"\\n\", \"_\")\n",
    "Isl_Profit1.columns = Isl_Profit1.columns.str.replace(\" \", \"\")\n",
    "\n",
    "Isl_Profit1.Customer_Account = Isl_Profit1.Customer_Account.astype(int)\n",
    "Isl_Profit1.Unearned_Profit = Isl_Profit1.Unearned_Profit.astype(float)\n",
    "Isl_Profit1.Profit_Payment = Isl_Profit1.Profit_Payment.astype(float)\n",
    "Isl_Profit1[BalanceOS] = Isl_Profit1[BalanceOS].astype(float)\n",
    "\n",
    "Isl_Profit2 = Isl_Profit1.fillna(0).groupby(['Company','Customer_Account'\\\n",
    ",'Currency'])[['Unearned_Profit','Rental(Ijarah)','Profit_Payment',BalanceOS]].sum().reset_index()\n",
    "\n",
    "Isl_Profit2 = Isl_Profit2.rename(columns={BalanceOS: 'Interest'}).fillna(0).sort_values(by=['Interest'],ascending=[True])\n",
    "#Isl_Profit2['Sheet'] = 'Debtors Listing Islamic (Profit)'\n",
    "Isl_Profit2['Financing_Type'] = 'Islamic'"
   ]
  },
  {
   "cell_type": "code",
   "execution_count": null,
   "id": "a09fae1a-d137-4066-9079-3bbfc8e9a798",
   "metadata": {},
   "outputs": [],
   "source": []
  },
  {
   "cell_type": "code",
   "execution_count": 19,
   "id": "8189b979-a583-44ee-9611-27b301022a86",
   "metadata": {},
   "outputs": [],
   "source": [
    "#Combine Islamic Cost+Profit\n",
    "A001 = Isl_Cost2.merge(Isl_Profit2,on=['Customer_Account','Company','Currency','Financing_Type'],how='outer',indicator=True)\n",
    "\n",
    "A001 = A001.drop(columns=['_merge'])\n",
    "\n",
    "A002 = A001.fillna(0).groupby(['Customer_Account'\\\n",
    ",'Currency','Financing_Type'])[['Disbursement'\\\n",
    ",'Cost_Payment','Principal','Unearned_Profit','Rental(Ijarah)','Profit_Payment','Interest']].sum().reset_index()\n",
    "\n",
    "NamaCompany = A001[['Company','Customer_Account']].drop_duplicates('Customer_Account', keep='first')\n",
    "A003 = A002.merge(NamaCompany,on='Customer_Account',how='left')"
   ]
  },
  {
   "cell_type": "code",
   "execution_count": 20,
   "id": "c6291a69-1b72-495e-8b4d-17c9b388448f",
   "metadata": {
    "scrolled": true
   },
   "outputs": [],
   "source": [
    "#Modification MORA & R&R Apr2024\n",
    "Mora1 = Mora.fillna(0).rename(columns={'Borrower code': 'Customer_Account',\n",
    "                            'Borrower':'Company',\n",
    "                            'Modification impact (RM)':'Mora',\n",
    "                            'Islamic/ conventional':'Financing_Type'}).iloc[np.where((~Mora['Borrower code'].isna())&(Mora['Borrower code']!='Borrower code'))]\n",
    "\n",
    "Mora1.columns = Mora1.columns.str.replace(\"\\n\", \"_\")\n",
    "Mora1.columns = Mora1.columns.str.replace(\" \", \"\")\n",
    "\n",
    "Mora1.Customer_Account = Mora1.Customer_Account.astype(int)\n",
    "Mora1.Mora = Mora1.Mora.astype(float)\n",
    "\n",
    "Mora1.loc[Mora1.Currency.isin(['RM']),'Currency'] = 'MYR'\n",
    "\n",
    "A004 = A003.merge(Mora1[['Customer_Account','Company','Currency','Financing_Type','SLOacceptancedate','Mora']],on=['Customer_Account','Company','Currency','Financing_Type'],how='outer',indicator=True)\n",
    "\n",
    "NamaMora = A004[['Company','Customer_Account']].drop_duplicates('Customer_Account', keep='first')\n",
    "A004 = A004.drop(['Company','_merge'],axis=1).merge(NamaMora,on='Customer_Account',how='left')\n",
    "\n",
    "A004 = A004.fillna(0).groupby(['Customer_Account'\\\n",
    ",'Currency','Financing_Type','Company'])[['Disbursement'\\\n",
    ",'Cost_Payment','Principal','Unearned_Profit','Rental(Ijarah)','Profit_Payment','Interest','Mora']].sum().reset_index()"
   ]
  },
  {
   "cell_type": "code",
   "execution_count": 21,
   "id": "5d43e68d-247c-4dad-8084-83fe7422ce05",
   "metadata": {},
   "outputs": [],
   "source": [
    "#Other Debtors Islamic Apr2024\n",
    "Others_Isl1 = Others_Isl.iloc[np.where(~Others_Isl.Customer.isna())].fillna(0)\n",
    "\n",
    "Others_Isl1.columns = Others_Isl1.columns.str.replace(\"\\n\", \"_\")\n",
    "Others_Isl1.columns = Others_Isl1.columns.str.replace(\" \", \"\")\n",
    "\n",
    "Others_Isl1.rename(columns={'Customer': 'Customer_Account',\n",
    "                            'SearchTerm':'Company',\n",
    "                            'Crcy':'Currency',\n",
    "                            'Accumulatedbalance':'Other_Charges'},inplace=True)\n",
    "\n",
    "Others_Isl1.Customer_Account = Others_Isl1.Customer_Account.astype(int)\n",
    "Others_Isl1.Other_Charges = Others_Isl1.Other_Charges.astype(float)\n",
    "\n",
    "Others_Isl1 = Others_Isl1.fillna(0).groupby(['Company','Customer_Account'])[['Other_Charges']].sum().reset_index()\n",
    "\n",
    "Others_Isl1['Financing_Type'] = 'Islamic'\n",
    "\n",
    "A005 = A004.merge(Others_Isl1,on=['Customer_Account','Company','Financing_Type'],how='outer',indicator=True)\n",
    "\n",
    "NamaOther = A005[['Company','Customer_Account','Currency']].drop_duplicates('Customer_Account', keep='first')\n",
    "A005 = A005.drop(['Company','Currency','_merge'],axis=1).merge(NamaOther,on='Customer_Account',how='left')\n",
    "\n",
    "A005 = A005.fillna(0).groupby(['Customer_Account'\\\n",
    ",'Currency','Financing_Type','Company'])[['Disbursement'\\\n",
    ",'Cost_Payment','Principal','Unearned_Profit','Rental(Ijarah)','Profit_Payment','Interest','Mora','Other_Charges']].sum().reset_index()\n"
   ]
  },
  {
   "cell_type": "code",
   "execution_count": 22,
   "id": "3b36fe8e-b616-4f5f-a39b-399443f90303",
   "metadata": {},
   "outputs": [],
   "source": [
    "#PIS\n",
    "PIS1 = PIS.iloc[np.where(~PIS.Customer.isna())].fillna(0)\n",
    "\n",
    "PIS1.columns = PIS1.columns.str.replace(\"\\n\", \"_\")\n",
    "PIS1.columns = PIS1.columns.str.replace(\" \", \"\")\n",
    "\n",
    "PIS1.rename(columns={'Customer': 'Customer_Account',\n",
    "                            'SearchTerm':'Company',\n",
    "                            'Crcy':'Currency',\n",
    "                            'Accumulatedbalance':'Interest_in_Suspense'},inplace=True)\n",
    "\n",
    "PIS1.Customer_Account = PIS1.Customer_Account.astype(int)\n",
    "PIS1.Interest_in_Suspense = PIS1.Interest_in_Suspense.astype(float)\n",
    "\n",
    "PIS1 = PIS1.fillna(0).groupby(['Company','Customer_Account'])[['Interest_in_Suspense']].sum().reset_index()\n",
    "\n",
    "PIS1['Financing_Type'] = 'Islamic'\n",
    "\n",
    "A006 = A005.merge(PIS1,on=['Customer_Account','Company','Financing_Type'],how='outer',indicator=True)\n",
    "\n",
    "NamaPIS = A006[['Company','Customer_Account','Currency']].drop_duplicates('Customer_Account', keep='first')\n",
    "A006 = A006.drop(['Company','Currency','_merge'],axis=1).merge(NamaPIS,on='Customer_Account',how='left')\n",
    "\n",
    "A006 = A006.fillna(0).groupby(['Customer_Account'\\\n",
    ",'Currency','Financing_Type','Company'])[['Disbursement'\\\n",
    ",'Cost_Payment','Principal','Unearned_Profit','Rental(Ijarah)','Profit_Payment','Interest','Mora','Other_Charges','Interest_in_Suspense']].sum().reset_index()\n"
   ]
  },
  {
   "cell_type": "code",
   "execution_count": 23,
   "id": "bef5b964-542f-4aec-a7db-604c2c5debeb",
   "metadata": {},
   "outputs": [],
   "source": [
    "#-------------------------------------------------conv--------------------------------------------------\n",
    "\n",
    "#Debtors Listing Conv Apr 2024\n",
    "Conv1 = Conv.iloc[np.where(~Conv['Customer Account Number'].isna())]\n",
    "\n",
    "Conv1.columns = Conv1.columns.str.replace(\"\\n\", \"_\")\n",
    "Conv1.columns = Conv1.columns.str.replace(\" \", \"\")\n",
    "\n",
    "Conv1 = Conv1.rename(columns={'CustomerAccountNumber': 'Customer_Account',\n",
    "                            'CustomerName':'Company',\n",
    "                            'LoanCurrency':'Currency',\n",
    "                            'ClosingPrincipal':'Principal'}).fillna(0)\n",
    "\n",
    "Conv1.Customer_Account = Conv1.Customer_Account.astype(int)\n",
    "Conv1.Principal = Conv1.Principal.astype(float)\n",
    "\n",
    "#[['Customer_Account','Company','Currency','Disbursement','Repayment','Principal']]\n",
    "\n",
    "Conv1 = Conv1.fillna(0).groupby(['Company','Customer_Account'\\\n",
    ",'Currency'])[['Disbursement'\\\n",
    ",'Repayment','Principal']].sum().reset_index()\n",
    "\n",
    "Conv1['Financing_Type'] = 'Conventional'"
   ]
  },
  {
   "cell_type": "code",
   "execution_count": 24,
   "id": "3dffceac-8756-4c08-9a4e-0fb27ab01f7c",
   "metadata": {},
   "outputs": [],
   "source": [
    "#Accrued Interest Apr2024\n",
    "Accrued1 = Accrued.iloc[np.where(~Accrued.Customer.isna())].fillna(0)\n",
    "\n",
    "Accrued1.columns = Accrued1.columns.str.replace(\"\\n\", \"_\")\n",
    "Accrued1.columns = Accrued1.columns.str.replace(\" \", \"\")\n",
    "\n",
    "Accrued1.rename(columns={'Customer': 'Customer_Account',\n",
    "                            'SearchTerm':'Company',\n",
    "                            'Crcy':'Currency',\n",
    "                            'Accumulatedbalance':'Interest',\n",
    "                            'Debitrept.period':'Interest_For_the_Month'},inplace=True)\n",
    "\n",
    "Accrued1.Customer_Account = Accrued1.Customer_Account.astype(int)\n",
    "Accrued1.Interest = Accrued1.Interest.astype(float)\n",
    "Accrued1.Interest_For_the_Month = Accrued1.Interest_For_the_Month.astype(float)\n",
    "\n",
    "Accrued1.loc[(Accrued1['SGLInd.'].isin(['X'])),'Interest_For_the_Month'] = Accrued1.Interest_For_the_Month\n",
    "Accrued1.loc[(~Accrued1['SGLInd.'].isin(['X'])),'Interest_For_the_Month'] = 0\n",
    "\n",
    "Accrued1 = Accrued1.fillna(0).groupby(['Company','Customer_Account'])[['Interest_For_the_Month','Interest']].sum().reset_index()\n",
    "\n",
    "Accrued1['Financing_Type'] = 'Conventional'"
   ]
  },
  {
   "cell_type": "code",
   "execution_count": 25,
   "id": "1e800f94-a731-4c7e-9e5d-480a9bfd0ed1",
   "metadata": {},
   "outputs": [],
   "source": [
    "#Combine Conv Principal+Accrued\n",
    "C001 = Conv1.merge(Accrued1,on=['Customer_Account','Company','Financing_Type'],how='outer',indicator=True)\n",
    "\n",
    "NamaConv = C001[['Company','Customer_Account','Currency']].drop_duplicates('Customer_Account', keep='first')\n",
    "C002 = C001.drop(['Company','Currency','_merge'],axis=1).merge(NamaConv,on='Customer_Account',how='left')\n",
    "\n",
    "C002 = C002.fillna(0).groupby(['Customer_Account'\\\n",
    ",'Currency','Financing_Type','Company'])[['Disbursement'\\\n",
    ",'Repayment','Principal','Interest_For_the_Month','Interest']].sum().reset_index()"
   ]
  },
  {
   "cell_type": "code",
   "execution_count": 26,
   "id": "24899d72-8d6f-497b-a629-6ea9c17f6d42",
   "metadata": {},
   "outputs": [],
   "source": [
    "#Other Debtors Apr2024\n",
    "Others_conv1 = Others_conv.iloc[np.where(~Others_conv.Customer.isna())].fillna(0)\n",
    "\n",
    "Others_conv1.columns = Others_conv1.columns.str.replace(\"\\n\", \"_\")\n",
    "Others_conv1.columns = Others_conv1.columns.str.replace(\" \", \"\")\n",
    "\n",
    "Others_conv1.rename(columns={'Customer': 'Customer_Account',\n",
    "                            'SearchTerm':'Company',\n",
    "                            'Crcy':'Currency',\n",
    "                            'Accumulatedbalance':'Other_Charges'},inplace=True)\n",
    "\n",
    "Others_conv1.Customer_Account = Others_conv1.Customer_Account.astype(int)\n",
    "Others_conv1.Other_Charges = Others_conv1.Other_Charges.astype(float)\n",
    "\n",
    "Others_conv1 = Others_conv1.fillna(0).groupby(['Company','Customer_Account'])[['Other_Charges']].sum().reset_index()\n",
    "\n",
    "Others_conv1['Financing_Type'] = 'Conventional'\n",
    "\n",
    "C003 = C002.merge(Others_conv1,on=['Customer_Account','Company','Financing_Type'],how='outer',indicator=True)\n",
    "\n",
    "NamaOtherConv = C003[['Company','Customer_Account','Currency']].drop_duplicates('Customer_Account', keep='first')\n",
    "C004 = C003.drop(['Company','Currency','_merge'],axis=1).merge(NamaOtherConv,on='Customer_Account',how='left')\n",
    "\n",
    "C004 = C004.fillna(0).groupby(['Customer_Account'\\\n",
    ",'Currency','Financing_Type','Company'])[['Disbursement'\\\n",
    ",'Repayment','Principal','Interest_For_the_Month','Interest','Other_Charges']].sum().reset_index()\n"
   ]
  },
  {
   "cell_type": "code",
   "execution_count": 27,
   "id": "e6713523-982e-4d9a-83cf-5a78dbd6b487",
   "metadata": {},
   "outputs": [],
   "source": [
    "#IIS\n",
    "IIS1 = IIS.iloc[np.where(~IIS.Customer.isna())].fillna(0)\n",
    "\n",
    "IIS1.columns = IIS1.columns.str.replace(\"\\n\", \"_\")\n",
    "IIS1.columns = IIS1.columns.str.replace(\" \", \"\")\n",
    "\n",
    "IIS1.rename(columns={'Customer': 'Customer_Account',\n",
    "                            'SearchTerm':'Company',\n",
    "                            'Crcy':'Currency',\n",
    "                            'Accumulatedbalance':'Interest_in_Suspense'},inplace=True)\n",
    "\n",
    "IIS1.Customer_Account = IIS1.Customer_Account.astype(int)\n",
    "IIS1.Interest_in_Suspense = IIS1.Interest_in_Suspense.astype(float)\n",
    "\n",
    "IIS1 = IIS1.fillna(0).groupby(['Company','Customer_Account'])[['Interest_in_Suspense']].sum().reset_index()\n",
    "\n",
    "IIS1['Financing_Type'] = 'Conventional'\n",
    "\n",
    "C005 = C004.merge(IIS1,on=['Customer_Account','Company','Financing_Type'],how='outer', indicator=True)\n",
    "\n",
    "NamaIIS = C005[['Company','Customer_Account','Currency']].drop_duplicates('Customer_Account', keep='first')\n",
    "C005 = C005.drop(['Company','Currency','_merge'],axis=1).merge(NamaIIS,on='Customer_Account',how='left')\n",
    "\n",
    "C005 = C005.fillna(0).groupby(['Customer_Account'\\\n",
    ",'Currency','Financing_Type','Company'])[['Disbursement'\\\n",
    ",'Repayment','Principal','Interest_For_the_Month','Interest','Other_Charges','Interest_in_Suspense']].sum().reset_index()"
   ]
  },
  {
   "cell_type": "code",
   "execution_count": null,
   "id": "39a22678-b30d-46b6-a423-ed14c7724ad0",
   "metadata": {},
   "outputs": [],
   "source": []
  },
  {
   "cell_type": "code",
   "execution_count": null,
   "id": "9616dbb0-8615-4751-a305-f3d0aa7c5d61",
   "metadata": {},
   "outputs": [],
   "source": []
  },
  {
   "cell_type": "code",
   "execution_count": 28,
   "id": "e9d2477e-31f8-4b0f-a82f-009f7536e900",
   "metadata": {
    "scrolled": true
   },
   "outputs": [],
   "source": [
    "#-------------------------------------------------combine-------------------------------------------------\n",
    "\n",
    "C005['Cost_Payment'] = 0\n",
    "C005['Unearned_Profit'] = C005['Interest_For_the_Month']\n",
    "C005['Profit_Payment'] = 0\n",
    "C005['Mora'] = 0\n",
    "C005['Rental(Ijarah)'] = 0\n",
    "\n",
    "C006 = C005[['Customer_Account','Currency','Financing_Type','Company','Disbursement','Repayment','Cost_Payment',\n",
    "             'Principal','Unearned_Profit','Rental(Ijarah)','Profit_Payment','Interest','Mora','Other_Charges',\n",
    "             'Interest_in_Suspense']]\n",
    "\n",
    "A006['Repayment'] = 0\n",
    "\n",
    "A007 = A006[['Customer_Account','Currency','Financing_Type','Company','Disbursement','Repayment','Cost_Payment',\n",
    "             'Principal','Unearned_Profit','Rental(Ijarah)','Profit_Payment','Interest','Mora','Other_Charges',\n",
    "             'Interest_in_Suspense']]\n",
    "\n",
    "#Isl_Cost1.columns = Isl_Profit1.columns = Mora1.columns = Conv1.columns\n",
    "#appendR = pd.concat([Isl_Cost1,Isl_Profit1,Mora1,Conv1] )\n",
    "\n",
    "C006.columns = A007.columns\n",
    "appendR = pd.concat([C006,A007])\n",
    "\n",
    "NamaappendR = appendR[['Company','Customer_Account']].drop_duplicates('Customer_Account', keep='first')\n",
    "appendR = appendR.drop(['Company'],axis=1).merge(NamaappendR,on='Customer_Account',how='left')\n",
    "\n",
    "appendfinal = appendR.fillna(0).groupby(['Customer_Account'\\\n",
    ",'Currency','Financing_Type','Company'])[['Disbursement'\\\n",
    ",'Repayment','Cost_Payment','Principal','Unearned_Profit','Rental(Ijarah)','Profit_Payment','Interest','Mora','Other_Charges','Interest_in_Suspense']].sum().reset_index()\n",
    "\n",
    "appendfinal['Total Loans Outstanding (MYR)'] = appendfinal['Principal'] + appendfinal['Interest'] + appendfinal['Mora'] + appendfinal['Other_Charges']\n"
   ]
  },
  {
   "cell_type": "code",
   "execution_count": 29,
   "id": "94d5168d-3482-44e7-b600-6fe9bf770337",
   "metadata": {},
   "outputs": [],
   "source": [
    "appendfinal['Cost Payment/Principal Repayment (MYR)'] = (-1*appendfinal['Repayment']) + appendfinal['Cost_Payment']\n",
    "appendfinal['Accrued Profit/Interest of the month (MYR)'] = appendfinal['Unearned_Profit'] + appendfinal['Rental(Ijarah)'] #+ profit for the month\n",
    "\n",
    "appendfinal.rename(columns={'Customer_Account':'Finance(SAP) Number',\n",
    "                           'Currency':'Facility Currency',\n",
    "                           'Financing_Type':'Type of Financing',\n",
    "                            \"Company\":\"Customer Name\",\n",
    "                            \"Disbursement\":\"Disbursement/Drawdown (MYR)\",\n",
    "                           'Principal':'Cost/Principal Outstanding (MYR)',\n",
    "                           'Profit_Payment':\"Profit Payment/Interest Repayment (MYR)\",\n",
    "                           'Interest':'Cumulative Accrued Profit/Interest (MYR)',\n",
    "                           'Mora':'Modification of Loss (MYR)',\n",
    "                           'Other_Charges':'Other Charges (MYR)',\n",
    "                           'Interest_in_Suspense':'Income/Interest in Suspense (MYR)'}, inplace=True)\n",
    "\n",
    "appendfinal.drop(columns=['Repayment','Cost_Payment','Unearned_Profit','Rental(Ijarah)'], axis=1, inplace=True)\n",
    "\n",
    "                           #\"Repayment\":\"1. Cost Payment/Principal Repayment (MYR)\",\n",
    "                           #\"Cost_Payment\":'2. Cost Payment/Principal Repayment (MYR)',\n",
    "\n",
    "\n",
    "                           #'Unearned_Profit':'Accrued Profit/Interest of the month (MYR)',\n",
    "                           #'Rental(Ijarah)':'Ijarah',"
   ]
  },
  {
   "cell_type": "code",
   "execution_count": 85,
   "id": "d9aef5c8-2526-44c0-9180-4920802b61de",
   "metadata": {},
   "outputs": [],
   "source": [
    "#-------------------------------------------------Contigent-------------------------------------------------\n",
    "\n",
    "Contigent1 = Contigent.fillna(0).groupby(['CIF Number','EXIM Account No.','Finance(SAP) Number',\\\n",
    "                                          'Customer Name','Type of Financing'])[['Contingent Liability (MYR)','Contingent Liability Letter of Credit (MYR)']].sum().reset_index()\n",
    "\n",
    "appendfinal_conti = appendfinal.merge(LDB_prev1[['CIF Number','Finance(SAP) Number']].drop_duplicates(),on=['Finance(SAP) Number'],how='left',suffixes=('', '_LDB'),indicator=True)\n",
    "\n"
   ]
  },
  {
   "cell_type": "code",
   "execution_count": 91,
   "id": "29f18567-3471-4904-a925-f21b71cd49ee",
   "metadata": {},
   "outputs": [
    {
     "data": {
      "text/plain": [
       "(259, 16)"
      ]
     },
     "execution_count": 91,
     "metadata": {},
     "output_type": "execute_result"
    }
   ],
   "source": [
    "appendfinal_conti.shape"
   ]
  },
  {
   "cell_type": "code",
   "execution_count": 90,
   "id": "97ce52c6-01a4-4f3a-a76d-8094b68fba05",
   "metadata": {
    "scrolled": true
   },
   "outputs": [
    {
     "data": {
      "text/plain": [
       "(259, 14)"
      ]
     },
     "execution_count": 90,
     "metadata": {},
     "output_type": "execute_result"
    }
   ],
   "source": [
    "appendfinal.shape"
   ]
  },
  {
   "cell_type": "code",
   "execution_count": 94,
   "id": "4f498549-088a-470d-b17b-a9d277ad1743",
   "metadata": {},
   "outputs": [
    {
     "data": {
      "text/html": [
       "<div>\n",
       "<style scoped>\n",
       "    .dataframe tbody tr th:only-of-type {\n",
       "        vertical-align: middle;\n",
       "    }\n",
       "\n",
       "    .dataframe tbody tr th {\n",
       "        vertical-align: top;\n",
       "    }\n",
       "\n",
       "    .dataframe thead th {\n",
       "        text-align: right;\n",
       "    }\n",
       "</style>\n",
       "<table border=\"1\" class=\"dataframe\">\n",
       "  <thead>\n",
       "    <tr style=\"text-align: right;\">\n",
       "      <th></th>\n",
       "      <th>Finance(SAP) Number</th>\n",
       "      <th>Facility Currency</th>\n",
       "      <th>Type of Financing</th>\n",
       "      <th>Customer Name</th>\n",
       "      <th>Disbursement/Drawdown (MYR)</th>\n",
       "      <th>Cost/Principal Outstanding (MYR)</th>\n",
       "      <th>Profit Payment/Interest Repayment (MYR)</th>\n",
       "      <th>Cumulative Accrued Profit/Interest (MYR)</th>\n",
       "      <th>Modification of Loss (MYR)</th>\n",
       "      <th>Other Charges (MYR)</th>\n",
       "      <th>Income/Interest in Suspense (MYR)</th>\n",
       "      <th>Total Loans Outstanding (MYR)</th>\n",
       "      <th>Cost Payment/Principal Repayment (MYR)</th>\n",
       "      <th>Accrued Profit/Interest of the month (MYR)</th>\n",
       "      <th>CIF Number</th>\n",
       "      <th>_merge</th>\n",
       "    </tr>\n",
       "  </thead>\n",
       "  <tbody>\n",
       "    <tr>\n",
       "      <th>11</th>\n",
       "      <td>500528</td>\n",
       "      <td>USD</td>\n",
       "      <td>Islamic</td>\n",
       "      <td>Ramill Tech (M) Sdn Bhd</td>\n",
       "      <td>0.0</td>\n",
       "      <td>-3.67e-09</td>\n",
       "      <td>0.0</td>\n",
       "      <td>-3.67e-09</td>\n",
       "      <td>0.0</td>\n",
       "      <td>0.0</td>\n",
       "      <td>0.0</td>\n",
       "      <td>-7.34e-09</td>\n",
       "      <td>0.0</td>\n",
       "      <td>0.0</td>\n",
       "      <td>NaN</td>\n",
       "      <td>left_only</td>\n",
       "    </tr>\n",
       "    <tr>\n",
       "      <th>13</th>\n",
       "      <td>500530</td>\n",
       "      <td>MYR</td>\n",
       "      <td>Islamic</td>\n",
       "      <td>Sunlight Forest Industries Sdn Bhd</td>\n",
       "      <td>0.0</td>\n",
       "      <td>0.00e+00</td>\n",
       "      <td>0.0</td>\n",
       "      <td>0.00e+00</td>\n",
       "      <td>0.0</td>\n",
       "      <td>0.0</td>\n",
       "      <td>0.0</td>\n",
       "      <td>0.00e+00</td>\n",
       "      <td>0.0</td>\n",
       "      <td>0.0</td>\n",
       "      <td>NaN</td>\n",
       "      <td>left_only</td>\n",
       "    </tr>\n",
       "    <tr>\n",
       "      <th>14</th>\n",
       "      <td>500531</td>\n",
       "      <td>MYR</td>\n",
       "      <td>Islamic</td>\n",
       "      <td>Felda Rubber Industries Sdn Bhd</td>\n",
       "      <td>0.0</td>\n",
       "      <td>0.00e+00</td>\n",
       "      <td>0.0</td>\n",
       "      <td>0.00e+00</td>\n",
       "      <td>0.0</td>\n",
       "      <td>0.0</td>\n",
       "      <td>0.0</td>\n",
       "      <td>0.00e+00</td>\n",
       "      <td>0.0</td>\n",
       "      <td>0.0</td>\n",
       "      <td>NaN</td>\n",
       "      <td>left_only</td>\n",
       "    </tr>\n",
       "  </tbody>\n",
       "</table>\n",
       "</div>"
      ],
      "text/plain": [
       "   Finance(SAP) Number Facility Currency Type of Financing  \\\n",
       "11              500528               USD           Islamic   \n",
       "13              500530               MYR           Islamic   \n",
       "14              500531               MYR           Islamic   \n",
       "\n",
       "                         Customer Name  Disbursement/Drawdown (MYR)  \\\n",
       "11            Ramill Tech (M) Sdn Bhd                           0.0   \n",
       "13  Sunlight Forest Industries Sdn Bhd                          0.0   \n",
       "14     Felda Rubber Industries Sdn Bhd                          0.0   \n",
       "\n",
       "    Cost/Principal Outstanding (MYR)  Profit Payment/Interest Repayment (MYR)  \\\n",
       "11                         -3.67e-09                                      0.0   \n",
       "13                          0.00e+00                                      0.0   \n",
       "14                          0.00e+00                                      0.0   \n",
       "\n",
       "    Cumulative Accrued Profit/Interest (MYR)  Modification of Loss (MYR)  \\\n",
       "11                                 -3.67e-09                         0.0   \n",
       "13                                  0.00e+00                         0.0   \n",
       "14                                  0.00e+00                         0.0   \n",
       "\n",
       "    Other Charges (MYR)  Income/Interest in Suspense (MYR)  \\\n",
       "11                  0.0                                0.0   \n",
       "13                  0.0                                0.0   \n",
       "14                  0.0                                0.0   \n",
       "\n",
       "    Total Loans Outstanding (MYR)  Cost Payment/Principal Repayment (MYR)  \\\n",
       "11                      -7.34e-09                                     0.0   \n",
       "13                       0.00e+00                                     0.0   \n",
       "14                       0.00e+00                                     0.0   \n",
       "\n",
       "    Accrued Profit/Interest of the month (MYR) CIF Number     _merge  \n",
       "11                                         0.0        NaN  left_only  \n",
       "13                                         0.0        NaN  left_only  \n",
       "14                                         0.0        NaN  left_only  "
      ]
     },
     "execution_count": 94,
     "metadata": {},
     "output_type": "execute_result"
    }
   ],
   "source": [
    "appendfinal_conti.iloc[np.where(appendfinal_conti._merge!=\"both\")].head(3)"
   ]
  },
  {
   "cell_type": "code",
   "execution_count": 81,
   "id": "17b0e4bc-95f6-436f-b872-055502fa948e",
   "metadata": {},
   "outputs": [
    {
     "data": {
      "text/plain": [
       "CIF Number\n",
       "EXIM000210    9\n",
       "EXIM000155    7\n",
       "EXIM000563    6\n",
       "EXIM000140    6\n",
       "EXIM000108    6\n",
       "             ..\n",
       "EXIM000212    1\n",
       "EXIM000213    1\n",
       "EXIM000215    1\n",
       "EXIM000216    1\n",
       "EXIM000433    1\n",
       "Name: count, Length: 293, dtype: int64"
      ]
     },
     "execution_count": 81,
     "metadata": {},
     "output_type": "execute_result"
    }
   ],
   "source": [
    "conti_det['CIF Number'].value_counts()"
   ]
  },
  {
   "cell_type": "code",
   "execution_count": 82,
   "id": "47830b2d-c81f-4df0-b656-f48cf5bc9b7e",
   "metadata": {},
   "outputs": [
    {
     "data": {
      "text/html": [
       "<div>\n",
       "<style scoped>\n",
       "    .dataframe tbody tr th:only-of-type {\n",
       "        vertical-align: middle;\n",
       "    }\n",
       "\n",
       "    .dataframe tbody tr th {\n",
       "        vertical-align: top;\n",
       "    }\n",
       "\n",
       "    .dataframe thead th {\n",
       "        text-align: right;\n",
       "    }\n",
       "</style>\n",
       "<table border=\"1\" class=\"dataframe\">\n",
       "  <thead>\n",
       "    <tr style=\"text-align: right;\">\n",
       "      <th></th>\n",
       "      <th>CIF Number</th>\n",
       "      <th>Finance(SAP) Number</th>\n",
       "    </tr>\n",
       "  </thead>\n",
       "  <tbody>\n",
       "    <tr>\n",
       "      <th>187</th>\n",
       "      <td>EXIM000210</td>\n",
       "      <td>BG-i</td>\n",
       "    </tr>\n",
       "    <tr>\n",
       "      <th>190</th>\n",
       "      <td>EXIM000210</td>\n",
       "      <td>BG</td>\n",
       "    </tr>\n",
       "    <tr>\n",
       "      <th>191</th>\n",
       "      <td>EXIM000210</td>\n",
       "      <td>nan</td>\n",
       "    </tr>\n",
       "    <tr>\n",
       "      <th>194</th>\n",
       "      <td>EXIM000210</td>\n",
       "      <td>500976</td>\n",
       "    </tr>\n",
       "    <tr>\n",
       "      <th>195</th>\n",
       "      <td>EXIM000210</td>\n",
       "      <td>500981</td>\n",
       "    </tr>\n",
       "    <tr>\n",
       "      <th>196</th>\n",
       "      <td>EXIM000210</td>\n",
       "      <td>501005</td>\n",
       "    </tr>\n",
       "    <tr>\n",
       "      <th>197</th>\n",
       "      <td>EXIM000210</td>\n",
       "      <td>500793</td>\n",
       "    </tr>\n",
       "    <tr>\n",
       "      <th>203</th>\n",
       "      <td>EXIM000210</td>\n",
       "      <td>501070</td>\n",
       "    </tr>\n",
       "    <tr>\n",
       "      <th>204</th>\n",
       "      <td>EXIM000210</td>\n",
       "      <td>501079</td>\n",
       "    </tr>\n",
       "  </tbody>\n",
       "</table>\n",
       "</div>"
      ],
      "text/plain": [
       "     CIF Number Finance(SAP) Number\n",
       "187  EXIM000210                BG-i\n",
       "190  EXIM000210                  BG\n",
       "191  EXIM000210                 nan\n",
       "194  EXIM000210              500976\n",
       "195  EXIM000210              500981\n",
       "196  EXIM000210              501005\n",
       "197  EXIM000210              500793\n",
       "203  EXIM000210              501070\n",
       "204  EXIM000210              501079"
      ]
     },
     "execution_count": 82,
     "metadata": {},
     "output_type": "execute_result"
    }
   ],
   "source": [
    "conti_det.iloc[np.where(conti_det['CIF Number']==\"EXIM000210\")]"
   ]
  },
  {
   "cell_type": "code",
   "execution_count": null,
   "id": "be02b9e1-fd52-4e6a-aa66-f3028be559d1",
   "metadata": {},
   "outputs": [],
   "source": []
  },
  {
   "cell_type": "code",
   "execution_count": null,
   "id": "1f1ef7ee-b161-435c-a103-339f18eb1632",
   "metadata": {},
   "outputs": [],
   "source": [
    "\t\n",
    "\n"
   ]
  },
  {
   "cell_type": "code",
   "execution_count": null,
   "id": "d49c3981-ac9b-4b5a-b60a-5c873973d695",
   "metadata": {},
   "outputs": [],
   "source": [
    "append_conti = appendfinal.merge(Contigent1,on=['Customer_Account','Company','Financing_Type'],how='outer',indicator=True)\n"
   ]
  },
  {
   "cell_type": "code",
   "execution_count": 61,
   "id": "cc77c76b-085e-4be2-9d79-740fd7589d90",
   "metadata": {},
   "outputs": [],
   "source": [
    "#-------------------------------------------------LDB-------------------------------------------------\n",
    "\n",
    "LDB_prev1 = LDB_prev.iloc[np.where(~LDB_prev['No.'].isna())]\n",
    "\n",
    "#LDB_prev1.columns = LDB_prev1.columns.str.replace(\"\\n\", \"_\")\n",
    "#LDB_prev1.columns = LDB_prev1.columns.str.replace(\" \", \"\")\n",
    "LDB_prev1['Finance(SAP) Number'] = LDB_prev1['Finance(SAP) Number'].astype(str)\n",
    "appendfinal['Finance(SAP) Number'] = appendfinal['Finance(SAP) Number'].astype(str)\n",
    "\n",
    "append_ldb = appendfinal.merge(LDB_prev1[['CIF Number','EXIM Account No.','Finance(SAP) Number','Customer Name','Type of Financing','Facility Currency']],on=['Finance(SAP) Number'],how='left',suffixes=('', '_LDB'),indicator=True)\n"
   ]
  },
  {
   "cell_type": "code",
   "execution_count": 65,
   "id": "b9c61656-4e87-4bd3-9ec6-4faf2a2ce3b4",
   "metadata": {},
   "outputs": [],
   "source": [
    "#append_ldb['Finance(SAP) Number'].value_counts()"
   ]
  },
  {
   "cell_type": "code",
   "execution_count": 66,
   "id": "1488a1ea-5bab-4047-af29-d4947fd1e516",
   "metadata": {},
   "outputs": [],
   "source": [
    "#append_ldb.iloc[np.where(append_ldb['Finance(SAP) Number']==\"500776\")]"
   ]
  },
  {
   "cell_type": "code",
   "execution_count": null,
   "id": "4a9c909f-b3f8-434f-a904-6a334a85b404",
   "metadata": {},
   "outputs": [],
   "source": []
  },
  {
   "cell_type": "code",
   "execution_count": null,
   "id": "02c89f7f-e331-485c-ba87-0294fce336fa",
   "metadata": {},
   "outputs": [],
   "source": []
  },
  {
   "cell_type": "code",
   "execution_count": null,
   "id": "66ac8c25-7ca7-4833-bc6a-689601c448fd",
   "metadata": {},
   "outputs": [],
   "source": [
    "#-------------------------------------------------Month Rate-------------------------------------------------\n",
    "\n",
    "MRate"
   ]
  },
  {
   "cell_type": "code",
   "execution_count": null,
   "id": "9845488f-6aa7-4f27-8466-3c69e7a12ca2",
   "metadata": {},
   "outputs": [],
   "source": []
  },
  {
   "cell_type": "code",
   "execution_count": 53,
   "id": "79afac60-5c39-4a9c-a20d-f6e3a2962c2d",
   "metadata": {},
   "outputs": [
    {
     "data": {
      "text/plain": [
       "dtype('int32')"
      ]
     },
     "execution_count": 53,
     "metadata": {},
     "output_type": "execute_result"
    }
   ],
   "source": [
    "appendfinal['Finance(SAP) Number'].dtypes"
   ]
  },
  {
   "cell_type": "code",
   "execution_count": 59,
   "id": "5928956a-3489-4c0f-9a65-e5a559b101d2",
   "metadata": {},
   "outputs": [
    {
     "data": {
      "text/html": [
       "<div>\n",
       "<style scoped>\n",
       "    .dataframe tbody tr th:only-of-type {\n",
       "        vertical-align: middle;\n",
       "    }\n",
       "\n",
       "    .dataframe tbody tr th {\n",
       "        vertical-align: top;\n",
       "    }\n",
       "\n",
       "    .dataframe thead th {\n",
       "        text-align: right;\n",
       "    }\n",
       "</style>\n",
       "<table border=\"1\" class=\"dataframe\">\n",
       "  <thead>\n",
       "    <tr style=\"text-align: right;\">\n",
       "      <th></th>\n",
       "      <th>Finance(SAP) Number</th>\n",
       "      <th>Facility Currency</th>\n",
       "      <th>Type of Financing</th>\n",
       "      <th>Customer Name</th>\n",
       "      <th>Disbursement/Drawdown (MYR)</th>\n",
       "      <th>Cost/Principal Outstanding (MYR)</th>\n",
       "      <th>Profit Payment/Interest Repayment (MYR)</th>\n",
       "      <th>Cumulative Accrued Profit/Interest (MYR)</th>\n",
       "      <th>Modification of Loss (MYR)</th>\n",
       "      <th>Other Charges (MYR)</th>\n",
       "      <th>Income/Interest in Suspense (MYR)</th>\n",
       "      <th>Total Loans Outstanding (MYR)</th>\n",
       "      <th>Cost Payment/Principal Repayment (MYR)</th>\n",
       "      <th>Accrued Profit/Interest of the month (MYR)</th>\n",
       "    </tr>\n",
       "  </thead>\n",
       "  <tbody>\n",
       "    <tr>\n",
       "      <th>0</th>\n",
       "      <td>500010</td>\n",
       "      <td>USD</td>\n",
       "      <td>Conventional</td>\n",
       "      <td>PT BUMI INTERNATIONAL TANKERS</td>\n",
       "      <td>0.0</td>\n",
       "      <td>1.32e+07</td>\n",
       "      <td>0.0</td>\n",
       "      <td>0.0</td>\n",
       "      <td>0.0</td>\n",
       "      <td>249265.36</td>\n",
       "      <td>5.64e+06</td>\n",
       "      <td>1.35e+07</td>\n",
       "      <td>0.0</td>\n",
       "      <td>0.0</td>\n",
       "    </tr>\n",
       "  </tbody>\n",
       "</table>\n",
       "</div>"
      ],
      "text/plain": [
       "   Finance(SAP) Number Facility Currency Type of Financing  \\\n",
       "0               500010               USD      Conventional   \n",
       "\n",
       "                   Customer Name  Disbursement/Drawdown (MYR)  \\\n",
       "0  PT BUMI INTERNATIONAL TANKERS                          0.0   \n",
       "\n",
       "   Cost/Principal Outstanding (MYR)  Profit Payment/Interest Repayment (MYR)  \\\n",
       "0                          1.32e+07                                      0.0   \n",
       "\n",
       "   Cumulative Accrued Profit/Interest (MYR)  Modification of Loss (MYR)  \\\n",
       "0                                       0.0                         0.0   \n",
       "\n",
       "   Other Charges (MYR)  Income/Interest in Suspense (MYR)  \\\n",
       "0            249265.36                           5.64e+06   \n",
       "\n",
       "   Total Loans Outstanding (MYR)  Cost Payment/Principal Repayment (MYR)  \\\n",
       "0                       1.35e+07                                     0.0   \n",
       "\n",
       "   Accrued Profit/Interest of the month (MYR)  \n",
       "0                                         0.0  "
      ]
     },
     "execution_count": 59,
     "metadata": {},
     "output_type": "execute_result"
    }
   ],
   "source": [
    "appendfinal.head(1)"
   ]
  },
  {
   "cell_type": "code",
   "execution_count": 69,
   "id": "346789ce-a691-4e05-9e85-5550cc7266c7",
   "metadata": {},
   "outputs": [
    {
     "data": {
      "text/plain": [
       "CIF Number\n",
       "EXIM000210    4\n",
       "EXIM000145    2\n",
       "EXIM000110    1\n",
       "EXIM000140    1\n",
       "EXIM000169    1\n",
       "EXIM000277    1\n",
       "EXIM000491    1\n",
       "EXIM000563    1\n",
       "EXIM000283    1\n",
       "Name: count, dtype: int64"
      ]
     },
     "execution_count": 69,
     "metadata": {},
     "output_type": "execute_result"
    }
   ],
   "source": [
    "Contigent['CIF Number'].value_counts()"
   ]
  },
  {
   "cell_type": "code",
   "execution_count": 67,
   "id": "9a17ec69-3a6e-435b-936f-1d412ac62bf1",
   "metadata": {},
   "outputs": [
    {
     "data": {
      "text/html": [
       "<div>\n",
       "<style scoped>\n",
       "    .dataframe tbody tr th:only-of-type {\n",
       "        vertical-align: middle;\n",
       "    }\n",
       "\n",
       "    .dataframe tbody tr th {\n",
       "        vertical-align: top;\n",
       "    }\n",
       "\n",
       "    .dataframe thead th {\n",
       "        text-align: right;\n",
       "    }\n",
       "</style>\n",
       "<table border=\"1\" class=\"dataframe\">\n",
       "  <thead>\n",
       "    <tr style=\"text-align: right;\">\n",
       "      <th></th>\n",
       "      <th>CIF Number</th>\n",
       "      <th>EXIM Account No.</th>\n",
       "      <th>Finance(SAP) Number</th>\n",
       "      <th>Customer Name</th>\n",
       "      <th>Country Exposure</th>\n",
       "      <th>Type of Financing</th>\n",
       "      <th>Facility Currency</th>\n",
       "      <th>Contingent Liability (MYR)</th>\n",
       "      <th>Contingent Liability Letter of Credit (MYR)</th>\n",
       "    </tr>\n",
       "  </thead>\n",
       "  <tbody>\n",
       "    <tr>\n",
       "      <th>0</th>\n",
       "      <td>EXIM000110</td>\n",
       "      <td>3308-02224-216-0032-00</td>\n",
       "      <td>BG</td>\n",
       "      <td>PRINSIPTEK INTERNATIONAL LTD</td>\n",
       "      <td>Thailand</td>\n",
       "      <td>C</td>\n",
       "      <td>THB</td>\n",
       "      <td>1.68e+06</td>\n",
       "      <td>0.0</td>\n",
       "    </tr>\n",
       "  </tbody>\n",
       "</table>\n",
       "</div>"
      ],
      "text/plain": [
       "   CIF Number        EXIM Account No. Finance(SAP) Number  \\\n",
       "0  EXIM000110  3308-02224-216-0032-00                  BG   \n",
       "\n",
       "                  Customer Name Country Exposure Type of Financing  \\\n",
       "0  PRINSIPTEK INTERNATIONAL LTD         Thailand                 C   \n",
       "\n",
       "  Facility Currency  Contingent Liability (MYR)  \\\n",
       "0               THB                    1.68e+06   \n",
       "\n",
       "   Contingent Liability Letter of Credit (MYR)  \n",
       "0                                          0.0  "
      ]
     },
     "execution_count": 67,
     "metadata": {},
     "output_type": "execute_result"
    }
   ],
   "source": [
    "Contigent.head(1)"
   ]
  },
  {
   "cell_type": "code",
   "execution_count": null,
   "id": "7682fdbd-48be-4fca-925d-81ca487dfcd4",
   "metadata": {},
   "outputs": [],
   "source": [
    "\n",
    "\n",
    "\n",
    "A006 = A005.merge(PIS1,on=['Customer_Account','Company','Financing_Type'],how='outer',indicator=True)\n",
    "\n",
    "#list of all column to rename\n",
    "#LDB_prev1 = LDB_prev[[\"No.\",\"CIF Number\",\"EXIM Account No.\",\"Application System Code\",\"CCRIS Master Account Number\",\"CCRIS Sub Account Number\",\n",
    "#                      \"Finance(SAP) Number\",\"Company Group\",\"Customer Name\",\"Relationship Manager (RM)\",\"Banking Team\",\"Ownership\",\"Officer in Charge\",\n",
    "#                      \"Syndicated / Club Deal\",\"Nature of Account\",\"Facility\",\"Facility Currency\",\"Type of Financing\",\"Shariah Contract / Concept\",\n",
    "#                      \"Fund / Guarantee /Program / Insentif\",\"Status\",\"Post Approval Stage\",\"Date of Ready for Utilization (RU)\",\n",
    "#                      \"Restructured / Rescheduled (Y/N)\",\"Amount Approved / Facility Limit (Facility Currency)\",\"Amount Approved / Facility Limit (MYR)\",\n",
    "#                      \"Cost/Principal Outstanding (Facility Currency)\",\"Cost/Principal Outstanding (MYR)\",\"Contingent Liability Letter of Credit (Facility Currency)\",\n",
    "#                      \"Contingent Liability Letter of Credit (MYR)\",\"Contingent Liability (Facility Currency)\",\"Contingent Liability (MYR)\",\n",
    "#                      \"Account Receivables/Past Due Claims (Facility Currency)\",\"Account Receivable/Past Due Claims (MYR)\",\n",
    "#                      \"Total Banking Exposure (Facility Currency)\",\"Total Banking Exposure (MYR)\",\"Accrued Profit/Interest of the month (Facility Currency)\",\n",
    "#                     \" Accrued Profit/Interest of the month (MYR)\",\"Modification of Loss (Facility Currency)\",\"Modification of Loss (MYR)\",\n",
    "#                      \"Cumulative Accrued Profit/Interest (Facility Currency)\",\"Cumulative Accrued Profit/Interest (MYR)\",\n",
    "#                      \"Penalty/Ta`widh (Facility Currency)\",\"Penalty/Ta`widh (MYR)\",\"Income/Interest in Suspense (Facility Currency)\",\n",
    "#                      \"Income/Interest in Suspense (MYR)\",\"Other Charges (Facility Currency)\",\"Other Charges (MYR)\",\n",
    "#                      \"Total Loans Outstanding (Facility Currency)\",\"Total Loans Outstanding (MYR)\",\n",
    "#                     \"Expected Credit Loss (ECL) LAF (Facility Currency)\",\"Expected Credit Loss LAF (ECL) (MYR)\",\n",
    "#                      \"Expected Credit Loss C&C (ECL) (Facility Currency)\",\"Expected Credit Loss C&C (ECL) (MYR)\",\n",
    "#                      \"Disbursement/Drawdown Status\",\"Unutilised/Undrawn Amount (Facility Currency) \",\"Unutilised/Undrawn Amount (MYR)\",\n",
    "#                      \"Disbursement/Drawdown (Facility Currency)\",\"Disbursement/Drawdown (MYR)\",\"Cumulative Disbursement/Drawdown (Facility Currency)\",\n",
    "#                      \"Cumulative Disbursement/Drawdown (MYR)\",\"Cost Payment/Principal Repayment (Facility Currency)\",\n",
    "#                      \"Cost Payment/Principal Repayment (MYR)\",\"Cumulative Cost Payment/Principal Repayment (Facility Currency)\",\n",
    "#                      \"Cumulative Cost Payment/Principal Repayment (MYR)\",\"Profit Payment/Interest Repayment (Facility Currency)\",\n",
    "#                      \"Profit Payment/Interest Repayment (MYR)\",\"Cumulative Profit Payment/Interest Repayment (Facility Currency)\",\t\n",
    "#                      \"Cumulative Profit Payment/Interest Repayment (MYR)\",\"Ta`widh Payment/Penalty Repayment (Facility Currency)\",\n",
    "#                      \"Ta`widh Payment/Penalty Repayment  (MYR)\",\"Cumulative Ta`widh Payment/Penalty Repayment (Facility Currency)\",\n",
    "#                      \"Cumulative Ta`widh Payment/Penalty Repayment (MYR)\",\" Other Charges Payment (Facility Currency)\",\"Other Charges Payment (MYR)\",\n",
    "#                      \"Cumulative Other Charges Payment (Facility Currency)\",'Cumulative Other Charges Payment (MYR)','Rating at Origination','PD','PF',\n",
    "#                      'CRMS Obligor Risk Rating','CRMS CG Rating','PD (%)','LGD (%)','Risk Analyst','MFRS9 Staging','BNM Main Sector','BNM Sub Sector',\n",
    "#                      'EXIM Main Sector','Industry (Risk)','Industry Classification','Purpose of Financing','Date Approved at Origination',\n",
    "#                      'Approval Authority','LO issuance Date','Date of LO Acceptance','1st Disbursement/Drawdown Date','1st Payment/Repayment Date',\n",
    "#                      'Expiry of Availability Period','Facility Agreement Date','Annual Review Date','Watchlist Review Date','Maturity/Expired Date',\n",
    "#                      'Grace Period (Month)','Moratorium Period (Month)','Start Moratorium Date','Tenure (Month)',\n",
    "#                      'Payment/Repayment Frequency (Profit/Interest)','Payment/Repayment Frequency (Cost/Principal)',\n",
    "#                      'Effective cost of borrowings','Profit/Interest Margin','Average Profit/Interest Rate','Ta`widh Compensation/Penalty Rate',\n",
    "#                      'Operation Country','Country Exposure','Country Rating','Region','Market Type','Classification of Entity / Customer Type',\n",
    "#                      'Entity / Customer Type','Classification of Residency Status','Residency Status','Corporate Type','SME Commercial Corporate',\n",
    "#                      'Corporate Status','Justification on Corporate Status','Restructured / Rescheduled','Date of Approval Restructured / Rescheduled',\n",
    "#                      'Effective Date','Reason','Date Untagged from R&R','Justification for Untagged','Frequency','Date of Overdue','Overdue (Days)',\n",
    "#                      'Month in Arrears','Overdue Amount (Facility Currency)','Overdue Amount (MYR)','Date Classified as Watchlist','Watchlist Reason',\n",
    "#                      'Date Declassified from Watchlist','Date Impaired','Reason for Impairment','Partial Write off Date','Write off Date',\n",
    "#                     'Cancellation Date/Fully Settled Date','Position as At','Ex - Month to Disburse','Ex - Month to mature left',\n",
    "#                      'Ex - Month to Impaired]']]\n"
   ]
  },
  {
   "cell_type": "code",
   "execution_count": 33,
   "id": "9c45f536-7c11-4b57-85da-afd682b63944",
   "metadata": {},
   "outputs": [
    {
     "data": {
      "text/plain": [
       "Finance(SAP) Number\n",
       "New Account    101\n",
       "BG-i            19\n",
       "BG              13\n",
       "500746           5\n",
       "500776           2\n",
       "              ... \n",
       "500679           1\n",
       "500760           1\n",
       "500737           1\n",
       "500688           1\n",
       "501129           1\n",
       "Name: count, Length: 308, dtype: int64"
      ]
     },
     "execution_count": 33,
     "metadata": {},
     "output_type": "execute_result"
    }
   ],
   "source": [
    "LDB_prev['Finance(SAP) Number'].value_counts()"
   ]
  },
  {
   "cell_type": "code",
   "execution_count": 32,
   "id": "cdc632fa-b7f3-437b-984c-0590caf57bba",
   "metadata": {},
   "outputs": [
    {
     "data": {
      "text/plain": [
       "Finance(SAP) Number\n",
       "500010    1\n",
       "501033    1\n",
       "500957    1\n",
       "500960    1\n",
       "500965    1\n",
       "         ..\n",
       "500802    1\n",
       "500809    1\n",
       "500810    1\n",
       "500811    1\n",
       "501140    1\n",
       "Name: count, Length: 259, dtype: int64"
      ]
     },
     "execution_count": 32,
     "metadata": {},
     "output_type": "execute_result"
    }
   ],
   "source": [
    "appendfinal['Finance(SAP) Number'].value_counts()"
   ]
  },
  {
   "cell_type": "code",
   "execution_count": null,
   "id": "82e8c34d-4adf-4605-a875-4a81cbbab68c",
   "metadata": {},
   "outputs": [],
   "source": []
  },
  {
   "cell_type": "code",
   "execution_count": null,
   "id": "9316b326-2670-4105-aab2-a1686e82c39e",
   "metadata": {},
   "outputs": [],
   "source": []
  },
  {
   "cell_type": "code",
   "execution_count": null,
   "id": "5d42a545-627a-4fe7-9ae2-7fcf87a55f0b",
   "metadata": {},
   "outputs": [],
   "source": [
    "#smpi currency lain & insert contigent\n"
   ]
  },
  {
   "cell_type": "code",
   "execution_count": null,
   "id": "e13be3ae-77eb-48c5-823d-9485e2a2be91",
   "metadata": {
    "scrolled": true
   },
   "outputs": [],
   "source": []
  },
  {
   "cell_type": "code",
   "execution_count": null,
   "id": "b956bb2e-33c9-4a0a-b589-5ba6c618a885",
   "metadata": {},
   "outputs": [],
   "source": []
  },
  {
   "cell_type": "code",
   "execution_count": null,
   "id": "682ab191-3c84-4ac7-9c55-c1e09373b641",
   "metadata": {
    "scrolled": true
   },
   "outputs": [],
   "source": [
    "#appendfinal.to_excel(str(Location)+'\\\\Debtor Listing '+str(File[-12:-4])+' (python).xlsx', sheet_name='Export Worksheet', index = False)\n"
   ]
  },
  {
   "cell_type": "code",
   "execution_count": null,
   "id": "d95d1a4b-c6a1-4f88-8d88-76f18c723c9a",
   "metadata": {},
   "outputs": [],
   "source": []
  },
  {
   "cell_type": "code",
   "execution_count": null,
   "id": "1560c0f3-8ddf-4db7-94a8-b849a6dd25cf",
   "metadata": {},
   "outputs": [],
   "source": []
  },
  {
   "cell_type": "code",
   "execution_count": null,
   "id": "6d154cb9-d53c-47b8-8e29-e5261ed74118",
   "metadata": {},
   "outputs": [],
   "source": [
    "#writer2 = pd.ExcelWriter(r'C:\\Users\\syahidhalid\\Syahid_PC\\Analytics - FAD\\Automation LDB\\Data Source\\202404\\1. ECL\\Finance\\working\\\\Debtor Listing (python).xlsx',engine='xlsxwriter')\n",
    "\n",
    "#appendfinal.to_excel(writer2, sheet_name='Export Worksheet', index = False)\n",
    "\n",
    "#writer2._save()"
   ]
  },
  {
   "cell_type": "code",
   "execution_count": null,
   "id": "0a964d16-1d4e-442c-8466-020b6ab4a721",
   "metadata": {},
   "outputs": [],
   "source": [
    "print(C005.shape)\n",
    "print(A006.shape)"
   ]
  },
  {
   "cell_type": "code",
   "execution_count": null,
   "id": "d9e99817-7dbb-4d4a-92b8-7e12a219e88d",
   "metadata": {
    "scrolled": true
   },
   "outputs": [],
   "source": [
    "C005.head(1)"
   ]
  },
  {
   "cell_type": "code",
   "execution_count": null,
   "id": "53cbad21-3d51-4875-99fb-89972db95c2e",
   "metadata": {},
   "outputs": [],
   "source": [
    "A006.head(1)"
   ]
  },
  {
   "cell_type": "code",
   "execution_count": null,
   "id": "39df857a-8a11-4d88-b93d-bcfcbb361b01",
   "metadata": {
    "scrolled": true
   },
   "outputs": [],
   "source": [
    "A006.Customer_Account.value_counts()"
   ]
  },
  {
   "cell_type": "code",
   "execution_count": null,
   "id": "2694e914-0a22-4094-8b05-2dc75ab8afb0",
   "metadata": {},
   "outputs": [],
   "source": [
    "appendfinal.shape"
   ]
  },
  {
   "cell_type": "code",
   "execution_count": null,
   "id": "5db6c807-ab33-49fc-95b3-d78b0a909f1e",
   "metadata": {},
   "outputs": [],
   "source": [
    "appendfinal.iloc[np.where(appendfinal.Customer_Account==500640)]"
   ]
  },
  {
   "cell_type": "code",
   "execution_count": null,
   "id": "f612ccc9-f7f0-43de-b7b3-cedfcac26346",
   "metadata": {},
   "outputs": [],
   "source": [
    "appendfinal.Customer_Account.value_counts()"
   ]
  },
  {
   "cell_type": "code",
   "execution_count": null,
   "id": "5ba5bbde-1c08-4604-a8f6-8786bb04259f",
   "metadata": {},
   "outputs": [],
   "source": [
    "#checking v1\n",
    "sum(appendfinal['Total Loans Outstanding (MYR)'])"
   ]
  },
  {
   "cell_type": "code",
   "execution_count": null,
   "id": "ebef030e-6e2a-41a8-a2ec-265c0fa8aefb",
   "metadata": {},
   "outputs": [],
   "source": [
    "#checking v2\n",
    "sum(appendfinal['Total Loans Outstanding (MYR)'])"
   ]
  },
  {
   "cell_type": "code",
   "execution_count": null,
   "id": "e1c3ce63-0b83-460e-80d9-5b9be2c43b8f",
   "metadata": {},
   "outputs": [],
   "source": []
  }
 ],
 "metadata": {
  "kernelspec": {
   "display_name": "Python 3 (ipykernel)",
   "language": "python",
   "name": "python3"
  },
  "language_info": {
   "codemirror_mode": {
    "name": "ipython",
    "version": 3
   },
   "file_extension": ".py",
   "mimetype": "text/x-python",
   "name": "python",
   "nbconvert_exporter": "python",
   "pygments_lexer": "ipython3",
   "version": "3.11.7"
  }
 },
 "nbformat": 4,
 "nbformat_minor": 5
}
