{
 "cells": [
  {
   "cell_type": "code",
   "execution_count": 1,
   "id": "e42577cf-f086-4ee9-8761-8193d77f7190",
   "metadata": {},
   "outputs": [],
   "source": [
    "import pandas as pd\n",
    "import numpy as np\n",
    "\n",
    "#warnings.filterwarnings('ignore')\n",
    "pd.set_option(\"display.max_columns\", None) \n",
    "pd.set_option(\"display.max_colwidth\", 1000) #huruf dlm column\n",
    "pd.set_option(\"display.max_rows\", 100)\n",
    "pd.set_option(\"display.precision\", 2) #2 titik perpuluhan"
   ]
  },
  {
   "cell_type": "code",
   "execution_count": 2,
   "id": "69d42fba-663b-4865-9048-a3bdcd6b5a74",
   "metadata": {},
   "outputs": [],
   "source": [
    "#----------------------------------------------data-------------------------------------------------------------\n",
    "Income_curr = \"04. Income statement Apr 2024\"\n",
    "\n",
    "Location = r\"C:\\\\Users\\\\syahidhalid\\\\Syahid_PC\\\\Analytics - FAD\\\\06. Management Account\\\\Source\"\n",
    "\n",
    "#Income_prev_raw = pd.read_excel(str(Location)+\"\\\\\"+str(Income_prev)+\".xlsx\", sheet_name='Raw 2024', header=0)\n",
    "#Income_prev_raw.columns = Income_prev_raw.columns.str.replace(\"\\n\", \"_\").str.replace(\" \", \"_\")\n",
    "\n",
    "#Income_prev_keyin = pd.read_excel(str(Location)+\"\\\\\"+str(Income_curr)+\".xlsx\", sheet_name='Keyin2024', header=4)\n",
    "#Income_prev_keyin.columns = Income_prev_keyin.columns.str.replace(\"\\n\", \"_\").str.replace(\" \", \"_\")\n",
    "\n",
    "Income_curr_raw = pd.read_excel(str(Location)+\"\\\\\"+str(Income_curr)+\".xlsx\", sheet_name='Raw 2024', header=0)\n",
    "Income_curr_raw.columns = Income_curr_raw.columns.str.replace(\"\\n\", \"_\").str.replace(\" \", \"_\")\n",
    "\n",
    "#Income_curr_keyin = pd.read_excel(str(Location)+\"\\\\\"+str(Income_curr)+\".xlsx\", sheet_name='Keyin2024', header=4)\n",
    "#Income_curr_keyin.columns = Income_curr_keyin.columns.str.replace(\"\\n\", \"_\").str.replace(\" \", \"_\")\n",
    "\n",
    "Location_dic = r\"C:\\\\Users\\\\syahidhalid\\\\Syahid_PC\\\\Analytics - FAD\\\\06. Management Account\\\\Working\"\n",
    "file_dic = \"Income Statement - Dictionary\"\n",
    "\n",
    "dic_keyin = pd.read_excel(str(Location_dic)+\"\\\\\"+str(file_dic)+\".xlsx\", sheet_name='Keyin', header=0)\n",
    "dic_keyin.columns = dic_keyin.columns.str.replace(\"\\n\", \"_\").str.replace(\" \", \"_\")\n",
    "\n",
    "dic_op_rev = pd.read_excel(str(Location_dic)+\"\\\\\"+str(file_dic)+\".xlsx\", sheet_name='Operating Revenue', header=0)\n",
    "dic_op_rev.columns = dic_op_rev.columns.str.replace(\"\\n\", \"_\").str.replace(\" \", \"_\")\n",
    "\n",
    "dic_int_inc = pd.read_excel(str(Location_dic)+\"\\\\\"+str(file_dic)+\".xlsx\", sheet_name='Interest Income', header=0)\n",
    "dic_int_inc.columns = dic_int_inc.columns.str.replace(\"\\n\", \"_\").str.replace(\" \", \"_\")\n",
    "\n",
    "dic_int_exp = pd.read_excel(str(Location_dic)+\"\\\\\"+str(file_dic)+\".xlsx\", sheet_name='Interest Expense', header=0)\n",
    "dic_int_exp.columns = dic_int_exp.columns.str.replace(\"\\n\", \"_\").str.replace(\" \", \"_\")\n",
    "\n",
    "dic_undwr_tkfl = pd.read_excel(str(Location_dic)+\"\\\\\"+str(file_dic)+\".xlsx\", sheet_name='Underwriting_Takaful results', header=0)\n",
    "dic_undwr_tkfl.columns = dic_undwr_tkfl.columns.str.replace(\"\\n\", \"_\").str.replace(\" \", \"_\")\n",
    "\n",
    "dic_inc_isl_biz = pd.read_excel(str(Location_dic)+\"\\\\\"+str(file_dic)+\".xlsx\", sheet_name='Income from Islamic business', header=0)\n",
    "dic_inc_isl_biz.columns = dic_inc_isl_biz.columns.str.replace(\"\\n\", \"_\").str.replace(\" \", \"_\")\n",
    "\n",
    "dic_oth_inc = pd.read_excel(str(Location_dic)+\"\\\\\"+str(file_dic)+\".xlsx\", sheet_name='Other income', header=0)\n",
    "dic_oth_inc.columns = dic_oth_inc.columns.str.replace(\"\\n\", \"_\").str.replace(\" \", \"_\")\n",
    "\n",
    "dic_ovh_exp = pd.read_excel(str(Location_dic)+\"\\\\\"+str(file_dic)+\".xlsx\", sheet_name='Overhead expenses', header=0)\n",
    "dic_ovh_exp.columns = dic_ovh_exp.columns.str.replace(\"\\n\", \"_\").str.replace(\" \", \"_\")\n",
    "\n",
    "dic_allw_laf = pd.read_excel(str(Location_dic)+\"\\\\\"+str(file_dic)+\".xlsx\", sheet_name='Allowances for losses on LAF', header=0)\n",
    "dic_allw_laf.columns = dic_allw_laf.columns.str.replace(\"\\n\", \"_\").str.replace(\" \", \"_\")\n",
    "\n",
    "dic_allw_dim = pd.read_excel(str(Location_dic)+\"\\\\\"+str(file_dic)+\".xlsx\", sheet_name='Allowance for diminution', header=0)\n",
    "dic_allw_dim.columns = dic_allw_dim.columns.str.replace(\"\\n\", \"_\").str.replace(\" \", \"_\")\n",
    "\n",
    "dic_allw_cnc = pd.read_excel(str(Location_dic)+\"\\\\\"+str(file_dic)+\".xlsx\", sheet_name='Allowance for com and con', header=0)\n",
    "dic_allw_cnc.columns = dic_allw_cnc.columns.str.replace(\"\\n\", \"_\").str.replace(\" \", \"_\")\n",
    "\n",
    "dic_allw_invsec = pd.read_excel(str(Location_dic)+\"\\\\\"+str(file_dic)+\".xlsx\", sheet_name='Allowance on investment sec', header=0)\n",
    "dic_allw_invsec.columns = dic_allw_invsec.columns.str.replace(\"\\n\", \"_\").str.replace(\" \", \"_\")\n",
    "\n",
    "dic_allw_sundry = pd.read_excel(str(Location_dic)+\"\\\\\"+str(file_dic)+\".xlsx\", sheet_name='General allowance -Sundry debt', header=0)\n",
    "dic_allw_sundry.columns = dic_allw_sundry.columns.str.replace(\"\\n\", \"_\").str.replace(\" \", \"_\")\n",
    "\n",
    "dic_sur_tkfl = pd.read_excel(str(Location_dic)+\"\\\\\"+str(file_dic)+\".xlsx\", sheet_name='Less_ Surplus attributable', header=0)\n",
    "dic_sur_tkfl.columns = dic_sur_tkfl.columns.str.replace(\"\\n\", \"_\").str.replace(\" \", \"_\")\n",
    "\n",
    "tax = pd.read_excel(str(Location_dic)+\"\\\\\"+str(file_dic)+\".xlsx\", sheet_name='Taxation', header=0)\n",
    "tax.columns = tax.columns.str.replace(\"\\n\", \"_\").str.replace(\" \", \"_\")\n",
    "\n",
    "conv = pd.read_excel(str(Location_dic)+\"\\\\\"+str(file_dic)+\".xlsx\", sheet_name='Conventional', header=0)\n",
    "conv.columns = conv.columns.str.replace(\"\\n\", \"_\").str.replace(\" \", \"_\")\n",
    "\n",
    "isl = pd.read_excel(str(Location_dic)+\"\\\\\"+str(file_dic)+\".xlsx\", sheet_name='Islamic', header=0)\n",
    "isl.columns = isl.columns.str.replace(\"\\n\", \"_\").str.replace(\" \", \"_\")"
   ]
  },
  {
   "cell_type": "code",
   "execution_count": 3,
   "id": "97921f93-5152-446c-8ad3-fb90bbd3577a",
   "metadata": {},
   "outputs": [],
   "source": [
    "#----------------------------------------------Keyin-------------------------------------------------------------\n",
    "\n",
    "Income_curr_raw1 = Income_curr_raw.iloc[np.where(~Income_curr_raw['GL_no.'].isna())]\n",
    "\n",
    "Income_curr_raw1 = Income_curr_raw1[['GL_no.','Unnamed:_7','Unnamed:_10']].\\\n",
    "    rename(columns={'GL_no.': 'GL_Code_',\\\n",
    "                    'Unnamed:_10':'YTD '+str(Income_curr[21:]),\\\n",
    "                    'Unnamed:_7':'GL_Category'}).fillna(0)\n",
    "\n",
    "Income_curr_raw1.GL_Code_ = Income_curr_raw1.GL_Code_.astype(str)\n",
    "Income_curr_raw1.GL_Category = Income_curr_raw1.GL_Category.astype(str)\n",
    "Income_curr_raw1['YTD '+str(Income_curr[21:])] = Income_curr_raw1['YTD '+str(Income_curr[21:])].astype(float)"
   ]
  },
  {
   "cell_type": "code",
   "execution_count": 4,
   "id": "6f2cecc5-6187-4bc6-abb6-2321853160cc",
   "metadata": {
    "scrolled": true
   },
   "outputs": [],
   "source": [
    "#Income_curr_keyin1 = Income_curr_keyin.iloc[np.where(~Income_curr_keyin['GL_Code_'].isna())][['GL_Code_','GL_Category']]\n",
    "\n",
    "dic_keyin1 = dic_keyin.iloc[np.where(~dic_keyin['GL_Code_'].isna())].fillna(0)\n",
    "\n",
    "dic_keyin1.GL_Code_ = dic_keyin1.GL_Code_.astype(str)\n",
    "dic_keyin1.GL_Category = dic_keyin1.GL_Category.astype(str)\n",
    "\n",
    "dic_keyin1 = dic_keyin1.drop_duplicates('GL_Code_', keep='first')\n",
    "\n",
    "keyin = dic_keyin1.merge(Income_curr_raw1[['GL_Code_','YTD '+str(Income_curr[21:])]],on=['GL_Code_'],how='left').fillna(0)\n"
   ]
  },
  {
   "cell_type": "code",
   "execution_count": 5,
   "id": "1052635d-0206-481c-b82f-50707c48657a",
   "metadata": {},
   "outputs": [],
   "source": [
    "#----------------------------------------------Op Rev-------------------------------------------------------------\n",
    "\n",
    "dic_op_rev1 = dic_op_rev.iloc[np.where(~dic_op_rev['GL_Code_'].isna())].fillna(0)\n",
    "\n",
    "dic_op_rev1.GL_Code_ = dic_op_rev1.GL_Code_.astype(int)\n",
    "dic_op_rev1.GL_Code_ = dic_op_rev1.GL_Code_.astype(str)\n",
    "\n",
    "dic_op_rev1 = dic_op_rev1.drop_duplicates('GL_Code_', keep='first')\n",
    "\n",
    "OpRev = dic_op_rev1.merge(Income_curr_raw1[['GL_Code_','YTD '+str(Income_curr[21:])]],on=['GL_Code_'],how='left').fillna(0)\n",
    "\n",
    "OpRev['YTD '+str(Income_curr[21:])] = OpRev['YTD '+str(Income_curr[21:])]*-1"
   ]
  },
  {
   "cell_type": "code",
   "execution_count": 6,
   "id": "e1855891-408d-4625-9675-41f2f708495a",
   "metadata": {},
   "outputs": [],
   "source": [
    "OpRev1 = OpRev.fillna(0).groupby(['Class'])[['YTD '+str(Income_curr[21:])]].sum().reset_index() #,'Business_Unit'"
   ]
  },
  {
   "cell_type": "code",
   "execution_count": null,
   "id": "dbf20f63-2809-498b-9ce1-48aa67ffb135",
   "metadata": {},
   "outputs": [],
   "source": []
  },
  {
   "cell_type": "code",
   "execution_count": 7,
   "id": "6af747b4-756f-42aa-a4f6-5078c1973dfe",
   "metadata": {},
   "outputs": [],
   "source": [
    "#----------------------------------------------Int Inc-------------------------------------------------------------\n",
    "\n",
    "dic_int_inc1 = dic_int_inc.iloc[np.where(~dic_int_inc['GL_Code_'].isna())].fillna(0)\n",
    "\n",
    "dic_int_inc1.GL_Code_ = dic_int_inc1.GL_Code_.astype(int)\n",
    "dic_int_inc1.GL_Code_ = dic_int_inc1.GL_Code_.astype(str)\n",
    "\n",
    "dic_int_inc1 = dic_int_inc1.drop_duplicates('GL_Code_', keep='first')\n",
    "\n",
    "IntInc = dic_int_inc1.merge(Income_curr_raw1[['GL_Code_','YTD '+str(Income_curr[21:])]],on=['GL_Code_'],how='left').fillna(0)\n",
    "\n",
    "IntInc['YTD '+str(Income_curr[21:])] = IntInc['YTD '+str(Income_curr[21:])]*-1"
   ]
  },
  {
   "cell_type": "code",
   "execution_count": 8,
   "id": "24bea5e2-ddf2-4abe-8234-ed590f50276d",
   "metadata": {},
   "outputs": [],
   "source": [
    "IntInc1 = IntInc.fillna(0).groupby(['Class'])[['YTD '+str(Income_curr[21:])]].sum().reset_index() #,'Business_Unit'"
   ]
  },
  {
   "cell_type": "code",
   "execution_count": null,
   "id": "2914937b-bf62-4783-b889-9ba00794d0e1",
   "metadata": {},
   "outputs": [],
   "source": []
  },
  {
   "cell_type": "code",
   "execution_count": 9,
   "id": "20e71500-75ae-4b57-9b77-a9ad66af5a27",
   "metadata": {},
   "outputs": [],
   "source": [
    "#----------------------------------------------Int Exp-------------------------------------------------------------\n",
    "\n",
    "dic_int_exp1 = dic_int_exp.iloc[np.where(~dic_int_exp['GL_Code_'].isna())].fillna(0)\n",
    "\n",
    "dic_int_exp1.GL_Code_ = dic_int_exp1.GL_Code_.astype(int)\n",
    "dic_int_exp1.GL_Code_ = dic_int_exp1.GL_Code_.astype(str)\n",
    "\n",
    "dic_int_exp1 = dic_int_exp1.drop_duplicates('GL_Code_', keep='first')\n",
    "\n",
    "IntExp = dic_int_exp1.merge(Income_curr_raw1[['GL_Code_','YTD '+str(Income_curr[21:])]],on=['GL_Code_'],how='left').fillna(0)\n",
    "\n",
    "IntExp['YTD '+str(Income_curr[21:])] = IntExp['YTD '+str(Income_curr[21:])]*-1"
   ]
  },
  {
   "cell_type": "code",
   "execution_count": 10,
   "id": "b76609d4-2803-410d-9c9f-5d18dcfb73c4",
   "metadata": {},
   "outputs": [],
   "source": [
    "IntExp1 = IntExp.fillna(0).groupby(['Class'])[['YTD '+str(Income_curr[21:])]].sum().reset_index() #,'Business_Unit'"
   ]
  },
  {
   "cell_type": "code",
   "execution_count": null,
   "id": "608e61a5-d97b-4fe4-b252-795a4a58aaf8",
   "metadata": {},
   "outputs": [],
   "source": []
  },
  {
   "cell_type": "code",
   "execution_count": 11,
   "id": "478a9bef-e51c-478f-8307-5784f2c5dcba",
   "metadata": {
    "scrolled": true
   },
   "outputs": [],
   "source": [
    "frames = [OpRev1, IntInc1, IntExp1] \n",
    "appendR = pd.concat(frames)\n"
   ]
  },
  {
   "cell_type": "code",
   "execution_count": 12,
   "id": "3988ec64-23ec-4a7c-8b70-6978b6f7c9af",
   "metadata": {},
   "outputs": [],
   "source": [
    "appendR.set_index('Class', inplace=True)\n",
    "\n",
    "b = appendR.T\n",
    "b['Net Interest Income'] = b['Interest Income'] + b['Interest Expense']\n",
    "\n",
    "c = b.T\n",
    "newdf =c.reset_index()"
   ]
  },
  {
   "cell_type": "code",
   "execution_count": null,
   "id": "c8521a70-3a59-4ef8-b59b-6817ead49ea3",
   "metadata": {},
   "outputs": [],
   "source": []
  },
  {
   "cell_type": "code",
   "execution_count": 13,
   "id": "e3d5b2b1-b67b-4f0a-8b47-c60b872ec9ad",
   "metadata": {
    "scrolled": true
   },
   "outputs": [],
   "source": [
    "#----------------------------------------------Underwriting/Takaful results-------------------------------------------------------------\n",
    "\n",
    "dic_undwr_tkfl1 = dic_undwr_tkfl.iloc[np.where(~dic_undwr_tkfl['GL_Code_'].isna())].fillna(0)\n",
    "\n",
    "#dic_undwr_tkfl1.GL_Code_ = dic_undwr_tkfl1.GL_Code_.astype(int)\n",
    "dic_undwr_tkfl1.GL_Code_ = dic_undwr_tkfl1.GL_Code_.astype(str)\n",
    "\n",
    "dic_undwr_tkfl1 = dic_undwr_tkfl1.drop_duplicates('GL_Code_', keep='first')\n",
    "\n",
    "UndwrTkfl = dic_undwr_tkfl1.merge(Income_curr_raw1[['GL_Code_','YTD '+str(Income_curr[21:])]],on=['GL_Code_'],how='left').fillna(0)\n",
    "\n",
    "UndwrTkfl['YTD '+str(Income_curr[21:])] = UndwrTkfl['YTD '+str(Income_curr[21:])]*-1\n",
    "\n",
    "UndwrTkfl1 = UndwrTkfl.fillna(0).groupby(['Class'])[['YTD '+str(Income_curr[21:])]].sum().reset_index() #,'Business_Unit'"
   ]
  },
  {
   "cell_type": "code",
   "execution_count": 14,
   "id": "00313ad2-f3cd-4cf4-aae5-adf0f1c7d6ed",
   "metadata": {},
   "outputs": [],
   "source": [
    "#----------------------------------------------Income from Islamic Businesses-------------------------------------------------------------\n",
    "\n",
    "dic_inc_isl_biz1 = dic_inc_isl_biz.iloc[np.where(~dic_inc_isl_biz['GL_Code_'].isna())].fillna(0)\n",
    "dic_inc_isl_biz1 = dic_inc_isl_biz1.iloc[np.where(~dic_inc_isl_biz1.GL_Description_2.isin(['Forex loss/gain realised','Forex loss/gain unrealised']))]\n",
    "\n",
    "dic_inc_isl_biz1.GL_Code_ = dic_inc_isl_biz1.GL_Code_.astype(int)\n",
    "dic_inc_isl_biz1.GL_Code_ = dic_inc_isl_biz1.GL_Code_.astype(str)\n",
    "\n",
    "#dic_inc_isl_biz1 = dic_inc_isl_biz1.drop_duplicates('GL_Code_', keep='first')\n",
    "\n",
    "IncIslBiz = dic_inc_isl_biz1.merge(Income_curr_raw1[['GL_Code_','YTD '+str(Income_curr[21:])]],on=['GL_Code_'],how='left').fillna(0)\n",
    "\n",
    "IncIslBiz['YTD '+str(Income_curr[21:])] = IncIslBiz['YTD '+str(Income_curr[21:])]*-1\n",
    "\n",
    "#unwind\n",
    "IncIslBiz.loc[IncIslBiz.GL_Code_ == '5500306' , 'GL_Description_2'] = 'Other Income'\n",
    "\n",
    "IncIslBiz1 = IncIslBiz.fillna(0).groupby(['Class'])[['YTD '+str(Income_curr[21:])]].sum().reset_index() #,'Business_Unit"
   ]
  },
  {
   "cell_type": "code",
   "execution_count": 15,
   "id": "57e4caba-7ea3-4b57-8f83-155b76ec48c8",
   "metadata": {},
   "outputs": [],
   "source": [
    "#----------------------------------------------Other Income-------------------------------------------------------------\n",
    "\n",
    "dic_oth_inc1 = dic_oth_inc.iloc[np.where(~dic_oth_inc['GL_Code_'].isna())].fillna(0)\n",
    "\n",
    "dic_oth_inc1.GL_Code_ = dic_oth_inc1.GL_Code_.astype(int)\n",
    "dic_oth_inc1.GL_Code_ = dic_oth_inc1.GL_Code_.astype(str)\n",
    "\n",
    "#dic_inc_isl_biz1 = dic_inc_isl_biz1.drop_duplicates('GL_Code_', keep='first')\n",
    "\n",
    "OthInc = dic_oth_inc1.merge(Income_curr_raw1[['GL_Code_','YTD '+str(Income_curr[21:])]],on=['GL_Code_'],how='left').fillna(0)\n",
    "\n",
    "OthInc['YTD '+str(Income_curr[21:])] = OthInc['YTD '+str(Income_curr[21:])]*-1\n",
    "\n",
    "OthInc1 = OthInc.fillna(0).groupby(['Class'])[['YTD '+str(Income_curr[21:])]].sum().reset_index() #,'Business_Unit"
   ]
  },
  {
   "cell_type": "code",
   "execution_count": 16,
   "id": "d12f265a-a911-4030-abb8-c140c7bb5de0",
   "metadata": {},
   "outputs": [],
   "source": [
    "appendnew = pd.concat([newdf, UndwrTkfl1, IncIslBiz1, OthInc1] )\n",
    "\n",
    "appendnew.set_index('Class', inplace=True)\n",
    "\n",
    "la = appendnew.T\n",
    "la['Net Income'] = la['Net Interest Income'] + la['Underwriting/Takaful results'] + la['Income from Islamic business'] + la['Other income']\n",
    "\n",
    "la1 = la.T\n",
    "newdf1 =la1.reset_index()"
   ]
  },
  {
   "cell_type": "code",
   "execution_count": 17,
   "id": "ad509317-0ad2-49a7-b39c-0bb3dff18d51",
   "metadata": {},
   "outputs": [],
   "source": [
    "#----------------------------------------------Overhead expenses-------------------------------------------------------------\n",
    "\n",
    "dic_ovh_exp1 = dic_ovh_exp.iloc[np.where(~dic_ovh_exp['GL_Code_'].isna())].fillna(0)\n",
    "\n",
    "dic_ovh_exp1.GL_Code_ = dic_ovh_exp1.GL_Code_.astype(int)\n",
    "dic_ovh_exp1.GL_Code_ = dic_ovh_exp1.GL_Code_.astype(str)\n",
    "\n",
    "dic_ovh_exp1 = dic_ovh_exp1.drop_duplicates('GL_Code_', keep='last')\n",
    "\n",
    "OvhExp = dic_ovh_exp1.merge(Income_curr_raw1[['GL_Code_','YTD '+str(Income_curr[21:])]],on=['GL_Code_'],how='left').fillna(0)\n",
    "\n",
    "OvhExp['YTD '+str(Income_curr[21:])] = OvhExp['YTD '+str(Income_curr[21:])]*-1\n",
    "\n",
    "OvhExp1 = OvhExp.fillna(0).groupby(['Class'])[['YTD '+str(Income_curr[21:])]].sum().reset_index() #,'Business_Unit"
   ]
  },
  {
   "cell_type": "code",
   "execution_count": null,
   "id": "a13315b5-bbe7-4e44-ab1c-4c310db96b54",
   "metadata": {},
   "outputs": [],
   "source": []
  },
  {
   "cell_type": "code",
   "execution_count": 18,
   "id": "30711100-60fd-4a29-9565-d72c20f072d6",
   "metadata": {
    "scrolled": true
   },
   "outputs": [],
   "source": [
    "appendnew1 = pd.concat([newdf1, OvhExp1] )\n",
    "\n",
    "appendnew1.set_index('Class', inplace=True)\n",
    "\n",
    "laa = appendnew1.T\n",
    "laa['Operating profit/loss'] = laa['Net Income'] + laa['Overhead expenses']\n",
    "\n",
    "laa1 = laa.T\n",
    "newdf2 =laa1.reset_index()"
   ]
  },
  {
   "cell_type": "code",
   "execution_count": 19,
   "id": "1289b779-df70-4df2-a38e-4d77afe07558",
   "metadata": {},
   "outputs": [],
   "source": [
    "#----------------------------------------------Allowances for losses on loans & financing -------------------------------------------------------------\n",
    "\n",
    "dic_allw_laf1 = dic_allw_laf.iloc[np.where(~dic_allw_laf['GL_Code_'].isna())].fillna(0)\n",
    "\n",
    "dic_allw_laf1.GL_Code_ = dic_allw_laf1.GL_Code_.astype(int)\n",
    "dic_allw_laf1.GL_Code_ = dic_allw_laf1.GL_Code_.astype(str)\n",
    "\n",
    "#dic_inc_isl_biz1 = dic_inc_isl_biz1.drop_duplicates('GL_Code_', keep='first')\n",
    "\n",
    "AllwLaf = dic_allw_laf1.merge(Income_curr_raw1[['GL_Code_','YTD '+str(Income_curr[21:])]],on=['GL_Code_'],how='left').fillna(0)\n",
    "\n",
    "AllwLaf['YTD '+str(Income_curr[21:])] = AllwLaf['YTD '+str(Income_curr[21:])]*-1\n",
    "\n",
    "AllwLaf1 = AllwLaf.fillna(0).groupby(['Class'])[['YTD '+str(Income_curr[21:])]].sum().reset_index() #,'Business_Unit"
   ]
  },
  {
   "cell_type": "code",
   "execution_count": 20,
   "id": "3d14b9b0-ca27-4040-b9e2-c91c7f021634",
   "metadata": {},
   "outputs": [],
   "source": [
    "#----------------------------------------------Allowance for diminution in value of investment in subsidiaries  -------------------------------------------------------------\n",
    "\n",
    "dic_allw_dim1 = dic_allw_dim.iloc[np.where(~dic_allw_dim['GL_Code_'].isna())].fillna(0)\n",
    "\n",
    "dic_allw_dim1.GL_Code_ = dic_allw_dim1.GL_Code_.astype(int)\n",
    "dic_allw_dim1.GL_Code_ = dic_allw_dim1.GL_Code_.astype(str)\n",
    "\n",
    "#dic_inc_isl_biz1 = dic_inc_isl_biz1.drop_duplicates('GL_Code_', keep='first')\n",
    "\n",
    "AllwDim = dic_allw_dim1.merge(Income_curr_raw1[['GL_Code_','YTD '+str(Income_curr[21:])]],on=['GL_Code_'],how='left').fillna(0)\n",
    "\n",
    "AllwDim['YTD '+str(Income_curr[21:])] = AllwDim['YTD '+str(Income_curr[21:])]*-1\n",
    "\n",
    "AllwDim1 = AllwDim.fillna(0).groupby(['Class'])[['YTD '+str(Income_curr[21:])]].sum().reset_index() #,'Business_Unit"
   ]
  },
  {
   "cell_type": "code",
   "execution_count": 21,
   "id": "5f983f6e-3d98-4457-a94a-91a9d0948ca5",
   "metadata": {},
   "outputs": [],
   "source": [
    "#----------------------------------------------Allowance for commitments and contingencies  -------------------------------------------------------------\n",
    "\n",
    "dic_allw_cnc1 = dic_allw_cnc.iloc[np.where(~dic_allw_cnc['GL_Code_'].isna())].fillna(0)\n",
    "\n",
    "dic_allw_cnc1.GL_Code_ = dic_allw_cnc1.GL_Code_.astype(int)\n",
    "dic_allw_cnc1.GL_Code_ = dic_allw_cnc1.GL_Code_.astype(str)\n",
    "\n",
    "#dic_inc_isl_biz1 = dic_inc_isl_biz1.drop_duplicates('GL_Code_', keep='first')\n",
    "\n",
    "AllwCnC = dic_allw_cnc1.merge(Income_curr_raw1[['GL_Code_','YTD '+str(Income_curr[21:])]],on=['GL_Code_'],how='left').fillna(0)\n",
    "\n",
    "AllwCnC['YTD '+str(Income_curr[21:])] = AllwCnC['YTD '+str(Income_curr[21:])]*-1\n",
    "\n",
    "AllwCnC1 = AllwCnC.fillna(0).groupby(['Class'])[['YTD '+str(Income_curr[21:])]].sum().reset_index() #,'Business_Unit"
   ]
  },
  {
   "cell_type": "code",
   "execution_count": 22,
   "id": "93538028-c1ec-4eb7-b6c7-8bd890ceeca3",
   "metadata": {},
   "outputs": [],
   "source": [
    "#----------------------------------------------Allowance on investment securities  -------------------------------------------------------------\n",
    "\n",
    "dic_allw_invsec1 = dic_allw_invsec.iloc[np.where(~dic_allw_invsec['GL_Code_'].isna())].fillna(0)\n",
    "\n",
    "dic_allw_invsec1.GL_Code_ = dic_allw_invsec1.GL_Code_.astype(int)\n",
    "dic_allw_invsec1.GL_Code_ = dic_allw_invsec1.GL_Code_.astype(str)\n",
    "\n",
    "#dic_inc_isl_biz1 = dic_inc_isl_biz1.drop_duplicates('GL_Code_', keep='first')\n",
    "\n",
    "AllwInvSec = dic_allw_invsec1.merge(Income_curr_raw1[['GL_Code_','YTD '+str(Income_curr[21:])]],on=['GL_Code_'],how='left').fillna(0)\n",
    "\n",
    "AllwInvSec['YTD '+str(Income_curr[21:])] = AllwInvSec['YTD '+str(Income_curr[21:])]*-1\n",
    "\n",
    "AllwInvSec1 = AllwInvSec.fillna(0).groupby(['Class'])[['YTD '+str(Income_curr[21:])]].sum().reset_index() #,'Business_Unit"
   ]
  },
  {
   "cell_type": "code",
   "execution_count": 23,
   "id": "36d55274-5b06-42b7-9b0f-ea51b63d14b8",
   "metadata": {},
   "outputs": [],
   "source": [
    "#---------------------------------------------General allowance -Sundry debtors-------------------------------------------------------------\n",
    "\n",
    "dic_allw_sundry1 = dic_allw_sundry.iloc[np.where(~dic_allw_sundry['GL_Code_'].isna())].fillna(0)\n",
    "\n",
    "dic_allw_sundry1.GL_Code_ = dic_allw_sundry1.GL_Code_.astype(int)\n",
    "dic_allw_sundry1.GL_Code_ = dic_allw_sundry1.GL_Code_.astype(str)\n",
    "\n",
    "#dic_inc_isl_biz1 = dic_inc_isl_biz1.drop_duplicates('GL_Code_', keep='first')\n",
    "\n",
    "AllwInvSun = dic_allw_sundry1.merge(Income_curr_raw1[['GL_Code_','YTD '+str(Income_curr[21:])]],on=['GL_Code_'],how='left').fillna(0)\n",
    "\n",
    "AllwInvSun['YTD '+str(Income_curr[21:])] = AllwInvSun['YTD '+str(Income_curr[21:])]*-1\n",
    "\n",
    "AllwInvSun1 = AllwInvSun.fillna(0).groupby(['Class'])[['YTD '+str(Income_curr[21:])]].sum().reset_index() #,'Business_Unit"
   ]
  },
  {
   "cell_type": "code",
   "execution_count": 24,
   "id": "5c01644c-c615-4cb7-9dd1-aa15b9deb811",
   "metadata": {
    "scrolled": true
   },
   "outputs": [],
   "source": [
    "appendnew2 = pd.concat([newdf2, AllwLaf1, AllwDim1, AllwCnC1, AllwInvSec1, AllwInvSun1] )\n",
    "\n",
    "appendnew2.set_index('Class', inplace=True)\n",
    "\n",
    "laaa = appendnew2.T\n",
    "laaa['Profit/Loss before taxation'] = laaa['Operating profit/loss'] + laaa['Allowances for losses on loans & financing']+ laaa['Allowance for diminution in value of investment in subsidiaries ']+ laaa['Allowance for commitments and contingencies']+ laaa['Allowance on investment securities']+ laaa['General allowance -Sundry debtors']\n",
    "\n",
    "laaa1 = laaa.T\n",
    "newdf3 =laaa1.reset_index()"
   ]
  },
  {
   "cell_type": "code",
   "execution_count": 25,
   "id": "953482cb-9d6a-4542-9c01-9bfeccfff46d",
   "metadata": {
    "scrolled": true
   },
   "outputs": [],
   "source": [
    "#---------------------------------------------Less: Surplus attributable from Takaful Participants-------------------------------------------------------------\n",
    "\n",
    "dic_sur_tkfl1 = dic_sur_tkfl.iloc[np.where(~dic_sur_tkfl['GL_Code_'].isna())].fillna(0)\n",
    "\n",
    "#dic_sur_tkfl1.GL_Code_ = dic_sur_tkfl1.GL_Code_.astype(int)\n",
    "dic_sur_tkfl1.GL_Code_ = dic_sur_tkfl1.GL_Code_.astype(str)\n",
    "\n",
    "#dic_inc_isl_biz1 = dic_inc_isl_biz1.drop_duplicates('GL_Code_', keep='first')\n",
    "\n",
    "SurTfkl = dic_sur_tkfl1.merge(Income_curr_raw1[['GL_Code_','YTD '+str(Income_curr[21:])]],on=['GL_Code_'],how='left').fillna(0)\n",
    "\n",
    "#SurTfkl['YTD '+str(Income_curr[21:])] = SurTfkl['YTD '+str(Income_curr[21:])]*-1\n",
    "\n",
    "SurTfkl1 = SurTfkl.fillna(0).groupby(['Class'])[['YTD '+str(Income_curr[21:])]].sum().reset_index() #,'Business_Unit"
   ]
  },
  {
   "cell_type": "code",
   "execution_count": 26,
   "id": "1ff4f16f-8cb5-459e-b2fc-be827c0e42b5",
   "metadata": {},
   "outputs": [],
   "source": [
    "#---------------------------------------------Taxation-------------------------------------------------------------\n",
    "\n",
    "tax1 = tax.iloc[np.where(~tax['GL_Code_'].isna())].fillna(0)\n",
    "\n",
    "tax1.GL_Code_ = tax1.GL_Code_.astype(int)\n",
    "tax1.GL_Code_ = tax1.GL_Code_.astype(str)\n",
    "\n",
    "#dic_inc_isl_biz1 = dic_inc_isl_biz1.drop_duplicates('GL_Code_', keep='first')\n",
    "\n",
    "TAXX = tax1.merge(Income_curr_raw1[['GL_Code_','YTD '+str(Income_curr[21:])]],on=['GL_Code_'],how='left').fillna(0)\n",
    "\n",
    "TAXX['YTD '+str(Income_curr[21:])] = TAXX['YTD '+str(Income_curr[21:])]*-1\n",
    "\n",
    "#dividen expense\n",
    "TAXX = TAXX.iloc[np.where(TAXX.GL_Code_!=\"530001\")]\n",
    "\n",
    "TAXX1 = TAXX.fillna(0).groupby(['Class'])[['YTD '+str(Income_curr[21:])]].sum().reset_index() #,'Business_Unit"
   ]
  },
  {
   "cell_type": "code",
   "execution_count": 27,
   "id": "3a76166c-a321-4a1f-a8a9-ca34c7f541f5",
   "metadata": {
    "scrolled": true
   },
   "outputs": [],
   "source": [
    "appendnew3 = pd.concat([newdf3, SurTfkl1, TAXX1] )\n",
    "\n",
    "appendnew3.set_index('Class', inplace=True)\n",
    "\n",
    "laaaa = appendnew3.T\n",
    "laaaa['Net Profit/Loss fo the year'] = laaaa['Profit/Loss before taxation'] + laaaa['Less: Surplus attributable from Takaful Participants']+\\\n",
    "laaaa['Taxation']+ laaaa['Zakat']\n",
    "\n",
    "laaaa1 = laaaa.T\n",
    "newdf4 =laaaa1.reset_index()"
   ]
  },
  {
   "cell_type": "code",
   "execution_count": 28,
   "id": "836b0a7e-161f-44fb-841c-63aa607c5bb3",
   "metadata": {},
   "outputs": [],
   "source": [
    "#writer2 = pd.ExcelWriter(r'C:\\Users\\syahidhalid\\Syahid_PC\\Analytics - FAD\\06. Management Account\\\\Income Statement '+str(Income_curr[21:])+' (python).xlsx',engine='xlsxwriter')\n",
    "\n",
    "#newdf4.to_excel(writer2, sheet_name='Profit Loss', index = False)\n",
    "\n",
    "#writer2._save()"
   ]
  },
  {
   "cell_type": "code",
   "execution_count": null,
   "id": "78baac79-c4de-4dce-9997-c9921ff19a13",
   "metadata": {},
   "outputs": [],
   "source": [
    "newdf4"
   ]
  },
  {
   "cell_type": "code",
   "execution_count": null,
   "id": "3a6c50fb-6810-4434-875a-207073b29268",
   "metadata": {},
   "outputs": [],
   "source": []
  },
  {
   "cell_type": "code",
   "execution_count": null,
   "id": "c7cecb21-ee9d-4471-b2c0-b69c0c9f8f08",
   "metadata": {},
   "outputs": [],
   "source": []
  },
  {
   "cell_type": "code",
   "execution_count": null,
   "id": "81f93ff4-5a2f-4fd7-a853-cf2a69f48f82",
   "metadata": {},
   "outputs": [],
   "source": []
  },
  {
   "cell_type": "code",
   "execution_count": null,
   "id": "1e61f83f-12ed-4270-ac8f-b9941048b743",
   "metadata": {},
   "outputs": [],
   "source": []
  },
  {
   "cell_type": "code",
   "execution_count": null,
   "id": "237520ae-d361-422f-8001-9fcf3b9d794b",
   "metadata": {},
   "outputs": [],
   "source": [
    "#---------------------------------------------Conventional-------------------------------------------------------------\n",
    "\n",
    "conv1 = conv.iloc[np.where(~conv['GL_Code_'].isna())].fillna(0)\n",
    "\n",
    "conv1.GL_Code_ = conv1.GL_Code_.astype(int)\n",
    "conv1.GL_Code_ = conv1.GL_Code_.astype(str)\n",
    "\n",
    "#dic_inc_isl_biz1 = dic_inc_isl_biz1.drop_duplicates('GL_Code_', keep='first')\n",
    "\n",
    "CONVV = conv1.merge(Income_curr_raw1[['GL_Code_','YTD '+str(Income_curr[21:])]],on=['GL_Code_'],how='left').fillna(0)\n",
    "\n",
    "#CONVV['YTD '+str(Income_curr[21:])] = CONVV['YTD '+str(Income_curr[21:])]*-1\n",
    "\n",
    "CONVV = CONVV.iloc[np.where(~CONVV.GL_Code_.isin([\"530001\",\"4420709\",\n",
    "\"4420712\",\"4420710\",\n",
    "\"4420713\",\n",
    "\"4420719\",\n",
    "\"4420726\",\n",
    "\"4420730\",\n",
    "\"4420725\"]))]\n",
    "\n",
    "CONVV1 = CONVV.fillna(0).groupby(['Class'])[['YTD '+str(Income_curr[21:])]].sum().reset_index() #,'Business_Unit"
   ]
  },
  {
   "cell_type": "code",
   "execution_count": null,
   "id": "734ff81e-d337-431e-b8bc-b27e0d65cd4d",
   "metadata": {},
   "outputs": [],
   "source": [
    "#---------------------------------------------Islamic-------------------------------------------------------------\n",
    "\n",
    "isl1 = isl.iloc[np.where(~isl['GL_Code_'].isna())].fillna(0)\n",
    "\n",
    "isl1.GL_Code_ = isl1.GL_Code_.astype(int)\n",
    "isl1.GL_Code_ = isl1.GL_Code_.astype(str)\n",
    "\n",
    "#dic_inc_isl_biz1 = dic_inc_isl_biz1.drop_duplicates('GL_Code_', keep='first')\n",
    "\n",
    "ISLL = isl1.merge(Income_curr_raw1[['GL_Code_','YTD '+str(Income_curr[21:])]],on=['GL_Code_'],how='left').fillna(0)\n",
    "\n",
    "#ISLL['YTD '+str(Income_curr[21:])] = ISLL['YTD '+str(Income_curr[21:])]*-1\n",
    "\n",
    "ISLL = ISLL.iloc[np.where(~ISLL.GL_Code_.isin([\"530001\",\"4420709\",\n",
    "\"4420712\",\"4420710\",\n",
    "\"4420713\",\n",
    "\"4420719\",\n",
    "\"4420726\",\n",
    "\"4420730\",\n",
    "\"4420725\"]))]\n",
    "\n",
    "ISLL1 = ISLL.fillna(0).groupby(['Class'])[['YTD '+str(Income_curr[21:])]].sum().reset_index() #,'Business_Unit"
   ]
  },
  {
   "cell_type": "code",
   "execution_count": null,
   "id": "068b17c7-ae69-476e-b130-164df469e165",
   "metadata": {},
   "outputs": [],
   "source": [
    "ISLL1"
   ]
  },
  {
   "cell_type": "code",
   "execution_count": null,
   "id": "d314acca-3332-4b92-a296-7f5c65bc6ed7",
   "metadata": {},
   "outputs": [],
   "source": [
    "CONVV1"
   ]
  },
  {
   "cell_type": "code",
   "execution_count": null,
   "id": "d328785b-b4cf-449f-81ef-a7e5a6ce1a4f",
   "metadata": {
    "scrolled": true
   },
   "outputs": [],
   "source": []
  },
  {
   "cell_type": "code",
   "execution_count": null,
   "id": "2336b4f4-608a-4139-836c-ad60f76f2e06",
   "metadata": {},
   "outputs": [],
   "source": [
    "#===========================islamic\n",
    "\n",
    "#1. OpDec.Business_Category == Islamic\n",
    "#2. Income derived from Islamic Banking fund is GL_Description_2 == Banking + Other Income\n",
    "#3. Financing cost is IncIslBiz == Financing cost\n",
    "#4. sum of 1 2 3 is Net income from islamic banking fund"
   ]
  },
  {
   "cell_type": "code",
   "execution_count": 30,
   "id": "7529eddd-ed38-4ee3-9e5f-a03a710f1720",
   "metadata": {},
   "outputs": [],
   "source": [
    "test = OpRev.groupby(['Business_Category'])[['YTD Apr 2024']].sum().reset_index()"
   ]
  },
  {
   "cell_type": "code",
   "execution_count": 31,
   "id": "f3aad99a-807c-472e-b4f5-c05888a84959",
   "metadata": {},
   "outputs": [
    {
     "data": {
      "text/html": [
       "<div>\n",
       "<style scoped>\n",
       "    .dataframe tbody tr th:only-of-type {\n",
       "        vertical-align: middle;\n",
       "    }\n",
       "\n",
       "    .dataframe tbody tr th {\n",
       "        vertical-align: top;\n",
       "    }\n",
       "\n",
       "    .dataframe thead th {\n",
       "        text-align: right;\n",
       "    }\n",
       "</style>\n",
       "<table border=\"1\" class=\"dataframe\">\n",
       "  <thead>\n",
       "    <tr style=\"text-align: right;\">\n",
       "      <th></th>\n",
       "      <th>Business_Category</th>\n",
       "      <th>YTD Apr 2024</th>\n",
       "    </tr>\n",
       "  </thead>\n",
       "  <tbody>\n",
       "    <tr>\n",
       "      <th>0</th>\n",
       "      <td>Conventional</td>\n",
       "      <td>4.96e+07</td>\n",
       "    </tr>\n",
       "    <tr>\n",
       "      <th>1</th>\n",
       "      <td>Islamic</td>\n",
       "      <td>4.10e+07</td>\n",
       "    </tr>\n",
       "    <tr>\n",
       "      <th>2</th>\n",
       "      <td>Takaful</td>\n",
       "      <td>4.99e+05</td>\n",
       "    </tr>\n",
       "  </tbody>\n",
       "</table>\n",
       "</div>"
      ],
      "text/plain": [
       "  Business_Category  YTD Apr 2024\n",
       "0      Conventional      4.96e+07\n",
       "1           Islamic      4.10e+07\n",
       "2           Takaful      4.99e+05"
      ]
     },
     "execution_count": 31,
     "metadata": {},
     "output_type": "execute_result"
    }
   ],
   "source": [
    "test"
   ]
  },
  {
   "cell_type": "code",
   "execution_count": 33,
   "id": "d3a7bfb3-ac0f-4f25-acf3-29f91b78885c",
   "metadata": {},
   "outputs": [],
   "source": [
    "test2 = IncIslBiz.iloc[np.where(IncIslBiz.GL_Description_2.isin(['Banking','Other Income']))].groupby(['GL_Description_2'])[['YTD Apr 2024']].sum().reset_index()"
   ]
  },
  {
   "cell_type": "code",
   "execution_count": 34,
   "id": "57e89b44-36e1-4354-b458-de0537508528",
   "metadata": {},
   "outputs": [
    {
     "data": {
      "text/html": [
       "<div>\n",
       "<style scoped>\n",
       "    .dataframe tbody tr th:only-of-type {\n",
       "        vertical-align: middle;\n",
       "    }\n",
       "\n",
       "    .dataframe tbody tr th {\n",
       "        vertical-align: top;\n",
       "    }\n",
       "\n",
       "    .dataframe thead th {\n",
       "        text-align: right;\n",
       "    }\n",
       "</style>\n",
       "<table border=\"1\" class=\"dataframe\">\n",
       "  <thead>\n",
       "    <tr style=\"text-align: right;\">\n",
       "      <th></th>\n",
       "      <th>GL_Description_2</th>\n",
       "      <th>YTD Apr 2024</th>\n",
       "    </tr>\n",
       "  </thead>\n",
       "  <tbody>\n",
       "    <tr>\n",
       "      <th>0</th>\n",
       "      <td>Banking</td>\n",
       "      <td>3.90e+07</td>\n",
       "    </tr>\n",
       "    <tr>\n",
       "      <th>1</th>\n",
       "      <td>Other Income</td>\n",
       "      <td>1.95e+07</td>\n",
       "    </tr>\n",
       "  </tbody>\n",
       "</table>\n",
       "</div>"
      ],
      "text/plain": [
       "  GL_Description_2  YTD Apr 2024\n",
       "0          Banking      3.90e+07\n",
       "1     Other Income      1.95e+07"
      ]
     },
     "execution_count": 34,
     "metadata": {},
     "output_type": "execute_result"
    }
   ],
   "source": [
    "test2"
   ]
  },
  {
   "cell_type": "code",
   "execution_count": 35,
   "id": "8db89fc6-45e6-4534-a01f-3b0c628ced79",
   "metadata": {},
   "outputs": [
    {
     "data": {
      "text/plain": [
       "58499732.06"
      ]
     },
     "execution_count": 35,
     "metadata": {},
     "output_type": "execute_result"
    }
   ],
   "source": [
    "sum(test2['YTD Apr 2024'])"
   ]
  },
  {
   "cell_type": "code",
   "execution_count": 37,
   "id": "2dd1655f-545a-4eb2-8164-be71c4f10483",
   "metadata": {},
   "outputs": [
    {
     "data": {
      "text/plain": [
       "GL_Description_2\n",
       "Other Income                                           27\n",
       "Financing cost                                         16\n",
       "Banking                                                14\n",
       "Wakalah fee                                             5\n",
       "Takaful fees                                            5\n",
       "Gain/Loss on Sukuk designated FVTPL                     3\n",
       "Movement in expense liabilities                         1\n",
       "Gain/Loss on financial instruments designated FVTPL     1\n",
       "Name: count, dtype: int64"
      ]
     },
     "execution_count": 37,
     "metadata": {},
     "output_type": "execute_result"
    }
   ],
   "source": [
    "IncIslBiz.GL_Description_2.value_counts()"
   ]
  },
  {
   "cell_type": "code",
   "execution_count": 38,
   "id": "d40e1aef-ef57-4ea1-9be4-00076352ec0e",
   "metadata": {},
   "outputs": [],
   "source": [
    "test3 = IncIslBiz.iloc[np.where(IncIslBiz.GL_Description_2.isin(['Financing cost']))].groupby(['GL_Description_2'])[['YTD Apr 2024']].sum().reset_index()"
   ]
  },
  {
   "cell_type": "code",
   "execution_count": 39,
   "id": "86b7e7ba-5448-41b3-99b5-4b9b4bb1eadc",
   "metadata": {},
   "outputs": [
    {
     "data": {
      "text/html": [
       "<div>\n",
       "<style scoped>\n",
       "    .dataframe tbody tr th:only-of-type {\n",
       "        vertical-align: middle;\n",
       "    }\n",
       "\n",
       "    .dataframe tbody tr th {\n",
       "        vertical-align: top;\n",
       "    }\n",
       "\n",
       "    .dataframe thead th {\n",
       "        text-align: right;\n",
       "    }\n",
       "</style>\n",
       "<table border=\"1\" class=\"dataframe\">\n",
       "  <thead>\n",
       "    <tr style=\"text-align: right;\">\n",
       "      <th></th>\n",
       "      <th>GL_Description_2</th>\n",
       "      <th>YTD Apr 2024</th>\n",
       "    </tr>\n",
       "  </thead>\n",
       "  <tbody>\n",
       "    <tr>\n",
       "      <th>0</th>\n",
       "      <td>Financing cost</td>\n",
       "      <td>-3.60e+07</td>\n",
       "    </tr>\n",
       "  </tbody>\n",
       "</table>\n",
       "</div>"
      ],
      "text/plain": [
       "  GL_Description_2  YTD Apr 2024\n",
       "0   Financing cost     -3.60e+07"
      ]
     },
     "execution_count": 39,
     "metadata": {},
     "output_type": "execute_result"
    }
   ],
   "source": [
    "test3"
   ]
  },
  {
   "cell_type": "code",
   "execution_count": 52,
   "id": "7172c45e-8384-47ac-8c6e-20580e9f448c",
   "metadata": {},
   "outputs": [],
   "source": [
    "OpRev_1 = OpRev[['GL_Description','GL_Code_','GL_Category','Business_Category','Business_Unit','Class','YTD '+str(Income_curr[21:])]]\n",
    "\n",
    "IncIslBiz_1 = IncIslBiz.rename(columns={'GL_Description_2':'Business_Unit'})[['GL_Description','GL_Code_','GL_Category','Business_Unit','Class','YTD '+str(Income_curr[21:])]]\n"
   ]
  },
  {
   "cell_type": "code",
   "execution_count": 53,
   "id": "6d4dfca1-c305-4b1b-b09d-2ca2e735d295",
   "metadata": {
    "scrolled": true
   },
   "outputs": [],
   "source": [
    "IncIslBiz_1['Business_Category'] = 'na'\n",
    "IncIslBiz_1.loc[IncIslBiz_1.Business_Unit.isin(['Banking','Other Income','Financing cost']), 'Business_Category'] = 'Islamic'\n"
   ]
  },
  {
   "cell_type": "code",
   "execution_count": 54,
   "id": "b3d9f805-e74c-4e74-80be-fa63a1f6ddd4",
   "metadata": {},
   "outputs": [
    {
     "name": "stdout",
     "output_type": "stream",
     "text": [
      "(72, 7)\n",
      "(154, 7)\n"
     ]
    }
   ],
   "source": [
    "print(IncIslBiz_1.shape)\n",
    "print(OpRev_1.shape)"
   ]
  },
  {
   "cell_type": "code",
   "execution_count": null,
   "id": "dd3427d3-fdb5-45ac-831b-50785b56ca8b",
   "metadata": {},
   "outputs": [],
   "source": []
  },
  {
   "cell_type": "code",
   "execution_count": 79,
   "id": "f5e840ba-a024-4ff0-8171-863858ee1159",
   "metadata": {
    "scrolled": true
   },
   "outputs": [],
   "source": [
    "IncIslBiz_1 = IncIslBiz_1[['GL_Description','GL_Code_','GL_Category','Business_Category','Business_Unit','Class','YTD '+str(Income_curr[21:])]]\n",
    "\n",
    "testR = pd.concat([OpRev_1, IncIslBiz_1])"
   ]
  },
  {
   "cell_type": "code",
   "execution_count": 80,
   "id": "59dd4a6f-7cb1-4ccf-a599-2d1d1337f99f",
   "metadata": {},
   "outputs": [],
   "source": [
    "testR_1 = testR.groupby(['Class','Business_Category'])[['YTD Apr 2024']].sum().reset_index()"
   ]
  },
  {
   "cell_type": "code",
   "execution_count": 81,
   "id": "123f3314-c98f-45aa-bbcc-2d712e55f314",
   "metadata": {},
   "outputs": [],
   "source": [
    "#testR.loc[(testR.Business_Unit.isin(['Other Income','Financing cost']))&(testR.Business_Category!=['Islamic','na']), 'Class'] = 'Net income from Islamic banking fund'\n",
    "#testR_1.loc[(testR_1.Business_Unit.isin(['Other Income','Financing cost']))&(testR_1.BUsiness_Category!=['Islamic','na']), 'YTD '+str(Income_curr[21:])] = testR_1['YTD '+str(Income_curr[21:])]\n"
   ]
  },
  {
   "cell_type": "code",
   "execution_count": 82,
   "id": "e66f2a2a-c3af-49e9-b4d8-1b079ad4ee7c",
   "metadata": {},
   "outputs": [
    {
     "data": {
      "text/html": [
       "<div>\n",
       "<style scoped>\n",
       "    .dataframe tbody tr th:only-of-type {\n",
       "        vertical-align: middle;\n",
       "    }\n",
       "\n",
       "    .dataframe tbody tr th {\n",
       "        vertical-align: top;\n",
       "    }\n",
       "\n",
       "    .dataframe thead th {\n",
       "        text-align: right;\n",
       "    }\n",
       "</style>\n",
       "<table border=\"1\" class=\"dataframe\">\n",
       "  <thead>\n",
       "    <tr style=\"text-align: right;\">\n",
       "      <th></th>\n",
       "      <th>Class</th>\n",
       "      <th>Business_Category</th>\n",
       "      <th>YTD Apr 2024</th>\n",
       "    </tr>\n",
       "  </thead>\n",
       "  <tbody>\n",
       "    <tr>\n",
       "      <th>0</th>\n",
       "      <td>Income from Islamic business</td>\n",
       "      <td>Islamic</td>\n",
       "      <td>2.25e+07</td>\n",
       "    </tr>\n",
       "    <tr>\n",
       "      <th>1</th>\n",
       "      <td>Income from Islamic business</td>\n",
       "      <td>na</td>\n",
       "      <td>4.20e+05</td>\n",
       "    </tr>\n",
       "    <tr>\n",
       "      <th>2</th>\n",
       "      <td>Operating Revenue</td>\n",
       "      <td>Conventional</td>\n",
       "      <td>4.96e+07</td>\n",
       "    </tr>\n",
       "    <tr>\n",
       "      <th>3</th>\n",
       "      <td>Operating Revenue</td>\n",
       "      <td>Islamic</td>\n",
       "      <td>4.10e+07</td>\n",
       "    </tr>\n",
       "    <tr>\n",
       "      <th>4</th>\n",
       "      <td>Operating Revenue</td>\n",
       "      <td>Takaful</td>\n",
       "      <td>4.99e+05</td>\n",
       "    </tr>\n",
       "  </tbody>\n",
       "</table>\n",
       "</div>"
      ],
      "text/plain": [
       "                          Class Business_Category  YTD Apr 2024\n",
       "0  Income from Islamic business           Islamic      2.25e+07\n",
       "1  Income from Islamic business                na      4.20e+05\n",
       "2             Operating Revenue      Conventional      4.96e+07\n",
       "3             Operating Revenue           Islamic      4.10e+07\n",
       "4             Operating Revenue           Takaful      4.99e+05"
      ]
     },
     "execution_count": 82,
     "metadata": {},
     "output_type": "execute_result"
    }
   ],
   "source": [
    "testR_1"
   ]
  },
  {
   "cell_type": "code",
   "execution_count": 83,
   "id": "7ec7542b-5133-4da0-82ab-200f1ef2cfc5",
   "metadata": {},
   "outputs": [],
   "source": [
    "#testR_1.loc[testR_1.index[5, 'Class'] = 'Net income from Islamic banking fund'\n",
    "testR_1.loc[5] = testR_1.loc[0].rename"
   ]
  },
  {
   "cell_type": "code",
   "execution_count": 84,
   "id": "cf98f709-5f0c-4c6a-b67e-c50cda8041ee",
   "metadata": {},
   "outputs": [
    {
     "data": {
      "text/html": [
       "<div>\n",
       "<style scoped>\n",
       "    .dataframe tbody tr th:only-of-type {\n",
       "        vertical-align: middle;\n",
       "    }\n",
       "\n",
       "    .dataframe tbody tr th {\n",
       "        vertical-align: top;\n",
       "    }\n",
       "\n",
       "    .dataframe thead th {\n",
       "        text-align: right;\n",
       "    }\n",
       "</style>\n",
       "<table border=\"1\" class=\"dataframe\">\n",
       "  <thead>\n",
       "    <tr style=\"text-align: right;\">\n",
       "      <th></th>\n",
       "      <th>Class</th>\n",
       "      <th>Business_Category</th>\n",
       "      <th>YTD Apr 2024</th>\n",
       "    </tr>\n",
       "  </thead>\n",
       "  <tbody>\n",
       "    <tr>\n",
       "      <th>0</th>\n",
       "      <td>Income from Islamic business</td>\n",
       "      <td>Islamic</td>\n",
       "      <td>2.25e+07</td>\n",
       "    </tr>\n",
       "    <tr>\n",
       "      <th>1</th>\n",
       "      <td>Income from Islamic business</td>\n",
       "      <td>na</td>\n",
       "      <td>4.20e+05</td>\n",
       "    </tr>\n",
       "    <tr>\n",
       "      <th>2</th>\n",
       "      <td>Operating Revenue</td>\n",
       "      <td>Conventional</td>\n",
       "      <td>4.96e+07</td>\n",
       "    </tr>\n",
       "    <tr>\n",
       "      <th>3</th>\n",
       "      <td>Operating Revenue</td>\n",
       "      <td>Islamic</td>\n",
       "      <td>4.10e+07</td>\n",
       "    </tr>\n",
       "    <tr>\n",
       "      <th>4</th>\n",
       "      <td>Operating Revenue</td>\n",
       "      <td>Takaful</td>\n",
       "      <td>4.99e+05</td>\n",
       "    </tr>\n",
       "    <tr>\n",
       "      <th>5</th>\n",
       "      <td>Income from Islamic business</td>\n",
       "      <td>Islamic</td>\n",
       "      <td>2.25e+07</td>\n",
       "    </tr>\n",
       "  </tbody>\n",
       "</table>\n",
       "</div>"
      ],
      "text/plain": [
       "                          Class Business_Category  YTD Apr 2024\n",
       "0  Income from Islamic business           Islamic      2.25e+07\n",
       "1  Income from Islamic business                na      4.20e+05\n",
       "2             Operating Revenue      Conventional      4.96e+07\n",
       "3             Operating Revenue           Islamic      4.10e+07\n",
       "4             Operating Revenue           Takaful      4.99e+05\n",
       "5  Income from Islamic business           Islamic      2.25e+07"
      ]
     },
     "execution_count": 84,
     "metadata": {},
     "output_type": "execute_result"
    }
   ],
   "source": [
    "testR_1"
   ]
  },
  {
   "cell_type": "code",
   "execution_count": 34,
   "id": "b9b58fc6-aeb0-4d19-aa24-630504e7dc75",
   "metadata": {},
   "outputs": [
    {
     "data": {
      "text/plain": [
       "Business_Category\n",
       "Conventional    86\n",
       "Islamic         40\n",
       "Takaful         28\n",
       "Name: count, dtype: int64"
      ]
     },
     "execution_count": 34,
     "metadata": {},
     "output_type": "execute_result"
    }
   ],
   "source": [
    "OpRev.Business_Category.value_counts()"
   ]
  },
  {
   "cell_type": "code",
   "execution_count": 37,
   "id": "d875b721-fb6e-4457-8fb6-b45f0fb1201c",
   "metadata": {},
   "outputs": [
    {
     "data": {
      "text/plain": [
       "GL_Description_2\n",
       "Other Income                                           27\n",
       "Financing cost                                         16\n",
       "Banking                                                14\n",
       "Wakalah fee                                             5\n",
       "Takaful fees                                            5\n",
       "Gain/Loss on Sukuk designated FVTPL                     3\n",
       "Movement in expense liabilities                         1\n",
       "Gain/Loss on financial instruments designated FVTPL     1\n",
       "Name: count, dtype: int64"
      ]
     },
     "execution_count": 37,
     "metadata": {},
     "output_type": "execute_result"
    }
   ],
   "source": [
    "IncIslBiz.GL_Description_2.value_counts()"
   ]
  },
  {
   "cell_type": "code",
   "execution_count": null,
   "id": "bb653c13-edfc-40db-b4f8-20d932620f56",
   "metadata": {},
   "outputs": [],
   "source": []
  }
 ],
 "metadata": {
  "kernelspec": {
   "display_name": "Python 3 (ipykernel)",
   "language": "python",
   "name": "python3"
  },
  "language_info": {
   "codemirror_mode": {
    "name": "ipython",
    "version": 3
   },
   "file_extension": ".py",
   "mimetype": "text/x-python",
   "name": "python",
   "nbconvert_exporter": "python",
   "pygments_lexer": "ipython3",
   "version": "3.11.7"
  }
 },
 "nbformat": 4,
 "nbformat_minor": 5
}
