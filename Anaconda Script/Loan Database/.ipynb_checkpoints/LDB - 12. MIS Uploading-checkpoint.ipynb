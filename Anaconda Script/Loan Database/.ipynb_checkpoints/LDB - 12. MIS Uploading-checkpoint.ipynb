{
 "cells": [
  {
   "cell_type": "markdown",
   "id": "a9c8fa67-9e83-4b3c-a02c-03cf33ec1703",
   "metadata": {},
   "source": [
    "# MIS Uploading"
   ]
  },
  {
   "cell_type": "code",
   "execution_count": 2,
   "id": "f3a81e31-beae-4851-b71d-967d10ca219e",
   "metadata": {},
   "outputs": [],
   "source": [
    "date_file = \"202407\"\n",
    "\n",
    "Location = r\"C:\\Users\\syahidhalid\\Syahid_PC\\Analytics - FAD\\00. Automation LDB\\Data Source\\\\\"+date_file\n",
    "File = \"Loan Database as Jul 2024 (python) - Final\"\n",
    "\n",
    "import pandas as pd\n",
    "import numpy as np\n",
    "import xlsxwriter\n",
    "\n",
    "pd.set_option(\"display.max_columns\", None) \n",
    "pd.set_option(\"display.max_colwidth\", 1000) #huruf dlm column\n",
    "pd.set_option(\"display.max_rows\", 100)\n",
    "pd.set_option(\"display.precision\", 2) #2 titik perpuluhan\n",
    "\n",
    "LDB = pd.read_excel(str(Location)+\"\\\\\"+str(File)+\".xlsx\", sheet_name='Export Worksheet', header=1) # skiprows = 2, nrows=18,  usecols= 'A:D'\n"
   ]
  },
  {
   "cell_type": "code",
   "execution_count": 3,
   "id": "4796e455-bfc4-4286-9283-e3456598be80",
   "metadata": {},
   "outputs": [],
   "source": [
    "LDB1 = LDB.iloc[np.where(LDB['EXIM Account No.']!='Total')]\n",
    "\n",
    "LDB1.columns = LDB1.columns.str.strip()\n",
    "LDB1.columns = LDB1.columns.str.replace(\"\\n\", \"\")"
   ]
  },
  {
   "cell_type": "code",
   "execution_count": 4,
   "id": "dbc817dd-1da7-487c-9278-5e69228e614f",
   "metadata": {},
   "outputs": [
    {
     "data": {
      "text/plain": [
       "(525, 150)"
      ]
     },
     "execution_count": 4,
     "metadata": {},
     "output_type": "execute_result"
    }
   ],
   "source": [
    "LDB1.shape"
   ]
  },
  {
   "cell_type": "code",
   "execution_count": null,
   "id": "0ffd2156-581e-496a-893c-32ebdf02b4e4",
   "metadata": {},
   "outputs": [],
   "source": []
  },
  {
   "cell_type": "code",
   "execution_count": 5,
   "id": "e49e82e1-70b7-4329-a5fd-141a461a2309",
   "metadata": {
    "scrolled": true
   },
   "outputs": [
    {
     "name": "stderr",
     "output_type": "stream",
     "text": [
      "C:\\Users\\syahidhalid\\AppData\\Local\\Temp\\4\\ipykernel_9484\\1527620401.py:1: SettingWithCopyWarning: \n",
      "A value is trying to be set on a copy of a slice from a DataFrame.\n",
      "Try using .loc[row_indexer,col_indexer] = value instead\n",
      "\n",
      "See the caveats in the documentation: https://pandas.pydata.org/pandas-docs/stable/user_guide/indexing.html#returning-a-view-versus-a-copy\n",
      "  LDB1['LGD'] = \"\"\n",
      "C:\\Users\\syahidhalid\\AppData\\Local\\Temp\\4\\ipykernel_9484\\1527620401.py:3: SettingWithCopyWarning: \n",
      "A value is trying to be set on a copy of a slice from a DataFrame\n",
      "\n",
      "See the caveats in the documentation: https://pandas.pydata.org/pandas-docs/stable/user_guide/indexing.html#returning-a-view-versus-a-copy\n",
      "  LDB1['Expected Credit Loss (ECL) LAF (Facility Currency)'].fillna(0,inplace=True)\n",
      "C:\\Users\\syahidhalid\\AppData\\Local\\Temp\\4\\ipykernel_9484\\1527620401.py:4: SettingWithCopyWarning: \n",
      "A value is trying to be set on a copy of a slice from a DataFrame\n",
      "\n",
      "See the caveats in the documentation: https://pandas.pydata.org/pandas-docs/stable/user_guide/indexing.html#returning-a-view-versus-a-copy\n",
      "  LDB1['Expected Credit Loss LAF (ECL) (MYR)'].fillna(0,inplace=True)\n",
      "C:\\Users\\syahidhalid\\AppData\\Local\\Temp\\4\\ipykernel_9484\\1527620401.py:5: SettingWithCopyWarning: \n",
      "A value is trying to be set on a copy of a slice from a DataFrame\n",
      "\n",
      "See the caveats in the documentation: https://pandas.pydata.org/pandas-docs/stable/user_guide/indexing.html#returning-a-view-versus-a-copy\n",
      "  LDB1['Expected Credit Loss C&C (ECL) (Facility Currency)'].fillna(0,inplace=True)\n",
      "C:\\Users\\syahidhalid\\AppData\\Local\\Temp\\4\\ipykernel_9484\\1527620401.py:6: SettingWithCopyWarning: \n",
      "A value is trying to be set on a copy of a slice from a DataFrame\n",
      "\n",
      "See the caveats in the documentation: https://pandas.pydata.org/pandas-docs/stable/user_guide/indexing.html#returning-a-view-versus-a-copy\n",
      "  LDB1['Expected Credit Loss C&C (ECL) (MYR)'].fillna(0,inplace=True)\n",
      "C:\\Users\\syahidhalid\\AppData\\Local\\Temp\\4\\ipykernel_9484\\1527620401.py:8: SettingWithCopyWarning: \n",
      "A value is trying to be set on a copy of a slice from a DataFrame.\n",
      "Try using .loc[row_indexer,col_indexer] = value instead\n",
      "\n",
      "See the caveats in the documentation: https://pandas.pydata.org/pandas-docs/stable/user_guide/indexing.html#returning-a-view-versus-a-copy\n",
      "  LDB1['Expected Credit Loss (ECL) (Facility Currency)'] = LDB1[\"Expected Credit Loss (ECL) LAF (Facility Currency)\"] + LDB1[\"Expected Credit Loss C&C (ECL) (Facility Currency)\"]\n",
      "C:\\Users\\syahidhalid\\AppData\\Local\\Temp\\4\\ipykernel_9484\\1527620401.py:10: SettingWithCopyWarning: \n",
      "A value is trying to be set on a copy of a slice from a DataFrame.\n",
      "Try using .loc[row_indexer,col_indexer] = value instead\n",
      "\n",
      "See the caveats in the documentation: https://pandas.pydata.org/pandas-docs/stable/user_guide/indexing.html#returning-a-view-versus-a-copy\n",
      "  LDB1['Expected Credit Loss (ECL) (MYR)'] = LDB1[\"Expected Credit Loss LAF (ECL) (MYR)\"] + LDB1[\"Expected Credit Loss C&C (ECL) (MYR)\"]\n"
     ]
    }
   ],
   "source": [
    "LDB1['LGD'] = \"\"\n",
    "\n",
    "LDB1['Expected Credit Loss (ECL) LAF (Facility Currency)'].fillna(0,inplace=True)\n",
    "LDB1['Expected Credit Loss LAF (ECL) (MYR)'].fillna(0,inplace=True)\n",
    "LDB1['Expected Credit Loss C&C (ECL) (Facility Currency)'].fillna(0,inplace=True)\n",
    "LDB1['Expected Credit Loss C&C (ECL) (MYR)'].fillna(0,inplace=True)\n",
    "\n",
    "LDB1['Expected Credit Loss (ECL) (Facility Currency)'] = LDB1[\"Expected Credit Loss (ECL) LAF (Facility Currency)\"] + LDB1[\"Expected Credit Loss C&C (ECL) (Facility Currency)\"]\n",
    "\n",
    "LDB1['Expected Credit Loss (ECL) (MYR)'] = LDB1[\"Expected Credit Loss LAF (ECL) (MYR)\"] + LDB1[\"Expected Credit Loss C&C (ECL) (MYR)\"]\n"
   ]
  },
  {
   "cell_type": "code",
   "execution_count": 6,
   "id": "782f9698-c8ea-473e-8f63-6754367921a0",
   "metadata": {},
   "outputs": [],
   "source": [
    "LDB2 = LDB1[['EXIM Account No.',\n",
    "                            'CIF Number',\n",
    "                            'Application System Code',\n",
    "                            'CCRIS Master Account Number',\n",
    "                            'CCRIS Sub Account Number',\n",
    "                            'Facility Currency', #rename Currency\n",
    "                            'Nature of Account',\n",
    "                            '1st Disbursement/Drawdown Date',\n",
    "                            '1st Payment/Repayment Date',\n",
    "                            'Status',\n",
    "                            'Cancellation Date/Fully Settled Date',\n",
    "                            'Write off Date',\n",
    "                            'Partial Write off Date',\n",
    "                            'Ownership',\n",
    "                            'Officer in Charge',\n",
    "                            'Relationship Manager (RM)',\n",
    "                            'Banking Team',\n",
    "                            'Facility Agreement Date',\n",
    "                            'Annual Review Date',\n",
    "                            'Expiry of Availability Period',\n",
    "                            'Maturity/Expired Date',\n",
    "                            'Grace Period (Month)',\n",
    "                            'Moratorium Period (Month)',\n",
    "                            'Start Moratorium Date',\n",
    "                            'Tenure (Month)',\n",
    "                            'Payment/Repayment Frequency (Profit/Interest)',\n",
    "                            'Payment/Repayment Frequency (Cost/Principal)',\n",
    "                            'Effective cost of borrowings',\n",
    "                            'Profit/Interest Margin',\n",
    "                            'Average Profit/Interest Rate',\n",
    "                            'Ta`widh Compensation/Penalty Rate',\n",
    "                            'Cost/Principal Outstanding (Facility Currency)',\n",
    "                            'Cost/Principal Outstanding (MYR)',\n",
    "                            'Accrued Profit/Interest of the month (Facility Currency)',\n",
    "                            'Accrued Profit/Interest of the month (MYR)',\n",
    "                            'Cumulative Accrued Profit/Interest (Facility Currency)',\n",
    "                            'Cumulative Accrued Profit/Interest (MYR)',                           \n",
    "                            'Penalty/Ta`widh (Facility Currency)',\n",
    "                            'Penalty/Ta`widh (MYR)',\n",
    "                            'Income/Interest in Suspense (Facility Currency)',\n",
    "                            'Income/Interest in Suspense (MYR)',\n",
    "                            'Other Charges (Facility Currency)',\n",
    "                            'Other Charges (MYR)',\n",
    "                            'Contingent Liability Letter of Credit (Facility Currency)',\n",
    "                            'Contingent Liability Letter of Credit (MYR)',\n",
    "                            'Contingent Liability (Facility Currency)',\n",
    "                            'Contingent Liability (MYR)',\n",
    "             'Expected Credit Loss (ECL) (Facility Currency)',\n",
    "             'Expected Credit Loss (ECL) (MYR)',\n",
    "                            'Disbursement/Drawdown (Facility Currency)',\n",
    "                            'Disbursement/Drawdown (MYR)',\n",
    "                            'Cumulative Disbursement/Drawdown (Facility Currency)',\n",
    "                            'Cumulative Disbursement/Drawdown (MYR)',\n",
    "                            'Cost Payment/Principal Repayment (Facility Currency)',\n",
    "                            'Cost Payment/Principal Repayment (MYR)',                            \n",
    "                            'Cumulative Cost Payment/Principal Repayment (Facility Currency)',\n",
    "                            'Cumulative Cost Payment/Principal Repayment (MYR)',\n",
    "                            'Profit Payment/Interest Repayment (Facility Currency)',\n",
    "                            'Profit Payment/Interest Repayment (MYR)',\n",
    "                            'Cumulative Profit Payment/Interest Repayment (Facility Currency)',\n",
    "                            'Cumulative Profit Payment/Interest Repayment (MYR)',\n",
    "                            'Disbursement/Drawdown Status',\n",
    "                            'Unutilised/Undrawn Amount (Facility Currency)',\n",
    "                            'Unutilised/Undrawn Amount (MYR)',\n",
    "                            'Overdue Amount (Facility Currency)',\n",
    "                            'Overdue Amount (MYR)',\n",
    "                            'Overdue (Days)',\n",
    "                            'Month in Arrears',\n",
    "                            'Date of Overdue',\n",
    "                            'Risk Analyst',\n",
    "                            'PD',\n",
    "                            'PF',\n",
    "                            'LGD',\n",
    "                            'MFRS9 Staging',\n",
    "             'Date Classified as Watchlist',\n",
    "                            'Watchlist Reason',\n",
    "                            'Date Declassified from Watchlist',\n",
    "                            'Reason for Impairment',\n",
    "                            'Date Impaired',\n",
    "                            'Industry (Risk)',\n",
    "                            'Industry Classification',\n",
    "                            'Amount Approved / Facility Limit (Facility Currency)','Position as At' ]]"
   ]
  },
  {
   "cell_type": "code",
   "execution_count": 7,
   "id": "7980bcda-f256-4b33-bdbb-b5f33db2b71b",
   "metadata": {},
   "outputs": [
    {
     "data": {
      "text/plain": [
       "(525, 83)"
      ]
     },
     "execution_count": 7,
     "metadata": {},
     "output_type": "execute_result"
    }
   ],
   "source": [
    "LDB2.shape"
   ]
  },
  {
   "cell_type": "code",
   "execution_count": 10,
   "id": "44a66fc9-ad5c-4f2c-bda5-31debb5c75e1",
   "metadata": {},
   "outputs": [],
   "source": [
    "LDB2.to_excel(str(Location)+'\\\\Loan Database as'+str(File[-26:-7])+'- MIS Raw.xlsx', sheet_name='Data mirror', index = False)\n"
   ]
  },
  {
   "cell_type": "code",
   "execution_count": 8,
   "id": "632dfcc7-2413-488e-a1aa-c991ab4c3724",
   "metadata": {},
   "outputs": [],
   "source": [
    "#str(Location)+'\\\\Data Migration as at'+str(File[-26:-7])+'- Raw.xlsx'"
   ]
  },
  {
   "cell_type": "code",
   "execution_count": 9,
   "id": "15d25123-ea1c-4d05-8b3f-429b36c23c4f",
   "metadata": {},
   "outputs": [
    {
     "data": {
      "text/plain": [
       "'C:\\\\Users\\\\syahidhalid\\\\Syahid_PC\\\\Analytics - FAD\\\\00. Automation LDB\\\\Data Source\\\\\\\\202407'"
      ]
     },
     "execution_count": 9,
     "metadata": {},
     "output_type": "execute_result"
    }
   ],
   "source": [
    "Location"
   ]
  },
  {
   "cell_type": "code",
   "execution_count": null,
   "id": "e2f52f12-215f-4f34-8599-d9fd59726be2",
   "metadata": {},
   "outputs": [],
   "source": []
  }
 ],
 "metadata": {
  "kernelspec": {
   "display_name": "Python 3 (ipykernel)",
   "language": "python",
   "name": "python3"
  },
  "language_info": {
   "codemirror_mode": {
    "name": "ipython",
    "version": 3
   },
   "file_extension": ".py",
   "mimetype": "text/x-python",
   "name": "python",
   "nbconvert_exporter": "python",
   "pygments_lexer": "ipython3",
   "version": "3.11.7"
  }
 },
 "nbformat": 4,
 "nbformat_minor": 5
}
