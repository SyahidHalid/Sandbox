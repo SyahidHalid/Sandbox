{
 "cells": [
  {
   "cell_type": "code",
   "execution_count": 1,
   "id": "0ff2290c-77ca-4423-8587-02719965f1e1",
   "metadata": {
    "scrolled": true
   },
   "outputs": [],
   "source": [
    "\n",
    "File3 = \"03. Stage 3 07 (python)\"\n",
    "File4 = \"03. Stage 1 & 2 0724  (python)\"\n",
    "\n",
    "#control + F + dropdown new to search bar to find and replace \n",
    "import pandas as pd\n",
    "import numpy as np\n",
    "import xlsxwriter\n",
    "\n",
    "#warnings.filterwarnings('ignore')\n",
    "pd.set_option(\"display.max_columns\", None) \n",
    "pd.set_option(\"display.max_colwidth\", 1000) #huruf dlm column\n",
    "pd.set_option(\"display.max_rows\", 100)\n",
    "pd.set_option(\"display.precision\", 2) #2 titik perpuluhan\n",
    "\n",
    "FILE3 = pd.read_excel(r\"C:\\Users\\syahidhalid\\Syahid_PC\\Analytics - FAD\\00. Automation LDB\\Data Source\\202407\\\\\"+str(File3)+\".xlsx\", sheet_name='Export Worksheet', header=0) # skiprows = 2, nrows=18,  usecols= 'A:D'\n",
    "FILE4 = pd.read_excel(r\"C:\\Users\\syahidhalid\\Syahid_PC\\Analytics - FAD\\00. Automation LDB\\Data Source\\202407\\\\\"+str(File4)+\".xlsx\", sheet_name='Export Worksheet', header=0) # skiprows = 2, nrows=18,  usecols= 'A:D'\n"
   ]
  },
  {
   "cell_type": "code",
   "execution_count": 2,
   "id": "aa5a6254-82b0-4d79-8f94-150347e4028a",
   "metadata": {},
   "outputs": [
    {
     "data": {
      "text/html": [
       "<div>\n",
       "<style scoped>\n",
       "    .dataframe tbody tr th:only-of-type {\n",
       "        vertical-align: middle;\n",
       "    }\n",
       "\n",
       "    .dataframe tbody tr th {\n",
       "        vertical-align: top;\n",
       "    }\n",
       "\n",
       "    .dataframe thead th {\n",
       "        text-align: right;\n",
       "    }\n",
       "</style>\n",
       "<table border=\"1\" class=\"dataframe\">\n",
       "  <thead>\n",
       "    <tr style=\"text-align: right;\">\n",
       "      <th></th>\n",
       "      <th>Loan_Acc_</th>\n",
       "      <th>Ccy</th>\n",
       "      <th>Borrower</th>\n",
       "      <th>Type_of_Financing</th>\n",
       "      <th>LAF_ECL_FC</th>\n",
       "      <th>LAF_ECL_MYR</th>\n",
       "      <th>CnC_ECL_FC</th>\n",
       "      <th>CnC_ECL_MYR</th>\n",
       "    </tr>\n",
       "  </thead>\n",
       "  <tbody>\n",
       "    <tr>\n",
       "      <th>0</th>\n",
       "      <td>500010</td>\n",
       "      <td>USD</td>\n",
       "      <td>PT Bumi International Tankers</td>\n",
       "      <td>Conventional</td>\n",
       "      <td>2.86e+06</td>\n",
       "      <td>1.31e+07</td>\n",
       "      <td>0.0</td>\n",
       "      <td>0.0</td>\n",
       "    </tr>\n",
       "  </tbody>\n",
       "</table>\n",
       "</div>"
      ],
      "text/plain": [
       "  Loan_Acc_  Ccy                       Borrower Type_of_Financing  LAF_ECL_FC  \\\n",
       "0    500010  USD  PT Bumi International Tankers      Conventional    2.86e+06   \n",
       "\n",
       "   LAF_ECL_MYR  CnC_ECL_FC  CnC_ECL_MYR  \n",
       "0     1.31e+07         0.0          0.0  "
      ]
     },
     "execution_count": 2,
     "metadata": {},
     "output_type": "execute_result"
    }
   ],
   "source": [
    "FILE3.head(1)"
   ]
  },
  {
   "cell_type": "code",
   "execution_count": 3,
   "id": "711955f8-1ff1-4164-a335-5781008bf46b",
   "metadata": {},
   "outputs": [
    {
     "data": {
      "text/html": [
       "<div>\n",
       "<style scoped>\n",
       "    .dataframe tbody tr th:only-of-type {\n",
       "        vertical-align: middle;\n",
       "    }\n",
       "\n",
       "    .dataframe tbody tr th {\n",
       "        vertical-align: top;\n",
       "    }\n",
       "\n",
       "    .dataframe thead th {\n",
       "        text-align: right;\n",
       "    }\n",
       "</style>\n",
       "<table border=\"1\" class=\"dataframe\">\n",
       "  <thead>\n",
       "    <tr style=\"text-align: right;\">\n",
       "      <th></th>\n",
       "      <th>Account_No</th>\n",
       "      <th>Borrower_name</th>\n",
       "      <th>Category</th>\n",
       "      <th>Month</th>\n",
       "      <th>LAF_ECL_FC</th>\n",
       "      <th>LAF_ECL_MYR</th>\n",
       "      <th>CnC_ECL_FC</th>\n",
       "      <th>CnC_ECL_MYR</th>\n",
       "    </tr>\n",
       "  </thead>\n",
       "  <tbody>\n",
       "    <tr>\n",
       "      <th>0</th>\n",
       "      <td>500271</td>\n",
       "      <td>MBI DEVELOPMENT D.O.O, BOSNIA&amp;HERZE</td>\n",
       "      <td>Conventional</td>\n",
       "      <td>EUR</td>\n",
       "      <td>0.0</td>\n",
       "      <td>0.0</td>\n",
       "      <td>0.0</td>\n",
       "      <td>0.0</td>\n",
       "    </tr>\n",
       "  </tbody>\n",
       "</table>\n",
       "</div>"
      ],
      "text/plain": [
       "  Account_No                        Borrower_name      Category Month  \\\n",
       "0     500271  MBI DEVELOPMENT D.O.O, BOSNIA&HERZE  Conventional   EUR   \n",
       "\n",
       "   LAF_ECL_FC  LAF_ECL_MYR  CnC_ECL_FC  CnC_ECL_MYR  \n",
       "0         0.0          0.0         0.0          0.0  "
      ]
     },
     "execution_count": 3,
     "metadata": {},
     "output_type": "execute_result"
    }
   ],
   "source": [
    "FILE4.head(1)"
   ]
  },
  {
   "cell_type": "code",
   "execution_count": 4,
   "id": "9ce1582b-c750-45fd-b7d3-93935ba2ae5f",
   "metadata": {},
   "outputs": [],
   "source": [
    "FILE3_1 = FILE3[['Loan_Acc_','LAF_ECL_FC','LAF_ECL_MYR','CnC_ECL_FC','CnC_ECL_MYR']]\n",
    "FILE4_1 = FILE4[['Account_No','LAF_ECL_FC','LAF_ECL_MYR','CnC_ECL_FC','CnC_ECL_MYR']]"
   ]
  },
  {
   "cell_type": "code",
   "execution_count": 5,
   "id": "3cea3045-0ae7-494b-8f2e-9d4e8fe1afec",
   "metadata": {},
   "outputs": [],
   "source": [
    "FILE3_1.columns = FILE4_1.columns"
   ]
  },
  {
   "cell_type": "code",
   "execution_count": 6,
   "id": "064c7b75-3bb5-4f41-ae68-195479866144",
   "metadata": {},
   "outputs": [],
   "source": [
    "ecl1 = pd.concat([FILE3_1,FILE4_1])\n",
    "\n",
    "ecl2 = ecl1.fillna(0).groupby(['Account_No'])[['LAF_ECL_FC','LAF_ECL_MYR','CnC_ECL_FC','CnC_ECL_MYR']].sum().reset_index()\n"
   ]
  },
  {
   "cell_type": "code",
   "execution_count": 7,
   "id": "e839eb8f-8a87-4c87-87ec-f4c2a77696bd",
   "metadata": {},
   "outputs": [
    {
     "data": {
      "text/plain": [
       "Account_No\n",
       "0                       1\n",
       "500559                  1\n",
       "500631                  1\n",
       "500625                  1\n",
       "500617                  1\n",
       "                       ..\n",
       "501051                  1\n",
       "501050                  1\n",
       "501049                  1\n",
       "501045                  1\n",
       "EXIM/SMH/TNBG/21/039    1\n",
       "Name: count, Length: 343, dtype: int64"
      ]
     },
     "execution_count": 7,
     "metadata": {},
     "output_type": "execute_result"
    }
   ],
   "source": [
    "ecl2['Account_No'].value_counts()"
   ]
  },
  {
   "cell_type": "code",
   "execution_count": 8,
   "id": "4dcaac1a-173a-4b42-aad3-875afbf45925",
   "metadata": {},
   "outputs": [],
   "source": [
    "ecl2.to_excel(r\"C:\\Users\\syahidhalid\\Syahid_PC\\Analytics - FAD\\00. Automation LDB\\Data Source\\202407\\04. ECL Combine.xlsx\",index=False)"
   ]
  },
  {
   "cell_type": "code",
   "execution_count": 9,
   "id": "4ba6c518-9e1c-4034-861c-434d53081e6a",
   "metadata": {
    "scrolled": true
   },
   "outputs": [
    {
     "data": {
      "text/html": [
       "<div>\n",
       "<style scoped>\n",
       "    .dataframe tbody tr th:only-of-type {\n",
       "        vertical-align: middle;\n",
       "    }\n",
       "\n",
       "    .dataframe tbody tr th {\n",
       "        vertical-align: top;\n",
       "    }\n",
       "\n",
       "    .dataframe thead th {\n",
       "        text-align: right;\n",
       "    }\n",
       "</style>\n",
       "<table border=\"1\" class=\"dataframe\">\n",
       "  <thead>\n",
       "    <tr style=\"text-align: right;\">\n",
       "      <th></th>\n",
       "      <th>Account_No</th>\n",
       "      <th>LAF_ECL_FC</th>\n",
       "      <th>LAF_ECL_MYR</th>\n",
       "      <th>CnC_ECL_FC</th>\n",
       "      <th>CnC_ECL_MYR</th>\n",
       "    </tr>\n",
       "  </thead>\n",
       "  <tbody>\n",
       "    <tr>\n",
       "      <th>0</th>\n",
       "      <td>0</td>\n",
       "      <td>0.0</td>\n",
       "      <td>0.0</td>\n",
       "      <td>0.0</td>\n",
       "      <td>0.0</td>\n",
       "    </tr>\n",
       "  </tbody>\n",
       "</table>\n",
       "</div>"
      ],
      "text/plain": [
       "  Account_No  LAF_ECL_FC  LAF_ECL_MYR  CnC_ECL_FC  CnC_ECL_MYR\n",
       "0          0         0.0          0.0         0.0          0.0"
      ]
     },
     "execution_count": 9,
     "metadata": {},
     "output_type": "execute_result"
    }
   ],
   "source": [
    "ecl2.head(1)"
   ]
  },
  {
   "cell_type": "code",
   "execution_count": null,
   "id": "5ae80b8f-e5d0-48e0-816f-03d4ab258abb",
   "metadata": {},
   "outputs": [],
   "source": []
  }
 ],
 "metadata": {
  "kernelspec": {
   "display_name": "Python 3 (ipykernel)",
   "language": "python",
   "name": "python3"
  },
  "language_info": {
   "codemirror_mode": {
    "name": "ipython",
    "version": 3
   },
   "file_extension": ".py",
   "mimetype": "text/x-python",
   "name": "python",
   "nbconvert_exporter": "python",
   "pygments_lexer": "ipython3",
   "version": "3.11.7"
  }
 },
 "nbformat": 4,
 "nbformat_minor": 5
}
