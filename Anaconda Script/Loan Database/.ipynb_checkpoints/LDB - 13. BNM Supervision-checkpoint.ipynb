{
 "cells": [
  {
   "cell_type": "markdown",
   "id": "74479098-0918-42d0-ab53-e984006267ac",
   "metadata": {},
   "source": [
    "# BNM Supervision"
   ]
  },
  {
   "cell_type": "code",
   "execution_count": 1,
   "id": "7e39be0d-a037-4eca-9cb8-2be1a6492c7a",
   "metadata": {},
   "outputs": [
    {
     "data": {
      "text/plain": [
       "(548, 149)"
      ]
     },
     "execution_count": 1,
     "metadata": {},
     "output_type": "execute_result"
    }
   ],
   "source": [
    "Location = r\"C:\\Users\\syahidhalid\\Syahid_PC\\Analytics - FAD\\00. Automation LDB\\Data Source\\202408\\Working\"\n",
    "File = \"Loan Database as Aug2024 (python) - Final\"\n",
    "\n",
    "import pandas as pd\n",
    "import numpy as np\n",
    "import xlsxwriter\n",
    "\n",
    "pd.set_option(\"display.max_columns\", None) \n",
    "pd.set_option(\"display.max_colwidth\", 1000) #huruf dlm column\n",
    "pd.set_option(\"display.max_rows\", 100)\n",
    "pd.set_option(\"display.precision\", 2) #2 titik perpuluhan\n",
    "\n",
    "LDB = pd.read_excel(str(Location)+\"\\\\\"+str(File)+\".xlsx\", sheet_name='Export Worksheet', header=1) # skiprows = 2, nrows=18,  usecols= 'A:D'\n",
    "\n",
    "LDB1 = LDB.iloc[np.where(LDB['EXIM Account No.']!='Total')]\n",
    "\n",
    "LDB1.columns = LDB1.columns.str.strip()\n",
    "LDB1.columns = LDB1.columns.str.replace(\"\\n\", \"\")\n",
    "\n",
    "LDB1.shape"
   ]
  },
  {
   "cell_type": "code",
   "execution_count": 3,
   "id": "ad8f0006-8c7f-4570-b213-63f2216b6bb5",
   "metadata": {},
   "outputs": [
    {
     "data": {
      "text/plain": [
       "(548, 31)"
      ]
     },
     "execution_count": 3,
     "metadata": {},
     "output_type": "execute_result"
    }
   ],
   "source": [
    "LDB2 = LDB1[['CIF Number','EXIM Account No.',\n",
    "                            'Company Group',\n",
    "                            'Customer Name',\n",
    "                            'Syndicated / Club Deal',\n",
    "                            'Nature of Account',\n",
    "                            'Facility',\n",
    "                            'Type of Financing',\n",
    "                            'Status',\n",
    "                            'Amount Approved / Facility Limit (Facility Currency)',\n",
    "                            'Amount Approved / Facility Limit (MYR)',\n",
    "                            'Cost/Principal Outstanding (Facility Currency)',\n",
    "                            'Cost/Principal Outstanding (MYR)',\n",
    "                            'Contingent Liability Letter of Credit (Facility Currency)',\n",
    "                            'Contingent Liability Letter of Credit (MYR)',\n",
    "                            'Contingent Liability (Facility Currency)',\n",
    "                            'Contingent Liability (MYR)',\n",
    "                            'BNM Main Sector',\n",
    "                            'BNM Sub Sector',\n",
    "                            'Industry (Risk)',\n",
    "                            'Industry Classification',\n",
    "                            'Date Approved at Origination',\n",
    "                            '1st Disbursement Date / 1st Drawdown Date',\n",
    "                            '1st Payment/Repayment Date',\n",
    "                            'Maturity/Expired Date',\n",
    "                            'Grace Period (Month)',\n",
    "                            'Tenure (Month)',\n",
    "                            'Country Exposure',\n",
    "                            'Country Rating',\n",
    "                            'SME Commercial Corporate',\n",
    "                            'Corporate Status']]\n",
    "\n",
    "LDB2.shape"
   ]
  },
  {
   "cell_type": "code",
   "execution_count": 4,
   "id": "07f53f9c-4b21-4eb7-8cdd-7349281e9dfa",
   "metadata": {},
   "outputs": [],
   "source": [
    "LDB2.to_excel(str(Location)+'\\\\Loan Database as'+str(File[-26:-7])+'- BNM Supervision Raw.xlsx', sheet_name='loandatabase', index = False)\n"
   ]
  },
  {
   "cell_type": "code",
   "execution_count": 5,
   "id": "5cbd9097-32df-43f9-a145-7bd9ba1ee3e3",
   "metadata": {},
   "outputs": [],
   "source": [
    "#str(Location)+'\\\\Loan Database as'+str(File[-26:-7])+'- MIS Raw.xlsx'"
   ]
  },
  {
   "cell_type": "code",
   "execution_count": null,
   "id": "3cd6a51f-d633-4c52-b369-d8fb8d35a5b5",
   "metadata": {},
   "outputs": [],
   "source": []
  }
 ],
 "metadata": {
  "kernelspec": {
   "display_name": "Python 3 (ipykernel)",
   "language": "python",
   "name": "python3"
  },
  "language_info": {
   "codemirror_mode": {
    "name": "ipython",
    "version": 3
   },
   "file_extension": ".py",
   "mimetype": "text/x-python",
   "name": "python",
   "nbconvert_exporter": "python",
   "pygments_lexer": "ipython3",
   "version": "3.11.7"
  }
 },
 "nbformat": 4,
 "nbformat_minor": 5
}
