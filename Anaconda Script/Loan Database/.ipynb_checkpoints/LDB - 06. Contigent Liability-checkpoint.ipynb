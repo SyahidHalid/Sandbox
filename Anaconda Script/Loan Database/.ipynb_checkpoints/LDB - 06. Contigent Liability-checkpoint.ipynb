{
 "cells": [
  {
   "cell_type": "markdown",
   "id": "349f8d12-ca6a-4555-9c6d-0ba65f846056",
   "metadata": {},
   "source": [
    "# Load"
   ]
  },
  {
   "cell_type": "code",
   "execution_count": 5,
   "id": "ed8fb78d-0ad2-47af-96b9-ed41ea3cfb32",
   "metadata": {},
   "outputs": [
    {
     "name": "stderr",
     "output_type": "stream",
     "text": [
      "C:\\Users\\syahidhalid\\Syahid_PC\\Anaconda\\Lib\\site-packages\\openpyxl\\worksheet\\header_footer.py:48: UserWarning: Cannot parse header or footer so it will be ignored\n",
      "  warn(\"\"\"Cannot parse header or footer so it will be ignored\"\"\")\n"
     ]
    }
   ],
   "source": [
    "#control + F + dropdown new to search bar to find and replace \n",
    "import pandas as pd\n",
    "import numpy as np\n",
    "import xlsxwriter\n",
    "\n",
    "#warnings.filterwarnings('ignore')\n",
    "pd.set_option(\"display.max_columns\", None) \n",
    "pd.set_option(\"display.max_colwidth\", 1000) #huruf dlm column\n",
    "pd.set_option(\"display.max_rows\", 100)\n",
    "pd.set_option(\"display.precision\", 2) #2 titik perpuluhan\n",
    "\n",
    "Location = r\"C:\\Users\\syahidhalid\\Syahid_PC\\Analytics - FAD\\00. Automation LDB\\Data Source\\202407\\Trade\"\n",
    "\n",
    "BG = \"BG Cont. Liab. JUL2024\"\n",
    "LC = \"LC Cont  Liab JUL2024\"\n",
    "\n",
    "BG1 = pd.read_excel(str(Location)+\"\\\\\"+str(BG)+\".xlsx\", sheet_name='BG - JULY Active2024', header=2)\n",
    "\n",
    "LC1 = pd.read_excel(str(Location)+\"\\\\\"+str(LC)+\".xlsx\", sheet_name='LC JULY 2024', header=1) # skiprows = 2, nrows=18,  usecols= 'A:D'\n",
    "\n",
    "MRate = pd.read_excel(r\"C:\\Users\\syahidhalid\\Syahid_PC\\Analytics - FAD\\00. Automation LDB\\Data Source\\\\202407\\\\00. Month End Rate.xlsx\", header=2) # skiprows = 2, nrows=18,  usecols= 'A:D'\n",
    "\n",
    "LDB_prev = pd.read_excel(r\"C:\\Users\\syahidhalid\\Syahid_PC\\Analytics - SPD\\Loan Database\\LBD 202412 - 202401 (CSP Sector).xlsx\", sheet_name='Jun24', header=0) # skiprows = 2, nrows=18,  usecols= 'A:D'\n"
   ]
  },
  {
   "cell_type": "markdown",
   "id": "dccd245f-51e9-4b75-9a92-45f10b1c7884",
   "metadata": {},
   "source": [
    "# Process"
   ]
  },
  {
   "cell_type": "code",
   "execution_count": 6,
   "id": "c599ebf9-2900-437f-9898-4f6289f73fc0",
   "metadata": {
    "scrolled": true
   },
   "outputs": [
    {
     "name": "stderr",
     "output_type": "stream",
     "text": [
      "C:\\Users\\syahidhalid\\AppData\\Local\\Temp\\10\\ipykernel_1560\\4146452566.py:8: SettingWithCopyWarning: \n",
      "A value is trying to be set on a copy of a slice from a DataFrame.\n",
      "Try using .loc[row_indexer,col_indexer] = value instead\n",
      "\n",
      "See the caveats in the documentation: https://pandas.pydata.org/pandas-docs/stable/user_guide/indexing.html#returning-a-view-versus-a-copy\n",
      "  BG2['Exposure (RM)'] = BG2['Exposure (RM)'].astype(float)\n",
      "C:\\Users\\syahidhalid\\AppData\\Local\\Temp\\10\\ipykernel_1560\\4146452566.py:13: SettingWithCopyWarning: \n",
      "A value is trying to be set on a copy of a slice from a DataFrame.\n",
      "Try using .loc[row_indexer,col_indexer] = value instead\n",
      "\n",
      "See the caveats in the documentation: https://pandas.pydata.org/pandas-docs/stable/user_guide/indexing.html#returning-a-view-versus-a-copy\n",
      "  BG2['Facility Limit Undrawn (FC)'] = BG2['Facility Limit Undrawn (FC)'].astype(float)\n",
      "C:\\Users\\syahidhalid\\AppData\\Local\\Temp\\10\\ipykernel_1560\\4146452566.py:18: SettingWithCopyWarning: \n",
      "A value is trying to be set on a copy of a slice from a DataFrame.\n",
      "Try using .loc[row_indexer,col_indexer] = value instead\n",
      "\n",
      "See the caveats in the documentation: https://pandas.pydata.org/pandas-docs/stable/user_guide/indexing.html#returning-a-view-versus-a-copy\n",
      "  BG2['Facility Limit Undrawn (MYR)'] = BG2['Facility Limit Undrawn (MYR)'].astype(float)\n"
     ]
    }
   ],
   "source": [
    "#=========================================BG==============================================\n",
    "\n",
    "BG1['C/I'] = BG1['C/I'].str.strip()\n",
    "BG2 = BG1.iloc[np.where(BG1['C/I'].isin(['C','I']))]\n",
    "\n",
    "#BG2['Exposure (RM)'] = BG2['Exposure (RM)'].str.strip()\n",
    "#BG2.loc[BG2['Exposure (RM)']=='-', 'Exposure (RM)'] == 0\n",
    "BG2['Exposure (RM)'] = BG2['Exposure (RM)'].astype(float)\n",
    "\n",
    "#BG2['Facility Limit Undrawn (FC)'] = BG2['Facility Limit Undrawn (FC)'].str.strip()\n",
    "#BG2.loc[(BG2['Facility Limit Undrawn (FC)']=='-'),'Facility Limit Undrawn (FC)'] = 0\n",
    "#BG2.loc[BG2['Facility Limit Undrawn (FC)']=='REFER TO ABOVE', 'Facility Limit Undrawn (FC)'] = 0\n",
    "BG2['Facility Limit Undrawn (FC)'] = BG2['Facility Limit Undrawn (FC)'].astype(float)\n",
    "\n",
    "#BG2['Facility Limit Undrawn (FC)'] = BG2['Facility Limit Undrawn (FC)'].str.strip()\n",
    "#BG2.loc[BG2['Facility Limit Undrawn (MYR)']=='-', 'Facility Limit Undrawn (MYR)'] = 0\n",
    "#BG2.loc[BG2['Facility Limit Undrawn (MYR)']=='REFER TO ABOVE', 'Facility Limit Undrawn (MYR)'] = 0\n",
    "BG2['Facility Limit Undrawn (MYR)'] = BG2['Facility Limit Undrawn (MYR)'].astype(float)"
   ]
  },
  {
   "cell_type": "code",
   "execution_count": null,
   "id": "c7fd45aa-2211-40f8-be9d-3d87865e5598",
   "metadata": {},
   "outputs": [],
   "source": []
  },
  {
   "cell_type": "code",
   "execution_count": null,
   "id": "54a86cb3-cf9a-41e5-9433-63f1db98d32c",
   "metadata": {},
   "outputs": [],
   "source": []
  },
  {
   "cell_type": "code",
   "execution_count": 7,
   "id": "f5c75cf8-4603-4db4-bfc8-8f9d55286ae5",
   "metadata": {
    "scrolled": true
   },
   "outputs": [
    {
     "name": "stderr",
     "output_type": "stream",
     "text": [
      "C:\\Users\\syahidhalid\\AppData\\Local\\Temp\\10\\ipykernel_1560\\1769413418.py:1: SettingWithCopyWarning: \n",
      "A value is trying to be set on a copy of a slice from a DataFrame.\n",
      "Try using .loc[row_indexer,col_indexer] = value instead\n",
      "\n",
      "See the caveats in the documentation: https://pandas.pydata.org/pandas-docs/stable/user_guide/indexing.html#returning-a-view-versus-a-copy\n",
      "  BG2.Borrower = BG2.Borrower.str.upper()\n",
      "C:\\Users\\syahidhalid\\AppData\\Local\\Temp\\10\\ipykernel_1560\\1769413418.py:3: SettingWithCopyWarning: \n",
      "A value is trying to be set on a copy of a slice from a DataFrame.\n",
      "Try using .loc[row_indexer,col_indexer] = value instead\n",
      "\n",
      "See the caveats in the documentation: https://pandas.pydata.org/pandas-docs/stable/user_guide/indexing.html#returning-a-view-versus-a-copy\n",
      "  BG2.loc[(BG2.Borrower.str.contains('BOUSTEAD')),'CIF Number'] = 'EXIM000491'\n",
      "C:\\Users\\syahidhalid\\AppData\\Local\\Temp\\10\\ipykernel_1560\\1769413418.py:14: SettingWithCopyWarning: \n",
      "A value is trying to be set on a copy of a slice from a DataFrame.\n",
      "Try using .loc[row_indexer,col_indexer] = value instead\n",
      "\n",
      "See the caveats in the documentation: https://pandas.pydata.org/pandas-docs/stable/user_guide/indexing.html#returning-a-view-versus-a-copy\n",
      "  BG2.loc[(BG2.Borrower.str.contains('BOUSTEAD')),'EXIM Account No.'] = '3308-02137-119-0330-00'\n",
      "C:\\Users\\syahidhalid\\AppData\\Local\\Temp\\10\\ipykernel_1560\\1769413418.py:26: SettingWithCopyWarning: \n",
      "A value is trying to be set on a copy of a slice from a DataFrame.\n",
      "Try using .loc[row_indexer,col_indexer] = value instead\n",
      "\n",
      "See the caveats in the documentation: https://pandas.pydata.org/pandas-docs/stable/user_guide/indexing.html#returning-a-view-versus-a-copy\n",
      "  BG2.loc[(BG2['C/I'].isin(['I'])),'Finance(SAP) Number'] = 'BG-I'\n"
     ]
    }
   ],
   "source": [
    "BG2.Borrower = BG2.Borrower.str.upper()\n",
    "\n",
    "BG2.loc[(BG2.Borrower.str.contains('BOUSTEAD')),'CIF Number'] = 'EXIM000491'\n",
    "BG2.loc[(BG2.Borrower.str.contains('PERTAMA')),'CIF Number'] = 'EXIM000140'\n",
    "BG2.loc[(BG2.Borrower.str.contains('OM MATERIAL')),'CIF Number'] = 'EXIM000145'\n",
    "BG2.loc[(BG2.Borrower.str.contains('SMH RAIL')),'CIF Number'] = 'EXIM000210'\n",
    "BG2.loc[(BG2.Borrower.str.contains('DESTINI')),'CIF Number'] = 'EXIM000169'\n",
    "BG2.loc[(BG2.Borrower.str.contains('ASIA CARGO')),'CIF Number'] = 'EXIM000277'\n",
    "BG2.loc[(BG2.Borrower.str.contains('PRINSIPTEK')),'CIF Number'] = 'EXIM000110'\n",
    "BG2.loc[(BG2.Borrower.str.contains('URBAN PINNACLE')),'CIF Number'] = 'EXIM000563'\n",
    "BG2.loc[(BG2.Borrower.str.contains('PETROLIAM NASIONAL')),'CIF Number'] = 'EXIM000432'\n",
    "BG2.loc[(BG2.Borrower.str.contains('HELMS GEOMARINE')),'CIF Number'] = 'EXIM000282'\n",
    "\n",
    "BG2.loc[(BG2.Borrower.str.contains('BOUSTEAD')),'EXIM Account No.'] = '3308-02137-119-0330-00'\n",
    "BG2.loc[(BG2.Borrower.str.contains('PERTAMA')),'EXIM Account No.'] = '3308-01137-216-0133-00'\n",
    "BG2.loc[(BG2.Borrower.str.contains('OM MATERIAL'))&(BG2.Currency==\"MYR\"),'EXIM Account No.'] = '3308-01137-216-0058-00'\n",
    "BG2.loc[(BG2.Borrower.str.contains('OM MATERIAL'))&(BG2.Currency==\"USD\"),'EXIM Account No.'] = '3308-02137-211-0088-00'\n",
    "BG2.loc[(BG2.Borrower.str.contains('SMH RAIL')),'EXIM Account No.'] = '3308-02137-216-0046-00' #&(BG2.Currency==\"USD\")\n",
    "BG2.loc[(BG2.Borrower.str.contains('DESTINI')),'EXIM Account No.'] = '3308-02137-117-0071-00'\n",
    "BG2.loc[(BG2.Borrower.str.contains('ASIA CARGO')),'EXIM Account No.'] = '3308-01137-117-0313-00'\n",
    "BG2.loc[(BG2.Borrower.str.contains('PRINSIPTEK')),'EXIM Account No.'] = '3308-02224-216-0032-00'\n",
    "BG2.loc[(BG2.Borrower.str.contains('URBAN PINNACLE')),'EXIM Account No.'] = '3308-01137-117-0325-00'\n",
    "BG2.loc[(BG2.Borrower.str.contains('PETROLIAM NASIONAL')),'EXIM Account No.'] = '212137862'\n",
    "BG2.loc[(BG2.Borrower.str.contains('HELMS GEOMARINE')),'EXIM Account No.'] = '1172241178'\n",
    "\n",
    "BG2.loc[(BG2['C/I'].isin(['I'])),'Finance(SAP) Number'] = 'BG-I'\n",
    "BG2.loc[(BG2['C/I'].isin(['C'])),'Finance(SAP) Number'] = 'BG'\n",
    "BG2.loc[(BG2.Borrower.str.contains('OM MATERIAL'))&(BG2.Currency==\"USD\"),'Finance(SAP) Number'] = '500724'\n",
    "\n",
    "BG3 = BG2.fillna(0).groupby(['CIF Number','EXIM Account No.','Finance(SAP) Number','Borrower','C/I'])[['Exposure (RM)','Facility Limit Undrawn (FC)','Facility Limit Undrawn (MYR)']].sum().reset_index()\n",
    "#\n",
    "BG3.rename(columns={'Borrower':'Customer Name',\n",
    "                    'Country':'Country Exposure',\n",
    "                    'C/I':'Type of Financing',\n",
    "                    'Currency':'Facility Currency','Exposure (RM)':'Contingent Liability (MYR)',\n",
    "                   'Facility Limit Undrawn (FC)':'Unutilised/Undrawn Amount (FC)','Facility Limit Undrawn (MYR)':'Unutilised/Undrawn Amount (MYR)'},inplace=True)\n"
   ]
  },
  {
   "cell_type": "code",
   "execution_count": null,
   "id": "df6fd225-25dc-496e-8376-c64700214d78",
   "metadata": {
    "scrolled": true
   },
   "outputs": [],
   "source": []
  },
  {
   "cell_type": "code",
   "execution_count": 8,
   "id": "500f4499-45ff-4da8-9d0d-97278d848a90",
   "metadata": {
    "scrolled": true
   },
   "outputs": [
    {
     "name": "stderr",
     "output_type": "stream",
     "text": [
      "C:\\Users\\syahidhalid\\AppData\\Local\\Temp\\10\\ipykernel_1560\\3738339327.py:5: SettingWithCopyWarning: \n",
      "A value is trying to be set on a copy of a slice from a DataFrame.\n",
      "Try using .loc[row_indexer,col_indexer] = value instead\n",
      "\n",
      "See the caveats in the documentation: https://pandas.pydata.org/pandas-docs/stable/user_guide/indexing.html#returning-a-view-versus-a-copy\n",
      "  LC2.loc[LC2.APPLICANT.str.contains('WSA VENTURE AUSTRALIA'),'EXIM Account No.'] = '3308-02137-122-0291-00'\n",
      "C:\\Users\\syahidhalid\\AppData\\Local\\Temp\\10\\ipykernel_1560\\3738339327.py:6: SettingWithCopyWarning: \n",
      "A value is trying to be set on a copy of a slice from a DataFrame.\n",
      "Try using .loc[row_indexer,col_indexer] = value instead\n",
      "\n",
      "See the caveats in the documentation: https://pandas.pydata.org/pandas-docs/stable/user_guide/indexing.html#returning-a-view-versus-a-copy\n",
      "  LC2.loc[LC2.APPLICANT.isin(['WSA VENTURE AUSTRALIA (M) SDN BHD (FAC 3)']),'CIF Number'] = 'EXIM000283'\n",
      "C:\\Users\\syahidhalid\\AppData\\Local\\Temp\\10\\ipykernel_1560\\3738339327.py:7: SettingWithCopyWarning: \n",
      "A value is trying to be set on a copy of a slice from a DataFrame.\n",
      "Try using .loc[row_indexer,col_indexer] = value instead\n",
      "\n",
      "See the caveats in the documentation: https://pandas.pydata.org/pandas-docs/stable/user_guide/indexing.html#returning-a-view-versus-a-copy\n",
      "  LC2.loc[LC2.APPLICANT.isin(['WSA VENTURE AUSTRALIA (M) SDN BHD (FAC 3)']),'Finance(SAP) Number'] = '501085'\n",
      "C:\\Users\\syahidhalid\\AppData\\Local\\Temp\\10\\ipykernel_1560\\3738339327.py:9: SettingWithCopyWarning: \n",
      "A value is trying to be set on a copy of a slice from a DataFrame.\n",
      "Try using .loc[row_indexer,col_indexer] = value instead\n",
      "\n",
      "See the caveats in the documentation: https://pandas.pydata.org/pandas-docs/stable/user_guide/indexing.html#returning-a-view-versus-a-copy\n",
      "  LC2['Type of Financing'] = 'I'\n"
     ]
    }
   ],
   "source": [
    "#=========================================LC==============================================\n",
    "\n",
    "LC2 = LC1.iloc[np.where(LC1.TYPE.isin([\"LC\",'REVERSAL','AMENDMENT']))]\n",
    "\n",
    "LC2.loc[LC2.APPLICANT.str.contains('WSA VENTURE AUSTRALIA'),'EXIM Account No.'] = '3308-02137-122-0291-00'\n",
    "LC2.loc[LC2.APPLICANT.isin(['WSA VENTURE AUSTRALIA (M) SDN BHD (FAC 3)']),'CIF Number'] = 'EXIM000283'\n",
    "LC2.loc[LC2.APPLICANT.isin(['WSA VENTURE AUSTRALIA (M) SDN BHD (FAC 3)']),'Finance(SAP) Number'] = '501085'\n",
    "\n",
    "LC2['Type of Financing'] = 'I'\n",
    "\n",
    "LC3 = LC2.fillna(0).groupby(['CIF Number','EXIM Account No.','Finance(SAP) Number','APPLICANT',\n",
    "                             'Type of Financing'])[['AMOUNT (RM)']].sum().reset_index().rename(columns={'APPLICANT':'Customer Name',\n",
    "'AMOUNT (RM)':'Contingent Liability Letter of Credit (MYR)',\n",
    "'CURR':'Facility Currency',\n",
    "'COUNTRY':'Country Exposure'}) #\n",
    "\n",
    "#'FOREIGN AMOUNT', \n",
    "#'FOREIGN AMOUNT':'Contingent Liability Letter of Credit (Facility Currency)',\n",
    "LC3['Unutilised/Undrawn Amount (FC)'] = 0\n",
    "LC3['Unutilised/Undrawn Amount (MYR)'] = 0\n",
    "\n",
    "append = pd.concat([BG3,LC3]).fillna(0)\n"
   ]
  },
  {
   "cell_type": "code",
   "execution_count": 9,
   "id": "61dfc273-2c73-4a1b-8dbf-524a362831c2",
   "metadata": {},
   "outputs": [],
   "source": [
    "LDB_prev['EXIM Account No.'] = LDB_prev['EXIM Account No.'].astype(str)\n",
    "\n",
    "appendfinal_ldb = append.merge(LDB_prev[['EXIM Account No.',\n",
    "                                              'Facility Currency']],on=['EXIM Account No.'],how='left', suffixes=('_x', ''),indicator=True)\n"
   ]
  },
  {
   "cell_type": "code",
   "execution_count": 10,
   "id": "84748483-c012-40e0-b541-5de77c7443e5",
   "metadata": {
    "scrolled": true
   },
   "outputs": [],
   "source": [
    "append1 = appendfinal_ldb.merge(MRate[['Month','Curr']].rename(columns={'Month':'Facility Currency'}), on='Facility Currency', how='left')\n"
   ]
  },
  {
   "cell_type": "code",
   "execution_count": null,
   "id": "8fcfb980-7ce0-4ed1-9854-947aa1d902aa",
   "metadata": {
    "scrolled": true
   },
   "outputs": [],
   "source": []
  },
  {
   "cell_type": "code",
   "execution_count": 11,
   "id": "75df2e7e-5aef-4605-ab17-baaa92fcd2cc",
   "metadata": {},
   "outputs": [],
   "source": [
    "append1['Contingent Liability (Facility Currency)'] = append1['Contingent Liability (MYR)']/append1['Curr']\n",
    "append1['Contingent Liability Letter of Credit (Facility Currency)'] = append1['Contingent Liability Letter of Credit (MYR)']/append1['Curr']\n",
    "append1['Unutilised/Undrawn Amount (FC)'] = append1['Unutilised/Undrawn Amount (MYR)']/append1['Curr']\n"
   ]
  },
  {
   "cell_type": "code",
   "execution_count": 12,
   "id": "88615444-59a2-4368-9022-6f0afc855281",
   "metadata": {},
   "outputs": [],
   "source": [
    "append2 = append1[['CIF Number',\n",
    "                   'EXIM Account No.',\n",
    "                   'Finance(SAP) Number',\n",
    "                   'Customer Name',\n",
    "                   #'Country Exposure',\n",
    "                   'Type of Financing',\n",
    "                   'Facility Currency',\n",
    "                   'Curr',\n",
    "                   'Unutilised/Undrawn Amount (FC)',\n",
    "                   'Unutilised/Undrawn Amount (MYR)',\n",
    "                   'Contingent Liability Letter of Credit (Facility Currency)',\n",
    "                   'Contingent Liability Letter of Credit (MYR)',\n",
    "                   'Contingent Liability (Facility Currency)',\n",
    "                   'Contingent Liability (MYR)']]"
   ]
  },
  {
   "cell_type": "code",
   "execution_count": 13,
   "id": "ea61063e-92fe-4507-808e-1c6a334f37ed",
   "metadata": {},
   "outputs": [
    {
     "data": {
      "text/plain": [
       "EXIM Account No.\n",
       "3308-02224-216-0032-00    1\n",
       "3308-01137-216-0133-00    1\n",
       "3308-01137-216-0058-00    1\n",
       "3308-02137-211-0088-00    1\n",
       "3308-02137-117-0071-00    1\n",
       "3308-02137-216-0046-00    1\n",
       "3308-01137-117-0313-00    1\n",
       "1172241178                1\n",
       "3308-02137-119-0330-00    1\n",
       "3308-01137-117-0325-00    1\n",
       "3308-02137-122-0291-00    1\n",
       "nan                       1\n",
       "Name: count, dtype: int64"
      ]
     },
     "execution_count": 13,
     "metadata": {},
     "output_type": "execute_result"
    }
   ],
   "source": [
    "append2['EXIM Account No.'].value_counts()"
   ]
  },
  {
   "cell_type": "code",
   "execution_count": 10,
   "id": "5854797d-3ce1-427d-b38d-71f0ec2bec1a",
   "metadata": {
    "scrolled": true
   },
   "outputs": [],
   "source": [
    "#sum(append['Contingent Liability (MYR)'])"
   ]
  },
  {
   "cell_type": "code",
   "execution_count": 11,
   "id": "1dc25687-a302-4d63-b3e2-2d1472e92e2d",
   "metadata": {},
   "outputs": [],
   "source": [
    "#str(Location)+'\\\\06. Contigent Liability '+str(LC[-7:]).title()+' (python).xlsx'"
   ]
  },
  {
   "cell_type": "code",
   "execution_count": 14,
   "id": "1398d15f-202b-4100-aea4-40546f009bc4",
   "metadata": {},
   "outputs": [],
   "source": [
    "#append2.to_excel(str(Location)+'\\\\06. Contigent Liability '+str(LC[-7:]).title()+' (python).xlsx',index=False)\n",
    "append2.to_excel(r'C:\\Users\\syahidhalid\\Syahid_PC\\Analytics - FAD\\00. Automation LDB\\Data Source\\202407\\06. Contigent Liability '+str(LC[-7:]).title()+' (python).xlsx',index=False)\n"
   ]
  },
  {
   "cell_type": "code",
   "execution_count": 13,
   "id": "c2b1611d-a521-4e42-b1ec-ace1804eb1ab",
   "metadata": {},
   "outputs": [],
   "source": [
    "#writer2 = pd.ExcelWriter(str(Location)+'\\\\06. Contigent Liability '+str(LC[-7:]).title()+' (python).xlsx',engine='xlsxwriter')\n",
    "\n",
    "#append2.to_excel(writer2, sheet_name='BG & LC', index = False)\n",
    "\n",
    "#writer2._save()"
   ]
  },
  {
   "cell_type": "code",
   "execution_count": null,
   "id": "3fd915ec-17c4-4f36-a663-c29e6518025d",
   "metadata": {},
   "outputs": [],
   "source": [
    "#LC3.shape"
   ]
  },
  {
   "cell_type": "code",
   "execution_count": null,
   "id": "d9965383-e975-4b5b-bb52-8ae86c0fc5d2",
   "metadata": {},
   "outputs": [],
   "source": [
    "#BG3.shape"
   ]
  },
  {
   "cell_type": "code",
   "execution_count": null,
   "id": "04515831-0385-4f33-83eb-5a8a9e59dc58",
   "metadata": {},
   "outputs": [],
   "source": [
    "#sum(BG3.iloc[np.where(BG3.Borrower=='OM Materials (Sarawak) Sdn Bhd')]['Exposure (RM)'])"
   ]
  },
  {
   "cell_type": "code",
   "execution_count": null,
   "id": "a9a1c892-b73c-46f1-85fb-5649b65d3be5",
   "metadata": {},
   "outputs": [],
   "source": [
    "#append"
   ]
  },
  {
   "cell_type": "code",
   "execution_count": null,
   "id": "f35c53a1-0443-4ec7-a422-21e308fbca0a",
   "metadata": {},
   "outputs": [],
   "source": []
  }
 ],
 "metadata": {
  "kernelspec": {
   "display_name": "Python 3 (ipykernel)",
   "language": "python",
   "name": "python3"
  },
  "language_info": {
   "codemirror_mode": {
    "name": "ipython",
    "version": 3
   },
   "file_extension": ".py",
   "mimetype": "text/x-python",
   "name": "python",
   "nbconvert_exporter": "python",
   "pygments_lexer": "ipython3",
   "version": "3.11.7"
  }
 },
 "nbformat": 4,
 "nbformat_minor": 5
}
