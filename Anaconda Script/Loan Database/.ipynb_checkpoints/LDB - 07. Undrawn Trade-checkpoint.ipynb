{
 "cells": [
  {
   "cell_type": "markdown",
   "id": "8ff01f47-60e6-4fff-bc68-b0c56c98b6bb",
   "metadata": {},
   "source": [
    "# load"
   ]
  },
  {
   "cell_type": "code",
   "execution_count": 1,
   "id": "e78e80c1-5cfd-460c-b3c3-2236dfce9f37",
   "metadata": {},
   "outputs": [],
   "source": [
    "#control + F + dropdown new to search bar to find and replace \n",
    "import pandas as pd\n",
    "import numpy as np\n",
    "import xlsxwriter\n",
    "\n",
    "#warnings.filterwarnings('ignore')\n",
    "pd.set_option(\"display.max_columns\", None) \n",
    "pd.set_option(\"display.max_colwidth\", 1000) #huruf dlm column\n",
    "pd.set_option(\"display.max_rows\", 100)\n",
    "pd.set_option(\"display.precision\", 2) #2 titik perpuluhan\n",
    "\n",
    "Location = r\"C:\\Users\\syahidhalid\\Syahid_PC\\Analytics - FAD\\00. Automation LDB\\Data Source\\202407\\Trade\"\n",
    "\n",
    "\n",
    "T = \"ECL computation July 2024\"\n",
    "T1 = pd.read_excel(str(Location)+\"\\\\\"+str(T)+\".xlsm\", sheet_name='Summary', header=6)\n",
    "\n",
    "#import xlrd\n",
    "#\n",
    "#T_BG = \"ECL computation Jun 2024 client - BG\"\n",
    "#T_BG1 = pd.read_excel(str(Location)+\"\\\\\"+str(T_BG)+\".xlsx\", header=6) \n",
    "\n",
    "LDB_prev = pd.read_excel(r\"C:\\Users\\syahidhalid\\Syahid_PC\\Analytics - SPD\\Loan Database\\LBD 202412 - 202401 (CSP Sector).xlsx\", sheet_name='Jun24', header=0) # skiprows = 2, nrows=18,  usecols= 'A:D'\n",
    "\n",
    "MRate = pd.read_excel(r\"C:\\Users\\syahidhalid\\Syahid_PC\\Analytics - FAD\\00. Automation LDB\\Data Source\\202407\\00. Month End Rate.xlsx\", header=2) # skiprows = 2, nrows=18,  usecols= 'A:D'\n"
   ]
  },
  {
   "cell_type": "markdown",
   "id": "f27bba37-ec72-4d88-82df-727e014701ec",
   "metadata": {},
   "source": [
    "# Process"
   ]
  },
  {
   "cell_type": "code",
   "execution_count": null,
   "id": "2550ded1-7a09-4960-86a2-1c9dc59f91fc",
   "metadata": {},
   "outputs": [],
   "source": []
  },
  {
   "cell_type": "code",
   "execution_count": 7,
   "id": "52298f6d-b321-4c10-ac88-5439ce74a0b0",
   "metadata": {
    "scrolled": true
   },
   "outputs": [],
   "source": [
    "#=================================================================Trade======================================================\n",
    "\n",
    "T1.columns = T1.columns.str.strip()\n",
    "T1['Account No'] = T1['Account No'].astype(str)\n",
    "\n",
    "LDB_prev.columns = LDB_prev.columns.str.strip()\n",
    "LDB_prev['Finance(SAP) Number'] = LDB_prev['Finance(SAP) Number'].astype(str)\n",
    "\n",
    "T2 = T1.iloc[np.where(~T1.Currency.isna())][['Account No','Borrower name','Undrawn amount (base currency)','Profit Rate/ EIR','Currency',\n",
    "          'First Released Date','Maturity date','Availability period','DPD','Principal payment frequency','Interest payment frequency']].rename(columns={'Account No':'Finance(SAP) Number'})\n"
   ]
  },
  {
   "cell_type": "code",
   "execution_count": null,
   "id": "aaa6b55f-bba0-41f0-9d44-22e65557defa",
   "metadata": {},
   "outputs": [],
   "source": []
  },
  {
   "cell_type": "code",
   "execution_count": 8,
   "id": "d5c7532d-d084-4a86-a208-88fcbc08c1b9",
   "metadata": {},
   "outputs": [],
   "source": [
    "\n",
    "merge = T2.merge(LDB_prev[['CIF Number','EXIM Account No.','Finance(SAP) Number']], on='Finance(SAP) Number', how='left')\n",
    "\n",
    "merge1 = merge.merge(MRate[['Month','Curr']].rename(columns={'Month':'Currency'}), on='Currency', how='left')\n",
    "\n",
    "merge1['Unutilised/ Undrawn Amount (MYR)'] = merge1['Undrawn amount (base currency)']*merge1['Curr']\n",
    "merge1['Profit Rate/ EIR'] = merge1['Profit Rate/ EIR']*100\n",
    "\n",
    "merge1 = merge1.rename(columns={'Undrawn amount (base currency)':'Unutilised/ Undrawn Amount (Facility Currency)',\n",
    "                               'Profit Rate/ EIR':'Average Profit/Interest Rate'})"
   ]
  },
  {
   "cell_type": "code",
   "execution_count": null,
   "id": "500ad981-ad74-40dd-a8f7-65933f91c310",
   "metadata": {},
   "outputs": [],
   "source": []
  },
  {
   "cell_type": "code",
   "execution_count": 9,
   "id": "59d114c9-7244-4d3d-add0-c7de5e8080a6",
   "metadata": {},
   "outputs": [],
   "source": [
    "merge1 = merge1[[ 'CIF Number','EXIM Account No.','Finance(SAP) Number', 'Borrower name', 'Currency', 'Curr',\n",
    "       'Unutilised/ Undrawn Amount (Facility Currency)', 'Unutilised/ Undrawn Amount (MYR)',\n",
    "       'Average Profit/Interest Rate',\n",
    "          'First Released Date','Maturity date','Availability period','DPD','Principal payment frequency','Interest payment frequency']]"
   ]
  },
  {
   "cell_type": "code",
   "execution_count": 22,
   "id": "bb04b924-8bb5-4c66-936c-d960188d613d",
   "metadata": {},
   "outputs": [],
   "source": [
    "#merge1"
   ]
  },
  {
   "cell_type": "code",
   "execution_count": 10,
   "id": "79f0e8dd-6c9d-4049-9251-775c5ce19874",
   "metadata": {
    "scrolled": true
   },
   "outputs": [
    {
     "data": {
      "text/plain": [
       "CIF Number                                                object\n",
       "EXIM Account No.                                          object\n",
       "Finance(SAP) Number                                       object\n",
       "Borrower name                                             object\n",
       "Currency                                                  object\n",
       "Curr                                                     float64\n",
       "Unutilised/ Undrawn Amount (Facility Currency)           float64\n",
       "Unutilised/ Undrawn Amount (MYR)                         float64\n",
       "Average Profit/Interest Rate                             float64\n",
       "First Released Date                               datetime64[ns]\n",
       "Maturity date                                             object\n",
       "Availability period                               datetime64[ns]\n",
       "DPD                                                      float64\n",
       "Principal payment frequency                               object\n",
       "Interest payment frequency                                object\n",
       "dtype: object"
      ]
     },
     "execution_count": 10,
     "metadata": {},
     "output_type": "execute_result"
    }
   ],
   "source": [
    "merge1.dtypes"
   ]
  },
  {
   "cell_type": "code",
   "execution_count": 24,
   "id": "6aa9081c-5dcb-4229-bbf8-b8c636e0b8c3",
   "metadata": {},
   "outputs": [],
   "source": [
    "#x = \"2024-10-05 00:00:00\"\n",
    "#x[:10]"
   ]
  },
  {
   "cell_type": "code",
   "execution_count": 11,
   "id": "043de800-76ba-4874-8494-bd0d922ab630",
   "metadata": {},
   "outputs": [],
   "source": [
    "import datetime\n",
    "merge1['Maturity date'] = pd.to_datetime(merge1['Maturity date'], format='%Y%m%d')\n"
   ]
  },
  {
   "cell_type": "code",
   "execution_count": 27,
   "id": "2590f806-16cc-42a0-a0c5-8d7e05c31c3d",
   "metadata": {},
   "outputs": [],
   "source": [
    "#merge1"
   ]
  },
  {
   "cell_type": "code",
   "execution_count": 28,
   "id": "2aafb7f9-5be0-4a09-afc2-946741fe0d5a",
   "metadata": {},
   "outputs": [],
   "source": [
    "#merge1.to_excel(str(Location)+\"\\\\07. Undrawn Trade \"+str(T[-9:])+\".xlsx\", sheet_name='Export Worksheet', index=False)"
   ]
  },
  {
   "cell_type": "code",
   "execution_count": 12,
   "id": "e393d121-d6cc-4f07-8f92-92c4c5a8188e",
   "metadata": {},
   "outputs": [],
   "source": [
    "merge1.to_excel(r\"C:\\\\Users\\\\syahidhalid\\\\Syahid_PC\\\\Analytics - FAD\\\\00. Automation LDB\\\\Data Source\\\\202407\\\\07. Undrawn Trade \"+str(T[-9:])+\".xlsx\", sheet_name='Export Worksheet', index=False)"
   ]
  },
  {
   "cell_type": "code",
   "execution_count": 25,
   "id": "10b90a8a-4702-47c4-9d1c-626bfc125c3b",
   "metadata": {},
   "outputs": [
    {
     "data": {
      "text/plain": [
       "'June 2024'"
      ]
     },
     "execution_count": 25,
     "metadata": {},
     "output_type": "execute_result"
    }
   ],
   "source": [
    "T[-9:] #= \"05. ECL Computation Client Template June-24 (Regular)\""
   ]
  },
  {
   "cell_type": "code",
   "execution_count": null,
   "id": "326ca018-d08e-4b1b-87f2-e399b2ad5248",
   "metadata": {},
   "outputs": [],
   "source": []
  },
  {
   "cell_type": "code",
   "execution_count": null,
   "id": "f45b022c-2cc1-436c-84a4-09658c300c3d",
   "metadata": {},
   "outputs": [],
   "source": []
  },
  {
   "cell_type": "code",
   "execution_count": null,
   "id": "30939143-5131-4e7d-8d1b-fdd3d6208fc4",
   "metadata": {},
   "outputs": [],
   "source": []
  }
 ],
 "metadata": {
  "kernelspec": {
   "display_name": "Python 3 (ipykernel)",
   "language": "python",
   "name": "python3"
  },
  "language_info": {
   "codemirror_mode": {
    "name": "ipython",
    "version": 3
   },
   "file_extension": ".py",
   "mimetype": "text/x-python",
   "name": "python",
   "nbconvert_exporter": "python",
   "pygments_lexer": "ipython3",
   "version": "3.11.7"
  }
 },
 "nbformat": 4,
 "nbformat_minor": 5
}
