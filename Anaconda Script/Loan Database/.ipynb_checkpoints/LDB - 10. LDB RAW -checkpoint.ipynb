{
 "cells": [
  {
   "cell_type": "code",
   "execution_count": 1,
   "id": "7cc89695-2634-49cd-ae57-e1eee4d84a01",
   "metadata": {},
   "outputs": [],
   "source": [
    "Position = \"31/7/2024\"\n",
    "\n",
    "Year = \"202407\"\n",
    "\n",
    "Location = r\"C:\\Users\\syahidhalid\\Syahid_PC\\Analytics - FAD\\00. Automation LDB\\Data Source\\\\\"+str(Year)+\"\\\\\"\n",
    "\n",
    "import pandas as pd\n",
    "import numpy as np\n",
    "import xlsxwriter\n",
    "\n",
    "pd.set_option(\"display.max_columns\", None) \n",
    "pd.set_option(\"display.max_colwidth\", 1000) #huruf dlm column\n",
    "pd.set_option(\"display.max_rows\", 100)\n",
    "pd.set_option(\"display.precision\", 2) #2 titik perpuluhan"
   ]
  },
  {
   "cell_type": "code",
   "execution_count": 2,
   "id": "470d8bee-86bc-4cf2-ae52-8a186ff8b989",
   "metadata": {},
   "outputs": [],
   "source": [
    "#LDB_prev = pd.read_excel(r\"C:\\Users\\syahidhalid\\Syahid_PC\\Analytics - SPD\\Loan Database\\LBD 202412 - 202401 (CSP Sector).xlsx\", sheet_name='Jun24 working', header=0) # skiprows = 2, nrows=18,  usecols= 'A:D'\n",
    "LDB_prev_ol = pd.read_excel(r\"C:\\Users\\syahidhalid\\Syahid_PC\\Analytics - FAD\\00. Automation LDB\\Data Source\\202406\\Loan Database as Jun 2024 (python) - Final.xlsx\", sheet_name='Export Worksheet', header=1) # skiprows = 2, nrows=18,  usecols= 'A:D'\n",
    "\n",
    "MRate = pd.read_excel(r\"C:\\Users\\syahidhalid\\Syahid_PC\\Analytics - FAD\\00. Automation LDB\\Data Source\\202407\\00. Month End Rate.xlsx\", header=2) # skiprows = 2, nrows=18,  usecols= 'A:D'\n"
   ]
  },
  {
   "cell_type": "code",
   "execution_count": 3,
   "id": "73851028-ae25-45eb-a022-2b7c1b267672",
   "metadata": {},
   "outputs": [],
   "source": [
    "LDB_prev = LDB_prev_ol.iloc[np.where(LDB_prev_ol['EXIM Account No.']!='Total')]"
   ]
  },
  {
   "cell_type": "code",
   "execution_count": 4,
   "id": "a5724999-23bf-4f0b-8cc3-2c136acd9204",
   "metadata": {},
   "outputs": [],
   "source": [
    "#print(LDB_prev_ol.shape)\n",
    "#print(LDB_prev.shape)\n"
   ]
  },
  {
   "cell_type": "code",
   "execution_count": 5,
   "id": "af9e05d8-617f-4b94-82a0-95c5c6ea0b6a",
   "metadata": {},
   "outputs": [],
   "source": [
    "File1 = \"01. Debtor Listing Jul 2024 (python)\"\n",
    "FILE1 = pd.read_excel(str(Location)+\"\\\\\"+str(File1)+\".xlsx\", sheet_name='Export Worksheet', header=0) # skiprows = 2, nrows=18,  usecols= 'A:D'\n"
   ]
  },
  {
   "cell_type": "code",
   "execution_count": 6,
   "id": "2c4f3e9f-22b7-45be-9741-c47b2e0f5b4c",
   "metadata": {},
   "outputs": [],
   "source": [
    "File2 = \"02. Disbursement & Drawdown Jul 2024 (python)\"\n",
    "FILE2 = pd.read_excel(str(Location)+\"\\\\\"+str(File2)+\".xlsx\", sheet_name='Export Worksheet', header=0) # skiprows = 2, nrows=18,  usecols= 'A:D'\n"
   ]
  },
  {
   "cell_type": "code",
   "execution_count": 7,
   "id": "4e2074eb-4be5-4ca0-aad0-a35357161b89",
   "metadata": {},
   "outputs": [],
   "source": [
    "File5 = \"05. Data Mirror Jul 2024 (python)\"\n",
    "FILE5 = pd.read_excel(str(Location)+\"\\\\\"+str(File5)+\".xlsx\", sheet_name='Other_Charges_Payment', header=0) # skiprows = 2, nrows=18,  usecols= 'A:D'\n",
    "FILE6 = pd.read_excel(str(Location)+\"\\\\\"+str(File5)+\".xlsx\", sheet_name='Profit_Payment', header=0) # skiprows = 2, nrows=18,  usecols= 'A:D'\n"
   ]
  },
  {
   "cell_type": "code",
   "execution_count": 8,
   "id": "bab9ce12-8dcb-4d67-9f09-653df2d2297c",
   "metadata": {},
   "outputs": [],
   "source": [
    "File_cont = \"06. Contigent Liability Jul2024 (python)\"\n",
    "Contigent = pd.read_excel(str(Location)+\"\\\\\"+str(File_cont)+\".xlsx\", header=0) # skiprows = 2, nrows=18,  usecols= 'A:D'\n"
   ]
  },
  {
   "cell_type": "code",
   "execution_count": 9,
   "id": "b04fa48e-c4f1-4ed2-902a-30ee31498859",
   "metadata": {},
   "outputs": [],
   "source": [
    "ECLTrNTr = \"08. Trade & Non Trade Combine\"\n",
    "\n",
    "Undrawn = pd.read_excel(str(Location)+\"\\\\\"+str(ECLTrNTr)+\".xlsx\", sheet_name='Export Worksheet', header=0) # skiprows = 2, nrows=18,  usecols= 'A:D'\n"
   ]
  },
  {
   "cell_type": "code",
   "execution_count": 10,
   "id": "cde79c07-83fd-4a50-bf78-461faac5f1d1",
   "metadata": {},
   "outputs": [],
   "source": [
    "IIS = \"09. IIS from ARRD\"\n",
    "\n",
    "IIS_ARRD = pd.read_excel(str(Location)+\"\\\\\"+str(IIS)+\".xlsx\", sheet_name='Export Worksheet', header=0) # skiprows = 2, nrows=18,  usecols= 'A:D'\n"
   ]
  },
  {
   "cell_type": "code",
   "execution_count": 11,
   "id": "2bb1530a-09a4-4a80-b02c-fae24809edb6",
   "metadata": {},
   "outputs": [],
   "source": [
    "#SubAcc = \"ARRD - JUNE24\"\n",
    "\n",
    "#MIA = pd.read_excel(r\"C:\\Users\\syahidhalid\\Syahid_PC\\Analytics - FAD\\00. Automation LDB\\Data Source\\202407\\ARRD\\\\\"+str(SubAcc)+\".xlsx\", sheet_name='ARRD', header=7) # skiprows = 2, nrows=18,  usecols= 'A:D'\n"
   ]
  },
  {
   "cell_type": "code",
   "execution_count": 12,
   "id": "1a8f417b-93ee-4fd0-b7bd-15e2c7d35588",
   "metadata": {},
   "outputs": [],
   "source": [
    "#LDB_prev.columns = LDB_prev.columns.str.replace(\"\\n\", \"_\")\n",
    "#LDB_prev.columns = LDB_prev.columns.str.replace(\" \", \"_\")\n",
    "#LDB_prev.columns = LDB_prev.columns.str.replace(\".\", \"\")"
   ]
  },
  {
   "cell_type": "code",
   "execution_count": null,
   "id": "b9744ca3-a75f-436e-926f-caa8e514f6fe",
   "metadata": {},
   "outputs": [],
   "source": []
  },
  {
   "cell_type": "markdown",
   "id": "de01b1e0-26a1-4d90-b8c2-e78344a82e13",
   "metadata": {},
   "source": [
    "# Process"
   ]
  },
  {
   "cell_type": "markdown",
   "id": "ef748df1-0046-4d88-8c5d-756fc0d3ff52",
   "metadata": {},
   "source": [
    "1. selarikn average profit"
   ]
  },
  {
   "cell_type": "code",
   "execution_count": 13,
   "id": "1e37e650-f421-4be6-9ae5-b46e2852dde5",
   "metadata": {
    "scrolled": true
   },
   "outputs": [],
   "source": [
    "IIS_ARRD['CODE'] = IIS_ARRD['CODE'].astype(str)\n",
    "\n",
    "IIS_ARRD['Average Profit/Interest Rate'] = IIS_ARRD['Average Profit/Interest Rate']*100\n",
    "IIS_ARRD['Ta`widh Compensation/Penalty Rate'] = IIS_ARRD['Ta`widh Compensation/Penalty Rate']*100\n",
    "\n",
    "Undrawn['Finance(SAP) Number'] = Undrawn['Finance(SAP) Number'].astype(str)\n",
    "\n",
    "\n",
    "avg_prof = Undrawn.merge(IIS_ARRD.rename(columns={'CODE':'Finance(SAP) Number'}), on='Finance(SAP) Number', how=\"outer\")\n",
    "\n",
    "avg_prof['Average Profit/Interest Rate_x'].fillna(0,inplace=True)\n",
    "avg_prof['Average Profit/Interest Rate_y'].fillna(0,inplace=True)\n",
    "avg_prof['Ta`widh Compensation/Penalty Rate'].fillna(0,inplace=True)\n",
    "avg_prof['Ta`widh Compensation/Penalty Rate'].fillna(0,inplace=True)\n",
    "avg_prof['Unutilised/ Undrawn Amount (Facility Currency)'].fillna(0,inplace=True)\n",
    "avg_prof['Unutilised/ Undrawn Amount (MYR)'].fillna(0,inplace=True)\n",
    "\n",
    "avg_prof['Average Profit/Interest Rate'] = avg_prof['Average Profit/Interest Rate_x'] + avg_prof['Average Profit/Interest Rate_y']\n",
    "\n",
    "avg_prof1 = avg_prof.drop(['Average Profit/Interest Rate_x','Average Profit/Interest Rate_y'],axis=1)"
   ]
  },
  {
   "cell_type": "markdown",
   "id": "62031bed-85d1-42b1-b01b-2ff4241bcbc0",
   "metadata": {},
   "source": [
    "2. combine debtors with prev ldb"
   ]
  },
  {
   "cell_type": "code",
   "execution_count": 14,
   "id": "f20db7f2-5416-429e-a4f7-8138985d41af",
   "metadata": {},
   "outputs": [],
   "source": [
    "LDB_prev.columns = LDB_prev.columns.str.strip()\n",
    "LDB_prev.columns = LDB_prev.columns.str.replace(\"\\n\", \"\")\n",
    "\n",
    "LDB_prev1 = LDB_prev[['CIF Number',\n",
    "                      'EXIM Account No.',\n",
    "                      'Application System Code',\n",
    "                      'CCRIS Master Account Number',\n",
    "                      'CCRIS Sub Account Number',\n",
    "                      'Finance(SAP) Number',\n",
    "                            'Company Group',\n",
    "                            'Customer Name',\n",
    "                            'Relationship Manager (RM)',\n",
    "                            'Banking Team',\n",
    "                            'Ownership',\n",
    "                            'Officer in Charge',\n",
    "                            'Syndicated / Club Deal',\n",
    "                            'Nature of Account',\n",
    "                            'Facility',\n",
    "                            'Facility Currency',\n",
    "                            'Type of Financing',\n",
    "                            'Shariah Contract / Concept',\n",
    "                            'Fund / Guarantee /Program / Insentif',\n",
    "                            'Status',\n",
    "                            'Post Approval Stage',\n",
    "                            'Date of Ready for Utilization (RU)',\n",
    "                            'Restructured / Rescheduled(Y/N)',\n",
    "                            'Amount Approved / Facility Limit (Facility Currency)',\n",
    "                            #'Amount Approved / Facility Limit (MYR)',\n",
    "                            #'Cost/Principal Outstanding (Facility Currency)',\n",
    "                            #'Cost/Principal Outstanding (MYR)',\n",
    "                            #'Contingent Liability Letter of Credit (Facility Currency)',\n",
    "                            #'Contingent Liability Letter of Credit (MYR)',\n",
    "                            #'Contingent Liability (Facility Currency)',\n",
    "                            #'Contingent Liability (MYR)',\n",
    "                            'Account Receivables/Past Due Claims (Facility Currency)',\n",
    "                            'Account Receivable/Past Due Claims (MYR)',\n",
    "                            #'Total Banking Exposure (Facility Currency)',\n",
    "                            #'Total Banking Exposure (MYR)',\n",
    "                            #'Accrued Profit/Interest of the month (Facility Currency)',\n",
    "                            #'Accrued Profit/Interest of the month (MYR)',\n",
    "                            #'Modification of Loss (Facility Currency)',\n",
    "                            #'Modification of Loss (MYR)',\n",
    "                            #'Cumulative Accrued Profit/Interest (Facility Currency)',\n",
    "                            #'Cumulative Accrued Profit/Interest (MYR)',                            \n",
    "                            \"Penalty/Ta`widh (Facility Currency)\",\n",
    "                            #'Penalty/Ta`widh (MYR)',\n",
    "                            #'Income/Interest in Suspense (Facility Currency)',\n",
    "                            #'Income/Interest in Suspense (MYR)',\n",
    "                            #'Other Charges (Facility Currency)',\n",
    "                            #'Other Charges (MYR)',\n",
    "                            #'Total Loans Outstanding (Facility Currency)',\n",
    "                            #'Total Loans Outstanding (MYR)',\n",
    "                            #'Expected Credit Loss (ECL) LAF (Facility Currency)',\n",
    "                            #'Expected Credit Loss LAF (ECL) (MYR)',\n",
    "                            #'Expected Credit Loss C&C (ECL) (Facility Currency)',\n",
    "                            #'Expected Credit Loss C&C (ECL) (MYR)',\n",
    "                            'Disbursement/Drawdown Status',\n",
    "                            #'Unutilised/ Undrawn Amount (Facility Currency)',\n",
    "                            #'Unutilised/ Undrawn Amount (MYR)',\n",
    "                            #'Disbursement/Drawdown (Facility Currency)',\n",
    "                            #'Disbursement/Drawdown (MYR)',\n",
    "                            #'Cumulative Disbursement/Drawdown (Facility Currency)',\n",
    "                            #'Cumulative Disbursement/Drawdown (MYR)',\n",
    "                            #'Cost Payment/Principal Repayment (Facility Currency)',\n",
    "                            #'Cost Payment/Principal Repayment (MYR)',                            \n",
    "                            #'Cumulative Cost Payment/Principal Repayment (Facility Currency)',\n",
    "                            #'Cumulative Cost Payment/Principal Repayment (MYR)',\n",
    "                            #'Profit Payment/Interest Repayment (Facility Currency)',\n",
    "                            #'Profit Payment/Interest Repayment (MYR)',\n",
    "                            #'Cumulative Profit Payment/Interest Repayment (Facility Currency)',\n",
    "                            #'Cumulative Profit Payment/Interest Repayment (MYR)',\n",
    "                            #'Ta`widh Payment/Penalty Repayment (Facility Currency)',\n",
    "                            #'Ta`widh Payment/Penalty Repayment  (MYR)',\n",
    "                            #'Cumulative Ta`widh Payment/Penalty Repayment (Facility Currency)',\n",
    "                            #'Cumulative Ta`widh Payment/Penalty Repayment  (MYR)',\n",
    "                            #'Other Charges Payment (Facility Currency)',\n",
    "                            #'Other Charges Payment (MYR)',\n",
    "                            #'Cumulative Other Charges Payment (Facility Currency)',\n",
    "                            #'Cumulative Other Charges Payment (MYR)',\n",
    "                            'Rating at Origination',\n",
    "                            'PD',\n",
    "                            'PF',\n",
    "                            'CRMS Obligor Risk Rating',\n",
    "                            'CRMS CG Rating',\n",
    "                            'PD (%)',\n",
    "                            'LGD (%)',\n",
    "                            'Risk Analyst',\n",
    "                            'MFRS9 Staging',\n",
    "                            'BNM Main Sector',\n",
    "                            'BNM Sub Sector',\n",
    "                            'EXIM Main Sector',\n",
    "                            'Industry (Risk)',\n",
    "                            'Industry Classification',\n",
    "                            'Purpose of Financing',\n",
    "                            'Date Approved at Origination',\n",
    "                            'Approval Authority',\n",
    "                            'LO issuance Date',\n",
    "                            'Date of LO Acceptance',\n",
    "                            #'1st Disbursement/Drawdown Date',\n",
    "                            '1st Payment/Repayment Date',\n",
    "                            #'Expiry of Availability Period',\n",
    "                            'Facility Agreement Date',\n",
    "                            'Annual Review Date',\n",
    "                            'Watchlist Review Date',\n",
    "                            #'Maturity/Expired Date',\n",
    "                            'Grace Period (Month)',\n",
    "                            'Moratorium Period (Month)',\n",
    "                            'Start Moratorium Date',\n",
    "                            'Tenure (Month)', #=(CY4-CS4)/30.5,  CY=MATURITY, CS=1ST DISBURSE\n",
    "                            'Payment/Repayment Frequency (Profit/Interest)',\n",
    "                            'Payment/Repayment Frequency (Cost/Principal)',\n",
    "                            'Effective cost of borrowings',\n",
    "                            'Profit/Interest Margin',\n",
    "                            #'Average Profit/Interest Rate',\n",
    "                            #'Ta`widh Compensation/Penalty Rate',\n",
    "                            'Operation Country',\n",
    "                            'Country Exposure',\n",
    "                            'Country Rating',\n",
    "                            'Region',\n",
    "                            'Market Type',\n",
    "                            'Classification of Entity / Customer Type',\n",
    "                            'Entity / Customer Type',\n",
    "                            'Classification of Residency Status',\n",
    "                            'Residency Status',\n",
    "                            'Corporate Type',\n",
    "                            'SME Commercial Corporate',\n",
    "                            'Corporate Status',\n",
    "                            'Justification on Corporate Status',\n",
    "                            'Restructured / Rescheduled',\n",
    "                            'Date of Approval Restructured / Rescheduled',\n",
    "                            'Effective Date',\n",
    "                            'Reason',\n",
    "                            'Date Untagged from R&R',\n",
    "                            'Justification for Untagged',\n",
    "                            'Frequency',\n",
    "                            'Date of Overdue',\n",
    "                            #'Overdue (Days)',\n",
    "                            'Month in Arrears',\n",
    "                            'Overdue Amount (Facility Currency)',\n",
    "                            'Overdue Amount (MYR)',\n",
    "                            'Date Classified as Watchlist',\n",
    "                            'Watchlist Reason',\n",
    "                            'Date Declassified from Watchlist',\n",
    "                            'Date Impaired',\n",
    "                            'Reason for Impairment',\n",
    "                            'Partial Write off Date',\n",
    "                            'Write off Date',\n",
    "                            'Cancellation Date/Fully Settled Date',\n",
    "                            #'Position as At'\n",
    "                     ]].drop_duplicates('Finance(SAP) Number', keep='first')"
   ]
  },
  {
   "cell_type": "code",
   "execution_count": 15,
   "id": "4d8d6169-ab12-4b1e-91e2-381ade8401de",
   "metadata": {},
   "outputs": [],
   "source": [
    "# file 1 is debtor\n",
    "\n",
    "FILE1_1 = FILE1.sort_values(by=\"Total Loans Outstanding (MYR)\",ascending=False)\n",
    "FILE1_1['Finance(SAP) Number'] = FILE1_1['Finance(SAP) Number'].astype(str)\n",
    "\n",
    "LDB_prev1['Finance(SAP) Number'] = LDB_prev1['Finance(SAP) Number'].astype(str)\n",
    "\n",
    "merge_ldb = FILE1_1.merge(LDB_prev1[['EXIM Account No.',\n",
    "                                     'CIF Number',\n",
    "                                     'Finance(SAP) Number',\n",
    "                                     'Customer Name',\n",
    "                                     'Facility Currency']].drop_duplicates('Finance(SAP) Number',keep='first'),on=['Finance(SAP) Number'],how='left', suffixes=('_x', ''))\n",
    "\n",
    "merge_ldb.sort_values('Total Loans Outstanding (MYR)', ascending=False, inplace=True)\n",
    "\n",
    "merge_ldb['Facility Currency'].fillna(0,inplace=True)\n",
    "merge_ldb.loc[merge_ldb['Facility Currency']==0, 'Facility Currency'] = merge_ldb['Facility Currency_x']\n",
    "\n",
    "merge_ldb['Customer Name'].fillna(0,inplace=True)\n",
    "merge_ldb.loc[merge_ldb['Customer Name']==0, 'Customer Name'] = merge_ldb['Customer Name_x']\n",
    "\n",
    "merge_ldb = merge_ldb.drop(['Facility Currency_x','Customer Name_x'],axis=1)\n"
   ]
  },
  {
   "cell_type": "code",
   "execution_count": 16,
   "id": "20497763-6a0a-4502-88a0-0de66bf3c776",
   "metadata": {
    "scrolled": true
   },
   "outputs": [],
   "source": [
    "#check klau ad yg xde account lg\n",
    "#sum(merge_ldb.iloc[np.where(merge_ldb['EXIM Account No.'].isna())]['Total Loans Outstanding (MYR)'])#.value_counts()"
   ]
  },
  {
   "cell_type": "code",
   "execution_count": 17,
   "id": "3e52bcb0-56ae-4e32-979c-429391fbd7ae",
   "metadata": {},
   "outputs": [
    {
     "data": {
      "text/plain": [
       "(268, 20)"
      ]
     },
     "execution_count": 17,
     "metadata": {},
     "output_type": "execute_result"
    }
   ],
   "source": [
    "FILE1.shape"
   ]
  },
  {
   "cell_type": "code",
   "execution_count": 18,
   "id": "171625ec-99a4-4e09-8b57-b481a819cbc0",
   "metadata": {},
   "outputs": [
    {
     "data": {
      "text/plain": [
       "(268, 22)"
      ]
     },
     "execution_count": 18,
     "metadata": {},
     "output_type": "execute_result"
    }
   ],
   "source": [
    "merge_ldb.shape"
   ]
  },
  {
   "cell_type": "code",
   "execution_count": null,
   "id": "915f503f-4563-4b9b-bb68-d0fc275d756b",
   "metadata": {},
   "outputs": [],
   "source": []
  },
  {
   "cell_type": "code",
   "execution_count": 19,
   "id": "a26fe832-2809-45fc-97cf-b4d01001b798",
   "metadata": {},
   "outputs": [],
   "source": [
    "LDB_prev2 = LDB_prev[['CIF Number',\n",
    "                      'EXIM Account No.',\n",
    "                      'Application System Code',\n",
    "                      'CCRIS Master Account Number',\n",
    "                      'CCRIS Sub Account Number',\n",
    "                      'Finance(SAP) Number',\n",
    "                            'Company Group',\n",
    "                            'Customer Name',\n",
    "                            'Relationship Manager (RM)',\n",
    "                            'Banking Team',\n",
    "                            'Ownership',\n",
    "                            'Officer in Charge',\n",
    "                            'Syndicated / Club Deal',\n",
    "                            'Nature of Account',\n",
    "                            'Facility',\n",
    "                            'Facility Currency',\n",
    "                            'Type of Financing',\n",
    "                            'Shariah Contract / Concept',\n",
    "                            'Fund / Guarantee /Program / Insentif',\n",
    "                            'Status',\n",
    "                            'Post Approval Stage',\n",
    "                            'Date of Ready for Utilization (RU)',\n",
    "                            'Restructured / Rescheduled(Y/N)',\n",
    "                            'Amount Approved / Facility Limit (Facility Currency)',\n",
    "                            #'Amount Approved / Facility Limit (MYR)',\n",
    "                            #'Cost/Principal Outstanding (Facility Currency)',\n",
    "                            #'Cost/Principal Outstanding (MYR)',\n",
    "                            #'Contingent Liability Letter of Credit (Facility Currency)',\n",
    "                            #'Contingent Liability Letter of Credit (MYR)',\n",
    "                            #'Contingent Liability (Facility Currency)',\n",
    "                            #'Contingent Liability (MYR)',\n",
    "                            'Account Receivables/Past Due Claims (Facility Currency)',\n",
    "                            'Account Receivable/Past Due Claims (MYR)',\n",
    "                            #'Total Banking Exposure (Facility Currency)',\n",
    "                            #'Total Banking Exposure (MYR)',\n",
    "                            #'Accrued Profit/Interest of the month (Facility Currency)',\n",
    "                            #'Accrued Profit/Interest of the month (MYR)',\n",
    "                            #'Modification of Loss (Facility Currency)',\n",
    "                            #'Modification of Loss (MYR)',\n",
    "                            #'Cumulative Accrued Profit/Interest (Facility Currency)',\n",
    "                            #'Cumulative Accrued Profit/Interest (MYR)',                            \n",
    "                            \"Penalty/Ta`widh (Facility Currency)\",\n",
    "                            #'Penalty/Ta`widh (MYR)',\n",
    "                            #'Income/Interest in Suspense (Facility Currency)',\n",
    "                            #'Income/Interest in Suspense (MYR)',\n",
    "                            #'Other Charges (Facility Currency)',\n",
    "                            #'Other Charges (MYR)',\n",
    "                            #'Total Loans Outstanding (Facility Currency)',\n",
    "                            #'Total Loans Outstanding (MYR)',\n",
    "                            #'Expected Credit Loss (ECL) LAF (Facility Currency)',\n",
    "                            #'Expected Credit Loss LAF (ECL) (MYR)',\n",
    "                            #'Expected Credit Loss C&C (ECL) (Facility Currency)',\n",
    "                            #'Expected Credit Loss C&C (ECL) (MYR)',\n",
    "                            'Disbursement/Drawdown Status',\n",
    "                            #'Unutilised/ Undrawn Amount (Facility Currency)',\n",
    "                            #'Unutilised/ Undrawn Amount (MYR)',\n",
    "                            #'Disbursement/Drawdown (Facility Currency)',\n",
    "                            #'Disbursement/Drawdown (MYR)',\n",
    "                            #'Cumulative Disbursement/Drawdown (Facility Currency)',\n",
    "                            #'Cumulative Disbursement/Drawdown (MYR)',\n",
    "                            #'Cost Payment/Principal Repayment (Facility Currency)',\n",
    "                            #'Cost Payment/Principal Repayment (MYR)',                            \n",
    "                            #'Cumulative Cost Payment/Principal Repayment (Facility Currency)',\n",
    "                            #'Cumulative Cost Payment/Principal Repayment (MYR)',\n",
    "                            #'Profit Payment/Interest Repayment (Facility Currency)',\n",
    "                            #'Profit Payment/Interest Repayment (MYR)',\n",
    "                            #'Cumulative Profit Payment/Interest Repayment (Facility Currency)',\n",
    "                            #'Cumulative Profit Payment/Interest Repayment (MYR)',\n",
    "                            #'Ta`widh Payment/Penalty Repayment (Facility Currency)',\n",
    "                            #'Ta`widh Payment/Penalty Repayment  (MYR)',\n",
    "                            #'Cumulative Ta`widh Payment/Penalty Repayment (Facility Currency)',\n",
    "                            #'Cumulative Ta`widh Payment/Penalty Repayment  (MYR)',\n",
    "                            #'Other Charges Payment (Facility Currency)',\n",
    "                            #'Other Charges Payment (MYR)',\n",
    "                            #'Cumulative Other Charges Payment (Facility Currency)',\n",
    "                            #'Cumulative Other Charges Payment (MYR)',\n",
    "                            'Rating at Origination',\n",
    "                            'PD',\n",
    "                            'PF',\n",
    "                            'CRMS Obligor Risk Rating',\n",
    "                            'CRMS CG Rating',\n",
    "                            'PD (%)',\n",
    "                            'LGD (%)',\n",
    "                            'Risk Analyst',\n",
    "                            'MFRS9 Staging',\n",
    "                            'BNM Main Sector',\n",
    "                            'BNM Sub Sector',\n",
    "                            'EXIM Main Sector',\n",
    "                            'Industry (Risk)',\n",
    "                            'Industry Classification',\n",
    "                            'Purpose of Financing',\n",
    "                            'Date Approved at Origination',\n",
    "                            'Approval Authority',\n",
    "                            'LO issuance Date',\n",
    "                            'Date of LO Acceptance',\n",
    "                            #'1st Disbursement/Drawdown Date',\n",
    "                            '1st Payment/Repayment Date',\n",
    "                            #'Expiry of Availability Period',\n",
    "                            'Facility Agreement Date',\n",
    "                            'Annual Review Date',\n",
    "                            'Watchlist Review Date',\n",
    "                            #'Maturity/Expired Date',\n",
    "                            'Grace Period (Month)',\n",
    "                            'Moratorium Period (Month)',\n",
    "                            'Start Moratorium Date',\n",
    "                            'Tenure (Month)', #=(CY4-CS4)/30.5,  CY=MATURITY, CS=1ST DISBURSE\n",
    "                            'Payment/Repayment Frequency (Profit/Interest)',\n",
    "                            'Payment/Repayment Frequency (Cost/Principal)',\n",
    "                            'Effective cost of borrowings',\n",
    "                            'Profit/Interest Margin',\n",
    "                            #'Average Profit/Interest Rate',\n",
    "                            #'Ta`widh Compensation/Penalty Rate',\n",
    "                            'Operation Country',\n",
    "                            'Country Exposure',\n",
    "                            'Country Rating',\n",
    "                            'Region',\n",
    "                            'Market Type',\n",
    "                            'Classification of Entity / Customer Type',\n",
    "                            'Entity / Customer Type',\n",
    "                            'Classification of Residency Status',\n",
    "                            'Residency Status',\n",
    "                            'Corporate Type',\n",
    "                            'SME Commercial Corporate',\n",
    "                            'Corporate Status',\n",
    "                            'Justification on Corporate Status',\n",
    "                            'Restructured / Rescheduled',\n",
    "                            'Date of Approval Restructured / Rescheduled',\n",
    "                            'Effective Date',\n",
    "                            'Reason',\n",
    "                            'Date Untagged from R&R',\n",
    "                            'Justification for Untagged',\n",
    "                            'Frequency',\n",
    "                            'Date of Overdue',\n",
    "                            #'Overdue (Days)',\n",
    "                            'Month in Arrears',\n",
    "                            'Overdue Amount (Facility Currency)',\n",
    "                            'Overdue Amount (MYR)',\n",
    "                            'Date Classified as Watchlist',\n",
    "                            'Watchlist Reason',\n",
    "                            'Date Declassified from Watchlist',\n",
    "                            'Date Impaired',\n",
    "                            'Reason for Impairment',\n",
    "                            'Partial Write off Date',\n",
    "                            'Write off Date',\n",
    "                            'Cancellation Date/Fully Settled Date',\n",
    "                            #'Position as At'\n",
    "                     ]]"
   ]
  },
  {
   "cell_type": "code",
   "execution_count": 20,
   "id": "9207b242-1f19-4df2-b3fa-63f565c0fa60",
   "metadata": {},
   "outputs": [],
   "source": [
    "merge1 = merge_ldb.merge(LDB_prev2, on=['CIF Number','EXIM Account No.'], how='outer', suffixes=('_x', ''),indicator=True)\n",
    "\n",
    "filterkn = merge1.iloc[np.where((merge1._merge.isin(['both',\"right_only\"])))] #&(merge1['Cost/Principal Outstanding (MYR)']>1)\n",
    "\n",
    "filterkn = filterkn.drop(['_merge','Finance(SAP) Number_x','Type of Financing_x','Customer Name_x','Facility Currency_x','Curr'],axis=1)"
   ]
  },
  {
   "cell_type": "code",
   "execution_count": 21,
   "id": "be16a430-930e-49a0-857c-9ab7e8e3a6e1",
   "metadata": {},
   "outputs": [],
   "source": [
    "filterkn['Position as At'] = Position\n",
    "\n",
    "filterkn.sort_values('Total Loans Outstanding (MYR)', ascending=False, inplace=True)"
   ]
  },
  {
   "cell_type": "code",
   "execution_count": 22,
   "id": "54860bc2-028d-42ab-9310-0966444b4835",
   "metadata": {},
   "outputs": [],
   "source": [
    "filterkn['No.'] = range(1, len(filterkn) + 1)\n",
    "#df['index_col'] = df.index"
   ]
  },
  {
   "cell_type": "code",
   "execution_count": 23,
   "id": "d6f92e07-9984-4d12-bae8-b7d3ddcb3daa",
   "metadata": {},
   "outputs": [
    {
     "data": {
      "text/plain": [
       "(524, 91)"
      ]
     },
     "execution_count": 23,
     "metadata": {},
     "output_type": "execute_result"
    }
   ],
   "source": [
    "LDB_prev2.shape"
   ]
  },
  {
   "cell_type": "code",
   "execution_count": 24,
   "id": "b7c6b09f-ee78-4f81-a7c9-b56e9eb1443b",
   "metadata": {},
   "outputs": [
    {
     "data": {
      "text/plain": [
       "(268, 22)"
      ]
     },
     "execution_count": 24,
     "metadata": {},
     "output_type": "execute_result"
    }
   ],
   "source": [
    "merge_ldb.shape"
   ]
  },
  {
   "cell_type": "code",
   "execution_count": 25,
   "id": "de50a488-0ec2-4fad-9f2e-4b99b1880a56",
   "metadata": {},
   "outputs": [
    {
     "data": {
      "text/plain": [
       "_merge\n",
       "right_only    297\n",
       "both          227\n",
       "left_only      41\n",
       "Name: count, dtype: int64"
      ]
     },
     "execution_count": 25,
     "metadata": {},
     "output_type": "execute_result"
    }
   ],
   "source": [
    "merge1._merge.value_counts()"
   ]
  },
  {
   "cell_type": "code",
   "execution_count": 26,
   "id": "08eb150c-d305-46dd-be1d-7b97a57b2adc",
   "metadata": {},
   "outputs": [
    {
     "data": {
      "text/plain": [
       "(565, 112)"
      ]
     },
     "execution_count": 26,
     "metadata": {},
     "output_type": "execute_result"
    }
   ],
   "source": [
    "merge1.shape"
   ]
  },
  {
   "cell_type": "code",
   "execution_count": 27,
   "id": "6484b175-304e-4474-b7be-fe4a5347760b",
   "metadata": {},
   "outputs": [
    {
     "data": {
      "text/plain": [
       "(524, 108)"
      ]
     },
     "execution_count": 27,
     "metadata": {},
     "output_type": "execute_result"
    }
   ],
   "source": [
    "filterkn.shape"
   ]
  },
  {
   "cell_type": "markdown",
   "id": "92ad1756-d770-4191-8ef1-5448847b8542",
   "metadata": {},
   "source": [
    "3. combine disburse & drawdown with prev ldb"
   ]
  },
  {
   "cell_type": "code",
   "execution_count": 28,
   "id": "6137020f-9c37-4bdf-8b81-79f1015dfdf3",
   "metadata": {},
   "outputs": [],
   "source": [
    "filterkn['EXIM Account No.'] = filterkn['EXIM Account No.'].astype(str)\n",
    "\n",
    "FILE2['EXIM Account No.'] = FILE2['EXIM Account No.'].astype(str)\n",
    "\n",
    "FILE2_1 = FILE2.rename(columns={'Account':'Finance(SAP) Number',\n",
    "                               'Type_of_Financing':'Type of Financing',\n",
    "                               'Disbursement_Drawdown_Facility_Currency':'Disbursement/Drawdown (Facility Currency)',\n",
    "                               'Disbursement_Drawdown_MYR':'Disbursement/Drawdown (MYR)',\n",
    "                               'Cumulative Disbursement/Drawdown (Facility Currency) New':'Cumulative Disbursement/Drawdown (Facility Currency)',\n",
    "                               'Cumulative Disbursement/Drawdown (MYR) New':'Cumulative Disbursement/Drawdown (MYR)',\n",
    "                               'Cost_Payment_Principal_Repayment_Facility_Currency':'Cost Payment/Principal Repayment (Facility Currency)',\n",
    "                               'Cost_Payment_Principal_Repayment_MYR':'Cost Payment/Principal Repayment (MYR)',\n",
    "                               'Cumulative Cost Payment/Principal Repayment (Facility Currency) New':'Cumulative Cost Payment/Principal Repayment (Facility Currency)',\n",
    "                               'Cumulative Cost Payment/Principal Repayment (MYR) New':'Cumulative Cost Payment/Principal Repayment (MYR)'}).drop(['Facility Currency',\n",
    "                                'Type of Financing','Curr.',\n",
    "                                'CIF Number',\n",
    "                                'Finance(SAP) Number'],axis=1)\n",
    "\n",
    "merge_dis_draw = filterkn.merge(FILE2_1, on=['EXIM Account No.'], how='outer',suffixes=(\"\",\"_y\"))\n",
    "      "
   ]
  },
  {
   "cell_type": "code",
   "execution_count": 29,
   "id": "8c88cfd0-711b-4e30-871d-5ea6363a4d47",
   "metadata": {},
   "outputs": [
    {
     "data": {
      "text/plain": [
       "(524, 116)"
      ]
     },
     "execution_count": 29,
     "metadata": {},
     "output_type": "execute_result"
    }
   ],
   "source": [
    "merge_dis_draw.shape"
   ]
  },
  {
   "cell_type": "code",
   "execution_count": 30,
   "id": "018fd457-5695-41bc-87b6-f7c95ac0099c",
   "metadata": {},
   "outputs": [
    {
     "data": {
      "text/plain": [
       "dtype('O')"
      ]
     },
     "execution_count": 30,
     "metadata": {},
     "output_type": "execute_result"
    }
   ],
   "source": [
    "merge_dis_draw['Facility Currency'].dtypes"
   ]
  },
  {
   "cell_type": "code",
   "execution_count": 31,
   "id": "9df406be-b0c4-41b7-992a-3d5f75979344",
   "metadata": {},
   "outputs": [
    {
     "data": {
      "text/plain": [
       "dtype('O')"
      ]
     },
     "execution_count": 31,
     "metadata": {},
     "output_type": "execute_result"
    }
   ],
   "source": [
    "MRate['Month'].dtypes"
   ]
  },
  {
   "cell_type": "code",
   "execution_count": 32,
   "id": "26c1a0a1-920b-4361-b9cd-b65ec6c57a5f",
   "metadata": {},
   "outputs": [],
   "source": [
    "merge_dis_draw2 = merge_dis_draw.merge(MRate[['Month','Curr']].rename(columns={'Month':'Facility Currency'}), on='Facility Currency', how='left',suffixes=(\"\",\"_y\"))\n",
    "   "
   ]
  },
  {
   "cell_type": "code",
   "execution_count": 34,
   "id": "78e38b35-0c48-4f5c-bb53-4e5643253579",
   "metadata": {},
   "outputs": [],
   "source": [
    "#merge_dis_draw2['Amount Approved / Facility Limit (Facility Currency)'] = merge_dis_draw2['Amount Approved / Facility Limit (Facility Currency)'].str.replace(\"-\",\"0\")\n",
    "merge_dis_draw2['Amount Approved / Facility Limit (Facility Currency)'] = merge_dis_draw2['Amount Approved / Facility Limit (Facility Currency)'].astype(float)\n",
    "\n",
    "merge_dis_draw2['Amount Approved / Facility Limit (MYR)'] = merge_dis_draw2['Amount Approved / Facility Limit (Facility Currency)']*merge_dis_draw2['Curr']\n",
    "   "
   ]
  },
  {
   "cell_type": "code",
   "execution_count": 36,
   "id": "92374bb5-bab9-41e8-bc7d-f03da60711a5",
   "metadata": {},
   "outputs": [],
   "source": [
    "merge_dis_draw2['Penalty/Ta`widh (Facility Currency)'] = merge_dis_draw2['Penalty/Ta`widh (Facility Currency)'].str.replace(\"-\",\"0\")\n",
    "merge_dis_draw2['Penalty/Ta`widh (Facility Currency)'] = merge_dis_draw2['Penalty/Ta`widh (Facility Currency)'].astype(float)\n",
    "                       \n",
    "merge_dis_draw2['Penalty/Ta`widh (MYR)'] = merge_dis_draw2['Penalty/Ta`widh (Facility Currency)']*merge_dis_draw2['Curr']\n"
   ]
  },
  {
   "cell_type": "code",
   "execution_count": null,
   "id": "2da7f3e1-f927-4231-8df8-feab7a103817",
   "metadata": {
    "scrolled": true
   },
   "outputs": [],
   "source": []
  },
  {
   "cell_type": "code",
   "execution_count": 37,
   "id": "c0d5b2d2-47a5-44f1-8b73-4a7baacbe994",
   "metadata": {},
   "outputs": [],
   "source": [
    "#merge_dis_draw['EXIM Account No.'].value_counts()#.head(30)"
   ]
  },
  {
   "cell_type": "markdown",
   "id": "6f87f4fd-1021-4b81-9c00-4a1572ef8a18",
   "metadata": {},
   "source": [
    "4. combine data mirror with prev ldb"
   ]
  },
  {
   "cell_type": "code",
   "execution_count": 38,
   "id": "d2abfa75-7e44-48d1-8562-5bf58e3c09d4",
   "metadata": {
    "scrolled": true
   },
   "outputs": [],
   "source": [
    "#\n",
    "FILE5['EXIM Account No.'] = FILE5['EXIM Account No.'].astype(str)\n",
    "\n",
    "FILE5_1 = FILE5.drop(['Cumulative Other Charges Payment (Facility Currency)',\n",
    "                      'Cumulative Other Charges Payment (MYR)',\n",
    "                      'CIF Number',\n",
    "                      'Account',\n",
    "                      'Type_of_Financing',\n",
    "                      'Facility Currency'],axis=1).rename(columns={'Other_Charges_Payment_FC':'Other Charges Payment (Facility Currency)',\n",
    "                                'Other_Charges_Payment_MYR':'Other Charges Payment (MYR)',\n",
    "                                'Cumulative Other Charges Payment (Facility Currency) New':'Cumulative Other Charges Payment (Facility Currency)',\n",
    "                                'Cumulative Other Charges Payment (MYR) New':'Cumulative Other Charges Payment (MYR)'})\n",
    "\n",
    "\n",
    "merge_oth_chr_pymnt = merge_dis_draw2.merge(FILE5_1, on=['EXIM Account No.'], how='outer',suffixes=(\"\",\"_y\"))\n"
   ]
  },
  {
   "cell_type": "code",
   "execution_count": 39,
   "id": "3e652189-4e1e-4566-9d95-41aba1a1563a",
   "metadata": {},
   "outputs": [
    {
     "data": {
      "text/plain": [
       "(524, 123)"
      ]
     },
     "execution_count": 39,
     "metadata": {},
     "output_type": "execute_result"
    }
   ],
   "source": [
    "merge_oth_chr_pymnt.shape"
   ]
  },
  {
   "cell_type": "code",
   "execution_count": 40,
   "id": "80f4dc85-0ad4-48e5-8345-5603d3e65ac1",
   "metadata": {
    "scrolled": true
   },
   "outputs": [],
   "source": [
    "FILE6['EXIM Account No.'] = FILE6['EXIM Account No.'].astype(str)\n",
    "\n",
    "FILE6_1 = FILE6.drop(['Cumulative Profit Payment/Interest Repayment (Facility Currency)',\n",
    "                      'Cumulative Profit Payment/Interest Repayment (MYR)',\n",
    "                      \"Cumulative Ta`widh Payment/Penalty Repayment (Facility Currency)\",\n",
    "                      \"Cumulative Ta`widh Payment/Penalty Repayment  (MYR)\",\n",
    "                      'CIF Number',\n",
    "                      'Account',\n",
    "                      'Type_of_Financing',\n",
    "                      'Facility Currency'],axis=1).rename(columns={'Profit_Payment_Interest_Repayment_FC':'Profit Payment/Interest Repayment (Facility Currency)',\n",
    "                                'Profit_Payment_Interest_Repayment_MYR':'Profit Payment/Interest Repayment (MYR)',\n",
    "                                'Cumulative Profit Payment/Interest Repayment (Facility Currency) New':'Cumulative Profit Payment/Interest Repayment (Facility Currency)',\n",
    "                                'Cumulative Profit Payment/Interest Repayment (MYR) New':'Cumulative Profit Payment/Interest Repayment (MYR)',\n",
    "                                \"Cumulative Ta`widh Payment/Penalty Repayment (Facility Currency) New\":\"Cumulative Ta`widh Payment/Penalty Repayment (Facility Currency)\",\n",
    "                                \"Cumulative Ta`widh Payment/Penalty Repayment  (MYR) New\":\"Cumulative Ta`widh Payment/Penalty Repayment (MYR)\"})\n",
    "\n",
    "\n",
    "merge_prft_pyment = merge_oth_chr_pymnt.merge(FILE6_1, on=['EXIM Account No.'], how='outer',suffixes=(\"\",\"_y\"))\n"
   ]
  },
  {
   "cell_type": "code",
   "execution_count": null,
   "id": "aeb452a8-cccb-4908-85bd-6e404a132530",
   "metadata": {},
   "outputs": [],
   "source": []
  },
  {
   "cell_type": "code",
   "execution_count": null,
   "id": "e2f060a0-2ecb-40dc-ba36-2b5677f20191",
   "metadata": {},
   "outputs": [],
   "source": []
  },
  {
   "cell_type": "code",
   "execution_count": 41,
   "id": "5b3c5b3d-4f03-43a7-a92c-e6a8cdb91184",
   "metadata": {},
   "outputs": [
    {
     "data": {
      "text/plain": [
       "(524, 131)"
      ]
     },
     "execution_count": 41,
     "metadata": {},
     "output_type": "execute_result"
    }
   ],
   "source": [
    "merge_prft_pyment.shape"
   ]
  },
  {
   "cell_type": "markdown",
   "id": "aa4c3aab-9745-4405-b04d-96e290503106",
   "metadata": {},
   "source": [
    "5. combine contigent with prev ldb"
   ]
  },
  {
   "cell_type": "code",
   "execution_count": 42,
   "id": "80a82ce7-28b4-4708-8ef8-3e759a11db1c",
   "metadata": {},
   "outputs": [],
   "source": [
    "merge_cont_FC = Contigent.groupby(['EXIM Account No.'])[['Contingent Liability Letter of Credit (Facility Currency)',\n",
    "                                                           'Contingent Liability Letter of Credit (MYR)',\n",
    "                                                           'Contingent Liability (Facility Currency)',\n",
    "                                                           'Contingent Liability (MYR)',\n",
    "                                                           'Unutilised/Undrawn Amount (FC)',\n",
    "                                                           'Unutilised/Undrawn Amount (MYR)']].sum().reset_index()\n",
    "\n",
    "merge_cont_FC['EXIM Account No.'] = merge_cont_FC['EXIM Account No.'].astype(str)\n",
    "#merge_cont_FC['CIF Number'] = merge_cont_FC['CIF Number'].astype(str)\n",
    "\n",
    "merge_prft_pyment['EXIM Account No.'] = merge_prft_pyment['EXIM Account No.'].astype(str)\n",
    "#merge_prft_pyment['CIF Number'] = merge_prft_pyment['CIF Number'].astype(str)\n",
    "\n",
    "merge_cont = merge_prft_pyment.merge(merge_cont_FC[['EXIM Account No.',\n",
    "                                                    'Contingent Liability Letter of Credit (Facility Currency)',\n",
    "                                                    'Contingent Liability Letter of Credit (MYR)',\n",
    "                                                    'Contingent Liability (Facility Currency)',\n",
    "                                                    'Contingent Liability (MYR)',\n",
    "                                                           'Unutilised/Undrawn Amount (FC)',\n",
    "                                                           'Unutilised/Undrawn Amount (MYR)']], on=['EXIM Account No.'], how='outer')\n"
   ]
  },
  {
   "cell_type": "code",
   "execution_count": 43,
   "id": "489f8bdf-191d-4a96-8c5d-ad27623fbfd8",
   "metadata": {},
   "outputs": [
    {
     "data": {
      "text/plain": [
       "(524, 137)"
      ]
     },
     "execution_count": 43,
     "metadata": {},
     "output_type": "execute_result"
    }
   ],
   "source": [
    "merge_cont.shape"
   ]
  },
  {
   "cell_type": "markdown",
   "id": "d156ae67-1d6f-4e3e-af0d-ce99251d3313",
   "metadata": {},
   "source": [
    "6. combine ecl drawdown with prev ldb"
   ]
  },
  {
   "cell_type": "code",
   "execution_count": null,
   "id": "2ae6b91a-5b20-42bb-80bf-2c40dbcf1ca8",
   "metadata": {
    "scrolled": true
   },
   "outputs": [],
   "source": []
  },
  {
   "cell_type": "code",
   "execution_count": null,
   "id": "b5ec45a6-3b14-426b-8650-3feaa14c49bb",
   "metadata": {},
   "outputs": [],
   "source": []
  },
  {
   "cell_type": "code",
   "execution_count": null,
   "id": "7046fb74-31ff-4d33-a0ea-24abf17bc249",
   "metadata": {},
   "outputs": [],
   "source": []
  },
  {
   "cell_type": "code",
   "execution_count": null,
   "id": "b86099c9-e14b-4528-b594-ace259ca122f",
   "metadata": {},
   "outputs": [],
   "source": []
  },
  {
   "cell_type": "code",
   "execution_count": null,
   "id": "9afbc50f-f9f4-4f1d-95ef-717dba8839cf",
   "metadata": {},
   "outputs": [],
   "source": []
  },
  {
   "cell_type": "code",
   "execution_count": 44,
   "id": "c7d62d11-1aeb-4977-b243-b8954f233bf4",
   "metadata": {},
   "outputs": [],
   "source": [
    "merge_cont['Finance(SAP) Number'] = merge_cont['Finance(SAP) Number'].astype(str)\n",
    "avg_prof1['Finance(SAP) Number'] = avg_prof1['Finance(SAP) Number'].astype(str)\n",
    "\n",
    "avg_prof1_1 = avg_prof1.drop(['CIF Number',\n",
    "                          'EXIM Account No.',\n",
    "                          \"Currency\",\n",
    "                          \"Curr\",\n",
    "                          'Borrower name',\n",
    "                          'BORROWER'],axis=1).rename(columns={'First Released Date':'1st Disbursement/Drawdown Date',\n",
    "                                'Availability period':'Expiry of Availability Period',\n",
    "                                'Maturity date':'Maturity/Expired Date',\n",
    "                                'DPD':'Overdue (Days)',\n",
    "                                'Unutilised/ Undrawn Amount (Facility Currency)':'UNUT_FC',\n",
    "                                'Unutilised/ Undrawn Amount (MYR)':'UNUT_MYR'})\n",
    "\n",
    "\n",
    "merge_undrawn = merge_cont.merge(avg_prof1_1, on=['Finance(SAP) Number'], how='left',suffixes=(\"\",\"_y\"))\n",
    "\n",
    "merge_undrawn['UNUT_FC'].fillna(0,inplace=True)\n",
    "merge_undrawn['UNUT_MYR'].fillna(0,inplace=True)\n",
    "merge_undrawn['Unutilised/Undrawn Amount (FC)'].fillna(0,inplace=True)\n",
    "merge_undrawn['Unutilised/Undrawn Amount (MYR)'].fillna(0,inplace=True)\n",
    "\n",
    "merge_undrawn['Unutilised/ Undrawn Amount (Facility Currency)'] = merge_undrawn['UNUT_FC'] + merge_undrawn['Unutilised/Undrawn Amount (FC)']\n",
    "merge_undrawn['Unutilised/ Undrawn Amount (MYR)'] = merge_undrawn['UNUT_MYR'] + merge_undrawn['Unutilised/Undrawn Amount (MYR)']\n",
    "\n",
    "merge_undrawn = merge_undrawn.drop(['UNUT_FC',\n",
    "                          'UNUT_MYR',\n",
    "                          \"Unutilised/Undrawn Amount (FC)\",\n",
    "                          \"Unutilised/Undrawn Amount (MYR)\"],axis=1)"
   ]
  },
  {
   "cell_type": "code",
   "execution_count": null,
   "id": "28ff7445-f2d5-43f3-b561-279868803208",
   "metadata": {
    "scrolled": true
   },
   "outputs": [],
   "source": []
  },
  {
   "cell_type": "code",
   "execution_count": 45,
   "id": "917ae1e8-9f56-4c54-aa5b-d061ecb70256",
   "metadata": {},
   "outputs": [
    {
     "data": {
      "text/plain": [
       "(524, 145)"
      ]
     },
     "execution_count": 45,
     "metadata": {},
     "output_type": "execute_result"
    }
   ],
   "source": [
    "merge_undrawn.shape"
   ]
  },
  {
   "cell_type": "markdown",
   "id": "65c01280-ac0b-430a-850a-342bafc27301",
   "metadata": {},
   "source": [
    "7. combine CCRIS MIA with prev ldb"
   ]
  },
  {
   "cell_type": "code",
   "execution_count": 46,
   "id": "6f2caed6-af55-45e5-881b-fd0292e51284",
   "metadata": {},
   "outputs": [],
   "source": [
    "                            #'Month in Arrears',\n",
    "\n",
    "#MIA1 = MIA.iloc[np.where(~MIA['Sub Account Number'].isna())][['Sub Account Number','Months in arrears']]\n",
    "\n",
    "#MIA1['Sub Account Number'] = MIA1['Sub Account Number'].astype(str)\n",
    "#MIA1['Sub Account Number'] = MIA1['Sub Account Number'].str.upper()\n",
    "#MIA1['Sub Account Number'] = MIA1['Sub Account Number'].str.strip()\n",
    "\n",
    "#merge_undrawn['CCRIS Sub Account Number'] = merge_undrawn['CCRIS Sub Account Number'].astype(str)\n",
    "#merge_undrawn['CCRIS Sub Account Number'] = merge_undrawn['CCRIS Sub Account Number'].str.upper()\n",
    "#merge_undrawn['CCRIS Sub Account Number'] = merge_undrawn['CCRIS Sub Account Number'].str.strip()\n",
    "\n",
    "merge_MIA = merge_undrawn#.merge(MIA1.rename(columns={'Sub Account Number':'CCRIS Sub Account Number'}), on=['CCRIS Sub Account Number'], how='left',suffixes=(\"\",\"_y\"))"
   ]
  },
  {
   "cell_type": "code",
   "execution_count": 47,
   "id": "065a7240-e897-406c-beda-614281c80a7c",
   "metadata": {},
   "outputs": [
    {
     "data": {
      "text/plain": [
       "(524, 145)"
      ]
     },
     "execution_count": 47,
     "metadata": {},
     "output_type": "execute_result"
    }
   ],
   "source": [
    "merge_MIA.shape"
   ]
  },
  {
   "cell_type": "markdown",
   "id": "afd967b0-844d-4731-bddf-60e1b82010ee",
   "metadata": {},
   "source": [
    "8. Formula"
   ]
  },
  {
   "cell_type": "code",
   "execution_count": 48,
   "id": "f665ba00-923f-48dc-8c6c-8afc14af0feb",
   "metadata": {},
   "outputs": [],
   "source": [
    "merge_MIA['Expected Credit Loss (ECL) LAF (Facility Currency)'] = 0\n",
    "merge_MIA['Expected Credit Loss LAF (ECL) (MYR)'] = 0\n",
    "merge_MIA['Expected Credit Loss C&C (ECL) (Facility Currency)'] = 0\n",
    "merge_MIA['Expected Credit Loss C&C (ECL) (MYR)'] = 0"
   ]
  },
  {
   "cell_type": "code",
   "execution_count": 49,
   "id": "251ba8b0-6162-4f61-8def-98c7f0ec82cb",
   "metadata": {},
   "outputs": [
    {
     "data": {
      "text/plain": [
       "Status\n",
       "Cancelled                         114\n",
       "Fully Settled                     102\n",
       "Pending Disbursement               91\n",
       "Active                             82\n",
       "Impaired                           51\n",
       "Fully Write-Off                    31\n",
       "Active-Watchlist                   19\n",
       "Conversion                         13\n",
       "Expired                            11\n",
       "Closed                              5\n",
       "Pending Disbursement-Watchlist      3\n",
       "Recalled                            2\n",
       "Name: count, dtype: int64"
      ]
     },
     "execution_count": 49,
     "metadata": {},
     "output_type": "execute_result"
    }
   ],
   "source": [
    "merge_MIA['Status'].value_counts()"
   ]
  },
  {
   "cell_type": "code",
   "execution_count": 50,
   "id": "20e8d8ab-01ba-49c7-9bdd-326ef29b812d",
   "metadata": {},
   "outputs": [
    {
     "data": {
      "text/plain": [
       "Nature of Account\n",
       "Non Trade            289\n",
       "Trade                174\n",
       "Trade - Guarantee     43\n",
       "Non-Trade             17\n",
       "Name: count, dtype: int64"
      ]
     },
     "execution_count": 50,
     "metadata": {},
     "output_type": "execute_result"
    }
   ],
   "source": [
    "merge_MIA['Nature of Account'].value_counts()"
   ]
  },
  {
   "cell_type": "code",
   "execution_count": 51,
   "id": "f1ac23fe-b505-45ec-a0ba-7609078b45a6",
   "metadata": {},
   "outputs": [],
   "source": [
    "merge_MIA['Nature of Account'] = merge_MIA['Nature of Account'].str.replace(\"Non-Trade\",\"Non Trade\")"
   ]
  },
  {
   "cell_type": "code",
   "execution_count": 52,
   "id": "cc3f3a8e-b057-4cf0-9869-94e227613eb1",
   "metadata": {},
   "outputs": [
    {
     "data": {
      "text/plain": [
       "Disbursement/Drawdown Status\n",
       "Fully Disbursed            203\n",
       "No Further Disbursement    164\n",
       "Pending Disbursement        65\n",
       "Ongoing Disbursement        61\n",
       "Ongoing Disbursement         2\n",
       "Name: count, dtype: int64"
      ]
     },
     "execution_count": 52,
     "metadata": {},
     "output_type": "execute_result"
    }
   ],
   "source": [
    "merge_MIA['Disbursement/Drawdown Status'].value_counts()"
   ]
  },
  {
   "cell_type": "code",
   "execution_count": 53,
   "id": "199d4e5b-9893-4f0f-87b6-d463b32c384e",
   "metadata": {},
   "outputs": [],
   "source": [
    "merge_MIA['Disbursement/Drawdown Status'] = merge_MIA['Disbursement/Drawdown Status'].str.strip()"
   ]
  },
  {
   "cell_type": "code",
   "execution_count": 54,
   "id": "23764553-c0bb-4450-a496-97aabeb58aaa",
   "metadata": {},
   "outputs": [],
   "source": [
    "                            #'Total Banking Exposure (Facility Currency)',\n",
    "                            #'Total Banking Exposure (MYR)',\n",
    "\n",
    "def NOB(a_exp,b_exp,c_exp,d_exp,f_exp):\n",
    "    if (a_exp=='Non Trade')&((b_exp==\"No Further Disbursement\")|(b_exp==\"Fully Disbursed\")):\n",
    "        return d_exp\n",
    "    elif (a_exp=='Non Trade')&((b_exp==\"Ongoing Disbursement\")|(b_exp==\"Pending Disbursement\")): \n",
    "        return f_exp\n",
    "    elif ((a_exp=='Trade')|(a_exp=='Trade - Guarantee'))&((b_exp==\"Ongoing Disbursement\")|(b_exp==\"Pending Disbursement\")): \n",
    "        return f_exp\n",
    "    elif c_exp == 'Impaired': \n",
    "        return d_exp\n",
    "    else: \n",
    "        return 0\n",
    "merge_MIA['Total Banking Exposure (Facility Currency)'] = merge_MIA.apply(lambda x: NOB(x['Nature of Account'], x['Disbursement/Drawdown Status'], x['Status'], x['Cost/Principal Outstanding (Facility Currency)'],x['Amount Approved / Facility Limit (Facility Currency)']), axis=1)\n",
    "\n",
    "\n",
    "def NOB_MYR(a_exp_M,b_exp_M,c_exp_M,d_exp_M,f_exp_M):\n",
    "    if (a_exp_M=='Non Trade')&((b_exp_M==\"No Further Disbursement\")|(b_exp_M==\"Fully Disbursed\")):\n",
    "        return d_exp_M\n",
    "    elif (a_exp_M=='Non Trade')&((b_exp_M==\"Ongoing Disbursement\")|(b_exp_M==\"Pending Disbursement\")): \n",
    "        return f_exp_M\n",
    "    elif ((a_exp_M=='Trade')|(a_exp_M=='Trade - Guarantee'))&((b_exp_M==\"Ongoing Disbursement\")|(b_exp_M==\"Pending Disbursement\")): \n",
    "        return f_exp_M\n",
    "    elif ((a_exp_M=='Trade')|(a_exp_M=='Trade - Guarantee'))&((b_exp_M==\"No Further Disbursement\")|(b_exp_M==\"Fully Disbursed\")): \n",
    "        return d_exp_M\n",
    "    elif c_exp_M == 'Impaired': \n",
    "        return d_exp_M\n",
    "    else: \n",
    "        return 0\n",
    "merge_MIA['Total Banking Exposure (MYR)'] = merge_MIA.apply(lambda x: NOB(x['Nature of Account'], x['Disbursement/Drawdown Status'], x['Status'], x['Cost/Principal Outstanding (MYR)'],x['Amount Approved / Facility Limit (MYR)']), axis=1)\n"
   ]
  },
  {
   "cell_type": "code",
   "execution_count": null,
   "id": "c0e95fcc-2caa-4825-a206-ec24765410e0",
   "metadata": {},
   "outputs": [],
   "source": []
  },
  {
   "cell_type": "code",
   "execution_count": 55,
   "id": "0ef09e0b-9f1e-4bcf-8ba2-bcec09e61b39",
   "metadata": {},
   "outputs": [],
   "source": [
    "\n",
    "merge_MIA['Amount Approved / Facility Limit (Facility Currency)'].fillna(0, inplace=True)\n",
    "merge_MIA['Amount Approved / Facility Limit (MYR)'].fillna(0, inplace=True)\n",
    "merge_MIA['Cost/Principal Outstanding (Facility Currency)'].fillna(0, inplace=True)\n",
    "merge_MIA['Cost/Principal Outstanding (MYR)'].fillna(0, inplace=True)\n",
    "\n",
    "merge_MIA['Contingent Liability Letter of Credit (Facility Currency)'].fillna(0, inplace=True)\n",
    "merge_MIA['Contingent Liability Letter of Credit (MYR)'].fillna(0, inplace=True)\n",
    "merge_MIA['Contingent Liability (Facility Currency)'].fillna(0, inplace=True)\n",
    "merge_MIA['Contingent Liability (MYR)'].fillna(0, inplace=True)\n",
    "\n",
    "merge_MIA['Account Receivables/Past Due Claims (Facility Currency)'].fillna(0, inplace=True)\n",
    "merge_MIA['Account Receivable/Past Due Claims (MYR)'].fillna(0, inplace=True)\n",
    "merge_MIA['Total Banking Exposure (Facility Currency)'].fillna(0, inplace=True)\n",
    "merge_MIA['Total Banking Exposure (MYR)'].fillna(0, inplace=True)\n",
    "merge_MIA['Accrued Profit/Interest of the month (Facility Currency)'].fillna(0, inplace=True)\n",
    "merge_MIA['Accrued Profit/Interest of the month (MYR)'].fillna(0, inplace=True)\n",
    "merge_MIA['Modification of Loss (Facility Currency)'].fillna(0, inplace=True)\n",
    "merge_MIA['Modification of Loss (MYR)'].fillna(0, inplace=True)\n",
    "merge_MIA['Cumulative Accrued Profit/Interest (Facility Currency)'].fillna(0, inplace=True)\n",
    "merge_MIA['Cumulative Accrued Profit/Interest (MYR)'].fillna(0, inplace=True)                     \n",
    "merge_MIA['Penalty/Ta`widh (Facility Currency)'].fillna(0, inplace=True)\n",
    "merge_MIA['Penalty/Ta`widh (MYR)'].fillna(0, inplace=True)\n",
    "merge_MIA['Income/Interest in Suspense (Facility Currency)'].fillna(0, inplace=True)\n",
    "merge_MIA['Income/Interest in Suspense (MYR)'].fillna(0, inplace=True)\n",
    "merge_MIA['Other Charges (Facility Currency)'].fillna(0, inplace=True)\n",
    "merge_MIA['Other Charges (MYR)'].fillna(0, inplace=True)\n",
    "merge_MIA['Total Loans Outstanding (Facility Currency)'].fillna(0, inplace=True)\n",
    "merge_MIA['Total Loans Outstanding (MYR)'].fillna(0, inplace=True)\n",
    "merge_MIA['Expected Credit Loss (ECL) LAF (Facility Currency)'].fillna(0, inplace=True)\n",
    "merge_MIA['Expected Credit Loss LAF (ECL) (MYR)'].fillna(0, inplace=True)\n",
    "merge_MIA['Expected Credit Loss C&C (ECL) (Facility Currency)'].fillna(0, inplace=True)\n",
    "merge_MIA['Expected Credit Loss C&C (ECL) (MYR)'].fillna(0, inplace=True)\n",
    "\n",
    "merge_MIA['Unutilised/ Undrawn Amount (Facility Currency)'].fillna(0, inplace=True)\n",
    "merge_MIA['Unutilised/ Undrawn Amount (MYR)'].fillna(0, inplace=True)\n",
    "merge_MIA['Disbursement/Drawdown (Facility Currency)'].fillna(0, inplace=True)\n",
    "merge_MIA['Disbursement/Drawdown (MYR)'].fillna(0, inplace=True)\n",
    "merge_MIA['Cumulative Disbursement/Drawdown (Facility Currency)'].fillna(0, inplace=True)\n",
    "merge_MIA['Cumulative Disbursement/Drawdown (MYR)'].fillna(0, inplace=True)\n",
    "merge_MIA['Cost Payment/Principal Repayment (Facility Currency)'].fillna(0, inplace=True)\n",
    "merge_MIA['Cost Payment/Principal Repayment (MYR)'].fillna(0, inplace=True)                    \n",
    "merge_MIA['Cumulative Cost Payment/Principal Repayment (Facility Currency)'].fillna(0, inplace=True)\n",
    "merge_MIA['Cumulative Cost Payment/Principal Repayment (MYR)'].fillna(0, inplace=True)\n",
    "merge_MIA['Profit Payment/Interest Repayment (Facility Currency)'].fillna(0, inplace=True)\n",
    "merge_MIA['Profit Payment/Interest Repayment (MYR)'].fillna(0, inplace=True)\n",
    "merge_MIA['Cumulative Profit Payment/Interest Repayment (Facility Currency)'].fillna(0, inplace=True)\n",
    "merge_MIA['Cumulative Profit Payment/Interest Repayment (MYR)'].fillna(0, inplace=True)\n",
    "merge_MIA[\"Ta`widh Payment/Penalty Repayment (Facility Currency)\"].fillna(0, inplace=True)\n",
    "merge_MIA[\"Ta`widh Payment/Penalty Repayment (MYR)\"].fillna(0, inplace=True)\n",
    "merge_MIA[\"Cumulative Ta`widh Payment/Penalty Repayment (Facility Currency)\"].fillna(0, inplace=True)\n",
    "merge_MIA[\"Cumulative Ta`widh Payment/Penalty Repayment (MYR)\"].fillna(0, inplace=True)\n",
    "merge_MIA['Other Charges Payment (Facility Currency)'].fillna(0, inplace=True)\n",
    "merge_MIA['Other Charges Payment (MYR)'].fillna(0, inplace=True)\n",
    "merge_MIA['Cumulative Other Charges Payment (Facility Currency)'].fillna(0, inplace=True)\n",
    "merge_MIA['Cumulative Other Charges Payment (MYR)'].fillna(0, inplace=True)"
   ]
  },
  {
   "cell_type": "code",
   "execution_count": 56,
   "id": "2fe22126-e1b1-462f-9875-e4901c917294",
   "metadata": {},
   "outputs": [
    {
     "data": {
      "text/plain": [
       "(524, 151)"
      ]
     },
     "execution_count": 56,
     "metadata": {},
     "output_type": "execute_result"
    }
   ],
   "source": [
    "merge_MIA.shape"
   ]
  },
  {
   "cell_type": "code",
   "execution_count": 57,
   "id": "58c131b4-7076-44dc-94ff-ea5236f81498",
   "metadata": {},
   "outputs": [],
   "source": [
    "#merge_MIA['Curr'].dtypes"
   ]
  },
  {
   "cell_type": "code",
   "execution_count": 58,
   "id": "11ce866c-1097-43ac-902c-44636506d6a1",
   "metadata": {},
   "outputs": [],
   "source": [
    "merge_Final = merge_MIA[['No.','CIF Number',\n",
    "                      'EXIM Account No.',\n",
    "                      'Application System Code',\n",
    "                      'CCRIS Master Account Number',\n",
    "                      'CCRIS Sub Account Number',\n",
    "                      'Finance(SAP) Number',\n",
    "                            'Company Group',\n",
    "                            'Customer Name',\n",
    "                            'Relationship Manager (RM)',\n",
    "                            'Banking Team',\n",
    "                            'Ownership',\n",
    "                            'Officer in Charge',\n",
    "                            'Syndicated / Club Deal',\n",
    "                            'Nature of Account',\n",
    "                            'Facility',\n",
    "                            'Facility Currency',\n",
    "                            'Type of Financing',\n",
    "                            'Shariah Contract / Concept',\n",
    "                            'Fund / Guarantee /Program / Insentif',\n",
    "                            'Status',\n",
    "                            'Post Approval Stage',\n",
    "                            'Date of Ready for Utilization (RU)',\n",
    "                            'Restructured / Rescheduled(Y/N)',\n",
    "                            'Amount Approved / Facility Limit (Facility Currency)',\n",
    "                            'Amount Approved / Facility Limit (MYR)',\n",
    "                            'Cost/Principal Outstanding (Facility Currency)',\n",
    "                            'Cost/Principal Outstanding (MYR)',\n",
    "                            'Contingent Liability Letter of Credit (Facility Currency)',\n",
    "                            'Contingent Liability Letter of Credit (MYR)',\n",
    "                            'Contingent Liability (Facility Currency)',\n",
    "                            'Contingent Liability (MYR)',\n",
    "                            'Account Receivables/Past Due Claims (Facility Currency)',\n",
    "                            'Account Receivable/Past Due Claims (MYR)',\n",
    "                            'Total Banking Exposure (Facility Currency)',\n",
    "                            'Total Banking Exposure (MYR)',\n",
    "                            'Accrued Profit/Interest of the month (Facility Currency)',\n",
    "                            'Accrued Profit/Interest of the month (MYR)',\n",
    "                            'Modification of Loss (Facility Currency)',\n",
    "                            'Modification of Loss (MYR)',\n",
    "                            'Cumulative Accrued Profit/Interest (Facility Currency)',\n",
    "                            'Cumulative Accrued Profit/Interest (MYR)',                            \n",
    "                            \"Penalty/Ta`widh (Facility Currency)\",\n",
    "                            \"Penalty/Ta`widh (MYR)\",\n",
    "                            'Income/Interest in Suspense (Facility Currency)',\n",
    "                            'Income/Interest in Suspense (MYR)',\n",
    "                            'Other Charges (Facility Currency)',\n",
    "                            'Other Charges (MYR)',\n",
    "                            'Total Loans Outstanding (Facility Currency)',\n",
    "                            'Total Loans Outstanding (MYR)',\n",
    "                            'Expected Credit Loss (ECL) LAF (Facility Currency)',\n",
    "                            'Expected Credit Loss LAF (ECL) (MYR)',\n",
    "                            'Expected Credit Loss C&C (ECL) (Facility Currency)',\n",
    "                            'Expected Credit Loss C&C (ECL) (MYR)',\n",
    "                            'Disbursement/Drawdown Status',\n",
    "                            'Unutilised/ Undrawn Amount (Facility Currency)',\n",
    "                            'Unutilised/ Undrawn Amount (MYR)',\n",
    "                            'Disbursement/Drawdown (Facility Currency)',\n",
    "                            'Disbursement/Drawdown (MYR)',\n",
    "                            'Cumulative Disbursement/Drawdown (Facility Currency)',\n",
    "                            'Cumulative Disbursement/Drawdown (MYR)',\n",
    "                            'Cost Payment/Principal Repayment (Facility Currency)',\n",
    "                            'Cost Payment/Principal Repayment (MYR)',                            \n",
    "                            'Cumulative Cost Payment/Principal Repayment (Facility Currency)',\n",
    "                            'Cumulative Cost Payment/Principal Repayment (MYR)',\n",
    "                            'Profit Payment/Interest Repayment (Facility Currency)',\n",
    "                            'Profit Payment/Interest Repayment (MYR)',\n",
    "                            'Cumulative Profit Payment/Interest Repayment (Facility Currency)',\n",
    "                            'Cumulative Profit Payment/Interest Repayment (MYR)',\n",
    "                            \"Ta`widh Payment/Penalty Repayment (Facility Currency)\",\n",
    "                            \"Ta`widh Payment/Penalty Repayment (MYR)\",\n",
    "                            \"Cumulative Ta`widh Payment/Penalty Repayment (Facility Currency)\",\n",
    "                            \"Cumulative Ta`widh Payment/Penalty Repayment (MYR)\",\n",
    "                            'Other Charges Payment (Facility Currency)',\n",
    "                            'Other Charges Payment (MYR)',\n",
    "                            'Cumulative Other Charges Payment (Facility Currency)',\n",
    "                            'Cumulative Other Charges Payment (MYR)',\n",
    "                            'Rating at Origination',\n",
    "                            'PD',\n",
    "                            'PF',\n",
    "                            'CRMS Obligor Risk Rating',\n",
    "                            'CRMS CG Rating',\n",
    "                            'PD (%)',\n",
    "                            'LGD (%)',\n",
    "                            'Risk Analyst',\n",
    "                            'MFRS9 Staging',\n",
    "                            'BNM Main Sector',\n",
    "                            'BNM Sub Sector',\n",
    "                            'EXIM Main Sector',\n",
    "                            'Industry (Risk)',\n",
    "                            'Industry Classification',\n",
    "                            'Purpose of Financing',\n",
    "                            'Date Approved at Origination',\n",
    "                            'Approval Authority',\n",
    "                            'LO issuance Date',\n",
    "                            'Date of LO Acceptance',\n",
    "                            '1st Disbursement/Drawdown Date',\n",
    "                            '1st Payment/Repayment Date',\n",
    "                            'Expiry of Availability Period',\n",
    "                            'Facility Agreement Date',\n",
    "                            'Annual Review Date',\n",
    "                            'Watchlist Review Date',\n",
    "                            'Maturity/Expired Date',\n",
    "                            'Grace Period (Month)',\n",
    "                            'Moratorium Period (Month)',\n",
    "                            'Start Moratorium Date',\n",
    "                            'Tenure (Month)', #=(CY4-CS4)/30.5,  CY=MATURITY, CS=1ST DISBURSE\n",
    "                            'Payment/Repayment Frequency (Profit/Interest)',\n",
    "                            'Payment/Repayment Frequency (Cost/Principal)',\n",
    "                            'Effective cost of borrowings',\n",
    "                            'Profit/Interest Margin',\n",
    "                            'Average Profit/Interest Rate',\n",
    "                            \"Ta`widh Compensation/Penalty Rate\",\n",
    "                            'Operation Country',\n",
    "                            'Country Exposure',\n",
    "                            'Country Rating',\n",
    "                            'Region',\n",
    "                            'Market Type',\n",
    "                            'Classification of Entity / Customer Type',\n",
    "                            'Entity / Customer Type',\n",
    "                            'Classification of Residency Status',\n",
    "                            'Residency Status',\n",
    "                            'Corporate Type',\n",
    "                            'SME Commercial Corporate',\n",
    "                            'Corporate Status',\n",
    "                            'Justification on Corporate Status',\n",
    "                            'Restructured / Rescheduled',\n",
    "                            'Date of Approval Restructured / Rescheduled',\n",
    "                            'Effective Date',\n",
    "                            'Reason',\n",
    "                            'Date Untagged from R&R',\n",
    "                            'Justification for Untagged',\n",
    "                            'Frequency',\n",
    "                            'Date of Overdue',\n",
    "                            'Overdue (Days)',\n",
    "                            'Month in Arrears',\n",
    "                            'Overdue Amount (Facility Currency)',\n",
    "                            'Overdue Amount (MYR)',\n",
    "                            'Date Classified as Watchlist',\n",
    "                            'Watchlist Reason',\n",
    "                            'Date Declassified from Watchlist',\n",
    "                            'Date Impaired',\n",
    "                            'Reason for Impairment',\n",
    "                            'Partial Write off Date',\n",
    "                            'Write off Date',\n",
    "                            'Cancellation Date/Fully Settled Date',\n",
    "                            'Position as At'\n",
    "                     ]]"
   ]
  },
  {
   "cell_type": "code",
   "execution_count": 59,
   "id": "1ffaf0fa-8ecf-44e4-93ec-c76a3de64f81",
   "metadata": {},
   "outputs": [
    {
     "data": {
      "text/plain": [
       "(524, 147)"
      ]
     },
     "execution_count": 59,
     "metadata": {},
     "output_type": "execute_result"
    }
   ],
   "source": [
    "merge_Final.shape"
   ]
  },
  {
   "cell_type": "markdown",
   "id": "3060720a-7a61-4490-9190-8a0ed9abb878",
   "metadata": {},
   "source": [
    "9. Humming Bird"
   ]
  },
  {
   "cell_type": "code",
   "execution_count": 60,
   "id": "7ff6f7e7-4d7e-44b5-ab04-873760a7b57c",
   "metadata": {
    "scrolled": true
   },
   "outputs": [
    {
     "name": "stderr",
     "output_type": "stream",
     "text": [
      "C:\\Users\\syahidhalid\\AppData\\Local\\Temp\\1\\ipykernel_14132\\3349274571.py:1: SettingWithCopyWarning: \n",
      "A value is trying to be set on a copy of a slice from a DataFrame.\n",
      "Try using .loc[row_indexer,col_indexer] = value instead\n",
      "\n",
      "See the caveats in the documentation: https://pandas.pydata.org/pandas-docs/stable/user_guide/indexing.html#returning-a-view-versus-a-copy\n",
      "  merge_Final['CIF Number'] = merge_Final['CIF Number'].str.upper()\n",
      "C:\\Users\\syahidhalid\\AppData\\Local\\Temp\\1\\ipykernel_14132\\3349274571.py:2: SettingWithCopyWarning: \n",
      "A value is trying to be set on a copy of a slice from a DataFrame.\n",
      "Try using .loc[row_indexer,col_indexer] = value instead\n",
      "\n",
      "See the caveats in the documentation: https://pandas.pydata.org/pandas-docs/stable/user_guide/indexing.html#returning-a-view-versus-a-copy\n",
      "  merge_Final['EXIM Account No.'] = merge_Final['EXIM Account No.'].str.upper()\n",
      "C:\\Users\\syahidhalid\\AppData\\Local\\Temp\\1\\ipykernel_14132\\3349274571.py:3: SettingWithCopyWarning: \n",
      "A value is trying to be set on a copy of a slice from a DataFrame.\n",
      "Try using .loc[row_indexer,col_indexer] = value instead\n",
      "\n",
      "See the caveats in the documentation: https://pandas.pydata.org/pandas-docs/stable/user_guide/indexing.html#returning-a-view-versus-a-copy\n",
      "  merge_Final['Application System Code'] = merge_Final['Application System Code'].str.upper()\n",
      "C:\\Users\\syahidhalid\\AppData\\Local\\Temp\\1\\ipykernel_14132\\3349274571.py:4: SettingWithCopyWarning: \n",
      "A value is trying to be set on a copy of a slice from a DataFrame.\n",
      "Try using .loc[row_indexer,col_indexer] = value instead\n",
      "\n",
      "See the caveats in the documentation: https://pandas.pydata.org/pandas-docs/stable/user_guide/indexing.html#returning-a-view-versus-a-copy\n",
      "  merge_Final['CCRIS Master Account Number'] = merge_Final['CCRIS Master Account Number'].str.upper()\n",
      "C:\\Users\\syahidhalid\\AppData\\Local\\Temp\\1\\ipykernel_14132\\3349274571.py:5: SettingWithCopyWarning: \n",
      "A value is trying to be set on a copy of a slice from a DataFrame.\n",
      "Try using .loc[row_indexer,col_indexer] = value instead\n",
      "\n",
      "See the caveats in the documentation: https://pandas.pydata.org/pandas-docs/stable/user_guide/indexing.html#returning-a-view-versus-a-copy\n",
      "  merge_Final['CCRIS Sub Account Number'] = merge_Final['CCRIS Sub Account Number'].str.upper()\n",
      "C:\\Users\\syahidhalid\\AppData\\Local\\Temp\\1\\ipykernel_14132\\3349274571.py:6: SettingWithCopyWarning: \n",
      "A value is trying to be set on a copy of a slice from a DataFrame.\n",
      "Try using .loc[row_indexer,col_indexer] = value instead\n",
      "\n",
      "See the caveats in the documentation: https://pandas.pydata.org/pandas-docs/stable/user_guide/indexing.html#returning-a-view-versus-a-copy\n",
      "  merge_Final['Finance(SAP) Number'] = merge_Final['Finance(SAP) Number'].str.upper()\n",
      "C:\\Users\\syahidhalid\\AppData\\Local\\Temp\\1\\ipykernel_14132\\3349274571.py:7: SettingWithCopyWarning: \n",
      "A value is trying to be set on a copy of a slice from a DataFrame.\n",
      "Try using .loc[row_indexer,col_indexer] = value instead\n",
      "\n",
      "See the caveats in the documentation: https://pandas.pydata.org/pandas-docs/stable/user_guide/indexing.html#returning-a-view-versus-a-copy\n",
      "  merge_Final['Company Group'] = merge_Final['Company Group'].str.upper()\n",
      "C:\\Users\\syahidhalid\\AppData\\Local\\Temp\\1\\ipykernel_14132\\3349274571.py:8: SettingWithCopyWarning: \n",
      "A value is trying to be set on a copy of a slice from a DataFrame.\n",
      "Try using .loc[row_indexer,col_indexer] = value instead\n",
      "\n",
      "See the caveats in the documentation: https://pandas.pydata.org/pandas-docs/stable/user_guide/indexing.html#returning-a-view-versus-a-copy\n",
      "  merge_Final['Customer Name'] = merge_Final['Customer Name'].str.upper()\n",
      "C:\\Users\\syahidhalid\\AppData\\Local\\Temp\\1\\ipykernel_14132\\3349274571.py:10: SettingWithCopyWarning: \n",
      "A value is trying to be set on a copy of a slice from a DataFrame.\n",
      "Try using .loc[row_indexer,col_indexer] = value instead\n",
      "\n",
      "See the caveats in the documentation: https://pandas.pydata.org/pandas-docs/stable/user_guide/indexing.html#returning-a-view-versus-a-copy\n",
      "  merge_Final['Banking Team'] = merge_Final['Banking Team'].str.upper()\n",
      "C:\\Users\\syahidhalid\\AppData\\Local\\Temp\\1\\ipykernel_14132\\3349274571.py:16: SettingWithCopyWarning: \n",
      "A value is trying to be set on a copy of a slice from a DataFrame.\n",
      "Try using .loc[row_indexer,col_indexer] = value instead\n",
      "\n",
      "See the caveats in the documentation: https://pandas.pydata.org/pandas-docs/stable/user_guide/indexing.html#returning-a-view-versus-a-copy\n",
      "  merge_Final['Facility Currency'] = merge_Final['Facility Currency'].str.upper()\n"
     ]
    }
   ],
   "source": [
    "merge_Final['CIF Number'] = merge_Final['CIF Number'].str.upper()\n",
    "merge_Final['EXIM Account No.'] = merge_Final['EXIM Account No.'].str.upper()\n",
    "merge_Final['Application System Code'] = merge_Final['Application System Code'].str.upper()\n",
    "merge_Final['CCRIS Master Account Number'] = merge_Final['CCRIS Master Account Number'].str.upper()\n",
    "merge_Final['CCRIS Sub Account Number'] = merge_Final['CCRIS Sub Account Number'].str.upper()\n",
    "merge_Final['Finance(SAP) Number'] = merge_Final['Finance(SAP) Number'].str.upper()\n",
    "merge_Final['Company Group'] = merge_Final['Company Group'].str.upper()\n",
    "merge_Final['Customer Name'] = merge_Final['Customer Name'].str.upper()\n",
    "#merge_Final['Relationship Manager (RM)'] = merge_Final['Relationship Manager (RM)'].str.upper()\n",
    "merge_Final['Banking Team'] = merge_Final['Banking Team'].str.upper()\n",
    "#merge_Final['Ownership'] = merge_Final['Ownership'].str.upper()\n",
    "#merge_Final['Officer in Charge'] = merge_Final['Officer in Charge'].str.upper()\n",
    "                            #'Syndicated / Club Deal',\n",
    "                            #'Nature of Account',\n",
    "                            #'Facility',\n",
    "merge_Final['Facility Currency'] = merge_Final['Facility Currency'].str.upper()"
   ]
  },
  {
   "cell_type": "code",
   "execution_count": 61,
   "id": "6f933d63-d0d7-436e-ac25-7a2a66d3f88e",
   "metadata": {},
   "outputs": [],
   "source": [
    "#humming bird\n",
    "a_humm = sum(merge_Final.fillna(0).iloc[np.where(merge_Final['Finance(SAP) Number']=='500776')]['Income/Interest in Suspense (Facility Currency)'])\n",
    "b_humm = sum(merge_Final.fillna(0).iloc[np.where(merge_Final['Finance(SAP) Number']=='500776')]['Income/Interest in Suspense (MYR)'])\n",
    "c_humm = sum(merge_Final.fillna(0).iloc[np.where(merge_Final['Finance(SAP) Number']=='500776')]['Other Charges (Facility Currency)'])\n",
    "d_humm = sum(merge_Final.fillna(0).iloc[np.where(merge_Final['Finance(SAP) Number']=='500776')]['Other Charges (MYR)'])\n",
    "e_humm = sum(merge_Final.fillna(0).iloc[np.where(merge_Final['Finance(SAP) Number']=='500776')]['Total Loans Outstanding (Facility Currency)'])\n",
    "f_humm = sum(merge_Final.fillna(0).iloc[np.where(merge_Final['Finance(SAP) Number']=='500776')]['Total Loans Outstanding (MYR)'])\n",
    "g_humm = sum(merge_Final.fillna(0).iloc[np.where(merge_Final['Finance(SAP) Number']=='500776')]['Expected Credit Loss (ECL) LAF (Facility Currency)'])\n",
    "h_humm = sum(merge_Final.fillna(0).iloc[np.where(merge_Final['Finance(SAP) Number']=='500776')]['Expected Credit Loss LAF (ECL) (MYR)'])\n",
    "\n",
    "i_humm = sum(merge_Final.fillna(0).iloc[np.where(merge_Final['Finance(SAP) Number']=='500776')]['Cost/Principal Outstanding (Facility Currency)'])\n",
    "j_humm = sum(merge_Final.fillna(0).iloc[np.where(merge_Final['Finance(SAP) Number']=='500776')]['Cost/Principal Outstanding (MYR)'])\n",
    "k_humm = sum(merge_Final.fillna(0).iloc[np.where(merge_Final['Finance(SAP) Number']=='500776')]['Total Banking Exposure (Facility Currency)'])\n",
    "l_humm = sum(merge_Final.fillna(0).iloc[np.where(merge_Final['Finance(SAP) Number']=='500776')]['Total Banking Exposure (MYR)'])\n",
    "m_humm = sum(merge_Final.fillna(0).iloc[np.where(merge_Final['Finance(SAP) Number']=='500776')]['Other Charges Payment (Facility Currency)'])\n",
    "n_humm = sum(merge_Final.fillna(0).iloc[np.where(merge_Final['Finance(SAP) Number']=='500776')]['Other Charges Payment (MYR)'])\n",
    "o_humm = sum(merge_Final.fillna(0).iloc[np.where(merge_Final['Finance(SAP) Number']=='500776')]['Cumulative Other Charges Payment (Facility Currency)'])\n",
    "p_humm = sum(merge_Final.fillna(0).iloc[np.where(merge_Final['Finance(SAP) Number']=='500776')]['Cumulative Other Charges Payment (MYR)'])"
   ]
  },
  {
   "cell_type": "code",
   "execution_count": 62,
   "id": "5c1907da-f77b-4d9e-87ab-89b9fd3c447b",
   "metadata": {},
   "outputs": [],
   "source": [
    "\n",
    "merge_Final.loc[(merge_Final['EXIM Account No.']=='3308-02138-202-0109-01'),'Income/Interest in Suspense (Facility Currency)'] = 0.79*a_humm\n",
    "merge_Final.loc[(merge_Final['EXIM Account No.']=='3308-02138-202-0109-01'),'Income/Interest in Suspense (MYR)'] = 0.79*b_humm\n",
    "merge_Final.loc[(merge_Final['EXIM Account No.']=='3308-02138-202-0109-01'),'Other Charges (Facility Currency)'] = 0.79*c_humm\n",
    "merge_Final.loc[(merge_Final['EXIM Account No.']=='3308-02138-202-0109-01'),'Other Charges (MYR)'] = 0.79*d_humm\n",
    "merge_Final.loc[(merge_Final['EXIM Account No.']=='3308-02138-202-0109-01'),'Total Loans Outstanding (Facility Currency)'] = 0.79*e_humm\n",
    "merge_Final.loc[(merge_Final['EXIM Account No.']=='3308-02138-202-0109-01'),'Total Loans Outstanding (MYR)'] = 0.79*f_humm\n",
    "merge_Final.loc[(merge_Final['EXIM Account No.']=='3308-02138-202-0109-01'),'Expected Credit Loss (ECL) LAF (Facility Currency)'] = 0.79*g_humm\n",
    "merge_Final.loc[(merge_Final['EXIM Account No.']=='3308-02138-202-0109-01'),'Expected Credit Loss LAF (ECL) (MYR)'] = 0.79*h_humm\n",
    "\n",
    "merge_Final.loc[(merge_Final['EXIM Account No.']=='3308-02138-202-0109-01'),'Cost/Principal Outstanding (Facility Currency)'] = 0.79*i_humm\n",
    "merge_Final.loc[(merge_Final['EXIM Account No.']=='3308-02138-202-0109-01'),'Cost/Principal Outstanding (MYR)'] = 0.79*j_humm\n",
    "merge_Final.loc[(merge_Final['EXIM Account No.']=='3308-02138-202-0109-01'),'Total Banking Exposure (Facility Currency)'] = 0.79*k_humm\n",
    "merge_Final.loc[(merge_Final['EXIM Account No.']=='3308-02138-202-0109-01'),'Total Banking Exposure (MYR)'] = 0.79*l_humm\n",
    "merge_Final.loc[(merge_Final['EXIM Account No.']=='3308-02138-202-0109-01'),'Other Charges Payment (Facility Currency)'] = 0.79*m_humm\n",
    "merge_Final.loc[(merge_Final['EXIM Account No.']=='3308-02138-202-0109-01'),'Other Charges Payment (MYR)'] = 0.79*n_humm\n",
    "merge_Final.loc[(merge_Final['EXIM Account No.']=='3308-02138-202-0109-01'),'Cumulative Other Charges Payment (Facility Currency)'] = 0.79*o_humm\n",
    "merge_Final.loc[(merge_Final['EXIM Account No.']=='3308-02138-202-0109-01'),'Cumulative Other Charges Payment (MYR)'] = 0.79*p_humm\n"
   ]
  },
  {
   "cell_type": "code",
   "execution_count": 63,
   "id": "3a411fee-7cc0-4675-ba1b-ca80902d33b6",
   "metadata": {},
   "outputs": [],
   "source": [
    "\n",
    "\n",
    "merge_Final.loc[(merge_Final['EXIM Account No.']=='3308-02138-202-0109-02'),'Income/Interest in Suspense (Facility Currency)'] = 0.21*a_humm\n",
    "merge_Final.loc[(merge_Final['EXIM Account No.']=='3308-02138-202-0109-02'),'Income/Interest in Suspense (MYR)'] = 0.21*b_humm\n",
    "merge_Final.loc[(merge_Final['EXIM Account No.']=='3308-02138-202-0109-02'),'Other Charges (Facility Currency)'] = 0.21*c_humm\n",
    "merge_Final.loc[(merge_Final['EXIM Account No.']=='3308-02138-202-0109-02'),'Other Charges (MYR)'] = 0.21*d_humm\n",
    "merge_Final.loc[(merge_Final['EXIM Account No.']=='3308-02138-202-0109-02'),'Total Loans Outstanding (Facility Currency)'] = 0.21*e_humm\n",
    "merge_Final.loc[(merge_Final['EXIM Account No.']=='3308-02138-202-0109-02'),'Total Loans Outstanding (MYR)'] = 0.21*f_humm\n",
    "merge_Final.loc[(merge_Final['EXIM Account No.']=='3308-02138-202-0109-02'),'Expected Credit Loss (ECL) LAF (Facility Currency)'] = 0.21*g_humm\n",
    "merge_Final.loc[(merge_Final['EXIM Account No.']=='3308-02138-202-0109-02'),'Expected Credit Loss LAF (ECL) (MYR)'] = 0.21*h_humm\n",
    "\n",
    "merge_Final.loc[(merge_Final['EXIM Account No.']=='3308-02138-202-0109-02'),'Cost/Principal Outstanding (Facility Currency)'] = 0.21*i_humm\n",
    "merge_Final.loc[(merge_Final['EXIM Account No.']=='3308-02138-202-0109-02'),'Cost/Principal Outstanding (MYR)'] = 0.21*j_humm\n",
    "merge_Final.loc[(merge_Final['EXIM Account No.']=='3308-02138-202-0109-02'),'Total Banking Exposure (Facility Currency)'] = 0.21*k_humm\n",
    "merge_Final.loc[(merge_Final['EXIM Account No.']=='3308-02138-202-0109-02'),'Total Banking Exposure (MYR)'] = 0.21*l_humm\n",
    "merge_Final.loc[(merge_Final['EXIM Account No.']=='3308-02138-202-0109-02'),'Other Charges Payment (Facility Currency)'] = 0.21*m_humm\n",
    "merge_Final.loc[(merge_Final['EXIM Account No.']=='3308-02138-202-0109-02'),'Other Charges Payment (MYR)'] = 0.21*n_humm\n",
    "merge_Final.loc[(merge_Final['EXIM Account No.']=='3308-02138-202-0109-02'),'Cumulative Other Charges Payment (Facility Currency)'] = 0.21*o_humm\n",
    "merge_Final.loc[(merge_Final['EXIM Account No.']=='3308-02138-202-0109-02'),'Cumulative Other Charges Payment (MYR)'] = 0.21*p_humm\n"
   ]
  },
  {
   "cell_type": "code",
   "execution_count": null,
   "id": "d4c8afbc-d0db-4ee3-ae76-cd17d5cc64f8",
   "metadata": {},
   "outputs": [],
   "source": []
  },
  {
   "cell_type": "code",
   "execution_count": 64,
   "id": "7024bb31-2361-4f6a-93dc-1faafe1fa7e4",
   "metadata": {},
   "outputs": [],
   "source": [
    "merge_Final.loc[merge_Final['CCRIS Sub Account Number']==\"NAN\",'CCRIS Sub Account Number'] = \"\"\n",
    "\n",
    "\n",
    "merge_Final.loc[merge_Final['Finance(SAP) Number']==\"NAN\",'Finance(SAP) Number'] = \"\""
   ]
  },
  {
   "cell_type": "code",
   "execution_count": null,
   "id": "6c202f73-7f5d-4857-b47f-de7fb671cd6c",
   "metadata": {},
   "outputs": [],
   "source": []
  },
  {
   "cell_type": "markdown",
   "id": "0afe5507-b140-4da5-ae4a-4b2da8b19419",
   "metadata": {},
   "source": [
    "10. Export"
   ]
  },
  {
   "cell_type": "code",
   "execution_count": 66,
   "id": "873ad691-7dd0-4655-9e8e-f57cfc96fb78",
   "metadata": {},
   "outputs": [],
   "source": [
    "merge_Final.to_excel(r\"C:\\Users\\syahidhalid\\Syahid_PC\\Analytics - FAD\\00. Automation LDB\\Data Source\\202407\\Loan Database as Jul 2024 (python) - Raw.xlsx\", sheet_name=\"Export Worksheet\", index=False)"
   ]
  },
  {
   "cell_type": "code",
   "execution_count": null,
   "id": "a455eb33-8428-4979-8068-649b6be83b9b",
   "metadata": {},
   "outputs": [],
   "source": []
  },
  {
   "cell_type": "code",
   "execution_count": 90,
   "id": "32d84b7a-5e80-4ee8-8ac4-ac1d0dc1b723",
   "metadata": {},
   "outputs": [
    {
     "data": {
      "text/plain": [
       "Finance(SAP) Number\n",
       "NEW ACCOUNT    121\n",
       "                48\n",
       "BG-I            21\n",
       "BG              14\n",
       "500746           5\n",
       "500776           2\n",
       "500838           1\n",
       "500687           1\n",
       "500858           1\n",
       "500813           1\n",
       "Name: count, dtype: int64"
      ]
     },
     "execution_count": 90,
     "metadata": {},
     "output_type": "execute_result"
    }
   ],
   "source": [
    "merge_Final['Finance(SAP) Number'].value_counts().head(10)"
   ]
  },
  {
   "cell_type": "code",
   "execution_count": 129,
   "id": "007494ad-7efc-40dd-ab49-4113b1a5396e",
   "metadata": {
    "scrolled": true
   },
   "outputs": [],
   "source": [
    "#merge_Final.iloc[np.where(merge_Final['Customer Name']==\"SAGE PROMASTER SDN BHD\")]"
   ]
  },
  {
   "cell_type": "code",
   "execution_count": 65,
   "id": "83e64534-bfe2-47a5-8206-eb0a11a9ba43",
   "metadata": {},
   "outputs": [
    {
     "data": {
      "text/html": [
       "<div>\n",
       "<style scoped>\n",
       "    .dataframe tbody tr th:only-of-type {\n",
       "        vertical-align: middle;\n",
       "    }\n",
       "\n",
       "    .dataframe tbody tr th {\n",
       "        vertical-align: top;\n",
       "    }\n",
       "\n",
       "    .dataframe thead th {\n",
       "        text-align: right;\n",
       "    }\n",
       "</style>\n",
       "<table border=\"1\" class=\"dataframe\">\n",
       "  <thead>\n",
       "    <tr style=\"text-align: right;\">\n",
       "      <th></th>\n",
       "      <th>No.</th>\n",
       "      <th>CIF Number</th>\n",
       "      <th>EXIM Account No.</th>\n",
       "      <th>Application System Code</th>\n",
       "      <th>CCRIS Master Account Number</th>\n",
       "      <th>CCRIS Sub Account Number</th>\n",
       "      <th>Finance(SAP) Number</th>\n",
       "      <th>Company Group</th>\n",
       "      <th>Customer Name</th>\n",
       "      <th>Relationship Manager (RM)</th>\n",
       "      <th>Banking Team</th>\n",
       "      <th>Ownership</th>\n",
       "      <th>Officer in Charge</th>\n",
       "      <th>Syndicated / Club Deal</th>\n",
       "      <th>Nature of Account</th>\n",
       "      <th>Facility</th>\n",
       "      <th>Facility Currency</th>\n",
       "      <th>Type of Financing</th>\n",
       "      <th>Shariah Contract / Concept</th>\n",
       "      <th>Fund / Guarantee /Program / Insentif</th>\n",
       "      <th>Status</th>\n",
       "      <th>Post Approval Stage</th>\n",
       "      <th>Date of Ready for Utilization (RU)</th>\n",
       "      <th>Restructured / Rescheduled(Y/N)</th>\n",
       "      <th>Amount Approved / Facility Limit (Facility Currency)</th>\n",
       "      <th>Amount Approved / Facility Limit (MYR)</th>\n",
       "      <th>Cost/Principal Outstanding (Facility Currency)</th>\n",
       "      <th>Cost/Principal Outstanding (MYR)</th>\n",
       "      <th>Contingent Liability Letter of Credit (Facility Currency)</th>\n",
       "      <th>Contingent Liability Letter of Credit (MYR)</th>\n",
       "      <th>Contingent Liability (Facility Currency)</th>\n",
       "      <th>Contingent Liability (MYR)</th>\n",
       "      <th>Account Receivables/Past Due Claims (Facility Currency)</th>\n",
       "      <th>Account Receivable/Past Due Claims (MYR)</th>\n",
       "      <th>Total Banking Exposure (Facility Currency)</th>\n",
       "      <th>Total Banking Exposure (MYR)</th>\n",
       "      <th>Accrued Profit/Interest of the month (Facility Currency)</th>\n",
       "      <th>Accrued Profit/Interest of the month (MYR)</th>\n",
       "      <th>Modification of Loss (Facility Currency)</th>\n",
       "      <th>Modification of Loss (MYR)</th>\n",
       "      <th>Cumulative Accrued Profit/Interest (Facility Currency)</th>\n",
       "      <th>Cumulative Accrued Profit/Interest (MYR)</th>\n",
       "      <th>Penalty/Ta`widh (Facility Currency)</th>\n",
       "      <th>Penalty/Ta`widh (MYR)</th>\n",
       "      <th>Income/Interest in Suspense (Facility Currency)</th>\n",
       "      <th>Income/Interest in Suspense (MYR)</th>\n",
       "      <th>Other Charges (Facility Currency)</th>\n",
       "      <th>Other Charges (MYR)</th>\n",
       "      <th>Total Loans Outstanding (Facility Currency)</th>\n",
       "      <th>Total Loans Outstanding (MYR)</th>\n",
       "      <th>Expected Credit Loss (ECL) LAF (Facility Currency)</th>\n",
       "      <th>Expected Credit Loss LAF (ECL) (MYR)</th>\n",
       "      <th>Expected Credit Loss C&amp;C (ECL) (Facility Currency)</th>\n",
       "      <th>Expected Credit Loss C&amp;C (ECL) (MYR)</th>\n",
       "      <th>Disbursement/Drawdown Status</th>\n",
       "      <th>Unutilised/ Undrawn Amount (Facility Currency)</th>\n",
       "      <th>Unutilised/ Undrawn Amount (MYR)</th>\n",
       "      <th>Disbursement/Drawdown (Facility Currency)</th>\n",
       "      <th>Disbursement/Drawdown (MYR)</th>\n",
       "      <th>Cumulative Disbursement/Drawdown (Facility Currency)</th>\n",
       "      <th>Cumulative Disbursement/Drawdown (MYR)</th>\n",
       "      <th>Cost Payment/Principal Repayment (Facility Currency)</th>\n",
       "      <th>Cost Payment/Principal Repayment (MYR)</th>\n",
       "      <th>Cumulative Cost Payment/Principal Repayment (Facility Currency)</th>\n",
       "      <th>Cumulative Cost Payment/Principal Repayment (MYR)</th>\n",
       "      <th>Profit Payment/Interest Repayment (Facility Currency)</th>\n",
       "      <th>Profit Payment/Interest Repayment (MYR)</th>\n",
       "      <th>Cumulative Profit Payment/Interest Repayment (Facility Currency)</th>\n",
       "      <th>Cumulative Profit Payment/Interest Repayment (MYR)</th>\n",
       "      <th>Ta`widh Payment/Penalty Repayment (Facility Currency)</th>\n",
       "      <th>Ta`widh Payment/Penalty Repayment (MYR)</th>\n",
       "      <th>Cumulative Ta`widh Payment/Penalty Repayment (Facility Currency)</th>\n",
       "      <th>Cumulative Ta`widh Payment/Penalty Repayment (MYR)</th>\n",
       "      <th>Other Charges Payment (Facility Currency)</th>\n",
       "      <th>Other Charges Payment (MYR)</th>\n",
       "      <th>Cumulative Other Charges Payment (Facility Currency)</th>\n",
       "      <th>Cumulative Other Charges Payment (MYR)</th>\n",
       "      <th>Rating at Origination</th>\n",
       "      <th>PD</th>\n",
       "      <th>PF</th>\n",
       "      <th>CRMS Obligor Risk Rating</th>\n",
       "      <th>CRMS CG Rating</th>\n",
       "      <th>PD (%)</th>\n",
       "      <th>LGD (%)</th>\n",
       "      <th>Risk Analyst</th>\n",
       "      <th>MFRS9 Staging</th>\n",
       "      <th>BNM Main Sector</th>\n",
       "      <th>BNM Sub Sector</th>\n",
       "      <th>EXIM Main Sector</th>\n",
       "      <th>Industry (Risk)</th>\n",
       "      <th>Industry Classification</th>\n",
       "      <th>Purpose of Financing</th>\n",
       "      <th>Date Approved at Origination</th>\n",
       "      <th>Approval Authority</th>\n",
       "      <th>LO issuance Date</th>\n",
       "      <th>Date of LO Acceptance</th>\n",
       "      <th>1st Disbursement/Drawdown Date</th>\n",
       "      <th>1st Payment/Repayment Date</th>\n",
       "      <th>Expiry of Availability Period</th>\n",
       "      <th>Facility Agreement Date</th>\n",
       "      <th>Annual Review Date</th>\n",
       "      <th>Watchlist Review Date</th>\n",
       "      <th>Maturity/Expired Date</th>\n",
       "      <th>Grace Period (Month)</th>\n",
       "      <th>Moratorium Period (Month)</th>\n",
       "      <th>Start Moratorium Date</th>\n",
       "      <th>Tenure (Month)</th>\n",
       "      <th>Payment/Repayment Frequency (Profit/Interest)</th>\n",
       "      <th>Payment/Repayment Frequency (Cost/Principal)</th>\n",
       "      <th>Effective cost of borrowings</th>\n",
       "      <th>Profit/Interest Margin</th>\n",
       "      <th>Average Profit/Interest Rate</th>\n",
       "      <th>Ta`widh Compensation/Penalty Rate</th>\n",
       "      <th>Operation Country</th>\n",
       "      <th>Country Exposure</th>\n",
       "      <th>Country Rating</th>\n",
       "      <th>Region</th>\n",
       "      <th>Market Type</th>\n",
       "      <th>Classification of Entity / Customer Type</th>\n",
       "      <th>Entity / Customer Type</th>\n",
       "      <th>Classification of Residency Status</th>\n",
       "      <th>Residency Status</th>\n",
       "      <th>Corporate Type</th>\n",
       "      <th>SME Commercial Corporate</th>\n",
       "      <th>Corporate Status</th>\n",
       "      <th>Justification on Corporate Status</th>\n",
       "      <th>Restructured / Rescheduled</th>\n",
       "      <th>Date of Approval Restructured / Rescheduled</th>\n",
       "      <th>Effective Date</th>\n",
       "      <th>Reason</th>\n",
       "      <th>Date Untagged from R&amp;R</th>\n",
       "      <th>Justification for Untagged</th>\n",
       "      <th>Frequency</th>\n",
       "      <th>Date of Overdue</th>\n",
       "      <th>Overdue (Days)</th>\n",
       "      <th>Month in Arrears</th>\n",
       "      <th>Overdue Amount (Facility Currency)</th>\n",
       "      <th>Overdue Amount (MYR)</th>\n",
       "      <th>Date Classified as Watchlist</th>\n",
       "      <th>Watchlist Reason</th>\n",
       "      <th>Date Declassified from Watchlist</th>\n",
       "      <th>Date Impaired</th>\n",
       "      <th>Reason for Impairment</th>\n",
       "      <th>Partial Write off Date</th>\n",
       "      <th>Write off Date</th>\n",
       "      <th>Cancellation Date/Fully Settled Date</th>\n",
       "      <th>Position as At</th>\n",
       "    </tr>\n",
       "  </thead>\n",
       "  <tbody>\n",
       "    <tr>\n",
       "      <th>0</th>\n",
       "      <td>1</td>\n",
       "      <td>EXIM000257</td>\n",
       "      <td>3308-02105-205-0190-00</td>\n",
       "      <td>CBD</td>\n",
       "      <td>PT SRIWIJAYA AIR BCF1</td>\n",
       "      <td>PT SRIWIJAYA AIR BCF1-USD16M</td>\n",
       "      <td>500913</td>\n",
       "      <td>PT SRIWIJAYA AIR</td>\n",
       "      <td>PT SRIWIJAYA AIR</td>\n",
       "      <td>ARRD</td>\n",
       "      <td>ARRD</td>\n",
       "      <td>NaN</td>\n",
       "      <td>En. Visualingam Veeraperumal</td>\n",
       "      <td>Not Applicable</td>\n",
       "      <td>Non Trade</td>\n",
       "      <td>Buyer Credit</td>\n",
       "      <td>USD</td>\n",
       "      <td>Conventional</td>\n",
       "      <td>NaN</td>\n",
       "      <td>NaN</td>\n",
       "      <td>Impaired</td>\n",
       "      <td>NaN</td>\n",
       "      <td>NaT</td>\n",
       "      <td>No</td>\n",
       "      <td>9.82e+07</td>\n",
       "      <td>4.51e+08</td>\n",
       "      <td>8.09e+07</td>\n",
       "      <td>3.72e+08</td>\n",
       "      <td>0.0</td>\n",
       "      <td>0.0</td>\n",
       "      <td>0.0</td>\n",
       "      <td>0.0</td>\n",
       "      <td>0.0</td>\n",
       "      <td>0.0</td>\n",
       "      <td>8.09e+07</td>\n",
       "      <td>3.72e+08</td>\n",
       "      <td>0.0</td>\n",
       "      <td>0.0</td>\n",
       "      <td>0.0</td>\n",
       "      <td>0.0</td>\n",
       "      <td>0.0</td>\n",
       "      <td>0.0</td>\n",
       "      <td>0.0</td>\n",
       "      <td>0.0</td>\n",
       "      <td>3.60e+07</td>\n",
       "      <td>1.66e+08</td>\n",
       "      <td>112948.32</td>\n",
       "      <td>518771.62</td>\n",
       "      <td>8.10e+07</td>\n",
       "      <td>3.72e+08</td>\n",
       "      <td>0</td>\n",
       "      <td>0</td>\n",
       "      <td>0</td>\n",
       "      <td>0</td>\n",
       "      <td>Fully Disbursed</td>\n",
       "      <td>0.0</td>\n",
       "      <td>0.0</td>\n",
       "      <td>0.0</td>\n",
       "      <td>0.0</td>\n",
       "      <td>0.0</td>\n",
       "      <td>0.0</td>\n",
       "      <td>0.0</td>\n",
       "      <td>0.0</td>\n",
       "      <td>0.0</td>\n",
       "      <td>0.0</td>\n",
       "      <td>0.0</td>\n",
       "      <td>0.0</td>\n",
       "      <td>0.0</td>\n",
       "      <td>0.0</td>\n",
       "      <td>0.0</td>\n",
       "      <td>0.0</td>\n",
       "      <td>0.0</td>\n",
       "      <td>0.0</td>\n",
       "      <td>0.0</td>\n",
       "      <td>0.0</td>\n",
       "      <td>0.0</td>\n",
       "      <td>0.0</td>\n",
       "      <td>4</td>\n",
       "      <td>10</td>\n",
       "      <td>NaN</td>\n",
       "      <td>10.0</td>\n",
       "      <td>NaN</td>\n",
       "      <td>1.0</td>\n",
       "      <td>1.0</td>\n",
       "      <td>NaN</td>\n",
       "      <td>3.0</td>\n",
       "      <td>Transportation and Storage</td>\n",
       "      <td>Transport of passengers by air over regular routes and on regular schedules</td>\n",
       "      <td>Transportation, Storage and Communication</td>\n",
       "      <td>Others</td>\n",
       "      <td>NaN</td>\n",
       "      <td>To fully finance the purchase of six(6)ATR72-600 Aircraft from MAS/PwC (</td>\n",
       "      <td>2016-12-06</td>\n",
       "      <td>BCC</td>\n",
       "      <td>2016-12-13 00:00:00</td>\n",
       "      <td>2016-12-14 00:00:00</td>\n",
       "      <td>NaT</td>\n",
       "      <td>2018-04-30</td>\n",
       "      <td>NaT</td>\n",
       "      <td>2016-12-19 00:00:00</td>\n",
       "      <td>NaT</td>\n",
       "      <td>NaT</td>\n",
       "      <td>NaT</td>\n",
       "      <td>NaN</td>\n",
       "      <td>NaN</td>\n",
       "      <td>NaT</td>\n",
       "      <td>96.0</td>\n",
       "      <td>Monthly</td>\n",
       "      <td>Monthly</td>\n",
       "      <td>1M LIBOR</td>\n",
       "      <td>2.5</td>\n",
       "      <td>9.8</td>\n",
       "      <td>1.0</td>\n",
       "      <td>Indonesia</td>\n",
       "      <td>Indonesia</td>\n",
       "      <td>BBB</td>\n",
       "      <td>Asia</td>\n",
       "      <td>Traditional</td>\n",
       "      <td>Business Entities</td>\n",
       "      <td>Company</td>\n",
       "      <td>Non-Resident</td>\n",
       "      <td>Non-Resident</td>\n",
       "      <td>Non-Bumi</td>\n",
       "      <td>Commercial</td>\n",
       "      <td>Non-SME</td>\n",
       "      <td>NaN</td>\n",
       "      <td>Existing</td>\n",
       "      <td>NaT</td>\n",
       "      <td>NaN</td>\n",
       "      <td>NaN</td>\n",
       "      <td>NaT</td>\n",
       "      <td>NaN</td>\n",
       "      <td>NaN</td>\n",
       "      <td>NaN</td>\n",
       "      <td>NaN</td>\n",
       "      <td>76.0</td>\n",
       "      <td>0.0</td>\n",
       "      <td>0.0</td>\n",
       "      <td>2018-01-31</td>\n",
       "      <td>Financing Activity - Payment Delay</td>\n",
       "      <td>NaT</td>\n",
       "      <td>2018-05-31</td>\n",
       "      <td>COVID 19</td>\n",
       "      <td>NaT</td>\n",
       "      <td>NaT</td>\n",
       "      <td>NaT</td>\n",
       "      <td>31/7/2024</td>\n",
       "    </tr>\n",
       "  </tbody>\n",
       "</table>\n",
       "</div>"
      ],
      "text/plain": [
       "   No.  CIF Number        EXIM Account No. Application System Code  \\\n",
       "0    1  EXIM000257  3308-02105-205-0190-00                     CBD   \n",
       "\n",
       "  CCRIS Master Account Number      CCRIS Sub Account Number  \\\n",
       "0       PT SRIWIJAYA AIR BCF1  PT SRIWIJAYA AIR BCF1-USD16M   \n",
       "\n",
       "  Finance(SAP) Number     Company Group     Customer Name  \\\n",
       "0              500913  PT SRIWIJAYA AIR  PT SRIWIJAYA AIR   \n",
       "\n",
       "  Relationship Manager (RM) Banking Team Ownership  \\\n",
       "0                      ARRD         ARRD       NaN   \n",
       "\n",
       "              Officer in Charge Syndicated / Club Deal Nature of Account  \\\n",
       "0  En. Visualingam Veeraperumal         Not Applicable         Non Trade   \n",
       "\n",
       "       Facility Facility Currency Type of Financing  \\\n",
       "0  Buyer Credit               USD      Conventional   \n",
       "\n",
       "  Shariah Contract / Concept Fund / Guarantee /Program / Insentif    Status  \\\n",
       "0                        NaN                                  NaN  Impaired   \n",
       "\n",
       "  Post Approval Stage Date of Ready for Utilization (RU)  \\\n",
       "0                 NaN                                NaT   \n",
       "\n",
       "  Restructured / Rescheduled(Y/N)  \\\n",
       "0                              No   \n",
       "\n",
       "   Amount Approved / Facility Limit (Facility Currency)  \\\n",
       "0                                              9.82e+07   \n",
       "\n",
       "   Amount Approved / Facility Limit (MYR)  \\\n",
       "0                                4.51e+08   \n",
       "\n",
       "   Cost/Principal Outstanding (Facility Currency)  \\\n",
       "0                                        8.09e+07   \n",
       "\n",
       "   Cost/Principal Outstanding (MYR)  \\\n",
       "0                          3.72e+08   \n",
       "\n",
       "   Contingent Liability Letter of Credit (Facility Currency)  \\\n",
       "0                                                        0.0   \n",
       "\n",
       "   Contingent Liability Letter of Credit (MYR)  \\\n",
       "0                                          0.0   \n",
       "\n",
       "   Contingent Liability (Facility Currency)  Contingent Liability (MYR)  \\\n",
       "0                                       0.0                         0.0   \n",
       "\n",
       "   Account Receivables/Past Due Claims (Facility Currency)  \\\n",
       "0                                                      0.0   \n",
       "\n",
       "   Account Receivable/Past Due Claims (MYR)  \\\n",
       "0                                       0.0   \n",
       "\n",
       "   Total Banking Exposure (Facility Currency)  Total Banking Exposure (MYR)  \\\n",
       "0                                    8.09e+07                      3.72e+08   \n",
       "\n",
       "   Accrued Profit/Interest of the month (Facility Currency)  \\\n",
       "0                                                       0.0   \n",
       "\n",
       "   Accrued Profit/Interest of the month (MYR)  \\\n",
       "0                                         0.0   \n",
       "\n",
       "   Modification of Loss (Facility Currency)  Modification of Loss (MYR)  \\\n",
       "0                                       0.0                         0.0   \n",
       "\n",
       "   Cumulative Accrued Profit/Interest (Facility Currency)  \\\n",
       "0                                                     0.0   \n",
       "\n",
       "   Cumulative Accrued Profit/Interest (MYR)  \\\n",
       "0                                       0.0   \n",
       "\n",
       "   Penalty/Ta`widh (Facility Currency)  Penalty/Ta`widh (MYR)  \\\n",
       "0                                  0.0                    0.0   \n",
       "\n",
       "   Income/Interest in Suspense (Facility Currency)  \\\n",
       "0                                         3.60e+07   \n",
       "\n",
       "   Income/Interest in Suspense (MYR)  Other Charges (Facility Currency)  \\\n",
       "0                           1.66e+08                          112948.32   \n",
       "\n",
       "   Other Charges (MYR)  Total Loans Outstanding (Facility Currency)  \\\n",
       "0            518771.62                                     8.10e+07   \n",
       "\n",
       "   Total Loans Outstanding (MYR)  \\\n",
       "0                       3.72e+08   \n",
       "\n",
       "   Expected Credit Loss (ECL) LAF (Facility Currency)  \\\n",
       "0                                                   0   \n",
       "\n",
       "   Expected Credit Loss LAF (ECL) (MYR)  \\\n",
       "0                                     0   \n",
       "\n",
       "   Expected Credit Loss C&C (ECL) (Facility Currency)  \\\n",
       "0                                                   0   \n",
       "\n",
       "   Expected Credit Loss C&C (ECL) (MYR) Disbursement/Drawdown Status  \\\n",
       "0                                     0              Fully Disbursed   \n",
       "\n",
       "   Unutilised/ Undrawn Amount (Facility Currency)  \\\n",
       "0                                             0.0   \n",
       "\n",
       "   Unutilised/ Undrawn Amount (MYR)  \\\n",
       "0                               0.0   \n",
       "\n",
       "   Disbursement/Drawdown (Facility Currency)  Disbursement/Drawdown (MYR)  \\\n",
       "0                                        0.0                          0.0   \n",
       "\n",
       "   Cumulative Disbursement/Drawdown (Facility Currency)  \\\n",
       "0                                                   0.0   \n",
       "\n",
       "   Cumulative Disbursement/Drawdown (MYR)  \\\n",
       "0                                     0.0   \n",
       "\n",
       "   Cost Payment/Principal Repayment (Facility Currency)  \\\n",
       "0                                                   0.0   \n",
       "\n",
       "   Cost Payment/Principal Repayment (MYR)  \\\n",
       "0                                     0.0   \n",
       "\n",
       "   Cumulative Cost Payment/Principal Repayment (Facility Currency)  \\\n",
       "0                                                              0.0   \n",
       "\n",
       "   Cumulative Cost Payment/Principal Repayment (MYR)  \\\n",
       "0                                                0.0   \n",
       "\n",
       "   Profit Payment/Interest Repayment (Facility Currency)  \\\n",
       "0                                                    0.0   \n",
       "\n",
       "   Profit Payment/Interest Repayment (MYR)  \\\n",
       "0                                      0.0   \n",
       "\n",
       "   Cumulative Profit Payment/Interest Repayment (Facility Currency)  \\\n",
       "0                                                               0.0   \n",
       "\n",
       "   Cumulative Profit Payment/Interest Repayment (MYR)  \\\n",
       "0                                                 0.0   \n",
       "\n",
       "   Ta`widh Payment/Penalty Repayment (Facility Currency)  \\\n",
       "0                                                    0.0   \n",
       "\n",
       "   Ta`widh Payment/Penalty Repayment (MYR)  \\\n",
       "0                                      0.0   \n",
       "\n",
       "   Cumulative Ta`widh Payment/Penalty Repayment (Facility Currency)  \\\n",
       "0                                                               0.0   \n",
       "\n",
       "   Cumulative Ta`widh Payment/Penalty Repayment (MYR)  \\\n",
       "0                                                 0.0   \n",
       "\n",
       "   Other Charges Payment (Facility Currency)  Other Charges Payment (MYR)  \\\n",
       "0                                        0.0                          0.0   \n",
       "\n",
       "   Cumulative Other Charges Payment (Facility Currency)  \\\n",
       "0                                                   0.0   \n",
       "\n",
       "   Cumulative Other Charges Payment (MYR) Rating at Origination  PD  PF  \\\n",
       "0                                     0.0                     4  10 NaN   \n",
       "\n",
       "   CRMS Obligor Risk Rating CRMS CG Rating  PD (%)  LGD (%) Risk Analyst  \\\n",
       "0                      10.0            NaN     1.0      1.0          NaN   \n",
       "\n",
       "   MFRS9 Staging             BNM Main Sector  \\\n",
       "0            3.0  Transportation and Storage   \n",
       "\n",
       "                                                                BNM Sub Sector  \\\n",
       "0  Transport of passengers by air over regular routes and on regular schedules   \n",
       "\n",
       "                            EXIM Main Sector Industry (Risk)  \\\n",
       "0  Transportation, Storage and Communication          Others   \n",
       "\n",
       "  Industry Classification  \\\n",
       "0                     NaN   \n",
       "\n",
       "                                                       Purpose of Financing  \\\n",
       "0  To fully finance the purchase of six(6)ATR72-600 Aircraft from MAS/PwC (   \n",
       "\n",
       "  Date Approved at Origination Approval Authority     LO issuance Date  \\\n",
       "0                   2016-12-06                BCC  2016-12-13 00:00:00   \n",
       "\n",
       "  Date of LO Acceptance 1st Disbursement/Drawdown Date  \\\n",
       "0   2016-12-14 00:00:00                            NaT   \n",
       "\n",
       "  1st Payment/Repayment Date Expiry of Availability Period  \\\n",
       "0                 2018-04-30                           NaT   \n",
       "\n",
       "  Facility Agreement Date Annual Review Date Watchlist Review Date  \\\n",
       "0     2016-12-19 00:00:00                NaT                   NaT   \n",
       "\n",
       "  Maturity/Expired Date  Grace Period (Month)  Moratorium Period (Month)  \\\n",
       "0                   NaT                   NaN                        NaN   \n",
       "\n",
       "  Start Moratorium Date  Tenure (Month)  \\\n",
       "0                   NaT            96.0   \n",
       "\n",
       "  Payment/Repayment Frequency (Profit/Interest)  \\\n",
       "0                                       Monthly   \n",
       "\n",
       "  Payment/Repayment Frequency (Cost/Principal) Effective cost of borrowings  \\\n",
       "0                                      Monthly                     1M LIBOR   \n",
       "\n",
       "  Profit/Interest Margin  Average Profit/Interest Rate  \\\n",
       "0                    2.5                           9.8   \n",
       "\n",
       "   Ta`widh Compensation/Penalty Rate Operation Country Country Exposure  \\\n",
       "0                                1.0         Indonesia        Indonesia   \n",
       "\n",
       "  Country Rating Region  Market Type Classification of Entity / Customer Type  \\\n",
       "0            BBB   Asia  Traditional                        Business Entities   \n",
       "\n",
       "  Entity / Customer Type Classification of Residency Status Residency Status  \\\n",
       "0                Company                       Non-Resident     Non-Resident   \n",
       "\n",
       "  Corporate Type SME Commercial Corporate Corporate Status  \\\n",
       "0       Non-Bumi               Commercial          Non-SME   \n",
       "\n",
       "  Justification on Corporate Status Restructured / Rescheduled  \\\n",
       "0                               NaN                   Existing   \n",
       "\n",
       "  Date of Approval Restructured / Rescheduled Effective Date Reason  \\\n",
       "0                                         NaT            NaN    NaN   \n",
       "\n",
       "  Date Untagged from R&R Justification for Untagged Frequency  \\\n",
       "0                    NaT                        NaN       NaN   \n",
       "\n",
       "   Date of Overdue  Overdue (Days)  Month in Arrears  \\\n",
       "0              NaN             NaN              76.0   \n",
       "\n",
       "   Overdue Amount (Facility Currency)  Overdue Amount (MYR)  \\\n",
       "0                                 0.0                   0.0   \n",
       "\n",
       "  Date Classified as Watchlist                    Watchlist Reason  \\\n",
       "0                   2018-01-31  Financing Activity - Payment Delay   \n",
       "\n",
       "  Date Declassified from Watchlist Date Impaired Reason for Impairment  \\\n",
       "0                              NaT    2018-05-31              COVID 19   \n",
       "\n",
       "  Partial Write off Date Write off Date Cancellation Date/Fully Settled Date  \\\n",
       "0                    NaT            NaT                                  NaT   \n",
       "\n",
       "  Position as At  \n",
       "0      31/7/2024  "
      ]
     },
     "execution_count": 65,
     "metadata": {},
     "output_type": "execute_result"
    }
   ],
   "source": [
    "merge_Final.head(1)"
   ]
  },
  {
   "cell_type": "code",
   "execution_count": null,
   "id": "ba980f67-8568-4a53-98e7-e081b4d74c9b",
   "metadata": {},
   "outputs": [],
   "source": []
  },
  {
   "cell_type": "code",
   "execution_count": null,
   "id": "c76052d5-0fac-4dc4-b988-af5d34c0930e",
   "metadata": {},
   "outputs": [],
   "source": []
  },
  {
   "cell_type": "code",
   "execution_count": null,
   "id": "dc4769ad-7fa8-45c1-8509-d057b2856a7c",
   "metadata": {
    "scrolled": true
   },
   "outputs": [],
   "source": []
  },
  {
   "cell_type": "code",
   "execution_count": null,
   "id": "f23ec2bb-85ce-4c22-8e98-03c9f5983649",
   "metadata": {},
   "outputs": [],
   "source": []
  },
  {
   "cell_type": "code",
   "execution_count": null,
   "id": "b586ae19-69ab-416a-a490-22034f3a4a8b",
   "metadata": {},
   "outputs": [],
   "source": []
  },
  {
   "cell_type": "code",
   "execution_count": null,
   "id": "99e302bf-369b-41ea-b632-804ae32adf36",
   "metadata": {},
   "outputs": [],
   "source": []
  }
 ],
 "metadata": {
  "kernelspec": {
   "display_name": "Python 3 (ipykernel)",
   "language": "python",
   "name": "python3"
  },
  "language_info": {
   "codemirror_mode": {
    "name": "ipython",
    "version": 3
   },
   "file_extension": ".py",
   "mimetype": "text/x-python",
   "name": "python",
   "nbconvert_exporter": "python",
   "pygments_lexer": "ipython3",
   "version": "3.11.7"
  }
 },
 "nbformat": 4,
 "nbformat_minor": 5
}
