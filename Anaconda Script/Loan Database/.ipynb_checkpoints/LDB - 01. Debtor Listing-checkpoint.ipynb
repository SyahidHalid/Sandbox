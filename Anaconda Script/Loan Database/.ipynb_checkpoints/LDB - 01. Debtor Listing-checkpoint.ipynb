{
 "cells": [
  {
   "cell_type": "markdown",
   "id": "e5865e8a-bcc8-418a-beee-7937ff950632",
   "metadata": {},
   "source": [
    "# ---------------------------   _File Name Checking_ ---------------------------"
   ]
  },
  {
   "cell_type": "code",
   "execution_count": 1,
   "id": "6dce835a-0983-4fab-bb96-741a6e8910dc",
   "metadata": {},
   "outputs": [
    {
     "data": {
      "text/plain": [
       "'Jul 2024'"
      ]
     },
     "execution_count": 1,
     "metadata": {},
     "output_type": "execute_result"
    }
   ],
   "source": [
    "Year = \"202407\"\n",
    "\n",
    "Location = r\"C:\\Users\\syahidhalid\\Syahid_PC\\Analytics - FAD\\00. Automation LDB\\Data Source\\\\\"+str(Year)+\"\\\\Finance\"\n",
    "File = \"Debtors Listing and Customer Balance Report as at Jul 2024\"\n",
    "\n",
    "str(File[-8:])"
   ]
  },
  {
   "cell_type": "code",
   "execution_count": 2,
   "id": "c7d2436a-92d3-4f4b-b03b-e2c97fa2af80",
   "metadata": {},
   "outputs": [
    {
     "data": {
      "text/plain": [
       "'2024'"
      ]
     },
     "execution_count": 2,
     "metadata": {},
     "output_type": "execute_result"
    }
   ],
   "source": [
    "str(File[-4:])"
   ]
  },
  {
   "cell_type": "code",
   "execution_count": 3,
   "id": "28661411-d123-4d39-8ac4-0953c3a0614d",
   "metadata": {},
   "outputs": [
    {
     "data": {
      "text/plain": [
       "'Balance_31stJuly2024'"
      ]
     },
     "execution_count": 3,
     "metadata": {},
     "output_type": "execute_result"
    }
   ],
   "source": [
    "BalanceOS = \"Balance_31stJuly2024\"\n",
    "BalanceOS"
   ]
  },
  {
   "cell_type": "markdown",
   "id": "1c59ec98-0044-4e94-b1df-707813ce23f8",
   "metadata": {},
   "source": [
    "# ---------------------------   _Debtor Listing_ ---------------------------"
   ]
  },
  {
   "cell_type": "code",
   "execution_count": 4,
   "id": "b85a06a1-c158-489f-adfa-3af0c8df1dd3",
   "metadata": {
    "scrolled": true
   },
   "outputs": [],
   "source": [
    "#Year = \"202406\"\n",
    "#Location = r\"C:\\Users\\syahidhalid\\Syahid_PC\\Analytics - FAD\\00. Automation LDB\\Data Source\\\\\"+str(Year)+\"\\\\Finance\"\n",
    "\n",
    "#BalanceOS = \"Balance_30thJune2024\"\n",
    "#File = \"Debtors Listing and Customer Balance Report as at Jun 2024\"\n",
    "\n",
    "#Year = \"202405\"\n",
    "#BalanceOS = \"Balance_31stMay2024\"\n",
    "#File = \"Debtors Listing and Customer Balance Report as at May 2024\"\n",
    "#Location = r\"C:\\Users\\syahidhalid\\Syahid_PC\\Analytics - FAD\\00. Automation LDB\\Data Source\\\\\"+str(Year)+\"\\\\Final\\Finance\"\n",
    "\n",
    "\n",
    "#control + F + dropdown new to search bar to find and replace \n",
    "import pandas as pd\n",
    "import numpy as np\n",
    "import xlsxwriter\n",
    "\n",
    "#warnings.filterwarnings('ignore')\n",
    "pd.set_option(\"display.max_columns\", None) \n",
    "pd.set_option(\"display.max_colwidth\", 1000) #huruf dlm column\n",
    "pd.set_option(\"display.max_rows\", 100)\n",
    "pd.set_option(\"display.precision\", 2) #2 titik perpuluhan\n",
    "\n",
    "Isl_Cost = pd.read_excel(str(Location)+\"\\\\\"+str(File)+\".xlsx\", sheet_name='Debtors Listing Islamic (Cost)', header=5) # skiprows = 2, nrows=18,  usecols= 'A:D'\n",
    "Isl_Profit = pd.read_excel(str(Location)+\"\\\\\"+str(File)+\".xlsx\", sheet_name='Debtors Listing Islamic (Profit', header=3) # skiprows = 2, nrows=18,  usecols= 'A:D'\n",
    "Mora = pd.read_excel(str(Location)+\"\\\\\"+str(File)+\".xlsx\", sheet_name='Modification MORA & R&R '+str(File[-8:-5])+str(File[-4:]), header=5) # skiprows = 2, nrows=18,  usecols= 'A:D'\n",
    "Conv = pd.read_excel(str(Location)+\"\\\\\"+str(File)+\".xlsx\", sheet_name='Debtors Listing Conv '+str(File[-8:]), header=2) # skiprows = 2, nrows=18,  usecols= 'A:D'\n",
    "Accrued = pd.read_excel(str(Location)+\"\\\\\"+str(File)+\".xlsx\", sheet_name='Accrued Interest '+str(File[-8:]), header=4) # skiprows = 2, nrows=18,  usecols= 'A:D'\n",
    "Others_conv = pd.read_excel(str(Location)+\"\\\\\"+str(File)+\".xlsx\", sheet_name='Other Debtors '+str(File[-8:]), header=4) # skiprows = 2, nrows=18,  usecols= 'A:D'\n",
    "Others_Isl = pd.read_excel(str(Location)+\"\\\\\"+str(File)+\".xlsx\", sheet_name='Other Debtors Islamic '+str(File[-8:]), header=4) # skiprows = 2, nrows=18,  usecols= 'A:D'\n",
    "\n",
    "IIS = pd.read_excel(str(Location)+\"\\\\\"+str(File)+\".xlsx\", sheet_name='IIS '+str(File[-8:]), header=4) # skiprows = 2, nrows=18,  usecols= 'A:D'\n",
    "PIS = pd.read_excel(str(Location)+\"\\\\\"+str(File)+\".xlsx\", sheet_name='PIS '+str(File[-8:]), header=4) # skiprows = 2, nrows=18,  usecols= 'A:D'\n",
    "\n",
    "MRate = pd.read_excel(r\"C:\\Users\\syahidhalid\\Syahid_PC\\Analytics - FAD\\00. Automation LDB\\Data Source\\\\\"+str(Year)+\"\\\\00. Month End Rate.xlsx\", header=2) # skiprows = 2, nrows=18,  usecols= 'A:D'\n",
    "\n",
    "LDB_prev = pd.read_excel(r\"C:\\Users\\syahidhalid\\Syahid_PC\\Analytics - SPD\\Loan Database\\LBD 202412 - 202401 (CSP Sector).xlsx\", sheet_name='Jun24', header=0) # skiprows = 2, nrows=18,  usecols= 'A:D'\n"
   ]
  },
  {
   "cell_type": "code",
   "execution_count": 5,
   "id": "150bc5f2-9fbe-4e1c-894d-a6e3ca18cddb",
   "metadata": {},
   "outputs": [],
   "source": [
    "#LDB_prev = pd.read_excel(r\"C:\\Users\\syahidhalid\\Syahid_PC\\Analytics - SPD\\Loan Database\\LBD 202412 - 202401 (CSP Sector).xlsx\", sheet_name=\"Apr24\", header=0) # skiprows = 2, nrows=18,  usecols= 'A:D'\n",
    "\n",
    "\n",
    "#Contigent = pd.read_excel(r\"C:\\Users\\syahidhalid\\Syahid_PC\\Analytics - FAD\\00. Automation LDB\\Data Source\\202405\\Contigent Liability MAY2024 (python).xlsx\", header=0) # skiprows = 2, nrows=18,  usecols= 'A:D'\n",
    "\n",
    "\n",
    "#Isl_Cost\n",
    "#Isl_Profit\n",
    "#Mora\n",
    "#Conv\n",
    "#Accrued\n",
    "#Others_conv\n",
    "#Others_Isl"
   ]
  },
  {
   "cell_type": "code",
   "execution_count": 6,
   "id": "fb6c9401-1b4e-4b38-8da7-5fbdf7301f5e",
   "metadata": {
    "scrolled": true
   },
   "outputs": [
    {
     "name": "stderr",
     "output_type": "stream",
     "text": [
      "C:\\Users\\syahidhalid\\AppData\\Local\\Temp\\7\\ipykernel_26952\\3890797868.py:9: SettingWithCopyWarning: \n",
      "A value is trying to be set on a copy of a slice from a DataFrame.\n",
      "Try using .loc[row_indexer,col_indexer] = value instead\n",
      "\n",
      "See the caveats in the documentation: https://pandas.pydata.org/pandas-docs/stable/user_guide/indexing.html#returning-a-view-versus-a-copy\n",
      "  Isl_Cost1.Customer_Account = Isl_Cost1.Customer_Account.astype(int)\n",
      "C:\\Users\\syahidhalid\\AppData\\Local\\Temp\\7\\ipykernel_26952\\3890797868.py:10: SettingWithCopyWarning: \n",
      "A value is trying to be set on a copy of a slice from a DataFrame.\n",
      "Try using .loc[row_indexer,col_indexer] = value instead\n",
      "\n",
      "See the caveats in the documentation: https://pandas.pydata.org/pandas-docs/stable/user_guide/indexing.html#returning-a-view-versus-a-copy\n",
      "  Isl_Cost1.Disbursement = Isl_Cost1.Disbursement.astype(float)\n",
      "C:\\Users\\syahidhalid\\AppData\\Local\\Temp\\7\\ipykernel_26952\\3890797868.py:11: SettingWithCopyWarning: \n",
      "A value is trying to be set on a copy of a slice from a DataFrame.\n",
      "Try using .loc[row_indexer,col_indexer] = value instead\n",
      "\n",
      "See the caveats in the documentation: https://pandas.pydata.org/pandas-docs/stable/user_guide/indexing.html#returning-a-view-versus-a-copy\n",
      "  Isl_Cost1.Cost_Payment = Isl_Cost1.Cost_Payment.astype(float)\n",
      "C:\\Users\\syahidhalid\\AppData\\Local\\Temp\\7\\ipykernel_26952\\3890797868.py:12: SettingWithCopyWarning: \n",
      "A value is trying to be set on a copy of a slice from a DataFrame.\n",
      "Try using .loc[row_indexer,col_indexer] = value instead\n",
      "\n",
      "See the caveats in the documentation: https://pandas.pydata.org/pandas-docs/stable/user_guide/indexing.html#returning-a-view-versus-a-copy\n",
      "  Isl_Cost1[BalanceOS] = Isl_Cost1[BalanceOS].astype(float)\n"
     ]
    }
   ],
   "source": [
    "#-------------------------------------------------------------islamic----------------------------------------------------------\n",
    "\n",
    "#Debtors Listing Islamic (Cost)\n",
    "Isl_Cost1 = Isl_Cost.iloc[np.where(~Isl_Cost['Customer\\nAccount'].isna())]\n",
    "\n",
    "Isl_Cost1.columns = Isl_Cost1.columns.str.replace(\"\\n\", \"_\")\n",
    "Isl_Cost1.columns = Isl_Cost1.columns.str.replace(\" \", \"\")\n",
    "\n",
    "Isl_Cost1.Customer_Account = Isl_Cost1.Customer_Account.astype(int)\n",
    "Isl_Cost1.Disbursement = Isl_Cost1.Disbursement.astype(float)\n",
    "Isl_Cost1.Cost_Payment = Isl_Cost1.Cost_Payment.astype(float)\n",
    "Isl_Cost1[BalanceOS] = Isl_Cost1[BalanceOS].astype(float)\n",
    "\n",
    "Isl_Cost2 = Isl_Cost1.fillna(0).groupby(['Company','Customer_Account'\\\n",
    ",'Currency'])[['Disbursement'\\\n",
    ",'Cost_Payment',BalanceOS]].sum().reset_index()\n",
    "\n",
    "Isl_Cost2 = Isl_Cost2.rename(columns={BalanceOS: 'Principal'}).fillna(0).sort_values(by=['Principal'],ascending=[True])\n",
    "#Isl_Cost2['Sheet'] = 'Debtors Listing Islamic (Cost)'\n",
    "Isl_Cost2['Financing_Type'] = 'Islamic'"
   ]
  },
  {
   "cell_type": "code",
   "execution_count": 7,
   "id": "41bb08a8-7240-4bfd-8e65-cbe6a61ca57a",
   "metadata": {
    "scrolled": true
   },
   "outputs": [
    {
     "name": "stderr",
     "output_type": "stream",
     "text": [
      "C:\\Users\\syahidhalid\\AppData\\Local\\Temp\\7\\ipykernel_26952\\962103231.py:7: SettingWithCopyWarning: \n",
      "A value is trying to be set on a copy of a slice from a DataFrame.\n",
      "Try using .loc[row_indexer,col_indexer] = value instead\n",
      "\n",
      "See the caveats in the documentation: https://pandas.pydata.org/pandas-docs/stable/user_guide/indexing.html#returning-a-view-versus-a-copy\n",
      "  Isl_Profit1.Customer_Account = Isl_Profit1.Customer_Account.astype(int)\n",
      "C:\\Users\\syahidhalid\\AppData\\Local\\Temp\\7\\ipykernel_26952\\962103231.py:8: SettingWithCopyWarning: \n",
      "A value is trying to be set on a copy of a slice from a DataFrame.\n",
      "Try using .loc[row_indexer,col_indexer] = value instead\n",
      "\n",
      "See the caveats in the documentation: https://pandas.pydata.org/pandas-docs/stable/user_guide/indexing.html#returning-a-view-versus-a-copy\n",
      "  Isl_Profit1.Unearned_Profit = Isl_Profit1.Unearned_Profit.astype(float)\n",
      "C:\\Users\\syahidhalid\\AppData\\Local\\Temp\\7\\ipykernel_26952\\962103231.py:9: SettingWithCopyWarning: \n",
      "A value is trying to be set on a copy of a slice from a DataFrame.\n",
      "Try using .loc[row_indexer,col_indexer] = value instead\n",
      "\n",
      "See the caveats in the documentation: https://pandas.pydata.org/pandas-docs/stable/user_guide/indexing.html#returning-a-view-versus-a-copy\n",
      "  Isl_Profit1.Profit_Payment = Isl_Profit1.Profit_Payment.astype(float)\n",
      "C:\\Users\\syahidhalid\\AppData\\Local\\Temp\\7\\ipykernel_26952\\962103231.py:10: SettingWithCopyWarning: \n",
      "A value is trying to be set on a copy of a slice from a DataFrame.\n",
      "Try using .loc[row_indexer,col_indexer] = value instead\n",
      "\n",
      "See the caveats in the documentation: https://pandas.pydata.org/pandas-docs/stable/user_guide/indexing.html#returning-a-view-versus-a-copy\n",
      "  Isl_Profit1[BalanceOS] = Isl_Profit1[BalanceOS].astype(float)\n"
     ]
    }
   ],
   "source": [
    "#Debtors Listing Islamic (Profit)\n",
    "Isl_Profit1 = Isl_Profit.iloc[np.where(~Isl_Profit['Customer\\nAccount'].isna())]\n",
    "\n",
    "Isl_Profit1.columns = Isl_Profit1.columns.str.replace(\"\\n\", \"_\")\n",
    "Isl_Profit1.columns = Isl_Profit1.columns.str.replace(\" \", \"\")\n",
    "\n",
    "Isl_Profit1.Customer_Account = Isl_Profit1.Customer_Account.astype(int)\n",
    "Isl_Profit1.Unearned_Profit = Isl_Profit1.Unearned_Profit.astype(float)\n",
    "Isl_Profit1.Profit_Payment = Isl_Profit1.Profit_Payment.astype(float)\n",
    "Isl_Profit1[BalanceOS] = Isl_Profit1[BalanceOS].astype(float)\n",
    "\n",
    "Isl_Profit2 = Isl_Profit1.fillna(0).groupby(['Company','Customer_Account'\\\n",
    ",'Currency'])[['Unearned_Profit','Rental(Ijarah)','Profit_Payment',BalanceOS]].sum().reset_index()\n",
    "\n",
    "Isl_Profit2 = Isl_Profit2.rename(columns={BalanceOS: 'Interest'}).fillna(0).sort_values(by=['Interest'],ascending=[True])\n",
    "#Isl_Profit2['Sheet'] = 'Debtors Listing Islamic (Profit)'\n",
    "Isl_Profit2['Financing_Type'] = 'Islamic'"
   ]
  },
  {
   "cell_type": "code",
   "execution_count": null,
   "id": "a09fae1a-d137-4066-9079-3bbfc8e9a798",
   "metadata": {},
   "outputs": [],
   "source": []
  },
  {
   "cell_type": "code",
   "execution_count": 8,
   "id": "8189b979-a583-44ee-9611-27b301022a86",
   "metadata": {},
   "outputs": [],
   "source": [
    "#Combine Islamic Cost+Profit\n",
    "A001 = Isl_Cost2.merge(Isl_Profit2,on=['Customer_Account','Company','Currency','Financing_Type'],how='outer',indicator=True)\n",
    "\n",
    "A001 = A001.drop(columns=['_merge'])\n",
    "\n",
    "A002 = A001.fillna(0).groupby(['Customer_Account'\\\n",
    ",'Currency','Financing_Type'])[['Disbursement'\\\n",
    ",'Cost_Payment','Principal','Unearned_Profit','Rental(Ijarah)','Profit_Payment','Interest']].sum().reset_index()\n",
    "\n",
    "NamaCompany = A001[['Company','Customer_Account']].drop_duplicates('Customer_Account', keep='first')\n",
    "A003 = A002.merge(NamaCompany,on='Customer_Account',how='left')"
   ]
  },
  {
   "cell_type": "code",
   "execution_count": 9,
   "id": "c6291a69-1b72-495e-8b4d-17c9b388448f",
   "metadata": {
    "scrolled": true
   },
   "outputs": [],
   "source": [
    "#Modification MORA & R&R Apr2024\n",
    "Mora1 = Mora.fillna(0).rename(columns={'Borrower code': 'Customer_Account',\n",
    "                            'Borrower':'Company',\n",
    "                            'Modification impact (RM)':'Mora',\n",
    "                            'Islamic/ conventional':'Financing_Type'}).iloc[np.where((~Mora['Borrower code'].isna())&(Mora['Borrower code']!='Borrower code'))]\n",
    "\n",
    "Mora1.columns = Mora1.columns.str.replace(\"\\n\", \"_\")\n",
    "Mora1.columns = Mora1.columns.str.replace(\" \", \"\")\n",
    "\n",
    "Mora1.Customer_Account = Mora1.Customer_Account.astype(int)\n",
    "Mora1.Mora = Mora1.Mora.astype(float)\n",
    "\n",
    "Mora1.loc[Mora1.Currency.isin(['RM']),'Currency'] = 'MYR'\n",
    "\n",
    "A004 = A003.merge(Mora1[['Customer_Account','Company','Currency','Financing_Type','SLOacceptancedate','Mora']],on=['Customer_Account','Company','Currency','Financing_Type'],how='outer',indicator=True)\n",
    "\n",
    "NamaMora = A004[['Company','Customer_Account']].drop_duplicates('Customer_Account', keep='first')\n",
    "A004 = A004.drop(['Company','_merge'],axis=1).merge(NamaMora,on='Customer_Account',how='left')\n",
    "\n",
    "A004 = A004.fillna(0).groupby(['Customer_Account'\\\n",
    ",'Currency','Financing_Type','Company'])[['Disbursement'\\\n",
    ",'Cost_Payment','Principal','Unearned_Profit','Rental(Ijarah)','Profit_Payment','Interest','Mora']].sum().reset_index()"
   ]
  },
  {
   "cell_type": "code",
   "execution_count": 10,
   "id": "5d43e68d-247c-4dad-8084-83fe7422ce05",
   "metadata": {},
   "outputs": [],
   "source": [
    "#Other Debtors Islamic Apr2024\n",
    "Others_Isl1 = Others_Isl.iloc[np.where(~Others_Isl.Customer.isna())].fillna(0)\n",
    "\n",
    "Others_Isl1.columns = Others_Isl1.columns.str.replace(\"\\n\", \"_\")\n",
    "Others_Isl1.columns = Others_Isl1.columns.str.replace(\" \", \"\")\n",
    "\n",
    "Others_Isl1.rename(columns={'Customer': 'Customer_Account',\n",
    "                            'SearchTerm':'Company',\n",
    "                            'Crcy':'Currency',\n",
    "                            'Accumulatedbalance':'Other_Charges'},inplace=True)\n",
    "\n",
    "Others_Isl1.Customer_Account = Others_Isl1.Customer_Account.astype(int)\n",
    "Others_Isl1.Other_Charges = Others_Isl1.Other_Charges.astype(float)\n",
    "\n",
    "Others_Isl1 = Others_Isl1.fillna(0).groupby(['Company','Customer_Account'])[['Other_Charges']].sum().reset_index()\n",
    "\n",
    "Others_Isl1['Financing_Type'] = 'Islamic'\n",
    "\n",
    "A005 = A004.merge(Others_Isl1,on=['Customer_Account','Company','Financing_Type'],how='outer',indicator=True)\n",
    "\n",
    "NamaOther = A005[['Company','Customer_Account','Currency']].drop_duplicates('Customer_Account', keep='first')\n",
    "A005 = A005.drop(['Company','Currency','_merge'],axis=1).merge(NamaOther,on='Customer_Account',how='left')\n",
    "\n",
    "A005 = A005.fillna(0).groupby(['Customer_Account'\\\n",
    ",'Currency','Financing_Type','Company'])[['Disbursement'\\\n",
    ",'Cost_Payment','Principal','Unearned_Profit','Rental(Ijarah)','Profit_Payment','Interest','Mora','Other_Charges']].sum().reset_index()\n"
   ]
  },
  {
   "cell_type": "code",
   "execution_count": 11,
   "id": "3b36fe8e-b616-4f5f-a39b-399443f90303",
   "metadata": {},
   "outputs": [],
   "source": [
    "#PIS\n",
    "PIS1 = PIS.iloc[np.where(~PIS.Customer.isna())].fillna(0)\n",
    "\n",
    "PIS1.columns = PIS1.columns.str.replace(\"\\n\", \"_\")\n",
    "PIS1.columns = PIS1.columns.str.replace(\" \", \"\")\n",
    "\n",
    "PIS1.rename(columns={'Customer': 'Customer_Account',\n",
    "                            'SearchTerm':'Company',\n",
    "                            'Crcy':'Currency',\n",
    "                            'Accumulatedbalance':'Interest_in_Suspense'},inplace=True)\n",
    "\n",
    "PIS1.Customer_Account = PIS1.Customer_Account.astype(int)\n",
    "PIS1.Interest_in_Suspense = PIS1.Interest_in_Suspense.astype(float)\n",
    "\n",
    "PIS1 = PIS1.fillna(0).groupby(['Company','Customer_Account'])[['Interest_in_Suspense']].sum().reset_index()\n",
    "\n",
    "PIS1['Financing_Type'] = 'Islamic'\n",
    "\n",
    "A006 = A005.merge(PIS1,on=['Customer_Account','Company','Financing_Type'],how='outer',indicator=True)\n",
    "\n",
    "NamaPIS = A006[['Company','Customer_Account','Currency']].drop_duplicates('Customer_Account', keep='first')\n",
    "A006 = A006.drop(['Company','Currency','_merge'],axis=1).merge(NamaPIS,on='Customer_Account',how='left')\n",
    "\n",
    "A006 = A006.fillna(0).groupby(['Customer_Account'\\\n",
    ",'Currency','Financing_Type','Company'])[['Disbursement'\\\n",
    ",'Cost_Payment','Principal','Unearned_Profit','Rental(Ijarah)','Profit_Payment','Interest','Mora','Other_Charges','Interest_in_Suspense']].sum().reset_index()\n"
   ]
  },
  {
   "cell_type": "code",
   "execution_count": 12,
   "id": "bef5b964-542f-4aec-a7db-604c2c5debeb",
   "metadata": {},
   "outputs": [],
   "source": [
    "#-------------------------------------------------conv--------------------------------------------------\n",
    "\n",
    "#Debtors Listing Conv Apr 2024\n",
    "Conv1 = Conv.iloc[np.where(~Conv['Customer Account Number'].isna())]\n",
    "\n",
    "Conv1.columns = Conv1.columns.str.replace(\"\\n\", \"_\")\n",
    "Conv1.columns = Conv1.columns.str.replace(\" \", \"\")\n",
    "\n",
    "Conv1 = Conv1.rename(columns={'CustomerAccountNumber': 'Customer_Account',\n",
    "                            'CustomerName':'Company',\n",
    "                            'LoanCurrency':'Currency',\n",
    "                            'ClosingPrincipal':'Principal'}).fillna(0)\n",
    "\n",
    "Conv1.Customer_Account = Conv1.Customer_Account.astype(int)\n",
    "Conv1.Principal = Conv1.Principal.astype(float)\n",
    "\n",
    "#[['Customer_Account','Company','Currency','Disbursement','Repayment','Principal']]\n",
    "\n",
    "Conv1 = Conv1.fillna(0).groupby(['Company','Customer_Account'\\\n",
    ",'Currency'])[['Disbursement'\\\n",
    ",'Repayment','Principal']].sum().reset_index()\n",
    "\n",
    "Conv1['Financing_Type'] = 'Conventional'"
   ]
  },
  {
   "cell_type": "code",
   "execution_count": null,
   "id": "3541a495-86d7-4f95-9308-70b2203e5438",
   "metadata": {},
   "outputs": [],
   "source": []
  },
  {
   "cell_type": "code",
   "execution_count": 13,
   "id": "3dffceac-8756-4c08-9a4e-0fb27ab01f7c",
   "metadata": {},
   "outputs": [],
   "source": [
    "#Accrued Interest Apr2024\n",
    "Accrued1 = Accrued.iloc[np.where(~Accrued.Customer.isna())].fillna(0)\n",
    "\n",
    "Accrued1.columns = Accrued1.columns.str.replace(\"\\n\", \"_\")\n",
    "Accrued1.columns = Accrued1.columns.str.replace(\" \", \"\")\n",
    "\n",
    "Accrued1.rename(columns={'Customer': 'Customer_Account',\n",
    "                            'SearchTerm':'Company',\n",
    "                            'Crcy':'Currency',\n",
    "                            'Accumulatedbalance':'Interest',\n",
    "                            'Debitrept.period':'Interest_For_the_Month',\n",
    "                            'Creditreportper.':'Profit_Payment'},inplace=True)\n",
    "\n",
    "Accrued1.Customer_Account = Accrued1.Customer_Account.astype(int)\n",
    "Accrued1.Interest = Accrued1.Interest.astype(float)\n",
    "Accrued1.Interest_For_the_Month = Accrued1.Interest_For_the_Month.astype(float)\n",
    "Accrued1.Profit_Payment = Accrued1.Profit_Payment.astype(float)\n",
    "\n",
    "Accrued1.loc[(Accrued1['SGLInd.'].isin(['X'])),'Interest_For_the_Month'] = Accrued1.Interest_For_the_Month\n",
    "Accrued1.loc[(~Accrued1['SGLInd.'].isin(['X'])),'Interest_For_the_Month'] = 0\n",
    "\n",
    "Accrued1.loc[(Accrued1['SGLInd.'].isin(['X'])),'Profit_Payment'] = Accrued1.Profit_Payment\n",
    "Accrued1.loc[(~Accrued1['SGLInd.'].isin(['X'])),'Profit_Payment'] = 0\n",
    "\n",
    "Accrued1 = Accrued1.fillna(0).groupby(['Company','Customer_Account'])[['Interest_For_the_Month','Interest','Profit_Payment']].sum().reset_index()\n",
    "\n",
    "Accrued1['Financing_Type'] = 'Conventional'"
   ]
  },
  {
   "cell_type": "code",
   "execution_count": 14,
   "id": "1e800f94-a731-4c7e-9e5d-480a9bfd0ed1",
   "metadata": {},
   "outputs": [],
   "source": [
    "#Combine Conv Principal+Accrued\n",
    "C001 = Conv1.merge(Accrued1,on=['Customer_Account','Company','Financing_Type'],how='outer',indicator=True)\n",
    "\n",
    "NamaConv = C001[['Company','Customer_Account','Currency']].drop_duplicates('Customer_Account', keep='first')\n",
    "C002 = C001.drop(['Company','Currency','_merge'],axis=1).merge(NamaConv,on='Customer_Account',how='left')\n",
    "\n",
    "C002 = C002.fillna(0).groupby(['Customer_Account'\\\n",
    ",'Currency','Financing_Type','Company'])[['Disbursement'\\\n",
    ",'Repayment','Principal','Interest_For_the_Month','Interest','Profit_Payment']].sum().reset_index()"
   ]
  },
  {
   "cell_type": "code",
   "execution_count": 15,
   "id": "24899d72-8d6f-497b-a629-6ea9c17f6d42",
   "metadata": {},
   "outputs": [],
   "source": [
    "#Other Debtors Apr2024\n",
    "Others_conv1 = Others_conv.iloc[np.where(~Others_conv.Customer.isna())].fillna(0)\n",
    "\n",
    "Others_conv1.columns = Others_conv1.columns.str.replace(\"\\n\", \"_\")\n",
    "Others_conv1.columns = Others_conv1.columns.str.replace(\" \", \"\")\n",
    "\n",
    "Others_conv1.rename(columns={'Customer': 'Customer_Account',\n",
    "                            'SearchTerm':'Company',\n",
    "                            'Crcy':'Currency',\n",
    "                            'Accumulatedbalance':'Other_Charges'},inplace=True)\n",
    "\n",
    "Others_conv1.Customer_Account = Others_conv1.Customer_Account.astype(int)\n",
    "Others_conv1.Other_Charges = Others_conv1.Other_Charges.astype(float)\n",
    "\n",
    "Others_conv1 = Others_conv1.fillna(0).groupby(['Company','Customer_Account'])[['Other_Charges']].sum().reset_index()\n",
    "\n",
    "Others_conv1['Financing_Type'] = 'Conventional'\n",
    "\n",
    "C003 = C002.merge(Others_conv1,on=['Customer_Account','Company','Financing_Type'],how='outer',indicator=True)\n",
    "\n",
    "NamaOtherConv = C003[['Company','Customer_Account','Currency']].drop_duplicates('Customer_Account', keep='first')\n",
    "C004 = C003.drop(['Company','Currency','_merge'],axis=1).merge(NamaOtherConv,on='Customer_Account',how='left')\n",
    "\n",
    "C004 = C004.fillna(0).groupby(['Customer_Account'\\\n",
    ",'Currency','Financing_Type','Company'])[['Disbursement'\\\n",
    ",'Repayment','Principal','Interest_For_the_Month','Interest','Profit_Payment','Other_Charges']].sum().reset_index()\n"
   ]
  },
  {
   "cell_type": "code",
   "execution_count": 16,
   "id": "e6713523-982e-4d9a-83cf-5a78dbd6b487",
   "metadata": {},
   "outputs": [],
   "source": [
    "#IIS\n",
    "IIS1 = IIS.iloc[np.where(~IIS.Customer.isna())].fillna(0)\n",
    "\n",
    "IIS1.columns = IIS1.columns.str.replace(\"\\n\", \"_\")\n",
    "IIS1.columns = IIS1.columns.str.replace(\" \", \"\")\n",
    "\n",
    "IIS1.rename(columns={'Customer': 'Customer_Account',\n",
    "                            'SearchTerm':'Company',\n",
    "                            'Crcy':'Currency',\n",
    "                            'Accumulatedbalance':'Interest_in_Suspense'},inplace=True)\n",
    "\n",
    "IIS1.Customer_Account = IIS1.Customer_Account.astype(int)\n",
    "IIS1.Interest_in_Suspense = IIS1.Interest_in_Suspense.astype(float)\n",
    "\n",
    "IIS1 = IIS1.fillna(0).groupby(['Company','Customer_Account'])[['Interest_in_Suspense']].sum().reset_index()\n",
    "\n",
    "IIS1['Financing_Type'] = 'Conventional'\n",
    "\n",
    "C005 = C004.merge(IIS1,on=['Customer_Account','Company','Financing_Type'],how='outer', indicator=True)\n",
    "\n",
    "NamaIIS = C005[['Company','Customer_Account','Currency']].drop_duplicates('Customer_Account', keep='first')\n",
    "C005 = C005.drop(['Company','Currency','_merge'],axis=1).merge(NamaIIS,on='Customer_Account',how='left')\n",
    "\n",
    "C005 = C005.fillna(0).groupby(['Customer_Account'\\\n",
    ",'Currency','Financing_Type','Company'])[['Disbursement'\\\n",
    ",'Repayment','Principal','Interest_For_the_Month','Interest','Profit_Payment','Other_Charges','Interest_in_Suspense']].sum().reset_index()"
   ]
  },
  {
   "cell_type": "code",
   "execution_count": null,
   "id": "39a22678-b30d-46b6-a423-ed14c7724ad0",
   "metadata": {},
   "outputs": [],
   "source": []
  },
  {
   "cell_type": "code",
   "execution_count": 17,
   "id": "e9d2477e-31f8-4b0f-a82f-009f7536e900",
   "metadata": {
    "scrolled": true
   },
   "outputs": [],
   "source": [
    "#-------------------------------------------------combine-------------------------------------------------\n",
    "\n",
    "C005['Cost_Payment'] = 0\n",
    "C005['Unearned_Profit'] = C005['Interest_For_the_Month']\n",
    "#C005['Profit_Payment'] = 0\n",
    "C005['Mora'] = 0\n",
    "C005['Rental(Ijarah)'] = 0\n",
    "\n",
    "C006 = C005[['Customer_Account','Currency','Financing_Type','Company','Disbursement','Repayment','Cost_Payment',\n",
    "             'Principal','Unearned_Profit','Rental(Ijarah)','Profit_Payment','Interest','Mora','Other_Charges',\n",
    "             'Interest_in_Suspense']]\n",
    "\n",
    "A006['Repayment'] = 0\n",
    "\n",
    "A007 = A006[['Customer_Account','Currency','Financing_Type','Company','Disbursement','Repayment','Cost_Payment',\n",
    "             'Principal','Unearned_Profit','Rental(Ijarah)','Profit_Payment','Interest','Mora','Other_Charges',\n",
    "             'Interest_in_Suspense']]\n",
    "\n",
    "#Isl_Cost1.columns = Isl_Profit1.columns = Mora1.columns = Conv1.columns\n",
    "#appendR = pd.concat([Isl_Cost1,Isl_Profit1,Mora1,Conv1] )\n",
    "\n",
    "C006.columns = A007.columns\n",
    "appendR = pd.concat([C006,A007])\n",
    "\n",
    "NamaappendR = appendR[['Company','Customer_Account']].drop_duplicates('Customer_Account', keep='first')\n",
    "appendR = appendR.drop(['Company'],axis=1).merge(NamaappendR,on='Customer_Account',how='left')\n",
    "\n",
    "appendfinal = appendR.fillna(0).groupby(['Customer_Account'\\\n",
    ",'Currency','Financing_Type','Company'])[['Disbursement'\\\n",
    ",'Repayment','Cost_Payment','Principal','Unearned_Profit','Rental(Ijarah)','Profit_Payment','Interest','Mora','Other_Charges','Interest_in_Suspense']].sum().reset_index()\n",
    "\n",
    "appendfinal['Total Loans Outstanding (MYR)'] = appendfinal['Principal'] + appendfinal['Interest'] + appendfinal['Mora'] + appendfinal['Other_Charges']\n"
   ]
  },
  {
   "cell_type": "code",
   "execution_count": 18,
   "id": "94d5168d-3482-44e7-b600-6fe9bf770337",
   "metadata": {},
   "outputs": [],
   "source": [
    "appendfinal['Cost Payment/Principal Repayment (MYR)'] = (-1*appendfinal['Repayment']) + appendfinal['Cost_Payment']\n",
    "appendfinal['Accrued Profit/Interest of the month (MYR)'] = appendfinal['Unearned_Profit'] + appendfinal['Rental(Ijarah)'] #+ profit for the month\n",
    "\n",
    "appendfinal.rename(columns={'Customer_Account':'Finance(SAP) Number',\n",
    "                           'Currency':'Facility Currency',\n",
    "                           'Financing_Type':'Type of Financing',\n",
    "                            \"Company\":\"Customer Name\",\n",
    "                            \"Disbursement\":\"Disbursement/Drawdown (MYR)\",\n",
    "                           'Principal':'Cost/Principal Outstanding (MYR)',\n",
    "                           'Profit_Payment':\"Profit Payment/Interest Repayment (MYR)\",\n",
    "                           'Interest':'Cumulative Accrued Profit/Interest (MYR)',\n",
    "                           'Mora':'Modification of Loss (MYR)',\n",
    "                           'Other_Charges':'Other Charges (MYR)',\n",
    "                           'Interest_in_Suspense':'Income/Interest in Suspense (MYR)'}, inplace=True)\n",
    "\n",
    "appendfinal.drop(columns=['Repayment','Cost_Payment','Unearned_Profit','Rental(Ijarah)'], axis=1, inplace=True)\n",
    "\n",
    "                           #\"Repayment\":\"1. Cost Payment/Principal Repayment (MYR)\",\n",
    "                           #\"Cost_Payment\":'2. Cost Payment/Principal Repayment (MYR)',\n",
    "\n",
    "\n",
    "                           #'Unearned_Profit':'Accrued Profit/Interest of the month (MYR)',\n",
    "                           #'Rental(Ijarah)':'Ijarah',"
   ]
  },
  {
   "cell_type": "code",
   "execution_count": 19,
   "id": "198af7b7-b6a8-4b25-bab7-52d25aed32cf",
   "metadata": {},
   "outputs": [],
   "source": [
    "appendfinal['Finance(SAP) Number'] = appendfinal['Finance(SAP) Number'].astype(str)\n",
    "\n",
    "LDB_prev['Finance(SAP) Number'] = LDB_prev['Finance(SAP) Number'].astype(str)\n",
    "\n",
    "LDB_prev.columns = LDB_prev.columns.str.replace(\"\\n\", \"\")"
   ]
  },
  {
   "cell_type": "code",
   "execution_count": 21,
   "id": "2151620c-a85e-4260-96bc-73c20930f581",
   "metadata": {},
   "outputs": [],
   "source": [
    "#LDB_prev.head(1)"
   ]
  },
  {
   "cell_type": "code",
   "execution_count": 20,
   "id": "41c40241-cc35-42c8-9da3-aa4e0bf1305e",
   "metadata": {
    "scrolled": true
   },
   "outputs": [],
   "source": [
    "#LDB_prev[''].value_counts()\n",
    "\n",
    "#Cumulative Disbursement/Drawdown (Facility Currency)\n",
    "#Cumulative Disbursement/Drawdown (MYR)\n",
    "#Cumulative Cost Payment/Principal Repayment (Facility Currency)\n",
    "#Cumulative Cost Payment/Principal Repayment (MYR)\n",
    "#Cumulative Profit Payment/Interest Repayment (Facility Currency)\n",
    "#Cumulative Profit Payment/Interest Repayment (MYR)"
   ]
  },
  {
   "cell_type": "code",
   "execution_count": 22,
   "id": "2550ccef-7c47-46c2-91af-eb0a3c9a3a12",
   "metadata": {},
   "outputs": [],
   "source": [
    "\n",
    "\n",
    "appendfinal_ldb = appendfinal.merge(LDB_prev[['EXIM Account No.','Finance(SAP) Number',\n",
    "                                              'Facility Currency',\n",
    "                                              'Cumulative Disbursement/Drawdown (Facility Currency)',\n",
    "                                              'Cumulative Disbursement/Drawdown (MYR)',\n",
    "                                              'Cumulative Cost Payment/Principal Repayment (Facility Currency)',\n",
    "                                              'Cumulative Cost Payment/Principal Repayment (MYR)',\n",
    "                                              'Cumulative Profit Payment/Interest Repayment (Facility Currency)',\n",
    "                                              'Cumulative Profit Payment/Interest Repayment (MYR)']].drop_duplicates('Finance(SAP) Number',keep='first'),on=['Finance(SAP) Number'],how='left', suffixes=('_x', ''),indicator=True)\n",
    "\n",
    "appendfinal2 = appendfinal_ldb.merge(MRate[['Month','Curr']].rename(columns={'Month':'Facility Currency'}), on='Facility Currency', how='left')\n",
    "\n",
    "appendfinal2['Cost/Principal Outstanding (Facility Currency)'] = appendfinal2['Cost/Principal Outstanding (MYR)']/appendfinal2['Curr']\n",
    "appendfinal2['Accrued Profit/Interest of the month (Facility Currency)'] = appendfinal2['Accrued Profit/Interest of the month (MYR)']/appendfinal2['Curr']\n",
    "appendfinal2['Modification of Loss (Facility Currency)'] = appendfinal2['Modification of Loss (MYR)']/appendfinal2['Curr']\n",
    "appendfinal2['Cumulative Accrued Profit/Interest (Facility Currency)'] = appendfinal2['Cumulative Accrued Profit/Interest (MYR)']/appendfinal2['Curr']\n",
    "appendfinal2['Income/Interest in Suspense (Facility Currency)'] = appendfinal2['Income/Interest in Suspense (MYR)']/appendfinal2['Curr']\n",
    "appendfinal2['Other Charges (Facility Currency)'] = appendfinal2['Other Charges (MYR)']/appendfinal2['Curr']\n",
    "appendfinal2['Total Loans Outstanding (Facility Currency)'] = appendfinal2['Total Loans Outstanding (MYR)']/appendfinal2['Curr']\n",
    "appendfinal2['Disbursement/Drawdown (Facility Currency)'] = appendfinal2['Disbursement/Drawdown (MYR)']/appendfinal2['Curr']\n",
    "appendfinal2['Cost Payment/Principal Repayment (Facility Currency)'] = appendfinal2['Cost Payment/Principal Repayment (MYR)']/appendfinal2['Curr']\n",
    "appendfinal2['Profit Payment/Interest Repayment (Facility Currency)'] = appendfinal2['Profit Payment/Interest Repayment (MYR)']/appendfinal2['Curr']\n",
    "\n",
    "\n",
    "appendfinal2['Cumulative Disbursement/Drawdown (Facility Currency) New'] = appendfinal2['Disbursement/Drawdown (Facility Currency)'] +  appendfinal2['Cumulative Disbursement/Drawdown (Facility Currency)'] \n",
    "appendfinal2['Cumulative Disbursement/Drawdown (MYR) New'] = appendfinal2['Disbursement/Drawdown (MYR)'] +  appendfinal2['Cumulative Disbursement/Drawdown (MYR)'] \n",
    "appendfinal2['Cumulative Cost Payment/Principal Repayment (Facility Currency) New'] = appendfinal2['Cost Payment/Principal Repayment (Facility Currency)'] +  appendfinal2['Cumulative Cost Payment/Principal Repayment (Facility Currency)'] \n",
    "appendfinal2['Cumulative Cost Payment/Principal Repayment (MYR) New'] = appendfinal2['Cost Payment/Principal Repayment (MYR)'] +  appendfinal2['Cumulative Cost Payment/Principal Repayment (MYR)'] \n",
    "appendfinal2['Cumulative Profit Payment/Interest Repayment (Facility Currency) New'] = appendfinal2['Profit Payment/Interest Repayment (Facility Currency)'] +  appendfinal2['Cumulative Profit Payment/Interest Repayment (Facility Currency)'] \n",
    "appendfinal2['Cumulative Profit Payment/Interest Repayment (MYR) New'] = appendfinal2['Profit Payment/Interest Repayment (MYR)'] +  appendfinal2['Cumulative Profit Payment/Interest Repayment (MYR)'] \n",
    "\n",
    "appendfinal2.sort_values('Total Loans Outstanding (MYR)', ascending=False, inplace=True)"
   ]
  },
  {
   "cell_type": "code",
   "execution_count": 22,
   "id": "1c181f8c-6c91-4858-a3e4-7cbca18305f1",
   "metadata": {},
   "outputs": [],
   "source": [
    "#appendfinal2['Facility Currency'].value_counts()"
   ]
  },
  {
   "cell_type": "code",
   "execution_count": 23,
   "id": "e49067fa-59e0-4ae4-bc8b-faf637068f59",
   "metadata": {},
   "outputs": [],
   "source": [
    "#appendfinal2.shape"
   ]
  },
  {
   "cell_type": "code",
   "execution_count": 23,
   "id": "e37c130e-95d5-4876-afa9-26a31ad2ac00",
   "metadata": {},
   "outputs": [],
   "source": [
    "appendfinal3 = appendfinal2[['EXIM Account No.','Finance(SAP) Number',\n",
    "                             'Customer Name',\n",
    "                             'Facility Currency',\n",
    "                             'Type of Financing',\n",
    "                             'Cost/Principal Outstanding (Facility Currency)',\n",
    "                             'Cost/Principal Outstanding (MYR)',\n",
    "                             'Accrued Profit/Interest of the month (Facility Currency)',\n",
    "                             'Accrued Profit/Interest of the month (MYR)',\n",
    "                             'Modification of Loss (Facility Currency)',\n",
    "                             'Modification of Loss (MYR)',\n",
    "                            'Cumulative Accrued Profit/Interest (Facility Currency)',\n",
    "                            'Cumulative Accrued Profit/Interest (MYR)', \n",
    "                             'Income/Interest in Suspense (Facility Currency)',\n",
    "                             'Income/Interest in Suspense (MYR)',\n",
    "                             'Other Charges (Facility Currency)',\n",
    "                             'Other Charges (MYR)',\n",
    "                             'Total Loans Outstanding (Facility Currency)',\n",
    "                             'Total Loans Outstanding (MYR)',\n",
    "                            #'Disbursement/Drawdown (Facility Currency)',\n",
    "                            #'Disbursement/Drawdown (MYR)',\n",
    "                             #'Cumulative Disbursement/Drawdown (Facility Currency) New',\n",
    "                             #'Cumulative Disbursement/Drawdown (Facility Currency)',\n",
    "                             #'Cumulative Disbursement/Drawdown (MYR) New',\n",
    "                             #'Cumulative Disbursement/Drawdown (MYR)',\n",
    "                            #'Cost Payment/Principal Repayment (Facility Currency)',\n",
    "                            #'Cost Payment/Principal Repayment (MYR)',\n",
    "                             #'Cumulative Cost Payment/Principal Repayment (Facility Currency) New',\n",
    "                             #'Cumulative Cost Payment/Principal Repayment (Facility Currency)',\n",
    "                             #'Cumulative Cost Payment/Principal Repayment (MYR) New',\n",
    "                             #'Cumulative Cost Payment/Principal Repayment (MYR)',\n",
    "                            #'Profit Payment/Interest Repayment (Facility Currency)',\n",
    "                            #'Profit Payment/Interest Repayment (MYR)',\n",
    "                             #'Cumulative Profit Payment/Interest Repayment (Facility Currency) New',\n",
    "                             #'Cumulative Profit Payment/Interest Repayment (Facility Currency)',\n",
    "                             #'Cumulative Profit Payment/Interest Repayment (MYR) New',\n",
    "                             #'Cumulative Profit Payment/Interest Repayment (MYR)',\n",
    "                             'Curr']]"
   ]
  },
  {
   "cell_type": "code",
   "execution_count": 24,
   "id": "87b7f743-621a-42d0-b753-32c4678808a3",
   "metadata": {},
   "outputs": [
    {
     "data": {
      "text/plain": [
       "(268, 20)"
      ]
     },
     "execution_count": 24,
     "metadata": {},
     "output_type": "execute_result"
    }
   ],
   "source": [
    "appendfinal3.shape"
   ]
  },
  {
   "cell_type": "code",
   "execution_count": 25,
   "id": "4661b85f-dc28-45ab-b70e-93e13132b3d1",
   "metadata": {},
   "outputs": [
    {
     "data": {
      "text/plain": [
       "4554690480.51823"
      ]
     },
     "execution_count": 25,
     "metadata": {},
     "output_type": "execute_result"
    }
   ],
   "source": [
    "sum(appendfinal3['Total Loans Outstanding (MYR)'])"
   ]
  },
  {
   "cell_type": "code",
   "execution_count": 26,
   "id": "cc114c2d-ea55-453c-af3c-75782741858f",
   "metadata": {},
   "outputs": [
    {
     "data": {
      "text/plain": [
       "Finance(SAP) Number\n",
       "500913    1\n",
       "500859    1\n",
       "501095    1\n",
       "500773    1\n",
       "500940    1\n",
       "         ..\n",
       "501141    1\n",
       "501114    1\n",
       "500948    1\n",
       "501109    1\n",
       "500731    1\n",
       "Name: count, Length: 268, dtype: int64"
      ]
     },
     "execution_count": 26,
     "metadata": {},
     "output_type": "execute_result"
    }
   ],
   "source": [
    "appendfinal3['Finance(SAP) Number'].value_counts()"
   ]
  },
  {
   "cell_type": "markdown",
   "id": "eb3ed3e1-27c1-4e33-ab12-01ddd1ddcc9f",
   "metadata": {},
   "source": [
    "# ---------------------------   _Extract_ ---------------------------"
   ]
  },
  {
   "cell_type": "code",
   "execution_count": 27,
   "id": "df4da835-516f-4bee-aad0-72247fc315e8",
   "metadata": {},
   "outputs": [],
   "source": [
    "#appendfinal3.to_excel(str(Location[:-7])+'\\\\01. Debtor Listing '+str(File[-8:])+' (python).xlsx', sheet_name='Export Worksheet', index = False)\n",
    "appendfinal3.to_excel(r\"C:\\Users\\syahidhalid\\Syahid_PC\\Analytics - FAD\\00. Automation LDB\\Data Source\\\\\"+str(Year)+\"\\\\01. Debtor Listing \"+str(File[-8:])+\" (python).xlsx\", sheet_name='Export Worksheet', index = False)"
   ]
  },
  {
   "cell_type": "code",
   "execution_count": null,
   "id": "3c165c47-f12d-4255-aaee-d0247574966e",
   "metadata": {},
   "outputs": [],
   "source": []
  },
  {
   "cell_type": "code",
   "execution_count": null,
   "id": "e43b672c-45d4-4a1c-b645-77df570b973d",
   "metadata": {},
   "outputs": [],
   "source": [
    "sum(appendfinal3.iloc[np.where(appendfinal3['Finance(SAP) Number']==\"501051\")]['Profit Payment/Interest Repayment (Facility Currency)'])"
   ]
  },
  {
   "cell_type": "code",
   "execution_count": null,
   "id": "b7783dc5-a74a-48fb-a441-5a8dba2a5241",
   "metadata": {},
   "outputs": [],
   "source": []
  },
  {
   "cell_type": "code",
   "execution_count": null,
   "id": "6415c47e-4dd3-46a3-81a6-ba7af15c052d",
   "metadata": {},
   "outputs": [],
   "source": [
    "sum(appendfinal3.iloc[np.where(appendfinal3['Finance(SAP) Number']==\"501051\")]['Profit Payment/Interest Repayment (MYR)'])"
   ]
  },
  {
   "cell_type": "code",
   "execution_count": null,
   "id": "5ae12a22-c3f6-4422-ba97-d5655434ce0e",
   "metadata": {},
   "outputs": [],
   "source": []
  },
  {
   "cell_type": "code",
   "execution_count": null,
   "id": "9b0bc8c1-9c78-4197-b838-461f639dfd58",
   "metadata": {},
   "outputs": [],
   "source": []
  },
  {
   "cell_type": "code",
   "execution_count": null,
   "id": "1440557f-4026-4725-b0b3-4ade6843cab8",
   "metadata": {},
   "outputs": [],
   "source": []
  },
  {
   "cell_type": "code",
   "execution_count": null,
   "id": "65376674-d9af-423d-9f64-f888d310d417",
   "metadata": {},
   "outputs": [],
   "source": []
  },
  {
   "cell_type": "code",
   "execution_count": null,
   "id": "c59c726f-87de-4ae2-afec-1bccfc55fd4b",
   "metadata": {},
   "outputs": [],
   "source": []
  },
  {
   "cell_type": "code",
   "execution_count": null,
   "id": "75268d94-ddc9-4b1e-972f-9faf3bd915ff",
   "metadata": {},
   "outputs": [],
   "source": []
  },
  {
   "cell_type": "code",
   "execution_count": null,
   "id": "9314ca9e-865f-451b-89da-f96d1084e2a5",
   "metadata": {},
   "outputs": [],
   "source": []
  },
  {
   "cell_type": "code",
   "execution_count": null,
   "id": "75456bfe-58f1-40f7-a545-9d6d4b513e7e",
   "metadata": {},
   "outputs": [],
   "source": []
  },
  {
   "cell_type": "code",
   "execution_count": null,
   "id": "3bbac0f4-5bfc-476b-9b81-385ba7110d2c",
   "metadata": {},
   "outputs": [],
   "source": []
  },
  {
   "cell_type": "code",
   "execution_count": null,
   "id": "d9aef5c8-2526-44c0-9180-4920802b61de",
   "metadata": {},
   "outputs": [],
   "source": [
    "#-------------------------------------------------Contigent-------------------------------------------------\n",
    "\n",
    "#Contigent1 = Contigent.fillna(0).groupby(['CIF Number','EXIM Account No.','Finance(SAP) Number',\\\n",
    "#                                          'Customer Name','Type of Financing'])[['Contingent Liability (MYR)','Contingent Liability Letter of Credit (MYR)']].sum().reset_index()\n",
    "\n",
    "#appendfinal_conti = appendfinal.merge(LDB_prev1[['CIF Number','Finance(SAP) Number']].drop_duplicates(),on=['Finance(SAP) Number'],how='left',suffixes=('', '_LDB'),indicator=True)\n",
    "\n"
   ]
  },
  {
   "cell_type": "code",
   "execution_count": null,
   "id": "29f18567-3471-4904-a925-f21b71cd49ee",
   "metadata": {},
   "outputs": [],
   "source": [
    "appendfinal_conti.shape"
   ]
  },
  {
   "cell_type": "code",
   "execution_count": null,
   "id": "97ce52c6-01a4-4f3a-a76d-8094b68fba05",
   "metadata": {
    "scrolled": true
   },
   "outputs": [],
   "source": [
    "appendfinal.shape"
   ]
  },
  {
   "cell_type": "code",
   "execution_count": null,
   "id": "4f498549-088a-470d-b17b-a9d277ad1743",
   "metadata": {},
   "outputs": [],
   "source": [
    "appendfinal_conti.iloc[np.where(appendfinal_conti._merge!=\"both\")].head(3)"
   ]
  },
  {
   "cell_type": "code",
   "execution_count": null,
   "id": "17b0e4bc-95f6-436f-b872-055502fa948e",
   "metadata": {},
   "outputs": [],
   "source": [
    "conti_det['CIF Number'].value_counts()"
   ]
  },
  {
   "cell_type": "code",
   "execution_count": null,
   "id": "47830b2d-c81f-4df0-b656-f48cf5bc9b7e",
   "metadata": {},
   "outputs": [],
   "source": [
    "conti_det.iloc[np.where(conti_det['CIF Number']==\"EXIM000210\")]"
   ]
  },
  {
   "cell_type": "code",
   "execution_count": null,
   "id": "be02b9e1-fd52-4e6a-aa66-f3028be559d1",
   "metadata": {},
   "outputs": [],
   "source": []
  },
  {
   "cell_type": "code",
   "execution_count": null,
   "id": "1f1ef7ee-b161-435c-a103-339f18eb1632",
   "metadata": {},
   "outputs": [],
   "source": [
    "\t\n",
    "\n"
   ]
  },
  {
   "cell_type": "code",
   "execution_count": null,
   "id": "d49c3981-ac9b-4b5a-b60a-5c873973d695",
   "metadata": {},
   "outputs": [],
   "source": [
    "append_conti = appendfinal.merge(Contigent1,on=['Customer_Account','Company','Financing_Type'],how='outer',indicator=True)\n"
   ]
  },
  {
   "cell_type": "code",
   "execution_count": null,
   "id": "cc77c76b-085e-4be2-9d79-740fd7589d90",
   "metadata": {},
   "outputs": [],
   "source": [
    "#-------------------------------------------------LDB-------------------------------------------------\n",
    "\n",
    "#LDB_prev1 = LDB_prev.iloc[np.where(~LDB_prev['No.'].isna())]\n",
    "\n",
    "#LDB_prev1.columns = LDB_prev1.columns.str.replace(\"\\n\", \"_\")\n",
    "#LDB_prev1.columns = LDB_prev1.columns.str.replace(\" \", \"\")\n",
    "#LDB_prev1['Finance(SAP) Number'] = LDB_prev1['Finance(SAP) Number'].astype(str)\n",
    "#appendfinal['Finance(SAP) Number'] = appendfinal['Finance(SAP) Number'].astype(str)\n",
    "\n",
    "#append_ldb = appendfinal.merge(LDB_prev1[['CIF Number','EXIM Account No.','Finance(SAP) Number','Customer Name','Type of Financing','Facility Currency']],on=['Finance(SAP) Number'],how='left',suffixes=('', '_LDB'),indicator=True)\n"
   ]
  },
  {
   "cell_type": "code",
   "execution_count": null,
   "id": "b9c61656-4e87-4bd3-9ec6-4faf2a2ce3b4",
   "metadata": {},
   "outputs": [],
   "source": [
    "#append_ldb['Finance(SAP) Number'].value_counts()"
   ]
  },
  {
   "cell_type": "code",
   "execution_count": null,
   "id": "1488a1ea-5bab-4047-af29-d4947fd1e516",
   "metadata": {},
   "outputs": [],
   "source": [
    "#append_ldb.iloc[np.where(append_ldb['Finance(SAP) Number']==\"500776\")]"
   ]
  },
  {
   "cell_type": "code",
   "execution_count": null,
   "id": "4a9c909f-b3f8-434f-a904-6a334a85b404",
   "metadata": {},
   "outputs": [],
   "source": []
  },
  {
   "cell_type": "code",
   "execution_count": null,
   "id": "02c89f7f-e331-485c-ba87-0294fce336fa",
   "metadata": {},
   "outputs": [],
   "source": []
  },
  {
   "cell_type": "code",
   "execution_count": null,
   "id": "66ac8c25-7ca7-4833-bc6a-689601c448fd",
   "metadata": {},
   "outputs": [],
   "source": [
    "#-------------------------------------------------Month Rate-------------------------------------------------\n",
    "\n",
    "MRate"
   ]
  },
  {
   "cell_type": "code",
   "execution_count": null,
   "id": "9845488f-6aa7-4f27-8466-3c69e7a12ca2",
   "metadata": {},
   "outputs": [],
   "source": []
  },
  {
   "cell_type": "code",
   "execution_count": null,
   "id": "82e8c34d-4adf-4605-a875-4a81cbbab68c",
   "metadata": {},
   "outputs": [],
   "source": []
  },
  {
   "cell_type": "code",
   "execution_count": null,
   "id": "9316b326-2670-4105-aab2-a1686e82c39e",
   "metadata": {},
   "outputs": [],
   "source": []
  },
  {
   "cell_type": "code",
   "execution_count": null,
   "id": "5d42a545-627a-4fe7-9ae2-7fcf87a55f0b",
   "metadata": {},
   "outputs": [],
   "source": [
    "#smpi currency lain & insert contigent\n"
   ]
  },
  {
   "cell_type": "code",
   "execution_count": null,
   "id": "e13be3ae-77eb-48c5-823d-9485e2a2be91",
   "metadata": {
    "scrolled": true
   },
   "outputs": [],
   "source": []
  },
  {
   "cell_type": "code",
   "execution_count": null,
   "id": "b956bb2e-33c9-4a0a-b589-5ba6c618a885",
   "metadata": {},
   "outputs": [],
   "source": []
  },
  {
   "cell_type": "code",
   "execution_count": null,
   "id": "682ab191-3c84-4ac7-9c55-c1e09373b641",
   "metadata": {
    "scrolled": true
   },
   "outputs": [],
   "source": [
    "#appendfinal.to_excel(str(Location)+'\\\\Debtor Listing '+str(File[-12:-4])+' (python).xlsx', sheet_name='Export Worksheet', index = False)\n"
   ]
  },
  {
   "cell_type": "code",
   "execution_count": null,
   "id": "d95d1a4b-c6a1-4f88-8d88-76f18c723c9a",
   "metadata": {},
   "outputs": [],
   "source": []
  },
  {
   "cell_type": "code",
   "execution_count": null,
   "id": "1560c0f3-8ddf-4db7-94a8-b849a6dd25cf",
   "metadata": {},
   "outputs": [],
   "source": []
  },
  {
   "cell_type": "code",
   "execution_count": null,
   "id": "6d154cb9-d53c-47b8-8e29-e5261ed74118",
   "metadata": {},
   "outputs": [],
   "source": [
    "#writer2 = pd.ExcelWriter(r'C:\\Users\\syahidhalid\\Syahid_PC\\Analytics - FAD\\Automation LDB\\Data Source\\202404\\1. ECL\\Finance\\working\\\\Debtor Listing (python).xlsx',engine='xlsxwriter')\n",
    "\n",
    "#appendfinal.to_excel(writer2, sheet_name='Export Worksheet', index = False)\n",
    "\n",
    "#writer2._save()"
   ]
  },
  {
   "cell_type": "code",
   "execution_count": null,
   "id": "0a964d16-1d4e-442c-8466-020b6ab4a721",
   "metadata": {},
   "outputs": [],
   "source": [
    "print(C005.shape)\n",
    "print(A006.shape)"
   ]
  },
  {
   "cell_type": "code",
   "execution_count": null,
   "id": "d9e99817-7dbb-4d4a-92b8-7e12a219e88d",
   "metadata": {
    "scrolled": true
   },
   "outputs": [],
   "source": [
    "C005.head(1)"
   ]
  },
  {
   "cell_type": "code",
   "execution_count": null,
   "id": "53cbad21-3d51-4875-99fb-89972db95c2e",
   "metadata": {},
   "outputs": [],
   "source": [
    "A006.head(1)"
   ]
  },
  {
   "cell_type": "code",
   "execution_count": null,
   "id": "39df857a-8a11-4d88-b93d-bcfcbb361b01",
   "metadata": {
    "scrolled": true
   },
   "outputs": [],
   "source": [
    "A006.Customer_Account.value_counts()"
   ]
  },
  {
   "cell_type": "code",
   "execution_count": null,
   "id": "2694e914-0a22-4094-8b05-2dc75ab8afb0",
   "metadata": {},
   "outputs": [],
   "source": [
    "appendfinal.shape"
   ]
  },
  {
   "cell_type": "code",
   "execution_count": null,
   "id": "5db6c807-ab33-49fc-95b3-d78b0a909f1e",
   "metadata": {},
   "outputs": [],
   "source": [
    "appendfinal.iloc[np.where(appendfinal.Customer_Account==500640)]"
   ]
  },
  {
   "cell_type": "code",
   "execution_count": null,
   "id": "f612ccc9-f7f0-43de-b7b3-cedfcac26346",
   "metadata": {},
   "outputs": [],
   "source": [
    "appendfinal.Customer_Account.value_counts()"
   ]
  },
  {
   "cell_type": "code",
   "execution_count": null,
   "id": "5ba5bbde-1c08-4604-a8f6-8786bb04259f",
   "metadata": {},
   "outputs": [],
   "source": [
    "#checking v1\n",
    "sum(appendfinal['Total Loans Outstanding (MYR)'])"
   ]
  },
  {
   "cell_type": "code",
   "execution_count": null,
   "id": "ebef030e-6e2a-41a8-a2ec-265c0fa8aefb",
   "metadata": {},
   "outputs": [],
   "source": [
    "#checking v2\n",
    "sum(appendfinal['Total Loans Outstanding (MYR)'])"
   ]
  },
  {
   "cell_type": "code",
   "execution_count": null,
   "id": "e1c3ce63-0b83-460e-80d9-5b9be2c43b8f",
   "metadata": {},
   "outputs": [],
   "source": []
  }
 ],
 "metadata": {
  "kernelspec": {
   "display_name": "Python 3 (ipykernel)",
   "language": "python",
   "name": "python3"
  },
  "language_info": {
   "codemirror_mode": {
    "name": "ipython",
    "version": 3
   },
   "file_extension": ".py",
   "mimetype": "text/x-python",
   "name": "python",
   "nbconvert_exporter": "python",
   "pygments_lexer": "ipython3",
   "version": "3.11.7"
  }
 },
 "nbformat": 4,
 "nbformat_minor": 5
}
