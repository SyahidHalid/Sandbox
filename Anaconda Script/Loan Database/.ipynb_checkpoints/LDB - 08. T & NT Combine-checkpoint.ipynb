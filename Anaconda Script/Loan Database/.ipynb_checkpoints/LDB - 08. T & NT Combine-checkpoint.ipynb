{
 "cells": [
  {
   "cell_type": "code",
   "execution_count": 1,
   "id": "0ff2290c-77ca-4423-8587-02719965f1e1",
   "metadata": {
    "scrolled": true
   },
   "outputs": [],
   "source": [
    "\n",
    "File3 = \"07. Undrawn Non Trade July-24\"\n",
    "File4 = \"07. Undrawn Trade July 2024\"\n",
    "\n",
    "#control + F + dropdown new to search bar to find and replace \n",
    "import pandas as pd\n",
    "import numpy as np\n",
    "import xlsxwriter\n",
    "\n",
    "#warnings.filterwarnings('ignore')\n",
    "pd.set_option(\"display.max_columns\", None) \n",
    "pd.set_option(\"display.max_colwidth\", 1000) #huruf dlm column\n",
    "pd.set_option(\"display.max_rows\", 100)\n",
    "pd.set_option(\"display.precision\", 2) #2 titik perpuluhan\n",
    "\n",
    "FILE3 = pd.read_excel(r\"C:\\Users\\syahidhalid\\Syahid_PC\\Analytics - FAD\\00. Automation LDB\\Data Source\\202407\\\\\"+str(File3)+\".xlsx\", sheet_name='Export Worksheet', header=0) # skiprows = 2, nrows=18,  usecols= 'A:D'\n",
    "FILE4 = pd.read_excel(r\"C:\\Users\\syahidhalid\\Syahid_PC\\Analytics - FAD\\00. Automation LDB\\Data Source\\202407\\\\\"+str(File4)+\".xlsx\", sheet_name='Export Worksheet', header=0) # skiprows = 2, nrows=18,  usecols= 'A:D'\n"
   ]
  },
  {
   "cell_type": "code",
   "execution_count": 2,
   "id": "aa5a6254-82b0-4d79-8f94-150347e4028a",
   "metadata": {},
   "outputs": [],
   "source": [
    "#FILE3.head(1)"
   ]
  },
  {
   "cell_type": "code",
   "execution_count": 3,
   "id": "711955f8-1ff1-4164-a335-5781008bf46b",
   "metadata": {},
   "outputs": [],
   "source": [
    "#FILE4.head(1)"
   ]
  },
  {
   "cell_type": "code",
   "execution_count": 4,
   "id": "9ce1582b-c750-45fd-b7d3-93935ba2ae5f",
   "metadata": {},
   "outputs": [],
   "source": [
    "#FILE3_1 = FILE3[['Loan_Acc_','LAF_ECL_FC','LAF_ECL_MYR','CnC_ECL_FC','CnC_ECL_MYR']]\n",
    "#FILE4_1 = FILE4[['Account_No','LAF_ECL_FC','LAF_ECL_MYR','CnC_ECL_FC','CnC_ECL_MYR']]"
   ]
  },
  {
   "cell_type": "code",
   "execution_count": 4,
   "id": "3b495b4a-6826-4e07-8959-f422c3186481",
   "metadata": {},
   "outputs": [],
   "source": [
    "FILE3.columns = FILE4.columns\n",
    "\n",
    "ecl1 = pd.concat([FILE3,FILE4])\n",
    "\n",
    "#ecl2 = ecl1.fillna(0).groupby(['Account_No'])[['LAF_ECL_FC','LAF_ECL_MYR','CnC_ECL_FC','CnC_ECL_MYR']].sum().reset_index()\n"
   ]
  },
  {
   "cell_type": "code",
   "execution_count": 5,
   "id": "e6a78d56-6fbe-4fb2-849d-f18463447463",
   "metadata": {},
   "outputs": [
    {
     "data": {
      "text/plain": [
       "CIF Number                                                object\n",
       "EXIM Account No.                                          object\n",
       "Finance(SAP) Number                                        int64\n",
       "Borrower name                                             object\n",
       "Currency                                                  object\n",
       "Curr                                                     float64\n",
       "Unutilised/ Undrawn Amount (Facility Currency)           float64\n",
       "Unutilised/ Undrawn Amount (MYR)                         float64\n",
       "Average Profit/Interest Rate                             float64\n",
       "First Released Date                               datetime64[ns]\n",
       "Maturity date                                     datetime64[ns]\n",
       "Availability period                               datetime64[ns]\n",
       "DPD                                                        int64\n",
       "Principal payment frequency                               object\n",
       "Interest payment frequency                                object\n",
       "dtype: object"
      ]
     },
     "execution_count": 5,
     "metadata": {},
     "output_type": "execute_result"
    }
   ],
   "source": [
    "ecl1.dtypes"
   ]
  },
  {
   "cell_type": "code",
   "execution_count": 6,
   "id": "e839eb8f-8a87-4c87-87ec-f4c2a77696bd",
   "metadata": {
    "scrolled": true
   },
   "outputs": [
    {
     "data": {
      "text/plain": [
       "EXIM Account No.\n",
       "3308-01137-107-0314-00     1\n",
       "3308-01137-132-0310-00     1\n",
       "3308-01137-110-0113-00     1\n",
       "3308-01137-113-0319-00     1\n",
       "3308-01137-110-0345-00     1\n",
       "3308-02137-121-0294-00     1\n",
       "3308-01137-110-0262-00     1\n",
       "3308-01137-110-0328-00     1\n",
       "3308-01137-110-0341-00     1\n",
       "3308-01137-121-0315-00     1\n",
       "3308-01137-110-0331-00     1\n",
       "3308-01137-110-0329-00     1\n",
       "3308-02137-120-0334-00     1\n",
       "3308-02203-200-0020-00     1\n",
       "3308-02107-200-0008-00     1\n",
       "3308-02137-107-0239-00     1\n",
       "3308-02137-104-0289-00     1\n",
       "3308-01137-107-0281-00     1\n",
       "3308-02137-107-0320-00     1\n",
       "3308-01137-107-0209-03     1\n",
       "3308-01137-107-0209-01     1\n",
       "3308-02137-107-0052-00     1\n",
       "3308-01137-110-0344-00     1\n",
       "3308-01137-110-0339-00     1\n",
       "3308-01137-107-0316-00     1\n",
       "3308-01137-110-0340-00     1\n",
       "3308-02137-122-0291-00     1\n",
       "3308-02137-120-0290-00     1\n",
       "3308-02137-112-0248-00     1\n",
       "3308-02137-112-0237-00     1\n",
       "3308-02137-110-0023-00     1\n",
       "3308-01137-110-0343-00     1\n",
       "3308-01137-110-0342-00     1\n",
       "3308-02137-112-0153-00     1\n",
       "3308-01137-110-0292-00     1\n",
       "3308-01137-110-0311-00     1\n",
       "3308-02137-110-0332-00     1\n",
       "3308-01137-113-0076-00     1\n",
       "3308-01137-212-0075-00     1\n",
       "3308-02137-211-0142-00     1\n",
       "3308-02137-211-0088-00     1\n",
       "3308-01137-110-0322-00     1\n",
       "3308-01137-110-0111-00     1\n",
       "3308-01137-110-0117-00     1\n",
       "3308-02137-110-0304-00     1\n",
       "3308-01137-110-0346-00     1\n",
       "3308-02123-205-0204-00     1\n",
       "3308-01137-107-0160-00     1\n",
       "3308-01137-107-0278-00     1\n",
       "3308-01137-107-0335-00     1\n",
       "3308-02205-201-0287-00     1\n",
       "3308-02205-201-0285-00     1\n",
       "3308-02137-200-0301-00     1\n",
       "3308-03137-107-0279-00     1\n",
       "3308-01137-107-0312-00     1\n",
       "3308-02105-201-0302-00     1\n",
       "3308-02218-104-0254-00     1\n",
       "3308-02137-201-0056-02     1\n",
       "3308-02137-201-0056-01     1\n",
       "3308-05013-107-0299-01     1\n",
       "3308-01137-107-0277-00     1\n",
       "3308-04230-202-0098-00     1\n",
       "3308-01137-107-0273-00     1\n",
       "3308-01137-107-0327-00     1\n",
       "3308-01137-107-0337-00     1\n",
       "3308-02138-200-0300-00     1\n",
       "3308-01137-107-0309-00     1\n",
       "3308-01137-107-0307-00     1\n",
       "3308-01137-107-0306-00     1\n",
       "3308-01137-107-0305-00     1\n",
       "3308-02205-201-0286-00     1\n",
       "3308-02205-201-0288-00     1\n",
       "3308-02205-201-0283-00     1\n",
       "3308-02205-201-0282-00     1\n",
       "3308-01137-107-0255-00     1\n",
       "3308-02137-101-0246-00     1\n",
       "3308-02205-101-0250-00     1\n",
       "3308-02137-101-0270-00     1\n",
       "3308-01137-107-0296-02     1\n",
       "3308-01137-107-0324-00     1\n",
       "3308-01137-107-0318-00     1\n",
       "3308-01137-107-0317-00     1\n",
       "3308-01137-107-0321-00     1\n",
       "3308-01137-107-0303-01     1\n",
       "3308-01137-107-0336-00     1\n",
       "3308-01137-107-0275-04     1\n",
       "3308-01137-107-0275-03     1\n",
       "3308-01137-107-0275-02     1\n",
       "3308-01137-107-0275-01     1\n",
       "3308-01137-107-0260-00     1\n",
       "3308-01137-107-0293-00     1\n",
       "3308-05013-101-0249-01     1\n",
       "3308-01137-107-0326-00     1\n",
       "3308-01137-121-0284-00     1\n",
       "Name: count, dtype: int64"
      ]
     },
     "execution_count": 6,
     "metadata": {},
     "output_type": "execute_result"
    }
   ],
   "source": [
    "ecl1['EXIM Account No.'].value_counts()"
   ]
  },
  {
   "cell_type": "code",
   "execution_count": 7,
   "id": "4dcaac1a-173a-4b42-aad3-875afbf45925",
   "metadata": {},
   "outputs": [],
   "source": [
    "ecl1.to_excel(r\"C:\\Users\\syahidhalid\\Syahid_PC\\Analytics - FAD\\00. Automation LDB\\Data Source\\202407\\08. Trade & Non Trade Combine.xlsx\", sheet_name=\"Export Worksheet\",index=False)"
   ]
  },
  {
   "cell_type": "code",
   "execution_count": null,
   "id": "4ba6c518-9e1c-4034-861c-434d53081e6a",
   "metadata": {
    "scrolled": true
   },
   "outputs": [],
   "source": []
  },
  {
   "cell_type": "code",
   "execution_count": null,
   "id": "5ae80b8f-e5d0-48e0-816f-03d4ab258abb",
   "metadata": {},
   "outputs": [],
   "source": []
  }
 ],
 "metadata": {
  "kernelspec": {
   "display_name": "Python 3 (ipykernel)",
   "language": "python",
   "name": "python3"
  },
  "language_info": {
   "codemirror_mode": {
    "name": "ipython",
    "version": 3
   },
   "file_extension": ".py",
   "mimetype": "text/x-python",
   "name": "python",
   "nbconvert_exporter": "python",
   "pygments_lexer": "ipython3",
   "version": "3.11.7"
  }
 },
 "nbformat": 4,
 "nbformat_minor": 5
}
