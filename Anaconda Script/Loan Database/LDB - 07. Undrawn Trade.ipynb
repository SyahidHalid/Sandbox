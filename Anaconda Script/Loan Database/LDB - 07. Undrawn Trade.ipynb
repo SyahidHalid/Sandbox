{
 "cells": [
  {
   "cell_type": "markdown",
   "id": "8ff01f47-60e6-4fff-bc68-b0c56c98b6bb",
   "metadata": {},
   "source": [
    "# load\n",
    "FIle: ECL Computation received by Trade Finance with as of Aug 2024 send by Fariza Syafiqah Binti Edison (fsyafiqahedison@exim.com.my)"
   ]
  },
  {
   "cell_type": "code",
   "execution_count": 1,
   "id": "e78e80c1-5cfd-460c-b3c3-2236dfce9f37",
   "metadata": {},
   "outputs": [],
   "source": [
    "date_file = 202408\n",
    "\n",
    "T = \"ECL computation Aug 2024 (Trade)\"\n",
    "\n",
    "prev_file = \"Jul\"\n",
    "\n",
    "#control + F + dropdown new to search bar to find and replace \n",
    "import pandas as pd\n",
    "import numpy as np\n",
    "import xlsxwriter\n",
    "\n",
    "#warnings.filterwarnings('ignore')\n",
    "pd.set_option(\"display.max_columns\", None) \n",
    "pd.set_option(\"display.max_colwidth\", 1000) #huruf dlm column\n",
    "pd.set_option(\"display.max_rows\", 100)\n",
    "pd.set_option(\"display.precision\", 2) #2 titik perpuluhan\n",
    "\n",
    "Location = r\"C:\\Users\\syahidhalid\\Syahid_PC\\Analytics - FAD\\00. Automation LDB\\Data Source\\\\\"+str(date_file)+\"\\\\Trade\"\n",
    "\n",
    "T1 = pd.read_excel(str(Location)+\"\\\\\"+str(T)+\".xlsm\", sheet_name='Summary', header=6)\n",
    "\n",
    "LDB_prev = pd.read_excel(r\"C:\\Users\\syahidhalid\\Syahid_PC\\Analytics - FAD\\00. Automation LDB\\Data Source\\\\\"+str(date_file-1)+\"\\\\Loan Database as \"+str(prev_file)+\" \"+str(date_file)[:4]+\" (python) - Final.xlsx\", sheet_name='Export Worksheet', header=1) # skiprows = 2, nrows=18,  usecols= 'A:D'\n",
    "\n",
    "MRate = pd.read_excel(r\"C:\\Users\\syahidhalid\\Syahid_PC\\Analytics - FAD\\00. Automation LDB\\Data Source\\\\\"+str(date_file)+\"\\\\Working\\\\00. Month End Rate.xlsx\",sheet_name=\"Sheet1\", header=2) # skiprows = 2, nrows=18,  usecols= 'A:D'\n"
   ]
  },
  {
   "cell_type": "markdown",
   "id": "f27bba37-ec72-4d88-82df-727e014701ec",
   "metadata": {},
   "source": [
    "# Process"
   ]
  },
  {
   "cell_type": "code",
   "execution_count": 2,
   "id": "2550ded1-7a09-4960-86a2-1c9dc59f91fc",
   "metadata": {},
   "outputs": [],
   "source": [
    "T1.columns = T1.columns.str.strip()\n",
    "T1['Account No'] = T1['Account No'].astype(str)\n",
    "\n",
    "LDB_prev.columns = LDB_prev.columns.str.strip()\n",
    "LDB_prev.iloc[np.where(LDB_prev['EXIM Account No.']!=\"Total\")]\n",
    "LDB_prev['Finance(SAP) Number'] = LDB_prev['Finance(SAP) Number'].astype(str)\n",
    "\n",
    "T2 = T1.iloc[np.where(~T1.Currency.isna())][['Account No','Borrower name','Undrawn amount (base currency)','Profit Rate/ EIR','Currency',\n",
    "          'First Released Date','Maturity date','Availability period','DPD','Principal payment frequency','Interest payment frequency']].rename(columns={'Account No':'Finance(SAP) Number'})\n",
    "\n",
    "merge = T2.merge(LDB_prev[['CIF Number','EXIM Account No.','Finance(SAP) Number']], on='Finance(SAP) Number', how='left')\n",
    "\n",
    "merge1 = merge.merge(MRate[['Month','Curr']].rename(columns={'Month':'Currency'}), on='Currency', how='left')\n",
    "\n",
    "merge1['Unutilised/ Undrawn Amount (MYR)'] = merge1['Undrawn amount (base currency)']*merge1['Curr']\n",
    "merge1['Profit Rate/ EIR'] = merge1['Profit Rate/ EIR']*100\n",
    "\n",
    "merge1 = merge1.rename(columns={'Undrawn amount (base currency)':'Unutilised/ Undrawn Amount (Facility Currency)',\n",
    "                               'Profit Rate/ EIR':'Average Profit/Interest Rate'})\n",
    "\n",
    "merge1 = merge1[[ 'CIF Number','EXIM Account No.','Finance(SAP) Number', 'Borrower name', 'Currency', 'Curr',\n",
    "       'Unutilised/ Undrawn Amount (Facility Currency)', 'Unutilised/ Undrawn Amount (MYR)',\n",
    "       'Average Profit/Interest Rate',\n",
    "          'First Released Date','Maturity date','Availability period','DPD','Principal payment frequency','Interest payment frequency']]"
   ]
  },
  {
   "cell_type": "code",
   "execution_count": 3,
   "id": "52298f6d-b321-4c10-ac88-5439ce74a0b0",
   "metadata": {
    "scrolled": true
   },
   "outputs": [
    {
     "data": {
      "text/plain": [
       "CIF Number                                                object\n",
       "EXIM Account No.                                          object\n",
       "Finance(SAP) Number                                       object\n",
       "Borrower name                                             object\n",
       "Currency                                                  object\n",
       "Curr                                                     float64\n",
       "Unutilised/ Undrawn Amount (Facility Currency)           float64\n",
       "Unutilised/ Undrawn Amount (MYR)                         float64\n",
       "Average Profit/Interest Rate                             float64\n",
       "First Released Date                               datetime64[ns]\n",
       "Maturity date                                             object\n",
       "Availability period                               datetime64[ns]\n",
       "DPD                                                      float64\n",
       "Principal payment frequency                               object\n",
       "Interest payment frequency                                object\n",
       "dtype: object"
      ]
     },
     "execution_count": 3,
     "metadata": {},
     "output_type": "execute_result"
    }
   ],
   "source": [
    "merge1.dtypes"
   ]
  },
  {
   "cell_type": "code",
   "execution_count": 4,
   "id": "aaa6b55f-bba0-41f0-9d44-22e65557defa",
   "metadata": {},
   "outputs": [],
   "source": [
    "import datetime\n",
    "merge1['Maturity date'] = pd.to_datetime(merge1['Maturity date'], format='%Y%m%d')"
   ]
  },
  {
   "cell_type": "markdown",
   "id": "3638c224",
   "metadata": {},
   "source": [
    "# Export"
   ]
  },
  {
   "cell_type": "code",
   "execution_count": 5,
   "id": "10b90a8a-4702-47c4-9d1c-626bfc125c3b",
   "metadata": {},
   "outputs": [
    {
     "data": {
      "text/plain": [
       "'Aug 2024'"
      ]
     },
     "execution_count": 5,
     "metadata": {},
     "output_type": "execute_result"
    }
   ],
   "source": [
    "T[-16:-8] #= \"05. ECL Computation Client Template June-24 (Regular)\""
   ]
  },
  {
   "cell_type": "code",
   "execution_count": 6,
   "id": "e393d121-d6cc-4f07-8f92-92c4c5a8188e",
   "metadata": {},
   "outputs": [],
   "source": [
    "merge1.to_excel(r\"C:\\\\Users\\\\syahidhalid\\\\Syahid_PC\\\\Analytics - FAD\\\\00. Automation LDB\\\\Data Source\\\\\"+str(date_file)+\"\\\\Working\\\\07. Undrawn Trade \"+str(T[-16:-8])+\".xlsx\", sheet_name='Export Worksheet', index=False)"
   ]
  },
  {
   "cell_type": "code",
   "execution_count": 47,
   "id": "a0454172",
   "metadata": {},
   "outputs": [
    {
     "data": {
      "text/plain": [
       "(40, 11)"
      ]
     },
     "execution_count": 47,
     "metadata": {},
     "output_type": "execute_result"
    }
   ],
   "source": [
    "T2.shape"
   ]
  },
  {
   "cell_type": "code",
   "execution_count": 46,
   "id": "e5a0ba6b",
   "metadata": {},
   "outputs": [
    {
     "data": {
      "text/plain": [
       "(40, 13)"
      ]
     },
     "execution_count": 46,
     "metadata": {},
     "output_type": "execute_result"
    }
   ],
   "source": [
    "merge.shape"
   ]
  }
 ],
 "metadata": {
  "kernelspec": {
   "display_name": "Python 3 (ipykernel)",
   "language": "python",
   "name": "python3"
  },
  "language_info": {
   "codemirror_mode": {
    "name": "ipython",
    "version": 3
   },
   "file_extension": ".py",
   "mimetype": "text/x-python",
   "name": "python",
   "nbconvert_exporter": "python",
   "pygments_lexer": "ipython3",
   "version": "3.11.7"
  }
 },
 "nbformat": 4,
 "nbformat_minor": 5
}
