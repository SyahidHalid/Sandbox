{
 "cells": [
  {
   "cell_type": "markdown",
   "id": "349f8d12-ca6a-4555-9c6d-0ba65f846056",
   "metadata": {},
   "source": [
    "# Load"
   ]
  },
  {
   "cell_type": "code",
   "execution_count": 29,
   "id": "ed8fb78d-0ad2-47af-96b9-ed41ea3cfb32",
   "metadata": {},
   "outputs": [
    {
     "name": "stderr",
     "output_type": "stream",
     "text": [
      "d:\\Git Repository\\.venv\\Lib\\site-packages\\openpyxl\\worksheet\\header_footer.py:48: UserWarning: Cannot parse header or footer so it will be ignored\n",
      "  warn(\"\"\"Cannot parse header or footer so it will be ignored\"\"\")\n"
     ]
    }
   ],
   "source": [
    "#control + F + dropdown new to search bar to find and replace \n",
    "import pandas as pd\n",
    "import numpy as np\n",
    "import xlsxwriter\n",
    "\n",
    "#warnings.filterwarnings('ignore')\n",
    "pd.set_option(\"display.max_columns\", None) \n",
    "pd.set_option(\"display.max_colwidth\", 1000) #huruf dlm column\n",
    "pd.set_option(\"display.max_rows\", 100)\n",
    "pd.set_option(\"display.precision\", 2) #2 titik perpuluhan\n",
    "\n",
    "Location = r\"C:\\Users\\syahidhalid\\Syahid_PC\\Analytics - FAD\\00. Automation LDB\\Data Source\\202408\\Trade\"\n",
    "\n",
    "BG = \"BG and LC Cont. Liab. AUG2024\"\n",
    "#LC = \"LC Cont  Liab JUL2024\"\n",
    "\n",
    "BG1 = pd.read_excel(str(Location)+\"\\\\\"+str(BG)+\".xlsx\", sheet_name='BG - AUGUST active2024', header=2)\n",
    "\n",
    "LC1 = pd.read_excel(str(Location)+\"\\\\\"+str(BG)+\".xlsx\", sheet_name='LC - AUGUST 2024', header=1) # skiprows = 2, nrows=18,  usecols= 'A:D'\n",
    "\n",
    "date_file = 202408\n",
    "prev_file = \"Jul\"\n",
    "\n",
    "LDB_prev = pd.read_excel(r\"C:\\Users\\syahidhalid\\Syahid_PC\\Analytics - FAD\\00. Automation LDB\\Data Source\\\\\"+str(date_file-1)+\"\\\\Loan Database as \"+str(prev_file)+\" \"+str(date_file)[:4]+\" (python) - Final.xlsx\", sheet_name='Export Worksheet', header=1) # skiprows = 2, nrows=18,  usecols= 'A:D'\n",
    "\n",
    "MRate = pd.read_excel(r\"C:\\Users\\syahidhalid\\Syahid_PC\\Analytics - FAD\\00. Automation LDB\\Data Source\\\\\"+str(date_file)+\"\\\\Working\\\\00. Month End Rate.xlsx\",sheet_name=\"Sheet1\", header=2) # skiprows = 2, nrows=18,  usecols= 'A:D'\n"
   ]
  },
  {
   "cell_type": "markdown",
   "id": "dccd245f-51e9-4b75-9a92-45f10b1c7884",
   "metadata": {},
   "source": [
    "# Process"
   ]
  },
  {
   "cell_type": "code",
   "execution_count": 30,
   "id": "c599ebf9-2900-437f-9898-4f6289f73fc0",
   "metadata": {
    "scrolled": true
   },
   "outputs": [
    {
     "name": "stderr",
     "output_type": "stream",
     "text": [
      "C:\\Users\\syahidhalid\\AppData\\Local\\Temp\\4\\ipykernel_21944\\4146452566.py:8: SettingWithCopyWarning: \n",
      "A value is trying to be set on a copy of a slice from a DataFrame.\n",
      "Try using .loc[row_indexer,col_indexer] = value instead\n",
      "\n",
      "See the caveats in the documentation: https://pandas.pydata.org/pandas-docs/stable/user_guide/indexing.html#returning-a-view-versus-a-copy\n",
      "  BG2['Exposure (RM)'] = BG2['Exposure (RM)'].astype(float)\n",
      "C:\\Users\\syahidhalid\\AppData\\Local\\Temp\\4\\ipykernel_21944\\4146452566.py:13: SettingWithCopyWarning: \n",
      "A value is trying to be set on a copy of a slice from a DataFrame.\n",
      "Try using .loc[row_indexer,col_indexer] = value instead\n",
      "\n",
      "See the caveats in the documentation: https://pandas.pydata.org/pandas-docs/stable/user_guide/indexing.html#returning-a-view-versus-a-copy\n",
      "  BG2['Facility Limit Undrawn (FC)'] = BG2['Facility Limit Undrawn (FC)'].astype(float)\n",
      "C:\\Users\\syahidhalid\\AppData\\Local\\Temp\\4\\ipykernel_21944\\4146452566.py:18: SettingWithCopyWarning: \n",
      "A value is trying to be set on a copy of a slice from a DataFrame.\n",
      "Try using .loc[row_indexer,col_indexer] = value instead\n",
      "\n",
      "See the caveats in the documentation: https://pandas.pydata.org/pandas-docs/stable/user_guide/indexing.html#returning-a-view-versus-a-copy\n",
      "  BG2['Facility Limit Undrawn (MYR)'] = BG2['Facility Limit Undrawn (MYR)'].astype(float)\n"
     ]
    }
   ],
   "source": [
    "#=========================================BG==============================================\n",
    "\n",
    "BG1['C/I'] = BG1['C/I'].str.strip()\n",
    "BG2 = BG1.iloc[np.where(BG1['C/I'].isin(['C','I']))]\n",
    "\n",
    "#BG2['Exposure (RM)'] = BG2['Exposure (RM)'].str.strip()\n",
    "#BG2.loc[BG2['Exposure (RM)']=='-', 'Exposure (RM)'] == 0\n",
    "BG2['Exposure (RM)'] = BG2['Exposure (RM)'].astype(float)\n",
    "\n",
    "#BG2['Facility Limit Undrawn (FC)'] = BG2['Facility Limit Undrawn (FC)'].str.strip()\n",
    "#BG2.loc[(BG2['Facility Limit Undrawn (FC)']=='-'),'Facility Limit Undrawn (FC)'] = 0\n",
    "#BG2.loc[BG2['Facility Limit Undrawn (FC)']=='REFER TO ABOVE', 'Facility Limit Undrawn (FC)'] = 0\n",
    "BG2['Facility Limit Undrawn (FC)'] = BG2['Facility Limit Undrawn (FC)'].astype(float)\n",
    "\n",
    "#BG2['Facility Limit Undrawn (FC)'] = BG2['Facility Limit Undrawn (FC)'].str.strip()\n",
    "#BG2.loc[BG2['Facility Limit Undrawn (MYR)']=='-', 'Facility Limit Undrawn (MYR)'] = 0\n",
    "#BG2.loc[BG2['Facility Limit Undrawn (MYR)']=='REFER TO ABOVE', 'Facility Limit Undrawn (MYR)'] = 0\n",
    "BG2['Facility Limit Undrawn (MYR)'] = BG2['Facility Limit Undrawn (MYR)'].astype(float)"
   ]
  },
  {
   "cell_type": "code",
   "execution_count": null,
   "id": "c7fd45aa-2211-40f8-be9d-3d87865e5598",
   "metadata": {},
   "outputs": [],
   "source": []
  },
  {
   "cell_type": "code",
   "execution_count": null,
   "id": "54a86cb3-cf9a-41e5-9433-63f1db98d32c",
   "metadata": {},
   "outputs": [],
   "source": []
  },
  {
   "cell_type": "code",
   "execution_count": 43,
   "id": "f5c75cf8-4603-4db4-bfc8-8f9d55286ae5",
   "metadata": {
    "scrolled": true
   },
   "outputs": [
    {
     "name": "stderr",
     "output_type": "stream",
     "text": [
      "C:\\Users\\syahidhalid\\AppData\\Local\\Temp\\4\\ipykernel_21944\\831868097.py:1: SettingWithCopyWarning: \n",
      "A value is trying to be set on a copy of a slice from a DataFrame.\n",
      "Try using .loc[row_indexer,col_indexer] = value instead\n",
      "\n",
      "See the caveats in the documentation: https://pandas.pydata.org/pandas-docs/stable/user_guide/indexing.html#returning-a-view-versus-a-copy\n",
      "  BG2.Borrower = BG2.Borrower.str.upper()\n",
      "C:\\Users\\syahidhalid\\AppData\\Local\\Temp\\4\\ipykernel_21944\\831868097.py:30: FutureWarning: Downcasting object dtype arrays on .fillna, .ffill, .bfill is deprecated and will change in a future version. Call result.infer_objects(copy=False) instead. To opt-in to the future behavior, set `pd.set_option('future.no_silent_downcasting', True)`\n",
      "  BG3 = BG2.fillna(0).groupby(['CIF Number','EXIM Account No.','Finance(SAP) Number','Borrower','C/I'])[['Exposure (RM)','Facility Limit Undrawn (FC)','Facility Limit Undrawn (MYR)']].sum().reset_index()\n"
     ]
    }
   ],
   "source": [
    "BG2.Borrower = BG2.Borrower.str.upper()\n",
    "\n",
    "BG2.loc[(BG2.Borrower.str.contains('BOUSTEAD')),'CIF Number'] = 'EXIM000491'\n",
    "BG2.loc[(BG2.Borrower.str.contains('PERTAMA')),'CIF Number'] = 'EXIM000140'\n",
    "BG2.loc[(BG2.Borrower.str.contains('OM MATERIAL')),'CIF Number'] = 'EXIM000145'\n",
    "BG2.loc[(BG2.Borrower.str.contains('SMH RAIL')),'CIF Number'] = 'EXIM000210'\n",
    "BG2.loc[(BG2.Borrower.str.contains('DESTINI')),'CIF Number'] = 'EXIM000169'\n",
    "BG2.loc[(BG2.Borrower.str.contains('ASIA CARGO')),'CIF Number'] = 'EXIM000277'\n",
    "BG2.loc[(BG2.Borrower.str.contains('PRINSIPTEK')),'CIF Number'] = 'EXIM000110'\n",
    "BG2.loc[(BG2.Borrower.str.contains('URBAN PINNACLE')),'CIF Number'] = 'EXIM000563'\n",
    "BG2.loc[(BG2.Borrower.str.contains('PETROLIAM NASIONAL')),'CIF Number'] = 'EXIM000432'\n",
    "BG2.loc[(BG2.Borrower.str.contains('HELMS GEOMARINE')),'CIF Number'] = 'EXIM000282'\n",
    "\n",
    "BG2.loc[(BG2.Borrower.str.contains('BOUSTEAD')),'EXIM Account No.'] = '3308-02137-119-0330-00'\n",
    "BG2.loc[(BG2.Borrower.str.contains('PERTAMA')),'EXIM Account No.'] = '3308-01137-216-0133-00'\n",
    "BG2.loc[(BG2.Borrower.str.contains('OM MATERIAL'))&(BG2.Currency==\"MYR\"),'EXIM Account No.'] = '3308-01137-216-0058-00'\n",
    "BG2.loc[(BG2.Borrower.str.contains('OM MATERIAL'))&(BG2.Currency==\"USD\"),'EXIM Account No.'] = '3308-02137-211-0088-00'\n",
    "BG2.loc[(BG2.Borrower.str.contains('SMH RAIL')),'EXIM Account No.'] = '3308-02137-216-0046-00' #&(BG2.Currency==\"USD\")\n",
    "BG2.loc[(BG2.Borrower.str.contains('DESTINI')),'EXIM Account No.'] = '3308-02137-117-0071-00'\n",
    "BG2.loc[(BG2.Borrower.str.contains('ASIA CARGO')),'EXIM Account No.'] = '3308-01137-117-0313-00'\n",
    "BG2.loc[(BG2.Borrower.str.contains('PRINSIPTEK')),'EXIM Account No.'] = '3308-02224-216-0032-00'\n",
    "BG2.loc[(BG2.Borrower.str.contains('URBAN PINNACLE')),'EXIM Account No.'] = '3308-01137-117-0325-00'\n",
    "BG2.loc[(BG2.Borrower.str.contains('PETROLIAM NASIONAL')),'EXIM Account No.'] = '212137862'\n",
    "BG2.loc[(BG2.Borrower.str.contains('HELMS GEOMARINE')),'EXIM Account No.'] = '3308-02137-117-0353-00'\n",
    "\n",
    "BG2.loc[(BG2['C/I'].isin(['I'])),'Finance(SAP) Number'] = 'BG-I'\n",
    "BG2.loc[(BG2['C/I'].isin(['C'])),'Finance(SAP) Number'] = 'BG'\n",
    "BG2.loc[(BG2.Borrower.str.contains('OM MATERIAL'))&(BG2.Currency==\"USD\"),'Finance(SAP) Number'] = '500724'\n",
    "\n",
    "BG3 = BG2.fillna(0).groupby(['CIF Number','EXIM Account No.','Finance(SAP) Number','Borrower','C/I'])[['Exposure (RM)','Facility Limit Undrawn (FC)','Facility Limit Undrawn (MYR)']].sum().reset_index()\n",
    "#\n",
    "BG3.rename(columns={'Borrower':'Customer Name',\n",
    "                    'Country':'Country Exposure',\n",
    "                    'C/I':'Type of Financing',\n",
    "                    'Currency':'Facility Currency','Exposure (RM)':'Contingent Liability (MYR)',\n",
    "                   'Facility Limit Undrawn (FC)':'Unutilised/Undrawn Amount (FC)','Facility Limit Undrawn (MYR)':'Unutilised/Undrawn Amount (MYR)'},inplace=True)\n"
   ]
  },
  {
   "cell_type": "code",
   "execution_count": 44,
   "id": "df6fd225-25dc-496e-8376-c64700214d78",
   "metadata": {
    "scrolled": true
   },
   "outputs": [
    {
     "data": {
      "text/plain": [
       "EXIM Account No.\n",
       "3308-02224-216-0032-00    1\n",
       "3308-01137-216-0133-00    1\n",
       "3308-01137-216-0058-00    1\n",
       "3308-02137-211-0088-00    1\n",
       "3308-02137-117-0071-00    1\n",
       "3308-02137-216-0046-00    1\n",
       "3308-01137-117-0313-00    1\n",
       "3308-02137-117-0353-00    1\n",
       "3308-02137-119-0330-00    1\n",
       "3308-01137-117-0325-00    1\n",
       "Name: count, dtype: int64"
      ]
     },
     "execution_count": 44,
     "metadata": {},
     "output_type": "execute_result"
    }
   ],
   "source": [
    "BG3['EXIM Account No.'].value_counts()"
   ]
  },
  {
   "cell_type": "code",
   "execution_count": 45,
   "id": "500f4499-45ff-4da8-9d0d-97278d848a90",
   "metadata": {
    "scrolled": true
   },
   "outputs": [
    {
     "name": "stderr",
     "output_type": "stream",
     "text": [
      "C:\\Users\\syahidhalid\\AppData\\Local\\Temp\\4\\ipykernel_21944\\3169578383.py:5: SettingWithCopyWarning: \n",
      "A value is trying to be set on a copy of a slice from a DataFrame.\n",
      "Try using .loc[row_indexer,col_indexer] = value instead\n",
      "\n",
      "See the caveats in the documentation: https://pandas.pydata.org/pandas-docs/stable/user_guide/indexing.html#returning-a-view-versus-a-copy\n",
      "  LC2.loc[LC2.APPLICANT.str.contains('WSA VENTURE AUSTRALIA'),'EXIM Account No.'] = '3308-02137-122-0291-00'\n",
      "C:\\Users\\syahidhalid\\AppData\\Local\\Temp\\4\\ipykernel_21944\\3169578383.py:6: SettingWithCopyWarning: \n",
      "A value is trying to be set on a copy of a slice from a DataFrame.\n",
      "Try using .loc[row_indexer,col_indexer] = value instead\n",
      "\n",
      "See the caveats in the documentation: https://pandas.pydata.org/pandas-docs/stable/user_guide/indexing.html#returning-a-view-versus-a-copy\n",
      "  LC2.loc[LC2.APPLICANT.isin(['WSA VENTURE AUSTRALIA (M) SDN BHD (FAC 3)']),'CIF Number'] = 'EXIM000283'\n",
      "C:\\Users\\syahidhalid\\AppData\\Local\\Temp\\4\\ipykernel_21944\\3169578383.py:7: SettingWithCopyWarning: \n",
      "A value is trying to be set on a copy of a slice from a DataFrame.\n",
      "Try using .loc[row_indexer,col_indexer] = value instead\n",
      "\n",
      "See the caveats in the documentation: https://pandas.pydata.org/pandas-docs/stable/user_guide/indexing.html#returning-a-view-versus-a-copy\n",
      "  LC2.loc[LC2.APPLICANT.isin(['WSA VENTURE AUSTRALIA (M) SDN BHD (FAC 3)']),'Finance(SAP) Number'] = '501085'\n",
      "C:\\Users\\syahidhalid\\AppData\\Local\\Temp\\4\\ipykernel_21944\\3169578383.py:13: SettingWithCopyWarning: \n",
      "A value is trying to be set on a copy of a slice from a DataFrame.\n",
      "Try using .loc[row_indexer,col_indexer] = value instead\n",
      "\n",
      "See the caveats in the documentation: https://pandas.pydata.org/pandas-docs/stable/user_guide/indexing.html#returning-a-view-versus-a-copy\n",
      "  LC2['Type of Financing'] = 'I'\n",
      "C:\\Users\\syahidhalid\\AppData\\Local\\Temp\\4\\ipykernel_21944\\3169578383.py:15: FutureWarning: Downcasting object dtype arrays on .fillna, .ffill, .bfill is deprecated and will change in a future version. Call result.infer_objects(copy=False) instead. To opt-in to the future behavior, set `pd.set_option('future.no_silent_downcasting', True)`\n",
      "  LC3 = LC2.fillna(0).groupby(['CIF Number','EXIM Account No.','Finance(SAP) Number','APPLICANT',\n"
     ]
    }
   ],
   "source": [
    "#=========================================LC==============================================\n",
    "\n",
    "LC2 = LC1.iloc[np.where(LC1.TYPE.isin([\"LC\",'REVERSAL','AMENDMENT']))]\n",
    "\n",
    "LC2.loc[LC2.APPLICANT.str.contains('WSA VENTURE AUSTRALIA'),'EXIM Account No.'] = '3308-02137-122-0291-00'\n",
    "LC2.loc[LC2.APPLICANT.isin(['WSA VENTURE AUSTRALIA (M) SDN BHD (FAC 3)']),'CIF Number'] = 'EXIM000283'\n",
    "LC2.loc[LC2.APPLICANT.isin(['WSA VENTURE AUSTRALIA (M) SDN BHD (FAC 3)']),'Finance(SAP) Number'] = '501085'\n",
    "\n",
    "LC2.loc[LC2.APPLICANT.str.contains('PERTAMA FERROALLOYS SDN BHD'),'EXIM Account No.'] = '3308-02137-211-0142-00'\n",
    "LC2.loc[LC2.APPLICANT.isin(['PERTAMA FERROALLOYS SDN BHD']),'CIF Number'] = 'EXIM000140'\n",
    "LC2.loc[LC2.APPLICANT.isin(['PERTAMA FERROALLOYS SDN BHD']),'Finance(SAP) Number'] = '500840'\n",
    "\n",
    "LC2['Type of Financing'] = 'I'\n",
    "\n",
    "LC3 = LC2.fillna(0).groupby(['CIF Number','EXIM Account No.','Finance(SAP) Number','APPLICANT',\n",
    "                             'Type of Financing'])[['AMOUNT (RM)']].sum().reset_index().rename(columns={'APPLICANT':'Customer Name',\n",
    "'AMOUNT (RM)':'Contingent Liability Letter of Credit (MYR)',\n",
    "'CURR':'Facility Currency',\n",
    "'COUNTRY':'Country Exposure'}) #\n",
    "\n",
    "#'FOREIGN AMOUNT', \n",
    "#'FOREIGN AMOUNT':'Contingent Liability Letter of Credit (Facility Currency)',\n",
    "LC3['Unutilised/Undrawn Amount (FC)'] = 0\n",
    "LC3['Unutilised/Undrawn Amount (MYR)'] = 0\n",
    "\n",
    "append = pd.concat([BG3,LC3]).fillna(0)\n"
   ]
  },
  {
   "cell_type": "code",
   "execution_count": 46,
   "id": "17ceee61",
   "metadata": {},
   "outputs": [
    {
     "data": {
      "text/plain": [
       "EXIM Account No.\n",
       "3308-02224-216-0032-00    1\n",
       "3308-01137-216-0133-00    1\n",
       "3308-01137-216-0058-00    1\n",
       "3308-02137-211-0088-00    1\n",
       "3308-02137-117-0071-00    1\n",
       "3308-02137-216-0046-00    1\n",
       "3308-01137-117-0313-00    1\n",
       "3308-02137-117-0353-00    1\n",
       "3308-02137-119-0330-00    1\n",
       "3308-01137-117-0325-00    1\n",
       "2111371328                1\n",
       "3308-02137-122-0291-00    1\n",
       "Name: count, dtype: int64"
      ]
     },
     "execution_count": 46,
     "metadata": {},
     "output_type": "execute_result"
    }
   ],
   "source": [
    "append['EXIM Account No.'].value_counts()"
   ]
  },
  {
   "cell_type": "code",
   "execution_count": 47,
   "id": "61dfc273-2c73-4a1b-8dbf-524a362831c2",
   "metadata": {},
   "outputs": [],
   "source": [
    "LDB_prev['EXIM Account No.'] = LDB_prev['EXIM Account No.'].astype(str)\n",
    "\n",
    "appendfinal_ldb = append.merge(LDB_prev[['EXIM Account No.',\n",
    "                                              'Facility Currency']],on=['EXIM Account No.'],how='left', suffixes=('_x', ''),indicator=True)\n"
   ]
  },
  {
   "cell_type": "code",
   "execution_count": 48,
   "id": "9bc921ff",
   "metadata": {},
   "outputs": [
    {
     "data": {
      "text/plain": [
       "EXIM Account No.\n",
       "3308-02224-216-0032-00    1\n",
       "3308-01137-216-0133-00    1\n",
       "3308-01137-216-0058-00    1\n",
       "3308-02137-211-0088-00    1\n",
       "3308-02137-117-0071-00    1\n",
       "3308-02137-216-0046-00    1\n",
       "3308-01137-117-0313-00    1\n",
       "3308-02137-117-0353-00    1\n",
       "3308-02137-119-0330-00    1\n",
       "3308-01137-117-0325-00    1\n",
       "2111371328                1\n",
       "3308-02137-122-0291-00    1\n",
       "Name: count, dtype: int64"
      ]
     },
     "execution_count": 48,
     "metadata": {},
     "output_type": "execute_result"
    }
   ],
   "source": [
    "appendfinal_ldb['EXIM Account No.'].value_counts()"
   ]
  },
  {
   "cell_type": "code",
   "execution_count": 49,
   "id": "84748483-c012-40e0-b541-5de77c7443e5",
   "metadata": {
    "scrolled": true
   },
   "outputs": [],
   "source": [
    "appendfinal_ldb['Facility Currency'] = appendfinal_ldb['Facility Currency'].str.strip()\n",
    "\n",
    "append1 = appendfinal_ldb.merge(MRate[['Month','Curr']].rename(columns={'Month':'Facility Currency'}), on='Facility Currency', how='left')\n"
   ]
  },
  {
   "cell_type": "code",
   "execution_count": 52,
   "id": "8fcfb980-7ce0-4ed1-9854-947aa1d902aa",
   "metadata": {
    "scrolled": true
   },
   "outputs": [
    {
     "data": {
      "text/html": [
       "<div>\n",
       "<style scoped>\n",
       "    .dataframe tbody tr th:only-of-type {\n",
       "        vertical-align: middle;\n",
       "    }\n",
       "\n",
       "    .dataframe tbody tr th {\n",
       "        vertical-align: top;\n",
       "    }\n",
       "\n",
       "    .dataframe thead th {\n",
       "        text-align: right;\n",
       "    }\n",
       "</style>\n",
       "<table border=\"1\" class=\"dataframe\">\n",
       "  <thead>\n",
       "    <tr style=\"text-align: right;\">\n",
       "      <th></th>\n",
       "      <th>CIF Number</th>\n",
       "      <th>EXIM Account No.</th>\n",
       "      <th>Finance(SAP) Number</th>\n",
       "      <th>Customer Name</th>\n",
       "      <th>Type of Financing</th>\n",
       "      <th>Contingent Liability (MYR)</th>\n",
       "      <th>Unutilised/Undrawn Amount (FC)</th>\n",
       "      <th>Unutilised/Undrawn Amount (MYR)</th>\n",
       "      <th>Contingent Liability Letter of Credit (MYR)</th>\n",
       "      <th>Facility Currency</th>\n",
       "      <th>_merge</th>\n",
       "      <th>Curr</th>\n",
       "    </tr>\n",
       "  </thead>\n",
       "  <tbody>\n",
       "    <tr>\n",
       "      <th>0</th>\n",
       "      <td>EXIM000110</td>\n",
       "      <td>3308-02224-216-0032-00</td>\n",
       "      <td>BG</td>\n",
       "      <td>PRINSIPTEK INTERNATIONAL LTD</td>\n",
       "      <td>C</td>\n",
       "      <td>1.67e+06</td>\n",
       "      <td>0.00e+00</td>\n",
       "      <td>0.00e+00</td>\n",
       "      <td>0.00e+00</td>\n",
       "      <td>USD</td>\n",
       "      <td>both</td>\n",
       "      <td>4.32</td>\n",
       "    </tr>\n",
       "    <tr>\n",
       "      <th>1</th>\n",
       "      <td>EXIM000140</td>\n",
       "      <td>3308-01137-216-0133-00</td>\n",
       "      <td>BG</td>\n",
       "      <td>PERTAMA FERROALLOYS SDN BHD</td>\n",
       "      <td>C</td>\n",
       "      <td>3.70e+07</td>\n",
       "      <td>0.00e+00</td>\n",
       "      <td>0.00e+00</td>\n",
       "      <td>0.00e+00</td>\n",
       "      <td>MYR</td>\n",
       "      <td>both</td>\n",
       "      <td>1.00</td>\n",
       "    </tr>\n",
       "    <tr>\n",
       "      <th>2</th>\n",
       "      <td>EXIM000145</td>\n",
       "      <td>3308-01137-216-0058-00</td>\n",
       "      <td>BG</td>\n",
       "      <td>OM MATERIALS (SARAWAK) SDN BHD</td>\n",
       "      <td>C</td>\n",
       "      <td>3.77e+07</td>\n",
       "      <td>0.00e+00</td>\n",
       "      <td>2.65e+05</td>\n",
       "      <td>0.00e+00</td>\n",
       "      <td>MYR</td>\n",
       "      <td>both</td>\n",
       "      <td>1.00</td>\n",
       "    </tr>\n",
       "    <tr>\n",
       "      <th>3</th>\n",
       "      <td>EXIM000145</td>\n",
       "      <td>3308-02137-211-0088-00</td>\n",
       "      <td>500724</td>\n",
       "      <td>OM MATERIALS (SARAWAK) SDN BHD</td>\n",
       "      <td>C</td>\n",
       "      <td>2.71e+07</td>\n",
       "      <td>0.00e+00</td>\n",
       "      <td>0.00e+00</td>\n",
       "      <td>0.00e+00</td>\n",
       "      <td>USD</td>\n",
       "      <td>both</td>\n",
       "      <td>4.32</td>\n",
       "    </tr>\n",
       "    <tr>\n",
       "      <th>4</th>\n",
       "      <td>EXIM000169</td>\n",
       "      <td>3308-02137-117-0071-00</td>\n",
       "      <td>BG-I</td>\n",
       "      <td>DESTINI PRIMA SDN BHD</td>\n",
       "      <td>I</td>\n",
       "      <td>2.15e+06</td>\n",
       "      <td>8.07e+04</td>\n",
       "      <td>3.48e+05</td>\n",
       "      <td>0.00e+00</td>\n",
       "      <td>USD</td>\n",
       "      <td>both</td>\n",
       "      <td>4.32</td>\n",
       "    </tr>\n",
       "    <tr>\n",
       "      <th>5</th>\n",
       "      <td>EXIM000210</td>\n",
       "      <td>3308-02137-216-0046-00</td>\n",
       "      <td>BG</td>\n",
       "      <td>SMH RAIL SDN BHD</td>\n",
       "      <td>C</td>\n",
       "      <td>4.73e+06</td>\n",
       "      <td>6.90e+06</td>\n",
       "      <td>2.98e+07</td>\n",
       "      <td>0.00e+00</td>\n",
       "      <td>USD</td>\n",
       "      <td>both</td>\n",
       "      <td>4.32</td>\n",
       "    </tr>\n",
       "    <tr>\n",
       "      <th>6</th>\n",
       "      <td>EXIM000277</td>\n",
       "      <td>3308-01137-117-0313-00</td>\n",
       "      <td>BG-I</td>\n",
       "      <td>ASIA CARGO NETWORK SDN BHD</td>\n",
       "      <td>I</td>\n",
       "      <td>2.00e+06</td>\n",
       "      <td>0.00e+00</td>\n",
       "      <td>4.00e+06</td>\n",
       "      <td>0.00e+00</td>\n",
       "      <td>MYR</td>\n",
       "      <td>both</td>\n",
       "      <td>1.00</td>\n",
       "    </tr>\n",
       "    <tr>\n",
       "      <th>7</th>\n",
       "      <td>EXIM000282</td>\n",
       "      <td>3308-02137-117-0353-00</td>\n",
       "      <td>BG-I</td>\n",
       "      <td>HELMS GEOMARINE SDN BHD</td>\n",
       "      <td>I</td>\n",
       "      <td>2.03e+06</td>\n",
       "      <td>5.31e+05</td>\n",
       "      <td>2.29e+06</td>\n",
       "      <td>0.00e+00</td>\n",
       "      <td>USD</td>\n",
       "      <td>both</td>\n",
       "      <td>4.32</td>\n",
       "    </tr>\n",
       "    <tr>\n",
       "      <th>8</th>\n",
       "      <td>EXIM000491</td>\n",
       "      <td>3308-02137-119-0330-00</td>\n",
       "      <td>BG-I</td>\n",
       "      <td>BOUSTEAD PETROLUEM MARKETING SDN BHD</td>\n",
       "      <td>I</td>\n",
       "      <td>4.32e+07</td>\n",
       "      <td>0.00e+00</td>\n",
       "      <td>0.00e+00</td>\n",
       "      <td>0.00e+00</td>\n",
       "      <td>USD</td>\n",
       "      <td>both</td>\n",
       "      <td>4.32</td>\n",
       "    </tr>\n",
       "    <tr>\n",
       "      <th>9</th>\n",
       "      <td>EXIM000563</td>\n",
       "      <td>3308-01137-117-0325-00</td>\n",
       "      <td>BG-I</td>\n",
       "      <td>URBAN PINNACLE SDN BHD</td>\n",
       "      <td>I</td>\n",
       "      <td>1.00e+06</td>\n",
       "      <td>0.00e+00</td>\n",
       "      <td>1.00e+06</td>\n",
       "      <td>0.00e+00</td>\n",
       "      <td>MYR</td>\n",
       "      <td>both</td>\n",
       "      <td>1.00</td>\n",
       "    </tr>\n",
       "    <tr>\n",
       "      <th>10</th>\n",
       "      <td>EXIM000140</td>\n",
       "      <td>2111371328</td>\n",
       "      <td>NEW ACCOUNT</td>\n",
       "      <td>PERTAMA FERROALLOYS SDN BHD</td>\n",
       "      <td>I</td>\n",
       "      <td>0.00e+00</td>\n",
       "      <td>0.00e+00</td>\n",
       "      <td>0.00e+00</td>\n",
       "      <td>1.96e+07</td>\n",
       "      <td>USD</td>\n",
       "      <td>both</td>\n",
       "      <td>4.32</td>\n",
       "    </tr>\n",
       "    <tr>\n",
       "      <th>11</th>\n",
       "      <td>EXIM000283</td>\n",
       "      <td>3308-02137-122-0291-00</td>\n",
       "      <td>501085</td>\n",
       "      <td>WSA VENTURE AUSTRALIA (M) SDN BHD (FAC 3)</td>\n",
       "      <td>I</td>\n",
       "      <td>0.00e+00</td>\n",
       "      <td>0.00e+00</td>\n",
       "      <td>0.00e+00</td>\n",
       "      <td>4.01e+05</td>\n",
       "      <td>USD</td>\n",
       "      <td>both</td>\n",
       "      <td>4.32</td>\n",
       "    </tr>\n",
       "  </tbody>\n",
       "</table>\n",
       "</div>"
      ],
      "text/plain": [
       "    CIF Number        EXIM Account No. Finance(SAP) Number  \\\n",
       "0   EXIM000110  3308-02224-216-0032-00                  BG   \n",
       "1   EXIM000140  3308-01137-216-0133-00                  BG   \n",
       "2   EXIM000145  3308-01137-216-0058-00                  BG   \n",
       "3   EXIM000145  3308-02137-211-0088-00              500724   \n",
       "4   EXIM000169  3308-02137-117-0071-00                BG-I   \n",
       "5   EXIM000210  3308-02137-216-0046-00                  BG   \n",
       "6   EXIM000277  3308-01137-117-0313-00                BG-I   \n",
       "7   EXIM000282  3308-02137-117-0353-00                BG-I   \n",
       "8   EXIM000491  3308-02137-119-0330-00                BG-I   \n",
       "9   EXIM000563  3308-01137-117-0325-00                BG-I   \n",
       "10  EXIM000140              2111371328         NEW ACCOUNT   \n",
       "11  EXIM000283  3308-02137-122-0291-00              501085   \n",
       "\n",
       "                                Customer Name Type of Financing  \\\n",
       "0                PRINSIPTEK INTERNATIONAL LTD                 C   \n",
       "1                 PERTAMA FERROALLOYS SDN BHD                 C   \n",
       "2              OM MATERIALS (SARAWAK) SDN BHD                 C   \n",
       "3              OM MATERIALS (SARAWAK) SDN BHD                 C   \n",
       "4                       DESTINI PRIMA SDN BHD                 I   \n",
       "5                            SMH RAIL SDN BHD                 C   \n",
       "6                  ASIA CARGO NETWORK SDN BHD                 I   \n",
       "7                     HELMS GEOMARINE SDN BHD                 I   \n",
       "8        BOUSTEAD PETROLUEM MARKETING SDN BHD                 I   \n",
       "9                      URBAN PINNACLE SDN BHD                 I   \n",
       "10                PERTAMA FERROALLOYS SDN BHD                 I   \n",
       "11  WSA VENTURE AUSTRALIA (M) SDN BHD (FAC 3)                 I   \n",
       "\n",
       "    Contingent Liability (MYR)  Unutilised/Undrawn Amount (FC)  \\\n",
       "0                     1.67e+06                        0.00e+00   \n",
       "1                     3.70e+07                        0.00e+00   \n",
       "2                     3.77e+07                        0.00e+00   \n",
       "3                     2.71e+07                        0.00e+00   \n",
       "4                     2.15e+06                        8.07e+04   \n",
       "5                     4.73e+06                        6.90e+06   \n",
       "6                     2.00e+06                        0.00e+00   \n",
       "7                     2.03e+06                        5.31e+05   \n",
       "8                     4.32e+07                        0.00e+00   \n",
       "9                     1.00e+06                        0.00e+00   \n",
       "10                    0.00e+00                        0.00e+00   \n",
       "11                    0.00e+00                        0.00e+00   \n",
       "\n",
       "    Unutilised/Undrawn Amount (MYR)  \\\n",
       "0                          0.00e+00   \n",
       "1                          0.00e+00   \n",
       "2                          2.65e+05   \n",
       "3                          0.00e+00   \n",
       "4                          3.48e+05   \n",
       "5                          2.98e+07   \n",
       "6                          4.00e+06   \n",
       "7                          2.29e+06   \n",
       "8                          0.00e+00   \n",
       "9                          1.00e+06   \n",
       "10                         0.00e+00   \n",
       "11                         0.00e+00   \n",
       "\n",
       "    Contingent Liability Letter of Credit (MYR) Facility Currency _merge  Curr  \n",
       "0                                      0.00e+00               USD   both  4.32  \n",
       "1                                      0.00e+00               MYR   both  1.00  \n",
       "2                                      0.00e+00               MYR   both  1.00  \n",
       "3                                      0.00e+00               USD   both  4.32  \n",
       "4                                      0.00e+00               USD   both  4.32  \n",
       "5                                      0.00e+00               USD   both  4.32  \n",
       "6                                      0.00e+00               MYR   both  1.00  \n",
       "7                                      0.00e+00               USD   both  4.32  \n",
       "8                                      0.00e+00               USD   both  4.32  \n",
       "9                                      0.00e+00               MYR   both  1.00  \n",
       "10                                     1.96e+07               USD   both  4.32  \n",
       "11                                     4.01e+05               USD   both  4.32  "
      ]
     },
     "execution_count": 52,
     "metadata": {},
     "output_type": "execute_result"
    }
   ],
   "source": [
    "append1#['EXIM Account No.'].value_counts()"
   ]
  },
  {
   "cell_type": "code",
   "execution_count": 53,
   "id": "75df2e7e-5aef-4605-ab17-baaa92fcd2cc",
   "metadata": {},
   "outputs": [],
   "source": [
    "append1['Contingent Liability (Facility Currency)'] = append1['Contingent Liability (MYR)']/append1['Curr']\n",
    "append1['Contingent Liability Letter of Credit (Facility Currency)'] = append1['Contingent Liability Letter of Credit (MYR)']/append1['Curr']\n",
    "append1['Unutilised/Undrawn Amount (FC)'] = append1['Unutilised/Undrawn Amount (MYR)']/append1['Curr']\n"
   ]
  },
  {
   "cell_type": "code",
   "execution_count": 54,
   "id": "88615444-59a2-4368-9022-6f0afc855281",
   "metadata": {},
   "outputs": [],
   "source": [
    "append2 = append1[['CIF Number',\n",
    "                   'EXIM Account No.',\n",
    "                   'Finance(SAP) Number',\n",
    "                   'Customer Name',\n",
    "                   #'Country Exposure',\n",
    "                   'Type of Financing',\n",
    "                   'Facility Currency',\n",
    "                   'Curr',\n",
    "                   'Unutilised/Undrawn Amount (FC)',\n",
    "                   'Unutilised/Undrawn Amount (MYR)',\n",
    "                   'Contingent Liability Letter of Credit (Facility Currency)',\n",
    "                   'Contingent Liability Letter of Credit (MYR)',\n",
    "                   'Contingent Liability (Facility Currency)',\n",
    "                   'Contingent Liability (MYR)']]"
   ]
  },
  {
   "cell_type": "code",
   "execution_count": 55,
   "id": "ea61063e-92fe-4507-808e-1c6a334f37ed",
   "metadata": {},
   "outputs": [
    {
     "data": {
      "text/plain": [
       "EXIM Account No.\n",
       "3308-02224-216-0032-00    1\n",
       "3308-01137-216-0133-00    1\n",
       "3308-01137-216-0058-00    1\n",
       "3308-02137-211-0088-00    1\n",
       "3308-02137-117-0071-00    1\n",
       "3308-02137-216-0046-00    1\n",
       "3308-01137-117-0313-00    1\n",
       "3308-02137-117-0353-00    1\n",
       "3308-02137-119-0330-00    1\n",
       "3308-01137-117-0325-00    1\n",
       "2111371328                1\n",
       "3308-02137-122-0291-00    1\n",
       "Name: count, dtype: int64"
      ]
     },
     "execution_count": 55,
     "metadata": {},
     "output_type": "execute_result"
    }
   ],
   "source": [
    "append2['EXIM Account No.'].value_counts()"
   ]
  },
  {
   "cell_type": "code",
   "execution_count": 56,
   "id": "5854797d-3ce1-427d-b38d-71f0ec2bec1a",
   "metadata": {
    "scrolled": true
   },
   "outputs": [],
   "source": [
    "#sum(append['Contingent Liability (MYR)'])"
   ]
  },
  {
   "cell_type": "code",
   "execution_count": 57,
   "id": "1dc25687-a302-4d63-b3e2-2d1472e92e2d",
   "metadata": {},
   "outputs": [],
   "source": [
    "#str(Location)+'\\\\06. Contigent Liability '+str(LC[-7:]).title()+' (python).xlsx'"
   ]
  },
  {
   "cell_type": "code",
   "execution_count": 58,
   "id": "1398d15f-202b-4100-aea4-40546f009bc4",
   "metadata": {},
   "outputs": [],
   "source": [
    "#append2.to_excel(str(Location)+'\\\\06. Contigent Liability '+str(LC[-7:]).title()+' (python).xlsx',index=False)\n",
    "append2.to_excel(r'C:\\Users\\syahidhalid\\Syahid_PC\\Analytics - FAD\\00. Automation LDB\\Data Source\\202408\\Working\\06. Contigent Liability '+str(BG[-7:]).title()+' (python).xlsx',index=False)\n"
   ]
  },
  {
   "cell_type": "code",
   "execution_count": 59,
   "id": "c2b1611d-a521-4e42-b1ec-ace1804eb1ab",
   "metadata": {},
   "outputs": [],
   "source": [
    "#writer2 = pd.ExcelWriter(str(Location)+'\\\\06. Contigent Liability '+str(LC[-7:]).title()+' (python).xlsx',engine='xlsxwriter')\n",
    "\n",
    "#append2.to_excel(writer2, sheet_name='BG & LC', index = False)\n",
    "\n",
    "#writer2._save()"
   ]
  },
  {
   "cell_type": "code",
   "execution_count": 60,
   "id": "3fd915ec-17c4-4f36-a663-c29e6518025d",
   "metadata": {},
   "outputs": [
    {
     "data": {
      "text/plain": [
       "'AUG2024'"
      ]
     },
     "execution_count": 60,
     "metadata": {},
     "output_type": "execute_result"
    }
   ],
   "source": [
    "BG[-7:]"
   ]
  },
  {
   "cell_type": "code",
   "execution_count": 61,
   "id": "d9965383-e975-4b5b-bb52-8ae86c0fc5d2",
   "metadata": {},
   "outputs": [],
   "source": [
    "#BG3.shape"
   ]
  },
  {
   "cell_type": "code",
   "execution_count": null,
   "id": "04515831-0385-4f33-83eb-5a8a9e59dc58",
   "metadata": {},
   "outputs": [],
   "source": [
    "#sum(BG3.iloc[np.where(BG3.Borrower=='OM Materials (Sarawak) Sdn Bhd')]['Exposure (RM)'])"
   ]
  },
  {
   "cell_type": "code",
   "execution_count": null,
   "id": "a9a1c892-b73c-46f1-85fb-5649b65d3be5",
   "metadata": {},
   "outputs": [],
   "source": [
    "#append"
   ]
  },
  {
   "cell_type": "code",
   "execution_count": null,
   "id": "f35c53a1-0443-4ec7-a422-21e308fbca0a",
   "metadata": {},
   "outputs": [],
   "source": []
  }
 ],
 "metadata": {
  "kernelspec": {
   "display_name": "Python 3 (ipykernel)",
   "language": "python",
   "name": "python3"
  },
  "language_info": {
   "codemirror_mode": {
    "name": "ipython",
    "version": 3
   },
   "file_extension": ".py",
   "mimetype": "text/x-python",
   "name": "python",
   "nbconvert_exporter": "python",
   "pygments_lexer": "ipython3",
   "version": "3.11.7"
  }
 },
 "nbformat": 4,
 "nbformat_minor": 5
}
