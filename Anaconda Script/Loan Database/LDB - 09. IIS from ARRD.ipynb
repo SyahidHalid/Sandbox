{
 "cells": [
  {
   "cell_type": "code",
   "execution_count": 1,
   "id": "2e12c012-25eb-4554-b51c-3efd31670899",
   "metadata": {},
   "outputs": [],
   "source": [
    "date = \"202408\"\n",
    "\n",
    "File = \"08. IIS-AUG 2024 (Public)\"\n",
    "\n",
    "Sheet_conv = \"IIS CONV-AUG24\"\n",
    "Sheet_isl = \"PIS-ISLAMIC-AUG24\"\n",
    "\n",
    "import pandas as pd\n",
    "import numpy as np\n",
    "import xlsxwriter\n",
    "\n",
    "#warnings.filterwarnings('ignore')\n",
    "pd.set_option(\"display.max_columns\", None) \n",
    "pd.set_option(\"display.max_colwidth\", 1000) #huruf dlm column\n",
    "pd.set_option(\"display.max_rows\", 100)\n",
    "pd.set_option(\"display.precision\", 2) #2 titik perpuluhan\n",
    "\n",
    "FILE_IIS = pd.read_excel(r\"C:\\Users\\syahidhalid\\Syahid_PC\\Analytics - FAD\\00. Automation LDB\\Data Source\\\\\"+str(date)+\"\\\\ARRD\\\\\"+str(File)+\".xlsx\", sheet_name=Sheet_conv, header=5) # skiprows = 2, nrows=18,  usecols= 'A:D'\n",
    "FILE_PIS = pd.read_excel(r\"C:\\Users\\syahidhalid\\Syahid_PC\\Analytics - FAD\\00. Automation LDB\\Data Source\\\\\"+str(date)+\"\\\\ARRD\\\\\"+str(File)+\".xlsx\", sheet_name=Sheet_isl, header=5) # skiprows = 2, nrows=18,  usecols= 'A:D'\n"
   ]
  },
  {
   "cell_type": "code",
   "execution_count": 2,
   "id": "73bc029f-becb-4841-9637-cbf818e5af99",
   "metadata": {
    "scrolled": true
   },
   "outputs": [
    {
     "name": "stderr",
     "output_type": "stream",
     "text": [
      "C:\\Users\\syahidhalid\\AppData\\Local\\Temp\\4\\ipykernel_6192\\655080724.py:1: FutureWarning: A value is trying to be set on a copy of a DataFrame or Series through chained assignment using an inplace method.\n",
      "The behavior will change in pandas 3.0. This inplace method will never work because the intermediate object on which we are setting values always behaves as a copy.\n",
      "\n",
      "For example, when doing 'df[col].method(value, inplace=True)', try using 'df.method({col: value}, inplace=True)' or df[col] = df[col].method(value) instead, to perform the operation inplace on the original object.\n",
      "\n",
      "\n",
      "  FILE_IIS['CODE'].fillna(0,inplace=True)\n",
      "C:\\Users\\syahidhalid\\AppData\\Local\\Temp\\4\\ipykernel_6192\\655080724.py:4: FutureWarning: A value is trying to be set on a copy of a DataFrame or Series through chained assignment using an inplace method.\n",
      "The behavior will change in pandas 3.0. This inplace method will never work because the intermediate object on which we are setting values always behaves as a copy.\n",
      "\n",
      "For example, when doing 'df[col].method(value, inplace=True)', try using 'df.method({col: value}, inplace=True)' or df[col] = df[col].method(value) instead, to perform the operation inplace on the original object.\n",
      "\n",
      "\n",
      "  FILE_PIS['CODE'].fillna(0,inplace=True)\n"
     ]
    }
   ],
   "source": [
    "FILE_IIS['CODE'].fillna(0,inplace=True)\n",
    "FILE_IIS['CODE'] = FILE_IIS['CODE'].astype(str)\n",
    "\n",
    "FILE_PIS['CODE'].fillna(0,inplace=True)\n",
    "FILE_PIS['CODE'] = FILE_PIS['CODE'].astype(int)\n",
    "FILE_PIS['CODE'] = FILE_PIS['CODE'].astype(str)\n",
    "\n",
    "FILE_IIS_1 = FILE_IIS.iloc[np.where(FILE_IIS.CODE!=\"0\")]\n",
    "FILE_PIS_1 = FILE_PIS.iloc[np.where(FILE_PIS.CODE!=\"0\")]"
   ]
  },
  {
   "cell_type": "code",
   "execution_count": 3,
   "id": "3eaf4e5d-173e-4d7e-90cd-3a1114f486a6",
   "metadata": {},
   "outputs": [],
   "source": [
    "#FILE_IIS_1.columns = FILE_IIS_1.columns.str.replace(\"\\n\",\"_\")\n",
    "#FILE_IIS_1.columns = FILE_IIS_1.columns.str.replace(\" \",\"_\")\n",
    "\n",
    "FILE_IIS_2 = FILE_IIS_1[['BORROWER','CODE','INTEREST\\nRATE','PENALTY\\nRATE','IMM\\nRATE']].drop_duplicates('CODE')"
   ]
  },
  {
   "cell_type": "code",
   "execution_count": 4,
   "id": "5551c7ea-6ec6-4413-91d7-1bac6f849189",
   "metadata": {},
   "outputs": [],
   "source": [
    "#FILE_IIS_1.columns = FILE_IIS_1.columns.str.replace(\"\\n\",\"_\")\n",
    "#FILE_IIS_1.columns = FILE_IIS_1.columns.str.replace(\" \",\"_\")\n",
    "\n",
    "FILE_PIS_2 = FILE_PIS_1[['BORROWER','CODE','PROFIT/\\nRATE',\"COMPENSATION/TA'WIDH\\nRATE\",'IMM\\nRATE']]#.drop_duplicates('CODE')"
   ]
  },
  {
   "cell_type": "code",
   "execution_count": 5,
   "id": "555cc4cb-3e3d-4cb8-80e0-ff17b1344ff1",
   "metadata": {},
   "outputs": [
    {
     "name": "stderr",
     "output_type": "stream",
     "text": [
      "C:\\Users\\syahidhalid\\AppData\\Local\\Temp\\4\\ipykernel_6192\\2581483382.py:5: FutureWarning: A value is trying to be set on a copy of a DataFrame or Series through chained assignment using an inplace method.\n",
      "The behavior will change in pandas 3.0. This inplace method will never work because the intermediate object on which we are setting values always behaves as a copy.\n",
      "\n",
      "For example, when doing 'df[col].method(value, inplace=True)', try using 'df.method({col: value}, inplace=True)' or df[col] = df[col].method(value) instead, to perform the operation inplace on the original object.\n",
      "\n",
      "\n",
      "  IIS[\"COMPENSATION/TA'WIDH\\nRATE\"].fillna(0, inplace=True)\n",
      "C:\\Users\\syahidhalid\\AppData\\Local\\Temp\\4\\ipykernel_6192\\2581483382.py:6: FutureWarning: A value is trying to be set on a copy of a DataFrame or Series through chained assignment using an inplace method.\n",
      "The behavior will change in pandas 3.0. This inplace method will never work because the intermediate object on which we are setting values always behaves as a copy.\n",
      "\n",
      "For example, when doing 'df[col].method(value, inplace=True)', try using 'df.method({col: value}, inplace=True)' or df[col] = df[col].method(value) instead, to perform the operation inplace on the original object.\n",
      "\n",
      "\n",
      "  IIS[\"IMM\\nRATE\"].fillna(0, inplace=True)\n"
     ]
    }
   ],
   "source": [
    "FILE_IIS_2.columns = FILE_PIS_2.columns\n",
    "\n",
    "IIS = pd.concat([FILE_IIS_2,FILE_PIS_2])\n",
    "\n",
    "IIS[\"COMPENSATION/TA'WIDH\\nRATE\"].fillna(0, inplace=True)\n",
    "IIS[\"IMM\\nRATE\"].fillna(0, inplace=True)"
   ]
  },
  {
   "cell_type": "code",
   "execution_count": 6,
   "id": "9dd652a6-c9cd-4370-b145-107c7ef0233b",
   "metadata": {},
   "outputs": [],
   "source": [
    "\n",
    "\n",
    "IIS[\"Ta`widh Compensation/Penalty Rate\"] = IIS[\"COMPENSATION/TA'WIDH\\nRATE\"] + IIS[\"IMM\\nRATE\"]\n",
    "\n",
    "IIS.rename(columns={'PROFIT/\\nRATE':'Average Profit/Interest Rate'},inplace=True)\n",
    "\n",
    "IIS1 = IIS[['BORROWER','CODE','Average Profit/Interest Rate','Ta`widh Compensation/Penalty Rate']]"
   ]
  },
  {
   "cell_type": "code",
   "execution_count": 46,
   "id": "94ce08a5-ad91-49f0-9cde-b5a086087f3e",
   "metadata": {
    "scrolled": true
   },
   "outputs": [],
   "source": [
    "#IIS1.CODE.value_counts()"
   ]
  },
  {
   "cell_type": "markdown",
   "id": "84de3e70-750d-4858-ae40-617d755db97e",
   "metadata": {},
   "source": [
    "# Export"
   ]
  },
  {
   "cell_type": "code",
   "execution_count": 9,
   "id": "2c27204f-87c8-48ce-9a2b-ffa8b452c761",
   "metadata": {},
   "outputs": [],
   "source": [
    "IIS1.to_excel(r\"C:\\Users\\syahidhalid\\Syahid_PC\\Analytics - FAD\\00. Automation LDB\\Data Source\\202408\\Working\\09. IIS from ARRD.xlsx\", sheet_name=\"Export Worksheet\",index=False)"
   ]
  },
  {
   "cell_type": "code",
   "execution_count": null,
   "id": "160806ea-809d-4b7a-aa72-b24ff511efa0",
   "metadata": {},
   "outputs": [],
   "source": []
  }
 ],
 "metadata": {
  "kernelspec": {
   "display_name": "Python 3 (ipykernel)",
   "language": "python",
   "name": "python3"
  },
  "language_info": {
   "codemirror_mode": {
    "name": "ipython",
    "version": 3
   },
   "file_extension": ".py",
   "mimetype": "text/x-python",
   "name": "python",
   "nbconvert_exporter": "python",
   "pygments_lexer": "ipython3",
   "version": "3.11.7"
  }
 },
 "nbformat": 4,
 "nbformat_minor": 5
}
