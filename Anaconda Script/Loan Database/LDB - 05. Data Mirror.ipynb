{
 "cells": [
  {
   "cell_type": "markdown",
   "id": "8b1e0280-d0c6-41c5-9617-d47316ac658f",
   "metadata": {},
   "source": [
    "# Load"
   ]
  },
  {
   "cell_type": "code",
   "execution_count": 10,
   "id": "2e6cbf51-6d08-4b3b-ba39-dfc096a152d8",
   "metadata": {},
   "outputs": [],
   "source": [
    "# Other Charges Payment (Facility Currency) \n",
    "# Other Charges Payment (MYR)\n",
    "# Profit Payment/Interest Repayment (Facility Currency)\n",
    "# Profit Payment/Interest Repayment (MYR) \n",
    "\n",
    "Location = r\"C:\\Users\\syahidhalid\\Syahid_PC\\Analytics - FAD\\00. Automation LDB\\Data Source\\202407\\Finance\"\n",
    "File = \"Data Mirror Jul 2024\"\n",
    "\n",
    "#control + F + dropdown new to search bar to find and replace \n",
    "import pandas as pd\n",
    "import numpy as np\n",
    "import xlsxwriter\n",
    "\n",
    "#warnings.filterwarnings('ignore')\n",
    "pd.set_option(\"display.max_columns\", None) \n",
    "pd.set_option(\"display.max_colwidth\", 1000) #huruf dlm column\n",
    "pd.set_option(\"display.max_rows\", 100)\n",
    "pd.set_option(\"display.precision\", 2) #2 titik perpuluhan\n",
    "\n",
    "Other_payment_conv = pd.read_excel(str(Location)+\"\\\\\"+str(File)+\".xlsx\", sheet_name='Oth Chgs Payment Conventional', header=8) # skiprows = 2, nrows=18,  usecols= 'A:D'\n",
    "Other_payment_isl = pd.read_excel(str(Location)+\"\\\\\"+str(File)+\".xlsx\", sheet_name='Oth Chgs Payment Islamic', header=8) # skiprows = 2, nrows=18,  usecols= 'A:D'\n",
    "Interest = pd.read_excel(str(Location)+\"\\\\\"+str(File)+\".xlsx\", sheet_name='Interest Payment', header=8) # skiprows = 2, nrows=18,  usecols= 'A:D'\n",
    "Profit = pd.read_excel(str(Location)+\"\\\\\"+str(File)+\".xlsx\", sheet_name='Profit Payment', header=8) # skiprows = 2, nrows=18,  usecols= 'A:D'\n",
    "PIS = pd.read_excel(str(Location)+\"\\\\\"+str(File)+\".xlsx\", sheet_name='PIS Payment', header=8) # skiprows = 2, nrows=18,  usecols= 'A:D'\n",
    "IIS = pd.read_excel(str(Location)+\"\\\\\"+str(File)+\".xlsx\", sheet_name='IIS Payment', header=8) # skiprows = 2, nrows=18,  usecols= 'A:D'\n",
    "\n",
    "Year = 202408\n",
    "LDB_prev = pd.read_excel(r\"C:\\Users\\syahidhalid\\Syahid_PC\\Analytics - FAD\\00. Automation LDB\\Data Source\\\\\"+str(Year-1)+\"\\\\Loan Database as Jul 2024 (python) - Final.xlsx\", sheet_name='Export Worksheet', header=1) # skiprows = 2, nrows=18,  usecols= 'A:D'\n"
   ]
  },
  {
   "cell_type": "markdown",
   "id": "174a9fc1-b01b-4ddb-b902-483a7c9fa7af",
   "metadata": {},
   "source": [
    "# Process"
   ]
  },
  {
   "cell_type": "code",
   "execution_count": 11,
   "id": "3c3f914f-0294-4db0-9e46-4cba16e228de",
   "metadata": {},
   "outputs": [],
   "source": [
    "Other_payment_conv['Type_of_Financing'] = 'Conventional'\n",
    "Other_payment_isl['Type_of_Financing'] = 'Islamic'\n",
    "\n",
    "Interest['Type_of_Financing'] = 'Conventional'\n",
    "Profit['Type_of_Financing'] = 'Islamic'\n",
    "\n",
    "IIS['Type_of_Financing'] = 'Conventional'\n",
    "PIS['Type_of_Financing'] = 'Islamic'"
   ]
  },
  {
   "cell_type": "code",
   "execution_count": 12,
   "id": "5559fd8d-2b42-46be-9e31-be03ec5767a8",
   "metadata": {},
   "outputs": [],
   "source": [
    "Other_payment_isl.columns = Other_payment_isl.columns.str.replace(\"\\n\", \"_\")\n",
    "Other_payment_isl.columns = Other_payment_isl.columns.str.replace(\" \", \"_\")\n",
    "Other_payment_isl.columns = Other_payment_isl.columns.str.replace(\".\", \"_\")\n",
    "\n",
    "Other_payment_conv.columns = Other_payment_conv.columns.str.replace(\"\\n\", \"_\")\n",
    "Other_payment_conv.columns = Other_payment_conv.columns.str.replace(\" \", \"_\")\n",
    "Other_payment_conv.columns = Other_payment_conv.columns.str.replace(\".\", \"_\")\n",
    "\n",
    "Profit.columns = Profit.columns.str.replace(\"\\n\", \"_\")\n",
    "Profit.columns = Profit.columns.str.replace(\" \", \"_\")\n",
    "Profit.columns = Profit.columns.str.replace(\".\", \"_\")\n",
    "\n",
    "Interest.columns = Interest.columns.str.replace(\"\\n\", \"_\")\n",
    "Interest.columns = Interest.columns.str.replace(\" \", \"_\")\n",
    "Interest.columns = Interest.columns.str.replace(\".\", \"_\")\n",
    "\n",
    "IIS.columns = IIS.columns.str.replace(\"\\n\", \"_\")\n",
    "IIS.columns = IIS.columns.str.replace(\" \", \"_\")\n",
    "IIS.columns = IIS.columns.str.replace(\".\", \"_\")\n",
    "\n",
    "PIS.columns = PIS.columns.str.replace(\"\\n\", \"_\")\n",
    "PIS.columns = PIS.columns.str.replace(\" \", \"_\")\n",
    "PIS.columns = PIS.columns.str.replace(\".\", \"_\")\n"
   ]
  },
  {
   "cell_type": "code",
   "execution_count": 13,
   "id": "16cbbc6a-f364-4aa6-97ee-b44ce099f374",
   "metadata": {
    "scrolled": true
   },
   "outputs": [],
   "source": [
    "#penalty\n",
    "#IIS.head(1)"
   ]
  },
  {
   "cell_type": "code",
   "execution_count": 14,
   "id": "2499a79a-37a3-4279-93ea-dcf596626671",
   "metadata": {},
   "outputs": [],
   "source": [
    "#Other_payment_isl.iloc[np.where(Other_payment_isl.Text.str.contains('SJPP'))]"
   ]
  },
  {
   "cell_type": "code",
   "execution_count": 15,
   "id": "01831e26-91a9-4299-89f1-c4bc69049748",
   "metadata": {
    "scrolled": true
   },
   "outputs": [],
   "source": [
    "#Other_payment_isl.Text.value_counts() #Tabco Food - Guarantee Fee - SJPP klau SJPP kena zero kn"
   ]
  },
  {
   "cell_type": "code",
   "execution_count": 19,
   "id": "293b6608-779d-4734-b59f-a229766badb3",
   "metadata": {},
   "outputs": [
    {
     "data": {
      "text/html": [
       "<div>\n",
       "<style scoped>\n",
       "    .dataframe tbody tr th:only-of-type {\n",
       "        vertical-align: middle;\n",
       "    }\n",
       "\n",
       "    .dataframe tbody tr th {\n",
       "        vertical-align: top;\n",
       "    }\n",
       "\n",
       "    .dataframe thead th {\n",
       "        text-align: right;\n",
       "    }\n",
       "</style>\n",
       "<table border=\"1\" class=\"dataframe\">\n",
       "  <thead>\n",
       "    <tr style=\"text-align: right;\">\n",
       "      <th></th>\n",
       "      <th>Unnamed:_0</th>\n",
       "      <th>Unnamed:_1</th>\n",
       "      <th>St</th>\n",
       "      <th>Account</th>\n",
       "      <th>Typ</th>\n",
       "      <th>Assignment</th>\n",
       "      <th>Unnamed:_6</th>\n",
       "      <th>DocumentNo</th>\n",
       "      <th>Doc__Date</th>\n",
       "      <th>S</th>\n",
       "      <th>Pstng_Date</th>\n",
       "      <th>DD</th>\n",
       "      <th>___Amt_in_loc_cur_</th>\n",
       "      <th>LCurr</th>\n",
       "      <th>______Amount_in_DC</th>\n",
       "      <th>Curr_</th>\n",
       "      <th>Text</th>\n",
       "      <th>_Eff_ex_rate</th>\n",
       "      <th>Type_of_Financing</th>\n",
       "    </tr>\n",
       "  </thead>\n",
       "  <tbody>\n",
       "  </tbody>\n",
       "</table>\n",
       "</div>"
      ],
      "text/plain": [
       "Empty DataFrame\n",
       "Columns: [Unnamed:_0, Unnamed:_1, St, Account, Typ, Assignment, Unnamed:_6, DocumentNo, Doc__Date, S, Pstng_Date, DD, ___Amt_in_loc_cur_, LCurr, ______Amount_in_DC, Curr_, Text, _Eff_ex_rate, Type_of_Financing]\n",
       "Index: []"
      ]
     },
     "execution_count": 19,
     "metadata": {},
     "output_type": "execute_result"
    }
   ],
   "source": [
    "Other_payment_isl.iloc[np.where(~(Other_payment_isl.Account.isna())&(Other_payment_isl.Text.str.contains(\"SJPP\")))]"
   ]
  },
  {
   "cell_type": "code",
   "execution_count": 18,
   "id": "0861e05f-5da1-4bac-8846-c26296c74e7f",
   "metadata": {},
   "outputs": [
    {
     "data": {
      "text/html": [
       "<div>\n",
       "<style scoped>\n",
       "    .dataframe tbody tr th:only-of-type {\n",
       "        vertical-align: middle;\n",
       "    }\n",
       "\n",
       "    .dataframe tbody tr th {\n",
       "        vertical-align: top;\n",
       "    }\n",
       "\n",
       "    .dataframe thead th {\n",
       "        text-align: right;\n",
       "    }\n",
       "</style>\n",
       "<table border=\"1\" class=\"dataframe\">\n",
       "  <thead>\n",
       "    <tr style=\"text-align: right;\">\n",
       "      <th></th>\n",
       "      <th>Unnamed:_0</th>\n",
       "      <th>Unnamed:_1</th>\n",
       "      <th>St</th>\n",
       "      <th>Account</th>\n",
       "      <th>Typ</th>\n",
       "      <th>Assignment</th>\n",
       "      <th>Unnamed:_6</th>\n",
       "      <th>DocumentNo</th>\n",
       "      <th>Doc__Date</th>\n",
       "      <th>S</th>\n",
       "      <th>Pstng_Date</th>\n",
       "      <th>DD</th>\n",
       "      <th>___Amt_in_loc_cur_</th>\n",
       "      <th>LCurr</th>\n",
       "      <th>______Amount_in_DC</th>\n",
       "      <th>Curr_</th>\n",
       "      <th>Text</th>\n",
       "      <th>_Eff_ex_rate</th>\n",
       "      <th>Type_of_Financing</th>\n",
       "    </tr>\n",
       "  </thead>\n",
       "  <tbody>\n",
       "    <tr>\n",
       "      <th>1</th>\n",
       "      <td>NaN</td>\n",
       "      <td>NaN</td>\n",
       "      <td>NaN</td>\n",
       "      <td>500555.0</td>\n",
       "      <td>DZ</td>\n",
       "      <td>NaN</td>\n",
       "      <td>NaN</td>\n",
       "      <td>1.40e+09</td>\n",
       "      <td>22.07.2024</td>\n",
       "      <td>V</td>\n",
       "      <td>22.07.2024</td>\n",
       "      <td>NaN</td>\n",
       "      <td>-1910.94</td>\n",
       "      <td>MYR</td>\n",
       "      <td>-1910.94</td>\n",
       "      <td>MYR</td>\n",
       "      <td>Solartif - Penalty Charges</td>\n",
       "      <td>1.0</td>\n",
       "      <td>Conventional</td>\n",
       "    </tr>\n",
       "  </tbody>\n",
       "</table>\n",
       "</div>"
      ],
      "text/plain": [
       "   Unnamed:_0  Unnamed:_1  St   Account Typ  Assignment  Unnamed:_6  \\\n",
       "1         NaN         NaN NaN  500555.0  DZ         NaN         NaN   \n",
       "\n",
       "   DocumentNo   Doc__Date  S  Pstng_Date  DD  ___Amt_in_loc_cur_ LCurr  \\\n",
       "1    1.40e+09  22.07.2024  V  22.07.2024 NaN            -1910.94   MYR   \n",
       "\n",
       "   ______Amount_in_DC Curr_                        Text  _Eff_ex_rate  \\\n",
       "1            -1910.94   MYR  Solartif - Penalty Charges           1.0   \n",
       "\n",
       "  Type_of_Financing  \n",
       "1      Conventional  "
      ]
     },
     "execution_count": 18,
     "metadata": {},
     "output_type": "execute_result"
    }
   ],
   "source": [
    "IIS.iloc[np.where(~(IIS.Account.isna())&(IIS.Text.str.contains(\"Penalty\")))]"
   ]
  },
  {
   "cell_type": "code",
   "execution_count": 7,
   "id": "50b700e7-170e-48bb-8c55-c6562f3b4b78",
   "metadata": {},
   "outputs": [],
   "source": [
    "#IIS.Text.value_counts()\n",
    "\n",
    "#if any\n",
    "IIS.loc[IIS.Text==\"Solartif - Penalty Charges\",\"Ta`widh Payment/Penalty Repayment (Facility Currency)\"] = IIS['______Amount_in_DC']\n",
    "IIS.loc[IIS.Text==\"Solartif - Penalty Charges\",\"Ta`widh Payment/Penalty Repayment (MYR)\"] = IIS['___Amt_in_loc_cur_']\n",
    "\n",
    "IIS.loc[IIS.Text==\"Solartif - Penalty Charges\",\"______Amount_in_DC\"] = 0\n",
    "IIS.loc[IIS.Text==\"Solartif - Penalty Charges\",\"___Amt_in_loc_cur_\"] = 0\n",
    "\n",
    "\n",
    "#Other_payment_isl.Text.value_counts()\n",
    "\n",
    "#Other_payment_isl.iloc[np.where(Other_payment_isl.Text==\"Tabco Food - Guarantee Fee - SJPP\")]\n",
    "\n",
    "#SJPP\n",
    "#Other_payment_isl.loc[Other_payment_isl.Text==\"Tabco Food - Guarantee Fee - SJPP\",\"______Amount_in_DC\"] = 0\n",
    "#Other_payment_isl.loc[Other_payment_isl.Text==\"Tabco Food - Guarantee Fee - SJPP\",\"___Amt_in_loc_cur_\"] = 0\n"
   ]
  },
  {
   "cell_type": "code",
   "execution_count": 9,
   "id": "8aded9b4-98db-4426-97e7-837dc4a38ae5",
   "metadata": {},
   "outputs": [
    {
     "name": "stderr",
     "output_type": "stream",
     "text": [
      "C:\\Users\\syahidhalid\\AppData\\Local\\Temp\\4\\ipykernel_29364\\723044310.py:11: FutureWarning: Downcasting object dtype arrays on .fillna, .ffill, .bfill is deprecated and will change in a future version. Call result.infer_objects(copy=False) instead. To opt-in to the future behavior, set `pd.set_option('future.no_silent_downcasting', True)`\n",
      "  Profit1 = Profit.iloc[np.where(~(Profit.Account.isna()))].fillna(0).groupby(['Account','Type_of_Financing'])[['___Amt_in_loc_cur_','______Amount_in_DC']].sum().reset_index()\n"
     ]
    }
   ],
   "source": [
    "Other_payment_conv1 = Other_payment_conv.iloc[np.where(~(Other_payment_conv.Account.isna()))].fillna(0).groupby(['Account','Type_of_Financing'])[['___Amt_in_loc_cur_','______Amount_in_DC']].sum().reset_index()\n",
    "Other_payment_conv1['___Amt_in_loc_cur_'] = -1*Other_payment_conv1['___Amt_in_loc_cur_']\n",
    "Other_payment_conv1['______Amount_in_DC'] = -1*Other_payment_conv1['______Amount_in_DC']\n",
    "Other_payment_conv1['Account'] = Other_payment_conv1['Account'].astype(int)\n",
    "\n",
    "Other_payment_isl1 = Other_payment_isl.iloc[np.where(~(Other_payment_isl.Account.isna()))].fillna(0).groupby(['Account','Type_of_Financing'])[['___Amt_in_loc_cur_','______Amount_in_DC']].sum().reset_index()\n",
    "Other_payment_isl1['___Amt_in_loc_cur_'] = -1*Other_payment_isl1['___Amt_in_loc_cur_']\n",
    "Other_payment_isl1['______Amount_in_DC'] = -1*Other_payment_isl1['______Amount_in_DC']\n",
    "Other_payment_isl1['Account'] = Other_payment_isl1['Account'].astype(int)\n",
    "\n",
    "Profit1 = Profit.iloc[np.where(~(Profit.Account.isna()))].fillna(0).groupby(['Account','Type_of_Financing'])[['___Amt_in_loc_cur_','______Amount_in_DC']].sum().reset_index()\n",
    "Profit1['___Amt_in_loc_cur_'] = -1*Profit1['___Amt_in_loc_cur_']\n",
    "Profit1['______Amount_in_DC'] = -1*Profit1['______Amount_in_DC']\n",
    "Profit1['Account'] = Profit1['Account'].astype(int)\n",
    "\n",
    "Interest1 = Interest.iloc[np.where(~(Interest.Account.isna()))].fillna(0).groupby(['Account','Type_of_Financing'])[['___Amt_in_loc_cur_','______Amount_in_DC']].sum().reset_index()\n",
    "Interest1['___Amt_in_loc_cur_'] = -1*Interest1['___Amt_in_loc_cur_']\n",
    "Interest1['______Amount_in_DC'] = -1*Interest1['______Amount_in_DC']\n",
    "Interest1['Account'] = Interest1['Account'].astype(int)\n",
    "\n",
    "\n",
    "IIS1 = IIS.iloc[np.where(~(IIS.Account.isna()))].fillna(0).groupby(['Account','Type_of_Financing'])[['___Amt_in_loc_cur_','______Amount_in_DC',\n",
    "\"Ta`widh Payment/Penalty Repayment (Facility Currency)\",\n",
    "\"Ta`widh Payment/Penalty Repayment (MYR)\"]].sum().reset_index()\n",
    "\n",
    "IIS1['___Amt_in_loc_cur_'] = -1*IIS1['___Amt_in_loc_cur_']\n",
    "IIS1['______Amount_in_DC'] = -1*IIS1['______Amount_in_DC']\n",
    "IIS1['Ta`widh Payment/Penalty Repayment (MYR)'] = -1*IIS1['Ta`widh Payment/Penalty Repayment (MYR)']\n",
    "IIS1['Ta`widh Payment/Penalty Repayment (Facility Currency)'] = -1*IIS1['Ta`widh Payment/Penalty Repayment (Facility Currency)']\n",
    "IIS1['Account'] = IIS1['Account'].astype(int)\n",
    "\n",
    "PIS1 = PIS.iloc[np.where(~(PIS.Account.isna()))].fillna(0).groupby(['Account','Type_of_Financing'])[['___Amt_in_loc_cur_','______Amount_in_DC']].sum().reset_index()\n",
    "PIS1['___Amt_in_loc_cur_'] = -1*PIS1['___Amt_in_loc_cur_']\n",
    "PIS1['______Amount_in_DC'] = -1*PIS1['______Amount_in_DC']\n",
    "PIS1['Account'] = PIS1['Account'].astype(int)\n"
   ]
  },
  {
   "cell_type": "code",
   "execution_count": 10,
   "id": "c5f79167-2e92-4963-a276-5d1df054ab4e",
   "metadata": {},
   "outputs": [],
   "source": [
    "Interest1['Ta`widh Payment/Penalty Repayment (MYR)'] = 0\n",
    "Interest1['Ta`widh Payment/Penalty Repayment (Facility Currency)'] = 0\n",
    "Profit1['Ta`widh Payment/Penalty Repayment (MYR)'] = 0\n",
    "Profit1['Ta`widh Payment/Penalty Repayment (Facility Currency)'] = 0\n",
    "PIS1['Ta`widh Payment/Penalty Repayment (MYR)'] = 0\n",
    "PIS1['Ta`widh Payment/Penalty Repayment (Facility Currency)'] = 0\n"
   ]
  },
  {
   "cell_type": "code",
   "execution_count": 11,
   "id": "4080d4e9-26e4-4a88-90b3-d321a55fb4c3",
   "metadata": {},
   "outputs": [
    {
     "name": "stderr",
     "output_type": "stream",
     "text": [
      "C:\\Users\\syahidhalid\\AppData\\Local\\Temp\\4\\ipykernel_29364\\3762621756.py:3: FutureWarning: The behavior of DataFrame concatenation with empty or all-NA entries is deprecated. In a future version, this will no longer exclude empty or all-NA columns when determining the result dtypes. To retain the old behavior, exclude the relevant entries before the concat operation.\n",
      "  merge1 = pd.concat([Interest1,IIS1,Profit1,PIS1]).fillna(0).rename(columns={'___Amt_in_loc_cur_':'Profit_Payment_Interest_Repayment_MYR','______Amount_in_DC':'Profit_Payment_Interest_Repayment_FC'})\n",
      "C:\\Users\\syahidhalid\\AppData\\Local\\Temp\\4\\ipykernel_29364\\3762621756.py:3: FutureWarning: Downcasting object dtype arrays on .fillna, .ffill, .bfill is deprecated and will change in a future version. Call result.infer_objects(copy=False) instead. To opt-in to the future behavior, set `pd.set_option('future.no_silent_downcasting', True)`\n",
      "  merge1 = pd.concat([Interest1,IIS1,Profit1,PIS1]).fillna(0).rename(columns={'___Amt_in_loc_cur_':'Profit_Payment_Interest_Repayment_MYR','______Amount_in_DC':'Profit_Payment_Interest_Repayment_FC'})\n"
     ]
    }
   ],
   "source": [
    "merge = pd.concat([Other_payment_conv1,Other_payment_isl1]).fillna(0).rename(columns={'___Amt_in_loc_cur_':'Other_Charges_Payment_MYR','______Amount_in_DC':'Other_Charges_Payment_FC'})\n",
    "\n",
    "merge1 = pd.concat([Interest1,IIS1,Profit1,PIS1]).fillna(0).rename(columns={'___Amt_in_loc_cur_':'Profit_Payment_Interest_Repayment_MYR','______Amount_in_DC':'Profit_Payment_Interest_Repayment_FC'})\n",
    "\n",
    "#merge2 = pd.concat([]).fillna(0).rename(columns={'___Amt_in_loc_cur_':'Income_Interest_in_Suspense_MYR','______Amount_in_DC':'Income_Interest_in_Suspense_FC'})\n"
   ]
  },
  {
   "cell_type": "code",
   "execution_count": 12,
   "id": "975ba562-17be-43bc-baec-bb8c09781361",
   "metadata": {},
   "outputs": [],
   "source": [
    "#LDB_prev.tail(1)"
   ]
  },
  {
   "cell_type": "code",
   "execution_count": 13,
   "id": "f46be9f0-e221-41b2-a62a-dd11d1bd4494",
   "metadata": {},
   "outputs": [],
   "source": [
    "#LDB_prev['Cumulative Ta`widh Payment/Penalty Repayment  (MYR)'].value_counts()"
   ]
  },
  {
   "cell_type": "code",
   "execution_count": 14,
   "id": "928fdd91-3ab3-4133-9ebc-ce53893fc4f3",
   "metadata": {},
   "outputs": [
    {
     "name": "stderr",
     "output_type": "stream",
     "text": [
      "C:\\Users\\syahidhalid\\AppData\\Local\\Temp\\4\\ipykernel_29364\\2424663408.py:8: FutureWarning: A value is trying to be set on a copy of a DataFrame or Series through chained assignment using an inplace method.\n",
      "The behavior will change in pandas 3.0. This inplace method will never work because the intermediate object on which we are setting values always behaves as a copy.\n",
      "\n",
      "For example, when doing 'df[col].method(value, inplace=True)', try using 'df.method({col: value}, inplace=True)' or df[col] = df[col].method(value) instead, to perform the operation inplace on the original object.\n",
      "\n",
      "\n",
      "  LDB_prev['Cumulative Profit Payment/Interest Repayment (Facility Currency)'].fillna(0,inplace=True)\n",
      "C:\\Users\\syahidhalid\\AppData\\Local\\Temp\\4\\ipykernel_29364\\2424663408.py:9: FutureWarning: A value is trying to be set on a copy of a DataFrame or Series through chained assignment using an inplace method.\n",
      "The behavior will change in pandas 3.0. This inplace method will never work because the intermediate object on which we are setting values always behaves as a copy.\n",
      "\n",
      "For example, when doing 'df[col].method(value, inplace=True)', try using 'df.method({col: value}, inplace=True)' or df[col] = df[col].method(value) instead, to perform the operation inplace on the original object.\n",
      "\n",
      "\n",
      "  LDB_prev['Cumulative Profit Payment/Interest Repayment (MYR)'].fillna(0,inplace=True)\n",
      "C:\\Users\\syahidhalid\\AppData\\Local\\Temp\\4\\ipykernel_29364\\2424663408.py:10: FutureWarning: A value is trying to be set on a copy of a DataFrame or Series through chained assignment using an inplace method.\n",
      "The behavior will change in pandas 3.0. This inplace method will never work because the intermediate object on which we are setting values always behaves as a copy.\n",
      "\n",
      "For example, when doing 'df[col].method(value, inplace=True)', try using 'df.method({col: value}, inplace=True)' or df[col] = df[col].method(value) instead, to perform the operation inplace on the original object.\n",
      "\n",
      "\n",
      "  LDB_prev['Cumulative Ta`widh Payment/Penalty Repayment (Facility Currency)'].fillna(0,inplace=True)\n",
      "C:\\Users\\syahidhalid\\AppData\\Local\\Temp\\4\\ipykernel_29364\\2424663408.py:11: FutureWarning: A value is trying to be set on a copy of a DataFrame or Series through chained assignment using an inplace method.\n",
      "The behavior will change in pandas 3.0. This inplace method will never work because the intermediate object on which we are setting values always behaves as a copy.\n",
      "\n",
      "For example, when doing 'df[col].method(value, inplace=True)', try using 'df.method({col: value}, inplace=True)' or df[col] = df[col].method(value) instead, to perform the operation inplace on the original object.\n",
      "\n",
      "\n",
      "  LDB_prev['Cumulative Ta`widh Payment/Penalty Repayment  (MYR)'].fillna(0,inplace=True)\n",
      "C:\\Users\\syahidhalid\\AppData\\Local\\Temp\\4\\ipykernel_29364\\2424663408.py:12: FutureWarning: A value is trying to be set on a copy of a DataFrame or Series through chained assignment using an inplace method.\n",
      "The behavior will change in pandas 3.0. This inplace method will never work because the intermediate object on which we are setting values always behaves as a copy.\n",
      "\n",
      "For example, when doing 'df[col].method(value, inplace=True)', try using 'df.method({col: value}, inplace=True)' or df[col] = df[col].method(value) instead, to perform the operation inplace on the original object.\n",
      "\n",
      "\n",
      "  LDB_prev['Cumulative Other Charges Payment (Facility Currency)'].fillna(0,inplace=True)\n",
      "C:\\Users\\syahidhalid\\AppData\\Local\\Temp\\4\\ipykernel_29364\\2424663408.py:13: FutureWarning: A value is trying to be set on a copy of a DataFrame or Series through chained assignment using an inplace method.\n",
      "The behavior will change in pandas 3.0. This inplace method will never work because the intermediate object on which we are setting values always behaves as a copy.\n",
      "\n",
      "For example, when doing 'df[col].method(value, inplace=True)', try using 'df.method({col: value}, inplace=True)' or df[col] = df[col].method(value) instead, to perform the operation inplace on the original object.\n",
      "\n",
      "\n",
      "  LDB_prev['Cumulative Other Charges Payment (MYR)'].fillna(0,inplace=True)\n",
      "C:\\Users\\syahidhalid\\AppData\\Local\\Temp\\4\\ipykernel_29364\\2424663408.py:27: FutureWarning: A value is trying to be set on a copy of a DataFrame or Series through chained assignment using an inplace method.\n",
      "The behavior will change in pandas 3.0. This inplace method will never work because the intermediate object on which we are setting values always behaves as a copy.\n",
      "\n",
      "For example, when doing 'df[col].method(value, inplace=True)', try using 'df.method({col: value}, inplace=True)' or df[col] = df[col].method(value) instead, to perform the operation inplace on the original object.\n",
      "\n",
      "\n",
      "  merge_ldb['Other_Charges_Payment_MYR'].fillna(0,inplace=True)\n",
      "C:\\Users\\syahidhalid\\AppData\\Local\\Temp\\4\\ipykernel_29364\\2424663408.py:28: FutureWarning: A value is trying to be set on a copy of a DataFrame or Series through chained assignment using an inplace method.\n",
      "The behavior will change in pandas 3.0. This inplace method will never work because the intermediate object on which we are setting values always behaves as a copy.\n",
      "\n",
      "For example, when doing 'df[col].method(value, inplace=True)', try using 'df.method({col: value}, inplace=True)' or df[col] = df[col].method(value) instead, to perform the operation inplace on the original object.\n",
      "\n",
      "\n",
      "  merge_ldb['Other_Charges_Payment_FC'].fillna(0,inplace=True)\n",
      "C:\\Users\\syahidhalid\\AppData\\Local\\Temp\\4\\ipykernel_29364\\2424663408.py:29: FutureWarning: A value is trying to be set on a copy of a DataFrame or Series through chained assignment using an inplace method.\n",
      "The behavior will change in pandas 3.0. This inplace method will never work because the intermediate object on which we are setting values always behaves as a copy.\n",
      "\n",
      "For example, when doing 'df[col].method(value, inplace=True)', try using 'df.method({col: value}, inplace=True)' or df[col] = df[col].method(value) instead, to perform the operation inplace on the original object.\n",
      "\n",
      "\n",
      "  merge_ldb['Cumulative Other Charges Payment (Facility Currency)'].fillna(0,inplace=True)\n",
      "C:\\Users\\syahidhalid\\AppData\\Local\\Temp\\4\\ipykernel_29364\\2424663408.py:30: FutureWarning: A value is trying to be set on a copy of a DataFrame or Series through chained assignment using an inplace method.\n",
      "The behavior will change in pandas 3.0. This inplace method will never work because the intermediate object on which we are setting values always behaves as a copy.\n",
      "\n",
      "For example, when doing 'df[col].method(value, inplace=True)', try using 'df.method({col: value}, inplace=True)' or df[col] = df[col].method(value) instead, to perform the operation inplace on the original object.\n",
      "\n",
      "\n",
      "  merge_ldb['Cumulative Other Charges Payment (MYR)'].fillna(0,inplace=True)\n",
      "C:\\Users\\syahidhalid\\AppData\\Local\\Temp\\4\\ipykernel_29364\\2424663408.py:32: FutureWarning: A value is trying to be set on a copy of a DataFrame or Series through chained assignment using an inplace method.\n",
      "The behavior will change in pandas 3.0. This inplace method will never work because the intermediate object on which we are setting values always behaves as a copy.\n",
      "\n",
      "For example, when doing 'df[col].method(value, inplace=True)', try using 'df.method({col: value}, inplace=True)' or df[col] = df[col].method(value) instead, to perform the operation inplace on the original object.\n",
      "\n",
      "\n",
      "  merge1_ldb['Profit_Payment_Interest_Repayment_MYR'].fillna(0,inplace=True)\n",
      "C:\\Users\\syahidhalid\\AppData\\Local\\Temp\\4\\ipykernel_29364\\2424663408.py:33: FutureWarning: A value is trying to be set on a copy of a DataFrame or Series through chained assignment using an inplace method.\n",
      "The behavior will change in pandas 3.0. This inplace method will never work because the intermediate object on which we are setting values always behaves as a copy.\n",
      "\n",
      "For example, when doing 'df[col].method(value, inplace=True)', try using 'df.method({col: value}, inplace=True)' or df[col] = df[col].method(value) instead, to perform the operation inplace on the original object.\n",
      "\n",
      "\n",
      "  merge1_ldb['Profit_Payment_Interest_Repayment_FC'].fillna(0,inplace=True)\n",
      "C:\\Users\\syahidhalid\\AppData\\Local\\Temp\\4\\ipykernel_29364\\2424663408.py:34: FutureWarning: A value is trying to be set on a copy of a DataFrame or Series through chained assignment using an inplace method.\n",
      "The behavior will change in pandas 3.0. This inplace method will never work because the intermediate object on which we are setting values always behaves as a copy.\n",
      "\n",
      "For example, when doing 'df[col].method(value, inplace=True)', try using 'df.method({col: value}, inplace=True)' or df[col] = df[col].method(value) instead, to perform the operation inplace on the original object.\n",
      "\n",
      "\n",
      "  merge1_ldb['Ta`widh Payment/Penalty Repayment (MYR)'].fillna(0,inplace=True)\n",
      "C:\\Users\\syahidhalid\\AppData\\Local\\Temp\\4\\ipykernel_29364\\2424663408.py:35: FutureWarning: A value is trying to be set on a copy of a DataFrame or Series through chained assignment using an inplace method.\n",
      "The behavior will change in pandas 3.0. This inplace method will never work because the intermediate object on which we are setting values always behaves as a copy.\n",
      "\n",
      "For example, when doing 'df[col].method(value, inplace=True)', try using 'df.method({col: value}, inplace=True)' or df[col] = df[col].method(value) instead, to perform the operation inplace on the original object.\n",
      "\n",
      "\n",
      "  merge1_ldb['Ta`widh Payment/Penalty Repayment (Facility Currency)'].fillna(0,inplace=True)\n",
      "C:\\Users\\syahidhalid\\AppData\\Local\\Temp\\4\\ipykernel_29364\\2424663408.py:36: FutureWarning: A value is trying to be set on a copy of a DataFrame or Series through chained assignment using an inplace method.\n",
      "The behavior will change in pandas 3.0. This inplace method will never work because the intermediate object on which we are setting values always behaves as a copy.\n",
      "\n",
      "For example, when doing 'df[col].method(value, inplace=True)', try using 'df.method({col: value}, inplace=True)' or df[col] = df[col].method(value) instead, to perform the operation inplace on the original object.\n",
      "\n",
      "\n",
      "  merge1_ldb['Cumulative Profit Payment/Interest Repayment (Facility Currency)'].fillna(0,inplace=True)\n",
      "C:\\Users\\syahidhalid\\AppData\\Local\\Temp\\4\\ipykernel_29364\\2424663408.py:37: FutureWarning: A value is trying to be set on a copy of a DataFrame or Series through chained assignment using an inplace method.\n",
      "The behavior will change in pandas 3.0. This inplace method will never work because the intermediate object on which we are setting values always behaves as a copy.\n",
      "\n",
      "For example, when doing 'df[col].method(value, inplace=True)', try using 'df.method({col: value}, inplace=True)' or df[col] = df[col].method(value) instead, to perform the operation inplace on the original object.\n",
      "\n",
      "\n",
      "  merge1_ldb['Cumulative Profit Payment/Interest Repayment (MYR)'].fillna(0,inplace=True)\n",
      "C:\\Users\\syahidhalid\\AppData\\Local\\Temp\\4\\ipykernel_29364\\2424663408.py:38: FutureWarning: A value is trying to be set on a copy of a DataFrame or Series through chained assignment using an inplace method.\n",
      "The behavior will change in pandas 3.0. This inplace method will never work because the intermediate object on which we are setting values always behaves as a copy.\n",
      "\n",
      "For example, when doing 'df[col].method(value, inplace=True)', try using 'df.method({col: value}, inplace=True)' or df[col] = df[col].method(value) instead, to perform the operation inplace on the original object.\n",
      "\n",
      "\n",
      "  merge1_ldb['Cumulative Ta`widh Payment/Penalty Repayment (Facility Currency)'].fillna(0,inplace=True)\n",
      "C:\\Users\\syahidhalid\\AppData\\Local\\Temp\\4\\ipykernel_29364\\2424663408.py:39: FutureWarning: A value is trying to be set on a copy of a DataFrame or Series through chained assignment using an inplace method.\n",
      "The behavior will change in pandas 3.0. This inplace method will never work because the intermediate object on which we are setting values always behaves as a copy.\n",
      "\n",
      "For example, when doing 'df[col].method(value, inplace=True)', try using 'df.method({col: value}, inplace=True)' or df[col] = df[col].method(value) instead, to perform the operation inplace on the original object.\n",
      "\n",
      "\n",
      "  merge1_ldb['Cumulative Ta`widh Payment/Penalty Repayment  (MYR)'].fillna(0,inplace=True)\n"
     ]
    }
   ],
   "source": [
    "merge['Account'] = merge['Account'].astype(str)\n",
    "merge1['Account'] = merge1['Account'].astype(str)\n",
    "\n",
    "LDB_prev['Finance(SAP) Number'] = LDB_prev['Finance(SAP) Number'].astype(str)\n",
    "\n",
    "LDB_prev.columns = LDB_prev.columns.str.replace(\"\\n\", \"\")\n",
    "\n",
    "LDB_prev['Cumulative Profit Payment/Interest Repayment (Facility Currency)'].fillna(0,inplace=True)\n",
    "LDB_prev['Cumulative Profit Payment/Interest Repayment (MYR)'].fillna(0,inplace=True)\n",
    "LDB_prev['Cumulative Ta`widh Payment/Penalty Repayment (Facility Currency)'].fillna(0,inplace=True)\n",
    "LDB_prev['Cumulative Ta`widh Payment/Penalty Repayment  (MYR)'].fillna(0,inplace=True)\n",
    "LDB_prev['Cumulative Other Charges Payment (Facility Currency)'].fillna(0,inplace=True)\n",
    "LDB_prev['Cumulative Other Charges Payment (MYR)'].fillna(0,inplace=True)\n",
    "\n",
    "merge_ldb = merge.merge(LDB_prev[['Finance(SAP) Number','EXIM Account No.','CIF Number',\n",
    "                                              'Facility Currency',\n",
    "                                              'Cumulative Other Charges Payment (Facility Currency)',\n",
    "                                              'Cumulative Other Charges Payment (MYR)']].drop_duplicates('Finance(SAP) Number',keep='first').rename(columns={'Finance(SAP) Number':'Account'}),on=['Account'],how='outer', suffixes=('_x', ''),indicator=True)\n",
    "\n",
    "merge1_ldb = merge1.merge(LDB_prev[['Finance(SAP) Number','EXIM Account No.','CIF Number',\n",
    "                                              'Facility Currency',\n",
    "                                              'Cumulative Profit Payment/Interest Repayment (Facility Currency)',\n",
    "                                              'Cumulative Profit Payment/Interest Repayment (MYR)',\n",
    "                                              'Cumulative Ta`widh Payment/Penalty Repayment (Facility Currency)',\n",
    "                                              'Cumulative Ta`widh Payment/Penalty Repayment  (MYR)']].drop_duplicates('Finance(SAP) Number',keep='first').rename(columns={'Finance(SAP) Number':'Account'}),on=['Account'],how='outer', suffixes=('_x', ''),indicator=True)\n",
    "\n",
    "merge_ldb['Other_Charges_Payment_MYR'].fillna(0,inplace=True)\n",
    "merge_ldb['Other_Charges_Payment_FC'].fillna(0,inplace=True)\n",
    "merge_ldb['Cumulative Other Charges Payment (Facility Currency)'].fillna(0,inplace=True) \n",
    "merge_ldb['Cumulative Other Charges Payment (MYR)'].fillna(0,inplace=True)\n",
    "\n",
    "merge1_ldb['Profit_Payment_Interest_Repayment_MYR'].fillna(0,inplace=True)\n",
    "merge1_ldb['Profit_Payment_Interest_Repayment_FC'].fillna(0,inplace=True)\n",
    "merge1_ldb['Ta`widh Payment/Penalty Repayment (MYR)'].fillna(0,inplace=True) \n",
    "merge1_ldb['Ta`widh Payment/Penalty Repayment (Facility Currency)'].fillna(0,inplace=True)\n",
    "merge1_ldb['Cumulative Profit Payment/Interest Repayment (Facility Currency)'].fillna(0,inplace=True)\n",
    "merge1_ldb['Cumulative Profit Payment/Interest Repayment (MYR)'].fillna(0,inplace=True)\n",
    "merge1_ldb['Cumulative Ta`widh Payment/Penalty Repayment (Facility Currency)'].fillna(0,inplace=True)\n",
    "merge1_ldb['Cumulative Ta`widh Payment/Penalty Repayment  (MYR)'].fillna(0,inplace=True)\n"
   ]
  },
  {
   "cell_type": "code",
   "execution_count": 15,
   "id": "1895c6eb-4fba-4fc1-8b0a-3aefc3bf30c5",
   "metadata": {},
   "outputs": [],
   "source": [
    "merge_ldb['Cumulative Other Charges Payment (MYR) New'] = merge_ldb['Other_Charges_Payment_MYR'] +  merge_ldb['Cumulative Other Charges Payment (MYR)'] \n",
    "merge_ldb['Cumulative Other Charges Payment (Facility Currency) New'] = merge_ldb['Other_Charges_Payment_FC'] +  merge_ldb['Cumulative Other Charges Payment (Facility Currency)'] \n"
   ]
  },
  {
   "cell_type": "code",
   "execution_count": 16,
   "id": "ecb2ad81-30ed-4e2d-8bdb-f507ff8df8c3",
   "metadata": {},
   "outputs": [],
   "source": [
    "\n",
    "merge1_ldb['Cumulative Profit Payment/Interest Repayment (MYR) New'] = merge1_ldb['Cumulative Profit Payment/Interest Repayment (MYR)'] +  merge1_ldb['Profit_Payment_Interest_Repayment_MYR'] \n",
    "merge1_ldb['Cumulative Profit Payment/Interest Repayment (Facility Currency) New'] = merge1_ldb['Cumulative Profit Payment/Interest Repayment (Facility Currency)'] +  merge1_ldb['Profit_Payment_Interest_Repayment_FC'] \n",
    "merge1_ldb['Cumulative Ta`widh Payment/Penalty Repayment  (MYR) New'] = merge1_ldb['Cumulative Ta`widh Payment/Penalty Repayment  (MYR)'] +  merge1_ldb['Ta`widh Payment/Penalty Repayment (MYR)'] \n",
    "merge1_ldb['Cumulative Ta`widh Payment/Penalty Repayment (Facility Currency) New'] = merge1_ldb['Cumulative Ta`widh Payment/Penalty Repayment (Facility Currency)'] +  merge1_ldb['Ta`widh Payment/Penalty Repayment (Facility Currency)'] \n",
    "\n"
   ]
  },
  {
   "cell_type": "code",
   "execution_count": 17,
   "id": "205fbc59-145c-41f3-8e9c-34605740a8a0",
   "metadata": {},
   "outputs": [],
   "source": [
    "#appendfinal2.sort_values('Disbursement_Drawdown_MYR', ascending=False, inplace=True)"
   ]
  },
  {
   "cell_type": "code",
   "execution_count": 18,
   "id": "bcf29a21-f065-4b0a-ba44-4e42965e981f",
   "metadata": {},
   "outputs": [],
   "source": [
    "merge_ldb = merge_ldb[[ 'CIF Number','EXIM Account No.','Account','Type_of_Financing', \n",
    "       'Facility Currency',\n",
    "       'Other_Charges_Payment_FC', 'Other_Charges_Payment_MYR',\n",
    "       'Cumulative Other Charges Payment (Facility Currency)',\n",
    "       'Cumulative Other Charges Payment (MYR)',\n",
    "       'Cumulative Other Charges Payment (Facility Currency) New',\n",
    "       'Cumulative Other Charges Payment (MYR) New']]"
   ]
  },
  {
   "cell_type": "code",
   "execution_count": 19,
   "id": "849c1331-a98c-4028-9ef3-43ca1e8bfd66",
   "metadata": {},
   "outputs": [],
   "source": [
    "merge1_ldb = merge1_ldb[['CIF Number','EXIM Account No.','Account', 'Type_of_Financing',\n",
    "       'Facility Currency',\n",
    "       'Profit_Payment_Interest_Repayment_FC',\n",
    "       'Profit_Payment_Interest_Repayment_MYR',\n",
    "       'Cumulative Profit Payment/Interest Repayment (Facility Currency)',\n",
    "       'Cumulative Profit Payment/Interest Repayment (MYR)',\n",
    "       'Cumulative Profit Payment/Interest Repayment (Facility Currency) New',\n",
    "       'Cumulative Profit Payment/Interest Repayment (MYR) New',\n",
    "       'Ta`widh Payment/Penalty Repayment (Facility Currency)',\n",
    "       'Ta`widh Payment/Penalty Repayment (MYR)',\n",
    "       'Cumulative Ta`widh Payment/Penalty Repayment (Facility Currency)',\n",
    "       'Cumulative Ta`widh Payment/Penalty Repayment  (MYR)', \n",
    "       'Cumulative Ta`widh Payment/Penalty Repayment (Facility Currency) New',\n",
    "       'Cumulative Ta`widh Payment/Penalty Repayment  (MYR) New']]"
   ]
  },
  {
   "cell_type": "code",
   "execution_count": 20,
   "id": "60c1c3a7-2f78-4bd2-8b22-c5a9594ed48c",
   "metadata": {
    "scrolled": true
   },
   "outputs": [],
   "source": [
    "writer2 = pd.ExcelWriter(r'C:\\Users\\syahidhalid\\Syahid_PC\\Analytics - FAD\\00. Automation LDB\\Data Source\\202408\\Working\\\\05. Data Mirror '+str(File[-8:])+' (python).xlsx',engine='xlsxwriter')\n",
    "\n",
    "merge_ldb.to_excel(writer2, sheet_name='Other_Charges_Payment', index = False)\n",
    "merge1_ldb.to_excel(writer2, sheet_name='Profit_Payment', index = False)\n",
    "#merge2.to_excel(writer2, sheet_name='Income in Suspense', index = False)\n",
    "\n",
    "writer2._save()"
   ]
  },
  {
   "cell_type": "code",
   "execution_count": null,
   "id": "fd34d33b-9dac-42f8-bfa9-8f20b59b98cf",
   "metadata": {},
   "outputs": [],
   "source": [
    "#merge1.Account.value_counts()"
   ]
  },
  {
   "cell_type": "code",
   "execution_count": 26,
   "id": "f8720a8d-2f59-4845-8d80-d57e0cdda2e6",
   "metadata": {},
   "outputs": [
    {
     "data": {
      "text/plain": [
       "'Data Mirror August 2024'"
      ]
     },
     "execution_count": 26,
     "metadata": {},
     "output_type": "execute_result"
    }
   ],
   "source": [
    "File"
   ]
  },
  {
   "cell_type": "code",
   "execution_count": null,
   "id": "ebcfcf85-11dc-442c-b5e7-50c1e361eff9",
   "metadata": {},
   "outputs": [],
   "source": []
  },
  {
   "cell_type": "code",
   "execution_count": null,
   "id": "1c03ac0c-d776-487e-ba35-9927025f618a",
   "metadata": {},
   "outputs": [],
   "source": []
  },
  {
   "cell_type": "code",
   "execution_count": null,
   "id": "b87fb8be-2c89-4f2a-b20d-98aa1f0bdc9c",
   "metadata": {},
   "outputs": [],
   "source": [
    "str(Location)+'\\\\05. Data Mirror '+str(File[-8:])+' (python).xlsx'"
   ]
  },
  {
   "cell_type": "code",
   "execution_count": 16,
   "id": "32f6c4d4-c8a6-4b58-bce8-2dc34f789da7",
   "metadata": {},
   "outputs": [
    {
     "name": "stdout",
     "output_type": "stream",
     "text": [
      "73047.46\n",
      "17110.41\n"
     ]
    }
   ],
   "source": [
    "print(sum(merge.Other_Charges_Payment_MYR))\n",
    "print(sum(merge.Other_Charges_Payment_FC))\n"
   ]
  },
  {
   "cell_type": "code",
   "execution_count": 17,
   "id": "2ba4831f-e511-4570-b967-252d463ac10d",
   "metadata": {},
   "outputs": [
    {
     "name": "stdout",
     "output_type": "stream",
     "text": [
      "0\n",
      "0\n"
     ]
    }
   ],
   "source": [
    "print(sum(Other_payment_conv1.___Amt_in_loc_cur_))\n",
    "print(sum(Other_payment_conv1.______Amount_in_DC))\n"
   ]
  },
  {
   "cell_type": "code",
   "execution_count": 18,
   "id": "deef09c7-ca66-4d83-ae35-59a03f6670f5",
   "metadata": {},
   "outputs": [
    {
     "name": "stdout",
     "output_type": "stream",
     "text": [
      "73047.46\n",
      "17110.41\n"
     ]
    }
   ],
   "source": [
    "print(sum(Other_payment_isl1.___Amt_in_loc_cur_))\n",
    "print(sum(Other_payment_isl1.______Amount_in_DC))\n"
   ]
  },
  {
   "cell_type": "code",
   "execution_count": 19,
   "id": "133b3306-ec4c-4b5d-b267-57144975cd85",
   "metadata": {},
   "outputs": [
    {
     "name": "stdout",
     "output_type": "stream",
     "text": [
      "8582054.92\n",
      "4601231.83\n"
     ]
    }
   ],
   "source": [
    "print(sum(Profit1.___Amt_in_loc_cur_))\n",
    "print(sum(Profit1.______Amount_in_DC))\n"
   ]
  },
  {
   "cell_type": "code",
   "execution_count": null,
   "id": "6c9a5736-54cc-411c-9097-00193474052c",
   "metadata": {},
   "outputs": [],
   "source": []
  },
  {
   "cell_type": "code",
   "execution_count": null,
   "id": "162dc259-5ca1-459f-932f-788353b6ad02",
   "metadata": {},
   "outputs": [],
   "source": []
  }
 ],
 "metadata": {
  "kernelspec": {
   "display_name": "Python 3 (ipykernel)",
   "language": "python",
   "name": "python3"
  },
  "language_info": {
   "codemirror_mode": {
    "name": "ipython",
    "version": 3
   },
   "file_extension": ".py",
   "mimetype": "text/x-python",
   "name": "python",
   "nbconvert_exporter": "python",
   "pygments_lexer": "ipython3",
   "version": "3.11.7"
  }
 },
 "nbformat": 4,
 "nbformat_minor": 5
}
