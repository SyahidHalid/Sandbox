{
 "cells": [
  {
   "cell_type": "markdown",
   "id": "59ef6488-161a-4994-84c1-db27d75c92b4",
   "metadata": {},
   "source": [
    "# Load"
   ]
  },
  {
   "cell_type": "code",
   "execution_count": 2,
   "id": "6de917b6-87bb-4ecb-aa65-781063a1bc49",
   "metadata": {},
   "outputs": [],
   "source": [
    "date_file = 202408\n",
    "prev_file = \"Jul\"\n",
    "\n",
    "#control + F + dropdown new to search bar to find and replace \n",
    "import pandas as pd\n",
    "import numpy as np\n",
    "import xlsxwriter\n",
    "\n",
    "#warnings.filterwarnings('ignore')\n",
    "pd.set_option(\"display.max_columns\", None) \n",
    "pd.set_option(\"display.max_colwidth\", 1000) #huruf dlm column\n",
    "pd.set_option(\"display.max_rows\", 100)\n",
    "pd.set_option(\"display.precision\", 2) #2 titik perpuluhan\n",
    "\n",
    "Location = r\"C:\\Users\\syahidhalid\\Syahid_PC\\Analytics - FAD\\00. Automation LDB\\Data Source\\202408\\Non Trade\"\n",
    "\n",
    "NT = \"07. ECL Computation Client Template Aug-24 (Regular)\"\n",
    "\n",
    "NT1 = pd.read_excel(str(Location)+\"\\\\\"+str(NT)+\".xlsm\", sheet_name='Active', header=6)\n",
    "\n",
    "LDB_prev = pd.read_excel(r\"C:\\Users\\syahidhalid\\Syahid_PC\\Analytics - FAD\\00. Automation LDB\\Data Source\\\\\"+str(date_file-1)+\"\\\\Loan Database as \"+str(prev_file)+\" \"+str(date_file)[:4]+\" (python) - Final.xlsx\", sheet_name='Export Worksheet', header=1) # skiprows = 2, nrows=18,  usecols= 'A:D'\n",
    "\n",
    "MRate = pd.read_excel(r\"C:\\Users\\syahidhalid\\Syahid_PC\\Analytics - FAD\\00. Automation LDB\\Data Source\\\\\"+str(date_file)+\"\\\\Working\\\\00. Month End Rate.xlsx\",sheet_name=\"Sheet1\", header=2) # skiprows = 2, nrows=18,  usecols= 'A:D'\n"
   ]
  },
  {
   "cell_type": "markdown",
   "id": "27659140-b1b6-41f8-a380-0c9c871ab2f1",
   "metadata": {},
   "source": [
    "# Process"
   ]
  },
  {
   "cell_type": "code",
   "execution_count": 3,
   "id": "59d114c9-7244-4d3d-add0-c7de5e8080a6",
   "metadata": {},
   "outputs": [],
   "source": [
    "#NT1.head(1)"
   ]
  },
  {
   "cell_type": "code",
   "execution_count": 3,
   "id": "79f0e8dd-6c9d-4049-9251-775c5ce19874",
   "metadata": {
    "scrolled": true
   },
   "outputs": [],
   "source": [
    "NT1.columns = NT1.columns.str.strip()\n",
    "NT1['Finance (SAP) Number'] = NT1['Finance (SAP) Number'].astype(str)\n",
    "\n",
    "LDB_prev.columns = LDB_prev.columns.str.strip()\n",
    "LDB_prev.iloc[np.where(LDB_prev['EXIM Account No.']!=\"Total\")]\n",
    "LDB_prev['Finance(SAP) Number'] = LDB_prev['Finance(SAP) Number'].astype(str)\n",
    "\n",
    "NT1.columns = NT1.columns.str.strip()\n",
    "LDB_prev['Finance(SAP) Number'] = LDB_prev['Finance(SAP) Number'].astype(str)\n",
    "\n",
    "NT2 = NT1[['Finance (SAP) Number','Borrower name','Undrawn amount (base currency)','Profit Rate/ EIR','Currency',\n",
    "          'First Released Date','Maturity date','Availability period','DPD','Principal payment frequency','Interest payment frequency']].rename(columns={'Finance (SAP) Number':'Finance(SAP) Number'})\n",
    "\n",
    "merge = NT2.merge(LDB_prev[['CIF Number','EXIM Account No.','Finance(SAP) Number']], on='Finance(SAP) Number', how='left')\n",
    "\n",
    "merge1 = merge.merge(MRate[['Month','Curr']].rename(columns={'Month':'Currency'}), on='Currency', how='left')\n",
    "\n",
    "merge1['Unutilised/ Undrawn Amount (MYR)'] = merge1['Undrawn amount (base currency)']*merge1['Curr']\n",
    "merge1['Profit Rate/ EIR'] = merge1['Profit Rate/ EIR']*100\n",
    "\n",
    "merge1 = merge1.rename(columns={'Undrawn amount (base currency)':'Unutilised/ Undrawn Amount (Facility Currency)',\n",
    "                               'Profit Rate/ EIR':'Average Profit/Interest Rate'})\n"
   ]
  },
  {
   "cell_type": "code",
   "execution_count": 4,
   "id": "77052eb7-cb4b-4069-9646-6ddd3cd5fd44",
   "metadata": {},
   "outputs": [],
   "source": [
    "merge1 = merge1[[ 'CIF Number','EXIM Account No.','Finance(SAP) Number', 'Borrower name', 'Currency', 'Curr',\n",
    "       'Unutilised/ Undrawn Amount (Facility Currency)', 'Unutilised/ Undrawn Amount (MYR)',\n",
    "       'Average Profit/Interest Rate',\n",
    "          'First Released Date','Maturity date','Availability period','DPD','Principal payment frequency','Interest payment frequency']]"
   ]
  },
  {
   "cell_type": "code",
   "execution_count": 5,
   "id": "ac020595-a03d-4ce7-b2e0-098a348634d1",
   "metadata": {},
   "outputs": [],
   "source": [
    "#merge1.head(1)"
   ]
  },
  {
   "cell_type": "code",
   "execution_count": 6,
   "id": "52d76b30-69d4-4e32-ba09-3001aa00ecff",
   "metadata": {},
   "outputs": [
    {
     "data": {
      "text/plain": [
       "CIF Number                                                object\n",
       "EXIM Account No.                                          object\n",
       "Finance(SAP) Number                                       object\n",
       "Borrower name                                             object\n",
       "Currency                                                  object\n",
       "Curr                                                     float64\n",
       "Unutilised/ Undrawn Amount (Facility Currency)           float64\n",
       "Unutilised/ Undrawn Amount (MYR)                         float64\n",
       "Average Profit/Interest Rate                             float64\n",
       "First Released Date                               datetime64[ns]\n",
       "Maturity date                                     datetime64[ns]\n",
       "Availability period                               datetime64[ns]\n",
       "DPD                                                        int64\n",
       "Principal payment frequency                               object\n",
       "Interest payment frequency                                object\n",
       "dtype: object"
      ]
     },
     "execution_count": 6,
     "metadata": {},
     "output_type": "execute_result"
    }
   ],
   "source": [
    "merge1.dtypes"
   ]
  },
  {
   "cell_type": "code",
   "execution_count": 7,
   "id": "2aafb7f9-5be0-4a09-afc2-946741fe0d5a",
   "metadata": {},
   "outputs": [],
   "source": [
    "#merge1.to_excel(str(Location)+\"\\\\07. Undrawn Non Trade \"+str(NT[-17:-10])+\".xlsx\", sheet_name='Export Worksheet', index=False)\n",
    "merge1.to_excel(r\"C:\\Users\\syahidhalid\\Syahid_PC\\Analytics - FAD\\\\00. Automation LDB\\Data Source\\\\202408\\Working\\\\07. Undrawn Non Trade \"+str(NT[-17:-10])+\".xlsx\", sheet_name='Export Worksheet', index=False)\n"
   ]
  },
  {
   "cell_type": "code",
   "execution_count": null,
   "id": "615c4715-556d-497e-b187-4d344a6b0e35",
   "metadata": {},
   "outputs": [],
   "source": []
  },
  {
   "cell_type": "code",
   "execution_count": null,
   "id": "643581d7-2c9c-440f-9471-3a283eba1025",
   "metadata": {},
   "outputs": [],
   "source": []
  },
  {
   "cell_type": "code",
   "execution_count": 8,
   "id": "10b90a8a-4702-47c4-9d1c-626bfc125c3b",
   "metadata": {},
   "outputs": [
    {
     "data": {
      "text/plain": [
       "' Aug-24'"
      ]
     },
     "execution_count": 8,
     "metadata": {},
     "output_type": "execute_result"
    }
   ],
   "source": [
    "NT[-17:-10] #= \"05. ECL Computation Client Template June-24 (Regular)\""
   ]
  },
  {
   "cell_type": "code",
   "execution_count": 12,
   "id": "326ca018-d08e-4b1b-87f2-e399b2ad5248",
   "metadata": {
    "scrolled": true
   },
   "outputs": [
    {
     "data": {
      "text/plain": [
       "'C:\\\\Users\\\\syahidhalid\\\\Syahid_PC\\\\Analytics - FAD\\\\00. Automation LDB\\\\Data Source\\\\202406\\\\Non Trade\\\\ECL Computation - June 2024 (NTFU)\\\\07. Undrawn Non Trade June-24.xlsx'"
      ]
     },
     "execution_count": 12,
     "metadata": {},
     "output_type": "execute_result"
    }
   ],
   "source": [
    "#merge1['Finance(SAP) Number'].value_counts()\n",
    "str(Location)+\"\\\\07. Undrawn Non Trade \"+str(NT[-17:-10])+\".xlsx\""
   ]
  },
  {
   "cell_type": "code",
   "execution_count": null,
   "id": "f45b022c-2cc1-436c-84a4-09658c300c3d",
   "metadata": {},
   "outputs": [],
   "source": []
  },
  {
   "cell_type": "code",
   "execution_count": null,
   "id": "30939143-5131-4e7d-8d1b-fdd3d6208fc4",
   "metadata": {},
   "outputs": [],
   "source": []
  }
 ],
 "metadata": {
  "kernelspec": {
   "display_name": "Python 3 (ipykernel)",
   "language": "python",
   "name": "python3"
  },
  "language_info": {
   "codemirror_mode": {
    "name": "ipython",
    "version": 3
   },
   "file_extension": ".py",
   "mimetype": "text/x-python",
   "name": "python",
   "nbconvert_exporter": "python",
   "pygments_lexer": "ipython3",
   "version": "3.11.7"
  }
 },
 "nbformat": 4,
 "nbformat_minor": 5
}
