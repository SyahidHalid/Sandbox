{
 "cells": [
  {
   "cell_type": "code",
   "execution_count": 3,
   "id": "f277158e-6bec-4a15-8888-e0af3d1a8a72",
   "metadata": {},
   "outputs": [],
   "source": [
    "Year = 202408\n",
    "File = \"Disbursement & Repayment August 2024\"\n",
    "Location = r\"C:\\Users\\syahidhalid\\Syahid_PC\\Analytics - FAD\\00. Automation LDB\\Data Source\\\\\"+str(Year)+\"\\\\Finance\"\n",
    "\n",
    "#control + F + dropdown new to search bar to find and replace \n",
    "import pandas as pd\n",
    "import numpy as np\n",
    "import xlsxwriter\n",
    "\n",
    "#warnings.filterwarnings('ignore')\n",
    "pd.set_option(\"display.max_columns\", None) \n",
    "pd.set_option(\"display.max_colwidth\", 1000) #huruf dlm column\n",
    "pd.set_option(\"display.max_rows\", 100)\n",
    "pd.set_option(\"display.precision\", 2) #2 titik perpuluhan\n",
    "\n",
    "Dis_isl = pd.read_excel(str(Location)+\"\\\\\"+str(File)+\".xlsx\", sheet_name='Disbursement Islamic Aug24', header=8) # skiprows = 2, nrows=18,  usecols= 'A:D'\n",
    "Rep_Isl = pd.read_excel(str(Location)+\"\\\\\"+str(File)+\".xlsx\", sheet_name='Repayment Islamic Aug24', header=8) # skiprows = 2, nrows=18,  usecols= 'A:D'\n",
    "Dis_Conv = pd.read_excel(str(Location)+\"\\\\\"+str(File)+\".xlsx\", sheet_name='Disbursement Conv Aug24', header=8) # skiprows = 2, nrows=18,  usecols= 'A:D'\n",
    "Rep_Conv = pd.read_excel(str(Location)+\"\\\\\"+str(File)+\".xlsx\", sheet_name='Repayment Conv Aug24', header=8) # skiprows = 2, nrows=18,  usecols= 'A:D'\n",
    "\n",
    "\n",
    "#repayment is Cost Payment/Principal Repayment (Facility Currency)\n",
    "#+ve kn amount\n",
    "\n",
    "#disbursement is Disbursement/Drawdown (Facility Currency)\n",
    "\n",
    "LDB_prev = pd.read_excel(r\"C:\\Users\\syahidhalid\\Syahid_PC\\Analytics - FAD\\00. Automation LDB\\Data Source\\\\\"+str(Year-1)+\"\\\\Loan Database as Jul 2024 (python) - Final.xlsx\", sheet_name='Export Worksheet', header=1) # skiprows = 2, nrows=18,  usecols= 'A:D'\n"
   ]
  },
  {
   "cell_type": "code",
   "execution_count": 4,
   "id": "6338b08a-051e-4d72-93a0-86ca4c047aa5",
   "metadata": {},
   "outputs": [],
   "source": [
    "Dis_isl.columns = Dis_isl.columns.str.replace(\"\\n\", \"_\")\n",
    "Dis_isl.columns = Dis_isl.columns.str.replace(\" \", \"\")\n",
    "\n",
    "Rep_Isl.columns = Rep_Isl.columns.str.replace(\"\\n\", \"_\")\n",
    "Rep_Isl.columns = Rep_Isl.columns.str.replace(\" \", \"\")\n",
    "\n",
    "Dis_Conv.columns = Dis_Conv.columns.str.replace(\"\\n\", \"_\")\n",
    "Dis_Conv.columns = Dis_Conv.columns.str.replace(\" \", \"\")\n",
    "\n",
    "Rep_Conv.columns = Rep_Conv.columns.str.replace(\"\\n\", \"_\")\n",
    "Rep_Conv.columns = Rep_Conv.columns.str.replace(\" \", \"\")\n"
   ]
  },
  {
   "cell_type": "code",
   "execution_count": null,
   "id": "442962d3-f31b-4f8a-b874-c5e5a85788b4",
   "metadata": {},
   "outputs": [],
   "source": []
  },
  {
   "cell_type": "code",
   "execution_count": 5,
   "id": "064ad8bc-76f8-42c9-8b42-219da3e7a810",
   "metadata": {
    "scrolled": true
   },
   "outputs": [
    {
     "name": "stderr",
     "output_type": "stream",
     "text": [
      "C:\\Users\\syahidhalid\\AppData\\Local\\Temp\\4\\ipykernel_6924\\634631472.py:1: FutureWarning: Downcasting object dtype arrays on .fillna, .ffill, .bfill is deprecated and will change in a future version. Call result.infer_objects(copy=False) instead. To opt-in to the future behavior, set `pd.set_option('future.no_silent_downcasting', True)`\n",
      "  Dis_isl_1 = Dis_isl.iloc[np.where((Dis_isl['Unnamed:1']==\"**\")&(~Dis_isl.Account.isin(['Account']))&~(Dis_isl.Account.isna()))].fillna(0).groupby(['Account','Curr.'])[['Amtinloc.cur.','AmountinDC']].sum().reset_index()\n",
      "C:\\Users\\syahidhalid\\AppData\\Local\\Temp\\4\\ipykernel_6924\\634631472.py:2: FutureWarning: Downcasting object dtype arrays on .fillna, .ffill, .bfill is deprecated and will change in a future version. Call result.infer_objects(copy=False) instead. To opt-in to the future behavior, set `pd.set_option('future.no_silent_downcasting', True)`\n",
      "  Rep_Isl_1 = Rep_Isl.iloc[np.where((Rep_Isl['Unnamed:1']==\"**\")&(~Rep_Isl.Account.isin(['Account']))&~(Rep_Isl.Account.isna()))].fillna(0).groupby(['Account','Curr.'])[['Amtinloc.cur.','AmountinDC']].sum().reset_index()\n",
      "C:\\Users\\syahidhalid\\AppData\\Local\\Temp\\4\\ipykernel_6924\\634631472.py:3: FutureWarning: Downcasting object dtype arrays on .fillna, .ffill, .bfill is deprecated and will change in a future version. Call result.infer_objects(copy=False) instead. To opt-in to the future behavior, set `pd.set_option('future.no_silent_downcasting', True)`\n",
      "  Dis_Conv_1 = Dis_Conv.iloc[np.where((Dis_Conv['Unnamed:1']==\"**\")&(~Dis_Conv.Account.isin(['Account']))&~(Dis_Conv.Account.isna()))].fillna(0).groupby(['Account','Curr.'])[['Amtinloc.cur.','AmountinDC']].sum().reset_index()\n",
      "C:\\Users\\syahidhalid\\AppData\\Local\\Temp\\4\\ipykernel_6924\\634631472.py:4: FutureWarning: Downcasting object dtype arrays on .fillna, .ffill, .bfill is deprecated and will change in a future version. Call result.infer_objects(copy=False) instead. To opt-in to the future behavior, set `pd.set_option('future.no_silent_downcasting', True)`\n",
      "  Rep_Conv_1 = Rep_Conv.iloc[np.where((Rep_Conv['Unnamed:1']==\"**\")&(~Rep_Conv.Account.isin(['Account']))&~(Rep_Conv.Account.isna()))].fillna(0).groupby(['Account','Curr.'])[['Amtinloc.cur.','AmountinDC']].sum().reset_index()\n"
     ]
    }
   ],
   "source": [
    "Dis_isl_1 = Dis_isl.iloc[np.where((Dis_isl['Unnamed:1']==\"**\")&(~Dis_isl.Account.isin(['Account']))&~(Dis_isl.Account.isna()))].fillna(0).groupby(['Account','Curr.'])[['Amtinloc.cur.','AmountinDC']].sum().reset_index()\n",
    "Rep_Isl_1 = Rep_Isl.iloc[np.where((Rep_Isl['Unnamed:1']==\"**\")&(~Rep_Isl.Account.isin(['Account']))&~(Rep_Isl.Account.isna()))].fillna(0).groupby(['Account','Curr.'])[['Amtinloc.cur.','AmountinDC']].sum().reset_index()\n",
    "Dis_Conv_1 = Dis_Conv.iloc[np.where((Dis_Conv['Unnamed:1']==\"**\")&(~Dis_Conv.Account.isin(['Account']))&~(Dis_Conv.Account.isna()))].fillna(0).groupby(['Account','Curr.'])[['Amtinloc.cur.','AmountinDC']].sum().reset_index()\n",
    "Rep_Conv_1 = Rep_Conv.iloc[np.where((Rep_Conv['Unnamed:1']==\"**\")&(~Rep_Conv.Account.isin(['Account']))&~(Rep_Conv.Account.isna()))].fillna(0).groupby(['Account','Curr.'])[['Amtinloc.cur.','AmountinDC']].sum().reset_index()\n",
    "\n",
    "Dis_isl_1['Type_of_Financing'] = 'Islamic'\n",
    "Rep_Isl_1['Type_of_Financing'] = 'Islamic'\n",
    "Dis_Conv_1['Type_of_Financing'] = 'Conventional'\n",
    "Rep_Conv_1['Type_of_Financing'] = 'Conventional'\n",
    "\n",
    "Disbursement = pd.concat([Dis_isl_1,Dis_Conv_1])\n",
    "Repayment = pd.concat([Rep_Isl_1,Rep_Conv_1])\n",
    "\n",
    "Disbursement.rename(columns={'AmountinDC': 'Disbursement_Drawdown_Facility_Currency',\n",
    "                             'Amtinloc.cur.':'Disbursement_Drawdown_MYR'},inplace=True)\n",
    "\n",
    "Repayment.rename(columns={'AmountinDC': 'Cost_Payment_Principal_Repayment_Facility_Currency',\n",
    "                          'Amtinloc.cur.':'Cost_Payment_Principal_Repayment_MYR'},inplace=True)\n",
    "\n",
    "Repayment['Cost_Payment_Principal_Repayment_Facility_Currency'] = -1*Repayment['Cost_Payment_Principal_Repayment_Facility_Currency']\n",
    "Repayment['Cost_Payment_Principal_Repayment_MYR'] = -1*Repayment['Cost_Payment_Principal_Repayment_MYR']\n",
    "\n",
    "merge = Disbursement.fillna(0).merge(Repayment.fillna(0),on=['Account','Curr.','Type_of_Financing'],how='outer')\n",
    "merge.fillna(0, inplace=True)"
   ]
  },
  {
   "cell_type": "code",
   "execution_count": 7,
   "id": "dba22f73-9a7c-4eae-a24a-fdfb15a5028e",
   "metadata": {},
   "outputs": [
    {
     "data": {
      "text/plain": [
       "127525201.88"
      ]
     },
     "execution_count": 7,
     "metadata": {},
     "output_type": "execute_result"
    }
   ],
   "source": [
    "sum(Dis_isl_1['Amtinloc.cur.'])"
   ]
  },
  {
   "cell_type": "code",
   "execution_count": 5,
   "id": "0ffba8e3-619c-4975-8a80-b889f237fe12",
   "metadata": {},
   "outputs": [],
   "source": [
    "#Dis_isl_1.iloc[np.where(Dis_isl_1['Amtinloc.cur.']"
   ]
  },
  {
   "cell_type": "code",
   "execution_count": 6,
   "id": "ede010d6-d3e0-47e2-ada0-73d812a1dab3",
   "metadata": {},
   "outputs": [],
   "source": [
    "#Dis_isl['Unnamed:1'].value_counts()"
   ]
  },
  {
   "cell_type": "code",
   "execution_count": 8,
   "id": "1619093b-f68d-46b1-855f-1c6eb4753a71",
   "metadata": {},
   "outputs": [
    {
     "name": "stdout",
     "output_type": "stream",
     "text": [
      "146014989.63\n",
      "77249380.21000001\n",
      "314584280.3699999\n",
      "250909708.84000006\n"
     ]
    }
   ],
   "source": [
    "print(sum(merge.Disbursement_Drawdown_MYR))\n",
    "print(sum(merge.Disbursement_Drawdown_Facility_Currency))\n",
    "print(sum(merge.Cost_Payment_Principal_Repayment_MYR))\n",
    "print(sum(merge.Cost_Payment_Principal_Repayment_Facility_Currency))"
   ]
  },
  {
   "cell_type": "code",
   "execution_count": 8,
   "id": "bc723a6e-6cad-48ae-a6a6-2422a9c7499a",
   "metadata": {},
   "outputs": [],
   "source": [
    "#merge.head(1)"
   ]
  },
  {
   "cell_type": "code",
   "execution_count": 9,
   "id": "8fe7d559-44b0-4b4d-8b98-325d26728982",
   "metadata": {},
   "outputs": [],
   "source": [
    "#merge._merge.value_counts()"
   ]
  },
  {
   "cell_type": "code",
   "execution_count": 10,
   "id": "b470e21f-a0c8-48ac-aafa-b8b3dc913cf4",
   "metadata": {},
   "outputs": [],
   "source": [
    "#merge.iloc[np.where(merge.Account==501015)]"
   ]
  },
  {
   "cell_type": "code",
   "execution_count": 11,
   "id": "9c2d4df2-191e-4bb0-ae91-f554434511ea",
   "metadata": {},
   "outputs": [],
   "source": [
    "#merge.head(1)"
   ]
  },
  {
   "cell_type": "code",
   "execution_count": 12,
   "id": "5fc39240-e67e-44ed-b117-3855e0ff2e93",
   "metadata": {},
   "outputs": [],
   "source": [
    "#appendfinal_ldb.tail(1)"
   ]
  },
  {
   "cell_type": "code",
   "execution_count": 9,
   "id": "5bd7a699-ff6d-4f77-9bc5-d13b496d44f1",
   "metadata": {
    "scrolled": true
   },
   "outputs": [
    {
     "name": "stderr",
     "output_type": "stream",
     "text": [
      "C:\\Users\\syahidhalid\\AppData\\Local\\Temp\\4\\ipykernel_6924\\3041795907.py:8: FutureWarning: A value is trying to be set on a copy of a DataFrame or Series through chained assignment using an inplace method.\n",
      "The behavior will change in pandas 3.0. This inplace method will never work because the intermediate object on which we are setting values always behaves as a copy.\n",
      "\n",
      "For example, when doing 'df[col].method(value, inplace=True)', try using 'df.method({col: value}, inplace=True)' or df[col] = df[col].method(value) instead, to perform the operation inplace on the original object.\n",
      "\n",
      "\n",
      "  LDB_prev['Cumulative Disbursement/Drawdown (Facility Currency)'].fillna(0,inplace=True)\n",
      "C:\\Users\\syahidhalid\\AppData\\Local\\Temp\\4\\ipykernel_6924\\3041795907.py:9: FutureWarning: A value is trying to be set on a copy of a DataFrame or Series through chained assignment using an inplace method.\n",
      "The behavior will change in pandas 3.0. This inplace method will never work because the intermediate object on which we are setting values always behaves as a copy.\n",
      "\n",
      "For example, when doing 'df[col].method(value, inplace=True)', try using 'df.method({col: value}, inplace=True)' or df[col] = df[col].method(value) instead, to perform the operation inplace on the original object.\n",
      "\n",
      "\n",
      "  LDB_prev['Cumulative Disbursement/Drawdown (MYR)'].fillna(0,inplace=True)\n",
      "C:\\Users\\syahidhalid\\AppData\\Local\\Temp\\4\\ipykernel_6924\\3041795907.py:10: FutureWarning: A value is trying to be set on a copy of a DataFrame or Series through chained assignment using an inplace method.\n",
      "The behavior will change in pandas 3.0. This inplace method will never work because the intermediate object on which we are setting values always behaves as a copy.\n",
      "\n",
      "For example, when doing 'df[col].method(value, inplace=True)', try using 'df.method({col: value}, inplace=True)' or df[col] = df[col].method(value) instead, to perform the operation inplace on the original object.\n",
      "\n",
      "\n",
      "  LDB_prev['Cumulative Cost Payment/Principal Repayment (Facility Currency)'].fillna(0,inplace=True)\n",
      "C:\\Users\\syahidhalid\\AppData\\Local\\Temp\\4\\ipykernel_6924\\3041795907.py:11: FutureWarning: A value is trying to be set on a copy of a DataFrame or Series through chained assignment using an inplace method.\n",
      "The behavior will change in pandas 3.0. This inplace method will never work because the intermediate object on which we are setting values always behaves as a copy.\n",
      "\n",
      "For example, when doing 'df[col].method(value, inplace=True)', try using 'df.method({col: value}, inplace=True)' or df[col] = df[col].method(value) instead, to perform the operation inplace on the original object.\n",
      "\n",
      "\n",
      "  LDB_prev['Cumulative Cost Payment/Principal Repayment (MYR)'].fillna(0,inplace=True)\n",
      "C:\\Users\\syahidhalid\\AppData\\Local\\Temp\\4\\ipykernel_6924\\3041795907.py:20: FutureWarning: A value is trying to be set on a copy of a DataFrame or Series through chained assignment using an inplace method.\n",
      "The behavior will change in pandas 3.0. This inplace method will never work because the intermediate object on which we are setting values always behaves as a copy.\n",
      "\n",
      "For example, when doing 'df[col].method(value, inplace=True)', try using 'df.method({col: value}, inplace=True)' or df[col] = df[col].method(value) instead, to perform the operation inplace on the original object.\n",
      "\n",
      "\n",
      "  appendfinal_ldb['Disbursement_Drawdown_Facility_Currency'].fillna(0,inplace=True)\n",
      "C:\\Users\\syahidhalid\\AppData\\Local\\Temp\\4\\ipykernel_6924\\3041795907.py:21: FutureWarning: A value is trying to be set on a copy of a DataFrame or Series through chained assignment using an inplace method.\n",
      "The behavior will change in pandas 3.0. This inplace method will never work because the intermediate object on which we are setting values always behaves as a copy.\n",
      "\n",
      "For example, when doing 'df[col].method(value, inplace=True)', try using 'df.method({col: value}, inplace=True)' or df[col] = df[col].method(value) instead, to perform the operation inplace on the original object.\n",
      "\n",
      "\n",
      "  appendfinal_ldb['Disbursement_Drawdown_MYR'].fillna(0,inplace=True)\n",
      "C:\\Users\\syahidhalid\\AppData\\Local\\Temp\\4\\ipykernel_6924\\3041795907.py:22: FutureWarning: A value is trying to be set on a copy of a DataFrame or Series through chained assignment using an inplace method.\n",
      "The behavior will change in pandas 3.0. This inplace method will never work because the intermediate object on which we are setting values always behaves as a copy.\n",
      "\n",
      "For example, when doing 'df[col].method(value, inplace=True)', try using 'df.method({col: value}, inplace=True)' or df[col] = df[col].method(value) instead, to perform the operation inplace on the original object.\n",
      "\n",
      "\n",
      "  appendfinal_ldb['Cost_Payment_Principal_Repayment_Facility_Currency'].fillna(0,inplace=True)\n",
      "C:\\Users\\syahidhalid\\AppData\\Local\\Temp\\4\\ipykernel_6924\\3041795907.py:23: FutureWarning: A value is trying to be set on a copy of a DataFrame or Series through chained assignment using an inplace method.\n",
      "The behavior will change in pandas 3.0. This inplace method will never work because the intermediate object on which we are setting values always behaves as a copy.\n",
      "\n",
      "For example, when doing 'df[col].method(value, inplace=True)', try using 'df.method({col: value}, inplace=True)' or df[col] = df[col].method(value) instead, to perform the operation inplace on the original object.\n",
      "\n",
      "\n",
      "  appendfinal_ldb['Cost_Payment_Principal_Repayment_MYR'].fillna(0,inplace=True)\n",
      "C:\\Users\\syahidhalid\\AppData\\Local\\Temp\\4\\ipykernel_6924\\3041795907.py:25: FutureWarning: A value is trying to be set on a copy of a DataFrame or Series through chained assignment using an inplace method.\n",
      "The behavior will change in pandas 3.0. This inplace method will never work because the intermediate object on which we are setting values always behaves as a copy.\n",
      "\n",
      "For example, when doing 'df[col].method(value, inplace=True)', try using 'df.method({col: value}, inplace=True)' or df[col] = df[col].method(value) instead, to perform the operation inplace on the original object.\n",
      "\n",
      "\n",
      "  appendfinal_ldb['Cumulative Disbursement/Drawdown (Facility Currency)'].fillna(0,inplace=True)\n",
      "C:\\Users\\syahidhalid\\AppData\\Local\\Temp\\4\\ipykernel_6924\\3041795907.py:26: FutureWarning: A value is trying to be set on a copy of a DataFrame or Series through chained assignment using an inplace method.\n",
      "The behavior will change in pandas 3.0. This inplace method will never work because the intermediate object on which we are setting values always behaves as a copy.\n",
      "\n",
      "For example, when doing 'df[col].method(value, inplace=True)', try using 'df.method({col: value}, inplace=True)' or df[col] = df[col].method(value) instead, to perform the operation inplace on the original object.\n",
      "\n",
      "\n",
      "  appendfinal_ldb['Cumulative Disbursement/Drawdown (MYR)'].fillna(0,inplace=True)\n",
      "C:\\Users\\syahidhalid\\AppData\\Local\\Temp\\4\\ipykernel_6924\\3041795907.py:27: FutureWarning: A value is trying to be set on a copy of a DataFrame or Series through chained assignment using an inplace method.\n",
      "The behavior will change in pandas 3.0. This inplace method will never work because the intermediate object on which we are setting values always behaves as a copy.\n",
      "\n",
      "For example, when doing 'df[col].method(value, inplace=True)', try using 'df.method({col: value}, inplace=True)' or df[col] = df[col].method(value) instead, to perform the operation inplace on the original object.\n",
      "\n",
      "\n",
      "  appendfinal_ldb['Cumulative Cost Payment/Principal Repayment (Facility Currency)'].fillna(0,inplace=True)\n",
      "C:\\Users\\syahidhalid\\AppData\\Local\\Temp\\4\\ipykernel_6924\\3041795907.py:28: FutureWarning: A value is trying to be set on a copy of a DataFrame or Series through chained assignment using an inplace method.\n",
      "The behavior will change in pandas 3.0. This inplace method will never work because the intermediate object on which we are setting values always behaves as a copy.\n",
      "\n",
      "For example, when doing 'df[col].method(value, inplace=True)', try using 'df.method({col: value}, inplace=True)' or df[col] = df[col].method(value) instead, to perform the operation inplace on the original object.\n",
      "\n",
      "\n",
      "  appendfinal_ldb['Cumulative Cost Payment/Principal Repayment (MYR)'].fillna(0,inplace=True)\n"
     ]
    }
   ],
   "source": [
    "merge['Account'] = merge['Account'].astype(str)\n",
    "\n",
    "LDB_prev['Finance(SAP) Number'] = LDB_prev['Finance(SAP) Number'].astype(str)\n",
    "\n",
    "LDB_prev.columns = LDB_prev.columns.str.replace(\"\\n\", \"\")\n",
    "#LDB_prev.fillna(0, inplace=True)\n",
    "\n",
    "LDB_prev['Cumulative Disbursement/Drawdown (Facility Currency)'].fillna(0,inplace=True)\n",
    "LDB_prev['Cumulative Disbursement/Drawdown (MYR)'].fillna(0,inplace=True)\n",
    "LDB_prev['Cumulative Cost Payment/Principal Repayment (Facility Currency)'].fillna(0,inplace=True) \n",
    "LDB_prev['Cumulative Cost Payment/Principal Repayment (MYR)'].fillna(0,inplace=True)\n",
    "\n",
    "appendfinal_ldb = merge.merge(LDB_prev[['Finance(SAP) Number','EXIM Account No.','CIF Number',\n",
    "                                              'Facility Currency',\n",
    "                                              'Cumulative Disbursement/Drawdown (Facility Currency)',\n",
    "                                              'Cumulative Disbursement/Drawdown (MYR)',\n",
    "                                              'Cumulative Cost Payment/Principal Repayment (Facility Currency)',\n",
    "                                              'Cumulative Cost Payment/Principal Repayment (MYR)']].drop_duplicates('Finance(SAP) Number',keep='first').rename(columns={'Finance(SAP) Number':'Account'}),on=['Account'],how='outer', suffixes=('_x', ''),indicator=True)\n",
    "\n",
    "appendfinal_ldb['Disbursement_Drawdown_Facility_Currency'].fillna(0,inplace=True)\n",
    "appendfinal_ldb['Disbursement_Drawdown_MYR'].fillna(0,inplace=True)\n",
    "appendfinal_ldb['Cost_Payment_Principal_Repayment_Facility_Currency'].fillna(0,inplace=True) \n",
    "appendfinal_ldb['Cost_Payment_Principal_Repayment_MYR'].fillna(0,inplace=True)\n",
    "\n",
    "appendfinal_ldb['Cumulative Disbursement/Drawdown (Facility Currency)'].fillna(0,inplace=True)\n",
    "appendfinal_ldb['Cumulative Disbursement/Drawdown (MYR)'].fillna(0,inplace=True)\n",
    "appendfinal_ldb['Cumulative Cost Payment/Principal Repayment (Facility Currency)'].fillna(0,inplace=True) \n",
    "appendfinal_ldb['Cumulative Cost Payment/Principal Repayment (MYR)'].fillna(0,inplace=True)\n",
    "\n",
    "appendfinal2 = appendfinal_ldb#.fillna(0)\n",
    "\n",
    "appendfinal2['Cumulative Disbursement/Drawdown (Facility Currency) New'] = appendfinal2['Disbursement_Drawdown_Facility_Currency'] +  appendfinal2['Cumulative Disbursement/Drawdown (Facility Currency)'] \n",
    "appendfinal2['Cumulative Disbursement/Drawdown (MYR) New'] = appendfinal2['Disbursement_Drawdown_MYR'] +  appendfinal2['Cumulative Disbursement/Drawdown (MYR)'] \n",
    "\n",
    "appendfinal2['Cumulative Cost Payment/Principal Repayment (Facility Currency) New'] = appendfinal2['Cost_Payment_Principal_Repayment_Facility_Currency'] +  appendfinal2['Cumulative Cost Payment/Principal Repayment (Facility Currency)'] \n",
    "appendfinal2['Cumulative Cost Payment/Principal Repayment (MYR) New'] = appendfinal2['Cost_Payment_Principal_Repayment_MYR'] +  appendfinal2['Cumulative Cost Payment/Principal Repayment (MYR)'] \n",
    "\n",
    "appendfinal2.sort_values('Disbursement_Drawdown_MYR', ascending=False, inplace=True)"
   ]
  },
  {
   "cell_type": "code",
   "execution_count": 10,
   "id": "2f221ae6-1c2c-4e94-a501-d3849bc166e3",
   "metadata": {},
   "outputs": [
    {
     "data": {
      "text/plain": [
       "_merge\n",
       "right_only    251\n",
       "both           76\n",
       "left_only       0\n",
       "Name: count, dtype: int64"
      ]
     },
     "execution_count": 10,
     "metadata": {},
     "output_type": "execute_result"
    }
   ],
   "source": [
    "appendfinal_ldb._merge.value_counts()"
   ]
  },
  {
   "cell_type": "code",
   "execution_count": 11,
   "id": "81fdb692-4a3b-4d1f-9f3a-406e37c97728",
   "metadata": {},
   "outputs": [
    {
     "name": "stdout",
     "output_type": "stream",
     "text": [
      "2255096745.0199995\n",
      "2831079012.4199996\n",
      "1407605740.2385619\n",
      "3128140862.560002\n"
     ]
    }
   ],
   "source": [
    "print(sum(LDB_prev['Cumulative Disbursement/Drawdown (Facility Currency)']))\n",
    "print(sum(LDB_prev['Cumulative Disbursement/Drawdown (MYR)']))\n",
    "print(sum(LDB_prev['Cumulative Cost Payment/Principal Repayment (Facility Currency)']))\n",
    "print(sum(LDB_prev['Cumulative Cost Payment/Principal Repayment (MYR)']))"
   ]
  },
  {
   "cell_type": "code",
   "execution_count": 12,
   "id": "668943a0-f9fd-494a-9756-99d85a30cf29",
   "metadata": {},
   "outputs": [
    {
     "name": "stdout",
     "output_type": "stream",
     "text": [
      "1127548372.5100002\n",
      "1415539506.2099998\n",
      "703802870.1192812\n",
      "1564070431.2800007\n"
     ]
    }
   ],
   "source": [
    "print(sum(appendfinal2['Cumulative Disbursement/Drawdown (Facility Currency)']))\n",
    "print(sum(appendfinal2['Cumulative Disbursement/Drawdown (MYR)']))\n",
    "print(sum(appendfinal2['Cumulative Cost Payment/Principal Repayment (Facility Currency)']))\n",
    "print(sum(appendfinal2['Cumulative Cost Payment/Principal Repayment (MYR)']))"
   ]
  },
  {
   "cell_type": "code",
   "execution_count": 17,
   "id": "2b9d9d14-eccd-4dad-aeb6-8357d265fe88",
   "metadata": {},
   "outputs": [],
   "source": [
    "#appendfinal2.head(1)"
   ]
  },
  {
   "cell_type": "code",
   "execution_count": 13,
   "id": "5127cb1d-61a6-41b6-8170-62826c7c3864",
   "metadata": {
    "scrolled": true
   },
   "outputs": [],
   "source": [
    "appendfinal3 = appendfinal2[['CIF Number','EXIM Account No.','Account',\n",
    "'Curr.',\n",
    "'Facility Currency',\n",
    "'Type_of_Financing',\n",
    "'Disbursement_Drawdown_Facility_Currency',\n",
    "'Disbursement_Drawdown_MYR',\n",
    "'Cumulative Disbursement/Drawdown (Facility Currency) New',\n",
    "'Cumulative Disbursement/Drawdown (MYR) New',\n",
    "'Cost_Payment_Principal_Repayment_Facility_Currency',\n",
    "'Cost_Payment_Principal_Repayment_MYR',\n",
    "'Cumulative Cost Payment/Principal Repayment (Facility Currency) New',\n",
    "'Cumulative Cost Payment/Principal Repayment (MYR) New']]"
   ]
  },
  {
   "cell_type": "code",
   "execution_count": null,
   "id": "f4071dd6-7051-4ec7-81ef-24467a655a03",
   "metadata": {},
   "outputs": [],
   "source": []
  },
  {
   "cell_type": "code",
   "execution_count": 14,
   "id": "1bcc3696-edb8-4db4-82e2-074d726eed36",
   "metadata": {},
   "outputs": [],
   "source": [
    "#appendfinal3.to_excel(str(Location)+'\\\\02. Disbursement & Drawdown '+str(File[-8:])+' (python).xlsx', sheet_name='Export Worksheet', index = False)\n",
    "appendfinal3.to_excel(r'C:\\Users\\syahidhalid\\Syahid_PC\\Analytics - FAD\\00. Automation LDB\\Data Source\\202408\\Working\\02. Disbursement & Drawdown '+str(File[-8:])+' (python).xlsx', sheet_name='Export Worksheet', index = False)\n"
   ]
  },
  {
   "cell_type": "code",
   "execution_count": null,
   "id": "3a1b8e4c-c9ff-4610-8c42-ce65e227908a",
   "metadata": {},
   "outputs": [],
   "source": [
    "#appendfinal_ldb['Account'].value_counts()"
   ]
  },
  {
   "cell_type": "code",
   "execution_count": null,
   "id": "05c76845-9157-48c5-abea-63ce9c484e8f",
   "metadata": {},
   "outputs": [],
   "source": []
  },
  {
   "cell_type": "code",
   "execution_count": null,
   "id": "7377b5de-c1cb-40fc-962b-846bb1546dc6",
   "metadata": {},
   "outputs": [],
   "source": []
  },
  {
   "cell_type": "code",
   "execution_count": null,
   "id": "a1ba4d05-ccde-44a2-b7e8-7ae69f94e783",
   "metadata": {},
   "outputs": [],
   "source": []
  },
  {
   "cell_type": "code",
   "execution_count": null,
   "id": "e06d090a-c483-48b6-b691-5ccdebb62718",
   "metadata": {},
   "outputs": [],
   "source": [
    "str(Location)+'\\\\02. Disbursement & Drawdown '+str(File[-8:])+' (python).xlsx'"
   ]
  },
  {
   "cell_type": "code",
   "execution_count": null,
   "id": "02ef5ebb-4650-4512-9944-a1052f477690",
   "metadata": {},
   "outputs": [],
   "source": [
    "#Location[:-7]"
   ]
  },
  {
   "cell_type": "code",
   "execution_count": null,
   "id": "0d366afb-a59d-4b5c-914c-d8e163ce4d34",
   "metadata": {},
   "outputs": [],
   "source": []
  }
 ],
 "metadata": {
  "kernelspec": {
   "display_name": "Python 3 (ipykernel)",
   "language": "python",
   "name": "python3"
  },
  "language_info": {
   "codemirror_mode": {
    "name": "ipython",
    "version": 3
   },
   "file_extension": ".py",
   "mimetype": "text/x-python",
   "name": "python",
   "nbconvert_exporter": "python",
   "pygments_lexer": "ipython3",
   "version": "3.11.7"
  }
 },
 "nbformat": 4,
 "nbformat_minor": 5
}
