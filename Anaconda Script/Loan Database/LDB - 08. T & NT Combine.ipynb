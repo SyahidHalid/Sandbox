{
 "cells": [
  {
   "cell_type": "code",
   "execution_count": 1,
   "id": "0ff2290c-77ca-4423-8587-02719965f1e1",
   "metadata": {
    "scrolled": true
   },
   "outputs": [],
   "source": [
    "\n",
    "File3 = \"07. Undrawn Non Trade  Aug-24\"\n",
    "File4 = \"07. Undrawn Trade Aug 2024\"\n",
    "\n",
    "#control + F + dropdown new to search bar to find and replace \n",
    "import pandas as pd\n",
    "import numpy as np\n",
    "import xlsxwriter\n",
    "\n",
    "#warnings.filterwarnings('ignore')\n",
    "pd.set_option(\"display.max_columns\", None) \n",
    "pd.set_option(\"display.max_colwidth\", 1000) #huruf dlm column\n",
    "pd.set_option(\"display.max_rows\", 100)\n",
    "pd.set_option(\"display.precision\", 2) #2 titik perpuluhan\n",
    "\n",
    "FILE3 = pd.read_excel(r\"C:\\\\Users\\\\syahidhalid\\Syahid_PC\\Analytics - FAD\\\\00. Automation LDB\\Data Source\\\\202408\\Working\\\\\"+str(File3)+\".xlsx\", sheet_name='Export Worksheet', header=0) # skiprows = 2, nrows=18,  usecols= 'A:D'\n",
    "FILE4 = pd.read_excel(r\"C:\\\\Users\\\\syahidhalid\\Syahid_PC\\Analytics - FAD\\\\00. Automation LDB\\Data Source\\\\202408\\Working\\\\\"+str(File4)+\".xlsx\", sheet_name='Export Worksheet', header=0) # skiprows = 2, nrows=18,  usecols= 'A:D'\n"
   ]
  },
  {
   "cell_type": "code",
   "execution_count": 2,
   "id": "aa5a6254-82b0-4d79-8f94-150347e4028a",
   "metadata": {},
   "outputs": [],
   "source": [
    "#FILE3.head(1)"
   ]
  },
  {
   "cell_type": "code",
   "execution_count": 3,
   "id": "711955f8-1ff1-4164-a335-5781008bf46b",
   "metadata": {},
   "outputs": [],
   "source": [
    "#FILE4.head(1)"
   ]
  },
  {
   "cell_type": "code",
   "execution_count": 4,
   "id": "9ce1582b-c750-45fd-b7d3-93935ba2ae5f",
   "metadata": {},
   "outputs": [],
   "source": [
    "#FILE3_1 = FILE3[['Loan_Acc_','LAF_ECL_FC','LAF_ECL_MYR','CnC_ECL_FC','CnC_ECL_MYR']]\n",
    "#FILE4_1 = FILE4[['Account_No','LAF_ECL_FC','LAF_ECL_MYR','CnC_ECL_FC','CnC_ECL_MYR']]"
   ]
  },
  {
   "cell_type": "code",
   "execution_count": 2,
   "id": "3b495b4a-6826-4e07-8959-f422c3186481",
   "metadata": {},
   "outputs": [],
   "source": [
    "FILE3.columns = FILE4.columns\n",
    "\n",
    "ecl1 = pd.concat([FILE3,FILE4])\n",
    "\n",
    "#ecl2 = ecl1.fillna(0).groupby(['Account_No'])[['LAF_ECL_FC','LAF_ECL_MYR','CnC_ECL_FC','CnC_ECL_MYR']].sum().reset_index()\n"
   ]
  },
  {
   "cell_type": "code",
   "execution_count": 3,
   "id": "e6a78d56-6fbe-4fb2-849d-f18463447463",
   "metadata": {},
   "outputs": [
    {
     "data": {
      "text/plain": [
       "CIF Number                                                object\n",
       "EXIM Account No.                                          object\n",
       "Finance(SAP) Number                                        int64\n",
       "Borrower name                                             object\n",
       "Currency                                                  object\n",
       "Curr                                                     float64\n",
       "Unutilised/ Undrawn Amount (Facility Currency)           float64\n",
       "Unutilised/ Undrawn Amount (MYR)                         float64\n",
       "Average Profit/Interest Rate                             float64\n",
       "First Released Date                               datetime64[ns]\n",
       "Maturity date                                     datetime64[ns]\n",
       "Availability period                               datetime64[ns]\n",
       "DPD                                                        int64\n",
       "Principal payment frequency                               object\n",
       "Interest payment frequency                                object\n",
       "dtype: object"
      ]
     },
     "execution_count": 3,
     "metadata": {},
     "output_type": "execute_result"
    }
   ],
   "source": [
    "ecl1.dtypes"
   ]
  },
  {
   "cell_type": "code",
   "execution_count": 4,
   "id": "e839eb8f-8a87-4c87-87ec-f4c2a77696bd",
   "metadata": {
    "scrolled": true
   },
   "outputs": [
    {
     "data": {
      "text/plain": [
       "EXIM Account No.\n",
       "3308-01137-107-0314-00    1\n",
       "3308-01137-107-0316-00    1\n",
       "3308-01137-107-0305-00    1\n",
       "3308-01137-107-0306-00    1\n",
       "3308-01137-107-0307-00    1\n",
       "                         ..\n",
       "3308-02137-112-0237-00    1\n",
       "3308-02137-112-0248-00    1\n",
       "3308-02137-120-0290-00    1\n",
       "3308-02137-122-0291-00    1\n",
       "3308-01137-121-0284-00    1\n",
       "Name: count, Length: 103, dtype: int64"
      ]
     },
     "execution_count": 4,
     "metadata": {},
     "output_type": "execute_result"
    }
   ],
   "source": [
    "ecl1['EXIM Account No.'].value_counts()"
   ]
  },
  {
   "cell_type": "code",
   "execution_count": 6,
   "id": "4dcaac1a-173a-4b42-aad3-875afbf45925",
   "metadata": {},
   "outputs": [],
   "source": [
    "ecl1.to_excel(r\"C:\\Users\\syahidhalid\\Syahid_PC\\Analytics - FAD\\00. Automation LDB\\Data Source\\202408\\Working\\\\08. Trade & Non Trade Combine.xlsx\", sheet_name=\"Export Worksheet\",index=False)"
   ]
  },
  {
   "cell_type": "code",
   "execution_count": null,
   "id": "4ba6c518-9e1c-4034-861c-434d53081e6a",
   "metadata": {
    "scrolled": true
   },
   "outputs": [],
   "source": []
  },
  {
   "cell_type": "code",
   "execution_count": null,
   "id": "5ae80b8f-e5d0-48e0-816f-03d4ab258abb",
   "metadata": {},
   "outputs": [],
   "source": []
  }
 ],
 "metadata": {
  "kernelspec": {
   "display_name": "Python 3 (ipykernel)",
   "language": "python",
   "name": "python3"
  },
  "language_info": {
   "codemirror_mode": {
    "name": "ipython",
    "version": 3
   },
   "file_extension": ".py",
   "mimetype": "text/x-python",
   "name": "python",
   "nbconvert_exporter": "python",
   "pygments_lexer": "ipython3",
   "version": "3.11.7"
  }
 },
 "nbformat": 4,
 "nbformat_minor": 5
}
